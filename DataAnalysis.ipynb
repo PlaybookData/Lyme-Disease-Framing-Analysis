{
 "cells": [
  {
   "cell_type": "markdown",
   "metadata": {},
   "source": [
    "# Data Analysis"
   ]
  },
  {
   "cell_type": "markdown",
   "metadata": {
    "toc": true
   },
   "source": [
    "<h1>Table of Contents<span class=\"tocSkip\"></span></h1>\n",
    "<div class=\"toc\"><ul class=\"toc-item\"><li><span><a href=\"#Imports-&amp;-Defaults\" data-toc-modified-id=\"Imports-&amp;-Defaults-1\"><span class=\"toc-item-num\">1&nbsp;&nbsp;</span>Imports &amp; Defaults</a></span></li><li><span><a href=\"#Load-Data\" data-toc-modified-id=\"Load-Data-2\"><span class=\"toc-item-num\">2&nbsp;&nbsp;</span>Load Data</a></span></li><li><span><a href=\"#Additional-Cleaning\" data-toc-modified-id=\"Additional-Cleaning-3\"><span class=\"toc-item-num\">3&nbsp;&nbsp;</span>Additional Cleaning</a></span><ul class=\"toc-item\"><li><span><a href=\"#Filter-Duplicates-and-Records-missing-an-Abstract-&amp;-DOI\" data-toc-modified-id=\"Filter-Duplicates-and-Records-missing-an-Abstract-&amp;-DOI-3.1\"><span class=\"toc-item-num\">3.1&nbsp;&nbsp;</span>Filter Duplicates and Records missing an Abstract &amp; DOI</a></span></li><li><span><a href=\"#Clean-Text-(first-pass)\" data-toc-modified-id=\"Clean-Text-(first-pass)-3.2\"><span class=\"toc-item-num\">3.2&nbsp;&nbsp;</span>Clean Text (first pass)</a></span></li><li><span><a href=\"#Normalise-Species-Names\" data-toc-modified-id=\"Normalise-Species-Names-3.3\"><span class=\"toc-item-num\">3.3&nbsp;&nbsp;</span>Normalise Species Names</a></span></li><li><span><a href=\"#Clean-Text-(second-pass)\" data-toc-modified-id=\"Clean-Text-(second-pass)-3.4\"><span class=\"toc-item-num\">3.4&nbsp;&nbsp;</span>Clean Text (second pass)</a></span></li><li><span><a href=\"#Adding-SpaCy-and-NLTK-tokenised-text\" data-toc-modified-id=\"Adding-SpaCy-and-NLTK-tokenised-text-3.5\"><span class=\"toc-item-num\">3.5&nbsp;&nbsp;</span>Adding SpaCy and NLTK tokenised text</a></span></li><li><span><a href=\"#Remove-Stopwords\" data-toc-modified-id=\"Remove-Stopwords-3.6\"><span class=\"toc-item-num\">3.6&nbsp;&nbsp;</span>Remove Stopwords</a></span></li><li><span><a href=\"#Normalisation\" data-toc-modified-id=\"Normalisation-3.7\"><span class=\"toc-item-num\">3.7&nbsp;&nbsp;</span>Normalisation</a></span></li></ul></li><li><span><a href=\"#EDA\" data-toc-modified-id=\"EDA-4\"><span class=\"toc-item-num\">4&nbsp;&nbsp;</span>EDA</a></span><ul class=\"toc-item\"><li><span><a href=\"#Basic-Overview\" data-toc-modified-id=\"Basic-Overview-4.1\"><span class=\"toc-item-num\">4.1&nbsp;&nbsp;</span>Basic Overview</a></span></li><li><span><a href=\"#Abstract-Length\" data-toc-modified-id=\"Abstract-Length-4.2\"><span class=\"toc-item-num\">4.2&nbsp;&nbsp;</span>Abstract Length</a></span></li><li><span><a href=\"#Abstract-Sentiment-Score\" data-toc-modified-id=\"Abstract-Sentiment-Score-4.3\"><span class=\"toc-item-num\">4.3&nbsp;&nbsp;</span>Abstract Sentiment Score</a></span></li><li><span><a href=\"#Sentiment-by-Method\" data-toc-modified-id=\"Sentiment-by-Method-4.4\"><span class=\"toc-item-num\">4.4&nbsp;&nbsp;</span>Sentiment by Method</a></span></li><li><span><a href=\"#Sentiment-by-Method-and-Mention-of-'Chronic'\" data-toc-modified-id=\"Sentiment-by-Method-and-Mention-of-'Chronic'-4.5\"><span class=\"toc-item-num\">4.5&nbsp;&nbsp;</span>Sentiment by Method and Mention of 'Chronic'</a></span></li></ul></li><li><span><a href=\"#Sandbox\" data-toc-modified-id=\"Sandbox-5\"><span class=\"toc-item-num\">5&nbsp;&nbsp;</span>Sandbox</a></span><ul class=\"toc-item\"><li><span><a href=\"#Emotions\" data-toc-modified-id=\"Emotions-5.1\"><span class=\"toc-item-num\">5.1&nbsp;&nbsp;</span>Emotions</a></span></li><li><span><a href=\"#Plutchik-Wheel\" data-toc-modified-id=\"Plutchik-Wheel-5.2\"><span class=\"toc-item-num\">5.2&nbsp;&nbsp;</span>Plutchik Wheel</a></span></li></ul></li></ul></div>"
   ]
  },
  {
   "cell_type": "markdown",
   "metadata": {},
   "source": [
    "## Imports & Defaults"
   ]
  },
  {
   "cell_type": "code",
   "execution_count": 1,
   "metadata": {
    "ExecuteTime": {
     "end_time": "2021-10-01T23:50:54.900628Z",
     "start_time": "2021-10-01T23:50:54.898491Z"
    }
   },
   "outputs": [],
   "source": [
    "#pip install pyplutchik\n",
    "#pip install text2emotion\n",
    "#pip install NRCLex"
   ]
  },
  {
   "cell_type": "code",
   "execution_count": 42,
   "metadata": {
    "ExecuteTime": {
     "end_time": "2021-10-02T00:11:34.212025Z",
     "start_time": "2021-10-02T00:11:34.209236Z"
    }
   },
   "outputs": [],
   "source": [
    "# Basics\n",
    "import numpy as np \n",
    "import pandas as pd \n",
    "\n",
    "#String cleaning and processing\n",
    "import re\n",
    "import string"
   ]
  },
  {
   "cell_type": "code",
   "execution_count": 609,
   "metadata": {
    "ExecuteTime": {
     "end_time": "2021-10-03T01:58:20.290939Z",
     "start_time": "2021-10-03T01:58:03.188578Z"
    }
   },
   "outputs": [],
   "source": [
    "# Natural Language Processing\n",
    "\n",
    "#Natural Language Toolkit\n",
    "import nltk\n",
    "from nltk.corpus import stopwords\n",
    "\n",
    "# TextBlob\n",
    "from textblob.sentiments import NaiveBayesAnalyzer, PatternAnalyzer\n",
    "from textblob import Blobber\n",
    "from textblob import TextBlob, Word\n",
    "\n",
    "#Flair\n",
    "from flair.models import TextClassifier\n",
    "from flair.data import Sentence\n",
    "\n",
    "#SpaCy\n",
    "import spacy\n",
    "import en_core_web_sm\n",
    "#using small Spacy model\n",
    "nlp = spacy.load('en_core_web_sm')\n",
    "nlp_md = spacy.load('en_core_web_md')\n",
    "from spacy.matcher import Matcher \n",
    "\n",
    "#Text2Emotion\n",
    "import text2emotion as te\n",
    "\n",
    "#NRCLex - for measuring emotion\n",
    "from nrclex import NRCLex"
   ]
  },
  {
   "cell_type": "code",
   "execution_count": 17,
   "metadata": {
    "ExecuteTime": {
     "end_time": "2021-10-01T23:51:46.722137Z",
     "start_time": "2021-10-01T23:51:46.715025Z"
    }
   },
   "outputs": [],
   "source": [
    "# Visualisation\n",
    "import seaborn as sns\n",
    "import matplotlib.pyplot as plt\n",
    "from pylab import rcParams\n",
    "\n",
    "# import matplotlib.patches as mpatches\n",
    "# import plotly.express as px\n",
    "\n",
    "%matplotlib inline\n",
    "rcParams['figure.figsize'] = 15, 10\n",
    "rcParams['axes.titlesize'] = 20\n",
    "rcParams['axes.labelsize'] = 'large'\n",
    "rcParams['xtick.labelsize'] = 10\n",
    "rcParams['ytick.labelsize'] = 10\n",
    "rcParams['lines.linewidth'] = 2\n",
    "rcParams['font.size'] = 18\n",
    "\n",
    "#Visualising Plutchik Model of Emotions\n",
    "from pyplutchik import plutchik"
   ]
  },
  {
   "cell_type": "code",
   "execution_count": 5,
   "metadata": {
    "ExecuteTime": {
     "end_time": "2021-10-01T23:51:12.471330Z",
     "start_time": "2021-10-01T23:51:12.468153Z"
    }
   },
   "outputs": [],
   "source": [
    "#Unused\n",
    "\n",
    "# import random\n",
    "\n",
    "\n",
    "# from collections import Counter\n",
    "# from PIL import Image\n",
    "# from wordcloud import WordCloud, STOPWORDS, ImageColorGenerator\n",
    "\n",
    "# from tqdm import tqdm\n",
    "# import os\n",
    "# import sys\n",
    "# import xml.etree.ElementTree as et\n",
    "# pd.options.mode.chained_assignment = None"
   ]
  },
  {
   "cell_type": "markdown",
   "metadata": {},
   "source": [
    "## Load Data"
   ]
  },
  {
   "cell_type": "code",
   "execution_count": 6,
   "metadata": {
    "ExecuteTime": {
     "end_time": "2021-10-01T23:51:12.613842Z",
     "start_time": "2021-10-01T23:51:12.496875Z"
    }
   },
   "outputs": [],
   "source": [
    "LymeDisease = pd.read_csv('pubmedFiltered.csv', index_col=0)"
   ]
  },
  {
   "cell_type": "code",
   "execution_count": 7,
   "metadata": {
    "ExecuteTime": {
     "end_time": "2021-10-01T23:51:12.722216Z",
     "start_time": "2021-10-01T23:51:12.691995Z"
    }
   },
   "outputs": [
    {
     "data": {
      "text/html": [
       "<div>\n",
       "<style scoped>\n",
       "    .dataframe tbody tr th:only-of-type {\n",
       "        vertical-align: middle;\n",
       "    }\n",
       "\n",
       "    .dataframe tbody tr th {\n",
       "        vertical-align: top;\n",
       "    }\n",
       "\n",
       "    .dataframe thead th {\n",
       "        text-align: right;\n",
       "    }\n",
       "</style>\n",
       "<table border=\"1\" class=\"dataframe\">\n",
       "  <thead>\n",
       "    <tr style=\"text-align: right;\">\n",
       "      <th></th>\n",
       "      <th>publication</th>\n",
       "      <th>title</th>\n",
       "      <th>authors</th>\n",
       "      <th>doi</th>\n",
       "      <th>year</th>\n",
       "      <th>cites</th>\n",
       "      <th>type</th>\n",
       "      <th>abstract</th>\n",
       "      <th>article_url</th>\n",
       "      <th>fulltext_url</th>\n",
       "      <th>abstractLength</th>\n",
       "      <th>pubmed</th>\n",
       "    </tr>\n",
       "  </thead>\n",
       "  <tbody>\n",
       "    <tr>\n",
       "      <th>0</th>\n",
       "      <td>Ticks and tick-borne diseases</td>\n",
       "      <td>The range of Ixodes ricinus and the risk of co...</td>\n",
       "      <td>[{'name': 'Thomas G T Jaenson', 'affiliation':...</td>\n",
       "      <td>10.1016/j.ttbdis.2010.10.006</td>\n",
       "      <td>2011.0</td>\n",
       "      <td>0</td>\n",
       "      <td>Journal Article</td>\n",
       "      <td>In Sweden, the geographical distribution of Ly...</td>\n",
       "      <td>NaN</td>\n",
       "      <td>NaN</td>\n",
       "      <td>1370.0</td>\n",
       "      <td>1</td>\n",
       "    </tr>\n",
       "    <tr>\n",
       "      <th>1</th>\n",
       "      <td>Ticks and tick-borne diseases</td>\n",
       "      <td>Low-density microarrays for the detection of B...</td>\n",
       "      <td>[{'name': 'Julie A Houck', 'affiliation': 'Dep...</td>\n",
       "      <td>10.1016/j.ttbdis.2010.10.002</td>\n",
       "      <td>2011.0</td>\n",
       "      <td>0</td>\n",
       "      <td>Journal Article</td>\n",
       "      <td>Lyme disease is the most common tick-borne dis...</td>\n",
       "      <td>NaN</td>\n",
       "      <td>NaN</td>\n",
       "      <td>932.0</td>\n",
       "      <td>1</td>\n",
       "    </tr>\n",
       "    <tr>\n",
       "      <th>2</th>\n",
       "      <td>Ticks and tick-borne diseases</td>\n",
       "      <td>Infectivity of Borrelia burgdorferi sensu lato...</td>\n",
       "      <td>[{'name': 'N D van Burgel', 'affiliation': 'De...</td>\n",
       "      <td>10.1016/j.ttbdis.2010.10.003</td>\n",
       "      <td>2011.0</td>\n",
       "      <td>0</td>\n",
       "      <td>Journal Article</td>\n",
       "      <td>B. burgdorferi, B. afzelii, and B. bavariensis...</td>\n",
       "      <td>NaN</td>\n",
       "      <td>NaN</td>\n",
       "      <td>1428.0</td>\n",
       "      <td>1</td>\n",
       "    </tr>\n",
       "    <tr>\n",
       "      <th>4</th>\n",
       "      <td>Ticks and tick-borne diseases</td>\n",
       "      <td>Borrelia species in Ixodes affinis and Ixodes ...</td>\n",
       "      <td>[{'name': 'Ricardo G Maggi', 'affiliation': 'I...</td>\n",
       "      <td>10.1016/j.ttbdis.2010.08.003</td>\n",
       "      <td>2010.0</td>\n",
       "      <td>0</td>\n",
       "      <td>Journal Article</td>\n",
       "      <td>Ixodes affinis and I. scapularis are tick spec...</td>\n",
       "      <td>NaN</td>\n",
       "      <td>NaN</td>\n",
       "      <td>1576.0</td>\n",
       "      <td>1</td>\n",
       "    </tr>\n",
       "    <tr>\n",
       "      <th>5</th>\n",
       "      <td>Ticks and tick-borne diseases</td>\n",
       "      <td>Are birds reservoir hosts for Borrelia afzelii?</td>\n",
       "      <td>[{'name': 'Jan Franke', 'affiliation': 'Instit...</td>\n",
       "      <td>10.1016/j.ttbdis.2010.03.001</td>\n",
       "      <td>2010.0</td>\n",
       "      <td>0</td>\n",
       "      <td>Journal Article</td>\n",
       "      <td>It is known that birds are competent reservoir...</td>\n",
       "      <td>NaN</td>\n",
       "      <td>NaN</td>\n",
       "      <td>783.0</td>\n",
       "      <td>1</td>\n",
       "    </tr>\n",
       "    <tr>\n",
       "      <th>...</th>\n",
       "      <td>...</td>\n",
       "      <td>...</td>\n",
       "      <td>...</td>\n",
       "      <td>...</td>\n",
       "      <td>...</td>\n",
       "      <td>...</td>\n",
       "      <td>...</td>\n",
       "      <td>...</td>\n",
       "      <td>...</td>\n",
       "      <td>...</td>\n",
       "      <td>...</td>\n",
       "      <td>...</td>\n",
       "    </tr>\n",
       "    <tr>\n",
       "      <th>4488</th>\n",
       "      <td>Trends in cardiovascular medicine</td>\n",
       "      <td>Chagas' cardiomyopathy and Lyme carditis: Less...</td>\n",
       "      <td>[{'name': 'Cynthia Yeung', 'affiliation': \"Dep...</td>\n",
       "      <td>10.1016/j.tcm.2020.04.004</td>\n",
       "      <td>2021.0</td>\n",
       "      <td>0</td>\n",
       "      <td>Journal Article</td>\n",
       "      <td>Chagas' disease and Lyme disease are two endem...</td>\n",
       "      <td>NaN</td>\n",
       "      <td>NaN</td>\n",
       "      <td>913.0</td>\n",
       "      <td>1</td>\n",
       "    </tr>\n",
       "    <tr>\n",
       "      <th>4489</th>\n",
       "      <td>Journal of medical entomology</td>\n",
       "      <td>Barriers to Effective Tick Management and Tick...</td>\n",
       "      <td>[{'name': 'Lars Eisen', 'affiliation': 'Divisi...</td>\n",
       "      <td>10.1093/jme/tjaa079</td>\n",
       "      <td>2021.0</td>\n",
       "      <td>0</td>\n",
       "      <td>Journal Article</td>\n",
       "      <td>Lyme and other tick-borne diseases are increas...</td>\n",
       "      <td>NaN</td>\n",
       "      <td>NaN</td>\n",
       "      <td>1750.0</td>\n",
       "      <td>1</td>\n",
       "    </tr>\n",
       "    <tr>\n",
       "      <th>4494</th>\n",
       "      <td>Medicina clinica</td>\n",
       "      <td>Erythema migrans.</td>\n",
       "      <td>[{'name': 'Fernando García-Souto', 'affiliatio...</td>\n",
       "      <td>10.1016/j.medcli.2019.10.001</td>\n",
       "      <td>2021.0</td>\n",
       "      <td>0</td>\n",
       "      <td>Journal Article</td>\n",
       "      <td>NaN</td>\n",
       "      <td>NaN</td>\n",
       "      <td>NaN</td>\n",
       "      <td>NaN</td>\n",
       "      <td>1</td>\n",
       "    </tr>\n",
       "    <tr>\n",
       "      <th>4495</th>\n",
       "      <td>Acta clinica Belgica</td>\n",
       "      <td>Lyme disease in Western Europe: an emerging pr...</td>\n",
       "      <td>[{'name': 'Olivia Vandekerckhove', 'affiliatio...</td>\n",
       "      <td>10.1080/17843286.2019.1694293</td>\n",
       "      <td>2021.0</td>\n",
       "      <td>0</td>\n",
       "      <td>Journal Article</td>\n",
       "      <td>Objectives: Lyme borreliosis is the most commo...</td>\n",
       "      <td>NaN</td>\n",
       "      <td>NaN</td>\n",
       "      <td>1684.0</td>\n",
       "      <td>1</td>\n",
       "    </tr>\n",
       "    <tr>\n",
       "      <th>4496</th>\n",
       "      <td>Clinical journal of sport medicine</td>\n",
       "      <td>Incidence and Prevalence of Borrelia burgdorfe...</td>\n",
       "      <td>[{'name': 'Philipp Breitbart', 'affiliation': ...</td>\n",
       "      <td>10.1097/JSM.0000000000000758</td>\n",
       "      <td>2021.0</td>\n",
       "      <td>0</td>\n",
       "      <td>Journal Article</td>\n",
       "      <td>Infections with Borrelia burgdorferi can cause...</td>\n",
       "      <td>NaN</td>\n",
       "      <td>NaN</td>\n",
       "      <td>1689.0</td>\n",
       "      <td>1</td>\n",
       "    </tr>\n",
       "  </tbody>\n",
       "</table>\n",
       "<p>3300 rows × 12 columns</p>\n",
       "</div>"
      ],
      "text/plain": [
       "                             publication  \\\n",
       "0          Ticks and tick-borne diseases   \n",
       "1          Ticks and tick-borne diseases   \n",
       "2          Ticks and tick-borne diseases   \n",
       "4          Ticks and tick-borne diseases   \n",
       "5          Ticks and tick-borne diseases   \n",
       "...                                  ...   \n",
       "4488   Trends in cardiovascular medicine   \n",
       "4489       Journal of medical entomology   \n",
       "4494                    Medicina clinica   \n",
       "4495                Acta clinica Belgica   \n",
       "4496  Clinical journal of sport medicine   \n",
       "\n",
       "                                                  title  \\\n",
       "0     The range of Ixodes ricinus and the risk of co...   \n",
       "1     Low-density microarrays for the detection of B...   \n",
       "2     Infectivity of Borrelia burgdorferi sensu lato...   \n",
       "4     Borrelia species in Ixodes affinis and Ixodes ...   \n",
       "5       Are birds reservoir hosts for Borrelia afzelii?   \n",
       "...                                                 ...   \n",
       "4488  Chagas' cardiomyopathy and Lyme carditis: Less...   \n",
       "4489  Barriers to Effective Tick Management and Tick...   \n",
       "4494                                  Erythema migrans.   \n",
       "4495  Lyme disease in Western Europe: an emerging pr...   \n",
       "4496  Incidence and Prevalence of Borrelia burgdorfe...   \n",
       "\n",
       "                                                authors  \\\n",
       "0     [{'name': 'Thomas G T Jaenson', 'affiliation':...   \n",
       "1     [{'name': 'Julie A Houck', 'affiliation': 'Dep...   \n",
       "2     [{'name': 'N D van Burgel', 'affiliation': 'De...   \n",
       "4     [{'name': 'Ricardo G Maggi', 'affiliation': 'I...   \n",
       "5     [{'name': 'Jan Franke', 'affiliation': 'Instit...   \n",
       "...                                                 ...   \n",
       "4488  [{'name': 'Cynthia Yeung', 'affiliation': \"Dep...   \n",
       "4489  [{'name': 'Lars Eisen', 'affiliation': 'Divisi...   \n",
       "4494  [{'name': 'Fernando García-Souto', 'affiliatio...   \n",
       "4495  [{'name': 'Olivia Vandekerckhove', 'affiliatio...   \n",
       "4496  [{'name': 'Philipp Breitbart', 'affiliation': ...   \n",
       "\n",
       "                                doi    year  cites             type  \\\n",
       "0      10.1016/j.ttbdis.2010.10.006  2011.0      0  Journal Article   \n",
       "1      10.1016/j.ttbdis.2010.10.002  2011.0      0  Journal Article   \n",
       "2      10.1016/j.ttbdis.2010.10.003  2011.0      0  Journal Article   \n",
       "4      10.1016/j.ttbdis.2010.08.003  2010.0      0  Journal Article   \n",
       "5      10.1016/j.ttbdis.2010.03.001  2010.0      0  Journal Article   \n",
       "...                             ...     ...    ...              ...   \n",
       "4488      10.1016/j.tcm.2020.04.004  2021.0      0  Journal Article   \n",
       "4489            10.1093/jme/tjaa079  2021.0      0  Journal Article   \n",
       "4494   10.1016/j.medcli.2019.10.001  2021.0      0  Journal Article   \n",
       "4495  10.1080/17843286.2019.1694293  2021.0      0  Journal Article   \n",
       "4496   10.1097/JSM.0000000000000758  2021.0      0  Journal Article   \n",
       "\n",
       "                                               abstract  article_url  \\\n",
       "0     In Sweden, the geographical distribution of Ly...          NaN   \n",
       "1     Lyme disease is the most common tick-borne dis...          NaN   \n",
       "2     B. burgdorferi, B. afzelii, and B. bavariensis...          NaN   \n",
       "4     Ixodes affinis and I. scapularis are tick spec...          NaN   \n",
       "5     It is known that birds are competent reservoir...          NaN   \n",
       "...                                                 ...          ...   \n",
       "4488  Chagas' disease and Lyme disease are two endem...          NaN   \n",
       "4489  Lyme and other tick-borne diseases are increas...          NaN   \n",
       "4494                                                NaN          NaN   \n",
       "4495  Objectives: Lyme borreliosis is the most commo...          NaN   \n",
       "4496  Infections with Borrelia burgdorferi can cause...          NaN   \n",
       "\n",
       "      fulltext_url  abstractLength  pubmed  \n",
       "0              NaN          1370.0       1  \n",
       "1              NaN           932.0       1  \n",
       "2              NaN          1428.0       1  \n",
       "4              NaN          1576.0       1  \n",
       "5              NaN           783.0       1  \n",
       "...            ...             ...     ...  \n",
       "4488           NaN           913.0       1  \n",
       "4489           NaN          1750.0       1  \n",
       "4494           NaN             NaN       1  \n",
       "4495           NaN          1684.0       1  \n",
       "4496           NaN          1689.0       1  \n",
       "\n",
       "[3300 rows x 12 columns]"
      ]
     },
     "execution_count": 7,
     "metadata": {},
     "output_type": "execute_result"
    }
   ],
   "source": [
    "LymeDisease"
   ]
  },
  {
   "cell_type": "code",
   "execution_count": 8,
   "metadata": {
    "ExecuteTime": {
     "end_time": "2021-10-01T23:51:12.807715Z",
     "start_time": "2021-10-01T23:51:12.795439Z"
    }
   },
   "outputs": [
    {
     "name": "stdout",
     "output_type": "stream",
     "text": [
      "<class 'pandas.core.frame.DataFrame'>\n",
      "Int64Index: 3300 entries, 0 to 4496\n",
      "Data columns (total 12 columns):\n",
      " #   Column          Non-Null Count  Dtype  \n",
      "---  ------          --------------  -----  \n",
      " 0   publication     3300 non-null   object \n",
      " 1   title           3299 non-null   object \n",
      " 2   authors         3287 non-null   object \n",
      " 3   doi             3159 non-null   object \n",
      " 4   year            3297 non-null   float64\n",
      " 5   cites           3300 non-null   int64  \n",
      " 6   type            3300 non-null   object \n",
      " 7   abstract        3162 non-null   object \n",
      " 8   article_url     0 non-null      float64\n",
      " 9   fulltext_url    0 non-null      float64\n",
      " 10  abstractLength  3162 non-null   float64\n",
      " 11  pubmed          3300 non-null   int64  \n",
      "dtypes: float64(4), int64(2), object(6)\n",
      "memory usage: 335.2+ KB\n"
     ]
    }
   ],
   "source": [
    "LymeDisease.info()"
   ]
  },
  {
   "cell_type": "code",
   "execution_count": 19,
   "metadata": {
    "ExecuteTime": {
     "end_time": "2021-10-01T23:54:39.301973Z",
     "start_time": "2021-10-01T23:54:39.297179Z"
    }
   },
   "outputs": [
    {
     "data": {
      "text/plain": [
       "'Lyme disease is the most common tick-borne disease in Europe and North America. In the hyperendemic Lyme disease regions of the eastern United States, nymphal Ixodes scapularis are the principal ticks transmitting the Lyme disease spirochete, Borrelia burgdorferi sensu stricto (s.s.). Approximately 25% of questing nymphs in endemic regions are infected with spirochetes. High throughput-sensitive and specific methods for testing nymphal I. scapularis for infection with B. burgdorferi are clearly needed. In the current study, we evaluated whether low-density microarrays could be adapted for the rapid and accurate detection and characterization of spirochetes in nymphal I. scapularis. Three different microarray platforms were developed and tested for the detection of spirochetes in ticks. They could both detect and differentiate different Borrelia genospecies, in one case detecting as few as a single copy of Borrelia DNA.'"
      ]
     },
     "execution_count": 19,
     "metadata": {},
     "output_type": "execute_result"
    }
   ],
   "source": [
    "text = LymeDisease.loc[1]['abstract']\n",
    "text"
   ]
  },
  {
   "cell_type": "markdown",
   "metadata": {},
   "source": [
    "## Additional Cleaning"
   ]
  },
  {
   "cell_type": "markdown",
   "metadata": {},
   "source": [
    "### Filter Duplicates and Records missing an Abstract & DOI"
   ]
  },
  {
   "cell_type": "code",
   "execution_count": 9,
   "metadata": {
    "ExecuteTime": {
     "end_time": "2021-10-01T23:51:12.886444Z",
     "start_time": "2021-10-01T23:51:12.879248Z"
    }
   },
   "outputs": [],
   "source": [
    "LymeDisease = LymeDisease[(LymeDisease.abstract.notna() & LymeDisease.doi.notna() )]"
   ]
  },
  {
   "cell_type": "code",
   "execution_count": 10,
   "metadata": {
    "ExecuteTime": {
     "end_time": "2021-10-01T23:51:13.001952Z",
     "start_time": "2021-10-01T23:51:12.973326Z"
    }
   },
   "outputs": [
    {
     "name": "stderr",
     "output_type": "stream",
     "text": [
      "/Users/myfriendscallmej/anaconda3/lib/python3.7/site-packages/ipykernel_launcher.py:1: SettingWithCopyWarning: \n",
      "A value is trying to be set on a copy of a slice from a DataFrame\n",
      "\n",
      "See the caveats in the documentation: https://pandas.pydata.org/pandas-docs/stable/user_guide/indexing.html#returning-a-view-versus-a-copy\n",
      "  \"\"\"Entry point for launching an IPython kernel.\n"
     ]
    }
   ],
   "source": [
    "LymeDisease.drop_duplicates(inplace=True)"
   ]
  },
  {
   "cell_type": "code",
   "execution_count": 32,
   "metadata": {
    "ExecuteTime": {
     "end_time": "2021-10-02T00:04:24.182853Z",
     "start_time": "2021-10-02T00:04:24.179290Z"
    }
   },
   "outputs": [],
   "source": [
    "LymeDisease.reset_index(inplace=True)"
   ]
  },
  {
   "cell_type": "markdown",
   "metadata": {},
   "source": [
    "### Clean Text (first pass)"
   ]
  },
  {
   "cell_type": "code",
   "execution_count": 607,
   "metadata": {
    "ExecuteTime": {
     "end_time": "2021-10-03T01:56:32.524168Z",
     "start_time": "2021-10-03T01:56:32.519250Z"
    }
   },
   "outputs": [],
   "source": [
    "def clean_text(text):\n",
    "#     text = str(text).lower() #make lower\n",
    "#     text = re.sub('https?://\\S+|www\\.\\S+', '', text) #remove links\n",
    "    text = re.sub('<.*?>', '', text) #remove rmaining html tags\n",
    "    text = re.sub('\\u2009', ' ', text) #remove unicde charcter for thin space\n",
    "#     text = re.sub(\"[^-9A-Za-z ]\", '' , text) #remove double quotation and any punctuation\n",
    "#     text = re.sub('\\w*\\d\\w*', '', text) #remove numbers\n",
    "    text = re.sub('-', ' ', text) #replace hyphen with space\n",
    "    text = re.sub(' +', ' ', text) #remove extra whitespace\n",
    "    \n",
    "    #\n",
    "    text = re.sub('spp.', 'spp', text)\n",
    "    text = re.sub('sp.', 'sp', text)\n",
    "    text = re.sub('cf.', 'cf', text)\n",
    "    text = re.sub('aff.', 'aff', text)\n",
    "    text = re.sub('var.', 'var', text)\n",
    "    return text"
   ]
  },
  {
   "cell_type": "code",
   "execution_count": 608,
   "metadata": {
    "ExecuteTime": {
     "end_time": "2021-10-03T01:56:35.820662Z",
     "start_time": "2021-10-03T01:56:35.536949Z"
    }
   },
   "outputs": [
    {
     "name": "stderr",
     "output_type": "stream",
     "text": [
      "/Users/myfriendscallmej/anaconda3/lib/python3.7/site-packages/ipykernel_launcher.py:1: SettingWithCopyWarning: \n",
      "A value is trying to be set on a copy of a slice from a DataFrame.\n",
      "Try using .loc[row_indexer,col_indexer] = value instead\n",
      "\n",
      "See the caveats in the documentation: https://pandas.pydata.org/pandas-docs/stable/user_guide/indexing.html#returning-a-view-versus-a-copy\n",
      "  \"\"\"Entry point for launching an IPython kernel.\n"
     ]
    }
   ],
   "source": [
    "LymeDisease['clean_text'] = LymeDisease['abstract'].apply(clean_text)"
   ]
  },
  {
   "cell_type": "markdown",
   "metadata": {},
   "source": [
    "### Normalise Species Names"
   ]
  },
  {
   "cell_type": "markdown",
   "metadata": {},
   "source": [
    "Species names can appear in an inconsistent formats. *Genus species, G. species, G. species sub species, G. species s. s.* etc so normalising them may give a better picture of common words and n-grams. The function below finds the abbreviated forms of species names (normally a second mention) and then matches with a preceeding full name earlier in the text and then converts both the abbreviated and full mention to camel case GenusSpecies. It so far does not cath all of them but has picked up over 100 variations and can be further refined."
   ]
  },
  {
   "cell_type": "code",
   "execution_count": 594,
   "metadata": {
    "ExecuteTime": {
     "end_time": "2021-10-02T23:32:44.456408Z",
     "start_time": "2021-10-02T23:32:44.438269Z"
    }
   },
   "outputs": [],
   "source": [
    "def normaliseSpeciesNames(text):\n",
    "\n",
    "    speciesShortName =''\n",
    "    speciesShortNamesList = []\n",
    "    speciesShortNameTokens = []\n",
    "    speciesShortNameTokensList = []\n",
    "    speciesFullNameList = []\n",
    "    camelCaseList = []\n",
    "    replaceDict = {}\n",
    "    \n",
    "    doc = nlp(text) #tokenise with SpaCy\n",
    "    \n",
    "    for token in doc[:-1]:\n",
    "        if token.shape_ == 'X.':\n",
    "            speciesShortName = speciesShortName + str(token)\n",
    "            speciesShortNameTokens.append(token)\n",
    "            j=1        \n",
    "            while (doc[token.i+j].shape_ == 'x.' or\n",
    "                   (doc[token.i+j].is_alpha and \n",
    "                    doc[token.i+j].is_stop==False and #not a stopword\n",
    "                    doc[token.i+j].is_oov and #not in SpaCy vocab\n",
    "                    doc[token.i+j].lemma_ == doc[token.i+j].text and #is already in lemmatised form\n",
    "                    doc[token.i+j].text not in nltk.corpus.words.words())): #not in NLTK vocab\n",
    "                speciesShortName += ' ' + str(doc[token.i+j])\n",
    "                speciesShortNameTokens.append(doc[token.i+j])\n",
    "                j+=1\n",
    "                if token.i+j >= len(doc): \n",
    "                    break\n",
    "#                 print(speciesShortName)\n",
    "            if (len(speciesShortNameTokens)>1 and speciesShortName not in speciesShortNamesList):\n",
    "                speciesShortNamesList.append(speciesShortName)\n",
    "                speciesShortNameTokensList.append(speciesShortNameTokens)\n",
    "                \n",
    "                #SpaCy process for pattern matching\n",
    "                matcher = Matcher(nlp.vocab)\n",
    "                letter = \"^\" + speciesShortNameTokens[0].text[0]\n",
    "                pattern = [{\"SHAPE\": \"Xxxxx\", \"TEXT\": {\"REGEX\": letter}}] #find capitalised word beginning with correct letter\n",
    "                for tkn in speciesShortNameTokens[1:]:\n",
    "                    if tkn.shape_ =='x.':\n",
    "                        letter = \"^\" + tkn.text[0]\n",
    "                        pattern.append({\"SHAPE\": \"xxxx\", \"TEXT\": {\"REGEX\": letter}}) #find non-capitalised word beginning with correct letter\n",
    "                    else:\n",
    "                        pattern.append({\"TEXT\": tkn.text})\n",
    "                matcher.add(\"Species_Pattern\", [pattern])\n",
    "                matches = matcher(doc)\n",
    "                if len(matches)>0:\n",
    "                    start = matches[0][1]\n",
    "                    end =  matches[0][2]\n",
    "                    matched_span = doc[start:end]\n",
    "                    speciesFullNameList.append(matched_span.text)\n",
    "            speciesShortName=''\n",
    "            speciesShortNameTokens=[]\n",
    "\n",
    "    for name in speciesFullNameList:\n",
    "        camel = ''.join(word.capitalize() for word in name.split(' '))\n",
    "        camelCaseList.append(camel)\n",
    "    \n",
    "    for short, long, camel in zip(speciesShortNamesList, speciesFullNameList, camelCaseList):\n",
    "        replaceDict[short] = camel\n",
    "        replaceDict[long] = camel\n",
    "        namesDict[long]=camel\n",
    "        \n",
    "#     for short, long in zip(speciesShortNamesList, speciesFullNameList):\n",
    "#         print(short,long)\n",
    "          \n",
    "    #sort dictionary of words to replace by length so longest names are changed first\n",
    "    sortedKeyList = sorted(replaceDict.keys(), key=lambda s: len(replaceDict.get(s)), reverse = True)\n",
    "\n",
    "    for index in range(len(sortedKeyList)):\n",
    "        text = re.sub(sortedKeyList[index], replaceDict[sortedKeyList[index]], text)\n",
    "    \n",
    "    return text"
   ]
  },
  {
   "cell_type": "code",
   "execution_count": 595,
   "metadata": {
    "ExecuteTime": {
     "end_time": "2021-10-02T23:32:45.769497Z",
     "start_time": "2021-10-02T23:32:45.766955Z"
    }
   },
   "outputs": [],
   "source": [
    "#global variable to collect names \n",
    "namesDict = {}"
   ]
  },
  {
   "cell_type": "code",
   "execution_count": 612,
   "metadata": {
    "ExecuteTime": {
     "end_time": "2021-10-03T02:23:22.085403Z",
     "start_time": "2021-10-03T02:11:07.168047Z"
    }
   },
   "outputs": [
    {
     "name": "stderr",
     "output_type": "stream",
     "text": [
      "/Users/myfriendscallmej/anaconda3/lib/python3.7/site-packages/ipykernel_launcher.py:1: SettingWithCopyWarning: \n",
      "A value is trying to be set on a copy of a slice from a DataFrame.\n",
      "Try using .loc[row_indexer,col_indexer] = value instead\n",
      "\n",
      "See the caveats in the documentation: https://pandas.pydata.org/pandas-docs/stable/user_guide/indexing.html#returning-a-view-versus-a-copy\n",
      "  \"\"\"Entry point for launching an IPython kernel.\n"
     ]
    }
   ],
   "source": [
    "LymeDisease['clean_abstract'] = LymeDisease['clean_text'].apply(normaliseSpeciesNames)"
   ]
  },
  {
   "cell_type": "code",
   "execution_count": 631,
   "metadata": {
    "ExecuteTime": {
     "end_time": "2021-10-03T03:42:44.613276Z",
     "start_time": "2021-10-03T03:42:44.601023Z"
    }
   },
   "outputs": [
    {
     "name": "stdout",
     "output_type": "stream",
     "text": [
      "<class 'pandas.core.frame.DataFrame'>\n",
      "RangeIndex: 2720 entries, 0 to 2719\n",
      "Data columns (total 15 columns):\n",
      " #   Column          Non-Null Count  Dtype  \n",
      "---  ------          --------------  -----  \n",
      " 0   index           2720 non-null   int64  \n",
      " 1   publication     2720 non-null   object \n",
      " 2   title           2720 non-null   object \n",
      " 3   authors         2717 non-null   object \n",
      " 4   doi             2720 non-null   object \n",
      " 5   year            2720 non-null   float64\n",
      " 6   cites           2720 non-null   int64  \n",
      " 7   type            2720 non-null   object \n",
      " 8   abstract        2720 non-null   object \n",
      " 9   article_url     0 non-null      float64\n",
      " 10  fulltext_url    0 non-null      float64\n",
      " 11  abstractLength  2720 non-null   float64\n",
      " 12  pubmed          2720 non-null   int64  \n",
      " 13  clean_text      2720 non-null   object \n",
      " 14  clean_abstract  2720 non-null   object \n",
      "dtypes: float64(4), int64(3), object(8)\n",
      "memory usage: 318.9+ KB\n"
     ]
    }
   ],
   "source": [
    "LymeDisease.info()"
   ]
  },
  {
   "cell_type": "code",
   "execution_count": 614,
   "metadata": {
    "ExecuteTime": {
     "end_time": "2021-10-03T02:29:02.460621Z",
     "start_time": "2021-10-03T02:29:02.457162Z"
    }
   },
   "outputs": [
    {
     "data": {
      "text/plain": [
       "185"
      ]
     },
     "execution_count": 614,
     "metadata": {},
     "output_type": "execute_result"
    }
   ],
   "source": [
    "len(namesDict)"
   ]
  },
  {
   "cell_type": "code",
   "execution_count": 615,
   "metadata": {
    "ExecuteTime": {
     "end_time": "2021-10-03T02:29:02.491213Z",
     "start_time": "2021-10-03T02:29:02.483921Z"
    },
    "scrolled": true
   },
   "outputs": [
    {
     "data": {
      "text/plain": [
       "{'Ixodes scapularis': 'IxodesScapularis',\n",
       " 'Borrelia burgdorferi': 'BorreliaBurgdorferi',\n",
       " 'Ixodes affinis': 'IxodesAffinis',\n",
       " 'Borrelia burgdorferi sensu stricto': 'BorreliaBurgdorferiSensuStricto',\n",
       " 'Borrelia afzelii': 'BorreliaAfzelii',\n",
       " 'Borrelia persica': 'BorreliaPersica',\n",
       " 'Ornithodoros tholozani': 'OrnithodorosTholozani',\n",
       " 'Borrelia burgdorferi sensu lato': 'BorreliaBurgdorferiSensuLato',\n",
       " 'Ixodes pacificus': 'IxodesPacificus',\n",
       " 'Peromyscus maniculatus': 'PeromyscusManiculatus',\n",
       " 'Ixodes hexagonus': 'IxodesHexagonus',\n",
       " 'Dermacentor reticulatus': 'DermacentorReticulatus',\n",
       " 'Borrelia garinii': 'BorreliaGarinii',\n",
       " 'Anaplasma phagocytophilum': 'AnaplasmaPhagocytophilum',\n",
       " 'Francisella tularensis': 'FrancisellaTularensis',\n",
       " 'Ixodes auritulus': 'IxodesAuritulus',\n",
       " 'Orientia tsutsugamushi': 'OrientiaTsutsugamushi',\n",
       " 'Coxiella burnetii': 'CoxiellaBurnetii',\n",
       " 'Borrelia lusitaniae': 'BorreliaLusitaniae',\n",
       " 'Borrelia hermsii': 'BorreliaHermsii',\n",
       " 'Sciurus griseus': 'SciurusGriseus',\n",
       " 'Borrelia spielmanii': 'BorreliaSpielmanii',\n",
       " 'Argas persicus': 'ArgasPersicus',\n",
       " 'Erinaceus europaeus': 'ErinaceusEuropaeus',\n",
       " 'Borrelia miyamotoi': 'BorreliaMiyamotoi',\n",
       " 'Amblyomma americanum': 'AmblyommaAmericanum',\n",
       " 'Dermacentor variabilis': 'DermacentorVariabilis',\n",
       " 'Ixodes spinipalpis': 'IxodesSpinipalpis',\n",
       " 'Ehrlichia canis': 'EhrlichiaCanis',\n",
       " 'Dirofilaria immitis': 'DirofilariaImmitis',\n",
       " 'Haemaphysalis concinna': 'HaemaphysalisConcinna',\n",
       " 'Ixodes acuminatus': 'IxodesAcuminatus',\n",
       " 'Anaplasma phagocytophium': 'AnaplasmaPhagocytophium',\n",
       " 'Microtus ochrogaster': 'MicrotusOchrogaster',\n",
       " 'Rhipicephalus sanguineus': 'RhipicephalusSanguineus',\n",
       " 'Dermacentor marginatus': 'DermacentorMarginatus',\n",
       " 'Peromyscus leucopus': 'PeromyscusLeucopus',\n",
       " 'Ixodes persulcatus': 'IxodesPersulcatus',\n",
       " 'Borrelia andersonii': 'BorreliaAndersonii',\n",
       " 'Ixodes dentatus': 'IxodesDentatus',\n",
       " 'Borrelia afzelli': 'BorreliaAfzelli',\n",
       " 'Bartonella henselae': 'BartonellaHenselae',\n",
       " 'Yersinia pestis': 'YersiniaPestis',\n",
       " 'Turdus merula': 'TurdusMerula',\n",
       " 'Rickettsia slovaca': 'RickettsiaSlovaca',\n",
       " 'Borrelia burgdorferii sensu stricto': 'BorreliaBurgdorferiiSensuStricto',\n",
       " 'Borrellia burgdorferi': 'BorrelliaBurgdorferi',\n",
       " 'Capreolus capreolus': 'CapreolusCapreolus',\n",
       " 'Borrelia valaisiana': 'BorreliaValaisiana',\n",
       " 'Borrelia bissettii': 'BorreliaBissettii',\n",
       " 'Treponema pallidum': 'TreponemaPallidum',\n",
       " 'Rickettsia helvetica': 'RickettsiaHelvetica',\n",
       " 'Neoehrlichia mikurensis': 'NeoehrlichiaMikurensis',\n",
       " 'Apodemus sylvaticus': 'ApodemusSylvaticus',\n",
       " 'Myodes glareolus': 'MyodesGlareolus',\n",
       " 'Borrelia bavariensis sp': 'BorreliaBavariensisSp',\n",
       " 'Babesia microti': 'BabesiaMicroti',\n",
       " 'Ixodes holocyclus': 'IxodesHolocyclus',\n",
       " 'Ixodes cornuatus': 'IxodesCornuatus',\n",
       " 'Borreila burgdorferi': 'BorreilaBurgdorferi',\n",
       " 'Theileria equi': 'TheileriaEqui',\n",
       " 'Babesia caballi': 'BabesiaCaballi',\n",
       " 'Ixodes cookei': 'IxodesCookei',\n",
       " 'Borrelia burgdorferi sl': 'BorreliaBurgdorferiSl',\n",
       " 'Ixodes arboricola': 'IxodesArboricola',\n",
       " 'Ixodes pavlovskyi': 'IxodesPavlovskyi',\n",
       " 'Ixodes ovatus': 'IxodesOvatus',\n",
       " 'Ornithodoros sonrai': 'OrnithodorosSonrai',\n",
       " 'Borrelia crocidurae': 'BorreliaCrocidurae',\n",
       " 'Borrelia miyamotoi sensu lato': 'BorreliaMiyamotoiSensuLato',\n",
       " 'Sceloporus undulatus': 'SceloporusUndulatus',\n",
       " 'Amblyomma maculatum': 'AmblyommaMaculatum',\n",
       " 'Ixodes sinensis': 'IxodesSinensis',\n",
       " 'Ehrlichia chaffeensis': 'EhrlichiaChaffeensis',\n",
       " 'Ehrlichia ruminantium': 'EhrlichiaRuminantium',\n",
       " 'Toxoplasma gondii': 'ToxoplasmaGondii',\n",
       " 'Toxocara canis': 'ToxocaraCanis',\n",
       " 'Dermacentor nuttalli': 'DermacentorNuttalli',\n",
       " 'Borrelia americana': 'BorreliaAmericana',\n",
       " 'Sciurus vulgaris': 'SciurusVulgaris',\n",
       " 'Rickettsia monacensis': 'RickettsiaMonacensis',\n",
       " 'Amblyomma triguttatum': 'AmblyommaTriguttatum',\n",
       " 'Sorex araneus': 'SorexAraneus',\n",
       " 'Rickettsia typhi': 'RickettsiaTyphi',\n",
       " 'Dermacentor silvarum': 'DermacentorSilvarum',\n",
       " 'Haemaphysalis leporispalustris': 'HaemaphysalisLeporispalustris',\n",
       " 'Treponema denticola': 'TreponemaDenticola',\n",
       " 'Borrelia hispanica': 'BorreliaHispanica',\n",
       " 'Rhipicephalus turanicus': 'RhipicephalusTuranicus',\n",
       " 'Hyalomma aegyptium': 'HyalommaAegyptium',\n",
       " 'Tamias sibiricus': 'TamiasSibiricus',\n",
       " 'Borrelia bavariensis': 'BorreliaBavariensis',\n",
       " 'Trypanosoma brucei': 'TrypanosomaBrucei',\n",
       " 'Haemaphysalis punctata': 'HaemaphysalisPunctata',\n",
       " 'Borrelia turdi': 'BorreliaTurdi',\n",
       " 'Borrelia mayonii': 'BorreliaMayonii',\n",
       " 'Rattus rattus': 'RattusRattus',\n",
       " 'Ixodes angustus': 'IxodesAngustus',\n",
       " 'Ixodes cf': 'IxodesCf',\n",
       " 'Amblyomma varanense': 'AmblyommaVaranense',\n",
       " 'Python reticulatus': 'PythonReticulatus',\n",
       " 'Ixodes canisuga': 'IxodesCanisuga',\n",
       " 'Angiostrongylus vasorum': 'AngiostrongylusVasorum',\n",
       " 'Leishmania infantum': 'LeishmaniaInfantum',\n",
       " 'Ehrlichia ewingii': 'EhrlichiaEwingii',\n",
       " 'Rickettsia parkeri': 'RickettsiaParkeri',\n",
       " 'Rickettsia rickettsii': 'RickettsiaRickettsii',\n",
       " 'Rickettsia amblyommii': 'RickettsiaAmblyommii',\n",
       " 'Rickettsia aeschlimannii': 'RickettsiaAeschlimannii',\n",
       " 'Anaplasma marginale': 'AnaplasmaMarginale',\n",
       " 'Coleus forskohlii': 'ColeusForskohlii',\n",
       " 'Borrelia turicatae': 'BorreliaTuricatae',\n",
       " 'Metarhizium anisopliae': 'MetarhiziumAnisopliae',\n",
       " 'Haemaphysalis hystricis': 'HaemaphysalisHystricis',\n",
       " 'Borrelia bissettiae': 'BorreliaBissettiae',\n",
       " 'Ixodes uriae': 'IxodesUriae',\n",
       " 'Borreliella burgdorferi': 'BorreliellaBurgdorferi',\n",
       " 'Babesia vogeli': 'BabesiaVogeli',\n",
       " 'Babesia canis': 'BabesiaCanis',\n",
       " 'Trypanosoma cruzi': 'TrypanosomaCruzi',\n",
       " 'Borrelia tachyglossi': 'BorreliaTachyglossi',\n",
       " 'Borellia burgdorferi': 'BorelliaBurgdorferi',\n",
       " 'Babesia venatorum': 'BabesiaVenatorum',\n",
       " 'Ixodes nipponensis': 'IxodesNipponensis',\n",
       " 'Ixodes muris': 'IxodesMuris',\n",
       " 'Babesia odocoilei': 'BabesiaOdocoilei',\n",
       " 'Borrelia turcica': 'BorreliaTurcica',\n",
       " 'Haemaphysalis longicornis': 'HaemaphysalisLongicornis',\n",
       " 'Mycobacterium goodii': 'MycobacteriumGoodii',\n",
       " 'Streptococcus pneumoniae': 'StreptococcusPneumoniae',\n",
       " 'Cistus creticus': 'CistusCreticus',\n",
       " 'Midichloria mitochondrii': 'MidichloriaMitochondrii',\n",
       " 'Sylvia communis': 'SylviaCommunis',\n",
       " 'Erithacus rubecula': 'ErithacusRubecula',\n",
       " 'Borrelia burgdorferi spp': 'BorreliaBurgdorferiSpp',\n",
       " 'Anaplasma phagocytophillum': 'AnaplasmaPhagocytophillum',\n",
       " 'Ehrlihia muris': 'EhrlihiaMuris',\n",
       " 'Borrelia yangtzensis': 'BorreliaYangtzensis',\n",
       " 'Anaplasma platys': 'AnaplasmaPlatys',\n",
       " 'Anaplasma ovis': 'AnaplasmaOvis',\n",
       " 'Heteromys irroratus': 'HeteromysIrroratus',\n",
       " 'Sigmodon hispidus': 'SigmodonHispidus',\n",
       " 'Heteromys gaumeri': 'HeteromysGaumeri',\n",
       " 'Ixodes paranaensis': 'IxodesParanaensis',\n",
       " 'Borrelia ibitipoquensis': 'BorreliaIbitipoquensis',\n",
       " 'Ixodiphagus hookeri': 'IxodiphagusHookeri',\n",
       " 'Ornithodoros parkeri': 'OrnithodorosParkeri',\n",
       " 'Bartonella quintana': 'BartonellaQuintana',\n",
       " 'Rickettsia conorii': 'RickettsiaConorii',\n",
       " 'Rickettsia prowazekii': 'RickettsiaProwazekii',\n",
       " 'Borrelia recurrentis': 'BorreliaRecurrentis',\n",
       " 'Anolis sagrei': 'AnolisSagrei',\n",
       " 'Spinturnix americanus': 'SpinturnixAmericanus',\n",
       " 'Babesia gibsoni': 'BabesiaGibsoni',\n",
       " 'Borrelia burgdorferisensu lato': 'BorreliaBurgdorferisensuLato',\n",
       " 'Rickettsia amblyommatis': 'RickettsiaAmblyommatis',\n",
       " 'Spiroplasma ixodetis': 'SpiroplasmaIxodetis',\n",
       " 'Rhipicephalus annulatus': 'RhipicephalusAnnulatus',\n",
       " 'Hyalomma marginatum': 'HyalommaMarginatum',\n",
       " 'Rhipicephalus kohlsi': 'RhipicephalusKohlsi',\n",
       " 'Hyalomma anatolicum': 'HyalommaAnatolicum',\n",
       " 'Dermacentor niveus': 'DermacentorNiveus',\n",
       " 'Borrelia javanense': 'BorreliaJavanense',\n",
       " 'Amblyomma javanense': 'AmblyommaJavanense',\n",
       " 'Manis javanica': 'ManisJavanica',\n",
       " 'Tamias striatus': 'TamiasStriatus',\n",
       " 'Myrmica rubra': 'MyrmicaRubra',\n",
       " 'Dermacentor andersoni': 'DermacentorAndersoni',\n",
       " 'Haemaphysalis flava': 'HaemaphysalisFlava',\n",
       " 'Hyalomma dromedarii': 'HyalommaDromedarii',\n",
       " 'Ixodes affnis': 'IxodesAffnis',\n",
       " 'Borrelia spelmanii': 'BorreliaSpelmanii',\n",
       " 'Dermacentor varabilis': 'DermacentorVarabilis',\n",
       " 'Ixodes spnipalpis': 'IxodesSpnipalpis',\n",
       " 'Borrelia bavarensis sp nov': 'BorreliaBavarensisSpNov',\n",
       " 'Borrelia burgdorferi osp': 'BorreliaBurgdorferiOsp',\n",
       " 'Ehrlichia chaffensis': 'EhrlichiaChaffensis',\n",
       " 'Dermacentor silvarm': 'DermacentorSilvarm',\n",
       " 'Haemaphysalis leporisplustris': 'HaemaphysalisLeporisplustris',\n",
       " 'Borrelia hispnica': 'BorreliaHispnica',\n",
       " 'Borrelia bavarensis': 'BorreliaBavarensis',\n",
       " 'Ixodes cf neuquenensis': 'IxodesCfNeuquenensis',\n",
       " 'Amblyomma varnense': 'AmblyommaVarnense',\n",
       " 'Borrelia burgdorferi sp': 'BorreliaBurgdorferiSp',\n",
       " 'Sigmodon hispdus': 'SigmodonHispdus'}"
      ]
     },
     "execution_count": 615,
     "metadata": {},
     "output_type": "execute_result"
    }
   ],
   "source": [
    "namesDict"
   ]
  },
  {
   "cell_type": "markdown",
   "metadata": {},
   "source": [
    "### Clean Text (second pass)"
   ]
  },
  {
   "cell_type": "code",
   "execution_count": 698,
   "metadata": {
    "ExecuteTime": {
     "end_time": "2021-10-03T09:42:52.820675Z",
     "start_time": "2021-10-03T09:42:52.817041Z"
    }
   },
   "outputs": [],
   "source": [
    "def clean_text2(text):\n",
    "#     text = str(text).lower() #make lower\n",
    "    text = re.sub('https?://\\S+|www\\.\\S+', '', text) #remove links\n",
    "    text = re.sub(\"[^-9A-Za-z ]\", '' , text) #remove double quotation and any punctuation\n",
    "    text = re.sub('\\w*\\d\\w*', '', text) #remove numbers\n",
    "\n",
    "\n",
    "    return text"
   ]
  },
  {
   "cell_type": "code",
   "execution_count": 699,
   "metadata": {
    "ExecuteTime": {
     "end_time": "2021-10-03T09:43:00.376084Z",
     "start_time": "2021-10-03T09:42:59.678649Z"
    }
   },
   "outputs": [
    {
     "name": "stderr",
     "output_type": "stream",
     "text": [
      "/Users/myfriendscallmej/anaconda3/lib/python3.7/site-packages/ipykernel_launcher.py:1: SettingWithCopyWarning: \n",
      "A value is trying to be set on a copy of a slice from a DataFrame.\n",
      "Try using .loc[row_indexer,col_indexer] = value instead\n",
      "\n",
      "See the caveats in the documentation: https://pandas.pydata.org/pandas-docs/stable/user_guide/indexing.html#returning-a-view-versus-a-copy\n",
      "  \"\"\"Entry point for launching an IPython kernel.\n"
     ]
    }
   ],
   "source": [
    "LymeDisease['cleaner_abstract'] = LymeDisease['clean_abstract'].apply(clean_text2)"
   ]
  },
  {
   "cell_type": "markdown",
   "metadata": {},
   "source": [
    "### Adding SpaCy and NLTK tokenised text"
   ]
  },
  {
   "cell_type": "code",
   "execution_count": 700,
   "metadata": {
    "ExecuteTime": {
     "end_time": "2021-10-03T09:43:10.651591Z",
     "start_time": "2021-10-03T09:43:10.648742Z"
    }
   },
   "outputs": [],
   "source": [
    "from nltk.tokenize import RegexpTokenizer\n",
    "\n",
    "#w means tokens are made of only alphanumeric characters where + indicates that they comprise of one or more of such characters\n",
    "tokenizer = RegexpTokenizer('\\w+')"
   ]
  },
  {
   "cell_type": "code",
   "execution_count": 713,
   "metadata": {
    "ExecuteTime": {
     "end_time": "2021-10-03T09:53:52.467709Z",
     "start_time": "2021-10-03T09:52:30.353266Z"
    }
   },
   "outputs": [
    {
     "name": "stderr",
     "output_type": "stream",
     "text": [
      "/Users/myfriendscallmej/anaconda3/lib/python3.7/site-packages/ipykernel_launcher.py:1: SettingWithCopyWarning: \n",
      "A value is trying to be set on a copy of a slice from a DataFrame.\n",
      "Try using .loc[row_indexer,col_indexer] = value instead\n",
      "\n",
      "See the caveats in the documentation: https://pandas.pydata.org/pandas-docs/stable/user_guide/indexing.html#returning-a-view-versus-a-copy\n",
      "  \"\"\"Entry point for launching an IPython kernel.\n",
      "/Users/myfriendscallmej/anaconda3/lib/python3.7/site-packages/ipykernel_launcher.py:2: SettingWithCopyWarning: \n",
      "A value is trying to be set on a copy of a slice from a DataFrame.\n",
      "Try using .loc[row_indexer,col_indexer] = value instead\n",
      "\n",
      "See the caveats in the documentation: https://pandas.pydata.org/pandas-docs/stable/user_guide/indexing.html#returning-a-view-versus-a-copy\n",
      "  \n"
     ]
    }
   ],
   "source": [
    "LymeDisease['tokenisedAbstractSpacy'] = LymeDisease['cleaner_abstract'].apply(nlp)\n",
    "LymeDisease['tokenisedAbstractNLTK'] = LymeDisease['cleaner_abstract'].apply(tokenizer.tokenize)"
   ]
  },
  {
   "cell_type": "code",
   "execution_count": 715,
   "metadata": {
    "ExecuteTime": {
     "end_time": "2021-10-03T09:53:52.642188Z",
     "start_time": "2021-10-03T09:53:52.628196Z"
    }
   },
   "outputs": [
    {
     "name": "stdout",
     "output_type": "stream",
     "text": [
      "<class 'pandas.core.frame.DataFrame'>\n",
      "RangeIndex: 2720 entries, 0 to 2719\n",
      "Data columns (total 18 columns):\n",
      " #   Column                  Non-Null Count  Dtype  \n",
      "---  ------                  --------------  -----  \n",
      " 0   index                   2720 non-null   int64  \n",
      " 1   publication             2720 non-null   object \n",
      " 2   title                   2720 non-null   object \n",
      " 3   authors                 2717 non-null   object \n",
      " 4   doi                     2720 non-null   object \n",
      " 5   year                    2720 non-null   float64\n",
      " 6   cites                   2720 non-null   int64  \n",
      " 7   type                    2720 non-null   object \n",
      " 8   abstract                2720 non-null   object \n",
      " 9   article_url             0 non-null      float64\n",
      " 10  fulltext_url            0 non-null      float64\n",
      " 11  abstractLength          2720 non-null   float64\n",
      " 12  pubmed                  2720 non-null   int64  \n",
      " 13  clean_text              2720 non-null   object \n",
      " 14  clean_abstract          2720 non-null   object \n",
      " 15  cleaner_abstract        2720 non-null   object \n",
      " 16  tokenisedAbstractSpacy  2720 non-null   object \n",
      " 17  tokenisedAbstractNLTK   2720 non-null   object \n",
      "dtypes: float64(4), int64(3), object(11)\n",
      "memory usage: 382.6+ KB\n"
     ]
    }
   ],
   "source": [
    "LymeDisease.info()"
   ]
  },
  {
   "cell_type": "code",
   "execution_count": 716,
   "metadata": {
    "ExecuteTime": {
     "end_time": "2021-10-03T09:53:52.719585Z",
     "start_time": "2021-10-03T09:53:52.680938Z"
    }
   },
   "outputs": [
    {
     "data": {
      "text/html": [
       "<div>\n",
       "<style scoped>\n",
       "    .dataframe tbody tr th:only-of-type {\n",
       "        vertical-align: middle;\n",
       "    }\n",
       "\n",
       "    .dataframe tbody tr th {\n",
       "        vertical-align: top;\n",
       "    }\n",
       "\n",
       "    .dataframe thead th {\n",
       "        text-align: right;\n",
       "    }\n",
       "</style>\n",
       "<table border=\"1\" class=\"dataframe\">\n",
       "  <thead>\n",
       "    <tr style=\"text-align: right;\">\n",
       "      <th></th>\n",
       "      <th>index</th>\n",
       "      <th>publication</th>\n",
       "      <th>title</th>\n",
       "      <th>authors</th>\n",
       "      <th>doi</th>\n",
       "      <th>year</th>\n",
       "      <th>cites</th>\n",
       "      <th>type</th>\n",
       "      <th>abstract</th>\n",
       "      <th>article_url</th>\n",
       "      <th>fulltext_url</th>\n",
       "      <th>abstractLength</th>\n",
       "      <th>pubmed</th>\n",
       "      <th>clean_text</th>\n",
       "      <th>clean_abstract</th>\n",
       "      <th>cleaner_abstract</th>\n",
       "      <th>tokenisedAbstractSpacy</th>\n",
       "      <th>tokenisedAbstractNLTK</th>\n",
       "    </tr>\n",
       "  </thead>\n",
       "  <tbody>\n",
       "    <tr>\n",
       "      <th>0</th>\n",
       "      <td>0</td>\n",
       "      <td>Ticks and tick-borne diseases</td>\n",
       "      <td>The range of Ixodes ricinus and the risk of co...</td>\n",
       "      <td>[{'name': 'Thomas G T Jaenson', 'affiliation':...</td>\n",
       "      <td>10.1016/j.ttbdis.2010.10.006</td>\n",
       "      <td>2011.0</td>\n",
       "      <td>0</td>\n",
       "      <td>Journal Article</td>\n",
       "      <td>In Sweden, the geographical distribution of Ly...</td>\n",
       "      <td>NaN</td>\n",
       "      <td>NaN</td>\n",
       "      <td>1370.0</td>\n",
       "      <td>1</td>\n",
       "      <td>In Sweden, the geographical distribution of Ly...</td>\n",
       "      <td>In Sweden, the geographical distribution of Ly...</td>\n",
       "      <td>In Sweden the geographical distribution of Lym...</td>\n",
       "      <td>(In, Sweden, the, geographical, distribution, ...</td>\n",
       "      <td>[In, Sweden, the, geographical, distribution, ...</td>\n",
       "    </tr>\n",
       "    <tr>\n",
       "      <th>1</th>\n",
       "      <td>1</td>\n",
       "      <td>Ticks and tick-borne diseases</td>\n",
       "      <td>Low-density microarrays for the detection of B...</td>\n",
       "      <td>[{'name': 'Julie A Houck', 'affiliation': 'Dep...</td>\n",
       "      <td>10.1016/j.ttbdis.2010.10.002</td>\n",
       "      <td>2011.0</td>\n",
       "      <td>0</td>\n",
       "      <td>Journal Article</td>\n",
       "      <td>Lyme disease is the most common tick-borne dis...</td>\n",
       "      <td>NaN</td>\n",
       "      <td>NaN</td>\n",
       "      <td>932.0</td>\n",
       "      <td>1</td>\n",
       "      <td>Lyme disease is the most common tick borne dis...</td>\n",
       "      <td>Lyme disease is the most common tick borne dis...</td>\n",
       "      <td>Lyme disease is the most common tick borne dis...</td>\n",
       "      <td>(Lyme, disease, is, the, most, common, tick, b...</td>\n",
       "      <td>[Lyme, disease, is, the, most, common, tick, b...</td>\n",
       "    </tr>\n",
       "    <tr>\n",
       "      <th>2</th>\n",
       "      <td>2</td>\n",
       "      <td>Ticks and tick-borne diseases</td>\n",
       "      <td>Infectivity of Borrelia burgdorferi sensu lato...</td>\n",
       "      <td>[{'name': 'N D van Burgel', 'affiliation': 'De...</td>\n",
       "      <td>10.1016/j.ttbdis.2010.10.003</td>\n",
       "      <td>2011.0</td>\n",
       "      <td>0</td>\n",
       "      <td>Journal Article</td>\n",
       "      <td>B. burgdorferi, B. afzelii, and B. bavariensis...</td>\n",
       "      <td>NaN</td>\n",
       "      <td>NaN</td>\n",
       "      <td>1428.0</td>\n",
       "      <td>1</td>\n",
       "      <td>B. burgdorferi, B. afzelii, and B. bavarensis ...</td>\n",
       "      <td>B. burgdorferi, B. afzelii, and B. bavarensis ...</td>\n",
       "      <td>B burgdorferi B afzelii and B bavarensis show ...</td>\n",
       "      <td>(B, burgdorferi, B, afzelii, and, B, bavarensi...</td>\n",
       "      <td>[B, burgdorferi, B, afzelii, and, B, bavarensi...</td>\n",
       "    </tr>\n",
       "    <tr>\n",
       "      <th>3</th>\n",
       "      <td>4</td>\n",
       "      <td>Ticks and tick-borne diseases</td>\n",
       "      <td>Borrelia species in Ixodes affinis and Ixodes ...</td>\n",
       "      <td>[{'name': 'Ricardo G Maggi', 'affiliation': 'I...</td>\n",
       "      <td>10.1016/j.ttbdis.2010.08.003</td>\n",
       "      <td>2010.0</td>\n",
       "      <td>0</td>\n",
       "      <td>Journal Article</td>\n",
       "      <td>Ixodes affinis and I. scapularis are tick spec...</td>\n",
       "      <td>NaN</td>\n",
       "      <td>NaN</td>\n",
       "      <td>1576.0</td>\n",
       "      <td>1</td>\n",
       "      <td>Ixodes affnis and I. scapularis are tick spcie...</td>\n",
       "      <td>IxodesAffnis and IxodesAffnis are tick spcies ...</td>\n",
       "      <td>IxodesAffnis and IxodesAffnis are tick spcies ...</td>\n",
       "      <td>(IxodesAffnis, and, IxodesAffnis, are, tick, s...</td>\n",
       "      <td>[IxodesAffnis, and, IxodesAffnis, are, tick, s...</td>\n",
       "    </tr>\n",
       "    <tr>\n",
       "      <th>4</th>\n",
       "      <td>5</td>\n",
       "      <td>Ticks and tick-borne diseases</td>\n",
       "      <td>Are birds reservoir hosts for Borrelia afzelii?</td>\n",
       "      <td>[{'name': 'Jan Franke', 'affiliation': 'Instit...</td>\n",
       "      <td>10.1016/j.ttbdis.2010.03.001</td>\n",
       "      <td>2010.0</td>\n",
       "      <td>0</td>\n",
       "      <td>Journal Article</td>\n",
       "      <td>It is known that birds are competent reservoir...</td>\n",
       "      <td>NaN</td>\n",
       "      <td>NaN</td>\n",
       "      <td>783.0</td>\n",
       "      <td>1</td>\n",
       "      <td>It is known that birds are competent reservoir...</td>\n",
       "      <td>It is known that birds are competent reservoir...</td>\n",
       "      <td>It is known that birds are competent reservoir...</td>\n",
       "      <td>(It, is, known, that, birds, are, competent, r...</td>\n",
       "      <td>[It, is, known, that, birds, are, competent, r...</td>\n",
       "    </tr>\n",
       "  </tbody>\n",
       "</table>\n",
       "</div>"
      ],
      "text/plain": [
       "   index                    publication  \\\n",
       "0      0  Ticks and tick-borne diseases   \n",
       "1      1  Ticks and tick-borne diseases   \n",
       "2      2  Ticks and tick-borne diseases   \n",
       "3      4  Ticks and tick-borne diseases   \n",
       "4      5  Ticks and tick-borne diseases   \n",
       "\n",
       "                                               title  \\\n",
       "0  The range of Ixodes ricinus and the risk of co...   \n",
       "1  Low-density microarrays for the detection of B...   \n",
       "2  Infectivity of Borrelia burgdorferi sensu lato...   \n",
       "3  Borrelia species in Ixodes affinis and Ixodes ...   \n",
       "4    Are birds reservoir hosts for Borrelia afzelii?   \n",
       "\n",
       "                                             authors  \\\n",
       "0  [{'name': 'Thomas G T Jaenson', 'affiliation':...   \n",
       "1  [{'name': 'Julie A Houck', 'affiliation': 'Dep...   \n",
       "2  [{'name': 'N D van Burgel', 'affiliation': 'De...   \n",
       "3  [{'name': 'Ricardo G Maggi', 'affiliation': 'I...   \n",
       "4  [{'name': 'Jan Franke', 'affiliation': 'Instit...   \n",
       "\n",
       "                            doi    year  cites             type  \\\n",
       "0  10.1016/j.ttbdis.2010.10.006  2011.0      0  Journal Article   \n",
       "1  10.1016/j.ttbdis.2010.10.002  2011.0      0  Journal Article   \n",
       "2  10.1016/j.ttbdis.2010.10.003  2011.0      0  Journal Article   \n",
       "3  10.1016/j.ttbdis.2010.08.003  2010.0      0  Journal Article   \n",
       "4  10.1016/j.ttbdis.2010.03.001  2010.0      0  Journal Article   \n",
       "\n",
       "                                            abstract  article_url  \\\n",
       "0  In Sweden, the geographical distribution of Ly...          NaN   \n",
       "1  Lyme disease is the most common tick-borne dis...          NaN   \n",
       "2  B. burgdorferi, B. afzelii, and B. bavariensis...          NaN   \n",
       "3  Ixodes affinis and I. scapularis are tick spec...          NaN   \n",
       "4  It is known that birds are competent reservoir...          NaN   \n",
       "\n",
       "   fulltext_url  abstractLength  pubmed  \\\n",
       "0           NaN          1370.0       1   \n",
       "1           NaN           932.0       1   \n",
       "2           NaN          1428.0       1   \n",
       "3           NaN          1576.0       1   \n",
       "4           NaN           783.0       1   \n",
       "\n",
       "                                          clean_text  \\\n",
       "0  In Sweden, the geographical distribution of Ly...   \n",
       "1  Lyme disease is the most common tick borne dis...   \n",
       "2  B. burgdorferi, B. afzelii, and B. bavarensis ...   \n",
       "3  Ixodes affnis and I. scapularis are tick spcie...   \n",
       "4  It is known that birds are competent reservoir...   \n",
       "\n",
       "                                      clean_abstract  \\\n",
       "0  In Sweden, the geographical distribution of Ly...   \n",
       "1  Lyme disease is the most common tick borne dis...   \n",
       "2  B. burgdorferi, B. afzelii, and B. bavarensis ...   \n",
       "3  IxodesAffnis and IxodesAffnis are tick spcies ...   \n",
       "4  It is known that birds are competent reservoir...   \n",
       "\n",
       "                                    cleaner_abstract  \\\n",
       "0  In Sweden the geographical distribution of Lym...   \n",
       "1  Lyme disease is the most common tick borne dis...   \n",
       "2  B burgdorferi B afzelii and B bavarensis show ...   \n",
       "3  IxodesAffnis and IxodesAffnis are tick spcies ...   \n",
       "4  It is known that birds are competent reservoir...   \n",
       "\n",
       "                              tokenisedAbstractSpacy  \\\n",
       "0  (In, Sweden, the, geographical, distribution, ...   \n",
       "1  (Lyme, disease, is, the, most, common, tick, b...   \n",
       "2  (B, burgdorferi, B, afzelii, and, B, bavarensi...   \n",
       "3  (IxodesAffnis, and, IxodesAffnis, are, tick, s...   \n",
       "4  (It, is, known, that, birds, are, competent, r...   \n",
       "\n",
       "                               tokenisedAbstractNLTK  \n",
       "0  [In, Sweden, the, geographical, distribution, ...  \n",
       "1  [Lyme, disease, is, the, most, common, tick, b...  \n",
       "2  [B, burgdorferi, B, afzelii, and, B, bavarensi...  \n",
       "3  [IxodesAffnis, and, IxodesAffnis, are, tick, s...  \n",
       "4  [It, is, known, that, birds, are, competent, r...  "
      ]
     },
     "execution_count": 716,
     "metadata": {},
     "output_type": "execute_result"
    }
   ],
   "source": [
    "LymeDisease.head()"
   ]
  },
  {
   "cell_type": "markdown",
   "metadata": {},
   "source": [
    "### Remove Stopwords"
   ]
  },
  {
   "cell_type": "code",
   "execution_count": 690,
   "metadata": {
    "ExecuteTime": {
     "end_time": "2021-10-03T09:27:12.876089Z",
     "start_time": "2021-10-03T09:27:12.867516Z"
    }
   },
   "outputs": [],
   "source": [
    "from nltk.corpus import stopwords\n",
    "stoplist = set(stopwords.words(\"english\"))"
   ]
  },
  {
   "cell_type": "code",
   "execution_count": 721,
   "metadata": {
    "ExecuteTime": {
     "end_time": "2021-10-03T09:56:45.547019Z",
     "start_time": "2021-10-03T09:56:45.543523Z"
    }
   },
   "outputs": [],
   "source": [
    "def removeStopwordsSpaCy(spacy_doc):\n",
    "    text = \" \".join([token.text for token in spacy_doc if token.is_stop == False and token.is_alpha])\n",
    "    return text"
   ]
  },
  {
   "cell_type": "code",
   "execution_count": 722,
   "metadata": {
    "ExecuteTime": {
     "end_time": "2021-10-03T09:56:46.378687Z",
     "start_time": "2021-10-03T09:56:46.375260Z"
    }
   },
   "outputs": [],
   "source": [
    "def removeStopwordsNLTK(nltk_tokens):\n",
    "    text = \" \".join(nltk.Text([word for word in nltk_tokens if word.lower() not in stoplist]))\n",
    "    return text"
   ]
  },
  {
   "cell_type": "code",
   "execution_count": 723,
   "metadata": {
    "ExecuteTime": {
     "end_time": "2021-10-03T09:56:52.608647Z",
     "start_time": "2021-10-03T09:56:52.156017Z"
    }
   },
   "outputs": [
    {
     "name": "stderr",
     "output_type": "stream",
     "text": [
      "/Users/myfriendscallmej/anaconda3/lib/python3.7/site-packages/ipykernel_launcher.py:1: SettingWithCopyWarning: \n",
      "A value is trying to be set on a copy of a slice from a DataFrame.\n",
      "Try using .loc[row_indexer,col_indexer] = value instead\n",
      "\n",
      "See the caveats in the documentation: https://pandas.pydata.org/pandas-docs/stable/user_guide/indexing.html#returning-a-view-versus-a-copy\n",
      "  \"\"\"Entry point for launching an IPython kernel.\n",
      "/Users/myfriendscallmej/anaconda3/lib/python3.7/site-packages/ipykernel_launcher.py:2: SettingWithCopyWarning: \n",
      "A value is trying to be set on a copy of a slice from a DataFrame.\n",
      "Try using .loc[row_indexer,col_indexer] = value instead\n",
      "\n",
      "See the caveats in the documentation: https://pandas.pydata.org/pandas-docs/stable/user_guide/indexing.html#returning-a-view-versus-a-copy\n",
      "  \n"
     ]
    }
   ],
   "source": [
    "LymeDisease['abstractNoStopSpacy'] = LymeDisease['tokenisedAbstractSpacy'].apply(removeStopwordsSpaCy)\n",
    "LymeDisease['abstractNoStopNLTK'] = LymeDisease['tokenisedAbstractNLTK'].apply(removeStopwordsNLTK)"
   ]
  },
  {
   "cell_type": "code",
   "execution_count": 724,
   "metadata": {
    "ExecuteTime": {
     "end_time": "2021-10-03T09:56:54.592009Z",
     "start_time": "2021-10-03T09:56:54.587594Z"
    }
   },
   "outputs": [
    {
     "data": {
      "text/plain": [
       "'Ticks Acari Ixodida vectors andor reservoirs pathogens ie BorreliaBurgdorferiSensuLato AnaplasmaPhagocytophilum BabesiaMicroti pathogens ethiological agents diseases Lyme borreliosis human granulocytic anaplasmosis human babesiosis aim study evaluate role Ixodes ricinus transmission BorreliaBurgdorferiSensuLato BorreliaAfzelii Borrelia garinii BorreliaBurgdorferiSensuStricto AnaplasmaPhagocytophilum BabesiaMicroti Opolskie Province Poland DNA ticks isolated ammonia method pair primers spcific flagelline gene detect BorreliaBurgdorferiSensuLato detect genospcies sprochete pairs internal primers turn pairs primers spcific S rDNA gene S rRNA respctively detection AnaplasmaPhagocytophilum BabesiaMicroti Borrelia burgdorferi s l AnaplasmaPhagocytophilum BabesiaMicroti detected examined ticks respctively ticks infected BorreliaBurgdorferiSensuLato BorreliaAfzelii found seven undefinied genospcies mixed infection BorreliaAfzelii BorreliaBurgdorferiSensuStricto study demonstrated potential risk exposure humans animals infections BorreliaBurgdorferiSensuLato AnaplasmaPhagocytophilum BabesiaMicroti examined area Poland'"
      ]
     },
     "execution_count": 724,
     "metadata": {},
     "output_type": "execute_result"
    }
   ],
   "source": [
    "LymeDisease.loc[2000].abstractNoStopSpacy"
   ]
  },
  {
   "cell_type": "code",
   "execution_count": 725,
   "metadata": {
    "ExecuteTime": {
     "end_time": "2021-10-03T09:56:55.403880Z",
     "start_time": "2021-10-03T09:56:55.399317Z"
    }
   },
   "outputs": [
    {
     "data": {
      "text/plain": [
       "'Ticks Acari Ixodida vectors andor reservoirs many pathogens ie BorreliaBurgdorferiSensuLato AnaplasmaPhagocytophilum BabesiaMicroti pathogens ethiological agents diseases Lyme borreliosis human granulocytic anaplasmosis human babesiosis aim study evaluate role Ixodes ricinus transmission BorreliaBurgdorferiSensuLato BorreliaAfzelii Borrelia garinii BorreliaBurgdorferiSensuStricto AnaplasmaPhagocytophilum BabesiaMicroti Opolskie Province Poland DNA ticks isolated ammonia method pair primers spcific flagelline gene used detect BorreliaBurgdorferiSensuLato detect genospcies sprochete three pairs internal primers used turn two pairs primers spcific rDNA gene rRNA used respctively detection AnaplasmaPhagocytophilum BabesiaMicroti Borrelia burgdorferi l AnaplasmaPhagocytophilum BabesiaMicroti detected examined ticks respctively ten ticks infected BorreliaBurgdorferiSensuLato BorreliaAfzelii found seven undefinied genospcies two mixed infection BorreliaAfzelii BorreliaBurgdorferiSensuStricto one study demonstrated potential risk exposure humans animals infections BorreliaBurgdorferiSensuLato AnaplasmaPhagocytophilum BabesiaMicroti examined area Poland'"
      ]
     },
     "execution_count": 725,
     "metadata": {},
     "output_type": "execute_result"
    }
   ],
   "source": [
    "LymeDisease.loc[2000].abstractNoStopNLTK"
   ]
  },
  {
   "cell_type": "markdown",
   "metadata": {},
   "source": [
    "### Normalisation"
   ]
  },
  {
   "cell_type": "code",
   "execution_count": 728,
   "metadata": {
    "ExecuteTime": {
     "end_time": "2021-10-03T09:58:50.533502Z",
     "start_time": "2021-10-03T09:58:50.530817Z"
    }
   },
   "outputs": [],
   "source": [
    "lemmatizer = nltk.WordNetLemmatizer()"
   ]
  },
  {
   "cell_type": "code",
   "execution_count": 731,
   "metadata": {
    "ExecuteTime": {
     "end_time": "2021-10-03T10:01:39.749140Z",
     "start_time": "2021-10-03T10:01:39.746088Z"
    }
   },
   "outputs": [],
   "source": [
    "def lemmatiseSpaCy(spacy_doc):\n",
    "    text = \" \".join([token.lemma_ for token in spacy_doc])\n",
    "    return text"
   ]
  },
  {
   "cell_type": "code",
   "execution_count": 732,
   "metadata": {
    "ExecuteTime": {
     "end_time": "2021-10-03T10:01:40.783561Z",
     "start_time": "2021-10-03T10:01:40.780361Z"
    }
   },
   "outputs": [],
   "source": [
    "def lemmatiseNLTK(nltk_tokens):\n",
    "    text = \" \".join([lemmatizer.lemmatize(token) for token in nltk_tokens])\n",
    "    return text"
   ]
  },
  {
   "cell_type": "code",
   "execution_count": 735,
   "metadata": {
    "ExecuteTime": {
     "end_time": "2021-10-03T10:06:25.490605Z",
     "start_time": "2021-10-03T10:06:25.487089Z"
    }
   },
   "outputs": [],
   "source": [
    "def removeStopwordsLemmatiseSpaCy(spacy_doc):\n",
    "    text = \" \".join([token.lemma_ for token in spacy_doc if token.is_stop == False and token.is_alpha])\n",
    "    return text"
   ]
  },
  {
   "cell_type": "code",
   "execution_count": 736,
   "metadata": {
    "ExecuteTime": {
     "end_time": "2021-10-03T10:06:26.423800Z",
     "start_time": "2021-10-03T10:06:26.420477Z"
    }
   },
   "outputs": [],
   "source": [
    "def removeStopwordsNLTK(nltk_tokens):\n",
    "    text = \" \".join([lemmatizer.lemmatize(token) for token in nltk_tokens if token.lower() not in stoplist])\n",
    "    return text"
   ]
  },
  {
   "cell_type": "code",
   "execution_count": 738,
   "metadata": {
    "ExecuteTime": {
     "end_time": "2021-10-03T10:08:04.710693Z",
     "start_time": "2021-10-03T10:08:02.709488Z"
    }
   },
   "outputs": [
    {
     "name": "stderr",
     "output_type": "stream",
     "text": [
      "/Users/myfriendscallmej/anaconda3/lib/python3.7/site-packages/ipykernel_launcher.py:1: SettingWithCopyWarning: \n",
      "A value is trying to be set on a copy of a slice from a DataFrame.\n",
      "Try using .loc[row_indexer,col_indexer] = value instead\n",
      "\n",
      "See the caveats in the documentation: https://pandas.pydata.org/pandas-docs/stable/user_guide/indexing.html#returning-a-view-versus-a-copy\n",
      "  \"\"\"Entry point for launching an IPython kernel.\n",
      "/Users/myfriendscallmej/anaconda3/lib/python3.7/site-packages/ipykernel_launcher.py:2: SettingWithCopyWarning: \n",
      "A value is trying to be set on a copy of a slice from a DataFrame.\n",
      "Try using .loc[row_indexer,col_indexer] = value instead\n",
      "\n",
      "See the caveats in the documentation: https://pandas.pydata.org/pandas-docs/stable/user_guide/indexing.html#returning-a-view-versus-a-copy\n",
      "  \n"
     ]
    }
   ],
   "source": [
    "LymeDisease['abstractLemmaSpacy'] = LymeDisease['tokenisedAbstractSpacy'].apply(lemmatiseSpaCy)\n",
    "LymeDisease['abstractLemmaNLTK'] = LymeDisease['tokenisedAbstractNLTK'].apply(lemmatiseNLTK)"
   ]
  },
  {
   "cell_type": "code",
   "execution_count": 739,
   "metadata": {
    "ExecuteTime": {
     "end_time": "2021-10-03T10:08:15.963800Z",
     "start_time": "2021-10-03T10:08:14.273786Z"
    }
   },
   "outputs": [
    {
     "name": "stderr",
     "output_type": "stream",
     "text": [
      "/Users/myfriendscallmej/anaconda3/lib/python3.7/site-packages/ipykernel_launcher.py:1: SettingWithCopyWarning: \n",
      "A value is trying to be set on a copy of a slice from a DataFrame.\n",
      "Try using .loc[row_indexer,col_indexer] = value instead\n",
      "\n",
      "See the caveats in the documentation: https://pandas.pydata.org/pandas-docs/stable/user_guide/indexing.html#returning-a-view-versus-a-copy\n",
      "  \"\"\"Entry point for launching an IPython kernel.\n",
      "/Users/myfriendscallmej/anaconda3/lib/python3.7/site-packages/ipykernel_launcher.py:2: SettingWithCopyWarning: \n",
      "A value is trying to be set on a copy of a slice from a DataFrame.\n",
      "Try using .loc[row_indexer,col_indexer] = value instead\n",
      "\n",
      "See the caveats in the documentation: https://pandas.pydata.org/pandas-docs/stable/user_guide/indexing.html#returning-a-view-versus-a-copy\n",
      "  \n"
     ]
    }
   ],
   "source": [
    "LymeDisease['abstractLemmaNoStopSpacy'] = LymeDisease['tokenisedAbstractSpacy'].apply(removeStopwordsLemmatiseSpaCy)\n",
    "LymeDisease['abstractLemmaNoStopNLTK'] = LymeDisease['tokenisedAbstractNLTK'].apply(removeStopwordsNLTK)"
   ]
  },
  {
   "cell_type": "code",
   "execution_count": 740,
   "metadata": {
    "ExecuteTime": {
     "end_time": "2021-10-03T10:08:37.221816Z",
     "start_time": "2021-10-03T10:08:37.214214Z"
    }
   },
   "outputs": [
    {
     "data": {
      "text/plain": [
       "'Ticks Acari Ixodida be vector andor reservoir of many pathogen ie BorreliaBurgdorferiSensuLato AnaplasmaPhagocytophilum and BabesiaMicroti these pathogen be ethiological agent of such disease as Lyme borreliosis human granulocytic anaplasmosis and human babesiosis the aim of the study be to evaluate the role of the Ixodes ricinus in the transmission of BorreliaBurgdorferiSensuLato BorreliaAfzelii Borrelia garinii BorreliaBurgdorferiSensuStricto AnaplasmaPhagocytophilum and BabesiaMicroti in Opolskie Province in Poland DNA from   tick be isolate by the ammonia method the pair of primer spcific to the flagelline gene be use to detect of BorreliaBurgdorferiSensuLato to detect of genospcie of this sprochete three pair of internal primer be use in turn two pair of primer spcific to the S rDNA gene and the S rRNA be use respctively for the detection of AnaplasmaPhagocytophilum and BabesiaMicroti Borrelia burgdorferi s l AnaplasmaPhagocytophilum and BabesiaMicroti be detect in    and   of examine tick respctively of the ten tick infect with BorreliaBurgdorferiSensuLato BorreliaAfzelii be find in seven undefinied genospcie in two and mixed infection with BorreliaAfzelii and BorreliaBurgdorferiSensuStricto in one the study demonstrate the potential risk of exposure of human and animal to infection of BorreliaBurgdorferiSensuLato AnaplasmaPhagocytophilum and BabesiaMicroti in the examined area of Poland'"
      ]
     },
     "execution_count": 740,
     "metadata": {},
     "output_type": "execute_result"
    }
   ],
   "source": [
    "LymeDisease.loc[2000].abstractLemmaSpacy"
   ]
  },
  {
   "cell_type": "code",
   "execution_count": 741,
   "metadata": {
    "ExecuteTime": {
     "end_time": "2021-10-03T10:08:42.303319Z",
     "start_time": "2021-10-03T10:08:42.299098Z"
    }
   },
   "outputs": [
    {
     "data": {
      "text/plain": [
       "'Ticks Acari Ixodida are vector andor reservoir of many pathogen ie BorreliaBurgdorferiSensuLato AnaplasmaPhagocytophilum and BabesiaMicroti These pathogen are ethiological agent of such disease a Lyme borreliosis human granulocytic anaplasmosis and human babesiosis The aim of the study wa to evaluate the role of the Ixodes ricinus in the transmission of BorreliaBurgdorferiSensuLato BorreliaAfzelii Borrelia garinii BorreliaBurgdorferiSensuStricto AnaplasmaPhagocytophilum and BabesiaMicroti in Opolskie Province in Poland DNA from tick wa isolated by the ammonia method The pair of primer spcific to the flagelline gene wa used to detect of BorreliaBurgdorferiSensuLato To detect of genospcies of this sprochete three pair of internal primer were used In turn two pair of primer spcific to the S rDNA gene and the S rRNA were used respctively for the detection of AnaplasmaPhagocytophilum and BabesiaMicroti Borrelia burgdorferi s l AnaplasmaPhagocytophilum and BabesiaMicroti were detected in and of examined tick respctively Of the ten tick infected with BorreliaBurgdorferiSensuLato BorreliaAfzelii wa found in seven undefinied genospcies in two and mixed infection with BorreliaAfzelii and BorreliaBurgdorferiSensuStricto in one The study demonstrated the potential risk of exposure of human and animal to infection of BorreliaBurgdorferiSensuLato AnaplasmaPhagocytophilum and BabesiaMicroti in the examined area of Poland'"
      ]
     },
     "execution_count": 741,
     "metadata": {},
     "output_type": "execute_result"
    }
   ],
   "source": [
    "LymeDisease.loc[2000].abstractLemmaNLTK"
   ]
  },
  {
   "cell_type": "code",
   "execution_count": 742,
   "metadata": {
    "ExecuteTime": {
     "end_time": "2021-10-03T10:09:03.181826Z",
     "start_time": "2021-10-03T10:09:03.177520Z"
    }
   },
   "outputs": [
    {
     "data": {
      "text/plain": [
       "'Ticks Acari Ixodida vector andor reservoir pathogen ie BorreliaBurgdorferiSensuLato AnaplasmaPhagocytophilum BabesiaMicroti pathogen ethiological agent disease Lyme borreliosis human granulocytic anaplasmosis human babesiosis aim study evaluate role Ixodes ricinus transmission BorreliaBurgdorferiSensuLato BorreliaAfzelii Borrelia garinii BorreliaBurgdorferiSensuStricto AnaplasmaPhagocytophilum BabesiaMicroti Opolskie Province Poland DNA tick isolate ammonia method pair primer spcific flagelline gene detect BorreliaBurgdorferiSensuLato detect genospcie sprochete pair internal primer turn pair primer spcific S rDNA gene S rRNA respctively detection AnaplasmaPhagocytophilum BabesiaMicroti Borrelia burgdorferi s l AnaplasmaPhagocytophilum BabesiaMicroti detect examine tick respctively tick infect BorreliaBurgdorferiSensuLato BorreliaAfzelii find seven undefinied genospcie mixed infection BorreliaAfzelii BorreliaBurgdorferiSensuStricto study demonstrate potential risk exposure human animal infection BorreliaBurgdorferiSensuLato AnaplasmaPhagocytophilum BabesiaMicroti examined area Poland'"
      ]
     },
     "execution_count": 742,
     "metadata": {},
     "output_type": "execute_result"
    }
   ],
   "source": [
    "LymeDisease.loc[2000].abstractLemmaNoStopSpacy"
   ]
  },
  {
   "cell_type": "code",
   "execution_count": 743,
   "metadata": {
    "ExecuteTime": {
     "end_time": "2021-10-03T10:09:10.485185Z",
     "start_time": "2021-10-03T10:09:10.480870Z"
    }
   },
   "outputs": [
    {
     "data": {
      "text/plain": [
       "'Ticks Acari Ixodida vector andor reservoir many pathogen ie BorreliaBurgdorferiSensuLato AnaplasmaPhagocytophilum BabesiaMicroti pathogen ethiological agent disease Lyme borreliosis human granulocytic anaplasmosis human babesiosis aim study evaluate role Ixodes ricinus transmission BorreliaBurgdorferiSensuLato BorreliaAfzelii Borrelia garinii BorreliaBurgdorferiSensuStricto AnaplasmaPhagocytophilum BabesiaMicroti Opolskie Province Poland DNA tick isolated ammonia method pair primer spcific flagelline gene used detect BorreliaBurgdorferiSensuLato detect genospcies sprochete three pair internal primer used turn two pair primer spcific rDNA gene rRNA used respctively detection AnaplasmaPhagocytophilum BabesiaMicroti Borrelia burgdorferi l AnaplasmaPhagocytophilum BabesiaMicroti detected examined tick respctively ten tick infected BorreliaBurgdorferiSensuLato BorreliaAfzelii found seven undefinied genospcies two mixed infection BorreliaAfzelii BorreliaBurgdorferiSensuStricto one study demonstrated potential risk exposure human animal infection BorreliaBurgdorferiSensuLato AnaplasmaPhagocytophilum BabesiaMicroti examined area Poland'"
      ]
     },
     "execution_count": 743,
     "metadata": {},
     "output_type": "execute_result"
    }
   ],
   "source": [
    "LymeDisease.loc[2000].abstractLemmaNoStopNLTK"
   ]
  },
  {
   "cell_type": "code",
   "execution_count": 678,
   "metadata": {
    "ExecuteTime": {
     "end_time": "2021-10-03T09:20:32.357174Z",
     "start_time": "2021-10-03T09:20:32.352985Z"
    }
   },
   "outputs": [
    {
     "data": {
      "text/plain": [
       "'Ticks Acari Ixodida be vector andor reservoir of many pathogen ie BorreliaBurgdorferiSensuLato AnaplasmaPhagocytophilum and BabesiaMicroti these pathogen be ethiological agent of such disease as Lyme borreliosis human granulocytic anaplasmosis and human babesiosis the aim of the study be to evaluate the role of the Ixodes ricinus in the transmission of BorreliaBurgdorferiSensuLato BorreliaAfzelii Borrelia garinii BorreliaBurgdorferiSensuStricto AnaplasmaPhagocytophilum and BabesiaMicroti in Opolskie Province in Poland DNA from   tick be isolate by the ammonia method the pair of primer spcific to the flagelline gene be use to detect of BorreliaBurgdorferiSensuLato to detect of genospcie of this sprochete three pair of internal primer be use in turn two pair of primer spcific to the S rDNA gene and the S rRNA be use respctively for the detection of AnaplasmaPhagocytophilum and BabesiaMicroti Borrelia burgdorferi s l AnaplasmaPhagocytophilum and BabesiaMicroti be detect in    and   of examine tick respctively of the ten tick infect with BorreliaBurgdorferiSensuLato BorreliaAfzelii be find in seven undefinied genospcie in two and mixed infection with BorreliaAfzelii and BorreliaBurgdorferiSensuStricto in one the study demonstrate the potential risk of exposure of human and animal to infection of BorreliaBurgdorferiSensuLato AnaplasmaPhagocytophilum and BabesiaMicroti in the examined area of Poland'"
      ]
     },
     "execution_count": 678,
     "metadata": {},
     "output_type": "execute_result"
    }
   ],
   "source": [
    "\" \".join([token.lemma_ for token in tokenisedTextSpacy])"
   ]
  },
  {
   "cell_type": "code",
   "execution_count": 734,
   "metadata": {
    "ExecuteTime": {
     "end_time": "2021-10-03T10:05:05.379762Z",
     "start_time": "2021-10-03T10:05:05.374403Z"
    }
   },
   "outputs": [
    {
     "data": {
      "text/plain": [
       "'Ticks Acari Ixodida vector andor reservoir many pathogen ie BorreliaBurgdorferiSensuLato AnaplasmaPhagocytophilum BabesiaMicroti pathogen ethiological agent disease Lyme borreliosis human granulocytic anaplasmosis human babesiosis aim study evaluate role Ixodes ricinus transmission BorreliaBurgdorferiSensuLato BorreliaAfzelii Borrelia garinii BorreliaBurgdorferiSensuStricto AnaplasmaPhagocytophilum BabesiaMicroti Opolskie Province Poland DNA tick isolated ammonia method pair primer spcific flagelline gene used detect BorreliaBurgdorferiSensuLato detect genospcies sprochete three pair internal primer used turn two pair primer spcific rDNA gene rRNA used respctively detection AnaplasmaPhagocytophilum BabesiaMicroti Borrelia burgdorferi l AnaplasmaPhagocytophilum BabesiaMicroti detected examined tick respctively ten tick infected BorreliaBurgdorferiSensuLato BorreliaAfzelii found seven undefinied genospcies two mixed infection BorreliaAfzelii BorreliaBurgdorferiSensuStricto one study demonstrated potential risk exposure human animal infection BorreliaBurgdorferiSensuLato AnaplasmaPhagocytophilum BabesiaMicroti examined area Poland'"
      ]
     },
     "execution_count": 734,
     "metadata": {},
     "output_type": "execute_result"
    }
   ],
   "source": [
    "\" \".join([lemmatizer.lemmatize(t) for t in tokenisedTextNLTK if t.lower() not in stoplist])"
   ]
  },
  {
   "cell_type": "markdown",
   "metadata": {
    "ExecuteTime": {
     "end_time": "2021-10-01T23:54:39.301973Z",
     "start_time": "2021-10-01T23:54:39.297179Z"
    }
   },
   "source": [
    "## EDA"
   ]
  },
  {
   "cell_type": "markdown",
   "metadata": {},
   "source": [
    "### Basic Overview"
   ]
  },
  {
   "cell_type": "code",
   "execution_count": 744,
   "metadata": {
    "ExecuteTime": {
     "end_time": "2021-10-03T10:10:04.273117Z",
     "start_time": "2021-10-03T10:10:04.256891Z"
    }
   },
   "outputs": [
    {
     "name": "stdout",
     "output_type": "stream",
     "text": [
      "<class 'pandas.core.frame.DataFrame'>\n",
      "RangeIndex: 2720 entries, 0 to 2719\n",
      "Data columns (total 24 columns):\n",
      " #   Column                    Non-Null Count  Dtype  \n",
      "---  ------                    --------------  -----  \n",
      " 0   index                     2720 non-null   int64  \n",
      " 1   publication               2720 non-null   object \n",
      " 2   title                     2720 non-null   object \n",
      " 3   authors                   2717 non-null   object \n",
      " 4   doi                       2720 non-null   object \n",
      " 5   year                      2720 non-null   float64\n",
      " 6   cites                     2720 non-null   int64  \n",
      " 7   type                      2720 non-null   object \n",
      " 8   abstract                  2720 non-null   object \n",
      " 9   article_url               0 non-null      float64\n",
      " 10  fulltext_url              0 non-null      float64\n",
      " 11  abstractLength            2720 non-null   float64\n",
      " 12  pubmed                    2720 non-null   int64  \n",
      " 13  clean_text                2720 non-null   object \n",
      " 14  clean_abstract            2720 non-null   object \n",
      " 15  cleaner_abstract          2720 non-null   object \n",
      " 16  tokenisedAbstractSpacy    2720 non-null   object \n",
      " 17  tokenisedAbstractNLTK     2720 non-null   object \n",
      " 18  abstractNoStopSpacy       2720 non-null   object \n",
      " 19  abstractNoStopNLTK        2720 non-null   object \n",
      " 20  abstractLemmaSpacy        2720 non-null   object \n",
      " 21  abstractLemmaNLTK         2720 non-null   object \n",
      " 22  abstractLemmaNoStopSpacy  2720 non-null   object \n",
      " 23  abstractLemmaNoStopNLTK   2720 non-null   object \n",
      "dtypes: float64(4), int64(3), object(17)\n",
      "memory usage: 510.1+ KB\n"
     ]
    }
   ],
   "source": [
    "LymeDisease.info()"
   ]
  },
  {
   "cell_type": "code",
   "execution_count": 745,
   "metadata": {
    "ExecuteTime": {
     "end_time": "2021-10-03T10:10:06.774117Z",
     "start_time": "2021-10-03T10:10:06.743472Z"
    }
   },
   "outputs": [
    {
     "data": {
      "text/html": [
       "<div>\n",
       "<style scoped>\n",
       "    .dataframe tbody tr th:only-of-type {\n",
       "        vertical-align: middle;\n",
       "    }\n",
       "\n",
       "    .dataframe tbody tr th {\n",
       "        vertical-align: top;\n",
       "    }\n",
       "\n",
       "    .dataframe thead th {\n",
       "        text-align: right;\n",
       "    }\n",
       "</style>\n",
       "<table border=\"1\" class=\"dataframe\">\n",
       "  <thead>\n",
       "    <tr style=\"text-align: right;\">\n",
       "      <th></th>\n",
       "      <th>index</th>\n",
       "      <th>year</th>\n",
       "      <th>cites</th>\n",
       "      <th>article_url</th>\n",
       "      <th>fulltext_url</th>\n",
       "      <th>abstractLength</th>\n",
       "      <th>pubmed</th>\n",
       "    </tr>\n",
       "  </thead>\n",
       "  <tbody>\n",
       "    <tr>\n",
       "      <th>count</th>\n",
       "      <td>2720.000000</td>\n",
       "      <td>2720.000000</td>\n",
       "      <td>2720.0</td>\n",
       "      <td>0.0</td>\n",
       "      <td>0.0</td>\n",
       "      <td>2720.000000</td>\n",
       "      <td>2720.0</td>\n",
       "    </tr>\n",
       "    <tr>\n",
       "      <th>mean</th>\n",
       "      <td>2307.337132</td>\n",
       "      <td>2016.055147</td>\n",
       "      <td>0.0</td>\n",
       "      <td>NaN</td>\n",
       "      <td>NaN</td>\n",
       "      <td>1477.532353</td>\n",
       "      <td>1.0</td>\n",
       "    </tr>\n",
       "    <tr>\n",
       "      <th>std</th>\n",
       "      <td>1300.447544</td>\n",
       "      <td>3.327957</td>\n",
       "      <td>0.0</td>\n",
       "      <td>NaN</td>\n",
       "      <td>NaN</td>\n",
       "      <td>498.685677</td>\n",
       "      <td>0.0</td>\n",
       "    </tr>\n",
       "    <tr>\n",
       "      <th>min</th>\n",
       "      <td>0.000000</td>\n",
       "      <td>2010.000000</td>\n",
       "      <td>0.0</td>\n",
       "      <td>NaN</td>\n",
       "      <td>NaN</td>\n",
       "      <td>131.000000</td>\n",
       "      <td>1.0</td>\n",
       "    </tr>\n",
       "    <tr>\n",
       "      <th>25%</th>\n",
       "      <td>1197.750000</td>\n",
       "      <td>2014.000000</td>\n",
       "      <td>0.0</td>\n",
       "      <td>NaN</td>\n",
       "      <td>NaN</td>\n",
       "      <td>1154.000000</td>\n",
       "      <td>1.0</td>\n",
       "    </tr>\n",
       "    <tr>\n",
       "      <th>50%</th>\n",
       "      <td>2330.500000</td>\n",
       "      <td>2016.000000</td>\n",
       "      <td>0.0</td>\n",
       "      <td>NaN</td>\n",
       "      <td>NaN</td>\n",
       "      <td>1479.000000</td>\n",
       "      <td>1.0</td>\n",
       "    </tr>\n",
       "    <tr>\n",
       "      <th>75%</th>\n",
       "      <td>3479.250000</td>\n",
       "      <td>2019.000000</td>\n",
       "      <td>0.0</td>\n",
       "      <td>NaN</td>\n",
       "      <td>NaN</td>\n",
       "      <td>1768.500000</td>\n",
       "      <td>1.0</td>\n",
       "    </tr>\n",
       "    <tr>\n",
       "      <th>max</th>\n",
       "      <td>4496.000000</td>\n",
       "      <td>2021.000000</td>\n",
       "      <td>0.0</td>\n",
       "      <td>NaN</td>\n",
       "      <td>NaN</td>\n",
       "      <td>3980.000000</td>\n",
       "      <td>1.0</td>\n",
       "    </tr>\n",
       "  </tbody>\n",
       "</table>\n",
       "</div>"
      ],
      "text/plain": [
       "             index         year   cites  article_url  fulltext_url  \\\n",
       "count  2720.000000  2720.000000  2720.0          0.0           0.0   \n",
       "mean   2307.337132  2016.055147     0.0          NaN           NaN   \n",
       "std    1300.447544     3.327957     0.0          NaN           NaN   \n",
       "min       0.000000  2010.000000     0.0          NaN           NaN   \n",
       "25%    1197.750000  2014.000000     0.0          NaN           NaN   \n",
       "50%    2330.500000  2016.000000     0.0          NaN           NaN   \n",
       "75%    3479.250000  2019.000000     0.0          NaN           NaN   \n",
       "max    4496.000000  2021.000000     0.0          NaN           NaN   \n",
       "\n",
       "       abstractLength  pubmed  \n",
       "count     2720.000000  2720.0  \n",
       "mean      1477.532353     1.0  \n",
       "std        498.685677     0.0  \n",
       "min        131.000000     1.0  \n",
       "25%       1154.000000     1.0  \n",
       "50%       1479.000000     1.0  \n",
       "75%       1768.500000     1.0  \n",
       "max       3980.000000     1.0  "
      ]
     },
     "execution_count": 745,
     "metadata": {},
     "output_type": "execute_result"
    }
   ],
   "source": [
    "LymeDisease.describe()"
   ]
  },
  {
   "cell_type": "code",
   "execution_count": 746,
   "metadata": {
    "ExecuteTime": {
     "end_time": "2021-10-03T10:10:12.482203Z",
     "start_time": "2021-10-03T10:10:12.458442Z"
    }
   },
   "outputs": [
    {
     "data": {
      "text/html": [
       "<div>\n",
       "<style scoped>\n",
       "    .dataframe tbody tr th:only-of-type {\n",
       "        vertical-align: middle;\n",
       "    }\n",
       "\n",
       "    .dataframe tbody tr th {\n",
       "        vertical-align: top;\n",
       "    }\n",
       "\n",
       "    .dataframe thead th {\n",
       "        text-align: right;\n",
       "    }\n",
       "</style>\n",
       "<table border=\"1\" class=\"dataframe\">\n",
       "  <thead>\n",
       "    <tr style=\"text-align: right;\">\n",
       "      <th></th>\n",
       "      <th>index</th>\n",
       "      <th>publication</th>\n",
       "      <th>title</th>\n",
       "      <th>authors</th>\n",
       "      <th>doi</th>\n",
       "      <th>year</th>\n",
       "      <th>cites</th>\n",
       "      <th>type</th>\n",
       "      <th>abstract</th>\n",
       "      <th>article_url</th>\n",
       "      <th>...</th>\n",
       "      <th>clean_abstract</th>\n",
       "      <th>cleaner_abstract</th>\n",
       "      <th>tokenisedAbstractSpacy</th>\n",
       "      <th>tokenisedAbstractNLTK</th>\n",
       "      <th>abstractNoStopSpacy</th>\n",
       "      <th>abstractNoStopNLTK</th>\n",
       "      <th>abstractLemmaSpacy</th>\n",
       "      <th>abstractLemmaNLTK</th>\n",
       "      <th>abstractLemmaNoStopSpacy</th>\n",
       "      <th>abstractLemmaNoStopNLTK</th>\n",
       "    </tr>\n",
       "  </thead>\n",
       "  <tbody>\n",
       "    <tr>\n",
       "      <th>982</th>\n",
       "      <td>1729</td>\n",
       "      <td>Workplace health &amp; safety</td>\n",
       "      <td>Lyme Disease.</td>\n",
       "      <td>[{'name': 'Susan A Randolph', 'affiliation': '...</td>\n",
       "      <td>10.1177/2165079915616398</td>\n",
       "      <td>2016.0</td>\n",
       "      <td>0</td>\n",
       "      <td>Journal Article</td>\n",
       "      <td>Occupational and environmental health nurses s...</td>\n",
       "      <td>NaN</td>\n",
       "      <td>...</td>\n",
       "      <td>Occupational and environmental health nurses s...</td>\n",
       "      <td>Occupational and environmental health nurses s...</td>\n",
       "      <td>(Occupational, and, environmental, health, nur...</td>\n",
       "      <td>[Occupational, and, environmental, health, nur...</td>\n",
       "      <td>Occupational environmental health nurses educa...</td>\n",
       "      <td>Occupational environmental health nurses educa...</td>\n",
       "      <td>occupational and environmental health nurse sh...</td>\n",
       "      <td>Ticks Acari Ixodida are vector andor reservoir...</td>\n",
       "      <td>occupational environmental health nurse educat...</td>\n",
       "      <td>Occupational environmental health nurse educat...</td>\n",
       "    </tr>\n",
       "  </tbody>\n",
       "</table>\n",
       "<p>1 rows × 24 columns</p>\n",
       "</div>"
      ],
      "text/plain": [
       "     index                publication          title  \\\n",
       "982   1729  Workplace health & safety  Lyme Disease.   \n",
       "\n",
       "                                               authors  \\\n",
       "982  [{'name': 'Susan A Randolph', 'affiliation': '...   \n",
       "\n",
       "                          doi    year  cites             type  \\\n",
       "982  10.1177/2165079915616398  2016.0      0  Journal Article   \n",
       "\n",
       "                                              abstract  article_url  ...  \\\n",
       "982  Occupational and environmental health nurses s...          NaN  ...   \n",
       "\n",
       "                                        clean_abstract  \\\n",
       "982  Occupational and environmental health nurses s...   \n",
       "\n",
       "                                      cleaner_abstract  \\\n",
       "982  Occupational and environmental health nurses s...   \n",
       "\n",
       "                                tokenisedAbstractSpacy  \\\n",
       "982  (Occupational, and, environmental, health, nur...   \n",
       "\n",
       "                                 tokenisedAbstractNLTK  \\\n",
       "982  [Occupational, and, environmental, health, nur...   \n",
       "\n",
       "                                   abstractNoStopSpacy  \\\n",
       "982  Occupational environmental health nurses educa...   \n",
       "\n",
       "                                    abstractNoStopNLTK  \\\n",
       "982  Occupational environmental health nurses educa...   \n",
       "\n",
       "                                    abstractLemmaSpacy  \\\n",
       "982  occupational and environmental health nurse sh...   \n",
       "\n",
       "                                     abstractLemmaNLTK  \\\n",
       "982  Ticks Acari Ixodida are vector andor reservoir...   \n",
       "\n",
       "                              abstractLemmaNoStopSpacy  \\\n",
       "982  occupational environmental health nurse educat...   \n",
       "\n",
       "                               abstractLemmaNoStopNLTK  \n",
       "982  Occupational environmental health nurse educat...  \n",
       "\n",
       "[1 rows x 24 columns]"
      ]
     },
     "execution_count": 746,
     "metadata": {},
     "output_type": "execute_result"
    }
   ],
   "source": [
    "LymeDisease[LymeDisease.abstractLength==131]"
   ]
  },
  {
   "cell_type": "code",
   "execution_count": 747,
   "metadata": {
    "ExecuteTime": {
     "end_time": "2021-10-03T10:10:14.913370Z",
     "start_time": "2021-10-03T10:10:14.907744Z"
    }
   },
   "outputs": [
    {
     "data": {
      "text/plain": [
       "['Occupational and environmental health nurses should educate workers about ways to prevent tick bites, which can cause Lyme disease.']"
      ]
     },
     "execution_count": 747,
     "metadata": {},
     "output_type": "execute_result"
    }
   ],
   "source": [
    "list(LymeDisease[LymeDisease.abstractLength==131].abstract)"
   ]
  },
  {
   "cell_type": "markdown",
   "metadata": {},
   "source": [
    "### Abstract Length"
   ]
  },
  {
   "cell_type": "code",
   "execution_count": 748,
   "metadata": {
    "ExecuteTime": {
     "end_time": "2021-10-03T10:10:18.309884Z",
     "start_time": "2021-10-03T10:10:18.038230Z"
    }
   },
   "outputs": [
    {
     "data": {
      "image/png": "[encoded data removed]",
      "text/plain": [
       "<Figure size 1080x720 with 1 Axes>"
      ]
     },
     "metadata": {
      "needs_background": "light"
     },
     "output_type": "display_data"
    }
   ],
   "source": [
    "LymeDisease.abstractLength.hist()\n",
    "plt.xlabel('Abstract Length')\n",
    "plt.xlabel('Count')\n",
    "plt.title('Length of Abstracts in PubMed Results');"
   ]
  },
  {
   "cell_type": "code",
   "execution_count": 749,
   "metadata": {
    "ExecuteTime": {
     "end_time": "2021-10-03T10:10:21.868758Z",
     "start_time": "2021-10-03T10:10:21.818227Z"
    }
   },
   "outputs": [
    {
     "name": "stderr",
     "output_type": "stream",
     "text": [
      "/Users/myfriendscallmej/anaconda3/lib/python3.7/site-packages/pandas/core/strings/accessor.py:101: UserWarning: This pattern has match groups. To actually get the groups, use str.extract.\n",
      "  return func(self, *args, **kwargs)\n"
     ]
    },
    {
     "data": {
      "text/plain": [
       "1407"
      ]
     },
     "execution_count": 749,
     "metadata": {},
     "output_type": "execute_result"
    }
   ],
   "source": [
    "len(LymeDisease[LymeDisease.abstract.str.contains('© | (C)')])"
   ]
  },
  {
   "cell_type": "code",
   "execution_count": 750,
   "metadata": {
    "ExecuteTime": {
     "end_time": "2021-10-03T10:10:33.577923Z",
     "start_time": "2021-10-03T10:10:33.541463Z"
    }
   },
   "outputs": [
    {
     "data": {
      "text/html": [
       "<div>\n",
       "<style scoped>\n",
       "    .dataframe tbody tr th:only-of-type {\n",
       "        vertical-align: middle;\n",
       "    }\n",
       "\n",
       "    .dataframe tbody tr th {\n",
       "        vertical-align: top;\n",
       "    }\n",
       "\n",
       "    .dataframe thead th {\n",
       "        text-align: right;\n",
       "    }\n",
       "</style>\n",
       "<table border=\"1\" class=\"dataframe\">\n",
       "  <thead>\n",
       "    <tr style=\"text-align: right;\">\n",
       "      <th></th>\n",
       "      <th>index</th>\n",
       "      <th>publication</th>\n",
       "      <th>title</th>\n",
       "      <th>authors</th>\n",
       "      <th>doi</th>\n",
       "      <th>year</th>\n",
       "      <th>cites</th>\n",
       "      <th>type</th>\n",
       "      <th>abstract</th>\n",
       "      <th>article_url</th>\n",
       "      <th>...</th>\n",
       "      <th>clean_abstract</th>\n",
       "      <th>cleaner_abstract</th>\n",
       "      <th>tokenisedAbstractSpacy</th>\n",
       "      <th>tokenisedAbstractNLTK</th>\n",
       "      <th>abstractNoStopSpacy</th>\n",
       "      <th>abstractNoStopNLTK</th>\n",
       "      <th>abstractLemmaSpacy</th>\n",
       "      <th>abstractLemmaNLTK</th>\n",
       "      <th>abstractLemmaNoStopSpacy</th>\n",
       "      <th>abstractLemmaNoStopNLTK</th>\n",
       "    </tr>\n",
       "  </thead>\n",
       "  <tbody>\n",
       "    <tr>\n",
       "      <th>1368</th>\n",
       "      <td>2342</td>\n",
       "      <td>Radiographics</td>\n",
       "      <td>White Matter Diseases with Radiologic-Patholog...</td>\n",
       "      <td>[{'name': 'Nicolae Sarbu', 'affiliation': 'Fro...</td>\n",
       "      <td>10.1148/rg.2016160031</td>\n",
       "      <td>2016.0</td>\n",
       "      <td>0</td>\n",
       "      <td>Journal Article</td>\n",
       "      <td>White matter diseases include a wide spectrum ...</td>\n",
       "      <td>NaN</td>\n",
       "      <td>...</td>\n",
       "      <td>White matter diseases include a wide spctrum o...</td>\n",
       "      <td>White matter diseases include a wide spctrum o...</td>\n",
       "      <td>(White, matter, diseases, include, a, wide, sp...</td>\n",
       "      <td>[White, matter, diseases, include, a, wide, sp...</td>\n",
       "      <td>White matter diseases include wide spctrum dis...</td>\n",
       "      <td>White matter diseases include wide spctrum dis...</td>\n",
       "      <td>white matter disease include a wide spctrum of...</td>\n",
       "      <td>Ticks Acari Ixodida are vector andor reservoir...</td>\n",
       "      <td>white matter disease include wide spctrum diso...</td>\n",
       "      <td>White matter disease include wide spctrum diso...</td>\n",
       "    </tr>\n",
       "    <tr>\n",
       "      <th>2071</th>\n",
       "      <td>3527</td>\n",
       "      <td>Radiographics</td>\n",
       "      <td>Neuroimaging of Emergent and Reemergent Infect...</td>\n",
       "      <td>[{'name': 'Rafael Lourenço do Carmo', 'affilia...</td>\n",
       "      <td>10.1148/rg.2019190020</td>\n",
       "      <td>2019.0</td>\n",
       "      <td>0</td>\n",
       "      <td>Journal Article</td>\n",
       "      <td>Infectious diseases emerge and reemerge over t...</td>\n",
       "      <td>NaN</td>\n",
       "      <td>...</td>\n",
       "      <td>Infectious diseases emerge and reemerge over t...</td>\n",
       "      <td>Infectious diseases emerge and reemerge over t...</td>\n",
       "      <td>(Infectious, diseases, emerge, and, reemerge, ...</td>\n",
       "      <td>[Infectious, diseases, emerge, and, reemerge, ...</td>\n",
       "      <td>Infectious diseases emerge reemerge years caus...</td>\n",
       "      <td>Infectious diseases emerge reemerge years many...</td>\n",
       "      <td>infectious disease emerge and reemerge over th...</td>\n",
       "      <td>Ticks Acari Ixodida are vector andor reservoir...</td>\n",
       "      <td>infectious disease emerge reemerge year cause ...</td>\n",
       "      <td>Infectious disease emerge reemerge year many c...</td>\n",
       "    </tr>\n",
       "    <tr>\n",
       "      <th>2652</th>\n",
       "      <td>4350</td>\n",
       "      <td>Current protocols</td>\n",
       "      <td>Transformation of Borrelia burgdorferi.</td>\n",
       "      <td>[{'name': 'J Seshu', 'affiliation': 'Departmen...</td>\n",
       "      <td>10.1002/cpz1.61</td>\n",
       "      <td>2021.0</td>\n",
       "      <td>0</td>\n",
       "      <td>Journal Article</td>\n",
       "      <td>Transformation techniques used to genetically ...</td>\n",
       "      <td>NaN</td>\n",
       "      <td>...</td>\n",
       "      <td>Transformation techniques used to genetically ...</td>\n",
       "      <td>Transformation techniques used to genetically ...</td>\n",
       "      <td>(Transformation, techniques, used, to, genetic...</td>\n",
       "      <td>[Transformation, techniques, used, to, genetic...</td>\n",
       "      <td>Transformation techniques genetically manipula...</td>\n",
       "      <td>Transformation techniques used genetically man...</td>\n",
       "      <td>transformation technique use to genetically ma...</td>\n",
       "      <td>Ticks Acari Ixodida are vector andor reservoir...</td>\n",
       "      <td>transformation technique genetically manipulat...</td>\n",
       "      <td>Transformation technique used genetically mani...</td>\n",
       "    </tr>\n",
       "  </tbody>\n",
       "</table>\n",
       "<p>3 rows × 24 columns</p>\n",
       "</div>"
      ],
      "text/plain": [
       "      index        publication  \\\n",
       "1368   2342      Radiographics   \n",
       "2071   3527      Radiographics   \n",
       "2652   4350  Current protocols   \n",
       "\n",
       "                                                  title  \\\n",
       "1368  White Matter Diseases with Radiologic-Patholog...   \n",
       "2071  Neuroimaging of Emergent and Reemergent Infect...   \n",
       "2652            Transformation of Borrelia burgdorferi.   \n",
       "\n",
       "                                                authors  \\\n",
       "1368  [{'name': 'Nicolae Sarbu', 'affiliation': 'Fro...   \n",
       "2071  [{'name': 'Rafael Lourenço do Carmo', 'affilia...   \n",
       "2652  [{'name': 'J Seshu', 'affiliation': 'Departmen...   \n",
       "\n",
       "                        doi    year  cites             type  \\\n",
       "1368  10.1148/rg.2016160031  2016.0      0  Journal Article   \n",
       "2071  10.1148/rg.2019190020  2019.0      0  Journal Article   \n",
       "2652        10.1002/cpz1.61  2021.0      0  Journal Article   \n",
       "\n",
       "                                               abstract  article_url  ...  \\\n",
       "1368  White matter diseases include a wide spectrum ...          NaN  ...   \n",
       "2071  Infectious diseases emerge and reemerge over t...          NaN  ...   \n",
       "2652  Transformation techniques used to genetically ...          NaN  ...   \n",
       "\n",
       "                                         clean_abstract  \\\n",
       "1368  White matter diseases include a wide spctrum o...   \n",
       "2071  Infectious diseases emerge and reemerge over t...   \n",
       "2652  Transformation techniques used to genetically ...   \n",
       "\n",
       "                                       cleaner_abstract  \\\n",
       "1368  White matter diseases include a wide spctrum o...   \n",
       "2071  Infectious diseases emerge and reemerge over t...   \n",
       "2652  Transformation techniques used to genetically ...   \n",
       "\n",
       "                                 tokenisedAbstractSpacy  \\\n",
       "1368  (White, matter, diseases, include, a, wide, sp...   \n",
       "2071  (Infectious, diseases, emerge, and, reemerge, ...   \n",
       "2652  (Transformation, techniques, used, to, genetic...   \n",
       "\n",
       "                                  tokenisedAbstractNLTK  \\\n",
       "1368  [White, matter, diseases, include, a, wide, sp...   \n",
       "2071  [Infectious, diseases, emerge, and, reemerge, ...   \n",
       "2652  [Transformation, techniques, used, to, genetic...   \n",
       "\n",
       "                                    abstractNoStopSpacy  \\\n",
       "1368  White matter diseases include wide spctrum dis...   \n",
       "2071  Infectious diseases emerge reemerge years caus...   \n",
       "2652  Transformation techniques genetically manipula...   \n",
       "\n",
       "                                     abstractNoStopNLTK  \\\n",
       "1368  White matter diseases include wide spctrum dis...   \n",
       "2071  Infectious diseases emerge reemerge years many...   \n",
       "2652  Transformation techniques used genetically man...   \n",
       "\n",
       "                                     abstractLemmaSpacy  \\\n",
       "1368  white matter disease include a wide spctrum of...   \n",
       "2071  infectious disease emerge and reemerge over th...   \n",
       "2652  transformation technique use to genetically ma...   \n",
       "\n",
       "                                      abstractLemmaNLTK  \\\n",
       "1368  Ticks Acari Ixodida are vector andor reservoir...   \n",
       "2071  Ticks Acari Ixodida are vector andor reservoir...   \n",
       "2652  Ticks Acari Ixodida are vector andor reservoir...   \n",
       "\n",
       "                               abstractLemmaNoStopSpacy  \\\n",
       "1368  white matter disease include wide spctrum diso...   \n",
       "2071  infectious disease emerge reemerge year cause ...   \n",
       "2652  transformation technique genetically manipulat...   \n",
       "\n",
       "                                abstractLemmaNoStopNLTK  \n",
       "1368  White matter disease include wide spctrum diso...  \n",
       "2071  Infectious disease emerge reemerge year many c...  \n",
       "2652  Transformation technique used genetically mani...  \n",
       "\n",
       "[3 rows x 24 columns]"
      ]
     },
     "execution_count": 750,
     "metadata": {},
     "output_type": "execute_result"
    }
   ],
   "source": [
    "LymeDisease[LymeDisease.abstract.str.contains('©')]"
   ]
  },
  {
   "cell_type": "code",
   "execution_count": 51,
   "metadata": {
    "ExecuteTime": {
     "end_time": "2021-09-17T08:24:04.164701Z",
     "start_time": "2021-09-17T08:23:58.549451Z"
    }
   },
   "outputs": [
    {
     "name": "stdout",
     "output_type": "stream",
     "text": [
      "2021-09-17 20:23:58,550 loading file /Users/myfriendscallmej/.flair/models/sentiment-en-mix-distillbert_4.pt\n"
     ]
    }
   ],
   "source": [
    "flairClassifier = TextClassifier.load('en-sentiment')"
   ]
  },
  {
   "cell_type": "code",
   "execution_count": 57,
   "metadata": {
    "ExecuteTime": {
     "end_time": "2021-09-17T08:26:17.212501Z",
     "start_time": "2021-09-17T08:26:17.208586Z"
    }
   },
   "outputs": [],
   "source": [
    "def flair_prediction(x):\n",
    "    sentence = Sentence(x)\n",
    "    flairClassifier.predict(sentence)\n",
    "    score = sentence.labels[0]\n",
    "    if \"POSITIVE\" in str(score):\n",
    "        return \"pos\"\n",
    "    elif \"NEGATIVE\" in str(score):\n",
    "        return \"neg\"\n",
    "    else:\n",
    "        return \"neu\""
   ]
  },
  {
   "cell_type": "code",
   "execution_count": 19,
   "metadata": {
    "ExecuteTime": {
     "end_time": "2021-09-17T06:00:45.859359Z",
     "start_time": "2021-09-17T06:00:45.856627Z"
    }
   },
   "outputs": [],
   "source": [
    "tba = Blobber(analyzer=NaiveBayesAnalyzer())"
   ]
  },
  {
   "cell_type": "code",
   "execution_count": 20,
   "metadata": {
    "ExecuteTime": {
     "end_time": "2021-09-17T06:01:26.340014Z",
     "start_time": "2021-09-17T06:01:09.576005Z"
    }
   },
   "outputs": [
    {
     "name": "stderr",
     "output_type": "stream",
     "text": [
      "/Users/myfriendscallmej/anaconda3/lib/python3.7/site-packages/ipykernel_launcher.py:1: SettingWithCopyWarning: \n",
      "A value is trying to be set on a copy of a slice from a DataFrame.\n",
      "Try using .loc[row_indexer,col_indexer] = value instead\n",
      "\n",
      "See the caveats in the documentation: https://pandas.pydata.org/pandas-docs/stable/user_guide/indexing.html#returning-a-view-versus-a-copy\n",
      "  \"\"\"Entry point for launching an IPython kernel.\n",
      "/Users/myfriendscallmej/anaconda3/lib/python3.7/site-packages/ipykernel_launcher.py:3: SettingWithCopyWarning: \n",
      "A value is trying to be set on a copy of a slice from a DataFrame.\n",
      "Try using .loc[row_indexer,col_indexer] = value instead\n",
      "\n",
      "See the caveats in the documentation: https://pandas.pydata.org/pandas-docs/stable/user_guide/indexing.html#returning-a-view-versus-a-copy\n",
      "  This is separate from the ipykernel package so we can avoid doing imports until\n",
      "/Users/myfriendscallmej/anaconda3/lib/python3.7/site-packages/ipykernel_launcher.py:4: SettingWithCopyWarning: \n",
      "A value is trying to be set on a copy of a slice from a DataFrame.\n",
      "Try using .loc[row_indexer,col_indexer] = value instead\n",
      "\n",
      "See the caveats in the documentation: https://pandas.pydata.org/pandas-docs/stable/user_guide/indexing.html#returning-a-view-versus-a-copy\n",
      "  after removing the cwd from sys.path.\n"
     ]
    }
   ],
   "source": [
    "LymeDisease['abstractSentimentScore_TB'] = LymeDisease['abstract'].apply(lambda text: TextBlob(text).sentiment[0])\n",
    "LymeDisease['abstractSentiment_TB'] = np.select([LymeDisease[\"abstractSentimentScore_TB\"] < 0, LymeDisease[\"abstractSentimentScore_TB\"] == 0, LymeDisease[\"abstractSentimentScore_TB\"] > 0],\n",
    "                           ['neg', 'neu', 'pos'])\n",
    "LymeDisease['abstractSentiment_TB_NB'] = LymeDisease['abstract'].apply(lambda text: tba(text).sentiment[0])"
   ]
  },
  {
   "cell_type": "code",
   "execution_count": 109,
   "metadata": {
    "ExecuteTime": {
     "end_time": "2021-09-17T09:17:58.832546Z",
     "start_time": "2021-09-17T09:00:40.915266Z"
    }
   },
   "outputs": [
    {
     "name": "stderr",
     "output_type": "stream",
     "text": [
      "/Users/myfriendscallmej/anaconda3/lib/python3.7/site-packages/ipykernel_launcher.py:1: SettingWithCopyWarning: \n",
      "A value is trying to be set on a copy of a slice from a DataFrame.\n",
      "Try using .loc[row_indexer,col_indexer] = value instead\n",
      "\n",
      "See the caveats in the documentation: https://pandas.pydata.org/pandas-docs/stable/user_guide/indexing.html#returning-a-view-versus-a-copy\n",
      "  \"\"\"Entry point for launching an IPython kernel.\n"
     ]
    }
   ],
   "source": [
    "LymeDisease['abstractSentiment_Flair'] = LymeDisease['abstract'].apply(flair_prediction)       "
   ]
  },
  {
   "cell_type": "markdown",
   "metadata": {},
   "source": [
    "### Abstract Sentiment Score"
   ]
  },
  {
   "cell_type": "code",
   "execution_count": 112,
   "metadata": {
    "ExecuteTime": {
     "end_time": "2021-09-17T23:39:34.514604Z",
     "start_time": "2021-09-17T23:39:34.181220Z"
    }
   },
   "outputs": [
    {
     "data": {
      "text/plain": [
       "<matplotlib.axes._subplots.AxesSubplot at 0x7fdb0ec17a58>"
      ]
     },
     "execution_count": 112,
     "metadata": {},
     "output_type": "execute_result"
    },
    {
     "data": {
      "image/png": "[encoded data removed]",
      "text/plain": [
       "<Figure size 1080x720 with 1 Axes>"
      ]
     },
     "metadata": {
      "needs_background": "light"
     },
     "output_type": "display_data"
    }
   ],
   "source": [
    "LymeDisease.abstractSentimentScore_TB.hist()"
   ]
  },
  {
   "cell_type": "code",
   "execution_count": 129,
   "metadata": {
    "ExecuteTime": {
     "end_time": "2021-09-17T23:52:44.536507Z",
     "start_time": "2021-09-17T23:52:44.531385Z"
    }
   },
   "outputs": [],
   "source": [
    "flairCounts = LymeDisease.abstractSentiment_Flair.value_counts()\n",
    "TBcounts = LymeDisease.abstractSentiment_TB.value_counts()\n",
    "TBNBcounts = LymeDisease.abstractSentiment_TB_NB.value_counts()"
   ]
  },
  {
   "cell_type": "code",
   "execution_count": 136,
   "metadata": {
    "ExecuteTime": {
     "end_time": "2021-09-17T23:56:26.495533Z",
     "start_time": "2021-09-17T23:56:26.491287Z"
    }
   },
   "outputs": [],
   "source": [
    "flairCountsDF = pd.DataFrame(flairCounts)\n",
    "TBcountsDF = pd.DataFrame(TBcounts)\n",
    "TBNBcountsDF = pd.DataFrame(TBNBcounts)"
   ]
  },
  {
   "cell_type": "code",
   "execution_count": 151,
   "metadata": {
    "ExecuteTime": {
     "end_time": "2021-09-18T00:02:41.554797Z",
     "start_time": "2021-09-18T00:02:41.542600Z"
    }
   },
   "outputs": [
    {
     "data": {
      "text/html": [
       "<div>\n",
       "<style scoped>\n",
       "    .dataframe tbody tr th:only-of-type {\n",
       "        vertical-align: middle;\n",
       "    }\n",
       "\n",
       "    .dataframe tbody tr th {\n",
       "        vertical-align: top;\n",
       "    }\n",
       "\n",
       "    .dataframe thead th {\n",
       "        text-align: right;\n",
       "    }\n",
       "</style>\n",
       "<table border=\"1\" class=\"dataframe\">\n",
       "  <thead>\n",
       "    <tr style=\"text-align: right;\">\n",
       "      <th></th>\n",
       "      <th>TextBlobber</th>\n",
       "      <th>TextBlobber - Naive Bayes</th>\n",
       "      <th>Flair</th>\n",
       "    </tr>\n",
       "  </thead>\n",
       "  <tbody>\n",
       "    <tr>\n",
       "      <th>pos</th>\n",
       "      <td>2382</td>\n",
       "      <td>2671.0</td>\n",
       "      <td>792.0</td>\n",
       "    </tr>\n",
       "    <tr>\n",
       "      <th>neg</th>\n",
       "      <td>315</td>\n",
       "      <td>49.0</td>\n",
       "      <td>1928.0</td>\n",
       "    </tr>\n",
       "    <tr>\n",
       "      <th>neu</th>\n",
       "      <td>23</td>\n",
       "      <td>0.0</td>\n",
       "      <td>0.0</td>\n",
       "    </tr>\n",
       "  </tbody>\n",
       "</table>\n",
       "</div>"
      ],
      "text/plain": [
       "     TextBlobber  TextBlobber - Naive Bayes   Flair\n",
       "pos         2382                     2671.0   792.0\n",
       "neg          315                       49.0  1928.0\n",
       "neu           23                        0.0     0.0"
      ]
     },
     "execution_count": 151,
     "metadata": {},
     "output_type": "execute_result"
    }
   ],
   "source": [
    "sentimentValueCounts = TBcountsDF.merge(TBNBcountsDF, how='left', left_index=True, right_index=True).merge(flairCountsDF, how='left', left_index=True, right_index=True)\n",
    "sentimentValueCounts.fillna(0, inplace=True)\n",
    "sentimentValueCounts.columns = ['TextBlobber', 'TextBlobber - Naive Bayes', 'Flair']\n",
    "sentimentValueCounts"
   ]
  },
  {
   "cell_type": "code",
   "execution_count": 154,
   "metadata": {
    "ExecuteTime": {
     "end_time": "2021-09-18T00:03:38.451423Z",
     "start_time": "2021-09-18T00:03:38.445559Z"
    }
   },
   "outputs": [
    {
     "data": {
      "text/plain": [
       "TextBlobber                  2720.0\n",
       "TextBlobber - Naive Bayes    2720.0\n",
       "Flair                        2720.0\n",
       "dtype: float64"
      ]
     },
     "execution_count": 154,
     "metadata": {},
     "output_type": "execute_result"
    }
   ],
   "source": [
    "sentimentValueCounts.sum()"
   ]
  },
  {
   "cell_type": "markdown",
   "metadata": {},
   "source": [
    "### Sentiment by Method"
   ]
  },
  {
   "cell_type": "code",
   "execution_count": 152,
   "metadata": {
    "ExecuteTime": {
     "end_time": "2021-09-18T00:02:44.915727Z",
     "start_time": "2021-09-18T00:02:44.669643Z"
    }
   },
   "outputs": [
    {
     "data": {
      "text/plain": [
       "<matplotlib.axes._subplots.AxesSubplot at 0x7fdab27a9a58>"
      ]
     },
     "execution_count": 152,
     "metadata": {},
     "output_type": "execute_result"
    },
    {
     "data": {
      "image/png": "[encoded data removed]",
      "text/plain": [
       "<Figure size 1080x720 with 1 Axes>"
      ]
     },
     "metadata": {
      "needs_background": "light"
     },
     "output_type": "display_data"
    }
   ],
   "source": [
    "sentimentValueCounts.plot(kind='bar')"
   ]
  },
  {
   "cell_type": "code",
   "execution_count": 159,
   "metadata": {
    "ExecuteTime": {
     "end_time": "2021-09-18T00:06:52.526677Z",
     "start_time": "2021-09-18T00:06:52.515241Z"
    }
   },
   "outputs": [
    {
     "name": "stderr",
     "output_type": "stream",
     "text": [
      "/Users/myfriendscallmej/anaconda3/lib/python3.7/site-packages/ipykernel_launcher.py:1: SettingWithCopyWarning: \n",
      "A value is trying to be set on a copy of a slice from a DataFrame.\n",
      "Try using .loc[row_indexer,col_indexer] = value instead\n",
      "\n",
      "See the caveats in the documentation: https://pandas.pydata.org/pandas-docs/stable/user_guide/indexing.html#returning-a-view-versus-a-copy\n",
      "  \"\"\"Entry point for launching an IPython kernel.\n"
     ]
    }
   ],
   "source": [
    "LymeDisease['containsChronic'] = LymeDisease.abstract.str.contains('chronic')"
   ]
  },
  {
   "cell_type": "code",
   "execution_count": 161,
   "metadata": {
    "ExecuteTime": {
     "end_time": "2021-09-18T00:07:10.936752Z",
     "start_time": "2021-09-18T00:07:10.928858Z"
    }
   },
   "outputs": [
    {
     "data": {
      "text/plain": [
       "False    2515\n",
       "True      205\n",
       "Name: containsChronic, dtype: int64"
      ]
     },
     "execution_count": 161,
     "metadata": {},
     "output_type": "execute_result"
    }
   ],
   "source": [
    "LymeDisease.containsChronic.value_counts()"
   ]
  },
  {
   "cell_type": "code",
   "execution_count": 171,
   "metadata": {
    "ExecuteTime": {
     "end_time": "2021-09-18T00:25:20.547030Z",
     "start_time": "2021-09-18T00:25:20.544425Z"
    }
   },
   "outputs": [],
   "source": [
    "from  matplotlib.ticker import PercentFormatter"
   ]
  },
  {
   "cell_type": "markdown",
   "metadata": {
    "ExecuteTime": {
     "end_time": "2021-09-23T23:27:03.930579Z",
     "start_time": "2021-09-23T23:27:03.866204Z"
    }
   },
   "source": [
    "### Sentiment by Method and Mention of 'Chronic'"
   ]
  },
  {
   "cell_type": "code",
   "execution_count": 259,
   "metadata": {
    "ExecuteTime": {
     "end_time": "2021-09-18T02:42:21.842537Z",
     "start_time": "2021-09-18T02:42:21.132015Z"
    }
   },
   "outputs": [
    {
     "data": {
      "image/png": "[encoded data removed]",
      "text/plain": [
       "<Figure size 1080x720 with 3 Axes>"
      ]
     },
     "metadata": {
      "needs_background": "light"
     },
     "output_type": "display_data"
    }
   ],
   "source": [
    "fig, axes =plt.subplots(1,3, sharey=True)\n",
    "sns.countplot(x=\"abstractSentiment_TB\", hue=\"containsChronic\", \n",
    "            data=LymeDisease, ax=axes[0])\n",
    "sns.countplot(x=\"abstractSentiment_TB_NB\", hue=\"containsChronic\", \n",
    "            data=LymeDisease, ax=axes[1])\n",
    "sns.countplot(x=\"abstractSentiment_Flair\", hue=\"containsChronic\", \n",
    "            data=LymeDisease, ax=axes[2])\n",
    "axes[0].set_title('TextBlob')\n",
    "axes[1].set_title('TextBlob - Naive Bayes')\n",
    "axes[2].set_title('Flair')\n",
    "axes[0].set_xlabel('Sentiment')\n",
    "axes[1].set_xlabel('Sentiment')\n",
    "axes[2].set_xlabel('Sentiment')\n",
    "axes[0].legend(title='Mentions \"Chronic\"')\n",
    "axes[1].legend(title='Mentions \"Chronic\"')\n",
    "axes[2].legend(title='Mentions \"Chronic\"')\n",
    "fig.suptitle(\"Sentiment by Algorithm and Mention of 'Chronic'\", y=1.03)\n",
    "fig.tight_layout();\n",
    "# plt.tight_layout()"
   ]
  },
  {
   "cell_type": "code",
   "execution_count": 254,
   "metadata": {
    "ExecuteTime": {
     "end_time": "2021-09-18T02:26:02.442286Z",
     "start_time": "2021-09-18T02:26:02.400990Z"
    }
   },
   "outputs": [
    {
     "data": {
      "text/html": [
       "<div>\n",
       "<style scoped>\n",
       "    .dataframe tbody tr th:only-of-type {\n",
       "        vertical-align: middle;\n",
       "    }\n",
       "\n",
       "    .dataframe tbody tr th {\n",
       "        vertical-align: top;\n",
       "    }\n",
       "\n",
       "    .dataframe thead th {\n",
       "        text-align: right;\n",
       "    }\n",
       "</style>\n",
       "<table border=\"1\" class=\"dataframe\">\n",
       "  <thead>\n",
       "    <tr style=\"text-align: right;\">\n",
       "      <th>containsChronic</th>\n",
       "      <th>False</th>\n",
       "      <th>True</th>\n",
       "      <th>Total</th>\n",
       "    </tr>\n",
       "    <tr>\n",
       "      <th>abstractSentiment_TB</th>\n",
       "      <th></th>\n",
       "      <th></th>\n",
       "      <th></th>\n",
       "    </tr>\n",
       "  </thead>\n",
       "  <tbody>\n",
       "    <tr>\n",
       "      <th>neg</th>\n",
       "      <td>288</td>\n",
       "      <td>27</td>\n",
       "      <td>315</td>\n",
       "    </tr>\n",
       "    <tr>\n",
       "      <th>neu</th>\n",
       "      <td>22</td>\n",
       "      <td>1</td>\n",
       "      <td>23</td>\n",
       "    </tr>\n",
       "    <tr>\n",
       "      <th>pos</th>\n",
       "      <td>2205</td>\n",
       "      <td>177</td>\n",
       "      <td>2382</td>\n",
       "    </tr>\n",
       "    <tr>\n",
       "      <th>Total</th>\n",
       "      <td>2515</td>\n",
       "      <td>205</td>\n",
       "      <td>2720</td>\n",
       "    </tr>\n",
       "  </tbody>\n",
       "</table>\n",
       "</div>"
      ],
      "text/plain": [
       "containsChronic       False  True  Total\n",
       "abstractSentiment_TB                    \n",
       "neg                     288    27    315\n",
       "neu                      22     1     23\n",
       "pos                    2205   177   2382\n",
       "Total                  2515   205   2720"
      ]
     },
     "execution_count": 254,
     "metadata": {},
     "output_type": "execute_result"
    }
   ],
   "source": [
    "TB_crosstab = pd.crosstab(LymeDisease.abstractSentiment_TB,\n",
    "                            LymeDisease.containsChronic,\n",
    "                           margins=True, margins_name=\"Total\")\n",
    "TB_crosstab"
   ]
  },
  {
   "cell_type": "code",
   "execution_count": 255,
   "metadata": {
    "ExecuteTime": {
     "end_time": "2021-09-18T02:26:02.442286Z",
     "start_time": "2021-09-18T02:26:02.400990Z"
    }
   },
   "outputs": [
    {
     "data": {
      "text/html": [
       "<div>\n",
       "<style scoped>\n",
       "    .dataframe tbody tr th:only-of-type {\n",
       "        vertical-align: middle;\n",
       "    }\n",
       "\n",
       "    .dataframe tbody tr th {\n",
       "        vertical-align: top;\n",
       "    }\n",
       "\n",
       "    .dataframe thead th {\n",
       "        text-align: right;\n",
       "    }\n",
       "</style>\n",
       "<table border=\"1\" class=\"dataframe\">\n",
       "  <thead>\n",
       "    <tr style=\"text-align: right;\">\n",
       "      <th>containsChronic</th>\n",
       "      <th>False</th>\n",
       "      <th>True</th>\n",
       "      <th>Total</th>\n",
       "    </tr>\n",
       "    <tr>\n",
       "      <th>abstractSentiment_TB_NB</th>\n",
       "      <th></th>\n",
       "      <th></th>\n",
       "      <th></th>\n",
       "    </tr>\n",
       "  </thead>\n",
       "  <tbody>\n",
       "    <tr>\n",
       "      <th>neg</th>\n",
       "      <td>44</td>\n",
       "      <td>5</td>\n",
       "      <td>49</td>\n",
       "    </tr>\n",
       "    <tr>\n",
       "      <th>pos</th>\n",
       "      <td>2471</td>\n",
       "      <td>200</td>\n",
       "      <td>2671</td>\n",
       "    </tr>\n",
       "    <tr>\n",
       "      <th>Total</th>\n",
       "      <td>2515</td>\n",
       "      <td>205</td>\n",
       "      <td>2720</td>\n",
       "    </tr>\n",
       "  </tbody>\n",
       "</table>\n",
       "</div>"
      ],
      "text/plain": [
       "containsChronic          False  True  Total\n",
       "abstractSentiment_TB_NB                    \n",
       "neg                         44     5     49\n",
       "pos                       2471   200   2671\n",
       "Total                     2515   205   2720"
      ]
     },
     "execution_count": 255,
     "metadata": {},
     "output_type": "execute_result"
    }
   ],
   "source": [
    "TBNB_crosstab = pd.crosstab(LymeDisease.abstractSentiment_TB_NB,\n",
    "                            LymeDisease.containsChronic,\n",
    "                           margins=True, margins_name=\"Total\")\n",
    "TBNB_crosstab"
   ]
  },
  {
   "cell_type": "code",
   "execution_count": 248,
   "metadata": {
    "ExecuteTime": {
     "end_time": "2021-09-18T02:20:21.327575Z",
     "start_time": "2021-09-18T02:20:21.324354Z"
    }
   },
   "outputs": [],
   "source": [
    "from scipy.stats import chi2_contingency"
   ]
  },
  {
   "cell_type": "code",
   "execution_count": 258,
   "metadata": {
    "ExecuteTime": {
     "end_time": "2021-09-18T02:40:53.991142Z",
     "start_time": "2021-09-18T02:40:53.982782Z"
    }
   },
   "outputs": [
    {
     "name": "stdout",
     "output_type": "stream",
     "text": [
      "Independent (H0 holds true)\n",
      "Independent (H0 holds true)\n",
      "Independent (H0 holds true)\n"
     ]
    }
   ],
   "source": [
    "alpha = 0.05\n",
    "c, p, dof, expected = chi2_contingency(flair_crosstab)\n",
    "if p <= alpha:\n",
    "    print('Dependent (reject H0)')\n",
    "else:\n",
    "    print('Independent (H0 holds true)')\n",
    "c, p, dof, expected = chi2_contingency(TB_crosstab)\n",
    "if p <= alpha:\n",
    "    print('Dependent (reject H0)')\n",
    "else:\n",
    "    print('Independent (H0 holds true)')\n",
    "c, p, dof, expected = chi2_contingency(TBNB_crosstab)\n",
    "if p <= alpha:\n",
    "    print('Dependent (reject H0)')\n",
    "else:\n",
    "    print('Independent (H0 holds true)')"
   ]
  },
  {
   "cell_type": "code",
   "execution_count": 245,
   "metadata": {
    "ExecuteTime": {
     "end_time": "2021-09-18T02:13:49.043739Z",
     "start_time": "2021-09-18T02:13:48.770104Z"
    }
   },
   "outputs": [
    {
     "data": {
      "text/plain": [
       "<matplotlib.axes._subplots.AxesSubplot at 0x7fdabfa4be10>"
      ]
     },
     "execution_count": 245,
     "metadata": {},
     "output_type": "execute_result"
    },
    {
     "data": {
      "image/png": "[encoded data removed]",
      "text/plain": [
       "<Figure size 1080x720 with 1 Axes>"
      ]
     },
     "metadata": {
      "needs_background": "light"
     },
     "output_type": "display_data"
    }
   ],
   "source": [
    "sns.boxplot(y='abstractSentimentScore_TB', x='containsChronic', data=LymeDisease)"
   ]
  },
  {
   "cell_type": "code",
   "execution_count": 260,
   "metadata": {
    "ExecuteTime": {
     "end_time": "2021-09-18T02:50:00.306513Z",
     "start_time": "2021-09-18T02:50:00.301108Z"
    }
   },
   "outputs": [
    {
     "data": {
      "text/plain": [
       "'Lyme disease is the most common tick-borne disease in Europe and North America. In the hyperendemic Lyme disease regions of the eastern United States, nymphal Ixodes scapularis are the principal ticks transmitting the Lyme disease spirochete, Borrelia burgdorferi sensu stricto (s.s.). Approximately 25% of questing nymphs in endemic regions are infected with spirochetes. High throughput-sensitive and specific methods for testing nymphal I. scapularis for infection with B. burgdorferi are clearly needed. In the current study, we evaluated whether low-density microarrays could be adapted for the rapid and accurate detection and characterization of spirochetes in nymphal I. scapularis. Three different microarray platforms were developed and tested for the detection of spirochetes in ticks. They could both detect and differentiate different Borrelia genospecies, in one case detecting as few as a single copy of Borrelia DNA.'"
      ]
     },
     "execution_count": 260,
     "metadata": {},
     "output_type": "execute_result"
    }
   ],
   "source": [
    "text"
   ]
  },
  {
   "cell_type": "markdown",
   "metadata": {},
   "source": [
    "## Sandbox"
   ]
  },
  {
   "cell_type": "code",
   "execution_count": 282,
   "metadata": {
    "ExecuteTime": {
     "end_time": "2021-09-23T23:28:45.526785Z",
     "start_time": "2021-09-23T23:28:45.521670Z"
    }
   },
   "outputs": [],
   "source": [
    "text_noStopwords = nltk.Text([word for word in tokenised_text if word.lower() not in stopwords])\n",
    "# text_noStopwords.contents()"
   ]
  },
  {
   "cell_type": "code",
   "execution_count": 283,
   "metadata": {
    "ExecuteTime": {
     "end_time": "2021-09-23T23:28:47.377465Z",
     "start_time": "2021-09-23T23:28:46.937519Z"
    }
   },
   "outputs": [
    {
     "data": {
      "image/png": "[encoded data removed]",
      "text/plain": [
       "<Figure size 1080x720 with 1 Axes>"
      ]
     },
     "metadata": {
      "needs_background": "light"
     },
     "output_type": "display_data"
    }
   ],
   "source": [
    "text_noStopwords.plot(30)"
   ]
  },
  {
   "cell_type": "code",
   "execution_count": 293,
   "metadata": {
    "ExecuteTime": {
     "end_time": "2021-09-23T23:30:07.910853Z",
     "start_time": "2021-09-23T23:30:07.906541Z"
    }
   },
   "outputs": [
    {
     "data": {
      "text/plain": [
       "3"
      ]
     },
     "execution_count": 293,
     "metadata": {},
     "output_type": "execute_result"
    }
   ],
   "source": [
    "text_noStopwords.count('Lyme')"
   ]
  },
  {
   "cell_type": "code",
   "execution_count": 348,
   "metadata": {
    "ExecuteTime": {
     "end_time": "2021-09-30T04:38:40.916501Z",
     "start_time": "2021-09-30T04:38:40.139057Z"
    }
   },
   "outputs": [
    {
     "data": {
      "text/plain": [
       "{'Happy': 0.0, 'Angry': 0.0, 'Surprise': 0.0, 'Sad': 0.2, 'Fear': 0.8}"
      ]
     },
     "execution_count": 348,
     "metadata": {},
     "output_type": "execute_result"
    }
   ],
   "source": [
    "te.get_emotion(text)"
   ]
  },
  {
   "cell_type": "code",
   "execution_count": 349,
   "metadata": {
    "ExecuteTime": {
     "end_time": "2021-09-30T04:38:57.586631Z",
     "start_time": "2021-09-30T04:38:57.576468Z"
    }
   },
   "outputs": [
    {
     "data": {
      "text/plain": [
       "'Lyme disease is the most common tick-borne disease in Europe and North America. In the hyperendemic Lyme disease regions of the eastern United States, nymphal Ixodes scapularis are the principal ticks transmitting the Lyme disease spirochete, Borrelia burgdorferi sensu stricto (s.s.). Approximately 25% of questing nymphs in endemic regions are infected with spirochetes. High throughput-sensitive and specific methods for testing nymphal I. scapularis for infection with B. burgdorferi are clearly needed. In the current study, we evaluated whether low-density microarrays could be adapted for the rapid and accurate detection and characterization of spirochetes in nymphal I. scapularis. Three different microarray platforms were developed and tested for the detection of spirochetes in ticks. They could both detect and differentiate different Borrelia genospecies, in one case detecting as few as a single copy of Borrelia DNA.'"
      ]
     },
     "execution_count": 349,
     "metadata": {},
     "output_type": "execute_result"
    }
   ],
   "source": [
    "text"
   ]
  },
  {
   "cell_type": "markdown",
   "metadata": {},
   "source": [
    "### Emotions"
   ]
  },
  {
   "cell_type": "code",
   "execution_count": 350,
   "metadata": {
    "ExecuteTime": {
     "end_time": "2021-09-30T04:39:09.120268Z",
     "start_time": "2021-09-30T04:39:09.099997Z"
    }
   },
   "outputs": [],
   "source": [
    "text_object = NRCLex(text)"
   ]
  },
  {
   "cell_type": "code",
   "execution_count": 351,
   "metadata": {
    "ExecuteTime": {
     "end_time": "2021-09-30T04:39:22.657735Z",
     "start_time": "2021-09-30T04:39:22.652879Z"
    }
   },
   "outputs": [
    {
     "data": {
      "text/plain": [
       "{'fear': 0.1794871794871795,\n",
       " 'anger': 0.10256410256410256,\n",
       " 'anticip': 0.0,\n",
       " 'trust': 0.05128205128205128,\n",
       " 'surprise': 0.02564102564102564,\n",
       " 'positive': 0.15384615384615385,\n",
       " 'negative': 0.20512820512820512,\n",
       " 'sadness': 0.15384615384615385,\n",
       " 'disgust': 0.1282051282051282,\n",
       " 'joy': 0.0}"
      ]
     },
     "execution_count": 351,
     "metadata": {},
     "output_type": "execute_result"
    }
   ],
   "source": [
    "emotions = text_object.affect_frequencies\n",
    "emotions"
   ]
  },
  {
   "cell_type": "code",
   "execution_count": 352,
   "metadata": {
    "ExecuteTime": {
     "end_time": "2021-09-30T04:39:36.261368Z",
     "start_time": "2021-09-30T04:39:36.254753Z"
    }
   },
   "outputs": [
    {
     "data": {
      "text/plain": [
       "{'fear': 0.1794871794871795,\n",
       " 'anger': 0.10256410256410256,\n",
       " 'trust': 0.05128205128205128,\n",
       " 'surprise': 0.02564102564102564,\n",
       " 'sadness': 0.15384615384615385,\n",
       " 'disgust': 0.1282051282051282,\n",
       " 'joy': 0.0,\n",
       " 'anticipation': 0.0}"
      ]
     },
     "execution_count": 352,
     "metadata": {},
     "output_type": "execute_result"
    }
   ],
   "source": [
    "emotions.pop('positive')\n",
    "emotions.pop('negative')\n",
    "emotions['anticipation']=emotions.pop('anticip')\n",
    "emotions"
   ]
  },
  {
   "cell_type": "markdown",
   "metadata": {},
   "source": [
    "### Plutchik Wheel"
   ]
  },
  {
   "cell_type": "code",
   "execution_count": 353,
   "metadata": {
    "ExecuteTime": {
     "end_time": "2021-09-30T04:39:52.947296Z",
     "start_time": "2021-09-30T04:39:52.475886Z"
    }
   },
   "outputs": [
    {
     "data": {
      "text/plain": [
       "<matplotlib.axes._subplots.AxesSubplot at 0x7fdabb3e3ef0>"
      ]
     },
     "execution_count": 353,
     "metadata": {},
     "output_type": "execute_result"
    },
    {
     "data": {
      "image/png": "[encoded data removed]",
      "text/plain": [
       "<Figure size 576x576 with 1 Axes>"
      ]
     },
     "metadata": {
      "needs_background": "light"
     },
     "output_type": "display_data"
    }
   ],
   "source": [
    "plutchik(emotions)"
   ]
  },
  {
   "cell_type": "code",
   "execution_count": null,
   "metadata": {},
   "outputs": [],
   "source": []
  }
 ],
 "metadata": {
  "kernelspec": {
   "display_name": "Python 3",
   "language": "python",
   "name": "python3"
  },
  "language_info": {
   "codemirror_mode": {
    "name": "ipython",
    "version": 3
   },
   "file_extension": ".py",
   "mimetype": "text/x-python",
   "name": "python",
   "nbconvert_exporter": "python",
   "pygments_lexer": "ipython3",
   "version": "3.7.3"
  },
  "toc": {
   "base_numbering": 1,
   "nav_menu": {},
   "number_sections": true,
   "sideBar": true,
   "skip_h1_title": true,
   "title_cell": "Table of Contents",
   "title_sidebar": "Contents",
   "toc_cell": true,
   "toc_position": {
    "height": "calc(100% - 180px)",
    "left": "10px",
    "top": "150px",
    "width": "344px"
   },
   "toc_section_display": true,
   "toc_window_display": true
  },
  "varInspector": {
   "cols": {
    "lenName": 16,
    "lenType": 16,
    "lenVar": 40
   },
   "kernels_config": {
    "python": {
     "delete_cmd_postfix": "",
     "delete_cmd_prefix": "del ",
     "library": "var_list.py",
     "varRefreshCmd": "print(var_dic_list())"
    },
    "r": {
     "delete_cmd_postfix": ") ",
     "delete_cmd_prefix": "rm(",
     "library": "var_list.r",
     "varRefreshCmd": "cat(var_dic_list()) "
    }
   },
   "types_to_exclude": [
    "module",
    "function",
    "builtin_function_or_method",
    "instance",
    "_Feature"
   ],
   "window_display": false
  }
 },
 "nbformat": 4,
 "nbformat_minor": 2
}
