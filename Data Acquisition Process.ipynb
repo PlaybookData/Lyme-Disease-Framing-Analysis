{
 "cells": [
  {
   "cell_type": "markdown",
   "metadata": {
    "toc": true
   },
   "source": [
    "<h1>Table of Contents<span class=\"tocSkip\"></span></h1>\n",
    "<div class=\"toc\"><ul class=\"toc-item\"><li><ul class=\"toc-item\"><li><span><a href=\"#Imports-and-Defaults\" data-toc-modified-id=\"Imports-and-Defaults-0.1\"><span class=\"toc-item-num\">0.1&nbsp;&nbsp;</span>Imports and Defaults</a></span></li></ul></li><li><span><a href=\"#Identification\" data-toc-modified-id=\"Identification-1\"><span class=\"toc-item-num\">1&nbsp;&nbsp;</span>Identification</a></span><ul class=\"toc-item\"><li><span><a href=\"#Importing-search-results\" data-toc-modified-id=\"Importing-search-results-1.1\"><span class=\"toc-item-num\">1.1&nbsp;&nbsp;</span>Importing search results</a></span></li><li><span><a href=\"#Dropping-Records-without-a-DOI\" data-toc-modified-id=\"Dropping-Records-without-a-DOI-1.2\"><span class=\"toc-item-num\">1.2&nbsp;&nbsp;</span>Dropping Records without a DOI</a></span></li><li><span><a href=\"#Dropping-Duplicates\" data-toc-modified-id=\"Dropping-Duplicates-1.3\"><span class=\"toc-item-num\">1.3&nbsp;&nbsp;</span>Dropping Duplicates</a></span></li></ul></li><li><span><a href=\"#Screening\" data-toc-modified-id=\"Screening-2\"><span class=\"toc-item-num\">2&nbsp;&nbsp;</span>Screening</a></span><ul class=\"toc-item\"><li><span><a href=\"#Restricting-to-journal-articles\" data-toc-modified-id=\"Restricting-to-journal-articles-2.1\"><span class=\"toc-item-num\">2.1&nbsp;&nbsp;</span>Restricting to journal articles</a></span></li><li><span><a href=\"#Removing-records-with-missing-Journal-or-Title\" data-toc-modified-id=\"Removing-records-with-missing-Journal-or-Title-2.2\"><span class=\"toc-item-num\">2.2&nbsp;&nbsp;</span>Removing records with missing Journal or Title</a></span></li><li><span><a href=\"#Removing-incomplete-Google-Scholar-Journal-Names-that-can't-be-matched-and-completed\" data-toc-modified-id=\"Removing-incomplete-Google-Scholar-Journal-Names-that-can't-be-matched-and-completed-2.3\"><span class=\"toc-item-num\">2.3&nbsp;&nbsp;</span>Removing incomplete Google Scholar Journal Names that can't be matched and completed</a></span></li><li><span><a href=\"#Preparation-for-Merging-Remaining-Records\" data-toc-modified-id=\"Preparation-for-Merging-Remaining-Records-2.4\"><span class=\"toc-item-num\">2.4&nbsp;&nbsp;</span>Preparation for Merging Remaining Records</a></span><ul class=\"toc-item\"><li><span><a href=\"#Resetting-very-short-abstracts\" data-toc-modified-id=\"Resetting-very-short-abstracts-2.4.1\"><span class=\"toc-item-num\">2.4.1&nbsp;&nbsp;</span>Resetting very short abstracts</a></span></li><li><span><a href=\"#Dummy-for-Source\" data-toc-modified-id=\"Dummy-for-Source-2.4.2\"><span class=\"toc-item-num\">2.4.2&nbsp;&nbsp;</span>Dummy for Source</a></span></li></ul></li><li><span><a href=\"#Building-Dataframes-of-Unique-Records\" data-toc-modified-id=\"Building-Dataframes-of-Unique-Records-2.5\"><span class=\"toc-item-num\">2.5&nbsp;&nbsp;</span>Building Dataframes of Unique Records</a></span><ul class=\"toc-item\"><li><span><a href=\"#Records-that-have-DOI-and-abstract\" data-toc-modified-id=\"Records-that-have-DOI-and-abstract-2.5.1\"><span class=\"toc-item-num\">2.5.1&nbsp;&nbsp;</span>Records that have DOI and abstract</a></span></li><li><span><a href=\"#Records-that-have-DOI-but-no-abstract\" data-toc-modified-id=\"Records-that-have-DOI-but-no-abstract-2.5.2\"><span class=\"toc-item-num\">2.5.2&nbsp;&nbsp;</span>Records that have DOI but no abstract</a></span></li></ul></li><li><span><a href=\"#Saving-New-Dataframes\" data-toc-modified-id=\"Saving-New-Dataframes-2.6\"><span class=\"toc-item-num\">2.6&nbsp;&nbsp;</span>Saving New Dataframes</a></span></li></ul></li><li><span><a href=\"#Scraping\" data-toc-modified-id=\"Scraping-3\"><span class=\"toc-item-num\">3&nbsp;&nbsp;</span>Scraping</a></span><ul class=\"toc-item\"><li><span><a href=\"#Formatting-Vagaries\" data-toc-modified-id=\"Formatting-Vagaries-3.1\"><span class=\"toc-item-num\">3.1&nbsp;&nbsp;</span>Formatting Vagaries</a></span></li><li><span><a href=\"#Scraping-Function\" data-toc-modified-id=\"Scraping-Function-3.2\"><span class=\"toc-item-num\">3.2&nbsp;&nbsp;</span>Scraping Function</a></span></li></ul></li></ul></div>"
   ]
  },
  {
   "cell_type": "markdown",
   "metadata": {},
   "source": [
    "### Imports and Defaults"
   ]
  },
  {
   "cell_type": "code",
   "execution_count": 1,
   "metadata": {
    "ExecuteTime": {
     "end_time": "2021-10-30T10:23:06.012205Z",
     "start_time": "2021-10-30T10:23:06.000479Z"
    }
   },
   "outputs": [
    {
     "data": {
      "text/html": [
       "<style>.container { width:75% !important; } p, ul {max-width: 40em;} .rendered_html table { margin-left: 0; } .output_subarea.output_png { display: flex; justify-content: center;}</style>"
      ],
      "text/plain": [
       "<IPython.core.display.HTML object>"
      ]
     },
     "metadata": {},
     "output_type": "display_data"
    }
   ],
   "source": [
    "from IPython.core.display import display, HTML, Markdown as md\n",
    "display(HTML(\"\"\"<style>.container { width:75% !important; } p, ul {max-width: 40em;} .rendered_html table { margin-left: 0; } .output_subarea.output_png { display: flex; justify-content: center;}</style>\"\"\"))"
   ]
  },
  {
   "cell_type": "code",
   "execution_count": 2,
   "metadata": {
    "ExecuteTime": {
     "end_time": "2021-10-30T10:23:06.511616Z",
     "start_time": "2021-10-30T10:23:06.014657Z"
    }
   },
   "outputs": [],
   "source": [
    "# Basics\n",
    "import numpy as np \n",
    "import pandas as pd \n",
    "\n",
    "#String cleaning and processing\n",
    "import re\n",
    "import string\n",
    "\n",
    "import os\n",
    "pd.options.mode.chained_assignment = None\n",
    "\n",
    "import json"
   ]
  },
  {
   "cell_type": "code",
   "execution_count": 3,
   "metadata": {
    "ExecuteTime": {
     "end_time": "2021-10-30T10:23:07.177733Z",
     "start_time": "2021-10-30T10:23:06.514617Z"
    }
   },
   "outputs": [],
   "source": [
    "# Visualisation\n",
    "import seaborn as sns\n",
    "import matplotlib.pyplot as plt\n",
    "from pylab import rcParams\n",
    "\n",
    "%matplotlib inline\n",
    "rcParams['figure.figsize'] = 15, 10\n",
    "rcParams['axes.titlesize'] = 20\n",
    "rcParams['axes.labelsize'] = 'large'\n",
    "rcParams['xtick.labelsize'] = 10\n",
    "rcParams['ytick.labelsize'] = 10\n",
    "rcParams['lines.linewidth'] = 2\n",
    "rcParams['font.size'] = 18"
   ]
  },
  {
   "cell_type": "code",
   "execution_count": 4,
   "metadata": {
    "ExecuteTime": {
     "end_time": "2021-10-30T10:23:07.192124Z",
     "start_time": "2021-10-30T10:23:07.179935Z"
    }
   },
   "outputs": [],
   "source": [
    "from langdetect import detect #language detection"
   ]
  },
  {
   "cell_type": "markdown",
   "metadata": {},
   "source": [
    "## Identification"
   ]
  },
  {
   "cell_type": "markdown",
   "metadata": {},
   "source": [
    "Publish or Perish software (either via desktop GUI or command line prompts) was used to search through four research databases (Google Scholar, Scopus, PubMed and CrossRef). The searches were done year by year to maximise the number of records returned and then joined together into four separate datasets. "
   ]
  },
  {
   "cell_type": "markdown",
   "metadata": {},
   "source": [
    "### Importing search results"
   ]
  },
  {
   "cell_type": "code",
   "execution_count": 5,
   "metadata": {
    "ExecuteTime": {
     "end_time": "2021-10-30T10:23:07.199165Z",
     "start_time": "2021-10-30T10:23:07.194422Z"
    }
   },
   "outputs": [],
   "source": [
    "def loadJSONfiles(path, source, startYear, endYear):\n",
    "    JSONobject = []\n",
    "    for year in range(startYear, endYear+1):\n",
    "        filename= path + source+'-'+str(year)+'.json'\n",
    "        if os.path.exists(filename):\n",
    "            with open(filename, encoding='utf-8-sig') as f:\n",
    "                newfile = json.load(f)\n",
    "            JSONobject = JSONobject+ newfile\n",
    "        else: print('Cant find', filename)\n",
    "    return JSONobject"
   ]
  },
  {
   "cell_type": "code",
   "execution_count": 6,
   "metadata": {
    "ExecuteTime": {
     "end_time": "2021-10-30T10:23:07.209712Z",
     "start_time": "2021-10-30T10:23:07.201615Z"
    }
   },
   "outputs": [],
   "source": [
    "def get_df(jsonfile, source):\n",
    "    df_dict = {'publication':[], 'title':[], 'authors':[],'doi':[], \n",
    "               'year':[], 'cites':[],'type':[], 'abstract':[], 'article_url':[], 'fulltext_url':[]}\n",
    "    for record in jsonfile:\n",
    "        df_dict['publication'].append(record.get('source'))\n",
    "        df_dict['year'].append(record.get('year'))\n",
    "        df_dict['doi'].append(record.get('doi'))\n",
    "        df_dict['title'].append(record.get('title'))\n",
    "        df_dict['abstract'].append(record.get('abstract'))\n",
    "        df_dict['authors'].append(record.get('authors'))\n",
    "        df_dict['cites'].append(record.get('cites'))\n",
    "        df_dict['type'].append(record.get('type'))\n",
    "        df_dict['article_url'].append(record.get('article_url'))\n",
    "        df_dict['fulltext_url'].append(record.get('fulltext_url'))\n",
    "    \n",
    "    df = pd.DataFrame.from_dict(df_dict)\n",
    "    df.fillna(np.nan, inplace=True)\n",
    "    df['abstractLength'] = [len(x) if type(x)==str else np.nan for x in df['abstract'] ]\n",
    "    df[source]=np.int8(1)\n",
    "    df.reset_index(drop=True, inplace=True)\n",
    "    return df"
   ]
  },
  {
   "cell_type": "code",
   "execution_count": 7,
   "metadata": {
    "ExecuteTime": {
     "end_time": "2021-10-30T10:23:07.215083Z",
     "start_time": "2021-10-30T10:23:07.212067Z"
    }
   },
   "outputs": [],
   "source": [
    "def jsonFilesToDF(path, source, startYear, endYear):\n",
    "    jsonFile = loadJSONfiles(path,source, startYear, endYear)\n",
    "    df = get_df(jsonFile, source)\n",
    "    return df"
   ]
  },
  {
   "cell_type": "code",
   "execution_count": 8,
   "metadata": {
    "ExecuteTime": {
     "end_time": "2021-10-30T10:23:07.683571Z",
     "start_time": "2021-10-30T10:23:07.220228Z"
    }
   },
   "outputs": [],
   "source": [
    "crossref = jsonFilesToDF('POPresults/','crossref', 2010, 2021)\n",
    "gscholar = jsonFilesToDF('POPresults/','gscholar', 2010, 2021)\n",
    "pubmed = jsonFilesToDF('POPresults/','pubmed', 2010, 2021)\n",
    "scopus = jsonFilesToDF('POPresults/','scopus', 2010, 2021)"
   ]
  },
  {
   "cell_type": "code",
   "execution_count": 9,
   "metadata": {
    "ExecuteTime": {
     "end_time": "2021-10-30T10:23:07.701279Z",
     "start_time": "2021-10-30T10:23:07.686559Z"
    }
   },
   "outputs": [
    {
     "name": "stdout",
     "output_type": "stream",
     "text": [
      "<class 'pandas.core.frame.DataFrame'>\n",
      "RangeIndex: 4000 entries, 0 to 3999\n",
      "Data columns (total 12 columns):\n",
      " #   Column          Non-Null Count  Dtype  \n",
      "---  ------          --------------  -----  \n",
      " 0   publication     3909 non-null   object \n",
      " 1   title           4000 non-null   object \n",
      " 2   authors         3776 non-null   object \n",
      " 3   doi             4000 non-null   object \n",
      " 4   year            4000 non-null   int64  \n",
      " 5   cites           4000 non-null   int64  \n",
      " 6   type            4000 non-null   object \n",
      " 7   abstract        689 non-null    object \n",
      " 8   article_url     4000 non-null   object \n",
      " 9   fulltext_url    3280 non-null   object \n",
      " 10  abstractLength  689 non-null    float64\n",
      " 11  crossref        4000 non-null   int8   \n",
      "dtypes: float64(1), int64(2), int8(1), object(8)\n",
      "memory usage: 347.8+ KB\n"
     ]
    }
   ],
   "source": [
    "crossref.info()"
   ]
  },
  {
   "cell_type": "code",
   "execution_count": 10,
   "metadata": {
    "ExecuteTime": {
     "end_time": "2021-10-30T10:23:07.724705Z",
     "start_time": "2021-10-30T10:23:07.703623Z"
    }
   },
   "outputs": [
    {
     "name": "stdout",
     "output_type": "stream",
     "text": [
      "<class 'pandas.core.frame.DataFrame'>\n",
      "RangeIndex: 11968 entries, 0 to 11967\n",
      "Data columns (total 12 columns):\n",
      " #   Column          Non-Null Count  Dtype  \n",
      "---  ------          --------------  -----  \n",
      " 0   publication     9968 non-null   object \n",
      " 1   title           11968 non-null  object \n",
      " 2   authors         11968 non-null  object \n",
      " 3   doi             2347 non-null   object \n",
      " 4   year            11155 non-null  float64\n",
      " 5   cites           11968 non-null  int64  \n",
      " 6   type            5280 non-null   object \n",
      " 7   abstract        10640 non-null  object \n",
      " 8   article_url     10760 non-null  object \n",
      " 9   fulltext_url    6669 non-null   object \n",
      " 10  abstractLength  10640 non-null  float64\n",
      " 11  gscholar        11968 non-null  int8   \n",
      "dtypes: float64(2), int64(1), int8(1), object(8)\n",
      "memory usage: 1.0+ MB\n"
     ]
    }
   ],
   "source": [
    "gscholar.info()"
   ]
  },
  {
   "cell_type": "code",
   "execution_count": 11,
   "metadata": {
    "ExecuteTime": {
     "end_time": "2021-10-30T10:23:07.742279Z",
     "start_time": "2021-10-30T10:23:07.726833Z"
    }
   },
   "outputs": [
    {
     "name": "stdout",
     "output_type": "stream",
     "text": [
      "<class 'pandas.core.frame.DataFrame'>\n",
      "RangeIndex: 4497 entries, 0 to 4496\n",
      "Data columns (total 12 columns):\n",
      " #   Column          Non-Null Count  Dtype  \n",
      "---  ------          --------------  -----  \n",
      " 0   publication     4497 non-null   object \n",
      " 1   title           4494 non-null   object \n",
      " 2   authors         4463 non-null   object \n",
      " 3   doi             4124 non-null   object \n",
      " 4   year            4494 non-null   float64\n",
      " 5   cites           4497 non-null   int64  \n",
      " 6   type            4497 non-null   object \n",
      " 7   abstract        3866 non-null   object \n",
      " 8   article_url     0 non-null      float64\n",
      " 9   fulltext_url    0 non-null      float64\n",
      " 10  abstractLength  3866 non-null   float64\n",
      " 11  pubmed          4497 non-null   int8   \n",
      "dtypes: float64(4), int64(1), int8(1), object(6)\n",
      "memory usage: 391.0+ KB\n"
     ]
    }
   ],
   "source": [
    "pubmed.info()"
   ]
  },
  {
   "cell_type": "code",
   "execution_count": 12,
   "metadata": {
    "ExecuteTime": {
     "end_time": "2021-10-30T10:23:07.763179Z",
     "start_time": "2021-10-30T10:23:07.745313Z"
    }
   },
   "outputs": [
    {
     "name": "stdout",
     "output_type": "stream",
     "text": [
      "<class 'pandas.core.frame.DataFrame'>\n",
      "RangeIndex: 2400 entries, 0 to 2399\n",
      "Data columns (total 12 columns):\n",
      " #   Column          Non-Null Count  Dtype  \n",
      "---  ------          --------------  -----  \n",
      " 0   publication     2400 non-null   object \n",
      " 1   title           2400 non-null   object \n",
      " 2   authors         2398 non-null   object \n",
      " 3   doi             2358 non-null   object \n",
      " 4   year            2400 non-null   int64  \n",
      " 5   cites           2400 non-null   int64  \n",
      " 6   type            2399 non-null   object \n",
      " 7   abstract        0 non-null      float64\n",
      " 8   article_url     549 non-null    object \n",
      " 9   fulltext_url    0 non-null      float64\n",
      " 10  abstractLength  0 non-null      float64\n",
      " 11  scopus          2400 non-null   int8   \n",
      "dtypes: float64(3), int64(2), int8(1), object(6)\n",
      "memory usage: 208.7+ KB\n"
     ]
    }
   ],
   "source": [
    "scopus.info()"
   ]
  },
  {
   "cell_type": "code",
   "execution_count": 13,
   "metadata": {
    "ExecuteTime": {
     "end_time": "2021-10-30T10:23:07.769703Z",
     "start_time": "2021-10-30T10:23:07.765788Z"
    }
   },
   "outputs": [
    {
     "name": "stdout",
     "output_type": "stream",
     "text": [
      "Records indentified from databases: 22865\n"
     ]
    }
   ],
   "source": [
    "total = len(crossref)+len(scopus)+len(pubmed)+len(gscholar)\n",
    "print('Records indentified from databases:', total)"
   ]
  },
  {
   "cell_type": "markdown",
   "metadata": {},
   "source": [
    "### Dropping Records without a DOI"
   ]
  },
  {
   "cell_type": "code",
   "execution_count": 14,
   "metadata": {
    "ExecuteTime": {
     "end_time": "2021-10-30T10:23:07.801538Z",
     "start_time": "2021-10-30T10:23:07.772568Z"
    }
   },
   "outputs": [],
   "source": [
    "crossref = crossref[crossref.doi.notna()]\n",
    "gscholar = gscholar[gscholar.doi.notna()]\n",
    "pubmed = pubmed[pubmed.doi.notna()]\n",
    "scopus = scopus[scopus.doi.notna()]"
   ]
  },
  {
   "cell_type": "code",
   "execution_count": 15,
   "metadata": {
    "ExecuteTime": {
     "end_time": "2021-10-30T10:23:07.810669Z",
     "start_time": "2021-10-30T10:23:07.804823Z"
    }
   },
   "outputs": [
    {
     "name": "stdout",
     "output_type": "stream",
     "text": [
      "Records left after dropping records without DOI: 12829\n",
      "Records removed: 10036\n"
     ]
    }
   ],
   "source": [
    "oldtotal = total\n",
    "total = len(crossref)+len(scopus)+len(pubmed)+len(gscholar)\n",
    "print('Records left after dropping records without DOI:', total)\n",
    "print('Records removed:', oldtotal-total)"
   ]
  },
  {
   "cell_type": "code",
   "execution_count": 16,
   "metadata": {
    "ExecuteTime": {
     "end_time": "2021-10-30T10:23:07.842783Z",
     "start_time": "2021-10-30T10:23:07.814808Z"
    }
   },
   "outputs": [],
   "source": [
    "crossref['doi'] = crossref.doi.str.lower() #standardise case of doi entries\n",
    "gscholar['doi'] = gscholar.doi.str.lower() #standardise case of doi entries\n",
    "pubmed['doi'] = pubmed.doi.str.lower() #standardise case of doi entries\n",
    "scopus['doi'] = scopus.doi.str.lower() #standardise case of doi entries\n",
    "\n",
    "crossref['publication'] = crossref.publication.str.lower() #standardise publication names\n",
    "gscholar['publication'] = gscholar.publication.str.lower() #standardise publication names\n",
    "pubmed['publication'] = pubmed.publication.str.lower() #standardise publication names\n",
    "scopus['publication'] = scopus.publication.str.lower() #standardise publication names"
   ]
  },
  {
   "cell_type": "markdown",
   "metadata": {},
   "source": [
    "### Dropping Duplicates"
   ]
  },
  {
   "cell_type": "code",
   "execution_count": 17,
   "metadata": {
    "ExecuteTime": {
     "end_time": "2021-10-30T10:23:07.860988Z",
     "start_time": "2021-10-30T10:23:07.844974Z"
    }
   },
   "outputs": [],
   "source": [
    "crossref.drop_duplicates(subset=['doi'], inplace=True)\n",
    "gscholar.drop_duplicates(subset=['doi'], inplace=True)\n",
    "pubmed.drop_duplicates(subset=['doi'], inplace=True)\n",
    "scopus.drop_duplicates(subset=['doi'], inplace=True)"
   ]
  },
  {
   "cell_type": "code",
   "execution_count": 18,
   "metadata": {
    "ExecuteTime": {
     "end_time": "2021-10-30T10:23:07.869359Z",
     "start_time": "2021-10-30T10:23:07.863876Z"
    }
   },
   "outputs": [
    {
     "name": "stdout",
     "output_type": "stream",
     "text": [
      "Records left after droping duplicates: 12412\n",
      "Records removed: 417\n"
     ]
    }
   ],
   "source": [
    "oldtotal = total\n",
    "total = len(crossref)+len(scopus)+len(pubmed)+len(gscholar)\n",
    "print('Records left after droping duplicates:', total)\n",
    "print('Records removed:', oldtotal-total)"
   ]
  },
  {
   "cell_type": "code",
   "execution_count": 19,
   "metadata": {
    "ExecuteTime": {
     "end_time": "2021-10-30T10:23:07.893082Z",
     "start_time": "2021-10-30T10:23:07.873475Z"
    }
   },
   "outputs": [
    {
     "name": "stdout",
     "output_type": "stream",
     "text": [
      "<class 'pandas.core.frame.DataFrame'>\n",
      "Int64Index: 3993 entries, 0 to 3999\n",
      "Data columns (total 12 columns):\n",
      " #   Column          Non-Null Count  Dtype  \n",
      "---  ------          --------------  -----  \n",
      " 0   publication     3902 non-null   object \n",
      " 1   title           3993 non-null   object \n",
      " 2   authors         3769 non-null   object \n",
      " 3   doi             3993 non-null   object \n",
      " 4   year            3993 non-null   int64  \n",
      " 5   cites           3993 non-null   int64  \n",
      " 6   type            3993 non-null   object \n",
      " 7   abstract        687 non-null    object \n",
      " 8   article_url     3993 non-null   object \n",
      " 9   fulltext_url    3274 non-null   object \n",
      " 10  abstractLength  687 non-null    float64\n",
      " 11  crossref        3993 non-null   int8   \n",
      "dtypes: float64(1), int64(2), int8(1), object(8)\n",
      "memory usage: 378.2+ KB\n"
     ]
    }
   ],
   "source": [
    "crossref.info()"
   ]
  },
  {
   "cell_type": "code",
   "execution_count": 20,
   "metadata": {
    "ExecuteTime": {
     "end_time": "2021-10-30T10:23:07.908901Z",
     "start_time": "2021-10-30T10:23:07.896684Z"
    }
   },
   "outputs": [
    {
     "name": "stdout",
     "output_type": "stream",
     "text": [
      "<class 'pandas.core.frame.DataFrame'>\n",
      "Int64Index: 2317 entries, 0 to 11942\n",
      "Data columns (total 12 columns):\n",
      " #   Column          Non-Null Count  Dtype  \n",
      "---  ------          --------------  -----  \n",
      " 0   publication     2256 non-null   object \n",
      " 1   title           2317 non-null   object \n",
      " 2   authors         2317 non-null   object \n",
      " 3   doi             2317 non-null   object \n",
      " 4   year            2308 non-null   float64\n",
      " 5   cites           2317 non-null   int64  \n",
      " 6   type            468 non-null    object \n",
      " 7   abstract        2303 non-null   object \n",
      " 8   article_url     2317 non-null   object \n",
      " 9   fulltext_url    1439 non-null   object \n",
      " 10  abstractLength  2303 non-null   float64\n",
      " 11  gscholar        2317 non-null   int8   \n",
      "dtypes: float64(2), int64(1), int8(1), object(8)\n",
      "memory usage: 219.5+ KB\n"
     ]
    }
   ],
   "source": [
    "gscholar.info()"
   ]
  },
  {
   "cell_type": "code",
   "execution_count": 21,
   "metadata": {
    "ExecuteTime": {
     "end_time": "2021-10-30T10:23:07.924652Z",
     "start_time": "2021-10-30T10:23:07.911042Z"
    }
   },
   "outputs": [
    {
     "name": "stdout",
     "output_type": "stream",
     "text": [
      "<class 'pandas.core.frame.DataFrame'>\n",
      "Int64Index: 3744 entries, 0 to 4496\n",
      "Data columns (total 12 columns):\n",
      " #   Column          Non-Null Count  Dtype  \n",
      "---  ------          --------------  -----  \n",
      " 0   publication     3744 non-null   object \n",
      " 1   title           3743 non-null   object \n",
      " 2   authors         3727 non-null   object \n",
      " 3   doi             3744 non-null   object \n",
      " 4   year            3744 non-null   float64\n",
      " 5   cites           3744 non-null   int64  \n",
      " 6   type            3744 non-null   object \n",
      " 7   abstract        3254 non-null   object \n",
      " 8   article_url     0 non-null      float64\n",
      " 9   fulltext_url    0 non-null      float64\n",
      " 10  abstractLength  3254 non-null   float64\n",
      " 11  pubmed          3744 non-null   int8   \n",
      "dtypes: float64(4), int64(1), int8(1), object(6)\n",
      "memory usage: 354.7+ KB\n"
     ]
    }
   ],
   "source": [
    "pubmed.info()"
   ]
  },
  {
   "cell_type": "code",
   "execution_count": 22,
   "metadata": {
    "ExecuteTime": {
     "end_time": "2021-10-30T10:23:07.938801Z",
     "start_time": "2021-10-30T10:23:07.927022Z"
    }
   },
   "outputs": [
    {
     "name": "stdout",
     "output_type": "stream",
     "text": [
      "<class 'pandas.core.frame.DataFrame'>\n",
      "Int64Index: 2358 entries, 0 to 2399\n",
      "Data columns (total 12 columns):\n",
      " #   Column          Non-Null Count  Dtype  \n",
      "---  ------          --------------  -----  \n",
      " 0   publication     2358 non-null   object \n",
      " 1   title           2358 non-null   object \n",
      " 2   authors         2356 non-null   object \n",
      " 3   doi             2358 non-null   object \n",
      " 4   year            2358 non-null   int64  \n",
      " 5   cites           2358 non-null   int64  \n",
      " 6   type            2357 non-null   object \n",
      " 7   abstract        0 non-null      float64\n",
      " 8   article_url     545 non-null    object \n",
      " 9   fulltext_url    0 non-null      float64\n",
      " 10  abstractLength  0 non-null      float64\n",
      " 11  scopus          2358 non-null   int8   \n",
      "dtypes: float64(3), int64(2), int8(1), object(6)\n",
      "memory usage: 223.4+ KB\n"
     ]
    }
   ],
   "source": [
    "scopus.info()"
   ]
  },
  {
   "cell_type": "markdown",
   "metadata": {},
   "source": [
    "## Screening"
   ]
  },
  {
   "cell_type": "markdown",
   "metadata": {},
   "source": [
    "### Restricting to journal articles"
   ]
  },
  {
   "cell_type": "code",
   "execution_count": 23,
   "metadata": {
    "ExecuteTime": {
     "end_time": "2021-10-30T10:23:07.952418Z",
     "start_time": "2021-10-30T10:23:07.946366Z"
    }
   },
   "outputs": [
    {
     "data": {
      "text/plain": [
       "journal-article        3415\n",
       "book-chapter            395\n",
       "posted-content           53\n",
       "dataset                  35\n",
       "proceedings-article      32\n",
       "book                     18\n",
       "reference-entry          13\n",
       "peer-review              13\n",
       "component                 8\n",
       "report                    4\n",
       "other                     3\n",
       "monograph                 3\n",
       "reference-book            1\n",
       "Name: type, dtype: int64"
      ]
     },
     "execution_count": 23,
     "metadata": {},
     "output_type": "execute_result"
    }
   ],
   "source": [
    "crossref.type.value_counts()"
   ]
  },
  {
   "cell_type": "code",
   "execution_count": 24,
   "metadata": {
    "ExecuteTime": {
     "end_time": "2021-10-30T10:23:07.962139Z",
     "start_time": "2021-10-30T10:23:07.956885Z"
    }
   },
   "outputs": [
    {
     "data": {
      "text/plain": [
       "HTML        401\n",
       "CITATION     45\n",
       "PDF          15\n",
       "BOOK          7\n",
       "Name: type, dtype: int64"
      ]
     },
     "execution_count": 24,
     "metadata": {},
     "output_type": "execute_result"
    }
   ],
   "source": [
    "gscholar.type.value_counts()"
   ]
  },
  {
   "cell_type": "code",
   "execution_count": 25,
   "metadata": {
    "ExecuteTime": {
     "end_time": "2021-10-30T10:23:07.979065Z",
     "start_time": "2021-10-30T10:23:07.971621Z"
    }
   },
   "outputs": [
    {
     "data": {
      "text/plain": [
       "Journal Article                      2850\n",
       "Case Reports                          458\n",
       "Letter                                156\n",
       "Comparative Study                      82\n",
       "Editorial                              50\n",
       "Evaluation Study                       36\n",
       "English Abstract                       29\n",
       "News                                   20\n",
       "Comment                                14\n",
       "Historical Article                     13\n",
       "Clinical Trial                          7\n",
       "Biography                               6\n",
       "Published Erratum                       4\n",
       "Review                                  4\n",
       "Introductory Journal Article            3\n",
       "Clinical Study                          3\n",
       "Clinical Trial, Phase I                 1\n",
       "Corrected and Republished Article       1\n",
       "Clinical Trial, Phase III               1\n",
       "Clinical Trial, Phase II                1\n",
       "Controlled Clinical Trial               1\n",
       "Congress                                1\n",
       "Interview                               1\n",
       "Clinical Trial Protocol                 1\n",
       "Lecture                                 1\n",
       "Name: type, dtype: int64"
      ]
     },
     "execution_count": 25,
     "metadata": {},
     "output_type": "execute_result"
    }
   ],
   "source": [
    "pubmed.type.value_counts()"
   ]
  },
  {
   "cell_type": "code",
   "execution_count": 26,
   "metadata": {
    "ExecuteTime": {
     "end_time": "2021-10-30T10:23:07.979065Z",
     "start_time": "2021-10-30T10:23:07.971621Z"
    }
   },
   "outputs": [
    {
     "data": {
      "text/plain": [
       "Article             1792\n",
       "Review               460\n",
       "Letter                22\n",
       "Note                  19\n",
       "Short Survey          19\n",
       "Conference Paper      17\n",
       "Book Chapter          14\n",
       "Editorial             10\n",
       "Erratum                2\n",
       "Book                   1\n",
       "Data Paper             1\n",
       "Name: type, dtype: int64"
      ]
     },
     "execution_count": 26,
     "metadata": {},
     "output_type": "execute_result"
    }
   ],
   "source": [
    "scopus.type.value_counts()"
   ]
  },
  {
   "cell_type": "code",
   "execution_count": 27,
   "metadata": {
    "ExecuteTime": {
     "end_time": "2021-10-30T10:23:08.000521Z",
     "start_time": "2021-10-30T10:23:07.982088Z"
    }
   },
   "outputs": [],
   "source": [
    "crossref = crossref[crossref.type =='journal-article']\n",
    "gscholar = gscholar[gscholar.type.isin(['PDF', 'HTML'])]\n",
    "pubmed = pubmed[pubmed.type =='Journal Article']\n",
    "scopus = scopus[scopus.type =='Article']"
   ]
  },
  {
   "cell_type": "code",
   "execution_count": 28,
   "metadata": {
    "ExecuteTime": {
     "end_time": "2021-10-30T10:23:08.008889Z",
     "start_time": "2021-10-30T10:23:08.002777Z"
    }
   },
   "outputs": [
    {
     "name": "stdout",
     "output_type": "stream",
     "text": [
      "Records left after dropping non journal articles: 8473\n",
      "Records removed: 3939\n"
     ]
    }
   ],
   "source": [
    "oldtotal = total\n",
    "total = len(crossref)+len(scopus)+len(pubmed)+len(gscholar)\n",
    "print('Records left after dropping non journal articles:', total)\n",
    "print('Records removed:', oldtotal-total)"
   ]
  },
  {
   "cell_type": "markdown",
   "metadata": {},
   "source": [
    "### Removing records with missing Journal or Title"
   ]
  },
  {
   "cell_type": "code",
   "execution_count": 29,
   "metadata": {
    "ExecuteTime": {
     "end_time": "2021-10-30T10:23:08.045030Z",
     "start_time": "2021-10-30T10:23:08.012222Z"
    }
   },
   "outputs": [],
   "source": [
    "crossref = crossref[crossref.publication.notna() & crossref.title.notna()]\n",
    "gscholar = gscholar[gscholar.publication.notna() & gscholar.title.notna()]\n",
    "pubmed = pubmed[pubmed.publication.notna() & pubmed.title.notna()]\n",
    "scopus = scopus[scopus.publication.notna() & scopus.title.notna()]\n",
    "\n",
    "# Also drop any titles comprosed of just numbers\n",
    "crossref = crossref[crossref.title.str.lower().str.islower()] \n",
    "gscholar = gscholar[gscholar.title.str.lower().str.islower()] \n",
    "pubmed = pubmed[pubmed.title.str.lower().str.islower()] \n",
    "scopus = scopus[scopus.title.str.lower().str.islower()] "
   ]
  },
  {
   "cell_type": "code",
   "execution_count": 30,
   "metadata": {
    "ExecuteTime": {
     "end_time": "2021-10-30T10:23:08.050268Z",
     "start_time": "2021-10-30T10:23:08.046719Z"
    }
   },
   "outputs": [
    {
     "name": "stdout",
     "output_type": "stream",
     "text": [
      "Records left after dropping records with missing journal or article names: 8457\n",
      "Records removed: 16\n"
     ]
    }
   ],
   "source": [
    "oldtotal = total\n",
    "total = len(crossref)+len(scopus)+len(pubmed)+len(gscholar)\n",
    "print('Records left after dropping records with missing journal or article names:', total)\n",
    "print('Records removed:', oldtotal-total)"
   ]
  },
  {
   "cell_type": "code",
   "execution_count": 31,
   "metadata": {
    "ExecuteTime": {
     "end_time": "2021-10-30T10:23:08.064774Z",
     "start_time": "2021-10-30T10:23:08.052391Z"
    }
   },
   "outputs": [
    {
     "name": "stdout",
     "output_type": "stream",
     "text": [
      "<class 'pandas.core.frame.DataFrame'>\n",
      "Int64Index: 3414 entries, 4 to 3999\n",
      "Data columns (total 12 columns):\n",
      " #   Column          Non-Null Count  Dtype  \n",
      "---  ------          --------------  -----  \n",
      " 0   publication     3414 non-null   object \n",
      " 1   title           3414 non-null   object \n",
      " 2   authors         3305 non-null   object \n",
      " 3   doi             3414 non-null   object \n",
      " 4   year            3414 non-null   int64  \n",
      " 5   cites           3414 non-null   int64  \n",
      " 6   type            3414 non-null   object \n",
      " 7   abstract        589 non-null    object \n",
      " 8   article_url     3414 non-null   object \n",
      " 9   fulltext_url    2961 non-null   object \n",
      " 10  abstractLength  589 non-null    float64\n",
      " 11  crossref        3414 non-null   int8   \n",
      "dtypes: float64(1), int64(2), int8(1), object(8)\n",
      "memory usage: 323.4+ KB\n"
     ]
    }
   ],
   "source": [
    "crossref.info()"
   ]
  },
  {
   "cell_type": "code",
   "execution_count": 32,
   "metadata": {
    "ExecuteTime": {
     "end_time": "2021-10-30T10:23:08.078319Z",
     "start_time": "2021-10-30T10:23:08.066868Z"
    }
   },
   "outputs": [
    {
     "name": "stdout",
     "output_type": "stream",
     "text": [
      "<class 'pandas.core.frame.DataFrame'>\n",
      "Int64Index: 402 entries, 28 to 11928\n",
      "Data columns (total 12 columns):\n",
      " #   Column          Non-Null Count  Dtype  \n",
      "---  ------          --------------  -----  \n",
      " 0   publication     402 non-null    object \n",
      " 1   title           402 non-null    object \n",
      " 2   authors         402 non-null    object \n",
      " 3   doi             402 non-null    object \n",
      " 4   year            402 non-null    float64\n",
      " 5   cites           402 non-null    int64  \n",
      " 6   type            402 non-null    object \n",
      " 7   abstract        402 non-null    object \n",
      " 8   article_url     402 non-null    object \n",
      " 9   fulltext_url    402 non-null    object \n",
      " 10  abstractLength  402 non-null    float64\n",
      " 11  gscholar        402 non-null    int8   \n",
      "dtypes: float64(2), int64(1), int8(1), object(8)\n",
      "memory usage: 38.1+ KB\n"
     ]
    }
   ],
   "source": [
    "gscholar.info()"
   ]
  },
  {
   "cell_type": "code",
   "execution_count": 33,
   "metadata": {
    "ExecuteTime": {
     "end_time": "2021-10-30T10:23:08.092141Z",
     "start_time": "2021-10-30T10:23:08.080291Z"
    }
   },
   "outputs": [
    {
     "name": "stdout",
     "output_type": "stream",
     "text": [
      "<class 'pandas.core.frame.DataFrame'>\n",
      "Int64Index: 2849 entries, 0 to 4496\n",
      "Data columns (total 12 columns):\n",
      " #   Column          Non-Null Count  Dtype  \n",
      "---  ------          --------------  -----  \n",
      " 0   publication     2849 non-null   object \n",
      " 1   title           2849 non-null   object \n",
      " 2   authors         2837 non-null   object \n",
      " 3   doi             2849 non-null   object \n",
      " 4   year            2849 non-null   float64\n",
      " 5   cites           2849 non-null   int64  \n",
      " 6   type            2849 non-null   object \n",
      " 7   abstract        2720 non-null   object \n",
      " 8   article_url     0 non-null      float64\n",
      " 9   fulltext_url    0 non-null      float64\n",
      " 10  abstractLength  2720 non-null   float64\n",
      " 11  pubmed          2849 non-null   int8   \n",
      "dtypes: float64(4), int64(1), int8(1), object(6)\n",
      "memory usage: 269.9+ KB\n"
     ]
    }
   ],
   "source": [
    "pubmed.info()"
   ]
  },
  {
   "cell_type": "code",
   "execution_count": 34,
   "metadata": {
    "ExecuteTime": {
     "end_time": "2021-10-30T10:23:08.105050Z",
     "start_time": "2021-10-30T10:23:08.093971Z"
    }
   },
   "outputs": [
    {
     "name": "stdout",
     "output_type": "stream",
     "text": [
      "<class 'pandas.core.frame.DataFrame'>\n",
      "Int64Index: 1792 entries, 4 to 2399\n",
      "Data columns (total 12 columns):\n",
      " #   Column          Non-Null Count  Dtype  \n",
      "---  ------          --------------  -----  \n",
      " 0   publication     1792 non-null   object \n",
      " 1   title           1792 non-null   object \n",
      " 2   authors         1791 non-null   object \n",
      " 3   doi             1792 non-null   object \n",
      " 4   year            1792 non-null   int64  \n",
      " 5   cites           1792 non-null   int64  \n",
      " 6   type            1792 non-null   object \n",
      " 7   abstract        0 non-null      float64\n",
      " 8   article_url     355 non-null    object \n",
      " 9   fulltext_url    0 non-null      float64\n",
      " 10  abstractLength  0 non-null      float64\n",
      " 11  scopus          1792 non-null   int8   \n",
      "dtypes: float64(3), int64(2), int8(1), object(6)\n",
      "memory usage: 169.8+ KB\n"
     ]
    }
   ],
   "source": [
    "scopus.info()"
   ]
  },
  {
   "cell_type": "markdown",
   "metadata": {},
   "source": [
    "### Removing incomplete Google Scholar Journal Names that can't be matched and completed"
   ]
  },
  {
   "cell_type": "code",
   "execution_count": 35,
   "metadata": {
    "ExecuteTime": {
     "end_time": "2021-10-30T10:23:08.111390Z",
     "start_time": "2021-10-30T10:23:08.107170Z"
    }
   },
   "outputs": [],
   "source": [
    "gscholar['doiJournal'] = gscholar.doi.apply (lambda x: re.split('/', x)[0])"
   ]
  },
  {
   "cell_type": "code",
   "execution_count": 36,
   "metadata": {
    "ExecuteTime": {
     "end_time": "2021-10-30T10:23:08.117040Z",
     "start_time": "2021-10-30T10:23:08.113305Z"
    }
   },
   "outputs": [],
   "source": [
    "incompleteJournalNames = [name for name in gscholar.publication.unique() if '…' in name]\n",
    "completeJournalNames = [name for name in gscholar.publication.unique() if '…' not in name]"
   ]
  },
  {
   "cell_type": "code",
   "execution_count": 37,
   "metadata": {
    "ExecuteTime": {
     "end_time": "2021-10-30T10:23:08.122490Z",
     "start_time": "2021-10-30T10:23:08.118819Z"
    },
    "scrolled": true
   },
   "outputs": [
    {
     "data": {
      "text/plain": [
       "['bmc research …',\n",
       " 'journal of …',\n",
       " 'bmc infectious …',\n",
       " 'jrsm short …',\n",
       " 'otolaryngology–head and …',\n",
       " 'arthritis research & …',\n",
       " 'experimental and applied …',\n",
       " 'international …',\n",
       " 'molecular …',\n",
       " '… journal of rare …',\n",
       " 'acta veterinaria …',\n",
       " 'environmental health and preventive …',\n",
       " 'parasites & …',\n",
       " 'archivum immunologiae et …',\n",
       " '…',\n",
       " 'european journal of …',\n",
       " 'world journal of …',\n",
       " 'bmc veterinary …',\n",
       " 'journal of ophthalmic inflammation and …',\n",
       " 'european journal of clinical microbiology & infectious …',\n",
       " 'planta …',\n",
       " 'climate change adaptation in developed …',\n",
       " '… england journal of …',\n",
       " 'circulation: heart …',\n",
       " 'evolution: education and …',\n",
       " 'bmc …',\n",
       " 'new frontiers of molecular …',\n",
       " 'arthritis …',\n",
       " 'bmc public …',\n",
       " 'new england journal …',\n",
       " 'journal of osteopathic …',\n",
       " 'bmc medical …',\n",
       " 'bmc family …',\n",
       " 'theoretical biology and medical …',\n",
       " 'indian journal of psychological …',\n",
       " 'annals of the american …',\n",
       " 'archives of …',\n",
       " 'global pediatric …',\n",
       " 'netherlands heart …',\n",
       " 'journal of translational …',\n",
       " 'parasitology …',\n",
       " 'environmental …',\n",
       " 'systematic …',\n",
       " 'journal of ophthalmic …',\n",
       " '… and applied acarology',\n",
       " 'canadian journal of public …',\n",
       " 'pediatric …',\n",
       " 'a52. critical care case …',\n",
       " 'biomarker …',\n",
       " 'insights into …',\n",
       " 'wiener klinische …',\n",
       " 'new england journal of …',\n",
       " 'journal of general …',\n",
       " 'clinical oral …',\n",
       " 'clinical chemistry and …',\n",
       " 'american journal of …',\n",
       " 'annals of otology and …',\n",
       " 'international journal of …',\n",
       " 'current emergency and …',\n",
       " 'annals of …',\n",
       " 'italian journal of …',\n",
       " 'european archives of …',\n",
       " 'neurological …',\n",
       " 'applied microbiology and …',\n",
       " 'research involvement …',\n",
       " 'experimental and …',\n",
       " 'bmc oral …',\n",
       " 'clinical …',\n",
       " 'biomolecular nmr …',\n",
       " 'european journal of clinical microbiology & …']"
      ]
     },
     "execution_count": 37,
     "metadata": {},
     "output_type": "execute_result"
    }
   ],
   "source": [
    "incompleteJournalNames"
   ]
  },
  {
   "cell_type": "code",
   "execution_count": 38,
   "metadata": {
    "ExecuteTime": {
     "end_time": "2021-10-30T10:23:08.127058Z",
     "start_time": "2021-10-30T10:23:08.124143Z"
    }
   },
   "outputs": [],
   "source": [
    "journalNamesDict = {}"
   ]
  },
  {
   "cell_type": "code",
   "execution_count": 39,
   "metadata": {
    "ExecuteTime": {
     "end_time": "2021-10-30T10:23:08.181796Z",
     "start_time": "2021-10-30T10:23:08.130237Z"
    }
   },
   "outputs": [],
   "source": [
    "for name in completeJournalNames:\n",
    "    journalNamesDict[name] = gscholar[gscholar.publication ==name].doiJournal.unique()[0]"
   ]
  },
  {
   "cell_type": "code",
   "execution_count": 40,
   "metadata": {
    "ExecuteTime": {
     "end_time": "2021-10-30T10:23:08.191223Z",
     "start_time": "2021-10-30T10:23:08.183907Z"
    }
   },
   "outputs": [
    {
     "data": {
      "text/plain": [
       "248"
      ]
     },
     "execution_count": 40,
     "metadata": {},
     "output_type": "execute_result"
    }
   ],
   "source": [
    "len(gscholar[gscholar.publication.str.contains('…')])"
   ]
  },
  {
   "cell_type": "code",
   "execution_count": 41,
   "metadata": {
    "ExecuteTime": {
     "end_time": "2021-10-30T10:23:08.330685Z",
     "start_time": "2021-10-30T10:23:08.193849Z"
    }
   },
   "outputs": [],
   "source": [
    "for index, row in gscholar.iterrows():\n",
    "    if ('…') in row['publication']:\n",
    "        name = row['publication']\n",
    "        options=[]\n",
    "        if name.startswith('…') & name.endswith('…'):\n",
    "            newname=name[1:-1]\n",
    "            if len(newname)>1:\n",
    "                for key in journalNamesDict:\n",
    "                    if (newname in key) & (journalNamesDict[key]==row['doiJournal']):\n",
    "                        options.append(key)\n",
    "                if len(options)==1:\n",
    "                    gscholar.loc[index,'publication']= options[0]\n",
    "        elif name.startswith('…'):\n",
    "            newname=name[1:]\n",
    "            for key in journalNamesDict:\n",
    "                if (key.endswith(newname)) & (journalNamesDict[key]==row['doiJournal']):\n",
    "                    options.append(key)\n",
    "            if len(options)==1:\n",
    "                gscholar.loc[index,'publication']= options[0]\n",
    "        elif name.endswith('…'):\n",
    "            newname=name[:-1]\n",
    "            for key in journalNamesDict:\n",
    "                if (key.startswith(newname)) & (journalNamesDict[key]==row['doiJournal']):\n",
    "                    options.append(key)\n",
    "            if len(options)==1:\n",
    "                gscholar.loc[index,'publication']= options[0]"
   ]
  },
  {
   "cell_type": "code",
   "execution_count": 42,
   "metadata": {
    "ExecuteTime": {
     "end_time": "2021-10-30T10:23:08.338726Z",
     "start_time": "2021-10-30T10:23:08.333099Z"
    }
   },
   "outputs": [
    {
     "data": {
      "text/plain": [
       "118"
      ]
     },
     "execution_count": 42,
     "metadata": {},
     "output_type": "execute_result"
    }
   ],
   "source": [
    "### Number of records to be removed\n",
    "len(gscholar[gscholar.publication.str.contains('…')])"
   ]
  },
  {
   "cell_type": "code",
   "execution_count": 43,
   "metadata": {
    "ExecuteTime": {
     "end_time": "2021-10-30T10:23:08.345147Z",
     "start_time": "2021-10-30T10:23:08.340889Z"
    }
   },
   "outputs": [],
   "source": [
    "gscholar=gscholar[~gscholar.publication.str.contains('…')]"
   ]
  },
  {
   "cell_type": "code",
   "execution_count": 44,
   "metadata": {
    "ExecuteTime": {
     "end_time": "2021-10-30T10:23:08.360077Z",
     "start_time": "2021-10-30T10:23:08.347693Z"
    }
   },
   "outputs": [
    {
     "name": "stdout",
     "output_type": "stream",
     "text": [
      "<class 'pandas.core.frame.DataFrame'>\n",
      "Int64Index: 284 entries, 52 to 11928\n",
      "Data columns (total 13 columns):\n",
      " #   Column          Non-Null Count  Dtype  \n",
      "---  ------          --------------  -----  \n",
      " 0   publication     284 non-null    object \n",
      " 1   title           284 non-null    object \n",
      " 2   authors         284 non-null    object \n",
      " 3   doi             284 non-null    object \n",
      " 4   year            284 non-null    float64\n",
      " 5   cites           284 non-null    int64  \n",
      " 6   type            284 non-null    object \n",
      " 7   abstract        284 non-null    object \n",
      " 8   article_url     284 non-null    object \n",
      " 9   fulltext_url    284 non-null    object \n",
      " 10  abstractLength  284 non-null    float64\n",
      " 11  gscholar        284 non-null    int8   \n",
      " 12  doiJournal      284 non-null    object \n",
      "dtypes: float64(2), int64(1), int8(1), object(9)\n",
      "memory usage: 29.1+ KB\n"
     ]
    }
   ],
   "source": [
    "gscholar.info()"
   ]
  },
  {
   "cell_type": "code",
   "execution_count": 45,
   "metadata": {
    "ExecuteTime": {
     "end_time": "2021-10-30T10:23:08.365959Z",
     "start_time": "2021-10-30T10:23:08.362288Z"
    }
   },
   "outputs": [],
   "source": [
    "gscholar.drop(columns='doiJournal', inplace=True)"
   ]
  },
  {
   "cell_type": "code",
   "execution_count": 46,
   "metadata": {
    "ExecuteTime": {
     "end_time": "2021-10-30T10:23:08.372787Z",
     "start_time": "2021-10-30T10:23:08.368553Z"
    }
   },
   "outputs": [
    {
     "name": "stdout",
     "output_type": "stream",
     "text": [
      "Records left after dropping truncated Google Scholar journal names: 8339\n",
      "Records removed: 118\n"
     ]
    }
   ],
   "source": [
    "oldtotal = total\n",
    "total = len(crossref)+len(scopus)+len(pubmed)+len(gscholar)\n",
    "print('Records left after dropping truncated Google Scholar journal names:', total)\n",
    "print('Records removed:', oldtotal-total)"
   ]
  },
  {
   "cell_type": "markdown",
   "metadata": {},
   "source": [
    "### Preparation for Merging Remaining Records"
   ]
  },
  {
   "cell_type": "markdown",
   "metadata": {},
   "source": [
    "#### Resetting very short abstracts"
   ]
  },
  {
   "cell_type": "markdown",
   "metadata": {},
   "source": [
    "With the exception of one very short pubmed abstract, there are some abstracts that appear truncated. An arbitrary threshold of 300 characters is set with scopus and crossref abstracts short than this reset to null. Hopefully these will be properly populated by the scraping process."
   ]
  },
  {
   "cell_type": "code",
   "execution_count": 47,
   "metadata": {
    "ExecuteTime": {
     "end_time": "2021-10-30T10:23:08.998815Z",
     "start_time": "2021-10-30T10:23:08.375280Z"
    }
   },
   "outputs": [],
   "source": [
    "for idx in crossref.index:\n",
    "    if crossref.loc[idx].abstractLength<300:\n",
    "        crossref.at[idx,'abstract'] = np.NaN\n",
    "        crossref.at[idx,'abstractLength'] = np.NaN"
   ]
  },
  {
   "cell_type": "code",
   "execution_count": 48,
   "metadata": {
    "ExecuteTime": {
     "end_time": "2021-10-30T10:23:09.386010Z",
     "start_time": "2021-10-30T10:23:09.068484Z"
    }
   },
   "outputs": [],
   "source": [
    "for idx in gscholar.index:\n",
    "    if gscholar.loc[idx].abstractLength<300:\n",
    "        gscholar.at[idx,'abstract'] = np.NaN\n",
    "        gscholar.at[idx,'abstractLength'] = np.NaN"
   ]
  },
  {
   "cell_type": "code",
   "execution_count": 49,
   "metadata": {
    "ExecuteTime": {
     "end_time": "2021-10-30T10:23:09.386010Z",
     "start_time": "2021-10-30T10:23:09.068484Z"
    }
   },
   "outputs": [],
   "source": [
    "for idx in scopus.index:\n",
    "    if scopus.loc[idx].abstractLength<300:\n",
    "        scopus.at[idx,'abstract'] = np.NaN\n",
    "        scopus.at[idx,'abstractLength'] = np.NaN"
   ]
  },
  {
   "cell_type": "markdown",
   "metadata": {},
   "source": [
    "#### Dummy for Source"
   ]
  },
  {
   "cell_type": "code",
   "execution_count": 50,
   "metadata": {
    "ExecuteTime": {
     "end_time": "2021-10-30T10:23:09.399732Z",
     "start_time": "2021-10-30T10:23:09.388166Z"
    }
   },
   "outputs": [],
   "source": [
    "# Datasets already contain a dummy variable column flagging where they were obtained from. E.g pubmed['pubmed']=1\n",
    "# This aids matching columns in preparation for concatenation\n",
    "pubmed[['gscholar','crossref','scopus']]=0\n",
    "gscholar[['pubmed','crossref','scopus']]=0\n",
    "crossref[['pubmed','gscholar','scopus']]=0\n",
    "scopus[['pubmed','gscholar','crossref']]=0"
   ]
  },
  {
   "cell_type": "markdown",
   "metadata": {
    "ExecuteTime": {
     "end_time": "2021-10-30T09:55:25.955815Z",
     "start_time": "2021-10-30T09:55:25.953679Z"
    }
   },
   "source": [
    "### Building Dataframes of Unique Records"
   ]
  },
  {
   "cell_type": "markdown",
   "metadata": {},
   "source": [
    "#### Records that have DOI and abstract"
   ]
  },
  {
   "cell_type": "code",
   "execution_count": 51,
   "metadata": {
    "ExecuteTime": {
     "end_time": "2021-10-30T10:23:09.411602Z",
     "start_time": "2021-10-30T10:23:09.401860Z"
    }
   },
   "outputs": [
    {
     "data": {
      "text/plain": [
       "2720"
      ]
     },
     "execution_count": 51,
     "metadata": {},
     "output_type": "execute_result"
    }
   ],
   "source": [
    "len(pubmed[pubmed.doi.notna() & pubmed.abstract.notna()])"
   ]
  },
  {
   "cell_type": "markdown",
   "metadata": {
    "ExecuteTime": {
     "end_time": "2021-10-30T09:57:41.138116Z",
     "start_time": "2021-10-30T09:57:41.132980Z"
    }
   },
   "source": [
    "Using Pubmed results as the starting point due to their relative completeness of data, we take the 2720 results with both a DOI and abstract and add any abstracts from the Crossref, Google Scholar or Scopus records that also have a unique DOI. Using the DOI as a unique identifier prevents adding duplicates to the new collated dataset as we build it. "
   ]
  },
  {
   "cell_type": "code",
   "execution_count": 52,
   "metadata": {
    "ExecuteTime": {
     "end_time": "2021-10-30T10:23:09.433596Z",
     "start_time": "2021-10-30T10:23:09.413866Z"
    }
   },
   "outputs": [],
   "source": [
    "## Splitting Datasets by abstract and doi availability\n",
    "crossrefToAdd = crossref[crossref.doi.notna() & crossref.abstract.notna()]\n",
    "crossrefRemaining = crossref[~(crossref.doi.notna() & crossref.abstract.notna())]\n",
    "gscholarToAdd = gscholar[gscholar.doi.notna() & gscholar.abstract.notna()]\n",
    "gscholarRemaining = gscholar[~(gscholar.doi.notna() & gscholar.abstract.notna())]\n",
    "scopusToAdd = scopus[scopus.doi.notna() & scopus.abstract.notna()]\n",
    "scopusRemaining = scopus[~(scopus.doi.notna() & scopus.abstract.notna())]"
   ]
  },
  {
   "cell_type": "code",
   "execution_count": 53,
   "metadata": {
    "ExecuteTime": {
     "end_time": "2021-10-30T10:23:09.465933Z",
     "start_time": "2021-10-30T10:23:09.435955Z"
    }
   },
   "outputs": [],
   "source": [
    "#Concating unique DOI records that contain abstracts\n",
    "collated = pubmed[pubmed.doi.notna() & pubmed.abstract.notna()]\n",
    "collated = pd.concat([collated, crossrefToAdd[~crossrefToAdd['doi'].isin(pubmed.doi)]])\n",
    "collated = pd.concat([collated, scopusToAdd[~scopusToAdd['doi'].isin(collated.doi)]])\n",
    "collated = pd.concat([collated, gscholarToAdd[~gscholarToAdd['doi'].isin(collated.doi)]])"
   ]
  },
  {
   "cell_type": "code",
   "execution_count": 54,
   "metadata": {
    "ExecuteTime": {
     "end_time": "2021-10-30T10:24:14.355091Z",
     "start_time": "2021-10-30T10:23:09.468397Z"
    }
   },
   "outputs": [],
   "source": [
    "#add language of abstracts, titles and journal names\n",
    "collated['publicationLanguage'] = collated.publication.apply(detect)\n",
    "collated['titleLanguage'] = collated.title.apply(detect)\n",
    "collated['abstractLanguage'] = collated.abstract.apply(detect)\n",
    "\n",
    "#reset index\n",
    "collated.reset_index(drop = True, inplace=True)"
   ]
  },
  {
   "cell_type": "code",
   "execution_count": 55,
   "metadata": {
    "ExecuteTime": {
     "end_time": "2021-10-30T10:24:14.376188Z",
     "start_time": "2021-10-30T10:24:14.357237Z"
    }
   },
   "outputs": [
    {
     "name": "stdout",
     "output_type": "stream",
     "text": [
      "<class 'pandas.core.frame.DataFrame'>\n",
      "RangeIndex: 2962 entries, 0 to 2961\n",
      "Data columns (total 18 columns):\n",
      " #   Column               Non-Null Count  Dtype  \n",
      "---  ------               --------------  -----  \n",
      " 0   publication          2962 non-null   object \n",
      " 1   title                2962 non-null   object \n",
      " 2   authors              2958 non-null   object \n",
      " 3   doi                  2962 non-null   object \n",
      " 4   year                 2962 non-null   float64\n",
      " 5   cites                2962 non-null   int64  \n",
      " 6   type                 2962 non-null   object \n",
      " 7   abstract             2962 non-null   object \n",
      " 8   article_url          242 non-null    object \n",
      " 9   fulltext_url         210 non-null    object \n",
      " 10  abstractLength       2962 non-null   float64\n",
      " 11  pubmed               2962 non-null   int64  \n",
      " 12  gscholar             2962 non-null   int64  \n",
      " 13  crossref             2962 non-null   int64  \n",
      " 14  scopus               2962 non-null   int64  \n",
      " 15  publicationLanguage  2962 non-null   object \n",
      " 16  titleLanguage        2962 non-null   object \n",
      " 17  abstractLanguage     2962 non-null   object \n",
      "dtypes: float64(2), int64(5), object(11)\n",
      "memory usage: 416.7+ KB\n"
     ]
    }
   ],
   "source": [
    "collated.info()"
   ]
  },
  {
   "cell_type": "markdown",
   "metadata": {},
   "source": [
    "#### Records that have DOI but no abstract"
   ]
  },
  {
   "cell_type": "markdown",
   "metadata": {},
   "source": [
    "Next we build a dataframe of records that have unique DOIs but no abstract. This will be the list of abstracts we will attempt to scrape and add to the dataframe of existing abstracts."
   ]
  },
  {
   "cell_type": "code",
   "execution_count": 56,
   "metadata": {
    "ExecuteTime": {
     "end_time": "2021-10-30T10:24:14.414208Z",
     "start_time": "2021-10-30T10:24:14.378726Z"
    }
   },
   "outputs": [],
   "source": [
    "scraped = pubmed[pubmed.doi.notna() & pubmed.abstract.isna()]\n",
    "crossrefToAdd = crossrefRemaining[~(crossrefRemaining['doi'].isin(collated.doi) | crossrefRemaining['doi'].isin(scraped.doi))]\n",
    "scraped = pd.concat([scraped, crossrefToAdd])\n",
    "scopusToAdd = scopusRemaining[~(scopusRemaining['doi'].isin(collated.doi) | scopusRemaining['doi'].isin(scraped.doi))]\n",
    "scraped = pd.concat([scraped, scopusToAdd])\n",
    "gscholarToAdd = gscholarRemaining[~(gscholarRemaining['doi'].isin(collated.doi) | gscholarRemaining['doi'].isin(scraped.doi))]\n",
    "scraped = pd.concat([scraped, gscholarToAdd])"
   ]
  },
  {
   "cell_type": "code",
   "execution_count": 57,
   "metadata": {
    "ExecuteTime": {
     "end_time": "2021-10-30T10:24:52.345008Z",
     "start_time": "2021-10-30T10:24:14.416625Z"
    }
   },
   "outputs": [],
   "source": [
    "#add language of abstracts, titles and journal names\n",
    "scraped['publicationLanguage'] = scraped.publication.apply(detect)\n",
    "scraped['titleLanguage'] = scraped.title.apply(detect)\n",
    "scraped['abstractLanguage'] = np.NaN\n",
    "\n",
    "#Sort by number of times journal appears in dataset\n",
    "scraped = scraped.iloc[scraped.groupby('publication').publication.transform('size').mul(-1).argsort(kind='mergesort')]\n",
    "\n",
    "# reset index\n",
    "scraped.reset_index(drop=True, inplace=True)"
   ]
  },
  {
   "cell_type": "code",
   "execution_count": 58,
   "metadata": {
    "ExecuteTime": {
     "end_time": "2021-10-30T10:24:52.362245Z",
     "start_time": "2021-10-30T10:24:52.346748Z"
    }
   },
   "outputs": [
    {
     "name": "stdout",
     "output_type": "stream",
     "text": [
      "<class 'pandas.core.frame.DataFrame'>\n",
      "RangeIndex: 2601 entries, 0 to 2600\n",
      "Data columns (total 18 columns):\n",
      " #   Column               Non-Null Count  Dtype  \n",
      "---  ------               --------------  -----  \n",
      " 0   publication          2601 non-null   object \n",
      " 1   title                2601 non-null   object \n",
      " 2   authors              2494 non-null   object \n",
      " 3   doi                  2601 non-null   object \n",
      " 4   year                 2601 non-null   float64\n",
      " 5   cites                2601 non-null   int64  \n",
      " 6   type                 2601 non-null   object \n",
      " 7   abstract             0 non-null      object \n",
      " 8   article_url          2106 non-null   object \n",
      " 9   fulltext_url         1703 non-null   object \n",
      " 10  abstractLength       0 non-null      float64\n",
      " 11  pubmed               2601 non-null   int64  \n",
      " 12  gscholar             2601 non-null   int64  \n",
      " 13  crossref             2601 non-null   int64  \n",
      " 14  scopus               2601 non-null   int64  \n",
      " 15  publicationLanguage  2601 non-null   object \n",
      " 16  titleLanguage        2601 non-null   object \n",
      " 17  abstractLanguage     0 non-null      float64\n",
      "dtypes: float64(3), int64(5), object(10)\n",
      "memory usage: 365.9+ KB\n"
     ]
    }
   ],
   "source": [
    "scraped.info()"
   ]
  },
  {
   "cell_type": "code",
   "execution_count": 59,
   "metadata": {
    "ExecuteTime": {
     "end_time": "2021-10-30T10:24:52.369926Z",
     "start_time": "2021-10-30T10:24:52.365372Z"
    }
   },
   "outputs": [
    {
     "name": "stdout",
     "output_type": "stream",
     "text": [
      "Records left after merging records: 5563\n",
      "Records with abstracts: 2962\n",
      "Abstracts to seek to retrieve via scraping: 2601\n",
      "Records removed: 2776\n"
     ]
    }
   ],
   "source": [
    "oldtotal = total\n",
    "total = len(collated) + len(scraped)\n",
    "print('Records left after merging records:', total)\n",
    "print(\"Records with abstracts:\", len(collated))\n",
    "print(\"Abstracts to seek to retrieve via scraping:\", len(scraped))\n",
    "print('Records removed:', oldtotal-total)"
   ]
  },
  {
   "cell_type": "code",
   "execution_count": 60,
   "metadata": {
    "ExecuteTime": {
     "end_time": "2021-10-30T10:29:05.701941Z",
     "start_time": "2021-10-30T10:29:05.695664Z"
    }
   },
   "outputs": [
    {
     "data": {
      "text/plain": [
       "ticks and tick-borne diseases        58\n",
       "clinical infectious diseases         52\n",
       "parasites & vectors                  47\n",
       "plos one                             45\n",
       "médecine et maladies infectieuses    38\n",
       "                                     ..\n",
       "child & family social work            1\n",
       "anatolian journal of psychiatry       1\n",
       "arthritis care and research           1\n",
       "eye (basingstoke)                     1\n",
       "journal of rheumatology               1\n",
       "Name: publication, Length: 1056, dtype: int64"
      ]
     },
     "execution_count": 60,
     "metadata": {},
     "output_type": "execute_result"
    }
   ],
   "source": [
    "scraped.publication.value_counts()"
   ]
  },
  {
   "cell_type": "markdown",
   "metadata": {},
   "source": [
    "### Saving New Dataframes"
   ]
  },
  {
   "cell_type": "code",
   "execution_count": 61,
   "metadata": {
    "ExecuteTime": {
     "end_time": "2021-10-30T10:31:08.633347Z",
     "start_time": "2021-10-30T10:31:08.325576Z"
    }
   },
   "outputs": [],
   "source": [
    "collated.to_csv('collated.csv')\n",
    "scraped.to_csv('scraped.csv')"
   ]
  },
  {
   "cell_type": "markdown",
   "metadata": {},
   "source": [
    "## Scraping"
   ]
  },
  {
   "cell_type": "code",
   "execution_count": 62,
   "metadata": {
    "ExecuteTime": {
     "end_time": "2021-10-30T10:31:49.419382Z",
     "start_time": "2021-10-30T10:31:49.028168Z"
    }
   },
   "outputs": [],
   "source": [
    "import requests                 # How Python gets the webpages\n",
    "from bs4 import BeautifulSoup   # Creates structured, searchable object\n",
    "import urllib                   # useful for cleaning/processing URLs"
   ]
  },
  {
   "cell_type": "markdown",
   "metadata": {},
   "source": [
    "### Formatting Vagaries"
   ]
  },
  {
   "cell_type": "markdown",
   "metadata": {},
   "source": [
    "In each of the main sources of articles, the parent webpage (e.g. Science Direct, plos.org) tags Abstract text in different ways. \n",
    "\n",
    "For example:\n",
    "* Science Direct (Ticks and Tick-borne Diseases): ``<h2 class=\"section-title u-h3 u-margin-l-top u-margin-xs-bottom\">Abstract</h2><div id=\"abst0005\">``\n",
    "* PLoS ONE: ``<h2>Abstract\\</h2>\\<div class=\"abstract-content\">``\n",
    "\n",
    "* Vector-Borne and Zoonotic Diseases: ``<h2>Abstract</h2></div><div class=\"abstractSection abstractInFull\">``\n",
    "\n",
    "* Parasites & Vectors: ``<h2 class=\"c-article-section__title js-section-title js-c-reading-companion-sections-item\" id=\"Abs1\">Abstract</h2><div class=\"c-article-section__content\" id=\"Abs1-content\">``\n",
    "\n",
    "In addition, some sites, notably Science Direct/Elsevier employ a redirect not picked up by the *Requests* package in Python because they use JavaScript to redirect from the page that the get request lands on. Additional handling is required in these cases to extract the actual URL, visit it and extract the Abstract text. "
   ]
  },
  {
   "cell_type": "markdown",
   "metadata": {},
   "source": [
    "### Scraping Function"
   ]
  },
  {
   "cell_type": "code",
   "execution_count": 73,
   "metadata": {
    "ExecuteTime": {
     "end_time": "2021-10-30T10:41:09.185083Z",
     "start_time": "2021-10-30T10:41:09.164529Z"
    }
   },
   "outputs": [],
   "source": [
    "def scrapeAbstracts(doi):\n",
    "    headers = {'User-Agent': \"Mozilla/5.0 (Macintosh; Intel Mac OS X 10_13_1) AppleWebKit/537.36 (K HTML, like Gecko) Chrome/61.0.3163.100 Safari/537.36\"\n",
    "              }\n",
    "    url = 'http://dx.doi.org/' + doi\n",
    "#     print(url)\n",
    "    try:\n",
    "        response = requests.get(url) \n",
    "    except requests.exceptions.RequestException as e:\n",
    "                return 'Error'\n",
    "        \n",
    "    if(response.status_code!=200):\n",
    "        return str(response.status_code)+ ' response'\n",
    "    \n",
    "    page = response.content\n",
    "    captalised = False\n",
    "    abstractHeadingStart = page.find(b'>Abstract<')\n",
    "    if abstractHeadingStart==-1: \n",
    "        abstractHeadingStart = page.find(b'>ABSTRACT<')\n",
    "        if abstractHeadingStart==-1:\n",
    "            redirect = page.find(b'redirect')\n",
    "            if redirect ==-1:\n",
    "                return 'No abstract found'\n",
    "            else:\n",
    "                URLstart = page.find(b'http', redirect)\n",
    "                URLend = page.find(b'\"', URLstart)\n",
    "                URLencoded = page[URLstart:URLend]\n",
    "                URLdecoded = URLencoded.decode('UTF-8')\n",
    "                redirectURL = urllib.parse.unquote(URLdecoded)\n",
    "                redirectURLshort = redirectURL[:redirectURL.find('?')]\n",
    "#                 print(redirectURLshort)\n",
    "                try:\n",
    "                    response = requests.get(redirectURL, headers=headers)\n",
    "                except requests.exceptions.RequestException as e:\n",
    "                    return 'Error after redirect'\n",
    "                if(response.status_code!=200):\n",
    "                    return 'No response'\n",
    "                page = response.content\n",
    "                abstractHeadingStart = page.find(b'>Abstract<')\n",
    "                if abstractHeadingStart==-1: \n",
    "                    return 'No abstract found'\n",
    "        else:\n",
    "            captalised=True\n",
    "#             print(captalised)\n",
    "    if (captalised):\n",
    "        lastMentionofAbstract = page.rfind(b'>ABSTRACT<')\n",
    "        if abstractHeadingStart != lastMentionofAbstract:\n",
    "    #         print('test')\n",
    "            if page.find(b'>ABSTRACT</h')> abstractHeadingStart:\n",
    "                abstractHeadingStart = page.find(b'>ABSTRACT</h')\n",
    "        divTagStart = page.find(b'<div', abstractHeadingStart+len('>ABSTRACT<'))\n",
    "        \n",
    "    else:\n",
    "        lastMentionofAbstract = page.rfind(b'>Abstract<')\n",
    "        if abstractHeadingStart != lastMentionofAbstract:\n",
    "    #         print('test')\n",
    "            if page.find(b'>Abstract</h')> abstractHeadingStart:\n",
    "                abstractHeadingStart = page.find(b'>Abstract</h')\n",
    "        divTagStart = page.find(b'<div', abstractHeadingStart+len('>Abstract<'))\n",
    "        if divTagStart - abstractHeadingStart > 200:\n",
    "            divTagStart = page.rfind(b'<div', 0, abstractHeadingStart)\n",
    "    #         print(page[abstractHeadingStart:abstractHeadingend])\n",
    "#     print(page[abstractHeadingStart:])\n",
    "\n",
    "\n",
    "    try:        \n",
    "        \n",
    "        divTagEnd = page.find(b'>', divTagStart)\n",
    "        divTag = page[divTagStart:divTagEnd]\n",
    "        divTagType = divTag[divTag.find(b' ')+1:divTag.find(b'=')].decode()\n",
    "        divTagAtrr = divTag[divTag.find(b'\"')+1:]\n",
    "        divTagAtrr = divTagAtrr[:divTagAtrr.find(b'\"')]\n",
    "        \n",
    "#         print(divTag)\n",
    "#         print(divTagType)\n",
    "#         print(divTagAtrr)\n",
    "        scraping = BeautifulSoup(page, \"html\") \n",
    "        text = scraping.find(\"div\", attrs={divTagType: divTagAtrr})\n",
    "        for subTag in text.contents[:-1]:\n",
    "            if subTag.name is not None and subTag.name.startswith(\"h\"):\n",
    "                subTag.string = subTag.string + '.'\n",
    "\n",
    "    except AttributeError as error:\n",
    "        headingTag = page[page.rfind(b'<',0, abstractHeadingStart):abstractHeadingStart]\n",
    "        headingTag = headingTag[:3]\n",
    "\n",
    "        abstractStart = page.find(b'>', abstractHeadingStart+len('>Abstract<'))+1\n",
    "        abstractEnd = page.find(headingtag,abstractStart)\n",
    "\n",
    "        scraping = BeautifulSoup(page[abstractStart:abstractEnd], \"html\") \n",
    "        text = scraping.get_text(strip=True)\n",
    "        return text\n",
    "    except TypeError as error:\n",
    "        return 'TypeError'\n",
    "#         print(divTag)\n",
    "#         print(divTagType)\n",
    "#         print(divTagAtrr)\n",
    "#     print('returns')\n",
    "    return text.get_text(separator = ' ', strip=True)"
   ]
  },
  {
   "cell_type": "code",
   "execution_count": 72,
   "metadata": {
    "ExecuteTime": {
     "end_time": "2021-10-30T10:39:32.051913Z",
     "start_time": "2021-10-30T10:39:32.041603Z"
    }
   },
   "outputs": [
    {
     "name": "stdout",
     "output_type": "stream",
     "text": [
      "There are 1056 different publications in the scraping dataset.\n",
      "661 of them appear only once.\n",
      "Another 169 appear just twice.\n"
     ]
    }
   ],
   "source": [
    "print('There are', scraped.publication.nunique(), 'different publications in the scraping dataset.')\n",
    "print(sum(scraped.publication.value_counts()==1), \"of them appear only once.\")\n",
    "print(\"Another\", sum(scraped.publication.value_counts()==2), \"appear just twice.\")"
   ]
  },
  {
   "cell_type": "code",
   "execution_count": 67,
   "metadata": {
    "ExecuteTime": {
     "end_time": "2021-10-30T10:36:48.046172Z",
     "start_time": "2021-10-30T10:36:48.040081Z"
    }
   },
   "outputs": [
    {
     "data": {
      "text/plain": [
       "ticks and tick-borne diseases         58\n",
       "clinical infectious diseases          52\n",
       "parasites & vectors                   47\n",
       "plos one                              45\n",
       "médecine et maladies infectieuses     38\n",
       "parasites and vectors                 32\n",
       "the american journal of medicine      29\n",
       "emerging infectious diseases          28\n",
       "revue francophone des laboratoires    27\n",
       "vector-borne and zoonotic diseases    21\n",
       "Name: publication, dtype: int64"
      ]
     },
     "execution_count": 67,
     "metadata": {},
     "output_type": "execute_result"
    }
   ],
   "source": [
    "scraped.publication.value_counts()[:10]"
   ]
  },
  {
   "cell_type": "code",
   "execution_count": null,
   "metadata": {},
   "outputs": [],
   "source": []
  }
 ],
 "metadata": {
  "kernelspec": {
   "display_name": "Python 3",
   "language": "python",
   "name": "python3"
  },
  "language_info": {
   "codemirror_mode": {
    "name": "ipython",
    "version": 3
   },
   "file_extension": ".py",
   "mimetype": "text/x-python",
   "name": "python",
   "nbconvert_exporter": "python",
   "pygments_lexer": "ipython3",
   "version": "3.7.3"
  },
  "toc": {
   "base_numbering": 1,
   "nav_menu": {},
   "number_sections": true,
   "sideBar": true,
   "skip_h1_title": true,
   "title_cell": "Table of Contents",
   "title_sidebar": "Contents",
   "toc_cell": true,
   "toc_position": {},
   "toc_section_display": true,
   "toc_window_display": true
  },
  "varInspector": {
   "cols": {
    "lenName": 16,
    "lenType": 16,
    "lenVar": 40
   },
   "kernels_config": {
    "python": {
     "delete_cmd_postfix": "",
     "delete_cmd_prefix": "del ",
     "library": "var_list.py",
     "varRefreshCmd": "print(var_dic_list())"
    },
    "r": {
     "delete_cmd_postfix": ") ",
     "delete_cmd_prefix": "rm(",
     "library": "var_list.r",
     "varRefreshCmd": "cat(var_dic_list()) "
    }
   },
   "types_to_exclude": [
    "module",
    "function",
    "builtin_function_or_method",
    "instance",
    "_Feature"
   ],
   "window_display": false
  }
 },
 "nbformat": 4,
 "nbformat_minor": 2
}
