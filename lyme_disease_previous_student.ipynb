{
 "cells": [
  {
   "cell_type": "markdown",
   "metadata": {
    "toc": true
   },
   "source": [
    "<h1>Table of Contents<span class=\"tocSkip\"></span></h1>\n",
    "<div class=\"toc\"><ul class=\"toc-item\"><li><span><a href=\"#Some-abstracts-have-(C)-All-rights-reserved-with-the-publisher-name-etc,-might-mess-up-with-the-N-grams\" data-toc-modified-id=\"Some-abstracts-have-(C)-All-rights-reserved-with-the-publisher-name-etc,-might-mess-up-with-the-N-grams-1\"><span class=\"toc-item-num\">1&nbsp;&nbsp;</span>Some abstracts have (C) All rights reserved with the publisher name etc, might mess up with the N-grams</a></span></li><li><span><a href=\"#Edit-depending-on-whether-we-want-full-abstracts\" data-toc-modified-id=\"Edit-depending-on-whether-we-want-full-abstracts-2\"><span class=\"toc-item-num\">2&nbsp;&nbsp;</span>Edit depending on whether we want full abstracts</a></span></li><li><span><a href=\"#Edit-to-filter-by-title-or-abstract-sentiments\" data-toc-modified-id=\"Edit-to-filter-by-title-or-abstract-sentiments-3\"><span class=\"toc-item-num\">3&nbsp;&nbsp;</span>Edit to filter by title or abstract sentiments</a></span></li><li><span><a href=\"#Removing-stopwords-and-normalizing-text-(lemma)\" data-toc-modified-id=\"Removing-stopwords-and-normalizing-text-(lemma)-4\"><span class=\"toc-item-num\">4&nbsp;&nbsp;</span>Removing stopwords and normalizing text (lemma)</a></span></li><li><span><a href=\"#N-grams,-change-size-to-number-of-words\" data-toc-modified-id=\"N-grams,-change-size-to-number-of-words-5\"><span class=\"toc-item-num\">5&nbsp;&nbsp;</span>N-grams, change size to number of words</a></span></li></ul></div>"
   ]
  },
  {
   "cell_type": "code",
   "execution_count": 1,
   "metadata": {},
   "outputs": [],
   "source": [
    "import re\n",
    "import string\n",
    "import numpy as np \n",
    "import random\n",
    "import pandas as pd \n",
    "import matplotlib.pyplot as plt\n",
    "import seaborn as sns\n",
    "%matplotlib inline\n",
    "from collections import Counter\n",
    "from PIL import Image\n",
    "from wordcloud import WordCloud, STOPWORDS, ImageColorGenerator\n",
    "import nltk\n",
    "from nltk.corpus import stopwords\n",
    "from tqdm import tqdm\n",
    "import os\n",
    "import sys\n",
    "import nltk\n",
    "import random\n",
    "import xml.etree.ElementTree as et\n",
    "pd.options.mode.chained_assignment = None"
   ]
  },
  {
   "cell_type": "code",
   "execution_count": 2,
   "metadata": {},
   "outputs": [
    {
     "data": {
      "text/html": [
       "<div>\n",
       "<style scoped>\n",
       "    .dataframe tbody tr th:only-of-type {\n",
       "        vertical-align: middle;\n",
       "    }\n",
       "\n",
       "    .dataframe tbody tr th {\n",
       "        vertical-align: top;\n",
       "    }\n",
       "\n",
       "    .dataframe thead th {\n",
       "        text-align: right;\n",
       "    }\n",
       "</style>\n",
       "<table border=\"1\" class=\"dataframe\">\n",
       "  <thead>\n",
       "    <tr style=\"text-align: right;\">\n",
       "      <th></th>\n",
       "      <th>year</th>\n",
       "      <th>title</th>\n",
       "      <th>abstract</th>\n",
       "    </tr>\n",
       "  </thead>\n",
       "  <tbody>\n",
       "    <tr>\n",
       "      <td>0</td>\n",
       "      <td>2000</td>\n",
       "      <td>Chronic Lyme disease: the debate goes on.</td>\n",
       "      <td>Mention of chronic Lyme disease raises tempera...</td>\n",
       "    </tr>\n",
       "    <tr>\n",
       "      <td>1</td>\n",
       "      <td>2000</td>\n",
       "      <td>Death from inappropriate therapy for Lyme disease</td>\n",
       "      <td>A 30-year-old woman died as a result of a larg...</td>\n",
       "    </tr>\n",
       "    <tr>\n",
       "      <td>2</td>\n",
       "      <td>2000</td>\n",
       "      <td>Differences are voiced by two lyme camps at a ...</td>\n",
       "      <td>Skip to main content. Advertising Disclaimer »...</td>\n",
       "    </tr>\n",
       "    <tr>\n",
       "      <td>3</td>\n",
       "      <td>2000</td>\n",
       "      <td>Practice guidelines for the treatment of Lyme ...</td>\n",
       "      <td>Tick bites and prophylaxis. The best currently...</td>\n",
       "    </tr>\n",
       "    <tr>\n",
       "      <td>4</td>\n",
       "      <td>2000</td>\n",
       "      <td>Panic Attacks May Reveal Previously Unsuspecte...</td>\n",
       "      <td>The author describes the histories of three pa...</td>\n",
       "    </tr>\n",
       "    <tr>\n",
       "      <td>...</td>\n",
       "      <td>...</td>\n",
       "      <td>...</td>\n",
       "      <td>...</td>\n",
       "    </tr>\n",
       "    <tr>\n",
       "      <td>3527</td>\n",
       "      <td>2021</td>\n",
       "      <td>Water Nanoclusters in Cosmology, Astrobiology,...</td>\n",
       "      <td>Page 1. Chapter X WATER NANOCLUSTERS IN COSMOL...</td>\n",
       "    </tr>\n",
       "    <tr>\n",
       "      <td>3528</td>\n",
       "      <td>2021</td>\n",
       "      <td>What Teachers Need to Know About Poverty</td>\n",
       "      <td>This article discusses the new nonfiction book...</td>\n",
       "    </tr>\n",
       "    <tr>\n",
       "      <td>3529</td>\n",
       "      <td>2021</td>\n",
       "      <td>Breaking the cycle of medication overuse headache</td>\n",
       "      <td>Care of this disorder can be complex-from ruli...</td>\n",
       "    </tr>\n",
       "    <tr>\n",
       "      <td>3530</td>\n",
       "      <td>2021</td>\n",
       "      <td>Climate Change and Mental Health</td>\n",
       "      <td>Purpose of Review: This essay reviews evidence...</td>\n",
       "    </tr>\n",
       "    <tr>\n",
       "      <td>3531</td>\n",
       "      <td>2021</td>\n",
       "      <td>Respuesta a: Panuveítis no granulomatosa en un...</td>\n",
       "      <td>… MMWR Morb Mortal Wkly Rep. 2019;68(32):703. ...</td>\n",
       "    </tr>\n",
       "  </tbody>\n",
       "</table>\n",
       "<p>3532 rows × 3 columns</p>\n",
       "</div>"
      ],
      "text/plain": [
       "      year                                              title  \\\n",
       "0     2000          Chronic Lyme disease: the debate goes on.   \n",
       "1     2000  Death from inappropriate therapy for Lyme disease   \n",
       "2     2000  Differences are voiced by two lyme camps at a ...   \n",
       "3     2000  Practice guidelines for the treatment of Lyme ...   \n",
       "4     2000  Panic Attacks May Reveal Previously Unsuspecte...   \n",
       "...    ...                                                ...   \n",
       "3527  2021  Water Nanoclusters in Cosmology, Astrobiology,...   \n",
       "3528  2021           What Teachers Need to Know About Poverty   \n",
       "3529  2021  Breaking the cycle of medication overuse headache   \n",
       "3530  2021                   Climate Change and Mental Health   \n",
       "3531  2021  Respuesta a: Panuveítis no granulomatosa en un...   \n",
       "\n",
       "                                               abstract  \n",
       "0     Mention of chronic Lyme disease raises tempera...  \n",
       "1     A 30-year-old woman died as a result of a larg...  \n",
       "2     Skip to main content. Advertising Disclaimer »...  \n",
       "3     Tick bites and prophylaxis. The best currently...  \n",
       "4     The author describes the histories of three pa...  \n",
       "...                                                 ...  \n",
       "3527  Page 1. Chapter X WATER NANOCLUSTERS IN COSMOL...  \n",
       "3528  This article discusses the new nonfiction book...  \n",
       "3529  Care of this disorder can be complex-from ruli...  \n",
       "3530  Purpose of Review: This essay reviews evidence...  \n",
       "3531  … MMWR Morb Mortal Wkly Rep. 2019;68(32):703. ...  \n",
       "\n",
       "[3532 rows x 3 columns]"
      ]
     },
     "execution_count": 2,
     "metadata": {},
     "output_type": "execute_result"
    }
   ],
   "source": [
    "xml = 'PoP/My collection2.xml'\n",
    "def get_df(xml):\n",
    "    parsed_xml = et.parse(xml)\n",
    "    df_dict = {'year':[], 'title':[], 'abstract':[]}\n",
    "    xroot = parsed_xml.getroot()\n",
    "    yroot = xroot.find('records')\n",
    "    for node in xroot.iter('dates'):\n",
    "        year = node.find('year')\n",
    "        if year is not None:\n",
    "            df_dict['year'].append(year.text)\n",
    "        else:\n",
    "            df_dict['year'].append(np.nan)\n",
    "    for node in xroot.iter('titles'):\n",
    "        title = node.find('title')\n",
    "        if title is not None:\n",
    "            df_dict['title'].append(title.text)\n",
    "        else:\n",
    "            df_dict['title'].append(np.nan)\n",
    "    for node in yroot.findall('record'):\n",
    "        abstract = node.find('abstract')\n",
    "        if abstract is not None:\n",
    "            df_dict['abstract'].append(abstract.text)\n",
    "        else:\n",
    "            df_dict['abstract'].append(np.nan)\n",
    "    test = pd.DataFrame.from_dict(df_dict)\n",
    "    return test\n",
    "get_df(xml)"
   ]
  },
  {
   "cell_type": "code",
   "execution_count": 3,
   "metadata": {},
   "outputs": [
    {
     "data": {
      "text/plain": [
       "year          0\n",
       "title         0\n",
       "abstract    165\n",
       "dtype: int64"
      ]
     },
     "execution_count": 3,
     "metadata": {},
     "output_type": "execute_result"
    }
   ],
   "source": [
    "gsdf = get_df(xml)\n",
    "gsdf.isna().sum()"
   ]
  },
  {
   "cell_type": "code",
   "execution_count": 4,
   "metadata": {},
   "outputs": [
    {
     "data": {
      "text/plain": [
       "year        0\n",
       "title       0\n",
       "abstract    0\n",
       "dtype: int64"
      ]
     },
     "execution_count": 4,
     "metadata": {},
     "output_type": "execute_result"
    }
   ],
   "source": [
    "gsdf.dropna(inplace=True)\n",
    "gsdf.reset_index(drop=True, inplace=True)\n",
    "gsdf.isna().sum()"
   ]
  },
  {
   "cell_type": "code",
   "execution_count": 5,
   "metadata": {},
   "outputs": [
    {
     "data": {
      "text/plain": [
       "1613"
      ]
     },
     "execution_count": 5,
     "metadata": {},
     "output_type": "execute_result"
    }
   ],
   "source": [
    "truncated = str('…')\n",
    "truncatedabstract = 0\n",
    "for x in range(len(gsdf['abstract'])):\n",
    "    if gsdf['abstract'][x].split()[-1] in truncated:\n",
    "        truncatedabstract +=1\n",
    "\n",
    "truncatedabstract"
   ]
  },
  {
   "cell_type": "code",
   "execution_count": 6,
   "metadata": {},
   "outputs": [],
   "source": [
    "truncated = str('…')\n",
    "gsdf['truncated'] = np.nan\n",
    "for x in range(len(gsdf['abstract'])):\n",
    "    if gsdf['abstract'][x].split()[-1] in truncated:\n",
    "        gsdf['truncated'][x] = 1\n",
    "    else:\n",
    "        gsdf['truncated'][x] = 0"
   ]
  },
  {
   "cell_type": "markdown",
   "metadata": {},
   "source": [
    "## Some abstracts have (C) All rights reserved with the publisher name etc, might mess up with the N-grams"
   ]
  },
  {
   "cell_type": "code",
   "execution_count": 7,
   "metadata": {},
   "outputs": [
    {
     "data": {
      "text/plain": [
       "536"
      ]
     },
     "execution_count": 7,
     "metadata": {},
     "output_type": "execute_result"
    }
   ],
   "source": [
    "copyrightlist = ['©', '(C)']\n",
    "copyright = 0\n",
    "for x in range(len(gsdf['abstract'])):\n",
    "    for word in gsdf['abstract'][x].split()[:]:\n",
    "        if word in copyrightlist:\n",
    "            copyright +=1\n",
    "\n",
    "copyright"
   ]
  },
  {
   "cell_type": "code",
   "execution_count": 8,
   "metadata": {},
   "outputs": [
    {
     "data": {
      "text/plain": [
       "18"
      ]
     },
     "execution_count": 8,
     "metadata": {},
     "output_type": "execute_result"
    }
   ],
   "source": [
    "gsdf['abstract'].str.contains('all rights reserved').sum()"
   ]
  },
  {
   "cell_type": "code",
   "execution_count": 9,
   "metadata": {},
   "outputs": [
    {
     "data": {
      "text/plain": [
       "538"
      ]
     },
     "execution_count": 9,
     "metadata": {},
     "output_type": "execute_result"
    }
   ],
   "source": [
    "gsdf['abstract'].str.contains('©').sum()"
   ]
  },
  {
   "cell_type": "code",
   "execution_count": 10,
   "metadata": {},
   "outputs": [
    {
     "data": {
      "text/plain": [
       "131"
      ]
     },
     "execution_count": 10,
     "metadata": {},
     "output_type": "execute_result"
    }
   ],
   "source": [
    "gsdf['abstract'].str.contains('rights reserved').sum()"
   ]
  },
  {
   "cell_type": "markdown",
   "metadata": {},
   "source": [
    "## Edit depending on whether we want full abstracts"
   ]
  },
  {
   "cell_type": "code",
   "execution_count": 11,
   "metadata": {},
   "outputs": [
    {
     "name": "stdout",
     "output_type": "stream",
     "text": [
      "<class 'pandas.core.frame.DataFrame'>\n",
      "RangeIndex: 1754 entries, 0 to 1753\n",
      "Data columns (total 4 columns):\n",
      "year         1754 non-null object\n",
      "title        1754 non-null object\n",
      "abstract     1754 non-null object\n",
      "truncated    1754 non-null float64\n",
      "dtypes: float64(1), object(3)\n",
      "memory usage: 54.9+ KB\n"
     ]
    }
   ],
   "source": [
    "#edit if want to include partial abstracts\n",
    "gsdf = gsdf.loc[gsdf['truncated']==0]\n",
    "gsdf.reset_index(drop=True, inplace=True)\n",
    "gsdf.head(3)\n",
    "gsdf.info()"
   ]
  },
  {
   "cell_type": "code",
   "execution_count": 12,
   "metadata": {},
   "outputs": [],
   "source": [
    "from textblob.sentiments import NaiveBayesAnalyzer, PatternAnalyzer\n",
    "from textblob import Blobber\n",
    "from textblob import TextBlob, Word\n",
    "tba = Blobber(analyzer=NaiveBayesAnalyzer())"
   ]
  },
  {
   "cell_type": "code",
   "execution_count": 13,
   "metadata": {},
   "outputs": [
    {
     "data": {
      "text/html": [
       "<div>\n",
       "<style scoped>\n",
       "    .dataframe tbody tr th:only-of-type {\n",
       "        vertical-align: middle;\n",
       "    }\n",
       "\n",
       "    .dataframe tbody tr th {\n",
       "        vertical-align: top;\n",
       "    }\n",
       "\n",
       "    .dataframe thead th {\n",
       "        text-align: right;\n",
       "    }\n",
       "</style>\n",
       "<table border=\"1\" class=\"dataframe\">\n",
       "  <thead>\n",
       "    <tr style=\"text-align: right;\">\n",
       "      <th></th>\n",
       "      <th>year</th>\n",
       "      <th>title</th>\n",
       "      <th>abstract</th>\n",
       "      <th>truncated</th>\n",
       "      <th>title_sentiment</th>\n",
       "      <th>abstract_sentiment</th>\n",
       "    </tr>\n",
       "  </thead>\n",
       "  <tbody>\n",
       "    <tr>\n",
       "      <td>0</td>\n",
       "      <td>2000</td>\n",
       "      <td>Death from inappropriate therapy for Lyme disease</td>\n",
       "      <td>A 30-year-old woman died as a result of a larg...</td>\n",
       "      <td>0.0</td>\n",
       "      <td>pos</td>\n",
       "      <td>neg</td>\n",
       "    </tr>\n",
       "    <tr>\n",
       "      <td>1</td>\n",
       "      <td>2000</td>\n",
       "      <td>Practice guidelines for the treatment of Lyme ...</td>\n",
       "      <td>Tick bites and prophylaxis. The best currently...</td>\n",
       "      <td>0.0</td>\n",
       "      <td>neg</td>\n",
       "      <td>pos</td>\n",
       "    </tr>\n",
       "    <tr>\n",
       "      <td>2</td>\n",
       "      <td>2000</td>\n",
       "      <td>Panic Attacks May Reveal Previously Unsuspecte...</td>\n",
       "      <td>The author describes the histories of three pa...</td>\n",
       "      <td>0.0</td>\n",
       "      <td>pos</td>\n",
       "      <td>pos</td>\n",
       "    </tr>\n",
       "  </tbody>\n",
       "</table>\n",
       "</div>"
      ],
      "text/plain": [
       "   year                                              title  \\\n",
       "0  2000  Death from inappropriate therapy for Lyme disease   \n",
       "1  2000  Practice guidelines for the treatment of Lyme ...   \n",
       "2  2000  Panic Attacks May Reveal Previously Unsuspecte...   \n",
       "\n",
       "                                            abstract  truncated  \\\n",
       "0  A 30-year-old woman died as a result of a larg...        0.0   \n",
       "1  Tick bites and prophylaxis. The best currently...        0.0   \n",
       "2  The author describes the histories of three pa...        0.0   \n",
       "\n",
       "  title_sentiment abstract_sentiment  \n",
       "0             pos                neg  \n",
       "1             neg                pos  \n",
       "2             pos                pos  "
      ]
     },
     "execution_count": 13,
     "metadata": {},
     "output_type": "execute_result"
    }
   ],
   "source": [
    "gsdf['title_sentiment'] = gsdf['title'].apply(lambda text: tba(text).sentiment[0])\n",
    "gsdf['abstract_sentiment'] = gsdf['abstract'].apply(lambda text: tba(text).sentiment[0])\n",
    "gsdf.head(3)"
   ]
  },
  {
   "cell_type": "code",
   "execution_count": 14,
   "metadata": {},
   "outputs": [
    {
     "name": "stdout",
     "output_type": "stream",
     "text": [
      "Title Positive 1131\n",
      "Title Negative 623\n",
      "Abstract Positive 1688\n",
      "Abstract Negative 66\n"
     ]
    }
   ],
   "source": [
    "tpos = 0\n",
    "tneg = 0\n",
    "apos = 0\n",
    "aneg = 0\n",
    "for x in range(len(gsdf)):\n",
    "    if gsdf['title_sentiment'][x] == 'pos':\n",
    "        tpos += 1\n",
    "    else:\n",
    "        tneg +=1\n",
    "    if gsdf['abstract_sentiment'][x] == 'pos':\n",
    "        apos += 1\n",
    "    else:\n",
    "        aneg += 1\n",
    "        \n",
    "print('Title Positive', tpos)\n",
    "print('Title Negative', tneg)\n",
    "print('Abstract Positive', apos)\n",
    "print('Abstract Negative', aneg)"
   ]
  },
  {
   "cell_type": "markdown",
   "metadata": {},
   "source": [
    "## Edit to filter by title or abstract sentiments"
   ]
  },
  {
   "cell_type": "code",
   "execution_count": 15,
   "metadata": {},
   "outputs": [],
   "source": [
    "# gsdf.loc[gsdf['title_sentiment']=='pos']\n",
    "# gsdf.loc[gsdf['title_sentiment']=='neg']\n",
    "# gsdf.loc[gsdf['abstract_sentiment']=='pos']\n",
    "# gsdf.loc[gsdf['abstract_sentiment']=='neg']\n",
    "\n",
    "# gsdf =\n",
    "# gsdf.reset_index(drop=True, inplace=True)"
   ]
  },
  {
   "cell_type": "code",
   "execution_count": 16,
   "metadata": {},
   "outputs": [],
   "source": [
    "def clean_text(text):\n",
    "    text = str(text).lower() #make lower\n",
    "    text = re.sub('https?://\\S+|www\\.\\S+', '', text) #remove links\n",
    "    text = re.sub(\"[^-9A-Za-z ]\", '' , text) #remove double quotation and any punctuation\n",
    "    text = re.sub('\\w*\\d\\w*', '', text) #remove numbers\n",
    "    text = re.sub('-', ' ', text) #replace hyphen with space\n",
    "    text = re.sub(' +', ' ', text) #remove extra whitespace\n",
    "    return text"
   ]
  },
  {
   "cell_type": "code",
   "execution_count": 17,
   "metadata": {},
   "outputs": [],
   "source": [
    "exampletext = 'Hi my name is Marcus I am 26 years-old. Www.Massey.com. \"Test double quotation\"'"
   ]
  },
  {
   "cell_type": "code",
   "execution_count": 18,
   "metadata": {},
   "outputs": [
    {
     "data": {
      "text/plain": [
       "'hi my name is marcus i am years old test double quotation'"
      ]
     },
     "execution_count": 18,
     "metadata": {},
     "output_type": "execute_result"
    }
   ],
   "source": [
    "clean_text(exampletext)"
   ]
  },
  {
   "cell_type": "code",
   "execution_count": 19,
   "metadata": {},
   "outputs": [
    {
     "data": {
      "text/html": [
       "<div>\n",
       "<style scoped>\n",
       "    .dataframe tbody tr th:only-of-type {\n",
       "        vertical-align: middle;\n",
       "    }\n",
       "\n",
       "    .dataframe tbody tr th {\n",
       "        vertical-align: top;\n",
       "    }\n",
       "\n",
       "    .dataframe thead th {\n",
       "        text-align: right;\n",
       "    }\n",
       "</style>\n",
       "<table border=\"1\" class=\"dataframe\">\n",
       "  <thead>\n",
       "    <tr style=\"text-align: right;\">\n",
       "      <th></th>\n",
       "      <th>year</th>\n",
       "      <th>title</th>\n",
       "      <th>abstract</th>\n",
       "      <th>truncated</th>\n",
       "      <th>title_sentiment</th>\n",
       "      <th>abstract_sentiment</th>\n",
       "      <th>cleaned_title</th>\n",
       "      <th>cleaned_abstract</th>\n",
       "    </tr>\n",
       "  </thead>\n",
       "  <tbody>\n",
       "    <tr>\n",
       "      <td>0</td>\n",
       "      <td>2000</td>\n",
       "      <td>Death from inappropriate therapy for Lyme disease</td>\n",
       "      <td>A 30-year-old woman died as a result of a larg...</td>\n",
       "      <td>0.0</td>\n",
       "      <td>pos</td>\n",
       "      <td>neg</td>\n",
       "      <td>death from inappropriate therapy for lyme disease</td>\n",
       "      <td>a year old woman died as a result of a large c...</td>\n",
       "    </tr>\n",
       "    <tr>\n",
       "      <td>1</td>\n",
       "      <td>2000</td>\n",
       "      <td>Practice guidelines for the treatment of Lyme ...</td>\n",
       "      <td>Tick bites and prophylaxis. The best currently...</td>\n",
       "      <td>0.0</td>\n",
       "      <td>neg</td>\n",
       "      <td>pos</td>\n",
       "      <td>practice guidelines for the treatment of lyme ...</td>\n",
       "      <td>tick bites and prophylaxis the best currently ...</td>\n",
       "    </tr>\n",
       "    <tr>\n",
       "      <td>2</td>\n",
       "      <td>2000</td>\n",
       "      <td>Panic Attacks May Reveal Previously Unsuspecte...</td>\n",
       "      <td>The author describes the histories of three pa...</td>\n",
       "      <td>0.0</td>\n",
       "      <td>pos</td>\n",
       "      <td>pos</td>\n",
       "      <td>panic attacks may reveal previously unsuspecte...</td>\n",
       "      <td>the author describes the histories of three pa...</td>\n",
       "    </tr>\n",
       "  </tbody>\n",
       "</table>\n",
       "</div>"
      ],
      "text/plain": [
       "   year                                              title  \\\n",
       "0  2000  Death from inappropriate therapy for Lyme disease   \n",
       "1  2000  Practice guidelines for the treatment of Lyme ...   \n",
       "2  2000  Panic Attacks May Reveal Previously Unsuspecte...   \n",
       "\n",
       "                                            abstract  truncated  \\\n",
       "0  A 30-year-old woman died as a result of a larg...        0.0   \n",
       "1  Tick bites and prophylaxis. The best currently...        0.0   \n",
       "2  The author describes the histories of three pa...        0.0   \n",
       "\n",
       "  title_sentiment abstract_sentiment  \\\n",
       "0             pos                neg   \n",
       "1             neg                pos   \n",
       "2             pos                pos   \n",
       "\n",
       "                                       cleaned_title  \\\n",
       "0  death from inappropriate therapy for lyme disease   \n",
       "1  practice guidelines for the treatment of lyme ...   \n",
       "2  panic attacks may reveal previously unsuspecte...   \n",
       "\n",
       "                                    cleaned_abstract  \n",
       "0  a year old woman died as a result of a large c...  \n",
       "1  tick bites and prophylaxis the best currently ...  \n",
       "2  the author describes the histories of three pa...  "
      ]
     },
     "execution_count": 19,
     "metadata": {},
     "output_type": "execute_result"
    }
   ],
   "source": [
    "gsdf['cleaned_title'] = gsdf['title'].apply(lambda x:clean_text(x))\n",
    "gsdf['cleaned_abstract'] = gsdf['abstract'].apply(lambda x : clean_text(x))\n",
    "gsdf.head(3)"
   ]
  },
  {
   "cell_type": "code",
   "execution_count": 20,
   "metadata": {},
   "outputs": [
    {
     "data": {
      "text/html": [
       "<div>\n",
       "<style scoped>\n",
       "    .dataframe tbody tr th:only-of-type {\n",
       "        vertical-align: middle;\n",
       "    }\n",
       "\n",
       "    .dataframe tbody tr th {\n",
       "        vertical-align: top;\n",
       "    }\n",
       "\n",
       "    .dataframe thead th {\n",
       "        text-align: right;\n",
       "    }\n",
       "</style>\n",
       "<table border=\"1\" class=\"dataframe\">\n",
       "  <thead>\n",
       "    <tr style=\"text-align: right;\">\n",
       "      <th></th>\n",
       "      <th>year</th>\n",
       "      <th>title</th>\n",
       "      <th>abstract</th>\n",
       "      <th>truncated</th>\n",
       "      <th>title_sentiment</th>\n",
       "      <th>abstract_sentiment</th>\n",
       "      <th>cleaned_title</th>\n",
       "      <th>cleaned_abstract</th>\n",
       "      <th>tokenized_clean_title</th>\n",
       "      <th>tokenized_clean_abstract</th>\n",
       "    </tr>\n",
       "  </thead>\n",
       "  <tbody>\n",
       "    <tr>\n",
       "      <td>0</td>\n",
       "      <td>2000</td>\n",
       "      <td>Death from inappropriate therapy for Lyme disease</td>\n",
       "      <td>A 30-year-old woman died as a result of a larg...</td>\n",
       "      <td>0.0</td>\n",
       "      <td>pos</td>\n",
       "      <td>neg</td>\n",
       "      <td>death from inappropriate therapy for lyme disease</td>\n",
       "      <td>a year old woman died as a result of a large c...</td>\n",
       "      <td>[death, from, inappropriate, therapy, for, lym...</td>\n",
       "      <td>[a, year, old, woman, died, as, a, result, of,...</td>\n",
       "    </tr>\n",
       "    <tr>\n",
       "      <td>1</td>\n",
       "      <td>2000</td>\n",
       "      <td>Practice guidelines for the treatment of Lyme ...</td>\n",
       "      <td>Tick bites and prophylaxis. The best currently...</td>\n",
       "      <td>0.0</td>\n",
       "      <td>neg</td>\n",
       "      <td>pos</td>\n",
       "      <td>practice guidelines for the treatment of lyme ...</td>\n",
       "      <td>tick bites and prophylaxis the best currently ...</td>\n",
       "      <td>[practice, guidelines, for, the, treatment, of...</td>\n",
       "      <td>[tick, bites, and, prophylaxis, the, best, cur...</td>\n",
       "    </tr>\n",
       "    <tr>\n",
       "      <td>2</td>\n",
       "      <td>2000</td>\n",
       "      <td>Panic Attacks May Reveal Previously Unsuspecte...</td>\n",
       "      <td>The author describes the histories of three pa...</td>\n",
       "      <td>0.0</td>\n",
       "      <td>pos</td>\n",
       "      <td>pos</td>\n",
       "      <td>panic attacks may reveal previously unsuspecte...</td>\n",
       "      <td>the author describes the histories of three pa...</td>\n",
       "      <td>[panic, attacks, may, reveal, previously, unsu...</td>\n",
       "      <td>[the, author, describes, the, histories, of, t...</td>\n",
       "    </tr>\n",
       "  </tbody>\n",
       "</table>\n",
       "</div>"
      ],
      "text/plain": [
       "   year                                              title  \\\n",
       "0  2000  Death from inappropriate therapy for Lyme disease   \n",
       "1  2000  Practice guidelines for the treatment of Lyme ...   \n",
       "2  2000  Panic Attacks May Reveal Previously Unsuspecte...   \n",
       "\n",
       "                                            abstract  truncated  \\\n",
       "0  A 30-year-old woman died as a result of a larg...        0.0   \n",
       "1  Tick bites and prophylaxis. The best currently...        0.0   \n",
       "2  The author describes the histories of three pa...        0.0   \n",
       "\n",
       "  title_sentiment abstract_sentiment  \\\n",
       "0             pos                neg   \n",
       "1             neg                pos   \n",
       "2             pos                pos   \n",
       "\n",
       "                                       cleaned_title  \\\n",
       "0  death from inappropriate therapy for lyme disease   \n",
       "1  practice guidelines for the treatment of lyme ...   \n",
       "2  panic attacks may reveal previously unsuspecte...   \n",
       "\n",
       "                                    cleaned_abstract  \\\n",
       "0  a year old woman died as a result of a large c...   \n",
       "1  tick bites and prophylaxis the best currently ...   \n",
       "2  the author describes the histories of three pa...   \n",
       "\n",
       "                               tokenized_clean_title  \\\n",
       "0  [death, from, inappropriate, therapy, for, lym...   \n",
       "1  [practice, guidelines, for, the, treatment, of...   \n",
       "2  [panic, attacks, may, reveal, previously, unsu...   \n",
       "\n",
       "                            tokenized_clean_abstract  \n",
       "0  [a, year, old, woman, died, as, a, result, of,...  \n",
       "1  [tick, bites, and, prophylaxis, the, best, cur...  \n",
       "2  [the, author, describes, the, histories, of, t...  "
      ]
     },
     "execution_count": 20,
     "metadata": {},
     "output_type": "execute_result"
    }
   ],
   "source": [
    "gsdf['tokenized_clean_title'] = gsdf.apply(lambda row: nltk.word_tokenize(row['cleaned_title']), axis=1)\n",
    "gsdf['tokenized_clean_abstract'] = gsdf.apply(lambda row: nltk.word_tokenize(row['cleaned_abstract']), axis=1)\n",
    "gsdf.head(3)"
   ]
  },
  {
   "cell_type": "markdown",
   "metadata": {},
   "source": [
    "## Removing stopwords and normalizing text (lemma)"
   ]
  },
  {
   "cell_type": "code",
   "execution_count": 21,
   "metadata": {},
   "outputs": [
    {
     "data": {
      "text/html": [
       "<div>\n",
       "<style scoped>\n",
       "    .dataframe tbody tr th:only-of-type {\n",
       "        vertical-align: middle;\n",
       "    }\n",
       "\n",
       "    .dataframe tbody tr th {\n",
       "        vertical-align: top;\n",
       "    }\n",
       "\n",
       "    .dataframe thead th {\n",
       "        text-align: right;\n",
       "    }\n",
       "</style>\n",
       "<table border=\"1\" class=\"dataframe\">\n",
       "  <thead>\n",
       "    <tr style=\"text-align: right;\">\n",
       "      <th></th>\n",
       "      <th>temp_list_title</th>\n",
       "      <th>temp_list_abstract</th>\n",
       "    </tr>\n",
       "  </thead>\n",
       "  <tbody>\n",
       "    <tr>\n",
       "      <td>0</td>\n",
       "      <td>[death, inappropriate, therapy, lyme, disease]</td>\n",
       "      <td>[year, old, woman, died, result, large, candid...</td>\n",
       "    </tr>\n",
       "    <tr>\n",
       "      <td>1</td>\n",
       "      <td>[practice, guidelines, treatment, lyme, disease]</td>\n",
       "      <td>[tick, bites, prophylaxis, best, currently, av...</td>\n",
       "    </tr>\n",
       "    <tr>\n",
       "      <td>2</td>\n",
       "      <td>[panic, attacks, may, reveal, previously, unsu...</td>\n",
       "      <td>[author, describes, histories, three, patients...</td>\n",
       "    </tr>\n",
       "  </tbody>\n",
       "</table>\n",
       "</div>"
      ],
      "text/plain": [
       "                                     temp_list_title  \\\n",
       "0     [death, inappropriate, therapy, lyme, disease]   \n",
       "1   [practice, guidelines, treatment, lyme, disease]   \n",
       "2  [panic, attacks, may, reveal, previously, unsu...   \n",
       "\n",
       "                                  temp_list_abstract  \n",
       "0  [year, old, woman, died, result, large, candid...  \n",
       "1  [tick, bites, prophylaxis, best, currently, av...  \n",
       "2  [author, describes, histories, three, patients...  "
      ]
     },
     "execution_count": 21,
     "metadata": {},
     "output_type": "execute_result"
    }
   ],
   "source": [
    "def remove_stopword(x):\n",
    "    return [y for y in x if y not in stopwords.words('english')]\n",
    "\n",
    "df = pd.DataFrame()\n",
    "df['temp_list_title'] = gsdf['tokenized_clean_title'].apply(lambda x:remove_stopword(x))\n",
    "df['temp_list_abstract'] = gsdf['tokenized_clean_abstract'].apply(lambda x:remove_stopword(x))\n",
    "df[['temp_list_title', 'temp_list_abstract']].head(3)"
   ]
  },
  {
   "cell_type": "code",
   "execution_count": 22,
   "metadata": {},
   "outputs": [],
   "source": [
    "lemmatizer = nltk.WordNetLemmatizer()\n",
    "\n",
    "def lemma(x):\n",
    "    return [lemmatizer.lemmatize(y) for y in x]"
   ]
  },
  {
   "cell_type": "code",
   "execution_count": 23,
   "metadata": {},
   "outputs": [],
   "source": [
    "testlemma = ['dog', 'dogs', 'wolves', 'wolf']"
   ]
  },
  {
   "cell_type": "code",
   "execution_count": 24,
   "metadata": {},
   "outputs": [
    {
     "data": {
      "text/plain": [
       "['dog', 'dog', 'wolf', 'wolf']"
      ]
     },
     "execution_count": 24,
     "metadata": {},
     "output_type": "execute_result"
    }
   ],
   "source": [
    "lemma(testlemma)"
   ]
  },
  {
   "cell_type": "code",
   "execution_count": 25,
   "metadata": {},
   "outputs": [
    {
     "data": {
      "text/html": [
       "<div>\n",
       "<style scoped>\n",
       "    .dataframe tbody tr th:only-of-type {\n",
       "        vertical-align: middle;\n",
       "    }\n",
       "\n",
       "    .dataframe tbody tr th {\n",
       "        vertical-align: top;\n",
       "    }\n",
       "\n",
       "    .dataframe thead th {\n",
       "        text-align: right;\n",
       "    }\n",
       "</style>\n",
       "<table border=\"1\" class=\"dataframe\">\n",
       "  <thead>\n",
       "    <tr style=\"text-align: right;\">\n",
       "      <th></th>\n",
       "      <th>temp_list_title</th>\n",
       "      <th>temp_list_abstract</th>\n",
       "    </tr>\n",
       "  </thead>\n",
       "  <tbody>\n",
       "    <tr>\n",
       "      <td>0</td>\n",
       "      <td>[death, inappropriate, therapy, lyme, disease]</td>\n",
       "      <td>[year, old, woman, died, result, large, candid...</td>\n",
       "    </tr>\n",
       "    <tr>\n",
       "      <td>1</td>\n",
       "      <td>[practice, guideline, treatment, lyme, disease]</td>\n",
       "      <td>[tick, bite, prophylaxis, best, currently, ava...</td>\n",
       "    </tr>\n",
       "    <tr>\n",
       "      <td>2</td>\n",
       "      <td>[panic, attack, may, reveal, previously, unsus...</td>\n",
       "      <td>[author, describes, history, three, patient, p...</td>\n",
       "    </tr>\n",
       "  </tbody>\n",
       "</table>\n",
       "</div>"
      ],
      "text/plain": [
       "                                     temp_list_title  \\\n",
       "0     [death, inappropriate, therapy, lyme, disease]   \n",
       "1    [practice, guideline, treatment, lyme, disease]   \n",
       "2  [panic, attack, may, reveal, previously, unsus...   \n",
       "\n",
       "                                  temp_list_abstract  \n",
       "0  [year, old, woman, died, result, large, candid...  \n",
       "1  [tick, bite, prophylaxis, best, currently, ava...  \n",
       "2  [author, describes, history, three, patient, p...  "
      ]
     },
     "execution_count": 25,
     "metadata": {},
     "output_type": "execute_result"
    }
   ],
   "source": [
    "df['temp_list_title'] = df['temp_list_title'].apply(lambda x:lemma(x))\n",
    "df['temp_list_abstract'] = df['temp_list_abstract'].apply(lambda x:lemma(x))\n",
    "df[['temp_list_title', 'temp_list_abstract']].head(3)"
   ]
  },
  {
   "cell_type": "code",
   "execution_count": 26,
   "metadata": {
    "scrolled": false
   },
   "outputs": [
    {
     "data": {
      "text/html": [
       "<style  type=\"text/css\" >\n",
       "    #T_14d12e8c_d876_11eb_85e0_58961da900afrow0_col1 {\n",
       "            background-color:  #3f007d;\n",
       "            color:  #f1f1f1;\n",
       "        }    #T_14d12e8c_d876_11eb_85e0_58961da900afrow1_col1 {\n",
       "            background-color:  #51228d;\n",
       "            color:  #f1f1f1;\n",
       "        }    #T_14d12e8c_d876_11eb_85e0_58961da900afrow2_col1 {\n",
       "            background-color:  #cfd0e6;\n",
       "            color:  #000000;\n",
       "        }    #T_14d12e8c_d876_11eb_85e0_58961da900afrow3_col1 {\n",
       "            background-color:  #dfdfed;\n",
       "            color:  #000000;\n",
       "        }    #T_14d12e8c_d876_11eb_85e0_58961da900afrow4_col1 {\n",
       "            background-color:  #e6e5f1;\n",
       "            color:  #000000;\n",
       "        }    #T_14d12e8c_d876_11eb_85e0_58961da900afrow5_col1 {\n",
       "            background-color:  #e6e5f1;\n",
       "            color:  #000000;\n",
       "        }    #T_14d12e8c_d876_11eb_85e0_58961da900afrow6_col1 {\n",
       "            background-color:  #eae8f2;\n",
       "            color:  #000000;\n",
       "        }    #T_14d12e8c_d876_11eb_85e0_58961da900afrow7_col1 {\n",
       "            background-color:  #f1eff6;\n",
       "            color:  #000000;\n",
       "        }    #T_14d12e8c_d876_11eb_85e0_58961da900afrow8_col1 {\n",
       "            background-color:  #f3f1f7;\n",
       "            color:  #000000;\n",
       "        }    #T_14d12e8c_d876_11eb_85e0_58961da900afrow9_col1 {\n",
       "            background-color:  #f3f2f8;\n",
       "            color:  #000000;\n",
       "        }    #T_14d12e8c_d876_11eb_85e0_58961da900afrow10_col1 {\n",
       "            background-color:  #f3f2f8;\n",
       "            color:  #000000;\n",
       "        }    #T_14d12e8c_d876_11eb_85e0_58961da900afrow11_col1 {\n",
       "            background-color:  #f5f4f9;\n",
       "            color:  #000000;\n",
       "        }    #T_14d12e8c_d876_11eb_85e0_58961da900afrow12_col1 {\n",
       "            background-color:  #f5f4f9;\n",
       "            color:  #000000;\n",
       "        }    #T_14d12e8c_d876_11eb_85e0_58961da900afrow13_col1 {\n",
       "            background-color:  #f6f5f9;\n",
       "            color:  #000000;\n",
       "        }    #T_14d12e8c_d876_11eb_85e0_58961da900afrow14_col1 {\n",
       "            background-color:  #f7f5fa;\n",
       "            color:  #000000;\n",
       "        }    #T_14d12e8c_d876_11eb_85e0_58961da900afrow15_col1 {\n",
       "            background-color:  #f8f6fa;\n",
       "            color:  #000000;\n",
       "        }    #T_14d12e8c_d876_11eb_85e0_58961da900afrow16_col1 {\n",
       "            background-color:  #f8f7fa;\n",
       "            color:  #000000;\n",
       "        }    #T_14d12e8c_d876_11eb_85e0_58961da900afrow17_col1 {\n",
       "            background-color:  #f8f7fb;\n",
       "            color:  #000000;\n",
       "        }    #T_14d12e8c_d876_11eb_85e0_58961da900afrow18_col1 {\n",
       "            background-color:  #f9f8fb;\n",
       "            color:  #000000;\n",
       "        }    #T_14d12e8c_d876_11eb_85e0_58961da900afrow19_col1 {\n",
       "            background-color:  #faf8fb;\n",
       "            color:  #000000;\n",
       "        }    #T_14d12e8c_d876_11eb_85e0_58961da900afrow20_col1 {\n",
       "            background-color:  #faf9fc;\n",
       "            color:  #000000;\n",
       "        }    #T_14d12e8c_d876_11eb_85e0_58961da900afrow21_col1 {\n",
       "            background-color:  #faf9fc;\n",
       "            color:  #000000;\n",
       "        }    #T_14d12e8c_d876_11eb_85e0_58961da900afrow22_col1 {\n",
       "            background-color:  #faf9fc;\n",
       "            color:  #000000;\n",
       "        }    #T_14d12e8c_d876_11eb_85e0_58961da900afrow23_col1 {\n",
       "            background-color:  #fbfafc;\n",
       "            color:  #000000;\n",
       "        }    #T_14d12e8c_d876_11eb_85e0_58961da900afrow24_col1 {\n",
       "            background-color:  #fbfafc;\n",
       "            color:  #000000;\n",
       "        }    #T_14d12e8c_d876_11eb_85e0_58961da900afrow25_col1 {\n",
       "            background-color:  #fbfafc;\n",
       "            color:  #000000;\n",
       "        }    #T_14d12e8c_d876_11eb_85e0_58961da900afrow26_col1 {\n",
       "            background-color:  #fcfbfd;\n",
       "            color:  #000000;\n",
       "        }    #T_14d12e8c_d876_11eb_85e0_58961da900afrow27_col1 {\n",
       "            background-color:  #fcfbfd;\n",
       "            color:  #000000;\n",
       "        }    #T_14d12e8c_d876_11eb_85e0_58961da900afrow28_col1 {\n",
       "            background-color:  #fcfbfd;\n",
       "            color:  #000000;\n",
       "        }    #T_14d12e8c_d876_11eb_85e0_58961da900afrow29_col1 {\n",
       "            background-color:  #fcfbfd;\n",
       "            color:  #000000;\n",
       "        }</style><table id=\"T_14d12e8c_d876_11eb_85e0_58961da900af\" ><thead>    <tr>        <th class=\"blank level0\" ></th>        <th class=\"col_heading level0 col0\" >common_words</th>        <th class=\"col_heading level0 col1\" >count</th>    </tr></thead><tbody>\n",
       "                <tr>\n",
       "                        <th id=\"T_14d12e8c_d876_11eb_85e0_58961da900aflevel0_row0\" class=\"row_heading level0 row0\" >0</th>\n",
       "                        <td id=\"T_14d12e8c_d876_11eb_85e0_58961da900afrow0_col0\" class=\"data row0 col0\" >lyme</td>\n",
       "                        <td id=\"T_14d12e8c_d876_11eb_85e0_58961da900afrow0_col1\" class=\"data row0 col1\" >796</td>\n",
       "            </tr>\n",
       "            <tr>\n",
       "                        <th id=\"T_14d12e8c_d876_11eb_85e0_58961da900aflevel0_row1\" class=\"row_heading level0 row1\" >1</th>\n",
       "                        <td id=\"T_14d12e8c_d876_11eb_85e0_58961da900afrow1_col0\" class=\"data row1 col0\" >disease</td>\n",
       "                        <td id=\"T_14d12e8c_d876_11eb_85e0_58961da900afrow1_col1\" class=\"data row1 col1\" >712</td>\n",
       "            </tr>\n",
       "            <tr>\n",
       "                        <th id=\"T_14d12e8c_d876_11eb_85e0_58961da900aflevel0_row2\" class=\"row_heading level0 row2\" >2</th>\n",
       "                        <td id=\"T_14d12e8c_d876_11eb_85e0_58961da900afrow2_col0\" class=\"data row2 col0\" >borrelia</td>\n",
       "                        <td id=\"T_14d12e8c_d876_11eb_85e0_58961da900afrow2_col1\" class=\"data row2 col1\" >265</td>\n",
       "            </tr>\n",
       "            <tr>\n",
       "                        <th id=\"T_14d12e8c_d876_11eb_85e0_58961da900aflevel0_row3\" class=\"row_heading level0 row3\" >3</th>\n",
       "                        <td id=\"T_14d12e8c_d876_11eb_85e0_58961da900afrow3_col0\" class=\"data row3 col0\" >burgdorferi</td>\n",
       "                        <td id=\"T_14d12e8c_d876_11eb_85e0_58961da900afrow3_col1\" class=\"data row3 col1\" >208</td>\n",
       "            </tr>\n",
       "            <tr>\n",
       "                        <th id=\"T_14d12e8c_d876_11eb_85e0_58961da900aflevel0_row4\" class=\"row_heading level0 row4\" >4</th>\n",
       "                        <td id=\"T_14d12e8c_d876_11eb_85e0_58961da900afrow4_col0\" class=\"data row4 col0\" >patient</td>\n",
       "                        <td id=\"T_14d12e8c_d876_11eb_85e0_58961da900afrow4_col1\" class=\"data row4 col1\" >181</td>\n",
       "            </tr>\n",
       "            <tr>\n",
       "                        <th id=\"T_14d12e8c_d876_11eb_85e0_58961da900aflevel0_row5\" class=\"row_heading level0 row5\" >5</th>\n",
       "                        <td id=\"T_14d12e8c_d876_11eb_85e0_58961da900afrow5_col0\" class=\"data row5 col0\" >chronic</td>\n",
       "                        <td id=\"T_14d12e8c_d876_11eb_85e0_58961da900afrow5_col1\" class=\"data row5 col1\" >179</td>\n",
       "            </tr>\n",
       "            <tr>\n",
       "                        <th id=\"T_14d12e8c_d876_11eb_85e0_58961da900aflevel0_row6\" class=\"row_heading level0 row6\" >6</th>\n",
       "                        <td id=\"T_14d12e8c_d876_11eb_85e0_58961da900afrow6_col0\" class=\"data row6 col0\" >treatment</td>\n",
       "                        <td id=\"T_14d12e8c_d876_11eb_85e0_58961da900afrow6_col1\" class=\"data row6 col1\" >162</td>\n",
       "            </tr>\n",
       "            <tr>\n",
       "                        <th id=\"T_14d12e8c_d876_11eb_85e0_58961da900aflevel0_row7\" class=\"row_heading level0 row7\" >7</th>\n",
       "                        <td id=\"T_14d12e8c_d876_11eb_85e0_58961da900afrow7_col0\" class=\"data row7 col0\" >cell</td>\n",
       "                        <td id=\"T_14d12e8c_d876_11eb_85e0_58961da900afrow7_col1\" class=\"data row7 col1\" >123</td>\n",
       "            </tr>\n",
       "            <tr>\n",
       "                        <th id=\"T_14d12e8c_d876_11eb_85e0_58961da900aflevel0_row8\" class=\"row_heading level0 row8\" >8</th>\n",
       "                        <td id=\"T_14d12e8c_d876_11eb_85e0_58961da900afrow8_col0\" class=\"data row8 col0\" >infection</td>\n",
       "                        <td id=\"T_14d12e8c_d876_11eb_85e0_58961da900afrow8_col1\" class=\"data row8 col1\" >108</td>\n",
       "            </tr>\n",
       "            <tr>\n",
       "                        <th id=\"T_14d12e8c_d876_11eb_85e0_58961da900aflevel0_row9\" class=\"row_heading level0 row9\" >9</th>\n",
       "                        <td id=\"T_14d12e8c_d876_11eb_85e0_58961da900afrow9_col0\" class=\"data row9 col0\" >borreliosis</td>\n",
       "                        <td id=\"T_14d12e8c_d876_11eb_85e0_58961da900afrow9_col1\" class=\"data row9 col1\" >107</td>\n",
       "            </tr>\n",
       "            <tr>\n",
       "                        <th id=\"T_14d12e8c_d876_11eb_85e0_58961da900aflevel0_row10\" class=\"row_heading level0 row10\" >10</th>\n",
       "                        <td id=\"T_14d12e8c_d876_11eb_85e0_58961da900afrow10_col0\" class=\"data row10 col0\" >tick</td>\n",
       "                        <td id=\"T_14d12e8c_d876_11eb_85e0_58961da900afrow10_col1\" class=\"data row10 col1\" >105</td>\n",
       "            </tr>\n",
       "            <tr>\n",
       "                        <th id=\"T_14d12e8c_d876_11eb_85e0_58961da900aflevel0_row11\" class=\"row_heading level0 row11\" >11</th>\n",
       "                        <td id=\"T_14d12e8c_d876_11eb_85e0_58961da900afrow11_col0\" class=\"data row11 col0\" >syndrome</td>\n",
       "                        <td id=\"T_14d12e8c_d876_11eb_85e0_58961da900afrow11_col1\" class=\"data row11 col1\" >95</td>\n",
       "            </tr>\n",
       "            <tr>\n",
       "                        <th id=\"T_14d12e8c_d876_11eb_85e0_58961da900aflevel0_row12\" class=\"row_heading level0 row12\" >12</th>\n",
       "                        <td id=\"T_14d12e8c_d876_11eb_85e0_58961da900afrow12_col0\" class=\"data row12 col0\" >clinical</td>\n",
       "                        <td id=\"T_14d12e8c_d876_11eb_85e0_58961da900afrow12_col1\" class=\"data row12 col1\" >93</td>\n",
       "            </tr>\n",
       "            <tr>\n",
       "                        <th id=\"T_14d12e8c_d876_11eb_85e0_58961da900aflevel0_row13\" class=\"row_heading level0 row13\" >13</th>\n",
       "                        <td id=\"T_14d12e8c_d876_11eb_85e0_58961da900afrow13_col0\" class=\"data row13 col0\" >diagnosis</td>\n",
       "                        <td id=\"T_14d12e8c_d876_11eb_85e0_58961da900afrow13_col1\" class=\"data row13 col1\" >87</td>\n",
       "            </tr>\n",
       "            <tr>\n",
       "                        <th id=\"T_14d12e8c_d876_11eb_85e0_58961da900aflevel0_row14\" class=\"row_heading level0 row14\" >14</th>\n",
       "                        <td id=\"T_14d12e8c_d876_11eb_85e0_58961da900afrow14_col0\" class=\"data row14 col0\" >symptom</td>\n",
       "                        <td id=\"T_14d12e8c_d876_11eb_85e0_58961da900afrow14_col1\" class=\"data row14 col1\" >84</td>\n",
       "            </tr>\n",
       "            <tr>\n",
       "                        <th id=\"T_14d12e8c_d876_11eb_85e0_58961da900aflevel0_row15\" class=\"row_heading level0 row15\" >15</th>\n",
       "                        <td id=\"T_14d12e8c_d876_11eb_85e0_58961da900afrow15_col0\" class=\"data row15 col0\" >human</td>\n",
       "                        <td id=\"T_14d12e8c_d876_11eb_85e0_58961da900afrow15_col1\" class=\"data row15 col1\" >76</td>\n",
       "            </tr>\n",
       "            <tr>\n",
       "                        <th id=\"T_14d12e8c_d876_11eb_85e0_58961da900aflevel0_row16\" class=\"row_heading level0 row16\" >16</th>\n",
       "                        <td id=\"T_14d12e8c_d876_11eb_85e0_58961da900afrow16_col0\" class=\"data row16 col0\" >case</td>\n",
       "                        <td id=\"T_14d12e8c_d876_11eb_85e0_58961da900afrow16_col1\" class=\"data row16 col1\" >73</td>\n",
       "            </tr>\n",
       "            <tr>\n",
       "                        <th id=\"T_14d12e8c_d876_11eb_85e0_58961da900aflevel0_row17\" class=\"row_heading level0 row17\" >17</th>\n",
       "                        <td id=\"T_14d12e8c_d876_11eb_85e0_58961da900afrow17_col0\" class=\"data row17 col0\" >review</td>\n",
       "                        <td id=\"T_14d12e8c_d876_11eb_85e0_58961da900afrow17_col1\" class=\"data row17 col1\" >71</td>\n",
       "            </tr>\n",
       "            <tr>\n",
       "                        <th id=\"T_14d12e8c_d876_11eb_85e0_58961da900aflevel0_row18\" class=\"row_heading level0 row18\" >18</th>\n",
       "                        <td id=\"T_14d12e8c_d876_11eb_85e0_58961da900afrow18_col0\" class=\"data row18 col0\" >study</td>\n",
       "                        <td id=\"T_14d12e8c_d876_11eb_85e0_58961da900afrow18_col1\" class=\"data row18 col1\" >66</td>\n",
       "            </tr>\n",
       "            <tr>\n",
       "                        <th id=\"T_14d12e8c_d876_11eb_85e0_58961da900aflevel0_row19\" class=\"row_heading level0 row19\" >19</th>\n",
       "                        <td id=\"T_14d12e8c_d876_11eb_85e0_58961da900afrow19_col0\" class=\"data row19 col0\" >neuroborreliosis</td>\n",
       "                        <td id=\"T_14d12e8c_d876_11eb_85e0_58961da900afrow19_col1\" class=\"data row19 col1\" >62</td>\n",
       "            </tr>\n",
       "            <tr>\n",
       "                        <th id=\"T_14d12e8c_d876_11eb_85e0_58961da900aflevel0_row20\" class=\"row_heading level0 row20\" >20</th>\n",
       "                        <td id=\"T_14d12e8c_d876_11eb_85e0_58961da900afrow20_col0\" class=\"data row20 col0\" >antibiotic</td>\n",
       "                        <td id=\"T_14d12e8c_d876_11eb_85e0_58961da900afrow20_col1\" class=\"data row20 col1\" >58</td>\n",
       "            </tr>\n",
       "            <tr>\n",
       "                        <th id=\"T_14d12e8c_d876_11eb_85e0_58961da900aflevel0_row21\" class=\"row_heading level0 row21\" >21</th>\n",
       "                        <td id=\"T_14d12e8c_d876_11eb_85e0_58961da900afrow21_col0\" class=\"data row21 col0\" >response</td>\n",
       "                        <td id=\"T_14d12e8c_d876_11eb_85e0_58961da900afrow21_col1\" class=\"data row21 col1\" >56</td>\n",
       "            </tr>\n",
       "            <tr>\n",
       "                        <th id=\"T_14d12e8c_d876_11eb_85e0_58961da900aflevel0_row22\" class=\"row_heading level0 row22\" >22</th>\n",
       "                        <td id=\"T_14d12e8c_d876_11eb_85e0_58961da900afrow22_col0\" class=\"data row22 col0\" >health</td>\n",
       "                        <td id=\"T_14d12e8c_d876_11eb_85e0_58961da900afrow22_col1\" class=\"data row22 col1\" >56</td>\n",
       "            </tr>\n",
       "            <tr>\n",
       "                        <th id=\"T_14d12e8c_d876_11eb_85e0_58961da900aflevel0_row23\" class=\"row_heading level0 row23\" >23</th>\n",
       "                        <td id=\"T_14d12e8c_d876_11eb_85e0_58961da900afrow23_col0\" class=\"data row23 col0\" >protein</td>\n",
       "                        <td id=\"T_14d12e8c_d876_11eb_85e0_58961da900afrow23_col1\" class=\"data row23 col1\" >50</td>\n",
       "            </tr>\n",
       "            <tr>\n",
       "                        <th id=\"T_14d12e8c_d876_11eb_85e0_58961da900aflevel0_row24\" class=\"row_heading level0 row24\" >24</th>\n",
       "                        <td id=\"T_14d12e8c_d876_11eb_85e0_58961da900afrow24_col0\" class=\"data row24 col0\" >antibody</td>\n",
       "                        <td id=\"T_14d12e8c_d876_11eb_85e0_58961da900afrow24_col1\" class=\"data row24 col1\" >50</td>\n",
       "            </tr>\n",
       "            <tr>\n",
       "                        <th id=\"T_14d12e8c_d876_11eb_85e0_58961da900aflevel0_row25\" class=\"row_heading level0 row25\" >25</th>\n",
       "                        <td id=\"T_14d12e8c_d876_11eb_85e0_58961da900afrow25_col0\" class=\"data row25 col0\" >arthritis</td>\n",
       "                        <td id=\"T_14d12e8c_d876_11eb_85e0_58961da900afrow25_col1\" class=\"data row25 col1\" >49</td>\n",
       "            </tr>\n",
       "            <tr>\n",
       "                        <th id=\"T_14d12e8c_d876_11eb_85e0_58961da900aflevel0_row26\" class=\"row_heading level0 row26\" >26</th>\n",
       "                        <td id=\"T_14d12e8c_d876_11eb_85e0_58961da900afrow26_col0\" class=\"data row26 col0\" >associated</td>\n",
       "                        <td id=\"T_14d12e8c_d876_11eb_85e0_58961da900afrow26_col1\" class=\"data row26 col1\" >48</td>\n",
       "            </tr>\n",
       "            <tr>\n",
       "                        <th id=\"T_14d12e8c_d876_11eb_85e0_58961da900aflevel0_row27\" class=\"row_heading level0 row27\" >27</th>\n",
       "                        <td id=\"T_14d12e8c_d876_11eb_85e0_58961da900afrow27_col0\" class=\"data row27 col0\" >analysis</td>\n",
       "                        <td id=\"T_14d12e8c_d876_11eb_85e0_58961da900afrow27_col1\" class=\"data row27 col1\" >46</td>\n",
       "            </tr>\n",
       "            <tr>\n",
       "                        <th id=\"T_14d12e8c_d876_11eb_85e0_58961da900aflevel0_row28\" class=\"row_heading level0 row28\" >28</th>\n",
       "                        <td id=\"T_14d12e8c_d876_11eb_85e0_58961da900afrow28_col0\" class=\"data row28 col0\" >system</td>\n",
       "                        <td id=\"T_14d12e8c_d876_11eb_85e0_58961da900afrow28_col1\" class=\"data row28 col1\" >44</td>\n",
       "            </tr>\n",
       "            <tr>\n",
       "                        <th id=\"T_14d12e8c_d876_11eb_85e0_58961da900aflevel0_row29\" class=\"row_heading level0 row29\" >29</th>\n",
       "                        <td id=\"T_14d12e8c_d876_11eb_85e0_58961da900afrow29_col0\" class=\"data row29 col0\" >manifestation</td>\n",
       "                        <td id=\"T_14d12e8c_d876_11eb_85e0_58961da900afrow29_col1\" class=\"data row29 col1\" >43</td>\n",
       "            </tr>\n",
       "    </tbody></table>"
      ],
      "text/plain": [
       "<pandas.io.formats.style.Styler at 0x1c513059fc8>"
      ]
     },
     "execution_count": 26,
     "metadata": {},
     "output_type": "execute_result"
    }
   ],
   "source": [
    "top = Counter([item for sublist in df['temp_list_title'] for item in sublist])\n",
    "temp = pd.DataFrame(top.most_common(30))\n",
    "temp = temp.iloc[:,:]\n",
    "temp.columns = ['common_words','count']\n",
    "temp.style.background_gradient(cmap='Purples')"
   ]
  },
  {
   "cell_type": "code",
   "execution_count": 27,
   "metadata": {},
   "outputs": [
    {
     "data": {
      "text/html": [
       "<style  type=\"text/css\" >\n",
       "    #T_14dabc38_d876_11eb_8778_58961da900afrow0_col1 {\n",
       "            background-color:  #3f007d;\n",
       "            color:  #f1f1f1;\n",
       "        }    #T_14dabc38_d876_11eb_8778_58961da900afrow1_col1 {\n",
       "            background-color:  #61409b;\n",
       "            color:  #f1f1f1;\n",
       "        }    #T_14dabc38_d876_11eb_8778_58961da900afrow2_col1 {\n",
       "            background-color:  #7669af;\n",
       "            color:  #000000;\n",
       "        }    #T_14dabc38_d876_11eb_8778_58961da900afrow3_col1 {\n",
       "            background-color:  #d2d2e7;\n",
       "            color:  #000000;\n",
       "        }    #T_14dabc38_d876_11eb_8778_58961da900afrow4_col1 {\n",
       "            background-color:  #d3d3e8;\n",
       "            color:  #000000;\n",
       "        }    #T_14dabc38_d876_11eb_8778_58961da900afrow5_col1 {\n",
       "            background-color:  #d4d4e8;\n",
       "            color:  #000000;\n",
       "        }    #T_14dabc38_d876_11eb_8778_58961da900afrow6_col1 {\n",
       "            background-color:  #e0e0ee;\n",
       "            color:  #000000;\n",
       "        }    #T_14dabc38_d876_11eb_8778_58961da900afrow7_col1 {\n",
       "            background-color:  #e1e0ee;\n",
       "            color:  #000000;\n",
       "        }    #T_14dabc38_d876_11eb_8778_58961da900afrow8_col1 {\n",
       "            background-color:  #e1e0ee;\n",
       "            color:  #000000;\n",
       "        }    #T_14dabc38_d876_11eb_8778_58961da900afrow9_col1 {\n",
       "            background-color:  #e2e1ef;\n",
       "            color:  #000000;\n",
       "        }    #T_14dabc38_d876_11eb_8778_58961da900afrow10_col1 {\n",
       "            background-color:  #e4e3f0;\n",
       "            color:  #000000;\n",
       "        }    #T_14dabc38_d876_11eb_8778_58961da900afrow11_col1 {\n",
       "            background-color:  #e8e7f2;\n",
       "            color:  #000000;\n",
       "        }    #T_14dabc38_d876_11eb_8778_58961da900afrow12_col1 {\n",
       "            background-color:  #eceaf3;\n",
       "            color:  #000000;\n",
       "        }    #T_14dabc38_d876_11eb_8778_58961da900afrow13_col1 {\n",
       "            background-color:  #eeecf4;\n",
       "            color:  #000000;\n",
       "        }    #T_14dabc38_d876_11eb_8778_58961da900afrow14_col1 {\n",
       "            background-color:  #f3f1f7;\n",
       "            color:  #000000;\n",
       "        }    #T_14dabc38_d876_11eb_8778_58961da900afrow15_col1 {\n",
       "            background-color:  #f3f1f7;\n",
       "            color:  #000000;\n",
       "        }    #T_14dabc38_d876_11eb_8778_58961da900afrow16_col1 {\n",
       "            background-color:  #f3f1f7;\n",
       "            color:  #000000;\n",
       "        }    #T_14dabc38_d876_11eb_8778_58961da900afrow17_col1 {\n",
       "            background-color:  #f3f1f7;\n",
       "            color:  #000000;\n",
       "        }    #T_14dabc38_d876_11eb_8778_58961da900afrow18_col1 {\n",
       "            background-color:  #f6f5f9;\n",
       "            color:  #000000;\n",
       "        }    #T_14dabc38_d876_11eb_8778_58961da900afrow19_col1 {\n",
       "            background-color:  #f7f5fa;\n",
       "            color:  #000000;\n",
       "        }    #T_14dabc38_d876_11eb_8778_58961da900afrow20_col1 {\n",
       "            background-color:  #f9f8fb;\n",
       "            color:  #000000;\n",
       "        }    #T_14dabc38_d876_11eb_8778_58961da900afrow21_col1 {\n",
       "            background-color:  #faf8fb;\n",
       "            color:  #000000;\n",
       "        }    #T_14dabc38_d876_11eb_8778_58961da900afrow22_col1 {\n",
       "            background-color:  #faf9fc;\n",
       "            color:  #000000;\n",
       "        }    #T_14dabc38_d876_11eb_8778_58961da900afrow23_col1 {\n",
       "            background-color:  #faf9fc;\n",
       "            color:  #000000;\n",
       "        }    #T_14dabc38_d876_11eb_8778_58961da900afrow24_col1 {\n",
       "            background-color:  #fcfbfd;\n",
       "            color:  #000000;\n",
       "        }    #T_14dabc38_d876_11eb_8778_58961da900afrow25_col1 {\n",
       "            background-color:  #fcfbfd;\n",
       "            color:  #000000;\n",
       "        }    #T_14dabc38_d876_11eb_8778_58961da900afrow26_col1 {\n",
       "            background-color:  #fcfbfd;\n",
       "            color:  #000000;\n",
       "        }    #T_14dabc38_d876_11eb_8778_58961da900afrow27_col1 {\n",
       "            background-color:  #fcfbfd;\n",
       "            color:  #000000;\n",
       "        }    #T_14dabc38_d876_11eb_8778_58961da900afrow28_col1 {\n",
       "            background-color:  #fcfbfd;\n",
       "            color:  #000000;\n",
       "        }    #T_14dabc38_d876_11eb_8778_58961da900afrow29_col1 {\n",
       "            background-color:  #fcfbfd;\n",
       "            color:  #000000;\n",
       "        }</style><table id=\"T_14dabc38_d876_11eb_8778_58961da900af\" ><thead>    <tr>        <th class=\"blank level0\" ></th>        <th class=\"col_heading level0 col0\" >common_words</th>        <th class=\"col_heading level0 col1\" >count</th>    </tr></thead><tbody>\n",
       "                <tr>\n",
       "                        <th id=\"T_14dabc38_d876_11eb_8778_58961da900aflevel0_row0\" class=\"row_heading level0 row0\" >0</th>\n",
       "                        <td id=\"T_14dabc38_d876_11eb_8778_58961da900afrow0_col0\" class=\"data row0 col0\" >disease</td>\n",
       "                        <td id=\"T_14dabc38_d876_11eb_8778_58961da900afrow0_col1\" class=\"data row0 col1\" >3805</td>\n",
       "            </tr>\n",
       "            <tr>\n",
       "                        <th id=\"T_14dabc38_d876_11eb_8778_58961da900aflevel0_row1\" class=\"row_heading level0 row1\" >1</th>\n",
       "                        <td id=\"T_14dabc38_d876_11eb_8778_58961da900afrow1_col0\" class=\"data row1 col0\" >lyme</td>\n",
       "                        <td id=\"T_14dabc38_d876_11eb_8778_58961da900afrow1_col1\" class=\"data row1 col1\" >3127</td>\n",
       "            </tr>\n",
       "            <tr>\n",
       "                        <th id=\"T_14dabc38_d876_11eb_8778_58961da900aflevel0_row2\" class=\"row_heading level0 row2\" >2</th>\n",
       "                        <td id=\"T_14dabc38_d876_11eb_8778_58961da900afrow2_col0\" class=\"data row2 col0\" >patient</td>\n",
       "                        <td id=\"T_14dabc38_d876_11eb_8778_58961da900afrow2_col1\" class=\"data row2 col1\" >2737</td>\n",
       "            </tr>\n",
       "            <tr>\n",
       "                        <th id=\"T_14dabc38_d876_11eb_8778_58961da900aflevel0_row3\" class=\"row_heading level0 row3\" >3</th>\n",
       "                        <td id=\"T_14dabc38_d876_11eb_8778_58961da900afrow3_col0\" class=\"data row3 col0\" >treatment</td>\n",
       "                        <td id=\"T_14dabc38_d876_11eb_8778_58961da900afrow3_col1\" class=\"data row3 col1\" >1408</td>\n",
       "            </tr>\n",
       "            <tr>\n",
       "                        <th id=\"T_14dabc38_d876_11eb_8778_58961da900aflevel0_row4\" class=\"row_heading level0 row4\" >4</th>\n",
       "                        <td id=\"T_14dabc38_d876_11eb_8778_58961da900afrow4_col0\" class=\"data row4 col0\" >infection</td>\n",
       "                        <td id=\"T_14dabc38_d876_11eb_8778_58961da900afrow4_col1\" class=\"data row4 col1\" >1392</td>\n",
       "            </tr>\n",
       "            <tr>\n",
       "                        <th id=\"T_14dabc38_d876_11eb_8778_58961da900aflevel0_row5\" class=\"row_heading level0 row5\" >5</th>\n",
       "                        <td id=\"T_14dabc38_d876_11eb_8778_58961da900afrow5_col0\" class=\"data row5 col0\" >burgdorferi</td>\n",
       "                        <td id=\"T_14dabc38_d876_11eb_8778_58961da900afrow5_col1\" class=\"data row5 col1\" >1374</td>\n",
       "            </tr>\n",
       "            <tr>\n",
       "                        <th id=\"T_14dabc38_d876_11eb_8778_58961da900aflevel0_row6\" class=\"row_heading level0 row6\" >6</th>\n",
       "                        <td id=\"T_14dabc38_d876_11eb_8778_58961da900afrow6_col0\" class=\"data row6 col0\" >b</td>\n",
       "                        <td id=\"T_14dabc38_d876_11eb_8778_58961da900afrow6_col1\" class=\"data row6 col1\" >1167</td>\n",
       "            </tr>\n",
       "            <tr>\n",
       "                        <th id=\"T_14dabc38_d876_11eb_8778_58961da900aflevel0_row7\" class=\"row_heading level0 row7\" >7</th>\n",
       "                        <td id=\"T_14dabc38_d876_11eb_8778_58961da900afrow7_col0\" class=\"data row7 col0\" >tick</td>\n",
       "                        <td id=\"T_14dabc38_d876_11eb_8778_58961da900afrow7_col1\" class=\"data row7 col1\" >1159</td>\n",
       "            </tr>\n",
       "            <tr>\n",
       "                        <th id=\"T_14dabc38_d876_11eb_8778_58961da900aflevel0_row8\" class=\"row_heading level0 row8\" >8</th>\n",
       "                        <td id=\"T_14dabc38_d876_11eb_8778_58961da900afrow8_col0\" class=\"data row8 col0\" >symptom</td>\n",
       "                        <td id=\"T_14dabc38_d876_11eb_8778_58961da900afrow8_col1\" class=\"data row8 col1\" >1158</td>\n",
       "            </tr>\n",
       "            <tr>\n",
       "                        <th id=\"T_14dabc38_d876_11eb_8778_58961da900aflevel0_row9\" class=\"row_heading level0 row9\" >9</th>\n",
       "                        <td id=\"T_14dabc38_d876_11eb_8778_58961da900afrow9_col0\" class=\"data row9 col0\" >study</td>\n",
       "                        <td id=\"T_14dabc38_d876_11eb_8778_58961da900afrow9_col1\" class=\"data row9 col1\" >1146</td>\n",
       "            </tr>\n",
       "            <tr>\n",
       "                        <th id=\"T_14dabc38_d876_11eb_8778_58961da900aflevel0_row10\" class=\"row_heading level0 row10\" >10</th>\n",
       "                        <td id=\"T_14dabc38_d876_11eb_8778_58961da900afrow10_col0\" class=\"data row10 col0\" >cell</td>\n",
       "                        <td id=\"T_14dabc38_d876_11eb_8778_58961da900afrow10_col1\" class=\"data row10 col1\" >1098</td>\n",
       "            </tr>\n",
       "            <tr>\n",
       "                        <th id=\"T_14dabc38_d876_11eb_8778_58961da900aflevel0_row11\" class=\"row_heading level0 row11\" >11</th>\n",
       "                        <td id=\"T_14dabc38_d876_11eb_8778_58961da900afrow11_col0\" class=\"data row11 col0\" >borrelia</td>\n",
       "                        <td id=\"T_14dabc38_d876_11eb_8778_58961da900afrow11_col1\" class=\"data row11 col1\" >1011</td>\n",
       "            </tr>\n",
       "            <tr>\n",
       "                        <th id=\"T_14dabc38_d876_11eb_8778_58961da900aflevel0_row12\" class=\"row_heading level0 row12\" >12</th>\n",
       "                        <td id=\"T_14dabc38_d876_11eb_8778_58961da900afrow12_col0\" class=\"data row12 col0\" >clinical</td>\n",
       "                        <td id=\"T_14dabc38_d876_11eb_8778_58961da900afrow12_col1\" class=\"data row12 col1\" >949</td>\n",
       "            </tr>\n",
       "            <tr>\n",
       "                        <th id=\"T_14dabc38_d876_11eb_8778_58961da900aflevel0_row13\" class=\"row_heading level0 row13\" >13</th>\n",
       "                        <td id=\"T_14dabc38_d876_11eb_8778_58961da900afrow13_col0\" class=\"data row13 col0\" >chronic</td>\n",
       "                        <td id=\"T_14dabc38_d876_11eb_8778_58961da900afrow13_col1\" class=\"data row13 col1\" >910</td>\n",
       "            </tr>\n",
       "            <tr>\n",
       "                        <th id=\"T_14dabc38_d876_11eb_8778_58961da900aflevel0_row14\" class=\"row_heading level0 row14\" >14</th>\n",
       "                        <td id=\"T_14dabc38_d876_11eb_8778_58961da900afrow14_col0\" class=\"data row14 col0\" >may</td>\n",
       "                        <td id=\"T_14dabc38_d876_11eb_8778_58961da900afrow14_col1\" class=\"data row14 col1\" >764</td>\n",
       "            </tr>\n",
       "            <tr>\n",
       "                        <th id=\"T_14dabc38_d876_11eb_8778_58961da900aflevel0_row15\" class=\"row_heading level0 row15\" >15</th>\n",
       "                        <td id=\"T_14dabc38_d876_11eb_8778_58961da900afrow15_col0\" class=\"data row15 col0\" >antibiotic</td>\n",
       "                        <td id=\"T_14dabc38_d876_11eb_8778_58961da900afrow15_col1\" class=\"data row15 col1\" >763</td>\n",
       "            </tr>\n",
       "            <tr>\n",
       "                        <th id=\"T_14dabc38_d876_11eb_8778_58961da900aflevel0_row16\" class=\"row_heading level0 row16\" >16</th>\n",
       "                        <td id=\"T_14dabc38_d876_11eb_8778_58961da900afrow16_col0\" class=\"data row16 col0\" >diagnosis</td>\n",
       "                        <td id=\"T_14dabc38_d876_11eb_8778_58961da900afrow16_col1\" class=\"data row16 col1\" >761</td>\n",
       "            </tr>\n",
       "            <tr>\n",
       "                        <th id=\"T_14dabc38_d876_11eb_8778_58961da900aflevel0_row17\" class=\"row_heading level0 row17\" >17</th>\n",
       "                        <td id=\"T_14dabc38_d876_11eb_8778_58961da900afrow17_col0\" class=\"data row17 col0\" >result</td>\n",
       "                        <td id=\"T_14dabc38_d876_11eb_8778_58961da900afrow17_col1\" class=\"data row17 col1\" >750</td>\n",
       "            </tr>\n",
       "            <tr>\n",
       "                        <th id=\"T_14dabc38_d876_11eb_8778_58961da900aflevel0_row18\" class=\"row_heading level0 row18\" >18</th>\n",
       "                        <td id=\"T_14dabc38_d876_11eb_8778_58961da900afrow18_col0\" class=\"data row18 col0\" >case</td>\n",
       "                        <td id=\"T_14dabc38_d876_11eb_8778_58961da900afrow18_col1\" class=\"data row18 col1\" >651</td>\n",
       "            </tr>\n",
       "            <tr>\n",
       "                        <th id=\"T_14dabc38_d876_11eb_8778_58961da900aflevel0_row19\" class=\"row_heading level0 row19\" >19</th>\n",
       "                        <td id=\"T_14dabc38_d876_11eb_8778_58961da900afrow19_col0\" class=\"data row19 col0\" >response</td>\n",
       "                        <td id=\"T_14dabc38_d876_11eb_8778_58961da900afrow19_col1\" class=\"data row19 col1\" >635</td>\n",
       "            </tr>\n",
       "            <tr>\n",
       "                        <th id=\"T_14dabc38_d876_11eb_8778_58961da900aflevel0_row20\" class=\"row_heading level0 row20\" >20</th>\n",
       "                        <td id=\"T_14dabc38_d876_11eb_8778_58961da900afrow20_col0\" class=\"data row20 col0\" >health</td>\n",
       "                        <td id=\"T_14dabc38_d876_11eb_8778_58961da900afrow20_col1\" class=\"data row20 col1\" >552</td>\n",
       "            </tr>\n",
       "            <tr>\n",
       "                        <th id=\"T_14dabc38_d876_11eb_8778_58961da900aflevel0_row21\" class=\"row_heading level0 row21\" >21</th>\n",
       "                        <td id=\"T_14dabc38_d876_11eb_8778_58961da900afrow21_col0\" class=\"data row21 col0\" >antibody</td>\n",
       "                        <td id=\"T_14dabc38_d876_11eb_8778_58961da900afrow21_col1\" class=\"data row21 col1\" >538</td>\n",
       "            </tr>\n",
       "            <tr>\n",
       "                        <th id=\"T_14dabc38_d876_11eb_8778_58961da900aflevel0_row22\" class=\"row_heading level0 row22\" >22</th>\n",
       "                        <td id=\"T_14dabc38_d876_11eb_8778_58961da900afrow22_col0\" class=\"data row22 col0\" >human</td>\n",
       "                        <td id=\"T_14dabc38_d876_11eb_8778_58961da900afrow22_col1\" class=\"data row22 col1\" >527</td>\n",
       "            </tr>\n",
       "            <tr>\n",
       "                        <th id=\"T_14dabc38_d876_11eb_8778_58961da900aflevel0_row23\" class=\"row_heading level0 row23\" >23</th>\n",
       "                        <td id=\"T_14dabc38_d876_11eb_8778_58961da900afrow23_col0\" class=\"data row23 col0\" >also</td>\n",
       "                        <td id=\"T_14dabc38_d876_11eb_8778_58961da900afrow23_col1\" class=\"data row23 col1\" >519</td>\n",
       "            </tr>\n",
       "            <tr>\n",
       "                        <th id=\"T_14dabc38_d876_11eb_8778_58961da900aflevel0_row24\" class=\"row_heading level0 row24\" >24</th>\n",
       "                        <td id=\"T_14dabc38_d876_11eb_8778_58961da900afrow24_col0\" class=\"data row24 col0\" >year</td>\n",
       "                        <td id=\"T_14dabc38_d876_11eb_8778_58961da900afrow24_col1\" class=\"data row24 col1\" >483</td>\n",
       "            </tr>\n",
       "            <tr>\n",
       "                        <th id=\"T_14dabc38_d876_11eb_8778_58961da900aflevel0_row25\" class=\"row_heading level0 row25\" >25</th>\n",
       "                        <td id=\"T_14dabc38_d876_11eb_8778_58961da900afrow25_col0\" class=\"data row25 col0\" >specific</td>\n",
       "                        <td id=\"T_14dabc38_d876_11eb_8778_58961da900afrow25_col1\" class=\"data row25 col1\" >472</td>\n",
       "            </tr>\n",
       "            <tr>\n",
       "                        <th id=\"T_14dabc38_d876_11eb_8778_58961da900aflevel0_row26\" class=\"row_heading level0 row26\" >26</th>\n",
       "                        <td id=\"T_14dabc38_d876_11eb_8778_58961da900afrow26_col0\" class=\"data row26 col0\" >system</td>\n",
       "                        <td id=\"T_14dabc38_d876_11eb_8778_58961da900afrow26_col1\" class=\"data row26 col1\" >470</td>\n",
       "            </tr>\n",
       "            <tr>\n",
       "                        <th id=\"T_14dabc38_d876_11eb_8778_58961da900aflevel0_row27\" class=\"row_heading level0 row27\" >27</th>\n",
       "                        <td id=\"T_14dabc38_d876_11eb_8778_58961da900afrow27_col0\" class=\"data row27 col0\" >group</td>\n",
       "                        <td id=\"T_14dabc38_d876_11eb_8778_58961da900afrow27_col1\" class=\"data row27 col1\" >464</td>\n",
       "            </tr>\n",
       "            <tr>\n",
       "                        <th id=\"T_14dabc38_d876_11eb_8778_58961da900aflevel0_row28\" class=\"row_heading level0 row28\" >28</th>\n",
       "                        <td id=\"T_14dabc38_d876_11eb_8778_58961da900afrow28_col0\" class=\"data row28 col0\" >associated</td>\n",
       "                        <td id=\"T_14dabc38_d876_11eb_8778_58961da900afrow28_col1\" class=\"data row28 col1\" >463</td>\n",
       "            </tr>\n",
       "            <tr>\n",
       "                        <th id=\"T_14dabc38_d876_11eb_8778_58961da900aflevel0_row29\" class=\"row_heading level0 row29\" >29</th>\n",
       "                        <td id=\"T_14dabc38_d876_11eb_8778_58961da900afrow29_col0\" class=\"data row29 col0\" >immune</td>\n",
       "                        <td id=\"T_14dabc38_d876_11eb_8778_58961da900afrow29_col1\" class=\"data row29 col1\" >459</td>\n",
       "            </tr>\n",
       "    </tbody></table>"
      ],
      "text/plain": [
       "<pandas.io.formats.style.Styler at 0x1c513189308>"
      ]
     },
     "execution_count": 27,
     "metadata": {},
     "output_type": "execute_result"
    }
   ],
   "source": [
    "top = Counter([item for sublist in df['temp_list_abstract'] for item in sublist])\n",
    "temp = pd.DataFrame(top.most_common(30))\n",
    "temp = temp.iloc[:,:]\n",
    "temp.columns = ['common_words','count']\n",
    "temp.style.background_gradient(cmap='Purples')"
   ]
  },
  {
   "cell_type": "code",
   "execution_count": 28,
   "metadata": {},
   "outputs": [],
   "source": [
    "def list_string(x): \n",
    "    str1 = \" \" \n",
    "    return (str1.join(x))\n",
    "        \n",
    "data_samples = df['temp_list_title'].apply(lambda x:list_string(x))\n",
    "data_samples2 = df['temp_list_abstract'].apply(lambda x:list_string(x))"
   ]
  },
  {
   "cell_type": "code",
   "execution_count": 29,
   "metadata": {},
   "outputs": [],
   "source": [
    "from time import time\n",
    "import matplotlib.pyplot as plt\n",
    "from sklearn.feature_extraction.text import TfidfVectorizer, CountVectorizer\n",
    "from sklearn.decomposition import LatentDirichletAllocation"
   ]
  },
  {
   "cell_type": "code",
   "execution_count": 30,
   "metadata": {},
   "outputs": [],
   "source": [
    "# source: https://scikit-learn.org/dev/auto_examples/applications/plot_topics_extraction_with_nmf_lda.html#sphx-glr-auto-examples-applications-plot-topics-extraction-with-nmf-lda-py\n",
    "def plot_top_words(model, feature_names, n_top_words, title):\n",
    "    fig, axes = plt.subplots(2, 5, figsize=(30, 15), sharex=True)\n",
    "    axes = axes.flatten()\n",
    "    for topic_idx, topic in enumerate(model.components_):\n",
    "        top_features_ind = topic.argsort()[:-n_top_words - 1:-1]\n",
    "        top_features = [feature_names[i] for i in top_features_ind]\n",
    "        weights = topic[top_features_ind]\n",
    "\n",
    "        ax = axes[topic_idx]\n",
    "        ax.barh(top_features, weights, height=0.7)\n",
    "        ax.set_title(f'Topic {topic_idx +0}',\n",
    "                     fontdict={'fontsize': 30})\n",
    "        ax.invert_yaxis()\n",
    "        ax.tick_params(axis='both', which='major', labelsize=20)\n",
    "        for i in 'top right left'.split():\n",
    "            ax.spines[i].set_visible(False)\n",
    "        fig.suptitle(title, fontsize=40)\n",
    "\n",
    "    plt.subplots_adjust(top=0.90, bottom=0.05, wspace=0.90, hspace=0.3)\n",
    "    plt.show()"
   ]
  },
  {
   "cell_type": "code",
   "execution_count": 31,
   "metadata": {},
   "outputs": [
    {
     "name": "stdout",
     "output_type": "stream",
     "text": [
      "Extracting tf features for LDA...\n",
      "done in 0.026s.\n"
     ]
    }
   ],
   "source": [
    "n_features = 1000\n",
    "\n",
    "print(\"Extracting tf features for LDA...\")\n",
    "tf_vectorizer = CountVectorizer(max_df=0.95, min_df=2,\n",
    "                                max_features=n_features,\n",
    "                                stop_words='english')\n",
    "t0 = time()\n",
    "tf = tf_vectorizer.fit_transform(data_samples)\n",
    "print(\"done in %0.3fs.\" % (time() - t0))"
   ]
  },
  {
   "cell_type": "code",
   "execution_count": 32,
   "metadata": {},
   "outputs": [
    {
     "name": "stdout",
     "output_type": "stream",
     "text": [
      "done in 1.907s.\n"
     ]
    },
    {
     "data": {
      "image/png": "[encoded data removed]",
      "text/plain": [
       "<Figure size 2160x1080 with 10 Axes>"
      ]
     },
     "metadata": {
      "needs_background": "light"
     },
     "output_type": "display_data"
    }
   ],
   "source": [
    "n_components = 10\n",
    "n_top_words = 10\n",
    "\n",
    "lda = LatentDirichletAllocation(n_components=n_components, max_iter=10,\n",
    "                                learning_method='online',\n",
    "                                learning_offset=50.,\n",
    "                                random_state=0)\n",
    "t0 = time()\n",
    "lda.fit(tf)\n",
    "print(\"done in %0.3fs.\" % (time() - t0))\n",
    "\n",
    "tf_feature_names = tf_vectorizer.get_feature_names()\n",
    "\n",
    "plot_top_words(lda, tf_feature_names, n_top_words, 'Title based Topics in LDA model')"
   ]
  },
  {
   "cell_type": "code",
   "execution_count": 33,
   "metadata": {},
   "outputs": [
    {
     "name": "stdout",
     "output_type": "stream",
     "text": [
      "Extracting tf features for LDA...\n",
      "done in 0.160s.\n"
     ]
    }
   ],
   "source": [
    "n_features = 1000\n",
    "\n",
    "print(\"Extracting tf features for LDA...\")\n",
    "tf_vectorizer = CountVectorizer(max_df=0.95, min_df=2,\n",
    "                                max_features=n_features,\n",
    "                                stop_words='english')\n",
    "t0 = time()\n",
    "tf = tf_vectorizer.fit_transform(data_samples2)\n",
    "print(\"done in %0.3fs.\" % (time() - t0))"
   ]
  },
  {
   "cell_type": "code",
   "execution_count": 34,
   "metadata": {},
   "outputs": [
    {
     "name": "stdout",
     "output_type": "stream",
     "text": [
      "done in 5.382s.\n"
     ]
    },
    {
     "data": {
      "image/png": "[encoded data removed]",
      "text/plain": [
       "<Figure size 2160x1080 with 10 Axes>"
      ]
     },
     "metadata": {
      "needs_background": "light"
     },
     "output_type": "display_data"
    }
   ],
   "source": [
    "n_components = 10\n",
    "n_top_words = 10\n",
    "\n",
    "lda = LatentDirichletAllocation(n_components=n_components, max_iter=10,\n",
    "                                learning_method='online',\n",
    "                                learning_offset=50.,\n",
    "                                random_state=0)\n",
    "t0 = time()\n",
    "lda.fit(tf)\n",
    "print(\"done in %0.3fs.\" % (time() - t0))\n",
    "\n",
    "tf_feature_names = tf_vectorizer.get_feature_names()\n",
    "\n",
    "plot_top_words(lda, tf_feature_names, n_top_words, 'Abstract based Topics in LDA model')"
   ]
  },
  {
   "cell_type": "code",
   "execution_count": 35,
   "metadata": {},
   "outputs": [],
   "source": [
    "from nltk import bigrams\n",
    "from nltk import trigrams\n",
    "from nltk.util import ngrams\n",
    "from nltk.collocations import *"
   ]
  },
  {
   "cell_type": "markdown",
   "metadata": {},
   "source": [
    "## N-grams, change size to number of words"
   ]
  },
  {
   "cell_type": "code",
   "execution_count": 36,
   "metadata": {},
   "outputs": [],
   "source": [
    "def documentNgrams(documents, size):\n",
    "    ngrams_all = []\n",
    "    for document in documents:\n",
    "        tokens = document.split()\n",
    "        if len(tokens) <= size:\n",
    "            continue\n",
    "        else:\n",
    "            output = list(ngrams(tokens, size))\n",
    "        for ngram in output:\n",
    "            ngrams_all.append(\" \".join(ngram))\n",
    "    cnt_ngram = Counter()\n",
    "    for word in ngrams_all:\n",
    "        cnt_ngram[word] += 1\n",
    "    df = pd.DataFrame.from_dict(cnt_ngram, orient='index').reset_index()\n",
    "    df = df.rename(columns={'index':'words', 0:'count'})\n",
    "    df = df.sort_values(by='count', ascending=False)\n",
    "    df = df.reset_index(drop=True)\n",
    "    df = df.head(15)\n",
    "    #df = df.sort_values(by='count')\n",
    "    return(df)"
   ]
  },
  {
   "cell_type": "code",
   "execution_count": 37,
   "metadata": {},
   "outputs": [
    {
     "data": {
      "text/html": [
       "<div>\n",
       "<style scoped>\n",
       "    .dataframe tbody tr th:only-of-type {\n",
       "        vertical-align: middle;\n",
       "    }\n",
       "\n",
       "    .dataframe tbody tr th {\n",
       "        vertical-align: top;\n",
       "    }\n",
       "\n",
       "    .dataframe thead th {\n",
       "        text-align: right;\n",
       "    }\n",
       "</style>\n",
       "<table border=\"1\" class=\"dataframe\">\n",
       "  <thead>\n",
       "    <tr style=\"text-align: right;\">\n",
       "      <th></th>\n",
       "      <th>words</th>\n",
       "      <th>count</th>\n",
       "    </tr>\n",
       "  </thead>\n",
       "  <tbody>\n",
       "    <tr>\n",
       "      <td>0</td>\n",
       "      <td>post treatment lyme disease syndrome</td>\n",
       "      <td>50</td>\n",
       "    </tr>\n",
       "    <tr>\n",
       "      <td>1</td>\n",
       "      <td>lyme disease is the most</td>\n",
       "      <td>45</td>\n",
       "    </tr>\n",
       "    <tr>\n",
       "      <td>2</td>\n",
       "      <td>of this study was to</td>\n",
       "      <td>40</td>\n",
       "    </tr>\n",
       "    <tr>\n",
       "      <td>3</td>\n",
       "      <td>the most common vector borne</td>\n",
       "      <td>36</td>\n",
       "    </tr>\n",
       "    <tr>\n",
       "      <td>4</td>\n",
       "      <td>by the spirochete borrelia burgdorferi</td>\n",
       "      <td>34</td>\n",
       "    </tr>\n",
       "    <tr>\n",
       "      <td>5</td>\n",
       "      <td>disease is the most common</td>\n",
       "      <td>34</td>\n",
       "    </tr>\n",
       "    <tr>\n",
       "      <td>6</td>\n",
       "      <td>caused by the spirochete borrelia</td>\n",
       "      <td>32</td>\n",
       "    </tr>\n",
       "    <tr>\n",
       "      <td>7</td>\n",
       "      <td>the most common tick borne</td>\n",
       "      <td>32</td>\n",
       "    </tr>\n",
       "    <tr>\n",
       "      <td>8</td>\n",
       "      <td>disease in the united states</td>\n",
       "      <td>30</td>\n",
       "    </tr>\n",
       "    <tr>\n",
       "      <td>9</td>\n",
       "      <td>the diagnosis of lyme disease</td>\n",
       "      <td>26</td>\n",
       "    </tr>\n",
       "    <tr>\n",
       "      <td>10</td>\n",
       "      <td>is the most common vector</td>\n",
       "      <td>26</td>\n",
       "    </tr>\n",
       "    <tr>\n",
       "      <td>11</td>\n",
       "      <td>is the most common tick</td>\n",
       "      <td>25</td>\n",
       "    </tr>\n",
       "    <tr>\n",
       "      <td>12</td>\n",
       "      <td>vector borne disease in the</td>\n",
       "      <td>25</td>\n",
       "    </tr>\n",
       "    <tr>\n",
       "      <td>13</td>\n",
       "      <td>health related quality of life</td>\n",
       "      <td>25</td>\n",
       "    </tr>\n",
       "    <tr>\n",
       "      <td>14</td>\n",
       "      <td>for disease control and prevention</td>\n",
       "      <td>25</td>\n",
       "    </tr>\n",
       "  </tbody>\n",
       "</table>\n",
       "</div>"
      ],
      "text/plain": [
       "                                     words  count\n",
       "0     post treatment lyme disease syndrome     50\n",
       "1                 lyme disease is the most     45\n",
       "2                     of this study was to     40\n",
       "3             the most common vector borne     36\n",
       "4   by the spirochete borrelia burgdorferi     34\n",
       "5               disease is the most common     34\n",
       "6        caused by the spirochete borrelia     32\n",
       "7               the most common tick borne     32\n",
       "8             disease in the united states     30\n",
       "9            the diagnosis of lyme disease     26\n",
       "10               is the most common vector     26\n",
       "11                 is the most common tick     25\n",
       "12             vector borne disease in the     25\n",
       "13          health related quality of life     25\n",
       "14      for disease control and prevention     25"
      ]
     },
     "execution_count": 37,
     "metadata": {},
     "output_type": "execute_result"
    }
   ],
   "source": [
    "documentNgrams(gsdf['cleaned_abstract'], 5)"
   ]
  }
 ],
 "metadata": {
  "kernelspec": {
   "display_name": "Python 3",
   "language": "python",
   "name": "python3"
  },
  "language_info": {
   "codemirror_mode": {
    "name": "ipython",
    "version": 3
   },
   "file_extension": ".py",
   "mimetype": "text/x-python",
   "name": "python",
   "nbconvert_exporter": "python",
   "pygments_lexer": "ipython3",
   "version": "3.7.3"
  },
  "toc": {
   "base_numbering": 1,
   "nav_menu": {},
   "number_sections": true,
   "sideBar": true,
   "skip_h1_title": true,
   "title_cell": "Table of Contents",
   "title_sidebar": "Contents",
   "toc_cell": true,
   "toc_position": {},
   "toc_section_display": true,
   "toc_window_display": true
  },
  "varInspector": {
   "cols": {
    "lenName": 16,
    "lenType": 16,
    "lenVar": 40
   },
   "kernels_config": {
    "python": {
     "delete_cmd_postfix": "",
     "delete_cmd_prefix": "del ",
     "library": "var_list.py",
     "varRefreshCmd": "print(var_dic_list())"
    },
    "r": {
     "delete_cmd_postfix": ") ",
     "delete_cmd_prefix": "rm(",
     "library": "var_list.r",
     "varRefreshCmd": "cat(var_dic_list()) "
    }
   },
   "types_to_exclude": [
    "module",
    "function",
    "builtin_function_or_method",
    "instance",
    "_Feature"
   ],
   "window_display": false
  }
 },
 "nbformat": 4,
 "nbformat_minor": 2
}
