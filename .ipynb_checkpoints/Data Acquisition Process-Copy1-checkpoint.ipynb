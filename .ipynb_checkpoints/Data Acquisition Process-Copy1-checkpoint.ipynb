{
 "cells": [
  {
   "cell_type": "markdown",
   "metadata": {},
   "source": [
    "# Building a Lyme Disease Dataset 2000-2021"
   ]
  },
  {
   "cell_type": "markdown",
   "metadata": {
    "ExecuteTime": {
     "end_time": "2021-11-05T23:12:51.935583Z",
     "start_time": "2021-11-05T23:12:51.814079Z"
    }
   },
   "source": [
    "We build a dataset of close to \n",
    "![Prisma](PrismaDiagram.png)"
   ]
  },
  {
   "cell_type": "markdown",
   "metadata": {
    "toc": true
   },
   "source": [
    "<h1>Table of Contents<span class=\"tocSkip\"></span></h1>\n",
    "<div class=\"toc\"><ul class=\"toc-item\"><li><ul class=\"toc-item\"><li><span><a href=\"#Imports-and-Defaults\" data-toc-modified-id=\"Imports-and-Defaults-0.1\"><span class=\"toc-item-num\">0.1&nbsp;&nbsp;</span>Imports and Defaults</a></span></li></ul></li><li><span><a href=\"#Identification\" data-toc-modified-id=\"Identification-1\"><span class=\"toc-item-num\">1&nbsp;&nbsp;</span>Identification</a></span><ul class=\"toc-item\"><li><span><a href=\"#Accessing-Publish-or-Perish-with-Command-Line-Prompts\" data-toc-modified-id=\"Accessing-Publish-or-Perish-with-Command-Line-Prompts-1.1\"><span class=\"toc-item-num\">1.1&nbsp;&nbsp;</span>Accessing Publish or Perish with Command Line Prompts</a></span></li><li><span><a href=\"#Importing-search-results\" data-toc-modified-id=\"Importing-search-results-1.2\"><span class=\"toc-item-num\">1.2&nbsp;&nbsp;</span>Importing search results</a></span></li><li><span><a href=\"#Dropping-Records-without-a-DOI\" data-toc-modified-id=\"Dropping-Records-without-a-DOI-1.3\"><span class=\"toc-item-num\">1.3&nbsp;&nbsp;</span>Dropping Records without a DOI</a></span></li><li><span><a href=\"#Dropping-Duplicates\" data-toc-modified-id=\"Dropping-Duplicates-1.4\"><span class=\"toc-item-num\">1.4&nbsp;&nbsp;</span>Dropping Duplicates</a></span></li></ul></li><li><span><a href=\"#Screening\" data-toc-modified-id=\"Screening-2\"><span class=\"toc-item-num\">2&nbsp;&nbsp;</span>Screening</a></span><ul class=\"toc-item\"><li><span><a href=\"#Restricting-to-journal-articles\" data-toc-modified-id=\"Restricting-to-journal-articles-2.1\"><span class=\"toc-item-num\">2.1&nbsp;&nbsp;</span>Restricting to journal articles</a></span></li><li><span><a href=\"#Removing-records-with-missing-Publication-Name-or-Article-Title\" data-toc-modified-id=\"Removing-records-with-missing-Publication-Name-or-Article-Title-2.2\"><span class=\"toc-item-num\">2.2&nbsp;&nbsp;</span>Removing records with missing Publication Name or Article Title</a></span></li><li><span><a href=\"#Removing-incomplete-Google-Scholar-Journal-Names-that-can't-be-matched-and-completed\" data-toc-modified-id=\"Removing-incomplete-Google-Scholar-Journal-Names-that-can't-be-matched-and-completed-2.3\"><span class=\"toc-item-num\">2.3&nbsp;&nbsp;</span>Removing incomplete Google Scholar Journal Names that can't be matched and completed</a></span></li><li><span><a href=\"#Preparation-for-Merging-Remaining-Records\" data-toc-modified-id=\"Preparation-for-Merging-Remaining-Records-2.4\"><span class=\"toc-item-num\">2.4&nbsp;&nbsp;</span>Preparation for Merging Remaining Records</a></span><ul class=\"toc-item\"><li><span><a href=\"#Resetting-very-short-abstracts\" data-toc-modified-id=\"Resetting-very-short-abstracts-2.4.1\"><span class=\"toc-item-num\">2.4.1&nbsp;&nbsp;</span>Resetting very short abstracts</a></span></li><li><span><a href=\"#Dummy-for-Source\" data-toc-modified-id=\"Dummy-for-Source-2.4.2\"><span class=\"toc-item-num\">2.4.2&nbsp;&nbsp;</span>Dummy for Source</a></span></li></ul></li><li><span><a href=\"#Building-Dataframes-of-Unique-Records\" data-toc-modified-id=\"Building-Dataframes-of-Unique-Records-2.5\"><span class=\"toc-item-num\">2.5&nbsp;&nbsp;</span>Building Dataframes of Unique Records</a></span><ul class=\"toc-item\"><li><span><a href=\"#Records-that-have-DOI-and-abstract\" data-toc-modified-id=\"Records-that-have-DOI-and-abstract-2.5.1\"><span class=\"toc-item-num\">2.5.1&nbsp;&nbsp;</span>Records that have DOI and abstract</a></span></li><li><span><a href=\"#Records-that-have-DOI-but-no-abstract\" data-toc-modified-id=\"Records-that-have-DOI-but-no-abstract-2.5.2\"><span class=\"toc-item-num\">2.5.2&nbsp;&nbsp;</span>Records that have DOI but no abstract</a></span></li></ul></li><li><span><a href=\"#Saving-New-Dataframes\" data-toc-modified-id=\"Saving-New-Dataframes-2.6\"><span class=\"toc-item-num\">2.6&nbsp;&nbsp;</span>Saving New Dataframes</a></span></li></ul></li><li><span><a href=\"#Scraping\" data-toc-modified-id=\"Scraping-3\"><span class=\"toc-item-num\">3&nbsp;&nbsp;</span>Scraping</a></span><ul class=\"toc-item\"><li><span><a href=\"#Formatting-Vagaries\" data-toc-modified-id=\"Formatting-Vagaries-3.1\"><span class=\"toc-item-num\">3.1&nbsp;&nbsp;</span>Formatting Vagaries</a></span></li><li><span><a href=\"#Scraping-Function\" data-toc-modified-id=\"Scraping-Function-3.2\"><span class=\"toc-item-num\">3.2&nbsp;&nbsp;</span>Scraping Function</a></span></li></ul></li><li><span><a href=\"#Processing-Scraped-Data\" data-toc-modified-id=\"Processing-Scraped-Data-4\"><span class=\"toc-item-num\">4&nbsp;&nbsp;</span>Processing Scraped Data</a></span><ul class=\"toc-item\"><li><span><a href=\"#Non-Unique-Counts-for-Scraped-Abstracts\" data-toc-modified-id=\"Non-Unique-Counts-for-Scraped-Abstracts-4.1\"><span class=\"toc-item-num\">4.1&nbsp;&nbsp;</span>Non Unique Counts for Scraped Abstracts</a></span></li><li><span><a href=\"#Removing-extremely-short-'abstracts'\" data-toc-modified-id=\"Removing-extremely-short-'abstracts'-4.2\"><span class=\"toc-item-num\">4.2&nbsp;&nbsp;</span>Removing extremely short 'abstracts'</a></span></li><li><span><a href=\"#Joining-datasets\" data-toc-modified-id=\"Joining-datasets-4.3\"><span class=\"toc-item-num\">4.3&nbsp;&nbsp;</span>Joining datasets</a></span></li><li><span><a href=\"#Abstract-Lengths---Spotting-Outliers\" data-toc-modified-id=\"Abstract-Lengths---Spotting-Outliers-4.4\"><span class=\"toc-item-num\">4.4&nbsp;&nbsp;</span>Abstract Lengths - Spotting Outliers</a></span></li><li><span><a href=\"#Removing-Non-English-Abstracts\" data-toc-modified-id=\"Removing-Non-English-Abstracts-4.5\"><span class=\"toc-item-num\">4.5&nbsp;&nbsp;</span>Removing Non-English Abstracts</a></span></li><li><span><a href=\"#Removing-Records-with-no-Relevant-Terms-in-Title-or-Abstract\" data-toc-modified-id=\"Removing-Records-with-no-Relevant-Terms-in-Title-or-Abstract-4.6\"><span class=\"toc-item-num\">4.6&nbsp;&nbsp;</span>Removing Records with no Relevant Terms in Title or Abstract</a></span></li><li><span><a href=\"#Removing-Non-Journal-Abstracts\" data-toc-modified-id=\"Removing-Non-Journal-Abstracts-4.7\"><span class=\"toc-item-num\">4.7&nbsp;&nbsp;</span>Removing Non-Journal Abstracts</a></span></li></ul></li><li><span><a href=\"#Saving-Complete-Dataset\" data-toc-modified-id=\"Saving-Complete-Dataset-5\"><span class=\"toc-item-num\">5&nbsp;&nbsp;</span>Saving Complete Dataset</a></span></li></ul></div>"
   ]
  },
  {
   "cell_type": "markdown",
   "metadata": {},
   "source": [
    "### Imports and Defaults"
   ]
  },
  {
   "cell_type": "code",
   "execution_count": 1,
   "metadata": {
    "ExecuteTime": {
     "end_time": "2021-11-06T20:37:33.363096Z",
     "start_time": "2021-11-06T20:37:33.349185Z"
    }
   },
   "outputs": [
    {
     "data": {
      "text/html": [
       "<style>.container { width:75% !important; } p, ul {max-width: 40em;} .rendered_html table { margin-left: 0; } .output_subarea.output_png { display: flex; justify-content: center;}</style>"
      ],
      "text/plain": [
       "<IPython.core.display.HTML object>"
      ]
     },
     "metadata": {},
     "output_type": "display_data"
    }
   ],
   "source": [
    "from IPython.core.display import display, HTML, Markdown as md\n",
    "display(HTML(\"\"\"<style>.container { width:75% !important; } p, ul {max-width: 40em;} .rendered_html table { margin-left: 0; } .output_subarea.output_png { display: flex; justify-content: center;}</style>\"\"\"))"
   ]
  },
  {
   "cell_type": "code",
   "execution_count": 2,
   "metadata": {
    "ExecuteTime": {
     "end_time": "2021-11-06T20:37:35.239821Z",
     "start_time": "2021-11-06T20:37:34.814146Z"
    }
   },
   "outputs": [],
   "source": [
    "# Basics\n",
    "import numpy as np \n",
    "import pandas as pd \n",
    "\n",
    "#String cleaning and processing\n",
    "import re\n",
    "import string\n",
    "\n",
    "import os\n",
    "pd.options.mode.chained_assignment = None\n",
    "\n",
    "import json"
   ]
  },
  {
   "cell_type": "code",
   "execution_count": 3,
   "metadata": {
    "ExecuteTime": {
     "end_time": "2021-11-06T20:37:36.482325Z",
     "start_time": "2021-11-06T20:37:35.780332Z"
    }
   },
   "outputs": [],
   "source": [
    "# Visualisation\n",
    "import seaborn as sns\n",
    "import matplotlib.pyplot as plt\n",
    "from pylab import rcParams\n",
    "\n",
    "%matplotlib inline\n",
    "rcParams['figure.figsize'] = 15, 10\n",
    "rcParams['axes.titlesize'] = 20\n",
    "rcParams['axes.labelsize'] = 'large'\n",
    "rcParams['xtick.labelsize'] = 10\n",
    "rcParams['ytick.labelsize'] = 10\n",
    "rcParams['lines.linewidth'] = 2\n",
    "rcParams['font.size'] = 18"
   ]
  },
  {
   "cell_type": "code",
   "execution_count": 4,
   "metadata": {
    "ExecuteTime": {
     "end_time": "2021-11-06T20:37:36.521557Z",
     "start_time": "2021-11-06T20:37:36.505686Z"
    }
   },
   "outputs": [],
   "source": [
    "from langdetect import detect #language detection"
   ]
  },
  {
   "cell_type": "code",
   "execution_count": 5,
   "metadata": {
    "ExecuteTime": {
     "end_time": "2021-11-06T20:37:36.775795Z",
     "start_time": "2021-11-06T20:37:36.773051Z"
    }
   },
   "outputs": [],
   "source": [
    "import unicodedata"
   ]
  },
  {
   "cell_type": "markdown",
   "metadata": {},
   "source": [
    "## Identification"
   ]
  },
  {
   "cell_type": "markdown",
   "metadata": {},
   "source": [
    "<p>Publish or Perish (PoP) software (either via desktop GUI or command line prompts) was used to search through four research databases (Google Scholar, Scopus, PubMed and CrossRef). The searches were done year by year to maximise the number of records returned and then joined together into four separate datasets. </p> \n",
    "<p>The search terms used were \"Lyme disease\" in each case apart from CrossRef, where \"Lyme\" was used due to the implicit \"or\" used in the search mechanism for that database.</p>\n",
    "<p>The maximum number of results returned for each search (by year) was 1000 but only in the case of Google Scholar did the search fill the quota. The others stopped when no further relevant records could be found.</p>\n",
    "<p>Due to limitations on the number of requests that could be made to Google Scholar and the risk of being locked out, Google Scholar searches were conducted via the PoP GUI whilst the others could be automated via command line prompts executed via this Jupyter notebook.</p>"
   ]
  },
  {
   "cell_type": "markdown",
   "metadata": {},
   "source": [
    "### Accessing Publish or Perish with Command Line Prompts"
   ]
  },
  {
   "cell_type": "markdown",
   "metadata": {},
   "source": [
    "Included below for reference. Google Scholar search conducted via Publish or Perish GUI."
   ]
  },
  {
   "cell_type": "code",
   "execution_count": 6,
   "metadata": {
    "ExecuteTime": {
     "end_time": "2021-11-06T20:37:54.193910Z",
     "start_time": "2021-11-06T20:37:54.191762Z"
    }
   },
   "outputs": [],
   "source": [
    "# #searching pubmed year by year through command line access\n",
    "# for year in range (2000, 2022):\n",
    "#     outfile = 'pubmed-'+str(year)+'.json'\n",
    "#     yr = str(year)+'-'+str(year)\n",
    "#     !pop7query --pubmed --keywords 'lyme disease' --max 1000 --years $yr $outfile"
   ]
  },
  {
   "cell_type": "code",
   "execution_count": 7,
   "metadata": {
    "ExecuteTime": {
     "end_time": "2021-11-06T20:37:54.468991Z",
     "start_time": "2021-11-06T20:37:54.466169Z"
    }
   },
   "outputs": [],
   "source": [
    "# #searching crossref year by year through command line access\n",
    "# for year in range (2000, 2022):\n",
    "#     outfile = 'crossref-'+str(year)+'.json'\n",
    "#     yr = str(year)+'-'+str(year)\n",
    "#     !pop7query --crossref --keywords 'lyme' --max 1000 --years $yr $outfile"
   ]
  },
  {
   "cell_type": "code",
   "execution_count": 8,
   "metadata": {
    "ExecuteTime": {
     "end_time": "2021-11-06T20:37:55.107737Z",
     "start_time": "2021-11-06T20:37:55.105451Z"
    }
   },
   "outputs": [],
   "source": [
    "# #searching scopus year by year through command line access\n",
    "# for year in range (2000, 2022):\n",
    "#     outfile = 'scopus-LD-'+str(year)+'.json'\n",
    "#     yr = str(year)+'-'+str(year)\n",
    "#     !pop7query --scopus --keywords 'lyme disease' --max 1000 --years $yr $outfile"
   ]
  },
  {
   "cell_type": "markdown",
   "metadata": {},
   "source": [
    "### Importing search results"
   ]
  },
  {
   "cell_type": "code",
   "execution_count": 9,
   "metadata": {
    "ExecuteTime": {
     "end_time": "2021-11-06T20:37:57.879429Z",
     "start_time": "2021-11-06T20:37:57.875249Z"
    }
   },
   "outputs": [],
   "source": [
    "def loadJSONfiles(path, source, startYear, endYear):\n",
    "    JSONobject = []\n",
    "    for year in range(startYear, endYear+1):\n",
    "        filename= path + source+'-'+str(year)+'.json'\n",
    "        if os.path.exists(filename):\n",
    "            with open(filename, encoding='utf-8-sig') as f:\n",
    "                newfile = json.load(f)\n",
    "            JSONobject = JSONobject+ newfile\n",
    "        else: print('Cant find', filename)\n",
    "    return JSONobject"
   ]
  },
  {
   "cell_type": "code",
   "execution_count": 10,
   "metadata": {
    "ExecuteTime": {
     "end_time": "2021-11-06T20:37:58.645869Z",
     "start_time": "2021-11-06T20:37:58.637878Z"
    }
   },
   "outputs": [],
   "source": [
    "def get_df(jsonfile, source):\n",
    "    df_dict = {'publication':[], 'title':[], 'authors':[],'doi':[], \n",
    "               'year':[], 'cites':[],'type':[], 'abstract':[], \n",
    "#                'article_url':[], 'fulltext_url':[]\n",
    "              }\n",
    "    for record in jsonfile:\n",
    "        df_dict['publication'].append(record.get('source'))\n",
    "        df_dict['year'].append(record.get('year'))\n",
    "        df_dict['doi'].append(record.get('doi'))\n",
    "        df_dict['title'].append(record.get('title'))\n",
    "        df_dict['abstract'].append(record.get('abstract'))\n",
    "        df_dict['authors'].append(record.get('authors'))\n",
    "        df_dict['cites'].append(record.get('cites'))\n",
    "        df_dict['type'].append(record.get('type'))\n",
    "#         df_dict['article_url'].append(record.get('article_url'))\n",
    "#         df_dict['fulltext_url'].append(record.get('fulltext_url'))\n",
    "    \n",
    "    df = pd.DataFrame.from_dict(df_dict)\n",
    "    df.fillna(np.nan, inplace=True)\n",
    "    df['abstractLength'] = [len(x) if type(x)==str else np.nan for x in df['abstract'] ]\n",
    "    df[source]=np.int8(1)\n",
    "    df.reset_index(drop=True, inplace=True)\n",
    "    return df"
   ]
  },
  {
   "cell_type": "code",
   "execution_count": 11,
   "metadata": {
    "ExecuteTime": {
     "end_time": "2021-11-06T20:37:59.833086Z",
     "start_time": "2021-11-06T20:37:59.830254Z"
    }
   },
   "outputs": [],
   "source": [
    "def jsonFilesToDF(path, source, startYear, endYear):\n",
    "    jsonFile = loadJSONfiles(path,source, startYear, endYear)\n",
    "    df = get_df(jsonFile, source)\n",
    "    return df"
   ]
  },
  {
   "cell_type": "code",
   "execution_count": 12,
   "metadata": {
    "ExecuteTime": {
     "end_time": "2021-11-06T20:38:07.166555Z",
     "start_time": "2021-11-06T20:38:06.155847Z"
    }
   },
   "outputs": [],
   "source": [
    "crossref = jsonFilesToDF('POPresults/','crossref', 2000, 2021)\n",
    "gscholar = jsonFilesToDF('POPresults/','gscholar', 2000, 2021)\n",
    "pubmed = jsonFilesToDF('POPresults/','pubmed', 2000, 2021)\n",
    "scopus = jsonFilesToDF('POPresults/','scopus', 2000, 2021)"
   ]
  },
  {
   "cell_type": "code",
   "execution_count": 13,
   "metadata": {
    "ExecuteTime": {
     "end_time": "2021-11-06T20:38:08.948877Z",
     "start_time": "2021-11-06T20:38:08.933365Z"
    }
   },
   "outputs": [
    {
     "name": "stdout",
     "output_type": "stream",
     "text": [
      "<class 'pandas.core.frame.DataFrame'>\n",
      "RangeIndex: 5971 entries, 0 to 5970\n",
      "Data columns (total 10 columns):\n",
      " #   Column          Non-Null Count  Dtype  \n",
      "---  ------          --------------  -----  \n",
      " 0   publication     5874 non-null   object \n",
      " 1   title           5971 non-null   object \n",
      " 2   authors         5614 non-null   object \n",
      " 3   doi             5971 non-null   object \n",
      " 4   year            5971 non-null   int64  \n",
      " 5   cites           5971 non-null   int64  \n",
      " 6   type            5971 non-null   object \n",
      " 7   abstract        922 non-null    object \n",
      " 8   abstractLength  922 non-null    float64\n",
      " 9   crossref        5971 non-null   int8   \n",
      "dtypes: float64(1), int64(2), int8(1), object(6)\n",
      "memory usage: 425.8+ KB\n"
     ]
    }
   ],
   "source": [
    "crossref.info()"
   ]
  },
  {
   "cell_type": "code",
   "execution_count": 14,
   "metadata": {
    "ExecuteTime": {
     "end_time": "2021-11-06T20:38:10.825551Z",
     "start_time": "2021-11-06T20:38:10.801494Z"
    }
   },
   "outputs": [
    {
     "name": "stdout",
     "output_type": "stream",
     "text": [
      "<class 'pandas.core.frame.DataFrame'>\n",
      "RangeIndex: 21700 entries, 0 to 21699\n",
      "Data columns (total 10 columns):\n",
      " #   Column          Non-Null Count  Dtype  \n",
      "---  ------          --------------  -----  \n",
      " 0   publication     18917 non-null  object \n",
      " 1   title           21700 non-null  object \n",
      " 2   authors         21700 non-null  object \n",
      " 3   doi             5030 non-null   object \n",
      " 4   year            20472 non-null  float64\n",
      " 5   cites           21700 non-null  int64  \n",
      " 6   type            7588 non-null   object \n",
      " 7   abstract        20369 non-null  object \n",
      " 8   abstractLength  20369 non-null  float64\n",
      " 9   gscholar        21700 non-null  int8   \n",
      "dtypes: float64(2), int64(1), int8(1), object(6)\n",
      "memory usage: 1.5+ MB\n"
     ]
    }
   ],
   "source": [
    "gscholar.info()"
   ]
  },
  {
   "cell_type": "code",
   "execution_count": 15,
   "metadata": {
    "ExecuteTime": {
     "end_time": "2021-11-06T20:38:15.453389Z",
     "start_time": "2021-11-06T20:38:15.436022Z"
    }
   },
   "outputs": [
    {
     "name": "stdout",
     "output_type": "stream",
     "text": [
      "<class 'pandas.core.frame.DataFrame'>\n",
      "RangeIndex: 8058 entries, 0 to 8057\n",
      "Data columns (total 10 columns):\n",
      " #   Column          Non-Null Count  Dtype  \n",
      "---  ------          --------------  -----  \n",
      " 0   publication     8058 non-null   object \n",
      " 1   title           8055 non-null   object \n",
      " 2   authors         7960 non-null   object \n",
      " 3   doi             6806 non-null   object \n",
      " 4   year            8055 non-null   float64\n",
      " 5   cites           8058 non-null   int64  \n",
      " 6   type            8058 non-null   object \n",
      " 7   abstract        6752 non-null   object \n",
      " 8   abstractLength  6752 non-null   float64\n",
      " 9   pubmed          8058 non-null   int8   \n",
      "dtypes: float64(2), int64(1), int8(1), object(6)\n",
      "memory usage: 574.6+ KB\n"
     ]
    }
   ],
   "source": [
    "pubmed.info()"
   ]
  },
  {
   "cell_type": "code",
   "execution_count": 16,
   "metadata": {
    "ExecuteTime": {
     "end_time": "2021-11-06T20:38:18.980896Z",
     "start_time": "2021-11-06T20:38:18.968646Z"
    }
   },
   "outputs": [
    {
     "name": "stdout",
     "output_type": "stream",
     "text": [
      "<class 'pandas.core.frame.DataFrame'>\n",
      "RangeIndex: 4400 entries, 0 to 4399\n",
      "Data columns (total 10 columns):\n",
      " #   Column          Non-Null Count  Dtype  \n",
      "---  ------          --------------  -----  \n",
      " 0   publication     4400 non-null   object \n",
      " 1   title           4400 non-null   object \n",
      " 2   authors         4391 non-null   object \n",
      " 3   doi             4203 non-null   object \n",
      " 4   year            4400 non-null   int64  \n",
      " 5   cites           4400 non-null   int64  \n",
      " 6   type            4399 non-null   object \n",
      " 7   abstract        0 non-null      float64\n",
      " 8   abstractLength  0 non-null      float64\n",
      " 9   scopus          4400 non-null   int8   \n",
      "dtypes: float64(2), int64(2), int8(1), object(5)\n",
      "memory usage: 313.8+ KB\n"
     ]
    }
   ],
   "source": [
    "scopus.info()"
   ]
  },
  {
   "cell_type": "code",
   "execution_count": 17,
   "metadata": {
    "ExecuteTime": {
     "end_time": "2021-11-06T20:38:28.972155Z",
     "start_time": "2021-11-06T20:38:28.968516Z"
    }
   },
   "outputs": [
    {
     "name": "stdout",
     "output_type": "stream",
     "text": [
      "Records indentified from databases: 40129\n"
     ]
    }
   ],
   "source": [
    "total = len(crossref)+len(scopus)+len(pubmed)+len(gscholar)\n",
    "print('Records indentified from databases:', total)"
   ]
  },
  {
   "cell_type": "markdown",
   "metadata": {},
   "source": [
    "### Dropping Records without a DOI"
   ]
  },
  {
   "cell_type": "markdown",
   "metadata": {},
   "source": [
    "<p>A digital object identifier (DOI) is a unique persistent identifier for an object. DOIs are in wide use to identify academic information, such as journal articles, research reports, data sets, and official publications and have been used for other purposes too. In our case the unique nature of a DOI ensure no duplicated records are included in the final data set and their wide use for published academic research help to filter out less relevant records. </p>\n",
    "<p>For this reason we only include records that have a DOI, and then filter out any records with duplicated DOIs.</p>"
   ]
  },
  {
   "cell_type": "code",
   "execution_count": 18,
   "metadata": {
    "ExecuteTime": {
     "end_time": "2021-11-06T20:40:09.574862Z",
     "start_time": "2021-11-06T20:40:09.533489Z"
    }
   },
   "outputs": [],
   "source": [
    "crossref = crossref[crossref.doi.notna()]\n",
    "gscholar = gscholar[gscholar.doi.notna()]\n",
    "pubmed = pubmed[pubmed.doi.notna()]\n",
    "scopus = scopus[scopus.doi.notna()]"
   ]
  },
  {
   "cell_type": "code",
   "execution_count": 19,
   "metadata": {
    "ExecuteTime": {
     "end_time": "2021-11-06T20:40:10.798937Z",
     "start_time": "2021-11-06T20:40:10.794641Z"
    }
   },
   "outputs": [
    {
     "name": "stdout",
     "output_type": "stream",
     "text": [
      "Records left after dropping records without DOI: 22010\n",
      "Records removed: 18119\n"
     ]
    }
   ],
   "source": [
    "oldtotal = total\n",
    "total = len(crossref)+len(scopus)+len(pubmed)+len(gscholar)\n",
    "print('Records left after dropping records without DOI:', total)\n",
    "print('Records removed:', oldtotal-total)"
   ]
  },
  {
   "cell_type": "code",
   "execution_count": 20,
   "metadata": {
    "ExecuteTime": {
     "end_time": "2021-11-06T20:41:04.246801Z",
     "start_time": "2021-11-06T20:41:04.207388Z"
    }
   },
   "outputs": [],
   "source": [
    "#standardise case of each doi entry\n",
    "crossref['doi'] = crossref.doi.str.lower() \n",
    "gscholar['doi'] = gscholar.doi.str.lower() \n",
    "pubmed['doi'] = pubmed.doi.str.lower()\n",
    "scopus['doi'] = scopus.doi.str.lower()\n",
    "\n",
    "# trim any dois that have extended link (i.e. \"?\" followed by anthing)\n",
    "# Only some Google Scholar records affected by this \n",
    "gscholar['doi'] = gscholar.doi.apply (lambda x: re.split('\\?', x)[0]) \n",
    "\n",
    "crossref['publication'] = crossref.publication.str.lower() #standardise publication names\n",
    "gscholar['publication'] = gscholar.publication.str.lower() #standardise publication names\n",
    "pubmed['publication'] = pubmed.publication.str.lower() #standardise publication names\n",
    "scopus['publication'] = scopus.publication.str.lower() #standardise publication names"
   ]
  },
  {
   "cell_type": "markdown",
   "metadata": {},
   "source": [
    "### Dropping Duplicates"
   ]
  },
  {
   "cell_type": "code",
   "execution_count": 21,
   "metadata": {
    "ExecuteTime": {
     "end_time": "2021-11-06T20:41:06.317181Z",
     "start_time": "2021-11-06T20:41:06.301118Z"
    }
   },
   "outputs": [],
   "source": [
    "crossref.drop_duplicates(subset=['doi'], inplace=True)\n",
    "gscholar.drop_duplicates(subset=['doi'], inplace=True)\n",
    "pubmed.drop_duplicates(subset=['doi'], inplace=True)\n",
    "scopus.drop_duplicates(subset=['doi'], inplace=True)"
   ]
  },
  {
   "cell_type": "code",
   "execution_count": 22,
   "metadata": {
    "ExecuteTime": {
     "end_time": "2021-11-06T20:41:07.823446Z",
     "start_time": "2021-11-06T20:41:07.819872Z"
    }
   },
   "outputs": [
    {
     "name": "stdout",
     "output_type": "stream",
     "text": [
      "Records left after droping duplicates: 21450\n",
      "Records removed: 560\n"
     ]
    }
   ],
   "source": [
    "oldtotal = total\n",
    "total = len(crossref)+len(scopus)+len(pubmed)+len(gscholar)\n",
    "print('Records left after droping duplicates:', total)\n",
    "print('Records removed:', oldtotal-total)"
   ]
  },
  {
   "cell_type": "code",
   "execution_count": 23,
   "metadata": {
    "ExecuteTime": {
     "end_time": "2021-11-06T20:41:42.135051Z",
     "start_time": "2021-11-06T20:41:42.120448Z"
    }
   },
   "outputs": [
    {
     "name": "stdout",
     "output_type": "stream",
     "text": [
      "<class 'pandas.core.frame.DataFrame'>\n",
      "Int64Index: 5960 entries, 0 to 5970\n",
      "Data columns (total 10 columns):\n",
      " #   Column          Non-Null Count  Dtype  \n",
      "---  ------          --------------  -----  \n",
      " 0   publication     5863 non-null   object \n",
      " 1   title           5960 non-null   object \n",
      " 2   authors         5603 non-null   object \n",
      " 3   doi             5960 non-null   object \n",
      " 4   year            5960 non-null   int64  \n",
      " 5   cites           5960 non-null   int64  \n",
      " 6   type            5960 non-null   object \n",
      " 7   abstract        919 non-null    object \n",
      " 8   abstractLength  919 non-null    float64\n",
      " 9   crossref        5960 non-null   int8   \n",
      "dtypes: float64(1), int64(2), int8(1), object(6)\n",
      "memory usage: 471.4+ KB\n"
     ]
    }
   ],
   "source": [
    "crossref.info()"
   ]
  },
  {
   "cell_type": "code",
   "execution_count": 24,
   "metadata": {
    "ExecuteTime": {
     "end_time": "2021-11-06T20:41:43.517268Z",
     "start_time": "2021-11-06T20:41:43.503189Z"
    }
   },
   "outputs": [
    {
     "name": "stdout",
     "output_type": "stream",
     "text": [
      "<class 'pandas.core.frame.DataFrame'>\n",
      "Int64Index: 4993 entries, 0 to 21674\n",
      "Data columns (total 10 columns):\n",
      " #   Column          Non-Null Count  Dtype  \n",
      "---  ------          --------------  -----  \n",
      " 0   publication     4857 non-null   object \n",
      " 1   title           4993 non-null   object \n",
      " 2   authors         4993 non-null   object \n",
      " 3   doi             4993 non-null   object \n",
      " 4   year            4980 non-null   float64\n",
      " 5   cites           4993 non-null   int64  \n",
      " 6   type            624 non-null    object \n",
      " 7   abstract        4979 non-null   object \n",
      " 8   abstractLength  4979 non-null   float64\n",
      " 9   gscholar        4993 non-null   int8   \n",
      "dtypes: float64(2), int64(1), int8(1), object(6)\n",
      "memory usage: 395.0+ KB\n"
     ]
    }
   ],
   "source": [
    "gscholar.info()"
   ]
  },
  {
   "cell_type": "code",
   "execution_count": 25,
   "metadata": {
    "ExecuteTime": {
     "end_time": "2021-11-06T20:41:49.209304Z",
     "start_time": "2021-11-06T20:41:49.194058Z"
    }
   },
   "outputs": [
    {
     "name": "stdout",
     "output_type": "stream",
     "text": [
      "<class 'pandas.core.frame.DataFrame'>\n",
      "Int64Index: 6294 entries, 0 to 8057\n",
      "Data columns (total 10 columns):\n",
      " #   Column          Non-Null Count  Dtype  \n",
      "---  ------          --------------  -----  \n",
      " 0   publication     6294 non-null   object \n",
      " 1   title           6293 non-null   object \n",
      " 2   authors         6260 non-null   object \n",
      " 3   doi             6294 non-null   object \n",
      " 4   year            6294 non-null   float64\n",
      " 5   cites           6294 non-null   int64  \n",
      " 6   type            6294 non-null   object \n",
      " 7   abstract        5394 non-null   object \n",
      " 8   abstractLength  5394 non-null   float64\n",
      " 9   pubmed          6294 non-null   int8   \n",
      "dtypes: float64(2), int64(1), int8(1), object(6)\n",
      "memory usage: 497.9+ KB\n"
     ]
    }
   ],
   "source": [
    "pubmed.info()"
   ]
  },
  {
   "cell_type": "code",
   "execution_count": 26,
   "metadata": {
    "ExecuteTime": {
     "end_time": "2021-11-06T20:41:51.032218Z",
     "start_time": "2021-11-06T20:41:51.017047Z"
    }
   },
   "outputs": [
    {
     "name": "stdout",
     "output_type": "stream",
     "text": [
      "<class 'pandas.core.frame.DataFrame'>\n",
      "Int64Index: 4203 entries, 0 to 4399\n",
      "Data columns (total 10 columns):\n",
      " #   Column          Non-Null Count  Dtype  \n",
      "---  ------          --------------  -----  \n",
      " 0   publication     4203 non-null   object \n",
      " 1   title           4203 non-null   object \n",
      " 2   authors         4198 non-null   object \n",
      " 3   doi             4203 non-null   object \n",
      " 4   year            4203 non-null   int64  \n",
      " 5   cites           4203 non-null   int64  \n",
      " 6   type            4202 non-null   object \n",
      " 7   abstract        0 non-null      float64\n",
      " 8   abstractLength  0 non-null      float64\n",
      " 9   scopus          4203 non-null   int8   \n",
      "dtypes: float64(2), int64(2), int8(1), object(5)\n",
      "memory usage: 332.5+ KB\n"
     ]
    }
   ],
   "source": [
    "scopus.info()"
   ]
  },
  {
   "cell_type": "markdown",
   "metadata": {},
   "source": [
    "## Screening"
   ]
  },
  {
   "cell_type": "markdown",
   "metadata": {},
   "source": [
    "### Restricting to journal articles"
   ]
  },
  {
   "cell_type": "markdown",
   "metadata": {},
   "source": [
    "<p>The focus of the analysis is on journal articles so we look to exclude records that do not meet that criteria. For Cross Ref (\"journal-article\"), PubMed (\"Journal Article\") and Scopus (\"Article\") the value for \"type\" as returned by the PoP search is easy to filter on while for Google Scholar, \"type\" is not as helpful but we can filter out the most unlikley candidates (e.g. \"book\" or \"citation\") by restricting to \"PDF\" or \"HTML\" </p>"
   ]
  },
  {
   "cell_type": "code",
   "execution_count": 27,
   "metadata": {
    "ExecuteTime": {
     "end_time": "2021-11-06T20:41:59.328671Z",
     "start_time": "2021-11-06T20:41:59.321244Z"
    }
   },
   "outputs": [
    {
     "data": {
      "text/plain": [
       "journal-article        5200\n",
       "book-chapter            530\n",
       "posted-content           53\n",
       "dataset                  50\n",
       "proceedings-article      37\n",
       "reference-entry          29\n",
       "book                     20\n",
       "component                13\n",
       "peer-review              13\n",
       "other                     5\n",
       "report                    4\n",
       "reference-book            3\n",
       "monograph                 3\n",
       "Name: type, dtype: int64"
      ]
     },
     "execution_count": 27,
     "metadata": {},
     "output_type": "execute_result"
    }
   ],
   "source": [
    "crossref.type.value_counts()"
   ]
  },
  {
   "cell_type": "code",
   "execution_count": 28,
   "metadata": {
    "ExecuteTime": {
     "end_time": "2021-11-06T20:42:02.183155Z",
     "start_time": "2021-11-06T20:42:02.177357Z"
    }
   },
   "outputs": [
    {
     "data": {
      "text/plain": [
       "HTML        526\n",
       "CITATION     45\n",
       "PDF          43\n",
       "BOOK         10\n",
       "Name: type, dtype: int64"
      ]
     },
     "execution_count": 28,
     "metadata": {},
     "output_type": "execute_result"
    }
   ],
   "source": [
    "gscholar.type.value_counts()"
   ]
  },
  {
   "cell_type": "code",
   "execution_count": 29,
   "metadata": {
    "ExecuteTime": {
     "end_time": "2021-11-06T20:42:05.898237Z",
     "start_time": "2021-11-06T20:42:05.891977Z"
    }
   },
   "outputs": [
    {
     "data": {
      "text/plain": [
       "Journal Article                      4556\n",
       "Case Reports                          746\n",
       "Comparative Study                     272\n",
       "Letter                                189\n",
       "Comment                               143\n",
       "English Abstract                       98\n",
       "Evaluation Study                       85\n",
       "Editorial                              70\n",
       "Clinical Trial                         42\n",
       "News                                   28\n",
       "Historical Article                     17\n",
       "Congress                                6\n",
       "Biography                               6\n",
       "Introductory Journal Article            5\n",
       "Consensus Development Conference        5\n",
       "Review                                  4\n",
       "Published Erratum                       4\n",
       "Clinical Study                          3\n",
       "Guideline                               3\n",
       "Interview                               2\n",
       "Patient Education Handout               2\n",
       "Corrected and Republished Article       1\n",
       "Clinical Conference                     1\n",
       "Clinical Trial, Phase II                1\n",
       "Clinical Trial, Phase III               1\n",
       "Controlled Clinical Trial               1\n",
       "Lecture                                 1\n",
       "Clinical Trial, Phase I                 1\n",
       "Clinical Trial Protocol                 1\n",
       "Name: type, dtype: int64"
      ]
     },
     "execution_count": 29,
     "metadata": {},
     "output_type": "execute_result"
    }
   ],
   "source": [
    "pubmed.type.value_counts()"
   ]
  },
  {
   "cell_type": "code",
   "execution_count": 30,
   "metadata": {
    "ExecuteTime": {
     "end_time": "2021-11-06T20:43:04.578492Z",
     "start_time": "2021-11-06T20:43:04.572753Z"
    }
   },
   "outputs": [
    {
     "data": {
      "text/plain": [
       "Article             3204\n",
       "Review               784\n",
       "Conference Paper      58\n",
       "Short Survey          44\n",
       "Letter                43\n",
       "Note                  29\n",
       "Editorial             18\n",
       "Book Chapter          16\n",
       "Book                   3\n",
       "Erratum                2\n",
       "Data Paper             1\n",
       "Name: type, dtype: int64"
      ]
     },
     "execution_count": 30,
     "metadata": {},
     "output_type": "execute_result"
    }
   ],
   "source": [
    "scopus.type.value_counts()"
   ]
  },
  {
   "cell_type": "code",
   "execution_count": 31,
   "metadata": {
    "ExecuteTime": {
     "end_time": "2021-11-06T20:43:12.167886Z",
     "start_time": "2021-11-06T20:43:12.154753Z"
    }
   },
   "outputs": [],
   "source": [
    "crossref = crossref[crossref.type =='journal-article']\n",
    "gscholar = gscholar[gscholar.type.isin(['PDF', 'HTML'])]\n",
    "pubmed = pubmed[pubmed.type =='Journal Article']\n",
    "scopus = scopus[scopus.type =='Article']"
   ]
  },
  {
   "cell_type": "code",
   "execution_count": 32,
   "metadata": {
    "ExecuteTime": {
     "end_time": "2021-11-06T20:43:15.082556Z",
     "start_time": "2021-11-06T20:43:15.078096Z"
    }
   },
   "outputs": [
    {
     "name": "stdout",
     "output_type": "stream",
     "text": [
      "Records left after dropping non journal articles: 13529\n",
      "Records removed: 7921\n"
     ]
    }
   ],
   "source": [
    "oldtotal = total\n",
    "total = len(crossref)+len(scopus)+len(pubmed)+len(gscholar)\n",
    "print('Records left after dropping non journal articles:', total)\n",
    "print('Records removed:', oldtotal-total)"
   ]
  },
  {
   "cell_type": "markdown",
   "metadata": {},
   "source": [
    "### Removing records with missing Publication Name or Article Title"
   ]
  },
  {
   "cell_type": "markdown",
   "metadata": {},
   "source": [
    "<p>Records without titles or publication names may be an indication that a record does not reference a journal article. Additionally, records missing publication names hinder analysis of sentiment or topics across journals. For these reasons, these records are removed.</p>"
   ]
  },
  {
   "cell_type": "code",
   "execution_count": 33,
   "metadata": {
    "ExecuteTime": {
     "end_time": "2021-11-06T20:43:55.998113Z",
     "start_time": "2021-11-06T20:43:55.959563Z"
    }
   },
   "outputs": [],
   "source": [
    "crossref = crossref[crossref.publication.notna() & crossref.title.notna()]\n",
    "gscholar = gscholar[gscholar.publication.notna() & gscholar.title.notna()]\n",
    "pubmed = pubmed[pubmed.publication.notna() & pubmed.title.notna()]\n",
    "scopus = scopus[scopus.publication.notna() & scopus.title.notna()]\n",
    "\n",
    "# Also drop any titles comprosed of just numbers\n",
    "crossref = crossref[crossref.title.str.lower().str.islower()] \n",
    "gscholar = gscholar[gscholar.title.str.lower().str.islower()] \n",
    "pubmed = pubmed[pubmed.title.str.lower().str.islower()] \n",
    "scopus = scopus[scopus.title.str.lower().str.islower()] "
   ]
  },
  {
   "cell_type": "code",
   "execution_count": 34,
   "metadata": {
    "ExecuteTime": {
     "end_time": "2021-11-06T20:43:58.786271Z",
     "start_time": "2021-11-06T20:43:58.782835Z"
    }
   },
   "outputs": [
    {
     "name": "stdout",
     "output_type": "stream",
     "text": [
      "Records left after dropping records with missing journal or article names: 13501\n",
      "Records removed: 28\n"
     ]
    }
   ],
   "source": [
    "oldtotal = total\n",
    "total = len(crossref)+len(scopus)+len(pubmed)+len(gscholar)\n",
    "print('Records left after dropping records with missing journal or article names:', total)\n",
    "print('Records removed:', oldtotal-total)"
   ]
  },
  {
   "cell_type": "code",
   "execution_count": 35,
   "metadata": {
    "ExecuteTime": {
     "end_time": "2021-11-06T20:44:10.726206Z",
     "start_time": "2021-11-06T20:44:10.713964Z"
    }
   },
   "outputs": [
    {
     "name": "stdout",
     "output_type": "stream",
     "text": [
      "<class 'pandas.core.frame.DataFrame'>\n",
      "Int64Index: 5199 entries, 0 to 5970\n",
      "Data columns (total 10 columns):\n",
      " #   Column          Non-Null Count  Dtype  \n",
      "---  ------          --------------  -----  \n",
      " 0   publication     5199 non-null   object \n",
      " 1   title           5199 non-null   object \n",
      " 2   authors         5001 non-null   object \n",
      " 3   doi             5199 non-null   object \n",
      " 4   year            5199 non-null   int64  \n",
      " 5   cites           5199 non-null   int64  \n",
      " 6   type            5199 non-null   object \n",
      " 7   abstract        819 non-null    object \n",
      " 8   abstractLength  819 non-null    float64\n",
      " 9   crossref        5199 non-null   int8   \n",
      "dtypes: float64(1), int64(2), int8(1), object(6)\n",
      "memory usage: 411.2+ KB\n"
     ]
    }
   ],
   "source": [
    "crossref.info()"
   ]
  },
  {
   "cell_type": "code",
   "execution_count": 36,
   "metadata": {
    "ExecuteTime": {
     "end_time": "2021-11-06T20:44:12.892121Z",
     "start_time": "2021-11-06T20:44:12.881630Z"
    }
   },
   "outputs": [
    {
     "name": "stdout",
     "output_type": "stream",
     "text": [
      "<class 'pandas.core.frame.DataFrame'>\n",
      "Int64Index: 543 entries, 252 to 21660\n",
      "Data columns (total 10 columns):\n",
      " #   Column          Non-Null Count  Dtype  \n",
      "---  ------          --------------  -----  \n",
      " 0   publication     543 non-null    object \n",
      " 1   title           543 non-null    object \n",
      " 2   authors         543 non-null    object \n",
      " 3   doi             543 non-null    object \n",
      " 4   year            543 non-null    float64\n",
      " 5   cites           543 non-null    int64  \n",
      " 6   type            543 non-null    object \n",
      " 7   abstract        543 non-null    object \n",
      " 8   abstractLength  543 non-null    float64\n",
      " 9   gscholar        543 non-null    int8   \n",
      "dtypes: float64(2), int64(1), int8(1), object(6)\n",
      "memory usage: 43.0+ KB\n"
     ]
    }
   ],
   "source": [
    "gscholar.info()"
   ]
  },
  {
   "cell_type": "code",
   "execution_count": 37,
   "metadata": {
    "ExecuteTime": {
     "end_time": "2021-11-06T20:44:27.677339Z",
     "start_time": "2021-11-06T20:44:27.664783Z"
    }
   },
   "outputs": [
    {
     "name": "stdout",
     "output_type": "stream",
     "text": [
      "<class 'pandas.core.frame.DataFrame'>\n",
      "Int64Index: 4555 entries, 0 to 8057\n",
      "Data columns (total 10 columns):\n",
      " #   Column          Non-Null Count  Dtype  \n",
      "---  ------          --------------  -----  \n",
      " 0   publication     4555 non-null   object \n",
      " 1   title           4555 non-null   object \n",
      " 2   authors         4535 non-null   object \n",
      " 3   doi             4555 non-null   object \n",
      " 4   year            4555 non-null   float64\n",
      " 5   cites           4555 non-null   int64  \n",
      " 6   type            4555 non-null   object \n",
      " 7   abstract        4321 non-null   object \n",
      " 8   abstractLength  4321 non-null   float64\n",
      " 9   pubmed          4555 non-null   int8   \n",
      "dtypes: float64(2), int64(1), int8(1), object(6)\n",
      "memory usage: 360.3+ KB\n"
     ]
    }
   ],
   "source": [
    "pubmed.info()"
   ]
  },
  {
   "cell_type": "code",
   "execution_count": 38,
   "metadata": {
    "ExecuteTime": {
     "end_time": "2021-11-06T20:44:32.809140Z",
     "start_time": "2021-11-06T20:44:32.794293Z"
    }
   },
   "outputs": [
    {
     "name": "stdout",
     "output_type": "stream",
     "text": [
      "<class 'pandas.core.frame.DataFrame'>\n",
      "Int64Index: 3204 entries, 0 to 4399\n",
      "Data columns (total 10 columns):\n",
      " #   Column          Non-Null Count  Dtype  \n",
      "---  ------          --------------  -----  \n",
      " 0   publication     3204 non-null   object \n",
      " 1   title           3204 non-null   object \n",
      " 2   authors         3202 non-null   object \n",
      " 3   doi             3204 non-null   object \n",
      " 4   year            3204 non-null   int64  \n",
      " 5   cites           3204 non-null   int64  \n",
      " 6   type            3204 non-null   object \n",
      " 7   abstract        0 non-null      float64\n",
      " 8   abstractLength  0 non-null      float64\n",
      " 9   scopus          3204 non-null   int8   \n",
      "dtypes: float64(2), int64(2), int8(1), object(5)\n",
      "memory usage: 253.4+ KB\n"
     ]
    }
   ],
   "source": [
    "scopus.info()"
   ]
  },
  {
   "cell_type": "markdown",
   "metadata": {},
   "source": [
    "### Removing incomplete Google Scholar Journal Names that can't be matched and completed"
   ]
  },
  {
   "cell_type": "markdown",
   "metadata": {},
   "source": [
    "<p>A number of records sourced from the PoP search of Google Scholar have truncated publication names, starting and/or ending with the '…' character. Similar to section 2.2, including these records 'as is' would affect analysis of sentiment and topic across journals in later stages of the project.</p>\n",
    "<p>Using the first portion of a DOI number (which is consistent across articles from the same journal), we match any truncated name with a corresponding full name from elsewhere in the dataset so long as the journal DOIs also match. </p>\n",
    "<p>Matched journal names are corrected while any records that still have un-matched truncated names are removed</p>"
   ]
  },
  {
   "cell_type": "code",
   "execution_count": 39,
   "metadata": {
    "ExecuteTime": {
     "end_time": "2021-11-06T20:45:11.223170Z",
     "start_time": "2021-11-06T20:45:11.218074Z"
    }
   },
   "outputs": [],
   "source": [
    "#Splitting out the first portion of DOIs for each record allows for comparison between potential matches of jounral names.\n",
    "gscholar['doiJournal'] = gscholar.doi.apply (lambda x: re.split('/', x)[0])"
   ]
  },
  {
   "cell_type": "code",
   "execution_count": 40,
   "metadata": {
    "ExecuteTime": {
     "end_time": "2021-11-06T20:45:13.781956Z",
     "start_time": "2021-11-06T20:45:13.777835Z"
    }
   },
   "outputs": [],
   "source": [
    "incompleteJournalNames = [name for name in gscholar.publication.unique() if '…' in name]\n",
    "completeJournalNames = [name for name in gscholar.publication.unique() if '…' not in name]"
   ]
  },
  {
   "cell_type": "code",
   "execution_count": 41,
   "metadata": {
    "ExecuteTime": {
     "end_time": "2021-11-06T20:45:16.119267Z",
     "start_time": "2021-11-06T20:45:16.114905Z"
    },
    "scrolled": true
   },
   "outputs": [
    {
     "data": {
      "text/plain": [
       "['the journal of neuropsychiatry and clinical …',\n",
       " '… england journal of …',\n",
       " 'american journal of …',\n",
       " 'molecular …',\n",
       " 'the embo …',\n",
       " 'bmc musculoskeletal …',\n",
       " 'new england journal of …',\n",
       " 'journal of the american veterinary …',\n",
       " 'arthritis res …',\n",
       " 'international journal of health …',\n",
       " 'bmc infectious …',\n",
       " 'weekly releases (1997 …',\n",
       " 'international …',\n",
       " 'baylor university medical …',\n",
       " 'arthritis …',\n",
       " 'anesthetic and obstetric management of high-risk …',\n",
       " 'european journal of …',\n",
       " '…',\n",
       " 'medical microbiology …',\n",
       " 'european journal of clinical microbiology and …',\n",
       " 'clinical infectious …',\n",
       " 'current …',\n",
       " 'epidemiologic perspectives & …',\n",
       " 'weekly releases …',\n",
       " 'bmc …',\n",
       " 'journal of negative …',\n",
       " 'international journal of …',\n",
       " 'arthritis research & …',\n",
       " 'journal of …',\n",
       " 'bmc veterinary …',\n",
       " 'european journal of clinical …',\n",
       " 'malaria …',\n",
       " 'journal of brachial …',\n",
       " 'bmc public …',\n",
       " '… therapie 2007| 2008',\n",
       " 'fortschritte der praktischen dermatologie und …',\n",
       " 'the journal of neuropsychiatry and …',\n",
       " 'cases …',\n",
       " 'bmc clinical …',\n",
       " 'bundesgesundheitsblatt …',\n",
       " 'parasites & …',\n",
       " 'applied and …',\n",
       " 'bmc research …',\n",
       " 'allergy, asthma & clinical …',\n",
       " 'bmc medical …',\n",
       " 'jrsm short …',\n",
       " 'otolaryngology–head and …',\n",
       " 'experimental and applied …',\n",
       " '… journal of rare …',\n",
       " 'acta veterinaria …',\n",
       " 'environmental health and preventive …',\n",
       " 'archivum immunologiae et …',\n",
       " 'world journal of …',\n",
       " 'journal of ophthalmic inflammation and …',\n",
       " 'european journal of clinical microbiology & infectious …',\n",
       " 'planta …',\n",
       " 'climate change adaptation in developed …',\n",
       " 'circulation: heart …',\n",
       " 'evolution: education and …',\n",
       " 'new frontiers of molecular …',\n",
       " 'new england journal …',\n",
       " 'journal of osteopathic …',\n",
       " 'bmc family …',\n",
       " 'theoretical biology and medical …',\n",
       " 'indian journal of psychological …',\n",
       " 'annals of the american …',\n",
       " 'archives of …',\n",
       " 'global pediatric …',\n",
       " 'netherlands heart …',\n",
       " 'journal of translational …',\n",
       " 'parasitology …',\n",
       " 'environmental …',\n",
       " 'systematic …',\n",
       " 'journal of ophthalmic …',\n",
       " '… and applied acarology',\n",
       " 'canadian journal of public …',\n",
       " 'pediatric …',\n",
       " 'a52. critical care case …',\n",
       " 'biomarker …',\n",
       " 'insights into …',\n",
       " 'wiener klinische …',\n",
       " 'journal of general …',\n",
       " 'clinical oral …',\n",
       " 'clinical chemistry and …',\n",
       " 'annals of otology and …',\n",
       " 'current emergency and …',\n",
       " 'annals of …',\n",
       " 'italian journal of …',\n",
       " 'european archives of …',\n",
       " 'neurological …',\n",
       " 'applied microbiology and …',\n",
       " 'research involvement …',\n",
       " 'experimental and …',\n",
       " 'bmc oral …',\n",
       " 'clinical …',\n",
       " 'biomolecular nmr …',\n",
       " 'european journal of clinical microbiology & …']"
      ]
     },
     "execution_count": 41,
     "metadata": {},
     "output_type": "execute_result"
    }
   ],
   "source": [
    "incompleteJournalNames"
   ]
  },
  {
   "cell_type": "code",
   "execution_count": 42,
   "metadata": {
    "ExecuteTime": {
     "end_time": "2021-11-06T20:46:02.172934Z",
     "start_time": "2021-11-06T20:46:02.107354Z"
    }
   },
   "outputs": [],
   "source": [
    "journalNamesDict = {}\n",
    "for name in completeJournalNames:\n",
    "    journalNamesDict[name] = gscholar[gscholar.publication ==name].doiJournal.unique()[0]"
   ]
  },
  {
   "cell_type": "code",
   "execution_count": 43,
   "metadata": {
    "ExecuteTime": {
     "end_time": "2021-11-06T20:46:03.305942Z",
     "start_time": "2021-11-06T20:46:03.300309Z"
    }
   },
   "outputs": [
    {
     "data": {
      "text/plain": [
       "324"
      ]
     },
     "execution_count": 43,
     "metadata": {},
     "output_type": "execute_result"
    }
   ],
   "source": [
    "len(gscholar[gscholar.publication.str.contains('…')])"
   ]
  },
  {
   "cell_type": "code",
   "execution_count": 44,
   "metadata": {
    "ExecuteTime": {
     "end_time": "2021-11-06T20:46:04.820816Z",
     "start_time": "2021-11-06T20:46:04.582977Z"
    }
   },
   "outputs": [],
   "source": [
    "for index, row in gscholar.iterrows():\n",
    "    if ('…') in row['publication']:\n",
    "        name = row['publication']\n",
    "        options=[]\n",
    "        if name.startswith('…') & name.endswith('…'):\n",
    "            newname=name[1:-1]\n",
    "            if len(newname)>1:\n",
    "                for key in journalNamesDict:\n",
    "                    if (newname in key) & (journalNamesDict[key]==row['doiJournal']):\n",
    "                        options.append(key)\n",
    "                if len(options)==1:\n",
    "                    gscholar.loc[index,'publication']= options[0]\n",
    "        elif name.startswith('…'):\n",
    "            newname=name[1:]\n",
    "            for key in journalNamesDict:\n",
    "                if (key.endswith(newname)) & (journalNamesDict[key]==row['doiJournal']):\n",
    "                    options.append(key)\n",
    "            if len(options)==1:\n",
    "                gscholar.loc[index,'publication']= options[0]\n",
    "        elif name.endswith('…'):\n",
    "            newname=name[:-1]\n",
    "            for key in journalNamesDict:\n",
    "                if (key.startswith(newname)) & (journalNamesDict[key]==row['doiJournal']):\n",
    "                    options.append(key)\n",
    "            if len(options)==1:\n",
    "                gscholar.loc[index,'publication']= options[0]"
   ]
  },
  {
   "cell_type": "code",
   "execution_count": 45,
   "metadata": {
    "ExecuteTime": {
     "end_time": "2021-11-06T20:46:06.929030Z",
     "start_time": "2021-11-06T20:46:06.923517Z"
    }
   },
   "outputs": [
    {
     "data": {
      "text/plain": [
       "155"
      ]
     },
     "execution_count": 45,
     "metadata": {},
     "output_type": "execute_result"
    }
   ],
   "source": [
    "### Number of records to be removed\n",
    "len(gscholar[gscholar.publication.str.contains('…')])"
   ]
  },
  {
   "cell_type": "code",
   "execution_count": 46,
   "metadata": {
    "ExecuteTime": {
     "end_time": "2021-11-06T20:46:16.151034Z",
     "start_time": "2021-11-06T20:46:16.147271Z"
    }
   },
   "outputs": [],
   "source": [
    "gscholar=gscholar[~gscholar.publication.str.contains('…')]"
   ]
  },
  {
   "cell_type": "code",
   "execution_count": 47,
   "metadata": {
    "ExecuteTime": {
     "end_time": "2021-11-06T20:46:17.081743Z",
     "start_time": "2021-11-06T20:46:17.071019Z"
    }
   },
   "outputs": [
    {
     "name": "stdout",
     "output_type": "stream",
     "text": [
      "<class 'pandas.core.frame.DataFrame'>\n",
      "Int64Index: 388 entries, 272 to 21660\n",
      "Data columns (total 11 columns):\n",
      " #   Column          Non-Null Count  Dtype  \n",
      "---  ------          --------------  -----  \n",
      " 0   publication     388 non-null    object \n",
      " 1   title           388 non-null    object \n",
      " 2   authors         388 non-null    object \n",
      " 3   doi             388 non-null    object \n",
      " 4   year            388 non-null    float64\n",
      " 5   cites           388 non-null    int64  \n",
      " 6   type            388 non-null    object \n",
      " 7   abstract        388 non-null    object \n",
      " 8   abstractLength  388 non-null    float64\n",
      " 9   gscholar        388 non-null    int8   \n",
      " 10  doiJournal      388 non-null    object \n",
      "dtypes: float64(2), int64(1), int8(1), object(7)\n",
      "memory usage: 33.7+ KB\n"
     ]
    }
   ],
   "source": [
    "gscholar.info()"
   ]
  },
  {
   "cell_type": "code",
   "execution_count": 48,
   "metadata": {
    "ExecuteTime": {
     "end_time": "2021-11-06T20:46:18.579552Z",
     "start_time": "2021-11-06T20:46:18.576260Z"
    }
   },
   "outputs": [],
   "source": [
    "gscholar.drop(columns='doiJournal', inplace=True)"
   ]
  },
  {
   "cell_type": "code",
   "execution_count": 49,
   "metadata": {
    "ExecuteTime": {
     "end_time": "2021-11-06T20:46:19.818976Z",
     "start_time": "2021-11-06T20:46:19.815524Z"
    }
   },
   "outputs": [
    {
     "name": "stdout",
     "output_type": "stream",
     "text": [
      "Records left after dropping truncated Google Scholar journal names: 13346\n",
      "Records removed: 155\n"
     ]
    }
   ],
   "source": [
    "oldtotal = total\n",
    "total = len(crossref)+len(scopus)+len(pubmed)+len(gscholar)\n",
    "print('Records left after dropping truncated Google Scholar journal names:', total)\n",
    "print('Records removed:', oldtotal-total)"
   ]
  },
  {
   "cell_type": "markdown",
   "metadata": {},
   "source": [
    "### Preparation for Merging Remaining Records"
   ]
  },
  {
   "cell_type": "markdown",
   "metadata": {},
   "source": [
    "#### Resetting very short abstracts"
   ]
  },
  {
   "cell_type": "markdown",
   "metadata": {},
   "source": [
    "With the exception of very short pubmed abstracts which upon manual inspection appear to all be correct, there are some abstracts from the other datasets that appear truncated. An arbitrary threshold of 300 characters is set with Scopus, CrossRef and Google Scholar abstracts shorter than this reset to null. We will attempt properly populate these during the scraping process."
   ]
  },
  {
   "cell_type": "code",
   "execution_count": 58,
   "metadata": {
    "ExecuteTime": {
     "end_time": "2021-11-06T21:01:21.326957Z",
     "start_time": "2021-11-06T21:01:20.523312Z"
    }
   },
   "outputs": [],
   "source": [
    "for idx in crossref.index:\n",
    "    if crossref.loc[idx].abstractLength<300:\n",
    "        crossref.at[idx,'abstract'] = np.NaN\n",
    "        crossref.at[idx,'abstractLength'] = np.NaN"
   ]
  },
  {
   "cell_type": "code",
   "execution_count": 59,
   "metadata": {
    "ExecuteTime": {
     "end_time": "2021-11-06T21:01:22.339514Z",
     "start_time": "2021-11-06T21:01:21.827324Z"
    }
   },
   "outputs": [],
   "source": [
    "for idx in scopus.index:\n",
    "    if scopus.loc[idx].abstractLength<300:\n",
    "        scopus.at[idx,'abstract'] = np.NaN\n",
    "        scopus.at[idx,'abstractLength'] = np.NaN"
   ]
  },
  {
   "cell_type": "code",
   "execution_count": 60,
   "metadata": {
    "ExecuteTime": {
     "end_time": "2021-11-06T21:01:23.187983Z",
     "start_time": "2021-11-06T21:01:23.086654Z"
    }
   },
   "outputs": [],
   "source": [
    "for idx in gscholar.index:\n",
    "    if gscholar.loc[idx].abstractLength<300:\n",
    "        gscholar.at[idx,'abstract'] = np.NaN\n",
    "        gscholar.at[idx,'abstractLength'] = np.NaN"
   ]
  },
  {
   "cell_type": "markdown",
   "metadata": {},
   "source": [
    "#### Dummy for Source"
   ]
  },
  {
   "cell_type": "code",
   "execution_count": 61,
   "metadata": {
    "ExecuteTime": {
     "end_time": "2021-11-06T21:01:28.815328Z",
     "start_time": "2021-11-06T21:01:28.800245Z"
    }
   },
   "outputs": [],
   "source": [
    "# Datasets already contain a dummy variable column flagging where they were obtained from. E.g pubmed['pubmed']=1\n",
    "# This aids matching columns in preparation for concatenation\n",
    "pubmed[['gscholar','crossref','scopus']]=0\n",
    "gscholar[['pubmed','crossref','scopus']]=0\n",
    "crossref[['pubmed','gscholar','scopus']]=0\n",
    "scopus[['pubmed','gscholar','crossref']]=0"
   ]
  },
  {
   "cell_type": "markdown",
   "metadata": {
    "ExecuteTime": {
     "end_time": "2021-10-30T09:55:25.955815Z",
     "start_time": "2021-10-30T09:55:25.953679Z"
    }
   },
   "source": [
    "### Building Dataframes of Unique Records"
   ]
  },
  {
   "cell_type": "markdown",
   "metadata": {},
   "source": [
    "#### Records that have DOI and abstract"
   ]
  },
  {
   "cell_type": "code",
   "execution_count": 62,
   "metadata": {
    "ExecuteTime": {
     "end_time": "2021-11-06T21:02:16.089239Z",
     "start_time": "2021-11-06T21:02:16.075079Z"
    }
   },
   "outputs": [
    {
     "data": {
      "text/plain": [
       "4321"
      ]
     },
     "execution_count": 62,
     "metadata": {},
     "output_type": "execute_result"
    }
   ],
   "source": [
    "len(pubmed[pubmed.doi.notna() & pubmed.abstract.notna()])"
   ]
  },
  {
   "cell_type": "markdown",
   "metadata": {
    "ExecuteTime": {
     "end_time": "2021-10-30T09:57:41.138116Z",
     "start_time": "2021-10-30T09:57:41.132980Z"
    }
   },
   "source": [
    "Using Pubmed results as the starting point due to their relative completeness of data, we take the 4321 results with both a DOI and abstract and add any abstracts from the Crossref, Google Scholar or Scopus records that also have a unique DOI. Using the DOI as a unique identifier prevents adding duplicates to the new collated dataset as we build it. "
   ]
  },
  {
   "cell_type": "code",
   "execution_count": 63,
   "metadata": {
    "ExecuteTime": {
     "end_time": "2021-11-06T21:02:32.140604Z",
     "start_time": "2021-11-06T21:02:32.117072Z"
    }
   },
   "outputs": [],
   "source": [
    "## Splitting Datasets by abstract and doi availability\n",
    "crossrefToAdd = crossref[crossref.doi.notna() & crossref.abstract.notna()]\n",
    "crossrefRemaining = crossref[~(crossref.doi.notna() & crossref.abstract.notna())]\n",
    "gscholarToAdd = gscholar[gscholar.doi.notna() & gscholar.abstract.notna()]\n",
    "gscholarRemaining = gscholar[~(gscholar.doi.notna() & gscholar.abstract.notna())]\n",
    "scopusToAdd = scopus[scopus.doi.notna() & scopus.abstract.notna()]\n",
    "scopusRemaining = scopus[~(scopus.doi.notna() & scopus.abstract.notna())]"
   ]
  },
  {
   "cell_type": "code",
   "execution_count": 64,
   "metadata": {
    "ExecuteTime": {
     "end_time": "2021-11-06T21:02:36.300146Z",
     "start_time": "2021-11-06T21:02:36.268515Z"
    }
   },
   "outputs": [],
   "source": [
    "#Concating unique DOI records that contain abstracts\n",
    "collated = pubmed[pubmed.doi.notna() & pubmed.abstract.notna()]\n",
    "collated = pd.concat([collated, crossrefToAdd[~crossrefToAdd['doi'].isin(pubmed.doi)]])\n",
    "collated = pd.concat([collated, scopusToAdd[~scopusToAdd['doi'].isin(collated.doi)]])\n",
    "collated = pd.concat([collated, gscholarToAdd[~gscholarToAdd['doi'].isin(collated.doi)]])"
   ]
  },
  {
   "cell_type": "code",
   "execution_count": 65,
   "metadata": {
    "ExecuteTime": {
     "end_time": "2021-11-06T21:04:09.501095Z",
     "start_time": "2021-11-06T21:02:37.101259Z"
    }
   },
   "outputs": [],
   "source": [
    "#add language of abstracts, titles and journal names\n",
    "collated['publicationLanguage'] = collated.publication.apply(detect)\n",
    "collated['titleLanguage'] = collated.title.apply(detect)\n",
    "collated['abstractLanguage'] = collated.abstract.apply(detect)\n",
    "\n",
    "#reset index\n",
    "collated.reset_index(drop = True, inplace=True)"
   ]
  },
  {
   "cell_type": "code",
   "execution_count": 66,
   "metadata": {
    "ExecuteTime": {
     "end_time": "2021-11-06T21:04:09.966453Z",
     "start_time": "2021-11-06T21:04:09.948924Z"
    }
   },
   "outputs": [
    {
     "name": "stdout",
     "output_type": "stream",
     "text": [
      "<class 'pandas.core.frame.DataFrame'>\n",
      "RangeIndex: 4615 entries, 0 to 4614\n",
      "Data columns (total 16 columns):\n",
      " #   Column               Non-Null Count  Dtype  \n",
      "---  ------               --------------  -----  \n",
      " 0   publication          4615 non-null   object \n",
      " 1   title                4615 non-null   object \n",
      " 2   authors              4610 non-null   object \n",
      " 3   doi                  4615 non-null   object \n",
      " 4   year                 4615 non-null   float64\n",
      " 5   cites                4615 non-null   int64  \n",
      " 6   type                 4615 non-null   object \n",
      " 7   abstract             4615 non-null   object \n",
      " 8   abstractLength       4615 non-null   float64\n",
      " 9   pubmed               4615 non-null   int64  \n",
      " 10  gscholar             4615 non-null   int64  \n",
      " 11  crossref             4615 non-null   int64  \n",
      " 12  scopus               4615 non-null   int64  \n",
      " 13  publicationLanguage  4615 non-null   object \n",
      " 14  titleLanguage        4615 non-null   object \n",
      " 15  abstractLanguage     4615 non-null   object \n",
      "dtypes: float64(2), int64(5), object(9)\n",
      "memory usage: 577.0+ KB\n"
     ]
    }
   ],
   "source": [
    "collated.info()"
   ]
  },
  {
   "cell_type": "markdown",
   "metadata": {},
   "source": [
    "#### Records that have DOI but no abstract"
   ]
  },
  {
   "cell_type": "markdown",
   "metadata": {},
   "source": [
    "Next we build a dataframe of records that have unique DOIs but no abstract. This will be the list of abstracts we will attempt to scrape and add to the dataframe of existing abstracts."
   ]
  },
  {
   "cell_type": "code",
   "execution_count": 67,
   "metadata": {
    "ExecuteTime": {
     "end_time": "2021-11-06T21:05:03.024167Z",
     "start_time": "2021-11-06T21:05:02.990171Z"
    }
   },
   "outputs": [],
   "source": [
    "scraped = pubmed[pubmed.doi.notna() & pubmed.abstract.isna()]\n",
    "crossrefToAdd = crossrefRemaining[~(crossrefRemaining['doi'].isin(collated.doi) | crossrefRemaining['doi'].isin(scraped.doi))]\n",
    "scraped = pd.concat([scraped, crossrefToAdd])\n",
    "scopusToAdd = scopusRemaining[~(scopusRemaining['doi'].isin(collated.doi) | scopusRemaining['doi'].isin(scraped.doi))]\n",
    "scraped = pd.concat([scraped, scopusToAdd])\n",
    "gscholarToAdd = gscholarRemaining[~(gscholarRemaining['doi'].isin(collated.doi) | gscholarRemaining['doi'].isin(scraped.doi))]\n",
    "scraped = pd.concat([scraped, gscholarToAdd])"
   ]
  },
  {
   "cell_type": "code",
   "execution_count": 68,
   "metadata": {
    "ExecuteTime": {
     "end_time": "2021-11-06T21:06:03.162267Z",
     "start_time": "2021-11-06T21:05:06.815836Z"
    }
   },
   "outputs": [],
   "source": [
    "#add language of abstracts, titles and journal names\n",
    "scraped['publicationLanguage'] = scraped.publication.apply(detect)\n",
    "scraped['titleLanguage'] = scraped.title.apply(detect)\n",
    "scraped['abstractLanguage'] = np.NaN\n",
    "\n",
    "#Sort by number of times journal appears in dataset\n",
    "scraped = scraped.iloc[scraped.groupby('publication').publication.transform('size').mul(-1).argsort(kind='mergesort')]\n",
    "\n",
    "# reset index\n",
    "scraped.reset_index(drop=True, inplace=True)"
   ]
  },
  {
   "cell_type": "code",
   "execution_count": 69,
   "metadata": {
    "ExecuteTime": {
     "end_time": "2021-11-06T21:06:03.647945Z",
     "start_time": "2021-11-06T21:06:03.635829Z"
    }
   },
   "outputs": [
    {
     "name": "stdout",
     "output_type": "stream",
     "text": [
      "<class 'pandas.core.frame.DataFrame'>\n",
      "RangeIndex: 4125 entries, 0 to 4124\n",
      "Data columns (total 16 columns):\n",
      " #   Column               Non-Null Count  Dtype  \n",
      "---  ------               --------------  -----  \n",
      " 0   publication          4125 non-null   object \n",
      " 1   title                4125 non-null   object \n",
      " 2   authors              3927 non-null   object \n",
      " 3   doi                  4125 non-null   object \n",
      " 4   year                 4125 non-null   float64\n",
      " 5   cites                4125 non-null   int64  \n",
      " 6   type                 4125 non-null   object \n",
      " 7   abstract             0 non-null      object \n",
      " 8   abstractLength       0 non-null      float64\n",
      " 9   pubmed               4125 non-null   int64  \n",
      " 10  gscholar             4125 non-null   int64  \n",
      " 11  crossref             4125 non-null   int64  \n",
      " 12  scopus               4125 non-null   int64  \n",
      " 13  publicationLanguage  4125 non-null   object \n",
      " 14  titleLanguage        4125 non-null   object \n",
      " 15  abstractLanguage     0 non-null      float64\n",
      "dtypes: float64(3), int64(5), object(8)\n",
      "memory usage: 515.8+ KB\n"
     ]
    }
   ],
   "source": [
    "scraped.info()"
   ]
  },
  {
   "cell_type": "code",
   "execution_count": 70,
   "metadata": {
    "ExecuteTime": {
     "end_time": "2021-11-06T21:06:04.136175Z",
     "start_time": "2021-11-06T21:06:04.132004Z"
    }
   },
   "outputs": [
    {
     "name": "stdout",
     "output_type": "stream",
     "text": [
      "Records left after merging records: 8740\n",
      "Records with abstracts: 4615\n",
      "Abstracts to seek to retrieve via scraping: 4125\n",
      "Non unique records removed: 4606\n"
     ]
    }
   ],
   "source": [
    "oldtotal = total\n",
    "total = len(collated) + len(scraped)\n",
    "toScrape = len(scraped)\n",
    "print('Records left after merging records:', total)\n",
    "print(\"Records with abstracts:\", len(collated))\n",
    "print(\"Abstracts to seek to retrieve via scraping:\", toScrape)\n",
    "print('Non unique records removed:', oldtotal-total)"
   ]
  },
  {
   "cell_type": "code",
   "execution_count": 71,
   "metadata": {
    "ExecuteTime": {
     "end_time": "2021-11-06T21:08:46.309230Z",
     "start_time": "2021-11-06T21:08:46.301139Z"
    }
   },
   "outputs": [
    {
     "data": {
      "text/plain": [
       "clinical infectious diseases                         83\n",
       "médecine et maladies infectieuses                    72\n",
       "ticks and tick-borne diseases                        58\n",
       "journal of medical entomology                        56\n",
       "infection and immunity                               50\n",
       "                                                     ..\n",
       "journal of veterinary emergency and critical care     1\n",
       "journal of the history of economic thought            1\n",
       "stroke                                                1\n",
       "canadian journal of zoology                           1\n",
       "case reports in clinical medicine                     1\n",
       "Name: publication, Length: 1390, dtype: int64"
      ]
     },
     "execution_count": 71,
     "metadata": {},
     "output_type": "execute_result"
    }
   ],
   "source": [
    "scraped.publication.value_counts()"
   ]
  },
  {
   "cell_type": "code",
   "execution_count": 72,
   "metadata": {
    "ExecuteTime": {
     "end_time": "2021-11-06T21:08:54.577372Z",
     "start_time": "2021-11-06T21:08:54.570148Z"
    }
   },
   "outputs": [],
   "source": [
    "del crossref\n",
    "del crossrefRemaining\n",
    "del crossrefToAdd\n",
    "del gscholar\n",
    "del gscholarRemaining\n",
    "del gscholarToAdd\n",
    "del scopus\n",
    "del scopusRemaining\n",
    "del scopusToAdd\n",
    "del pubmed"
   ]
  },
  {
   "cell_type": "markdown",
   "metadata": {},
   "source": [
    "### Saving New Dataframes"
   ]
  },
  {
   "cell_type": "code",
   "execution_count": 73,
   "metadata": {
    "ExecuteTime": {
     "end_time": "2021-11-06T21:08:56.851158Z",
     "start_time": "2021-11-06T21:08:56.494804Z"
    }
   },
   "outputs": [],
   "source": [
    "collated.to_csv('collated.csv')\n",
    "scraped.to_csv('scraped.csv')"
   ]
  },
  {
   "cell_type": "markdown",
   "metadata": {},
   "source": [
    "## Scraping"
   ]
  },
  {
   "cell_type": "code",
   "execution_count": 74,
   "metadata": {
    "ExecuteTime": {
     "end_time": "2021-11-06T21:09:03.097166Z",
     "start_time": "2021-11-06T21:09:02.849154Z"
    }
   },
   "outputs": [],
   "source": [
    "import requests                 # How Python gets the webpages\n",
    "from bs4 import BeautifulSoup   # Creates structured, searchable object\n",
    "import urllib                   # useful for cleaning/processing URLs"
   ]
  },
  {
   "cell_type": "markdown",
   "metadata": {},
   "source": [
    "### Formatting Vagaries"
   ]
  },
  {
   "cell_type": "markdown",
   "metadata": {},
   "source": [
    "In each of the main sources of articles, the parent webpage (e.g. Science Direct, plos.org) tags Abstract text in different ways. \n",
    "\n",
    "For example:\n",
    "* Science Direct (Ticks and Tick-borne Diseases): ``<h2 class=\"section-title u-h3 u-margin-l-top u-margin-xs-bottom\">Abstract</h2><div id=\"abst0005\">``\n",
    "* PLoS ONE: ``<h2>Abstract\\</h2>\\<div class=\"abstract-content\">``\n",
    "\n",
    "* Vector-Borne and Zoonotic Diseases: ``<h2>Abstract</h2></div><div class=\"abstractSection abstractInFull\">``\n",
    "\n",
    "* Parasites & Vectors: ``<h2 class=\"c-article-section__title js-section-title js-c-reading-companion-sections-item\" id=\"Abs1\">Abstract</h2><div class=\"c-article-section__content\" id=\"Abs1-content\">``\n",
    "\n",
    "In addition, some sites, notably Science Direct/Elsevier employ a redirect not picked up by the *Requests* package in Python because they use JavaScript to redirect from the page that the get request lands on. Additional handling is required in these cases to extract the actual URL, visit it and extract the Abstract text. "
   ]
  },
  {
   "cell_type": "markdown",
   "metadata": {},
   "source": [
    "### Scraping Function"
   ]
  },
  {
   "cell_type": "code",
   "execution_count": 75,
   "metadata": {
    "ExecuteTime": {
     "end_time": "2021-11-06T21:09:22.193296Z",
     "start_time": "2021-11-06T21:09:22.175862Z"
    }
   },
   "outputs": [],
   "source": [
    "def scrapeAbstracts(doi):\n",
    "    headers = {'User-Agent': \"Mozilla/5.0 (Macintosh; Intel Mac OS X 10_13_1) AppleWebKit/537.36 (K HTML, like Gecko) Chrome/61.0.3163.100 Safari/537.36\"\n",
    "              }\n",
    "    url = 'http://dx.doi.org/' + doi\n",
    "    try:\n",
    "        response = requests.get(url) \n",
    "    except requests.exceptions.RequestException as e:\n",
    "        return 'Error'\n",
    "        \n",
    "    if(response.status_code!=200):\n",
    "        return str(response.status_code)+ ' response'\n",
    "    \n",
    "    page = response.content\n",
    "    captalised = False\n",
    "    abstractHeadingStart = page.find(b'>Abstract<')\n",
    "    if abstractHeadingStart==-1: \n",
    "        abstractHeadingStart = page.find(b'>ABSTRACT<')\n",
    "        if abstractHeadingStart==-1:\n",
    "            redirect = page.find(b'redirect')\n",
    "            if redirect ==-1:\n",
    "                return 'No abstract found'\n",
    "            else:\n",
    "                URLstart = page.find(b'http', redirect)\n",
    "                URLend = page.find(b'\"', URLstart)\n",
    "                URLencoded = page[URLstart:URLend]\n",
    "                URLdecoded = URLencoded.decode('UTF-8')\n",
    "                redirectURL = urllib.parse.unquote(URLdecoded)\n",
    "                redirectURLshort = redirectURL[:redirectURL.find('?')]\n",
    "                try:\n",
    "                    response = requests.get(redirectURL, headers=headers)\n",
    "                except requests.exceptions.RequestException as e:\n",
    "                    return 'Error after redirect'\n",
    "                if(response.status_code!=200):\n",
    "                    return 'No response'\n",
    "                page = response.content\n",
    "                abstractHeadingStart = page.find(b'>Abstract<')\n",
    "                if abstractHeadingStart==-1: \n",
    "                    return 'No abstract found'\n",
    "        else:\n",
    "            captalised=True\n",
    "    if (captalised):\n",
    "        lastMentionofAbstract = page.rfind(b'>ABSTRACT<')\n",
    "        if abstractHeadingStart != lastMentionofAbstract:\n",
    "            if page.find(b'>ABSTRACT</h')> abstractHeadingStart:\n",
    "                abstractHeadingStart = page.find(b'>ABSTRACT</h')\n",
    "        divTagStart = page.find(b'<div', abstractHeadingStart+len('>ABSTRACT<'))\n",
    "        \n",
    "    else:\n",
    "        lastMentionofAbstract = page.rfind(b'>Abstract<')\n",
    "        if abstractHeadingStart != lastMentionofAbstract:\n",
    "            if page.find(b'>Abstract</h')> abstractHeadingStart:\n",
    "                abstractHeadingStart = page.find(b'>Abstract</h')\n",
    "        divTagStart = page.find(b'<div', abstractHeadingStart+len('>Abstract<'))\n",
    "        if divTagStart - abstractHeadingStart > 200:\n",
    "            divTagStart = page.rfind(b'<div', 0, abstractHeadingStart)\n",
    "\n",
    "    try:        \n",
    "        divTagEnd = page.find(b'>', divTagStart)\n",
    "        divTag = page[divTagStart:divTagEnd]\n",
    "        divTagType = divTag[divTag.find(b' ')+1:divTag.find(b'=')].decode()\n",
    "        divTagAtrr = divTag[divTag.find(b'\"')+1:]\n",
    "        divTagAtrr = divTagAtrr[:divTagAtrr.find(b'\"')]\n",
    "        \n",
    "        scraping = BeautifulSoup(page, \"html\") \n",
    "        text = scraping.find(\"div\", attrs={divTagType: divTagAtrr})\n",
    "        for subTag in text.contents[:-1]:\n",
    "            if subTag.name is not None and subTag.name.startswith(\"h\"):\n",
    "                subTag.string = subTag.string + '.'\n",
    "\n",
    "    except AttributeError as error:\n",
    "        try:\n",
    "            headingTag = page[page.rfind(b'<',0, abstractHeadingStart):abstractHeadingStart]\n",
    "            headingTag = headingTag[:3]\n",
    "            abstractStart = page.find(b'>', abstractHeadingStart+len('>Abstract<'))+1\n",
    "            abstractEnd = page.find(headingTag,abstractStart)\n",
    "\n",
    "            scraping = BeautifulSoup(page[abstractStart:abstractEnd], \"html\") \n",
    "            text = scraping.get_text(strip=True)\n",
    "            return text\n",
    "        except TypeError as error:\n",
    "            return 'TypeError after Attribute Error'\n",
    "    except TypeError as error:\n",
    "        return 'TypeError'\n",
    "\n",
    "    return text.get_text(separator = ' ', strip=True)"
   ]
  },
  {
   "cell_type": "code",
   "execution_count": 76,
   "metadata": {
    "ExecuteTime": {
     "end_time": "2021-11-06T21:09:23.830437Z",
     "start_time": "2021-11-06T21:09:23.820549Z"
    }
   },
   "outputs": [
    {
     "name": "stdout",
     "output_type": "stream",
     "text": [
      "There are 1390 different publications in the scraping dataset.\n",
      "807 of them appear only once.\n",
      "Another 231 appear just twice.\n"
     ]
    }
   ],
   "source": [
    "print('There are', scraped.publication.nunique(), 'different publications in the scraping dataset.')\n",
    "print(sum(scraped.publication.value_counts()==1), \"of them appear only once.\")\n",
    "print(\"Another\", sum(scraped.publication.value_counts()==2), \"appear just twice.\")"
   ]
  },
  {
   "cell_type": "code",
   "execution_count": 77,
   "metadata": {
    "ExecuteTime": {
     "end_time": "2021-11-06T21:09:32.478499Z",
     "start_time": "2021-11-06T21:09:32.471632Z"
    }
   },
   "outputs": [
    {
     "data": {
      "text/plain": [
       "clinical infectious diseases         83\n",
       "médecine et maladies infectieuses    72\n",
       "ticks and tick-borne diseases        58\n",
       "journal of medical entomology        56\n",
       "infection and immunity               50\n",
       "parasites & vectors                  47\n",
       "journal of clinical microbiology     45\n",
       "plos one                             45\n",
       "emerging infectious diseases         41\n",
       "new england journal of medicine      40\n",
       "Name: publication, dtype: int64"
      ]
     },
     "execution_count": 77,
     "metadata": {},
     "output_type": "execute_result"
    }
   ],
   "source": [
    "scraped.publication.value_counts()[:10]"
   ]
  },
  {
   "cell_type": "code",
   "execution_count": null,
   "metadata": {
    "ExecuteTime": {
     "start_time": "2021-11-06T21:09:49.693Z"
    }
   },
   "outputs": [],
   "source": [
    "scraped['abstract']= scraped.doi.apply(scrapeAbstracts)"
   ]
  },
  {
   "cell_type": "code",
   "execution_count": 69,
   "metadata": {
    "ExecuteTime": {
     "end_time": "2021-10-31T13:05:45.084613Z",
     "start_time": "2021-10-31T13:05:45.080133Z"
    }
   },
   "outputs": [],
   "source": [
    "scraped['abstractLength']=scraped.abstract.apply(len)"
   ]
  },
  {
   "cell_type": "code",
   "execution_count": 70,
   "metadata": {
    "ExecuteTime": {
     "end_time": "2021-10-31T13:05:45.180529Z",
     "start_time": "2021-10-31T13:05:45.086969Z"
    }
   },
   "outputs": [],
   "source": [
    "scraped.to_csv('scrapedAbstractswithMisses.csv')"
   ]
  },
  {
   "cell_type": "markdown",
   "metadata": {},
   "source": [
    "## Processing Scraped Data"
   ]
  },
  {
   "cell_type": "code",
   "execution_count": 130,
   "metadata": {
    "ExecuteTime": {
     "end_time": "2021-11-06T09:17:54.546456Z",
     "start_time": "2021-11-06T09:17:54.402611Z"
    }
   },
   "outputs": [],
   "source": [
    "# scraped = pd.read_csv('scrapedAbstractswithMisses.csv', index_col=0)\n",
    "# collated = pd.read_csv('collated.csv', index_col=0)\n",
    "# total = 5560\n",
    "# toScrape = 2598"
   ]
  },
  {
   "cell_type": "code",
   "execution_count": 131,
   "metadata": {
    "ExecuteTime": {
     "end_time": "2021-11-06T09:18:02.288648Z",
     "start_time": "2021-11-06T09:18:02.256212Z"
    }
   },
   "outputs": [
    {
     "data": {
      "text/html": [
       "<div>\n",
       "<style scoped>\n",
       "    .dataframe tbody tr th:only-of-type {\n",
       "        vertical-align: middle;\n",
       "    }\n",
       "\n",
       "    .dataframe tbody tr th {\n",
       "        vertical-align: top;\n",
       "    }\n",
       "\n",
       "    .dataframe thead th {\n",
       "        text-align: right;\n",
       "    }\n",
       "</style>\n",
       "<table border=\"1\" class=\"dataframe\">\n",
       "  <thead>\n",
       "    <tr style=\"text-align: right;\">\n",
       "      <th></th>\n",
       "      <th>year</th>\n",
       "      <th>cites</th>\n",
       "      <th>abstractLength</th>\n",
       "      <th>pubmed</th>\n",
       "      <th>gscholar</th>\n",
       "      <th>crossref</th>\n",
       "      <th>scopus</th>\n",
       "      <th>abstractLanguage</th>\n",
       "    </tr>\n",
       "  </thead>\n",
       "  <tbody>\n",
       "    <tr>\n",
       "      <th>count</th>\n",
       "      <td>2598.000000</td>\n",
       "      <td>2598.000000</td>\n",
       "      <td>2598.000000</td>\n",
       "      <td>2598.000000</td>\n",
       "      <td>2598.000000</td>\n",
       "      <td>2598.000000</td>\n",
       "      <td>2598.000000</td>\n",
       "      <td>0.0</td>\n",
       "    </tr>\n",
       "    <tr>\n",
       "      <th>mean</th>\n",
       "      <td>2015.843341</td>\n",
       "      <td>10.958430</td>\n",
       "      <td>657.493457</td>\n",
       "      <td>0.049654</td>\n",
       "      <td>0.035412</td>\n",
       "      <td>0.738645</td>\n",
       "      <td>0.176289</td>\n",
       "      <td>NaN</td>\n",
       "    </tr>\n",
       "    <tr>\n",
       "      <th>std</th>\n",
       "      <td>3.240177</td>\n",
       "      <td>25.893978</td>\n",
       "      <td>2691.186733</td>\n",
       "      <td>0.217270</td>\n",
       "      <td>0.184854</td>\n",
       "      <td>0.439457</td>\n",
       "      <td>0.381140</td>\n",
       "      <td>NaN</td>\n",
       "    </tr>\n",
       "    <tr>\n",
       "      <th>min</th>\n",
       "      <td>2010.000000</td>\n",
       "      <td>0.000000</td>\n",
       "      <td>0.000000</td>\n",
       "      <td>0.000000</td>\n",
       "      <td>0.000000</td>\n",
       "      <td>0.000000</td>\n",
       "      <td>0.000000</td>\n",
       "      <td>NaN</td>\n",
       "    </tr>\n",
       "    <tr>\n",
       "      <th>25%</th>\n",
       "      <td>2013.000000</td>\n",
       "      <td>0.000000</td>\n",
       "      <td>12.000000</td>\n",
       "      <td>0.000000</td>\n",
       "      <td>0.000000</td>\n",
       "      <td>0.000000</td>\n",
       "      <td>0.000000</td>\n",
       "      <td>NaN</td>\n",
       "    </tr>\n",
       "    <tr>\n",
       "      <th>50%</th>\n",
       "      <td>2016.000000</td>\n",
       "      <td>1.000000</td>\n",
       "      <td>17.000000</td>\n",
       "      <td>0.000000</td>\n",
       "      <td>0.000000</td>\n",
       "      <td>1.000000</td>\n",
       "      <td>0.000000</td>\n",
       "      <td>NaN</td>\n",
       "    </tr>\n",
       "    <tr>\n",
       "      <th>75%</th>\n",
       "      <td>2019.000000</td>\n",
       "      <td>12.000000</td>\n",
       "      <td>990.000000</td>\n",
       "      <td>0.000000</td>\n",
       "      <td>0.000000</td>\n",
       "      <td>1.000000</td>\n",
       "      <td>0.000000</td>\n",
       "      <td>NaN</td>\n",
       "    </tr>\n",
       "    <tr>\n",
       "      <th>max</th>\n",
       "      <td>2021.000000</td>\n",
       "      <td>366.000000</td>\n",
       "      <td>90380.000000</td>\n",
       "      <td>1.000000</td>\n",
       "      <td>1.000000</td>\n",
       "      <td>1.000000</td>\n",
       "      <td>1.000000</td>\n",
       "      <td>NaN</td>\n",
       "    </tr>\n",
       "  </tbody>\n",
       "</table>\n",
       "</div>"
      ],
      "text/plain": [
       "              year        cites  abstractLength       pubmed     gscholar  \\\n",
       "count  2598.000000  2598.000000     2598.000000  2598.000000  2598.000000   \n",
       "mean   2015.843341    10.958430      657.493457     0.049654     0.035412   \n",
       "std       3.240177    25.893978     2691.186733     0.217270     0.184854   \n",
       "min    2010.000000     0.000000        0.000000     0.000000     0.000000   \n",
       "25%    2013.000000     0.000000       12.000000     0.000000     0.000000   \n",
       "50%    2016.000000     1.000000       17.000000     0.000000     0.000000   \n",
       "75%    2019.000000    12.000000      990.000000     0.000000     0.000000   \n",
       "max    2021.000000   366.000000    90380.000000     1.000000     1.000000   \n",
       "\n",
       "          crossref       scopus  abstractLanguage  \n",
       "count  2598.000000  2598.000000               0.0  \n",
       "mean      0.738645     0.176289               NaN  \n",
       "std       0.439457     0.381140               NaN  \n",
       "min       0.000000     0.000000               NaN  \n",
       "25%       0.000000     0.000000               NaN  \n",
       "50%       1.000000     0.000000               NaN  \n",
       "75%       1.000000     0.000000               NaN  \n",
       "max       1.000000     1.000000               NaN  "
      ]
     },
     "execution_count": 131,
     "metadata": {},
     "output_type": "execute_result"
    }
   ],
   "source": [
    "scraped.describe()"
   ]
  },
  {
   "cell_type": "markdown",
   "metadata": {},
   "source": [
    "### Non Unique Counts for Scraped Abstracts"
   ]
  },
  {
   "cell_type": "code",
   "execution_count": 132,
   "metadata": {
    "ExecuteTime": {
     "end_time": "2021-11-06T09:18:07.196768Z",
     "start_time": "2021-11-06T09:18:07.183801Z"
    },
    "scrolled": false
   },
   "outputs": [
    {
     "data": {
      "text/plain": [
       "No abstract found                                                                                                                                                                                                                                                                                                                                                                                                                                                                                                                                                                                                                                                                                                                                                                                                                                                                                                                                                                                                                                                  704\n",
       "403 response                                                                                                                                                                                                                                                                                                                                                                                                                                                                                                                                                                                                                                                                                                                                                                                                                                                                                                                                                                                                                                                       238\n",
       "503 response                                                                                                                                                                                                                                                                                                                                                                                                                                                                                                                                                                                                                                                                                                                                                                                                                                                                                                                                                                                                                                                       181\n",
       "No response                                                                                                                                                                                                                                                                                                                                                                                                                                                                                                                                                                                                                                                                                                                                                                                                                                                                                                                                                                                                                                                         73\n",
       "Error after redirect                                                                                                                                                                                                                                                                                                                                                                                                                                                                                                                                                                                                                                                                                                                                                                                                                                                                                                                                                                                                                                                27\n",
       "404 response                                                                                                                                                                                                                                                                                                                                                                                                                                                                                                                                                                                                                                                                                                                                                                                                                                                                                                                                                                                                                                                        22\n",
       "Previous Abstract Next Abstract                                                                                                                                                                                                                                                                                                                                                                                                                                                                                                                                                                                                                                                                                                                                                                                                                                                                                                                                                                                                                                     20\n",
       "This Journal Full Site                                                                                                                                                                                                                                                                                                                                                                                                                                                                                                                                                                                                                                                                                                                                                                                                                                                                                                                                                                                                                                              19\n",
       "TypeError                                                                                                                                                                                                                                                                                                                                                                                                                                                                                                                                                                                                                                                                                                                                                                                                                                                                                                                                                                                                                                                           16\n",
       "406 response                                                                                                                                                                                                                                                                                                                                                                                                                                                                                                                                                                                                                                                                                                                                                                                                                                                                                                                                                                                                                                                         9\n",
       "Error                                                                                                                                                                                                                                                                                                                                                                                                                                                                                                                                                                                                                                                                                                                                                                                                                                                                                                                                                                                                                                                                7\n",
       "OpenUrl FREE Full Text                                                                                                                                                                                                                                                                                                                                                                                                                                                                                                                                                                                                                                                                                                                                                                                                                                                                                                                                                                                                                                               5\n",
       "This Journal Full site                                                                                                                                                                                                                                                                                                                                                                                                                                                                                                                                                                                                                                                                                                                                                                                                                                                                                                                                                                                                                                               5\n",
       "OpenUrl CrossRef PubMed                                                                                                                                                                                                                                                                                                                                                                                                                                                                                                                                                                                                                                                                                                                                                                                                                                                                                                                                                                                                                                              5\n",
       "Abstract                                                                                                                                                                                                                                                                                                                                                                                                                                                                                                                                                                                                                                                                                                                                                                                                                                                                                                                                                                                                                                                             4\n",
       "Format Abstract PubMed PMID                                                                                                                                                                                                                                                                                                                                                                                                                                                                                                                                                                                                                                                                                                                                                                                                                                                                                                                                                                                                                                          3\n",
       "Article preview. Abstract Section snippets Recommended articles (6)                                                                                                                                                                                                                                                                                                                                                                                                                                                                                                                                                                                                                                                                                                                                                                                                                                                                                                                                                                                                  3\n",
       "Home About us My Profile Registration Products Journals Subject Collections Archives UGC-Care/Scopus/WOS Listed Journals Directory Complete Website Article\\r\\n                Submission Usage Statistics Price List\\r\\n                2022 Contact Us Tutorial FAQs Guidelines Login/Register                                                                                                                                                                                                                                                                                                                                                                                                                                                                                                                                                                                                                                                                                                                                                                     3\n",
       "Abstract References PDF Cited By                                                                                                                                                                                                                                                                                                                                                                                                                                                                                                                                                                                                                                                                                                                                                                                                                                                                                                                                                                                                                                     3\n",
       "OpenUrl PubMed                                                                                                                                                                                                                                                                                                                                                                                                                                                                                                                                                                                                                                                                                                                                                                                                                                                                                                                                                                                                                                                       2\n",
       "Article overview                                                                                                                                                                                                                                                                                                                                                                                                                                                                                                                                                                                                                                                                                                                                                                                                                                                                                                                                                                                                                                                     2\n",
       "Buy Article Permissions and Reprints Wenn die Tage wieder wärmer werden, beginnt auch die Hochsaison der Zecken. Neben der Frühsommer-Meningoenzephalitis (FSME) ist vor allem die Borreliose ein gefürchtetes Andenken an den Zeckenbiss. Bei Borrelien handelt es sich um Bakterien aus der Gruppe der Spirochäten, die bei Menschen und Säugetieren verschiedene Erkrankungen auslösen können; übertragen werden sie meist durch den Biss von Zecken. Spirochäten sind Gram-negative korkenzieherartige Bakterien, die sich mit Hilfe sogenannter Endoflagellen aktiv fortbewegen können. Entdeckt wurden sie durch den französischen Bakteriologen Amédée Borrel (1867–1936), der an der Universität von Montpellier studierte und dort auch 1890 promovierte. Anschließend ging er ans Pariser Pasteur-Institut, wo er sich vorwiegend mit der Tuberkulose-Forschung sowie gemeinsam mit Albert Calmette (1863–1933) und Alexandre Yersin (1863–1943, nach ihm sind die Yersinien benannt) mit der Suche nach einem Impfstoff gegen die Pest beschäftigte.      2\n",
       "Abstract. With a growing world population and increasingly demanding consumers, the production of sufficient protein from livestock, poultry, and fish represents a serious challenge for the future. Approximately 1,900 insect species are eaten worldwide, mainly in ... Read More Full Text HTML Download PDF                                                                                                                                                                                                                                                                                                                                                                                                                                                                                                                                                                                                                                                                                                                                                    2\n",
       "abortion pill online. Secure abortion pill tablets. There he could simply order pill for abortion online generic.There we could simply order generic site .                                                                                                                                                                                                                                                                                                                                                                                                                                                                                                                                                                                                                                                                                                                                                                                                                                                                                                          2\n",
       "OpenUrl Abstract / FREE Full Text                                                                                                                                                                                                                                                                                                                                                                                                                                                                                                                                                                                                                                                                                                                                                                                                                                                                                                                                                                                                                                    2\n",
       "HTML view is not available for this content. However, as you have access to this content, a full PDF is available via the ‘Save PDF’ action button.                                                                                                                                                                                                                                                                                                                                                                                                                                                                                                                                                                                                                                                                                                                                                                                                                                                                                                                  2\n",
       "Name: abstract, dtype: int64"
      ]
     },
     "execution_count": 132,
     "metadata": {},
     "output_type": "execute_result"
    }
   ],
   "source": [
    "#Show all value counts for abstracts where value is more than 1 (i.e. non-unique)\n",
    "#We will drop all of these records as no meainingful abstracts have been found\n",
    "scraped[scraped.groupby(\"abstract\")['abstract'].transform('size') > 1].abstract.value_counts()"
   ]
  },
  {
   "cell_type": "code",
   "execution_count": 133,
   "metadata": {
    "ExecuteTime": {
     "end_time": "2021-11-06T09:18:08.517353Z",
     "start_time": "2021-11-06T09:18:08.510710Z"
    }
   },
   "outputs": [],
   "source": [
    "#Drop non-unique abstract values\n",
    "scraped = scraped[scraped.groupby(\"abstract\")['abstract'].transform('size') == 1]"
   ]
  },
  {
   "cell_type": "code",
   "execution_count": 134,
   "metadata": {
    "ExecuteTime": {
     "end_time": "2021-11-06T09:18:09.227369Z",
     "start_time": "2021-11-06T09:18:09.208116Z"
    }
   },
   "outputs": [],
   "source": [
    "# Drop any abstracts with no alpha charcters\n",
    "scraped = scraped[scraped.abstract.str.lower().str.islower()] "
   ]
  },
  {
   "cell_type": "code",
   "execution_count": 135,
   "metadata": {
    "ExecuteTime": {
     "end_time": "2021-11-06T09:18:09.847883Z",
     "start_time": "2021-11-06T09:18:09.817140Z"
    }
   },
   "outputs": [
    {
     "data": {
      "text/html": [
       "<div>\n",
       "<style scoped>\n",
       "    .dataframe tbody tr th:only-of-type {\n",
       "        vertical-align: middle;\n",
       "    }\n",
       "\n",
       "    .dataframe tbody tr th {\n",
       "        vertical-align: top;\n",
       "    }\n",
       "\n",
       "    .dataframe thead th {\n",
       "        text-align: right;\n",
       "    }\n",
       "</style>\n",
       "<table border=\"1\" class=\"dataframe\">\n",
       "  <thead>\n",
       "    <tr style=\"text-align: right;\">\n",
       "      <th></th>\n",
       "      <th>year</th>\n",
       "      <th>cites</th>\n",
       "      <th>abstractLength</th>\n",
       "      <th>pubmed</th>\n",
       "      <th>gscholar</th>\n",
       "      <th>crossref</th>\n",
       "      <th>scopus</th>\n",
       "      <th>abstractLanguage</th>\n",
       "    </tr>\n",
       "  </thead>\n",
       "  <tbody>\n",
       "    <tr>\n",
       "      <th>count</th>\n",
       "      <td>981.000000</td>\n",
       "      <td>981.000000</td>\n",
       "      <td>981.000000</td>\n",
       "      <td>981.000000</td>\n",
       "      <td>981.000000</td>\n",
       "      <td>981.000000</td>\n",
       "      <td>981.000000</td>\n",
       "      <td>0.0</td>\n",
       "    </tr>\n",
       "    <tr>\n",
       "      <th>mean</th>\n",
       "      <td>2015.768603</td>\n",
       "      <td>17.491335</td>\n",
       "      <td>1673.760449</td>\n",
       "      <td>0.006116</td>\n",
       "      <td>0.071356</td>\n",
       "      <td>0.612640</td>\n",
       "      <td>0.309888</td>\n",
       "      <td>NaN</td>\n",
       "    </tr>\n",
       "    <tr>\n",
       "      <th>std</th>\n",
       "      <td>3.316390</td>\n",
       "      <td>29.700910</td>\n",
       "      <td>3973.780779</td>\n",
       "      <td>0.078006</td>\n",
       "      <td>0.257549</td>\n",
       "      <td>0.487395</td>\n",
       "      <td>0.462683</td>\n",
       "      <td>NaN</td>\n",
       "    </tr>\n",
       "    <tr>\n",
       "      <th>min</th>\n",
       "      <td>2010.000000</td>\n",
       "      <td>0.000000</td>\n",
       "      <td>7.000000</td>\n",
       "      <td>0.000000</td>\n",
       "      <td>0.000000</td>\n",
       "      <td>0.000000</td>\n",
       "      <td>0.000000</td>\n",
       "      <td>NaN</td>\n",
       "    </tr>\n",
       "    <tr>\n",
       "      <th>25%</th>\n",
       "      <td>2013.000000</td>\n",
       "      <td>1.000000</td>\n",
       "      <td>741.000000</td>\n",
       "      <td>0.000000</td>\n",
       "      <td>0.000000</td>\n",
       "      <td>0.000000</td>\n",
       "      <td>0.000000</td>\n",
       "      <td>NaN</td>\n",
       "    </tr>\n",
       "    <tr>\n",
       "      <th>50%</th>\n",
       "      <td>2016.000000</td>\n",
       "      <td>9.000000</td>\n",
       "      <td>1342.000000</td>\n",
       "      <td>0.000000</td>\n",
       "      <td>0.000000</td>\n",
       "      <td>1.000000</td>\n",
       "      <td>0.000000</td>\n",
       "      <td>NaN</td>\n",
       "    </tr>\n",
       "    <tr>\n",
       "      <th>75%</th>\n",
       "      <td>2019.000000</td>\n",
       "      <td>22.000000</td>\n",
       "      <td>1782.000000</td>\n",
       "      <td>0.000000</td>\n",
       "      <td>0.000000</td>\n",
       "      <td>1.000000</td>\n",
       "      <td>1.000000</td>\n",
       "      <td>NaN</td>\n",
       "    </tr>\n",
       "    <tr>\n",
       "      <th>max</th>\n",
       "      <td>2021.000000</td>\n",
       "      <td>366.000000</td>\n",
       "      <td>90380.000000</td>\n",
       "      <td>1.000000</td>\n",
       "      <td>1.000000</td>\n",
       "      <td>1.000000</td>\n",
       "      <td>1.000000</td>\n",
       "      <td>NaN</td>\n",
       "    </tr>\n",
       "  </tbody>\n",
       "</table>\n",
       "</div>"
      ],
      "text/plain": [
       "              year       cites  abstractLength      pubmed    gscholar  \\\n",
       "count   981.000000  981.000000      981.000000  981.000000  981.000000   \n",
       "mean   2015.768603   17.491335     1673.760449    0.006116    0.071356   \n",
       "std       3.316390   29.700910     3973.780779    0.078006    0.257549   \n",
       "min    2010.000000    0.000000        7.000000    0.000000    0.000000   \n",
       "25%    2013.000000    1.000000      741.000000    0.000000    0.000000   \n",
       "50%    2016.000000    9.000000     1342.000000    0.000000    0.000000   \n",
       "75%    2019.000000   22.000000     1782.000000    0.000000    0.000000   \n",
       "max    2021.000000  366.000000    90380.000000    1.000000    1.000000   \n",
       "\n",
       "         crossref      scopus  abstractLanguage  \n",
       "count  981.000000  981.000000               0.0  \n",
       "mean     0.612640    0.309888               NaN  \n",
       "std      0.487395    0.462683               NaN  \n",
       "min      0.000000    0.000000               NaN  \n",
       "25%      0.000000    0.000000               NaN  \n",
       "50%      1.000000    0.000000               NaN  \n",
       "75%      1.000000    1.000000               NaN  \n",
       "max      1.000000    1.000000               NaN  "
      ]
     },
     "execution_count": 135,
     "metadata": {},
     "output_type": "execute_result"
    }
   ],
   "source": [
    "scraped.describe()"
   ]
  },
  {
   "cell_type": "markdown",
   "metadata": {},
   "source": [
    "### Removing extremely short 'abstracts'"
   ]
  },
  {
   "cell_type": "code",
   "execution_count": 136,
   "metadata": {
    "ExecuteTime": {
     "end_time": "2021-11-06T09:18:10.743384Z",
     "start_time": "2021-11-06T09:18:10.739342Z"
    },
    "scrolled": false
   },
   "outputs": [],
   "source": [
    "# Scraped abstracts shorter than 300 characters include error messages and incomplete scrapings\n",
    "scraped = scraped[scraped.abstractLength>300]"
   ]
  },
  {
   "cell_type": "markdown",
   "metadata": {},
   "source": [
    "### Joining datasets"
   ]
  },
  {
   "cell_type": "code",
   "execution_count": 137,
   "metadata": {
    "ExecuteTime": {
     "end_time": "2021-11-06T09:18:11.600396Z",
     "start_time": "2021-11-06T09:18:11.593183Z"
    }
   },
   "outputs": [],
   "source": [
    "# Visualisation\n",
    "import seaborn as sns\n",
    "import matplotlib.pyplot as plt\n",
    "from pylab import rcParams\n",
    "\n",
    "%matplotlib inline\n",
    "rcParams['figure.figsize'] = 15, 10\n",
    "rcParams['axes.titlesize'] = 20\n",
    "rcParams['axes.labelsize'] = 'large'\n",
    "rcParams['xtick.labelsize'] = 10\n",
    "rcParams['ytick.labelsize'] = 10\n",
    "rcParams['lines.linewidth'] = 2\n",
    "rcParams['font.size'] = 18"
   ]
  },
  {
   "cell_type": "code",
   "execution_count": 138,
   "metadata": {
    "ExecuteTime": {
     "end_time": "2021-11-06T09:18:12.204287Z",
     "start_time": "2021-11-06T09:18:12.200421Z"
    }
   },
   "outputs": [],
   "source": [
    "#adding column to track method of collection after records are joined\n",
    "collated['source']='collated'\n",
    "scraped['source']='scraped'"
   ]
  },
  {
   "cell_type": "code",
   "execution_count": 139,
   "metadata": {
    "ExecuteTime": {
     "end_time": "2021-11-06T09:18:14.548592Z",
     "start_time": "2021-11-06T09:18:14.540585Z"
    }
   },
   "outputs": [],
   "source": [
    "abstracts= pd.concat([collated, scraped])\n",
    "abstracts.reset_index(inplace=True, drop=True)"
   ]
  },
  {
   "cell_type": "code",
   "execution_count": 140,
   "metadata": {
    "ExecuteTime": {
     "end_time": "2021-11-06T09:18:15.419071Z",
     "start_time": "2021-11-06T09:18:15.416366Z"
    }
   },
   "outputs": [],
   "source": [
    "# abstracts['abstracts'] = abstracts.abstract.replace('<.*?>', '')"
   ]
  },
  {
   "cell_type": "code",
   "execution_count": 141,
   "metadata": {
    "ExecuteTime": {
     "end_time": "2021-11-06T09:18:15.894117Z",
     "start_time": "2021-11-06T09:18:15.890575Z"
    }
   },
   "outputs": [],
   "source": [
    "def clean_text(text):\n",
    "    text = re.sub('https?://\\S+|www\\.\\S+', '', text) #remove links\n",
    "    text = re.sub('<.*?>', '', text) #remove remaining html tags\n",
    "    text = unicodedata.normalize('NFKD', text) #remove non-bereaking space character\n",
    "    return text"
   ]
  },
  {
   "cell_type": "code",
   "execution_count": 142,
   "metadata": {
    "ExecuteTime": {
     "end_time": "2021-11-06T09:18:16.376106Z",
     "start_time": "2021-11-06T09:18:16.293036Z"
    }
   },
   "outputs": [],
   "source": [
    "abstracts['abstract'] = abstracts.abstract.apply(clean_text)"
   ]
  },
  {
   "cell_type": "code",
   "execution_count": 143,
   "metadata": {
    "ExecuteTime": {
     "end_time": "2021-11-06T09:18:16.812282Z",
     "start_time": "2021-11-06T09:18:16.773871Z"
    },
    "scrolled": true
   },
   "outputs": [],
   "source": [
    "#trim the start of abstracts if the word \"Abstract\" appears in the first 200 characters. It means there's superflous text at the begining of the abstract.\n",
    "\n",
    "for index, row in abstracts[abstracts.abstract.str.find('Abstract', 0, 200) != -1].iterrows():\n",
    "    text = row['abstract']\n",
    "    text = text[text.find('Abstract')+9:]\n",
    "    abstracts.at[index, 'abstract'] = text\n",
    "    abstracts.at[index, 'abstractLength'] = len(text)\n",
    "for index, row in abstracts[abstracts.abstract.str.find('ABSTRACT', 0, 200) != -1].iterrows():\n",
    "    text = row['abstract']\n",
    "    text = text[text.find('ABSTRACT')+9:]\n",
    "    abstracts.at[index, 'abstract'] = text\n",
    "    abstracts.at[index, 'abstractLength'] = len(text)"
   ]
  },
  {
   "cell_type": "markdown",
   "metadata": {},
   "source": [
    "### Abstract Lengths - Spotting Outliers"
   ]
  },
  {
   "cell_type": "code",
   "execution_count": 144,
   "metadata": {
    "ExecuteTime": {
     "end_time": "2021-11-06T09:18:18.183592Z",
     "start_time": "2021-11-06T09:18:17.938823Z"
    }
   },
   "outputs": [
    {
     "data": {
      "image/png": "[encoded data removed]",
      "text/plain": [
       "<Figure size 1080x720 with 1 Axes>"
      ]
     },
     "metadata": {
      "needs_background": "light"
     },
     "output_type": "display_data"
    }
   ],
   "source": [
    "sns.boxplot(y='source', x='abstractLength', data=abstracts)\n",
    "plt.title('Comparing Length of Abstracts - Collated v Scraped');"
   ]
  },
  {
   "cell_type": "code",
   "execution_count": 145,
   "metadata": {
    "ExecuteTime": {
     "end_time": "2021-11-06T09:18:19.154208Z",
     "start_time": "2021-11-06T09:18:18.933149Z"
    }
   },
   "outputs": [
    {
     "data": {
      "image/png": "[encoded data removed]",
      "text/plain": [
       "<Figure size 1080x720 with 1 Axes>"
      ]
     },
     "metadata": {
      "needs_background": "light"
     },
     "output_type": "display_data"
    }
   ],
   "source": [
    "sns.boxplot(x='abstractLength', data=scraped)\n",
    "plt.title('Length of Abstracts in the Scraped Dataset');"
   ]
  },
  {
   "cell_type": "code",
   "execution_count": 146,
   "metadata": {
    "ExecuteTime": {
     "end_time": "2021-11-06T09:18:19.894933Z",
     "start_time": "2021-11-06T09:18:19.671033Z"
    }
   },
   "outputs": [
    {
     "data": {
      "image/png": "[encoded data removed]",
      "text/plain": [
       "<Figure size 1080x720 with 1 Axes>"
      ]
     },
     "metadata": {
      "needs_background": "light"
     },
     "output_type": "display_data"
    }
   ],
   "source": [
    "sns.boxplot(x='abstractLength', data=collated)\n",
    "plt.title('Length of Abstracts in the Collated Dataset');"
   ]
  },
  {
   "cell_type": "code",
   "execution_count": 147,
   "metadata": {
    "ExecuteTime": {
     "end_time": "2021-11-06T09:18:20.610309Z",
     "start_time": "2021-11-06T09:18:20.593934Z"
    }
   },
   "outputs": [
    {
     "data": {
      "text/html": [
       "<div>\n",
       "<style scoped>\n",
       "    .dataframe tbody tr th:only-of-type {\n",
       "        vertical-align: middle;\n",
       "    }\n",
       "\n",
       "    .dataframe tbody tr th {\n",
       "        vertical-align: top;\n",
       "    }\n",
       "\n",
       "    .dataframe thead th {\n",
       "        text-align: right;\n",
       "    }\n",
       "</style>\n",
       "<table border=\"1\" class=\"dataframe\">\n",
       "  <thead>\n",
       "    <tr style=\"text-align: right;\">\n",
       "      <th></th>\n",
       "      <th>publication</th>\n",
       "      <th>title</th>\n",
       "      <th>authors</th>\n",
       "      <th>doi</th>\n",
       "      <th>year</th>\n",
       "      <th>cites</th>\n",
       "      <th>type</th>\n",
       "      <th>abstract</th>\n",
       "      <th>abstractLength</th>\n",
       "      <th>pubmed</th>\n",
       "      <th>gscholar</th>\n",
       "      <th>crossref</th>\n",
       "      <th>scopus</th>\n",
       "      <th>publicationLanguage</th>\n",
       "      <th>titleLanguage</th>\n",
       "      <th>abstractLanguage</th>\n",
       "      <th>source</th>\n",
       "    </tr>\n",
       "  </thead>\n",
       "  <tbody>\n",
       "    <tr>\n",
       "      <th>2833</th>\n",
       "      <td>online journal of public health informatics</td>\n",
       "      <td>Surveillance for Lyme disease in Canada: 2009-...</td>\n",
       "      <td>['Jules Koffi', 'Salima Gasmi']</td>\n",
       "      <td>10.5210/ojphi.v11i1.9892</td>\n",
       "      <td>2019.0</td>\n",
       "      <td>1</td>\n",
       "      <td>journal-article</td>\n",
       "      <td>ObjectiveThis study aims to describe incidence...</td>\n",
       "      <td>5289.0</td>\n",
       "      <td>0</td>\n",
       "      <td>0</td>\n",
       "      <td>1</td>\n",
       "      <td>0</td>\n",
       "      <td>en</td>\n",
       "      <td>en</td>\n",
       "      <td>en</td>\n",
       "      <td>collated</td>\n",
       "    </tr>\n",
       "    <tr>\n",
       "      <th>2835</th>\n",
       "      <td>online journal of public health informatics</td>\n",
       "      <td>APPLICATION OF INTELLIGENT MULTIAGENT APPROACH...</td>\n",
       "      <td>['Dmytro Chumachenko', 'Tetyana Chumachenko']</td>\n",
       "      <td>10.5210/ojphi.v11i1.9696</td>\n",
       "      <td>2019.0</td>\n",
       "      <td>0</td>\n",
       "      <td>journal-article</td>\n",
       "      <td>ObjectiveThe objective of this research is to ...</td>\n",
       "      <td>7788.0</td>\n",
       "      <td>0</td>\n",
       "      <td>0</td>\n",
       "      <td>1</td>\n",
       "      <td>0</td>\n",
       "      <td>en</td>\n",
       "      <td>en</td>\n",
       "      <td>en</td>\n",
       "      <td>collated</td>\n",
       "    </tr>\n",
       "  </tbody>\n",
       "</table>\n",
       "</div>"
      ],
      "text/plain": [
       "                                      publication  \\\n",
       "2833  online journal of public health informatics   \n",
       "2835  online journal of public health informatics   \n",
       "\n",
       "                                                  title  \\\n",
       "2833  Surveillance for Lyme disease in Canada: 2009-...   \n",
       "2835  APPLICATION OF INTELLIGENT MULTIAGENT APPROACH...   \n",
       "\n",
       "                                            authors                       doi  \\\n",
       "2833                ['Jules Koffi', 'Salima Gasmi']  10.5210/ojphi.v11i1.9892   \n",
       "2835  ['Dmytro Chumachenko', 'Tetyana Chumachenko']  10.5210/ojphi.v11i1.9696   \n",
       "\n",
       "        year  cites             type  \\\n",
       "2833  2019.0      1  journal-article   \n",
       "2835  2019.0      0  journal-article   \n",
       "\n",
       "                                               abstract  abstractLength  \\\n",
       "2833  ObjectiveThis study aims to describe incidence...          5289.0   \n",
       "2835  ObjectiveThe objective of this research is to ...          7788.0   \n",
       "\n",
       "      pubmed  gscholar  crossref  scopus publicationLanguage titleLanguage  \\\n",
       "2833       0         0         1       0                  en            en   \n",
       "2835       0         0         1       0                  en            en   \n",
       "\n",
       "     abstractLanguage    source  \n",
       "2833               en  collated  \n",
       "2835               en  collated  "
      ]
     },
     "execution_count": 147,
     "metadata": {},
     "output_type": "execute_result"
    }
   ],
   "source": [
    "# Eyeballing these two larger abstracts from the collated dataset online\n",
    "# confirmed their legitmacy and sets 8000 as an upper limit of expected length\n",
    "collated[collated.abstractLength>5000]"
   ]
  },
  {
   "cell_type": "code",
   "execution_count": 148,
   "metadata": {
    "ExecuteTime": {
     "end_time": "2021-11-06T09:18:21.793538Z",
     "start_time": "2021-11-06T09:18:21.786023Z"
    }
   },
   "outputs": [],
   "source": [
    "# Looking at some extremely long scraped abstracts confirmed most could be trimmed\n",
    "# to the first appearance of the word 'Introduction' as is done in the code here.\n",
    "for index, row in abstracts[abstracts.abstractLength>8000].iterrows():\n",
    "    text= row['abstract']\n",
    "    text= text[:text.find('Introduction')]\n",
    "    abstracts.at[index, 'abstract'] = text\n",
    "    abstracts.at[index, 'abstractLength'] = len(text)"
   ]
  },
  {
   "cell_type": "code",
   "execution_count": 149,
   "metadata": {
    "ExecuteTime": {
     "end_time": "2021-11-06T09:18:22.481104Z",
     "start_time": "2021-11-06T09:18:22.461827Z"
    }
   },
   "outputs": [
    {
     "data": {
      "text/html": [
       "<div>\n",
       "<style scoped>\n",
       "    .dataframe tbody tr th:only-of-type {\n",
       "        vertical-align: middle;\n",
       "    }\n",
       "\n",
       "    .dataframe tbody tr th {\n",
       "        vertical-align: top;\n",
       "    }\n",
       "\n",
       "    .dataframe thead th {\n",
       "        text-align: right;\n",
       "    }\n",
       "</style>\n",
       "<table border=\"1\" class=\"dataframe\">\n",
       "  <thead>\n",
       "    <tr style=\"text-align: right;\">\n",
       "      <th></th>\n",
       "      <th>publication</th>\n",
       "      <th>title</th>\n",
       "      <th>authors</th>\n",
       "      <th>doi</th>\n",
       "      <th>year</th>\n",
       "      <th>cites</th>\n",
       "      <th>type</th>\n",
       "      <th>abstract</th>\n",
       "      <th>abstractLength</th>\n",
       "      <th>pubmed</th>\n",
       "      <th>gscholar</th>\n",
       "      <th>crossref</th>\n",
       "      <th>scopus</th>\n",
       "      <th>publicationLanguage</th>\n",
       "      <th>titleLanguage</th>\n",
       "      <th>abstractLanguage</th>\n",
       "      <th>source</th>\n",
       "    </tr>\n",
       "  </thead>\n",
       "  <tbody>\n",
       "    <tr>\n",
       "      <th>3413</th>\n",
       "      <td>biomedical journal of scientific &amp; technical r...</td>\n",
       "      <td>Missed Diagnosis and the Development of Acute ...</td>\n",
       "      <td>['James R Palmieri']</td>\n",
       "      <td>10.26717/bjstr.2019.21.003583</td>\n",
       "      <td>2019.0</td>\n",
       "      <td>1</td>\n",
       "      <td>journal-article</td>\n",
       "      <td>Background: Lyme Disease (LD) is the most com...</td>\n",
       "      <td>32690.0</td>\n",
       "      <td>0</td>\n",
       "      <td>0</td>\n",
       "      <td>1</td>\n",
       "      <td>0</td>\n",
       "      <td>en</td>\n",
       "      <td>en</td>\n",
       "      <td>NaN</td>\n",
       "      <td>scraped</td>\n",
       "    </tr>\n",
       "    <tr>\n",
       "      <th>3556</th>\n",
       "      <td>behavioural neurology</td>\n",
       "      <td>Gender Differences in Childhood Lyme Neuroborr...</td>\n",
       "      <td>['Dag Tveitnes', 'Knut Øymar']</td>\n",
       "      <td>10.1155/2015/790762</td>\n",
       "      <td>2015.0</td>\n",
       "      <td>7</td>\n",
       "      <td>journal-article</td>\n",
       "      <td>Background . Many neurological diseases show ...</td>\n",
       "      <td>15321.0</td>\n",
       "      <td>0</td>\n",
       "      <td>0</td>\n",
       "      <td>1</td>\n",
       "      <td>0</td>\n",
       "      <td>en</td>\n",
       "      <td>en</td>\n",
       "      <td>NaN</td>\n",
       "      <td>scraped</td>\n",
       "    </tr>\n",
       "    <tr>\n",
       "      <th>3561</th>\n",
       "      <td>case reports in infectious diseases</td>\n",
       "      <td>Early Disseminated Lyme Disease with Carditis ...</td>\n",
       "      <td>['Cheryl Novak', 'Andrew Harrison', 'John Auco...</td>\n",
       "      <td>10.1155/2017/5847156</td>\n",
       "      <td>2017.0</td>\n",
       "      <td>3</td>\n",
       "      <td>journal-article</td>\n",
       "      <td>Lyme disease is an infectious disease caused ...</td>\n",
       "      <td>13310.0</td>\n",
       "      <td>0</td>\n",
       "      <td>0</td>\n",
       "      <td>1</td>\n",
       "      <td>0</td>\n",
       "      <td>en</td>\n",
       "      <td>en</td>\n",
       "      <td>NaN</td>\n",
       "      <td>scraped</td>\n",
       "    </tr>\n",
       "    <tr>\n",
       "      <th>3669</th>\n",
       "      <td>pediatría atención primaria</td>\n",
       "      <td>Enfermedad de Lyme: a propósito de dos casos</td>\n",
       "      <td>['A. Pérez Guirado', 'R. I. Fernández Fernánde...</td>\n",
       "      <td>10.4321/s1139-76322013000400012</td>\n",
       "      <td>2013.0</td>\n",
       "      <td>3</td>\n",
       "      <td>journal-article</td>\n",
       "      <td>My SciELO Custom services Services on Demand J...</td>\n",
       "      <td>16815.0</td>\n",
       "      <td>0</td>\n",
       "      <td>0</td>\n",
       "      <td>1</td>\n",
       "      <td>0</td>\n",
       "      <td>es</td>\n",
       "      <td>es</td>\n",
       "      <td>NaN</td>\n",
       "      <td>scraped</td>\n",
       "    </tr>\n",
       "    <tr>\n",
       "      <th>3730</th>\n",
       "      <td>revista chilena de infectología</td>\n",
       "      <td>Enfermedad de Lyme: a propósito de un caso clí...</td>\n",
       "      <td>['Mauricio Villagra', 'M. José Martínez']</td>\n",
       "      <td>10.4067/s0716-10182018000500606</td>\n",
       "      <td>2018.0</td>\n",
       "      <td>0</td>\n",
       "      <td>journal-article</td>\n",
       "      <td>Introducción La enfermedad de Lyme es la infe...</td>\n",
       "      <td>15198.0</td>\n",
       "      <td>0</td>\n",
       "      <td>0</td>\n",
       "      <td>1</td>\n",
       "      <td>0</td>\n",
       "      <td>es</td>\n",
       "      <td>es</td>\n",
       "      <td>NaN</td>\n",
       "      <td>scraped</td>\n",
       "    </tr>\n",
       "    <tr>\n",
       "      <th>3750</th>\n",
       "      <td>coursesource</td>\n",
       "      <td>Mice, Acorns, and Lyme Disease: a Case Study t...</td>\n",
       "      <td>['Laurieann Klockow']</td>\n",
       "      <td>10.24918/cs.2019.11</td>\n",
       "      <td>2019.0</td>\n",
       "      <td>0</td>\n",
       "      <td>journal-article</td>\n",
       "      <td>Ebola, Zika, the recall of contaminated lettuc...</td>\n",
       "      <td>34628.0</td>\n",
       "      <td>0</td>\n",
       "      <td>0</td>\n",
       "      <td>1</td>\n",
       "      <td>0</td>\n",
       "      <td>fr</td>\n",
       "      <td>en</td>\n",
       "      <td>NaN</td>\n",
       "      <td>scraped</td>\n",
       "    </tr>\n",
       "  </tbody>\n",
       "</table>\n",
       "</div>"
      ],
      "text/plain": [
       "                                            publication  \\\n",
       "3413  biomedical journal of scientific & technical r...   \n",
       "3556                              behavioural neurology   \n",
       "3561                case reports in infectious diseases   \n",
       "3669                        pediatría atención primaria   \n",
       "3730                    revista chilena de infectología   \n",
       "3750                                       coursesource   \n",
       "\n",
       "                                                  title  \\\n",
       "3413  Missed Diagnosis and the Development of Acute ...   \n",
       "3556  Gender Differences in Childhood Lyme Neuroborr...   \n",
       "3561  Early Disseminated Lyme Disease with Carditis ...   \n",
       "3669       Enfermedad de Lyme: a propósito de dos casos   \n",
       "3730  Enfermedad de Lyme: a propósito de un caso clí...   \n",
       "3750  Mice, Acorns, and Lyme Disease: a Case Study t...   \n",
       "\n",
       "                                                authors  \\\n",
       "3413                               ['James R Palmieri']   \n",
       "3556                     ['Dag Tveitnes', 'Knut Øymar']   \n",
       "3561  ['Cheryl Novak', 'Andrew Harrison', 'John Auco...   \n",
       "3669  ['A. Pérez Guirado', 'R. I. Fernández Fernánde...   \n",
       "3730          ['Mauricio Villagra', 'M. José Martínez']   \n",
       "3750                              ['Laurieann Klockow']   \n",
       "\n",
       "                                  doi    year  cites             type  \\\n",
       "3413    10.26717/bjstr.2019.21.003583  2019.0      1  journal-article   \n",
       "3556              10.1155/2015/790762  2015.0      7  journal-article   \n",
       "3561             10.1155/2017/5847156  2017.0      3  journal-article   \n",
       "3669  10.4321/s1139-76322013000400012  2013.0      3  journal-article   \n",
       "3730  10.4067/s0716-10182018000500606  2018.0      0  journal-article   \n",
       "3750              10.24918/cs.2019.11  2019.0      0  journal-article   \n",
       "\n",
       "                                               abstract  abstractLength  \\\n",
       "3413   Background: Lyme Disease (LD) is the most com...         32690.0   \n",
       "3556   Background . Many neurological diseases show ...         15321.0   \n",
       "3561   Lyme disease is an infectious disease caused ...         13310.0   \n",
       "3669  My SciELO Custom services Services on Demand J...         16815.0   \n",
       "3730  Introducción La enfermedad de Lyme es la infe...         15198.0   \n",
       "3750  Ebola, Zika, the recall of contaminated lettuc...         34628.0   \n",
       "\n",
       "      pubmed  gscholar  crossref  scopus publicationLanguage titleLanguage  \\\n",
       "3413       0         0         1       0                  en            en   \n",
       "3556       0         0         1       0                  en            en   \n",
       "3561       0         0         1       0                  en            en   \n",
       "3669       0         0         1       0                  es            es   \n",
       "3730       0         0         1       0                  es            es   \n",
       "3750       0         0         1       0                  fr            en   \n",
       "\n",
       "     abstractLanguage   source  \n",
       "3413              NaN  scraped  \n",
       "3556              NaN  scraped  \n",
       "3561              NaN  scraped  \n",
       "3669              NaN  scraped  \n",
       "3730              NaN  scraped  \n",
       "3750              NaN  scraped  "
      ]
     },
     "execution_count": 149,
     "metadata": {},
     "output_type": "execute_result"
    }
   ],
   "source": [
    "#Remaining outliers longer than 8000 characters\n",
    "abstracts[abstracts.abstractLength>8000]"
   ]
  },
  {
   "cell_type": "code",
   "execution_count": 150,
   "metadata": {
    "ExecuteTime": {
     "end_time": "2021-11-06T09:18:23.293330Z",
     "start_time": "2021-11-06T09:18:23.277423Z"
    }
   },
   "outputs": [],
   "source": [
    "#These outliers were handled individually\n",
    "\n",
    "#Trimmed\n",
    "#-------\n",
    "abstracts.at[3413, 'abstract'] = abstracts.loc[3413].abstract[abstracts.loc[3413].abstract.find('Background'): abstracts.loc[3413].abstract.find('Lyme Disease Defined')]\n",
    "abstracts.at[3413, 'abstractLength'] =len(abstracts.loc[3413].abstract)\n",
    "\n",
    "abstracts.at[3561, 'abstract'] = abstracts.loc[3561].abstract[abstracts.loc[3561].abstract.find('Lyme'): abstracts.loc[3561].abstract.find('1. Background')]\n",
    "abstracts.at[3561, 'abstractLength'] =len(abstracts.loc[3561].abstract)\n",
    "\n",
    "\n",
    "#Removed\n",
    "#-------\n",
    "abstracts.drop(index=3556, inplace=True) #Jumbled\n",
    "abstracts.drop(index=3669, inplace=True) #Non English\n",
    "abstracts.drop(index=3730, inplace=True) #Non English\n",
    "abstracts.drop(index=3750, inplace=True) #Course Materia - Not an abstract\n",
    "\n",
    "NonEnglish = 2\n",
    "nonJournal = 1"
   ]
  },
  {
   "cell_type": "code",
   "execution_count": 151,
   "metadata": {
    "ExecuteTime": {
     "end_time": "2021-11-06T09:18:26.290855Z",
     "start_time": "2021-11-06T09:18:26.059973Z"
    }
   },
   "outputs": [
    {
     "data": {
      "image/png": "[encoded data removed]",
      "text/plain": [
       "<Figure size 1080x720 with 1 Axes>"
      ]
     },
     "metadata": {
      "needs_background": "light"
     },
     "output_type": "display_data"
    }
   ],
   "source": [
    "sns.boxplot(y='source', x='abstractLength', data=abstracts)\n",
    "plt.title('Length of Abstracts after Culling or Editing Outliers');"
   ]
  },
  {
   "cell_type": "code",
   "execution_count": 152,
   "metadata": {
    "ExecuteTime": {
     "end_time": "2021-11-06T09:18:27.754412Z",
     "start_time": "2021-11-06T09:18:27.749215Z"
    }
   },
   "outputs": [
    {
     "name": "stdout",
     "output_type": "stream",
     "text": [
      "Records with existing abstracts: 2962\n",
      "Abstracts sought via scraping : 2598\n",
      "Abstracts successfully scraped: 876\n",
      "Size of new dataset: 3838\n",
      "Records not retrieved: 1722\n"
     ]
    }
   ],
   "source": [
    "oldtotal = total\n",
    "total = len(abstracts)+nonJournal+NonEnglish \n",
    "# These two extra variables acccount in the total equation above account for \n",
    "# records removed at earlier stages of the process.\n",
    "\n",
    "print(\"Records with existing abstracts:\", len(collated))\n",
    "print(\"Abstracts sought via scraping :\", toScrape)\n",
    "print(\"Abstracts successfully scraped:\", total-len(collated))\n",
    "print('Size of new dataset:', total)\n",
    "print('Records not retrieved:', oldtotal-total)"
   ]
  },
  {
   "cell_type": "markdown",
   "metadata": {},
   "source": [
    "### Removing Non-English Abstracts "
   ]
  },
  {
   "cell_type": "code",
   "execution_count": 155,
   "metadata": {
    "ExecuteTime": {
     "end_time": "2021-11-06T09:19:33.959797Z",
     "start_time": "2021-11-06T09:19:05.942619Z"
    }
   },
   "outputs": [],
   "source": [
    "abstracts['abstractLanguage']=abstracts.abstract.apply(detect)"
   ]
  },
  {
   "cell_type": "code",
   "execution_count": 156,
   "metadata": {
    "ExecuteTime": {
     "end_time": "2021-11-06T09:19:35.151870Z",
     "start_time": "2021-11-06T09:19:35.146818Z"
    }
   },
   "outputs": [],
   "source": [
    "#restrict to English abstracts\n",
    "abstracts=abstracts[abstracts.abstractLanguage=='en']"
   ]
  },
  {
   "cell_type": "code",
   "execution_count": 157,
   "metadata": {
    "ExecuteTime": {
     "end_time": "2021-11-06T09:19:36.040713Z",
     "start_time": "2021-11-06T09:19:36.037081Z"
    }
   },
   "outputs": [
    {
     "name": "stdout",
     "output_type": "stream",
     "text": [
      "Abstracts analysed for language: 3838\n",
      "Records with Non-English abstracts removed: 31\n",
      "Records with English abstracts remaining: 3807\n"
     ]
    }
   ],
   "source": [
    "oldtotal = total\n",
    "total = len(abstracts)+nonJournal \n",
    "\n",
    "print('Abstracts analysed for language:', oldtotal)\n",
    "print('Records with Non-English abstracts removed:', oldtotal-total)\n",
    "print('Records with English abstracts remaining:', total)"
   ]
  },
  {
   "cell_type": "markdown",
   "metadata": {},
   "source": [
    "### Removing Records with no Relevant Terms in Title or Abstract"
   ]
  },
  {
   "cell_type": "code",
   "execution_count": 158,
   "metadata": {
    "ExecuteTime": {
     "end_time": "2021-11-06T09:19:45.890022Z",
     "start_time": "2021-11-06T09:19:45.782127Z"
    },
    "scrolled": true
   },
   "outputs": [
    {
     "name": "stderr",
     "output_type": "stream",
     "text": [
      "/Users/myfriendscallmej/anaconda3/lib/python3.7/site-packages/pandas/core/strings/accessor.py:101: UserWarning: This pattern has match groups. To actually get the groups, use str.extract.\n",
      "  return func(self, *args, **kwargs)\n"
     ]
    }
   ],
   "source": [
    "terms = 'Lyme|Borrel(\\w+)|burgdorferi|Ixodes|Erythema|migrans|tick-borne|tickborne|tick borne'\n",
    "notRelevant = abstracts[~(abstracts['abstract'].str.contains(terms,flags=re.IGNORECASE) | abstracts['title'].str.contains(terms,flags=re.IGNORECASE))]"
   ]
  },
  {
   "cell_type": "code",
   "execution_count": 159,
   "metadata": {
    "ExecuteTime": {
     "end_time": "2021-11-06T09:19:52.510178Z",
     "start_time": "2021-11-06T09:19:52.485822Z"
    },
    "scrolled": false
   },
   "outputs": [],
   "source": [
    "#open text file\n",
    "text_file = open(\"excludedForRelevance.txt\", \"w\")\n",
    " \n",
    "for index, row in notRelevant.iterrows():\n",
    "    string = (str(index) + ' http://dx.doi.org/'+row.doi + '\\n' + row.title + '\\n' + row.abstract + '\\n\\n')\n",
    "    text_file.write(string)\n",
    "    \n",
    "text_file.close()\n",
    "del notRelevant"
   ]
  },
  {
   "cell_type": "code",
   "execution_count": 160,
   "metadata": {
    "ExecuteTime": {
     "end_time": "2021-11-06T09:20:09.075451Z",
     "start_time": "2021-11-06T09:20:08.935489Z"
    }
   },
   "outputs": [
    {
     "name": "stderr",
     "output_type": "stream",
     "text": [
      "/Users/myfriendscallmej/anaconda3/lib/python3.7/site-packages/pandas/core/strings/accessor.py:101: UserWarning: This pattern has match groups. To actually get the groups, use str.extract.\n",
      "  return func(self, *args, **kwargs)\n"
     ]
    }
   ],
   "source": [
    "abstracts = abstracts[(abstracts['abstract'].str.contains(terms,flags=re.IGNORECASE) | abstracts['title'].str.contains(terms,flags=re.IGNORECASE))]"
   ]
  },
  {
   "cell_type": "code",
   "execution_count": 162,
   "metadata": {
    "ExecuteTime": {
     "end_time": "2021-11-06T09:20:22.076576Z",
     "start_time": "2021-11-06T09:20:22.072591Z"
    }
   },
   "outputs": [
    {
     "name": "stdout",
     "output_type": "stream",
     "text": [
      "Records analysed for relevance: 3807\n",
      "Records removed for having no matching keywords: 115\n",
      "Records remaining: 3692\n"
     ]
    }
   ],
   "source": [
    "oldtotal = total\n",
    "total = len(abstracts)+nonJournal \n",
    "\n",
    "print('Records analysed for relevance:', oldtotal)\n",
    "print('Records removed for having no matching keywords:', oldtotal-total)\n",
    "print('Records remaining:', total)"
   ]
  },
  {
   "cell_type": "markdown",
   "metadata": {},
   "source": [
    "### Removing Non-Journal Abstracts "
   ]
  },
  {
   "cell_type": "code",
   "execution_count": 163,
   "metadata": {
    "ExecuteTime": {
     "end_time": "2021-11-06T09:20:40.301226Z",
     "start_time": "2021-11-06T09:20:40.297804Z"
    }
   },
   "outputs": [
    {
     "name": "stdout",
     "output_type": "stream",
     "text": [
      "Records removed due to being course material: 1\n",
      "Records with abstracts remaining: 3691\n"
     ]
    }
   ],
   "source": [
    "# One record that was course material was found when looking at length outliers \n",
    "#this was removed then but should be highlighted as part of the screening at this stage.\n",
    "oldtotal = total\n",
    "total = len(abstracts)\n",
    "\n",
    "print('Records removed due to being course material:', oldtotal-total)\n",
    "print('Records with abstracts remaining:', total)"
   ]
  },
  {
   "cell_type": "markdown",
   "metadata": {},
   "source": [
    "## Saving Complete Dataset"
   ]
  },
  {
   "cell_type": "code",
   "execution_count": 164,
   "metadata": {
    "ExecuteTime": {
     "end_time": "2021-11-06T09:20:49.197000Z",
     "start_time": "2021-11-06T09:20:48.938297Z"
    }
   },
   "outputs": [],
   "source": [
    "abstracts.to_csv('abstracts.csv')"
   ]
  },
  {
   "cell_type": "code",
   "execution_count": null,
   "metadata": {},
   "outputs": [],
   "source": []
  }
 ],
 "metadata": {
  "kernelspec": {
   "display_name": "Python 3",
   "language": "python",
   "name": "python3"
  },
  "language_info": {
   "codemirror_mode": {
    "name": "ipython",
    "version": 3
   },
   "file_extension": ".py",
   "mimetype": "text/x-python",
   "name": "python",
   "nbconvert_exporter": "python",
   "pygments_lexer": "ipython3",
   "version": "3.7.3"
  },
  "toc": {
   "base_numbering": 1,
   "nav_menu": {},
   "number_sections": true,
   "sideBar": true,
   "skip_h1_title": true,
   "title_cell": "Table of Contents",
   "title_sidebar": "Contents",
   "toc_cell": true,
   "toc_position": {
    "height": "calc(100% - 180px)",
    "left": "10px",
    "top": "150px",
    "width": "344px"
   },
   "toc_section_display": true,
   "toc_window_display": true
  },
  "varInspector": {
   "cols": {
    "lenName": 16,
    "lenType": 16,
    "lenVar": 40
   },
   "kernels_config": {
    "python": {
     "delete_cmd_postfix": "",
     "delete_cmd_prefix": "del ",
     "library": "var_list.py",
     "varRefreshCmd": "print(var_dic_list())"
    },
    "r": {
     "delete_cmd_postfix": ") ",
     "delete_cmd_prefix": "rm(",
     "library": "var_list.r",
     "varRefreshCmd": "cat(var_dic_list()) "
    }
   },
   "types_to_exclude": [
    "module",
    "function",
    "builtin_function_or_method",
    "instance",
    "_Feature"
   ],
   "window_display": false
  }
 },
 "nbformat": 4,
 "nbformat_minor": 2
}
