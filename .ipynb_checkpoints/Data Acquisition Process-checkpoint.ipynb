{
 "cells": [
  {
   "cell_type": "markdown",
   "metadata": {
    "toc": true
   },
   "source": [
    "<h1>Table of Contents<span class=\"tocSkip\"></span></h1>\n",
    "<div class=\"toc\"><ul class=\"toc-item\"><li><ul class=\"toc-item\"><li><span><a href=\"#Imports-and-Defaults\" data-toc-modified-id=\"Imports-and-Defaults-0.1\"><span class=\"toc-item-num\">0.1&nbsp;&nbsp;</span>Imports and Defaults</a></span></li></ul></li><li><span><a href=\"#Identification\" data-toc-modified-id=\"Identification-1\"><span class=\"toc-item-num\">1&nbsp;&nbsp;</span>Identification</a></span><ul class=\"toc-item\"><li><span><a href=\"#Importing-search-results\" data-toc-modified-id=\"Importing-search-results-1.1\"><span class=\"toc-item-num\">1.1&nbsp;&nbsp;</span>Importing search results</a></span></li><li><span><a href=\"#Dropping-Records-without-a-DOI\" data-toc-modified-id=\"Dropping-Records-without-a-DOI-1.2\"><span class=\"toc-item-num\">1.2&nbsp;&nbsp;</span>Dropping Records without a DOI</a></span></li><li><span><a href=\"#Dropping-Duplicates\" data-toc-modified-id=\"Dropping-Duplicates-1.3\"><span class=\"toc-item-num\">1.3&nbsp;&nbsp;</span>Dropping Duplicates</a></span></li></ul></li><li><span><a href=\"#Screening\" data-toc-modified-id=\"Screening-2\"><span class=\"toc-item-num\">2&nbsp;&nbsp;</span>Screening</a></span><ul class=\"toc-item\"><li><span><a href=\"#Restricting-to-journal-articles\" data-toc-modified-id=\"Restricting-to-journal-articles-2.1\"><span class=\"toc-item-num\">2.1&nbsp;&nbsp;</span>Restricting to journal articles</a></span></li><li><span><a href=\"#Removing-records-with-missing-Journal-or-Title\" data-toc-modified-id=\"Removing-records-with-missing-Journal-or-Title-2.2\"><span class=\"toc-item-num\">2.2&nbsp;&nbsp;</span>Removing records with missing Journal or Title</a></span></li><li><span><a href=\"#Removing-incomplete-Google-Scholar-Journal-Names-that-can't-be-matched-and-completed\" data-toc-modified-id=\"Removing-incomplete-Google-Scholar-Journal-Names-that-can't-be-matched-and-completed-2.3\"><span class=\"toc-item-num\">2.3&nbsp;&nbsp;</span>Removing incomplete Google Scholar Journal Names that can't be matched and completed</a></span></li><li><span><a href=\"#Preparation-for-Merging-Remaining-Records\" data-toc-modified-id=\"Preparation-for-Merging-Remaining-Records-2.4\"><span class=\"toc-item-num\">2.4&nbsp;&nbsp;</span>Preparation for Merging Remaining Records</a></span><ul class=\"toc-item\"><li><span><a href=\"#Resetting-very-short-abstracts\" data-toc-modified-id=\"Resetting-very-short-abstracts-2.4.1\"><span class=\"toc-item-num\">2.4.1&nbsp;&nbsp;</span>Resetting very short abstracts</a></span></li><li><span><a href=\"#Dummy-for-Source\" data-toc-modified-id=\"Dummy-for-Source-2.4.2\"><span class=\"toc-item-num\">2.4.2&nbsp;&nbsp;</span>Dummy for Source</a></span></li></ul></li><li><span><a href=\"#Building-Dataframes-of-Unique-Records\" data-toc-modified-id=\"Building-Dataframes-of-Unique-Records-2.5\"><span class=\"toc-item-num\">2.5&nbsp;&nbsp;</span>Building Dataframes of Unique Records</a></span><ul class=\"toc-item\"><li><span><a href=\"#Records-that-have-DOI-and-abstract\" data-toc-modified-id=\"Records-that-have-DOI-and-abstract-2.5.1\"><span class=\"toc-item-num\">2.5.1&nbsp;&nbsp;</span>Records that have DOI and abstract</a></span></li><li><span><a href=\"#Records-that-have-DOI-but-no-abstract\" data-toc-modified-id=\"Records-that-have-DOI-but-no-abstract-2.5.2\"><span class=\"toc-item-num\">2.5.2&nbsp;&nbsp;</span>Records that have DOI but no abstract</a></span></li></ul></li><li><span><a href=\"#Saving-New-Dataframes\" data-toc-modified-id=\"Saving-New-Dataframes-2.6\"><span class=\"toc-item-num\">2.6&nbsp;&nbsp;</span>Saving New Dataframes</a></span></li></ul></li><li><span><a href=\"#Scraping\" data-toc-modified-id=\"Scraping-3\"><span class=\"toc-item-num\">3&nbsp;&nbsp;</span>Scraping</a></span><ul class=\"toc-item\"><li><span><a href=\"#Formatting-Vagaries\" data-toc-modified-id=\"Formatting-Vagaries-3.1\"><span class=\"toc-item-num\">3.1&nbsp;&nbsp;</span>Formatting Vagaries</a></span></li><li><span><a href=\"#Scraping-Function\" data-toc-modified-id=\"Scraping-Function-3.2\"><span class=\"toc-item-num\">3.2&nbsp;&nbsp;</span>Scraping Function</a></span></li></ul></li><li><span><a href=\"#Processing-Scraped-Data\" data-toc-modified-id=\"Processing-Scraped-Data-4\"><span class=\"toc-item-num\">4&nbsp;&nbsp;</span>Processing Scraped Data</a></span><ul class=\"toc-item\"><li><span><a href=\"#Non-Unique-Counts-for-Scraped-Abstracts\" data-toc-modified-id=\"Non-Unique-Counts-for-Scraped-Abstracts-4.1\"><span class=\"toc-item-num\">4.1&nbsp;&nbsp;</span>Non Unique Counts for Scraped Abstracts</a></span></li><li><span><a href=\"#Removing-extremely-short-'abstracts'\" data-toc-modified-id=\"Removing-extremely-short-'abstracts'-4.2\"><span class=\"toc-item-num\">4.2&nbsp;&nbsp;</span>Removing extremely short 'abstracts'</a></span></li><li><span><a href=\"#Joining-datasets\" data-toc-modified-id=\"Joining-datasets-4.3\"><span class=\"toc-item-num\">4.3&nbsp;&nbsp;</span>Joining datasets</a></span></li></ul></li></ul></div>"
   ]
  },
  {
   "cell_type": "markdown",
   "metadata": {},
   "source": [
    "### Imports and Defaults"
   ]
  },
  {
   "cell_type": "code",
   "execution_count": 1,
   "metadata": {
    "ExecuteTime": {
     "end_time": "2021-10-31T01:13:14.054491Z",
     "start_time": "2021-10-31T01:13:14.043205Z"
    }
   },
   "outputs": [
    {
     "data": {
      "text/html": [
       "<style>.container { width:75% !important; } p, ul {max-width: 40em;} .rendered_html table { margin-left: 0; } .output_subarea.output_png { display: flex; justify-content: center;}</style>"
      ],
      "text/plain": [
       "<IPython.core.display.HTML object>"
      ]
     },
     "metadata": {},
     "output_type": "display_data"
    }
   ],
   "source": [
    "from IPython.core.display import display, HTML, Markdown as md\n",
    "display(HTML(\"\"\"<style>.container { width:75% !important; } p, ul {max-width: 40em;} .rendered_html table { margin-left: 0; } .output_subarea.output_png { display: flex; justify-content: center;}</style>\"\"\"))"
   ]
  },
  {
   "cell_type": "code",
   "execution_count": 2,
   "metadata": {
    "ExecuteTime": {
     "end_time": "2021-10-31T01:13:14.614841Z",
     "start_time": "2021-10-31T01:13:14.057008Z"
    }
   },
   "outputs": [],
   "source": [
    "# Basics\n",
    "import numpy as np \n",
    "import pandas as pd \n",
    "\n",
    "#String cleaning and processing\n",
    "import re\n",
    "import string\n",
    "\n",
    "import os\n",
    "pd.options.mode.chained_assignment = None\n",
    "\n",
    "import json"
   ]
  },
  {
   "cell_type": "code",
   "execution_count": 151,
   "metadata": {
    "ExecuteTime": {
     "end_time": "2021-10-31T08:25:01.261109Z",
     "start_time": "2021-10-31T08:25:01.254627Z"
    }
   },
   "outputs": [],
   "source": [
    "# Visualisation\n",
    "import seaborn as sns\n",
    "import matplotlib.pyplot as plt\n",
    "from pylab import rcParams\n",
    "\n",
    "%matplotlib inline\n",
    "rcParams['figure.figsize'] = 15, 10\n",
    "rcParams['axes.titlesize'] = 20\n",
    "rcParams['axes.labelsize'] = 'large'\n",
    "rcParams['xtick.labelsize'] = 10\n",
    "rcParams['ytick.labelsize'] = 10\n",
    "rcParams['lines.linewidth'] = 2\n",
    "rcParams['font.size'] = 18"
   ]
  },
  {
   "cell_type": "code",
   "execution_count": 4,
   "metadata": {
    "ExecuteTime": {
     "end_time": "2021-10-31T01:13:15.456665Z",
     "start_time": "2021-10-31T01:13:15.440639Z"
    }
   },
   "outputs": [],
   "source": [
    "from langdetect import detect #language detection"
   ]
  },
  {
   "cell_type": "markdown",
   "metadata": {},
   "source": [
    "## Identification"
   ]
  },
  {
   "cell_type": "markdown",
   "metadata": {},
   "source": [
    "Publish or Perish software (either via desktop GUI or command line prompts) was used to search through four research databases (Google Scholar, Scopus, PubMed and CrossRef). The searches were done year by year to maximise the number of records returned and then joined together into four separate datasets. "
   ]
  },
  {
   "cell_type": "markdown",
   "metadata": {},
   "source": [
    "### Importing search results"
   ]
  },
  {
   "cell_type": "code",
   "execution_count": 5,
   "metadata": {
    "ExecuteTime": {
     "end_time": "2021-10-31T01:13:15.463764Z",
     "start_time": "2021-10-31T01:13:15.459157Z"
    }
   },
   "outputs": [],
   "source": [
    "def loadJSONfiles(path, source, startYear, endYear):\n",
    "    JSONobject = []\n",
    "    for year in range(startYear, endYear+1):\n",
    "        filename= path + source+'-'+str(year)+'.json'\n",
    "        if os.path.exists(filename):\n",
    "            with open(filename, encoding='utf-8-sig') as f:\n",
    "                newfile = json.load(f)\n",
    "            JSONobject = JSONobject+ newfile\n",
    "        else: print('Cant find', filename)\n",
    "    return JSONobject"
   ]
  },
  {
   "cell_type": "code",
   "execution_count": 6,
   "metadata": {
    "ExecuteTime": {
     "end_time": "2021-10-31T01:13:15.473574Z",
     "start_time": "2021-10-31T01:13:15.465902Z"
    }
   },
   "outputs": [],
   "source": [
    "def get_df(jsonfile, source):\n",
    "    df_dict = {'publication':[], 'title':[], 'authors':[],'doi':[], \n",
    "               'year':[], 'cites':[],'type':[], 'abstract':[], \n",
    "#                'article_url':[], 'fulltext_url':[]\n",
    "              }\n",
    "    for record in jsonfile:\n",
    "        df_dict['publication'].append(record.get('source'))\n",
    "        df_dict['year'].append(record.get('year'))\n",
    "        df_dict['doi'].append(record.get('doi'))\n",
    "        df_dict['title'].append(record.get('title'))\n",
    "        df_dict['abstract'].append(record.get('abstract'))\n",
    "        df_dict['authors'].append(record.get('authors'))\n",
    "        df_dict['cites'].append(record.get('cites'))\n",
    "        df_dict['type'].append(record.get('type'))\n",
    "#         df_dict['article_url'].append(record.get('article_url'))\n",
    "#         df_dict['fulltext_url'].append(record.get('fulltext_url'))\n",
    "    \n",
    "    df = pd.DataFrame.from_dict(df_dict)\n",
    "    df.fillna(np.nan, inplace=True)\n",
    "    df['abstractLength'] = [len(x) if type(x)==str else np.nan for x in df['abstract'] ]\n",
    "    df[source]=np.int8(1)\n",
    "    df.reset_index(drop=True, inplace=True)\n",
    "    return df"
   ]
  },
  {
   "cell_type": "code",
   "execution_count": 7,
   "metadata": {
    "ExecuteTime": {
     "end_time": "2021-10-31T01:13:15.479073Z",
     "start_time": "2021-10-31T01:13:15.475765Z"
    }
   },
   "outputs": [],
   "source": [
    "def jsonFilesToDF(path, source, startYear, endYear):\n",
    "    jsonFile = loadJSONfiles(path,source, startYear, endYear)\n",
    "    df = get_df(jsonFile, source)\n",
    "    return df"
   ]
  },
  {
   "cell_type": "code",
   "execution_count": 8,
   "metadata": {
    "ExecuteTime": {
     "end_time": "2021-10-31T01:13:16.143971Z",
     "start_time": "2021-10-31T01:13:15.482725Z"
    }
   },
   "outputs": [],
   "source": [
    "crossref = jsonFilesToDF('POPresults/','crossref', 2010, 2021)\n",
    "gscholar = jsonFilesToDF('POPresults/','gscholar', 2010, 2021)\n",
    "pubmed = jsonFilesToDF('POPresults/','pubmed', 2010, 2021)\n",
    "scopus = jsonFilesToDF('POPresults/','scopus', 2010, 2021)"
   ]
  },
  {
   "cell_type": "code",
   "execution_count": 9,
   "metadata": {
    "ExecuteTime": {
     "end_time": "2021-10-31T01:13:16.162165Z",
     "start_time": "2021-10-31T01:13:16.147710Z"
    }
   },
   "outputs": [
    {
     "name": "stdout",
     "output_type": "stream",
     "text": [
      "<class 'pandas.core.frame.DataFrame'>\n",
      "RangeIndex: 4000 entries, 0 to 3999\n",
      "Data columns (total 12 columns):\n",
      " #   Column          Non-Null Count  Dtype  \n",
      "---  ------          --------------  -----  \n",
      " 0   publication     3909 non-null   object \n",
      " 1   title           4000 non-null   object \n",
      " 2   authors         3776 non-null   object \n",
      " 3   doi             4000 non-null   object \n",
      " 4   year            4000 non-null   int64  \n",
      " 5   cites           4000 non-null   int64  \n",
      " 6   type            4000 non-null   object \n",
      " 7   abstract        689 non-null    object \n",
      " 8   article_url     4000 non-null   object \n",
      " 9   fulltext_url    3280 non-null   object \n",
      " 10  abstractLength  689 non-null    float64\n",
      " 11  crossref        4000 non-null   int8   \n",
      "dtypes: float64(1), int64(2), int8(1), object(8)\n",
      "memory usage: 347.8+ KB\n"
     ]
    }
   ],
   "source": [
    "crossref.info()"
   ]
  },
  {
   "cell_type": "code",
   "execution_count": 10,
   "metadata": {
    "ExecuteTime": {
     "end_time": "2021-10-31T01:13:16.186514Z",
     "start_time": "2021-10-31T01:13:16.164037Z"
    }
   },
   "outputs": [
    {
     "name": "stdout",
     "output_type": "stream",
     "text": [
      "<class 'pandas.core.frame.DataFrame'>\n",
      "RangeIndex: 11968 entries, 0 to 11967\n",
      "Data columns (total 12 columns):\n",
      " #   Column          Non-Null Count  Dtype  \n",
      "---  ------          --------------  -----  \n",
      " 0   publication     9968 non-null   object \n",
      " 1   title           11968 non-null  object \n",
      " 2   authors         11968 non-null  object \n",
      " 3   doi             2347 non-null   object \n",
      " 4   year            11155 non-null  float64\n",
      " 5   cites           11968 non-null  int64  \n",
      " 6   type            5280 non-null   object \n",
      " 7   abstract        10640 non-null  object \n",
      " 8   article_url     10760 non-null  object \n",
      " 9   fulltext_url    6669 non-null   object \n",
      " 10  abstractLength  10640 non-null  float64\n",
      " 11  gscholar        11968 non-null  int8   \n",
      "dtypes: float64(2), int64(1), int8(1), object(8)\n",
      "memory usage: 1.0+ MB\n"
     ]
    }
   ],
   "source": [
    "gscholar.info()"
   ]
  },
  {
   "cell_type": "code",
   "execution_count": 11,
   "metadata": {
    "ExecuteTime": {
     "end_time": "2021-10-31T01:13:16.202459Z",
     "start_time": "2021-10-31T01:13:16.188548Z"
    }
   },
   "outputs": [
    {
     "name": "stdout",
     "output_type": "stream",
     "text": [
      "<class 'pandas.core.frame.DataFrame'>\n",
      "RangeIndex: 4497 entries, 0 to 4496\n",
      "Data columns (total 12 columns):\n",
      " #   Column          Non-Null Count  Dtype  \n",
      "---  ------          --------------  -----  \n",
      " 0   publication     4497 non-null   object \n",
      " 1   title           4494 non-null   object \n",
      " 2   authors         4463 non-null   object \n",
      " 3   doi             4124 non-null   object \n",
      " 4   year            4494 non-null   float64\n",
      " 5   cites           4497 non-null   int64  \n",
      " 6   type            4497 non-null   object \n",
      " 7   abstract        3866 non-null   object \n",
      " 8   article_url     0 non-null      float64\n",
      " 9   fulltext_url    0 non-null      float64\n",
      " 10  abstractLength  3866 non-null   float64\n",
      " 11  pubmed          4497 non-null   int8   \n",
      "dtypes: float64(4), int64(1), int8(1), object(6)\n",
      "memory usage: 391.0+ KB\n"
     ]
    }
   ],
   "source": [
    "pubmed.info()"
   ]
  },
  {
   "cell_type": "code",
   "execution_count": 12,
   "metadata": {
    "ExecuteTime": {
     "end_time": "2021-10-31T01:13:16.218332Z",
     "start_time": "2021-10-31T01:13:16.204397Z"
    }
   },
   "outputs": [
    {
     "name": "stdout",
     "output_type": "stream",
     "text": [
      "<class 'pandas.core.frame.DataFrame'>\n",
      "RangeIndex: 2400 entries, 0 to 2399\n",
      "Data columns (total 12 columns):\n",
      " #   Column          Non-Null Count  Dtype  \n",
      "---  ------          --------------  -----  \n",
      " 0   publication     2400 non-null   object \n",
      " 1   title           2400 non-null   object \n",
      " 2   authors         2398 non-null   object \n",
      " 3   doi             2358 non-null   object \n",
      " 4   year            2400 non-null   int64  \n",
      " 5   cites           2400 non-null   int64  \n",
      " 6   type            2399 non-null   object \n",
      " 7   abstract        0 non-null      float64\n",
      " 8   article_url     549 non-null    object \n",
      " 9   fulltext_url    0 non-null      float64\n",
      " 10  abstractLength  0 non-null      float64\n",
      " 11  scopus          2400 non-null   int8   \n",
      "dtypes: float64(3), int64(2), int8(1), object(6)\n",
      "memory usage: 208.7+ KB\n"
     ]
    }
   ],
   "source": [
    "scopus.info()"
   ]
  },
  {
   "cell_type": "code",
   "execution_count": 13,
   "metadata": {
    "ExecuteTime": {
     "end_time": "2021-10-31T01:13:16.226196Z",
     "start_time": "2021-10-31T01:13:16.221191Z"
    }
   },
   "outputs": [
    {
     "name": "stdout",
     "output_type": "stream",
     "text": [
      "Records indentified from databases: 22865\n"
     ]
    }
   ],
   "source": [
    "total = len(crossref)+len(scopus)+len(pubmed)+len(gscholar)\n",
    "print('Records indentified from databases:', total)"
   ]
  },
  {
   "cell_type": "markdown",
   "metadata": {},
   "source": [
    "### Dropping Records without a DOI"
   ]
  },
  {
   "cell_type": "code",
   "execution_count": 14,
   "metadata": {
    "ExecuteTime": {
     "end_time": "2021-10-31T01:13:16.259534Z",
     "start_time": "2021-10-31T01:13:16.229832Z"
    }
   },
   "outputs": [],
   "source": [
    "crossref = crossref[crossref.doi.notna()]\n",
    "gscholar = gscholar[gscholar.doi.notna()]\n",
    "pubmed = pubmed[pubmed.doi.notna()]\n",
    "scopus = scopus[scopus.doi.notna()]"
   ]
  },
  {
   "cell_type": "code",
   "execution_count": 15,
   "metadata": {
    "ExecuteTime": {
     "end_time": "2021-10-31T01:13:16.264979Z",
     "start_time": "2021-10-31T01:13:16.261363Z"
    }
   },
   "outputs": [
    {
     "name": "stdout",
     "output_type": "stream",
     "text": [
      "Records left after dropping records without DOI: 12829\n",
      "Records removed: 10036\n"
     ]
    }
   ],
   "source": [
    "oldtotal = total\n",
    "total = len(crossref)+len(scopus)+len(pubmed)+len(gscholar)\n",
    "print('Records left after dropping records without DOI:', total)\n",
    "print('Records removed:', oldtotal-total)"
   ]
  },
  {
   "cell_type": "code",
   "execution_count": 16,
   "metadata": {
    "ExecuteTime": {
     "end_time": "2021-10-31T01:13:16.273578Z",
     "start_time": "2021-10-31T01:13:16.266928Z"
    }
   },
   "outputs": [
    {
     "data": {
      "text/plain": [
       "26"
      ]
     },
     "execution_count": 16,
     "metadata": {},
     "output_type": "execute_result"
    }
   ],
   "source": [
    "len(gscholar[gscholar.doi.str.contains('\\?', na=False)])"
   ]
  },
  {
   "cell_type": "code",
   "execution_count": 17,
   "metadata": {
    "ExecuteTime": {
     "end_time": "2021-10-31T01:13:16.297685Z",
     "start_time": "2021-10-31T01:13:16.276154Z"
    }
   },
   "outputs": [],
   "source": [
    "#standardise case of each doi entry\n",
    "crossref['doi'] = crossref.doi.str.lower() \n",
    "gscholar['doi'] = gscholar.doi.str.lower() \n",
    "pubmed['doi'] = pubmed.doi.str.lower()\n",
    "scopus['doi'] = scopus.doi.str.lower()\n",
    "\n",
    "# trim any dois that have extended link (i.e. \"?\" followed by anthing)\n",
    "# Google Scholar only records affected by this \n",
    "gscholar['doi'] = gscholar.doi.apply (lambda x: re.split('\\?', x)[0]) \n",
    "\n",
    "crossref['publication'] = crossref.publication.str.lower() #standardise publication names\n",
    "gscholar['publication'] = gscholar.publication.str.lower() #standardise publication names\n",
    "pubmed['publication'] = pubmed.publication.str.lower() #standardise publication names\n",
    "scopus['publication'] = scopus.publication.str.lower() #standardise publication names"
   ]
  },
  {
   "cell_type": "markdown",
   "metadata": {},
   "source": [
    "### Dropping Duplicates"
   ]
  },
  {
   "cell_type": "code",
   "execution_count": 18,
   "metadata": {
    "ExecuteTime": {
     "end_time": "2021-10-31T01:13:16.314638Z",
     "start_time": "2021-10-31T01:13:16.299721Z"
    }
   },
   "outputs": [],
   "source": [
    "crossref.drop_duplicates(subset=['doi'], inplace=True)\n",
    "gscholar.drop_duplicates(subset=['doi'], inplace=True)\n",
    "pubmed.drop_duplicates(subset=['doi'], inplace=True)\n",
    "scopus.drop_duplicates(subset=['doi'], inplace=True)"
   ]
  },
  {
   "cell_type": "code",
   "execution_count": 19,
   "metadata": {
    "ExecuteTime": {
     "end_time": "2021-10-31T01:13:16.320285Z",
     "start_time": "2021-10-31T01:13:16.316615Z"
    }
   },
   "outputs": [
    {
     "name": "stdout",
     "output_type": "stream",
     "text": [
      "Records left after droping duplicates: 12412\n",
      "Records removed: 417\n"
     ]
    }
   ],
   "source": [
    "oldtotal = total\n",
    "total = len(crossref)+len(scopus)+len(pubmed)+len(gscholar)\n",
    "print('Records left after droping duplicates:', total)\n",
    "print('Records removed:', oldtotal-total)"
   ]
  },
  {
   "cell_type": "code",
   "execution_count": 20,
   "metadata": {
    "ExecuteTime": {
     "end_time": "2021-10-31T01:13:16.336955Z",
     "start_time": "2021-10-31T01:13:16.322430Z"
    }
   },
   "outputs": [
    {
     "name": "stdout",
     "output_type": "stream",
     "text": [
      "<class 'pandas.core.frame.DataFrame'>\n",
      "Int64Index: 3993 entries, 0 to 3999\n",
      "Data columns (total 12 columns):\n",
      " #   Column          Non-Null Count  Dtype  \n",
      "---  ------          --------------  -----  \n",
      " 0   publication     3902 non-null   object \n",
      " 1   title           3993 non-null   object \n",
      " 2   authors         3769 non-null   object \n",
      " 3   doi             3993 non-null   object \n",
      " 4   year            3993 non-null   int64  \n",
      " 5   cites           3993 non-null   int64  \n",
      " 6   type            3993 non-null   object \n",
      " 7   abstract        687 non-null    object \n",
      " 8   article_url     3993 non-null   object \n",
      " 9   fulltext_url    3274 non-null   object \n",
      " 10  abstractLength  687 non-null    float64\n",
      " 11  crossref        3993 non-null   int8   \n",
      "dtypes: float64(1), int64(2), int8(1), object(8)\n",
      "memory usage: 378.2+ KB\n"
     ]
    }
   ],
   "source": [
    "crossref.info()"
   ]
  },
  {
   "cell_type": "code",
   "execution_count": 21,
   "metadata": {
    "ExecuteTime": {
     "end_time": "2021-10-31T01:13:16.350164Z",
     "start_time": "2021-10-31T01:13:16.339068Z"
    }
   },
   "outputs": [
    {
     "name": "stdout",
     "output_type": "stream",
     "text": [
      "<class 'pandas.core.frame.DataFrame'>\n",
      "Int64Index: 2317 entries, 0 to 11942\n",
      "Data columns (total 12 columns):\n",
      " #   Column          Non-Null Count  Dtype  \n",
      "---  ------          --------------  -----  \n",
      " 0   publication     2256 non-null   object \n",
      " 1   title           2317 non-null   object \n",
      " 2   authors         2317 non-null   object \n",
      " 3   doi             2317 non-null   object \n",
      " 4   year            2308 non-null   float64\n",
      " 5   cites           2317 non-null   int64  \n",
      " 6   type            468 non-null    object \n",
      " 7   abstract        2303 non-null   object \n",
      " 8   article_url     2317 non-null   object \n",
      " 9   fulltext_url    1439 non-null   object \n",
      " 10  abstractLength  2303 non-null   float64\n",
      " 11  gscholar        2317 non-null   int8   \n",
      "dtypes: float64(2), int64(1), int8(1), object(8)\n",
      "memory usage: 219.5+ KB\n"
     ]
    }
   ],
   "source": [
    "gscholar.info()"
   ]
  },
  {
   "cell_type": "code",
   "execution_count": 22,
   "metadata": {
    "ExecuteTime": {
     "end_time": "2021-10-31T01:13:16.374265Z",
     "start_time": "2021-10-31T01:13:16.353035Z"
    }
   },
   "outputs": [
    {
     "name": "stdout",
     "output_type": "stream",
     "text": [
      "<class 'pandas.core.frame.DataFrame'>\n",
      "Int64Index: 3744 entries, 0 to 4496\n",
      "Data columns (total 12 columns):\n",
      " #   Column          Non-Null Count  Dtype  \n",
      "---  ------          --------------  -----  \n",
      " 0   publication     3744 non-null   object \n",
      " 1   title           3743 non-null   object \n",
      " 2   authors         3727 non-null   object \n",
      " 3   doi             3744 non-null   object \n",
      " 4   year            3744 non-null   float64\n",
      " 5   cites           3744 non-null   int64  \n",
      " 6   type            3744 non-null   object \n",
      " 7   abstract        3254 non-null   object \n",
      " 8   article_url     0 non-null      float64\n",
      " 9   fulltext_url    0 non-null      float64\n",
      " 10  abstractLength  3254 non-null   float64\n",
      " 11  pubmed          3744 non-null   int8   \n",
      "dtypes: float64(4), int64(1), int8(1), object(6)\n",
      "memory usage: 354.7+ KB\n"
     ]
    }
   ],
   "source": [
    "pubmed.info()"
   ]
  },
  {
   "cell_type": "code",
   "execution_count": 23,
   "metadata": {
    "ExecuteTime": {
     "end_time": "2021-10-31T01:13:16.396562Z",
     "start_time": "2021-10-31T01:13:16.383001Z"
    }
   },
   "outputs": [
    {
     "name": "stdout",
     "output_type": "stream",
     "text": [
      "<class 'pandas.core.frame.DataFrame'>\n",
      "Int64Index: 2358 entries, 0 to 2399\n",
      "Data columns (total 12 columns):\n",
      " #   Column          Non-Null Count  Dtype  \n",
      "---  ------          --------------  -----  \n",
      " 0   publication     2358 non-null   object \n",
      " 1   title           2358 non-null   object \n",
      " 2   authors         2356 non-null   object \n",
      " 3   doi             2358 non-null   object \n",
      " 4   year            2358 non-null   int64  \n",
      " 5   cites           2358 non-null   int64  \n",
      " 6   type            2357 non-null   object \n",
      " 7   abstract        0 non-null      float64\n",
      " 8   article_url     545 non-null    object \n",
      " 9   fulltext_url    0 non-null      float64\n",
      " 10  abstractLength  0 non-null      float64\n",
      " 11  scopus          2358 non-null   int8   \n",
      "dtypes: float64(3), int64(2), int8(1), object(6)\n",
      "memory usage: 223.4+ KB\n"
     ]
    }
   ],
   "source": [
    "scopus.info()"
   ]
  },
  {
   "cell_type": "markdown",
   "metadata": {},
   "source": [
    "## Screening"
   ]
  },
  {
   "cell_type": "markdown",
   "metadata": {},
   "source": [
    "### Restricting to journal articles"
   ]
  },
  {
   "cell_type": "code",
   "execution_count": 24,
   "metadata": {
    "ExecuteTime": {
     "end_time": "2021-10-31T01:13:16.407333Z",
     "start_time": "2021-10-31T01:13:16.401111Z"
    }
   },
   "outputs": [
    {
     "data": {
      "text/plain": [
       "journal-article        3415\n",
       "book-chapter            395\n",
       "posted-content           53\n",
       "dataset                  35\n",
       "proceedings-article      32\n",
       "book                     18\n",
       "reference-entry          13\n",
       "peer-review              13\n",
       "component                 8\n",
       "report                    4\n",
       "monograph                 3\n",
       "other                     3\n",
       "reference-book            1\n",
       "Name: type, dtype: int64"
      ]
     },
     "execution_count": 24,
     "metadata": {},
     "output_type": "execute_result"
    }
   ],
   "source": [
    "crossref.type.value_counts()"
   ]
  },
  {
   "cell_type": "code",
   "execution_count": 25,
   "metadata": {
    "ExecuteTime": {
     "end_time": "2021-10-31T01:13:16.415423Z",
     "start_time": "2021-10-31T01:13:16.409667Z"
    }
   },
   "outputs": [
    {
     "data": {
      "text/plain": [
       "HTML        401\n",
       "CITATION     45\n",
       "PDF          15\n",
       "BOOK          7\n",
       "Name: type, dtype: int64"
      ]
     },
     "execution_count": 25,
     "metadata": {},
     "output_type": "execute_result"
    }
   ],
   "source": [
    "gscholar.type.value_counts()"
   ]
  },
  {
   "cell_type": "code",
   "execution_count": 26,
   "metadata": {
    "ExecuteTime": {
     "end_time": "2021-10-31T01:13:16.436268Z",
     "start_time": "2021-10-31T01:13:16.429474Z"
    }
   },
   "outputs": [
    {
     "data": {
      "text/plain": [
       "Journal Article                      2850\n",
       "Case Reports                          458\n",
       "Letter                                156\n",
       "Comparative Study                      82\n",
       "Editorial                              50\n",
       "Evaluation Study                       36\n",
       "English Abstract                       29\n",
       "News                                   20\n",
       "Comment                                14\n",
       "Historical Article                     13\n",
       "Clinical Trial                          7\n",
       "Biography                               6\n",
       "Published Erratum                       4\n",
       "Review                                  4\n",
       "Clinical Study                          3\n",
       "Introductory Journal Article            3\n",
       "Clinical Trial, Phase I                 1\n",
       "Clinical Trial, Phase III               1\n",
       "Corrected and Republished Article       1\n",
       "Clinical Trial, Phase II                1\n",
       "Interview                               1\n",
       "Clinical Trial Protocol                 1\n",
       "Lecture                                 1\n",
       "Controlled Clinical Trial               1\n",
       "Congress                                1\n",
       "Name: type, dtype: int64"
      ]
     },
     "execution_count": 26,
     "metadata": {},
     "output_type": "execute_result"
    }
   ],
   "source": [
    "pubmed.type.value_counts()"
   ]
  },
  {
   "cell_type": "code",
   "execution_count": 27,
   "metadata": {
    "ExecuteTime": {
     "end_time": "2021-10-31T01:13:16.436268Z",
     "start_time": "2021-10-31T01:13:16.429474Z"
    }
   },
   "outputs": [
    {
     "data": {
      "text/plain": [
       "Article             1792\n",
       "Review               460\n",
       "Letter                22\n",
       "Short Survey          19\n",
       "Note                  19\n",
       "Conference Paper      17\n",
       "Book Chapter          14\n",
       "Editorial             10\n",
       "Erratum                2\n",
       "Data Paper             1\n",
       "Book                   1\n",
       "Name: type, dtype: int64"
      ]
     },
     "execution_count": 27,
     "metadata": {},
     "output_type": "execute_result"
    }
   ],
   "source": [
    "scopus.type.value_counts()"
   ]
  },
  {
   "cell_type": "code",
   "execution_count": 28,
   "metadata": {
    "ExecuteTime": {
     "end_time": "2021-10-31T01:13:16.452499Z",
     "start_time": "2021-10-31T01:13:16.438205Z"
    }
   },
   "outputs": [],
   "source": [
    "crossref = crossref[crossref.type =='journal-article']\n",
    "gscholar = gscholar[gscholar.type.isin(['PDF', 'HTML'])]\n",
    "pubmed = pubmed[pubmed.type =='Journal Article']\n",
    "scopus = scopus[scopus.type =='Article']"
   ]
  },
  {
   "cell_type": "code",
   "execution_count": 29,
   "metadata": {
    "ExecuteTime": {
     "end_time": "2021-10-31T01:13:16.458358Z",
     "start_time": "2021-10-31T01:13:16.454520Z"
    }
   },
   "outputs": [
    {
     "name": "stdout",
     "output_type": "stream",
     "text": [
      "Records left after dropping non journal articles: 8473\n",
      "Records removed: 3939\n"
     ]
    }
   ],
   "source": [
    "oldtotal = total\n",
    "total = len(crossref)+len(scopus)+len(pubmed)+len(gscholar)\n",
    "print('Records left after dropping non journal articles:', total)\n",
    "print('Records removed:', oldtotal-total)"
   ]
  },
  {
   "cell_type": "markdown",
   "metadata": {},
   "source": [
    "### Removing records with missing Journal or Title"
   ]
  },
  {
   "cell_type": "code",
   "execution_count": 30,
   "metadata": {
    "ExecuteTime": {
     "end_time": "2021-10-31T01:13:16.491764Z",
     "start_time": "2021-10-31T01:13:16.460764Z"
    }
   },
   "outputs": [],
   "source": [
    "crossref = crossref[crossref.publication.notna() & crossref.title.notna()]\n",
    "gscholar = gscholar[gscholar.publication.notna() & gscholar.title.notna()]\n",
    "pubmed = pubmed[pubmed.publication.notna() & pubmed.title.notna()]\n",
    "scopus = scopus[scopus.publication.notna() & scopus.title.notna()]\n",
    "\n",
    "# Also drop any titles comprosed of just numbers\n",
    "crossref = crossref[crossref.title.str.lower().str.islower()] \n",
    "gscholar = gscholar[gscholar.title.str.lower().str.islower()] \n",
    "pubmed = pubmed[pubmed.title.str.lower().str.islower()] \n",
    "scopus = scopus[scopus.title.str.lower().str.islower()] "
   ]
  },
  {
   "cell_type": "code",
   "execution_count": 31,
   "metadata": {
    "ExecuteTime": {
     "end_time": "2021-10-31T01:13:16.497247Z",
     "start_time": "2021-10-31T01:13:16.493496Z"
    }
   },
   "outputs": [
    {
     "name": "stdout",
     "output_type": "stream",
     "text": [
      "Records left after dropping records with missing journal or article names: 8457\n",
      "Records removed: 16\n"
     ]
    }
   ],
   "source": [
    "oldtotal = total\n",
    "total = len(crossref)+len(scopus)+len(pubmed)+len(gscholar)\n",
    "print('Records left after dropping records with missing journal or article names:', total)\n",
    "print('Records removed:', oldtotal-total)"
   ]
  },
  {
   "cell_type": "code",
   "execution_count": 32,
   "metadata": {
    "ExecuteTime": {
     "end_time": "2021-10-31T01:13:16.511855Z",
     "start_time": "2021-10-31T01:13:16.499416Z"
    }
   },
   "outputs": [
    {
     "name": "stdout",
     "output_type": "stream",
     "text": [
      "<class 'pandas.core.frame.DataFrame'>\n",
      "Int64Index: 3414 entries, 4 to 3999\n",
      "Data columns (total 12 columns):\n",
      " #   Column          Non-Null Count  Dtype  \n",
      "---  ------          --------------  -----  \n",
      " 0   publication     3414 non-null   object \n",
      " 1   title           3414 non-null   object \n",
      " 2   authors         3305 non-null   object \n",
      " 3   doi             3414 non-null   object \n",
      " 4   year            3414 non-null   int64  \n",
      " 5   cites           3414 non-null   int64  \n",
      " 6   type            3414 non-null   object \n",
      " 7   abstract        589 non-null    object \n",
      " 8   article_url     3414 non-null   object \n",
      " 9   fulltext_url    2961 non-null   object \n",
      " 10  abstractLength  589 non-null    float64\n",
      " 11  crossref        3414 non-null   int8   \n",
      "dtypes: float64(1), int64(2), int8(1), object(8)\n",
      "memory usage: 323.4+ KB\n"
     ]
    }
   ],
   "source": [
    "crossref.info()"
   ]
  },
  {
   "cell_type": "code",
   "execution_count": 33,
   "metadata": {
    "ExecuteTime": {
     "end_time": "2021-10-31T01:13:16.525233Z",
     "start_time": "2021-10-31T01:13:16.513791Z"
    }
   },
   "outputs": [
    {
     "name": "stdout",
     "output_type": "stream",
     "text": [
      "<class 'pandas.core.frame.DataFrame'>\n",
      "Int64Index: 402 entries, 28 to 11928\n",
      "Data columns (total 12 columns):\n",
      " #   Column          Non-Null Count  Dtype  \n",
      "---  ------          --------------  -----  \n",
      " 0   publication     402 non-null    object \n",
      " 1   title           402 non-null    object \n",
      " 2   authors         402 non-null    object \n",
      " 3   doi             402 non-null    object \n",
      " 4   year            402 non-null    float64\n",
      " 5   cites           402 non-null    int64  \n",
      " 6   type            402 non-null    object \n",
      " 7   abstract        402 non-null    object \n",
      " 8   article_url     402 non-null    object \n",
      " 9   fulltext_url    402 non-null    object \n",
      " 10  abstractLength  402 non-null    float64\n",
      " 11  gscholar        402 non-null    int8   \n",
      "dtypes: float64(2), int64(1), int8(1), object(8)\n",
      "memory usage: 38.1+ KB\n"
     ]
    }
   ],
   "source": [
    "gscholar.info()"
   ]
  },
  {
   "cell_type": "code",
   "execution_count": 34,
   "metadata": {
    "ExecuteTime": {
     "end_time": "2021-10-31T01:13:16.538714Z",
     "start_time": "2021-10-31T01:13:16.527068Z"
    }
   },
   "outputs": [
    {
     "name": "stdout",
     "output_type": "stream",
     "text": [
      "<class 'pandas.core.frame.DataFrame'>\n",
      "Int64Index: 2849 entries, 0 to 4496\n",
      "Data columns (total 12 columns):\n",
      " #   Column          Non-Null Count  Dtype  \n",
      "---  ------          --------------  -----  \n",
      " 0   publication     2849 non-null   object \n",
      " 1   title           2849 non-null   object \n",
      " 2   authors         2837 non-null   object \n",
      " 3   doi             2849 non-null   object \n",
      " 4   year            2849 non-null   float64\n",
      " 5   cites           2849 non-null   int64  \n",
      " 6   type            2849 non-null   object \n",
      " 7   abstract        2720 non-null   object \n",
      " 8   article_url     0 non-null      float64\n",
      " 9   fulltext_url    0 non-null      float64\n",
      " 10  abstractLength  2720 non-null   float64\n",
      " 11  pubmed          2849 non-null   int8   \n",
      "dtypes: float64(4), int64(1), int8(1), object(6)\n",
      "memory usage: 269.9+ KB\n"
     ]
    }
   ],
   "source": [
    "pubmed.info()"
   ]
  },
  {
   "cell_type": "code",
   "execution_count": 35,
   "metadata": {
    "ExecuteTime": {
     "end_time": "2021-10-31T01:13:16.557853Z",
     "start_time": "2021-10-31T01:13:16.541257Z"
    }
   },
   "outputs": [
    {
     "name": "stdout",
     "output_type": "stream",
     "text": [
      "<class 'pandas.core.frame.DataFrame'>\n",
      "Int64Index: 1792 entries, 4 to 2399\n",
      "Data columns (total 12 columns):\n",
      " #   Column          Non-Null Count  Dtype  \n",
      "---  ------          --------------  -----  \n",
      " 0   publication     1792 non-null   object \n",
      " 1   title           1792 non-null   object \n",
      " 2   authors         1791 non-null   object \n",
      " 3   doi             1792 non-null   object \n",
      " 4   year            1792 non-null   int64  \n",
      " 5   cites           1792 non-null   int64  \n",
      " 6   type            1792 non-null   object \n",
      " 7   abstract        0 non-null      float64\n",
      " 8   article_url     355 non-null    object \n",
      " 9   fulltext_url    0 non-null      float64\n",
      " 10  abstractLength  0 non-null      float64\n",
      " 11  scopus          1792 non-null   int8   \n",
      "dtypes: float64(3), int64(2), int8(1), object(6)\n",
      "memory usage: 169.8+ KB\n"
     ]
    }
   ],
   "source": [
    "scopus.info()"
   ]
  },
  {
   "cell_type": "markdown",
   "metadata": {},
   "source": [
    "### Removing incomplete Google Scholar Journal Names that can't be matched and completed"
   ]
  },
  {
   "cell_type": "code",
   "execution_count": 36,
   "metadata": {
    "ExecuteTime": {
     "end_time": "2021-10-31T01:13:16.565832Z",
     "start_time": "2021-10-31T01:13:16.561084Z"
    }
   },
   "outputs": [],
   "source": [
    "gscholar['doiJournal'] = gscholar.doi.apply (lambda x: re.split('/', x)[0])"
   ]
  },
  {
   "cell_type": "code",
   "execution_count": 37,
   "metadata": {
    "ExecuteTime": {
     "end_time": "2021-10-31T01:13:16.571181Z",
     "start_time": "2021-10-31T01:13:16.567551Z"
    }
   },
   "outputs": [],
   "source": [
    "incompleteJournalNames = [name for name in gscholar.publication.unique() if '…' in name]\n",
    "completeJournalNames = [name for name in gscholar.publication.unique() if '…' not in name]"
   ]
  },
  {
   "cell_type": "code",
   "execution_count": 38,
   "metadata": {
    "ExecuteTime": {
     "end_time": "2021-10-31T01:13:16.577297Z",
     "start_time": "2021-10-31T01:13:16.573067Z"
    },
    "scrolled": true
   },
   "outputs": [
    {
     "data": {
      "text/plain": [
       "['bmc research …',\n",
       " 'journal of …',\n",
       " 'bmc infectious …',\n",
       " 'jrsm short …',\n",
       " 'otolaryngology–head and …',\n",
       " 'arthritis research & …',\n",
       " 'experimental and applied …',\n",
       " 'international …',\n",
       " 'molecular …',\n",
       " '… journal of rare …',\n",
       " 'acta veterinaria …',\n",
       " 'environmental health and preventive …',\n",
       " 'parasites & …',\n",
       " 'archivum immunologiae et …',\n",
       " '…',\n",
       " 'european journal of …',\n",
       " 'world journal of …',\n",
       " 'bmc veterinary …',\n",
       " 'journal of ophthalmic inflammation and …',\n",
       " 'european journal of clinical microbiology & infectious …',\n",
       " 'planta …',\n",
       " 'climate change adaptation in developed …',\n",
       " '… england journal of …',\n",
       " 'circulation: heart …',\n",
       " 'evolution: education and …',\n",
       " 'bmc …',\n",
       " 'new frontiers of molecular …',\n",
       " 'arthritis …',\n",
       " 'bmc public …',\n",
       " 'new england journal …',\n",
       " 'journal of osteopathic …',\n",
       " 'bmc medical …',\n",
       " 'bmc family …',\n",
       " 'theoretical biology and medical …',\n",
       " 'indian journal of psychological …',\n",
       " 'annals of the american …',\n",
       " 'archives of …',\n",
       " 'global pediatric …',\n",
       " 'netherlands heart …',\n",
       " 'journal of translational …',\n",
       " 'parasitology …',\n",
       " 'environmental …',\n",
       " 'systematic …',\n",
       " 'journal of ophthalmic …',\n",
       " '… and applied acarology',\n",
       " 'canadian journal of public …',\n",
       " 'pediatric …',\n",
       " 'a52. critical care case …',\n",
       " 'biomarker …',\n",
       " 'insights into …',\n",
       " 'wiener klinische …',\n",
       " 'new england journal of …',\n",
       " 'journal of general …',\n",
       " 'clinical oral …',\n",
       " 'clinical chemistry and …',\n",
       " 'american journal of …',\n",
       " 'annals of otology and …',\n",
       " 'international journal of …',\n",
       " 'current emergency and …',\n",
       " 'annals of …',\n",
       " 'italian journal of …',\n",
       " 'european archives of …',\n",
       " 'neurological …',\n",
       " 'applied microbiology and …',\n",
       " 'research involvement …',\n",
       " 'experimental and …',\n",
       " 'bmc oral …',\n",
       " 'clinical …',\n",
       " 'biomolecular nmr …',\n",
       " 'european journal of clinical microbiology & …']"
      ]
     },
     "execution_count": 38,
     "metadata": {},
     "output_type": "execute_result"
    }
   ],
   "source": [
    "incompleteJournalNames"
   ]
  },
  {
   "cell_type": "code",
   "execution_count": 39,
   "metadata": {
    "ExecuteTime": {
     "end_time": "2021-10-31T01:13:16.582993Z",
     "start_time": "2021-10-31T01:13:16.579550Z"
    }
   },
   "outputs": [],
   "source": [
    "journalNamesDict = {}"
   ]
  },
  {
   "cell_type": "code",
   "execution_count": 40,
   "metadata": {
    "ExecuteTime": {
     "end_time": "2021-10-31T01:13:16.644847Z",
     "start_time": "2021-10-31T01:13:16.585917Z"
    }
   },
   "outputs": [],
   "source": [
    "for name in completeJournalNames:\n",
    "    journalNamesDict[name] = gscholar[gscholar.publication ==name].doiJournal.unique()[0]"
   ]
  },
  {
   "cell_type": "code",
   "execution_count": 41,
   "metadata": {
    "ExecuteTime": {
     "end_time": "2021-10-31T01:13:16.651756Z",
     "start_time": "2021-10-31T01:13:16.646607Z"
    }
   },
   "outputs": [
    {
     "data": {
      "text/plain": [
       "248"
      ]
     },
     "execution_count": 41,
     "metadata": {},
     "output_type": "execute_result"
    }
   ],
   "source": [
    "len(gscholar[gscholar.publication.str.contains('…')])"
   ]
  },
  {
   "cell_type": "code",
   "execution_count": 42,
   "metadata": {
    "ExecuteTime": {
     "end_time": "2021-10-31T01:13:16.788071Z",
     "start_time": "2021-10-31T01:13:16.653895Z"
    }
   },
   "outputs": [],
   "source": [
    "for index, row in gscholar.iterrows():\n",
    "    if ('…') in row['publication']:\n",
    "        name = row['publication']\n",
    "        options=[]\n",
    "        if name.startswith('…') & name.endswith('…'):\n",
    "            newname=name[1:-1]\n",
    "            if len(newname)>1:\n",
    "                for key in journalNamesDict:\n",
    "                    if (newname in key) & (journalNamesDict[key]==row['doiJournal']):\n",
    "                        options.append(key)\n",
    "                if len(options)==1:\n",
    "                    gscholar.loc[index,'publication']= options[0]\n",
    "        elif name.startswith('…'):\n",
    "            newname=name[1:]\n",
    "            for key in journalNamesDict:\n",
    "                if (key.endswith(newname)) & (journalNamesDict[key]==row['doiJournal']):\n",
    "                    options.append(key)\n",
    "            if len(options)==1:\n",
    "                gscholar.loc[index,'publication']= options[0]\n",
    "        elif name.endswith('…'):\n",
    "            newname=name[:-1]\n",
    "            for key in journalNamesDict:\n",
    "                if (key.startswith(newname)) & (journalNamesDict[key]==row['doiJournal']):\n",
    "                    options.append(key)\n",
    "            if len(options)==1:\n",
    "                gscholar.loc[index,'publication']= options[0]"
   ]
  },
  {
   "cell_type": "code",
   "execution_count": 43,
   "metadata": {
    "ExecuteTime": {
     "end_time": "2021-10-31T01:13:16.797441Z",
     "start_time": "2021-10-31T01:13:16.791154Z"
    }
   },
   "outputs": [
    {
     "data": {
      "text/plain": [
       "118"
      ]
     },
     "execution_count": 43,
     "metadata": {},
     "output_type": "execute_result"
    }
   ],
   "source": [
    "### Number of records to be removed\n",
    "len(gscholar[gscholar.publication.str.contains('…')])"
   ]
  },
  {
   "cell_type": "code",
   "execution_count": 44,
   "metadata": {
    "ExecuteTime": {
     "end_time": "2021-10-31T01:13:16.803248Z",
     "start_time": "2021-10-31T01:13:16.799370Z"
    }
   },
   "outputs": [],
   "source": [
    "gscholar=gscholar[~gscholar.publication.str.contains('…')]"
   ]
  },
  {
   "cell_type": "code",
   "execution_count": 45,
   "metadata": {
    "ExecuteTime": {
     "end_time": "2021-10-31T01:13:16.817362Z",
     "start_time": "2021-10-31T01:13:16.805582Z"
    }
   },
   "outputs": [
    {
     "name": "stdout",
     "output_type": "stream",
     "text": [
      "<class 'pandas.core.frame.DataFrame'>\n",
      "Int64Index: 284 entries, 52 to 11928\n",
      "Data columns (total 13 columns):\n",
      " #   Column          Non-Null Count  Dtype  \n",
      "---  ------          --------------  -----  \n",
      " 0   publication     284 non-null    object \n",
      " 1   title           284 non-null    object \n",
      " 2   authors         284 non-null    object \n",
      " 3   doi             284 non-null    object \n",
      " 4   year            284 non-null    float64\n",
      " 5   cites           284 non-null    int64  \n",
      " 6   type            284 non-null    object \n",
      " 7   abstract        284 non-null    object \n",
      " 8   article_url     284 non-null    object \n",
      " 9   fulltext_url    284 non-null    object \n",
      " 10  abstractLength  284 non-null    float64\n",
      " 11  gscholar        284 non-null    int8   \n",
      " 12  doiJournal      284 non-null    object \n",
      "dtypes: float64(2), int64(1), int8(1), object(9)\n",
      "memory usage: 29.1+ KB\n"
     ]
    }
   ],
   "source": [
    "gscholar.info()"
   ]
  },
  {
   "cell_type": "code",
   "execution_count": 46,
   "metadata": {
    "ExecuteTime": {
     "end_time": "2021-10-31T01:13:16.825305Z",
     "start_time": "2021-10-31T01:13:16.820516Z"
    }
   },
   "outputs": [],
   "source": [
    "gscholar.drop(columns='doiJournal', inplace=True)"
   ]
  },
  {
   "cell_type": "code",
   "execution_count": 47,
   "metadata": {
    "ExecuteTime": {
     "end_time": "2021-10-31T01:13:16.830671Z",
     "start_time": "2021-10-31T01:13:16.827434Z"
    }
   },
   "outputs": [
    {
     "name": "stdout",
     "output_type": "stream",
     "text": [
      "Records left after dropping truncated Google Scholar journal names: 8339\n",
      "Records removed: 118\n"
     ]
    }
   ],
   "source": [
    "oldtotal = total\n",
    "total = len(crossref)+len(scopus)+len(pubmed)+len(gscholar)\n",
    "print('Records left after dropping truncated Google Scholar journal names:', total)\n",
    "print('Records removed:', oldtotal-total)"
   ]
  },
  {
   "cell_type": "markdown",
   "metadata": {},
   "source": [
    "### Preparation for Merging Remaining Records"
   ]
  },
  {
   "cell_type": "markdown",
   "metadata": {},
   "source": [
    "#### Resetting very short abstracts"
   ]
  },
  {
   "cell_type": "markdown",
   "metadata": {},
   "source": [
    "With the exception of one very short pubmed abstract, there are some abstracts that appear truncated. An arbitrary threshold of 300 characters is set with scopus and crossref abstracts short than this reset to null. Hopefully these will be properly populated by the scraping process."
   ]
  },
  {
   "cell_type": "code",
   "execution_count": 48,
   "metadata": {
    "ExecuteTime": {
     "end_time": "2021-10-31T01:13:17.488891Z",
     "start_time": "2021-10-31T01:13:16.832778Z"
    }
   },
   "outputs": [],
   "source": [
    "for idx in crossref.index:\n",
    "    if crossref.loc[idx].abstractLength<300:\n",
    "        crossref.at[idx,'abstract'] = np.NaN\n",
    "        crossref.at[idx,'abstractLength'] = np.NaN"
   ]
  },
  {
   "cell_type": "code",
   "execution_count": 49,
   "metadata": {
    "ExecuteTime": {
     "end_time": "2021-10-31T01:13:17.909543Z",
     "start_time": "2021-10-31T01:13:17.841558Z"
    }
   },
   "outputs": [],
   "source": [
    "for idx in scopus.index:\n",
    "    if scopus.loc[idx].abstractLength<300:\n",
    "        scopus.at[idx,'abstract'] = np.NaN\n",
    "        scopus.at[idx,'abstractLength'] = np.NaN"
   ]
  },
  {
   "cell_type": "code",
   "execution_count": 50,
   "metadata": {
    "ExecuteTime": {
     "end_time": "2021-10-31T01:13:17.909543Z",
     "start_time": "2021-10-31T01:13:17.841558Z"
    }
   },
   "outputs": [],
   "source": [
    "for idx in gscholar.index:\n",
    "    if gscholar.loc[idx].abstractLength<300:\n",
    "        gscholar.at[idx,'abstract'] = np.NaN\n",
    "        gscholar.at[idx,'abstractLength'] = np.NaN"
   ]
  },
  {
   "cell_type": "markdown",
   "metadata": {},
   "source": [
    "#### Dummy for Source"
   ]
  },
  {
   "cell_type": "code",
   "execution_count": 51,
   "metadata": {
    "ExecuteTime": {
     "end_time": "2021-10-31T01:13:17.925387Z",
     "start_time": "2021-10-31T01:13:17.912227Z"
    }
   },
   "outputs": [],
   "source": [
    "# Datasets already contain a dummy variable column flagging where they were obtained from. E.g pubmed['pubmed']=1\n",
    "# This aids matching columns in preparation for concatenation\n",
    "pubmed[['gscholar','crossref','scopus']]=0\n",
    "gscholar[['pubmed','crossref','scopus']]=0\n",
    "crossref[['pubmed','gscholar','scopus']]=0\n",
    "scopus[['pubmed','gscholar','crossref']]=0"
   ]
  },
  {
   "cell_type": "markdown",
   "metadata": {
    "ExecuteTime": {
     "end_time": "2021-10-30T09:55:25.955815Z",
     "start_time": "2021-10-30T09:55:25.953679Z"
    }
   },
   "source": [
    "### Building Dataframes of Unique Records"
   ]
  },
  {
   "cell_type": "markdown",
   "metadata": {},
   "source": [
    "#### Records that have DOI and abstract"
   ]
  },
  {
   "cell_type": "code",
   "execution_count": 52,
   "metadata": {
    "ExecuteTime": {
     "end_time": "2021-10-31T01:13:17.937291Z",
     "start_time": "2021-10-31T01:13:17.927789Z"
    }
   },
   "outputs": [
    {
     "data": {
      "text/plain": [
       "2720"
      ]
     },
     "execution_count": 52,
     "metadata": {},
     "output_type": "execute_result"
    }
   ],
   "source": [
    "len(pubmed[pubmed.doi.notna() & pubmed.abstract.notna()])"
   ]
  },
  {
   "cell_type": "markdown",
   "metadata": {
    "ExecuteTime": {
     "end_time": "2021-10-30T09:57:41.138116Z",
     "start_time": "2021-10-30T09:57:41.132980Z"
    }
   },
   "source": [
    "Using Pubmed results as the starting point due to their relative completeness of data, we take the 2720 results with both a DOI and abstract and add any abstracts from the Crossref, Google Scholar or Scopus records that also have a unique DOI. Using the DOI as a unique identifier prevents adding duplicates to the new collated dataset as we build it. "
   ]
  },
  {
   "cell_type": "code",
   "execution_count": 53,
   "metadata": {
    "ExecuteTime": {
     "end_time": "2021-10-31T01:13:17.958523Z",
     "start_time": "2021-10-31T01:13:17.939460Z"
    }
   },
   "outputs": [],
   "source": [
    "## Splitting Datasets by abstract and doi availability\n",
    "crossrefToAdd = crossref[crossref.doi.notna() & crossref.abstract.notna()]\n",
    "crossrefRemaining = crossref[~(crossref.doi.notna() & crossref.abstract.notna())]\n",
    "gscholarToAdd = gscholar[gscholar.doi.notna() & gscholar.abstract.notna()]\n",
    "gscholarRemaining = gscholar[~(gscholar.doi.notna() & gscholar.abstract.notna())]\n",
    "scopusToAdd = scopus[scopus.doi.notna() & scopus.abstract.notna()]\n",
    "scopusRemaining = scopus[~(scopus.doi.notna() & scopus.abstract.notna())]"
   ]
  },
  {
   "cell_type": "code",
   "execution_count": 54,
   "metadata": {
    "ExecuteTime": {
     "end_time": "2021-10-31T01:13:17.989804Z",
     "start_time": "2021-10-31T01:13:17.960709Z"
    }
   },
   "outputs": [],
   "source": [
    "#Concating unique DOI records that contain abstracts\n",
    "collated = pubmed[pubmed.doi.notna() & pubmed.abstract.notna()]\n",
    "collated = pd.concat([collated, crossrefToAdd[~crossrefToAdd['doi'].isin(pubmed.doi)]])\n",
    "collated = pd.concat([collated, scopusToAdd[~scopusToAdd['doi'].isin(collated.doi)]])\n",
    "collated = pd.concat([collated, gscholarToAdd[~gscholarToAdd['doi'].isin(collated.doi)]])"
   ]
  },
  {
   "cell_type": "code",
   "execution_count": 55,
   "metadata": {
    "ExecuteTime": {
     "end_time": "2021-10-31T01:14:18.262876Z",
     "start_time": "2021-10-31T01:13:17.992176Z"
    }
   },
   "outputs": [],
   "source": [
    "#add language of abstracts, titles and journal names\n",
    "collated['publicationLanguage'] = collated.publication.apply(detect)\n",
    "collated['titleLanguage'] = collated.title.apply(detect)\n",
    "collated['abstractLanguage'] = collated.abstract.apply(detect)\n",
    "\n",
    "#reset index\n",
    "collated.reset_index(drop = True, inplace=True)"
   ]
  },
  {
   "cell_type": "code",
   "execution_count": 56,
   "metadata": {
    "ExecuteTime": {
     "end_time": "2021-10-31T01:14:18.279859Z",
     "start_time": "2021-10-31T01:14:18.264635Z"
    }
   },
   "outputs": [
    {
     "name": "stdout",
     "output_type": "stream",
     "text": [
      "<class 'pandas.core.frame.DataFrame'>\n",
      "RangeIndex: 2962 entries, 0 to 2961\n",
      "Data columns (total 18 columns):\n",
      " #   Column               Non-Null Count  Dtype  \n",
      "---  ------               --------------  -----  \n",
      " 0   publication          2962 non-null   object \n",
      " 1   title                2962 non-null   object \n",
      " 2   authors              2958 non-null   object \n",
      " 3   doi                  2962 non-null   object \n",
      " 4   year                 2962 non-null   float64\n",
      " 5   cites                2962 non-null   int64  \n",
      " 6   type                 2962 non-null   object \n",
      " 7   abstract             2962 non-null   object \n",
      " 8   article_url          242 non-null    object \n",
      " 9   fulltext_url         210 non-null    object \n",
      " 10  abstractLength       2962 non-null   float64\n",
      " 11  pubmed               2962 non-null   int64  \n",
      " 12  gscholar             2962 non-null   int64  \n",
      " 13  crossref             2962 non-null   int64  \n",
      " 14  scopus               2962 non-null   int64  \n",
      " 15  publicationLanguage  2962 non-null   object \n",
      " 16  titleLanguage        2962 non-null   object \n",
      " 17  abstractLanguage     2962 non-null   object \n",
      "dtypes: float64(2), int64(5), object(11)\n",
      "memory usage: 416.7+ KB\n"
     ]
    }
   ],
   "source": [
    "collated.info()"
   ]
  },
  {
   "cell_type": "markdown",
   "metadata": {},
   "source": [
    "#### Records that have DOI but no abstract"
   ]
  },
  {
   "cell_type": "markdown",
   "metadata": {},
   "source": [
    "Next we build a dataframe of records that have unique DOIs but no abstract. This will be the list of abstracts we will attempt to scrape and add to the dataframe of existing abstracts."
   ]
  },
  {
   "cell_type": "code",
   "execution_count": 57,
   "metadata": {
    "ExecuteTime": {
     "end_time": "2021-10-31T01:14:18.310223Z",
     "start_time": "2021-10-31T01:14:18.282025Z"
    }
   },
   "outputs": [],
   "source": [
    "scraped = pubmed[pubmed.doi.notna() & pubmed.abstract.isna()]\n",
    "crossrefToAdd = crossrefRemaining[~(crossrefRemaining['doi'].isin(collated.doi) | crossrefRemaining['doi'].isin(scraped.doi))]\n",
    "scraped = pd.concat([scraped, crossrefToAdd])\n",
    "scopusToAdd = scopusRemaining[~(scopusRemaining['doi'].isin(collated.doi) | scopusRemaining['doi'].isin(scraped.doi))]\n",
    "scraped = pd.concat([scraped, scopusToAdd])\n",
    "gscholarToAdd = gscholarRemaining[~(gscholarRemaining['doi'].isin(collated.doi) | gscholarRemaining['doi'].isin(scraped.doi))]\n",
    "scraped = pd.concat([scraped, gscholarToAdd])"
   ]
  },
  {
   "cell_type": "code",
   "execution_count": 58,
   "metadata": {
    "ExecuteTime": {
     "end_time": "2021-10-31T01:14:54.483870Z",
     "start_time": "2021-10-31T01:14:18.312122Z"
    }
   },
   "outputs": [],
   "source": [
    "#add language of abstracts, titles and journal names\n",
    "scraped['publicationLanguage'] = scraped.publication.apply(detect)\n",
    "scraped['titleLanguage'] = scraped.title.apply(detect)\n",
    "scraped['abstractLanguage'] = np.NaN\n",
    "\n",
    "#Sort by number of times journal appears in dataset\n",
    "scraped = scraped.iloc[scraped.groupby('publication').publication.transform('size').mul(-1).argsort(kind='mergesort')]\n",
    "\n",
    "# reset index\n",
    "scraped.reset_index(drop=True, inplace=True)"
   ]
  },
  {
   "cell_type": "code",
   "execution_count": 59,
   "metadata": {
    "ExecuteTime": {
     "end_time": "2021-10-31T01:14:54.500055Z",
     "start_time": "2021-10-31T01:14:54.486525Z"
    }
   },
   "outputs": [
    {
     "name": "stdout",
     "output_type": "stream",
     "text": [
      "<class 'pandas.core.frame.DataFrame'>\n",
      "RangeIndex: 2598 entries, 0 to 2597\n",
      "Data columns (total 18 columns):\n",
      " #   Column               Non-Null Count  Dtype  \n",
      "---  ------               --------------  -----  \n",
      " 0   publication          2598 non-null   object \n",
      " 1   title                2598 non-null   object \n",
      " 2   authors              2491 non-null   object \n",
      " 3   doi                  2598 non-null   object \n",
      " 4   year                 2598 non-null   float64\n",
      " 5   cites                2598 non-null   int64  \n",
      " 6   type                 2598 non-null   object \n",
      " 7   abstract             0 non-null      object \n",
      " 8   article_url          2103 non-null   object \n",
      " 9   fulltext_url         1700 non-null   object \n",
      " 10  abstractLength       0 non-null      float64\n",
      " 11  pubmed               2598 non-null   int64  \n",
      " 12  gscholar             2598 non-null   int64  \n",
      " 13  crossref             2598 non-null   int64  \n",
      " 14  scopus               2598 non-null   int64  \n",
      " 15  publicationLanguage  2598 non-null   object \n",
      " 16  titleLanguage        2598 non-null   object \n",
      " 17  abstractLanguage     0 non-null      float64\n",
      "dtypes: float64(3), int64(5), object(10)\n",
      "memory usage: 365.5+ KB\n"
     ]
    }
   ],
   "source": [
    "scraped.info()"
   ]
  },
  {
   "cell_type": "code",
   "execution_count": 60,
   "metadata": {
    "ExecuteTime": {
     "end_time": "2021-10-31T01:14:54.506811Z",
     "start_time": "2021-10-31T01:14:54.502325Z"
    }
   },
   "outputs": [
    {
     "name": "stdout",
     "output_type": "stream",
     "text": [
      "Records left after merging records: 5560\n",
      "Records with abstracts: 2962\n",
      "Abstracts to seek to retrieve via scraping: 2598\n",
      "Records removed: 2779\n"
     ]
    }
   ],
   "source": [
    "oldtotal = total\n",
    "total = len(collated) + len(scraped)\n",
    "toScrape = len(scraped)\n",
    "print('Records left after merging records:', total)\n",
    "print(\"Records with abstracts:\", len(collated))\n",
    "print(\"Abstracts to seek to retrieve via scraping:\", toScrape)\n",
    "print('Records removed:', oldtotal-total)"
   ]
  },
  {
   "cell_type": "code",
   "execution_count": 61,
   "metadata": {
    "ExecuteTime": {
     "end_time": "2021-10-31T01:14:54.517645Z",
     "start_time": "2021-10-31T01:14:54.509322Z"
    }
   },
   "outputs": [
    {
     "data": {
      "text/plain": [
       "ticks and tick-borne diseases                                                                                                              58\n",
       "clinical infectious diseases                                                                                                               52\n",
       "parasites & vectors                                                                                                                        45\n",
       "plos one                                                                                                                                   45\n",
       "médecine et maladies infectieuses                                                                                                          38\n",
       "                                                                                                                                           ..\n",
       "cytology and genetics                                                                                                                       1\n",
       "clinical microbiology and infection : the official publication of the european society of clinical microbiology and infectious diseases     1\n",
       "palaeontographica abteilung a                                                                                                               1\n",
       "journal of clinical research & bioethics                                                                                                    1\n",
       "frontiers in veterinary science                                                                                                             1\n",
       "Name: publication, Length: 1055, dtype: int64"
      ]
     },
     "execution_count": 61,
     "metadata": {},
     "output_type": "execute_result"
    }
   ],
   "source": [
    "scraped.publication.value_counts()"
   ]
  },
  {
   "cell_type": "code",
   "execution_count": 62,
   "metadata": {
    "ExecuteTime": {
     "end_time": "2021-10-31T01:14:54.526508Z",
     "start_time": "2021-10-31T01:14:54.520084Z"
    }
   },
   "outputs": [],
   "source": [
    "del crossref\n",
    "del crossrefRemaining\n",
    "del crossrefToAdd\n",
    "del gscholar\n",
    "del gscholarRemaining\n",
    "del gscholarToAdd\n",
    "del scopus\n",
    "del scopusRemaining\n",
    "del scopusToAdd\n",
    "del pubmed"
   ]
  },
  {
   "cell_type": "markdown",
   "metadata": {},
   "source": [
    "### Saving New Dataframes"
   ]
  },
  {
   "cell_type": "code",
   "execution_count": 63,
   "metadata": {
    "ExecuteTime": {
     "end_time": "2021-10-31T01:14:54.828807Z",
     "start_time": "2021-10-31T01:14:54.528781Z"
    }
   },
   "outputs": [],
   "source": [
    "collated.to_csv('collated.csv')\n",
    "scraped.to_csv('scraped.csv')"
   ]
  },
  {
   "cell_type": "markdown",
   "metadata": {},
   "source": [
    "## Scraping"
   ]
  },
  {
   "cell_type": "code",
   "execution_count": 64,
   "metadata": {
    "ExecuteTime": {
     "end_time": "2021-10-31T01:14:55.120994Z",
     "start_time": "2021-10-31T01:14:54.831139Z"
    }
   },
   "outputs": [],
   "source": [
    "import requests                 # How Python gets the webpages\n",
    "from bs4 import BeautifulSoup   # Creates structured, searchable object\n",
    "import urllib                   # useful for cleaning/processing URLs"
   ]
  },
  {
   "cell_type": "markdown",
   "metadata": {},
   "source": [
    "### Formatting Vagaries"
   ]
  },
  {
   "cell_type": "markdown",
   "metadata": {},
   "source": [
    "In each of the main sources of articles, the parent webpage (e.g. Science Direct, plos.org) tags Abstract text in different ways. \n",
    "\n",
    "For example:\n",
    "* Science Direct (Ticks and Tick-borne Diseases): ``<h2 class=\"section-title u-h3 u-margin-l-top u-margin-xs-bottom\">Abstract</h2><div id=\"abst0005\">``\n",
    "* PLoS ONE: ``<h2>Abstract\\</h2>\\<div class=\"abstract-content\">``\n",
    "\n",
    "* Vector-Borne and Zoonotic Diseases: ``<h2>Abstract</h2></div><div class=\"abstractSection abstractInFull\">``\n",
    "\n",
    "* Parasites & Vectors: ``<h2 class=\"c-article-section__title js-section-title js-c-reading-companion-sections-item\" id=\"Abs1\">Abstract</h2><div class=\"c-article-section__content\" id=\"Abs1-content\">``\n",
    "\n",
    "In addition, some sites, notably Science Direct/Elsevier employ a redirect not picked up by the *Requests* package in Python because they use JavaScript to redirect from the page that the get request lands on. Additional handling is required in these cases to extract the actual URL, visit it and extract the Abstract text. "
   ]
  },
  {
   "cell_type": "code",
   "execution_count": 74,
   "metadata": {
    "ExecuteTime": {
     "end_time": "2021-10-31T04:08:41.957741Z",
     "start_time": "2021-10-31T04:08:41.937279Z"
    }
   },
   "outputs": [],
   "source": [
    "def scrapeAbstracts(doi):\n",
    "    headers = {'User-Agent': \"Mozilla/5.0 (Macintosh; Intel Mac OS X 10_13_1) AppleWebKit/537.36 (K HTML, like Gecko) Chrome/61.0.3163.100 Safari/537.36\"\n",
    "              }\n",
    "    url = 'http://dx.doi.org/' + doi\n",
    "#     print(url)\n",
    "    try:\n",
    "        response = requests.get(url) \n",
    "    except requests.exceptions.RequestException as e:\n",
    "        return 'Error'\n",
    "        \n",
    "    if(response.status_code!=200):\n",
    "        return str(response.status_code)+ ' response'\n",
    "    \n",
    "    page = response.content\n",
    "    captalised = False\n",
    "    abstractHeadingStart = page.find(b'>Abstract<')\n",
    "    if abstractHeadingStart==-1: \n",
    "        abstractHeadingStart = page.find(b'>ABSTRACT<')\n",
    "        if abstractHeadingStart==-1:\n",
    "            redirect = page.find(b'redirect')\n",
    "            if redirect ==-1:\n",
    "                return 'No abstract found'\n",
    "            else:\n",
    "                URLstart = page.find(b'http', redirect)\n",
    "                URLend = page.find(b'\"', URLstart)\n",
    "                URLencoded = page[URLstart:URLend]\n",
    "                URLdecoded = URLencoded.decode('UTF-8')\n",
    "                redirectURL = urllib.parse.unquote(URLdecoded)\n",
    "                redirectURLshort = redirectURL[:redirectURL.find('?')]\n",
    "#                 print(redirectURLshort)\n",
    "                try:\n",
    "                    response = requests.get(redirectURL, headers=headers)\n",
    "                except requests.exceptions.RequestException as e:\n",
    "                    return 'Error after redirect'\n",
    "                if(response.status_code!=200):\n",
    "                    return 'No response'\n",
    "                page = response.content\n",
    "                abstractHeadingStart = page.find(b'>Abstract<')\n",
    "                if abstractHeadingStart==-1: \n",
    "                    return 'No abstract found'\n",
    "        else:\n",
    "            captalised=True\n",
    "#             print(captalised)\n",
    "    if (captalised):\n",
    "        lastMentionofAbstract = page.rfind(b'>ABSTRACT<')\n",
    "        if abstractHeadingStart != lastMentionofAbstract:\n",
    "#             print('test')\n",
    "            if page.find(b'>ABSTRACT</h')> abstractHeadingStart:\n",
    "                abstractHeadingStart = page.find(b'>ABSTRACT</h')\n",
    "        divTagStart = page.find(b'<div', abstractHeadingStart+len('>ABSTRACT<'))\n",
    "        \n",
    "    else:\n",
    "        lastMentionofAbstract = page.rfind(b'>Abstract<')\n",
    "        if abstractHeadingStart != lastMentionofAbstract:\n",
    "#             print('test2')\n",
    "            if page.find(b'>Abstract</h')> abstractHeadingStart:\n",
    "                abstractHeadingStart = page.find(b'>Abstract</h')\n",
    "        divTagStart = page.find(b'<div', abstractHeadingStart+len('>Abstract<'))\n",
    "        if divTagStart - abstractHeadingStart > 200:\n",
    "            divTagStart = page.rfind(b'<div', 0, abstractHeadingStart)\n",
    "    #         print(page[abstractHeadingStart:abstractHeadingend])\n",
    "#     print(page[abstractHeadingStart:])\n",
    "\n",
    "\n",
    "    try:        \n",
    "        \n",
    "        divTagEnd = page.find(b'>', divTagStart)\n",
    "        divTag = page[divTagStart:divTagEnd]\n",
    "        divTagType = divTag[divTag.find(b' ')+1:divTag.find(b'=')].decode()\n",
    "        divTagAtrr = divTag[divTag.find(b'\"')+1:]\n",
    "        divTagAtrr = divTagAtrr[:divTagAtrr.find(b'\"')]\n",
    "        \n",
    "#         print(divTag)\n",
    "#         print(divTagType)\n",
    "#         print(divTagAtrr)\n",
    "        scraping = BeautifulSoup(page, \"html\") \n",
    "        text = scraping.find(\"div\", attrs={divTagType: divTagAtrr})\n",
    "        for subTag in text.contents[:-1]:\n",
    "            if subTag.name is not None and subTag.name.startswith(\"h\"):\n",
    "                subTag.string = subTag.string + '.'\n",
    "\n",
    "    except AttributeError as error:\n",
    "        try:\n",
    "            headingTag = page[page.rfind(b'<',0, abstractHeadingStart):abstractHeadingStart]\n",
    "            headingTag = headingTag[:3]\n",
    "            abstractStart = page.find(b'>', abstractHeadingStart+len('>Abstract<'))+1\n",
    "            abstractEnd = page.find(headingTag,abstractStart)\n",
    "\n",
    "            scraping = BeautifulSoup(page[abstractStart:abstractEnd], \"html\") \n",
    "            text = scraping.get_text(strip=True)\n",
    "            return text\n",
    "        except TypeError as error:\n",
    "            return 'TypeError after Attribute Error'\n",
    "    except TypeError as error:\n",
    "        return 'TypeError'\n",
    "#         print(divTag)\n",
    "#         print(divTagType)\n",
    "#         print(divTagAtrr)\n",
    "#     print('returns')\n",
    "    return text.get_text(separator = ' ', strip=True)"
   ]
  },
  {
   "cell_type": "markdown",
   "metadata": {},
   "source": [
    "### Scraping Function"
   ]
  },
  {
   "cell_type": "code",
   "execution_count": 66,
   "metadata": {
    "ExecuteTime": {
     "end_time": "2021-10-31T01:14:55.153386Z",
     "start_time": "2021-10-31T01:14:55.141771Z"
    }
   },
   "outputs": [
    {
     "name": "stdout",
     "output_type": "stream",
     "text": [
      "There are 1055 different publications in the scraping dataset.\n",
      "660 of them appear only once.\n",
      "Another 169 appear just twice.\n"
     ]
    }
   ],
   "source": [
    "print('There are', scraped.publication.nunique(), 'different publications in the scraping dataset.')\n",
    "print(sum(scraped.publication.value_counts()==1), \"of them appear only once.\")\n",
    "print(\"Another\", sum(scraped.publication.value_counts()==2), \"appear just twice.\")"
   ]
  },
  {
   "cell_type": "code",
   "execution_count": 67,
   "metadata": {
    "ExecuteTime": {
     "end_time": "2021-10-31T01:14:55.166412Z",
     "start_time": "2021-10-31T01:14:55.157997Z"
    }
   },
   "outputs": [
    {
     "data": {
      "text/plain": [
       "ticks and tick-borne diseases         58\n",
       "clinical infectious diseases          52\n",
       "parasites & vectors                   45\n",
       "plos one                              45\n",
       "médecine et maladies infectieuses     38\n",
       "parasites and vectors                 32\n",
       "the american journal of medicine      29\n",
       "emerging infectious diseases          28\n",
       "revue francophone des laboratoires    27\n",
       "vector-borne and zoonotic diseases    21\n",
       "Name: publication, dtype: int64"
      ]
     },
     "execution_count": 67,
     "metadata": {},
     "output_type": "execute_result"
    }
   ],
   "source": [
    "scraped.publication.value_counts()[:10]"
   ]
  },
  {
   "cell_type": "code",
   "execution_count": null,
   "metadata": {
    "ExecuteTime": {
     "end_time": "2021-10-31T01:45:10.670887Z",
     "start_time": "2021-10-31T01:13:14.326Z"
    }
   },
   "outputs": [],
   "source": [
    "scraped['abstract']= scraped.doi.apply(scrapeAbstracts)"
   ]
  },
  {
   "cell_type": "code",
   "execution_count": 80,
   "metadata": {
    "ExecuteTime": {
     "end_time": "2021-10-31T06:29:37.002202Z",
     "start_time": "2021-10-31T06:29:36.997881Z"
    }
   },
   "outputs": [],
   "source": [
    "scraped['abstractLength']=scraped.abstract.apply(len)"
   ]
  },
  {
   "cell_type": "code",
   "execution_count": 138,
   "metadata": {
    "ExecuteTime": {
     "end_time": "2021-10-31T08:16:29.872767Z",
     "start_time": "2021-10-31T08:16:29.770198Z"
    }
   },
   "outputs": [],
   "source": [
    "scraped.to_csv('scrapedAbstractswithMisses.csv')"
   ]
  },
  {
   "cell_type": "markdown",
   "metadata": {},
   "source": [
    "## Processing Scraped Data"
   ]
  },
  {
   "cell_type": "code",
   "execution_count": 139,
   "metadata": {
    "ExecuteTime": {
     "end_time": "2021-10-31T08:16:34.764237Z",
     "start_time": "2021-10-31T08:16:34.733179Z"
    }
   },
   "outputs": [
    {
     "data": {
      "text/html": [
       "<div>\n",
       "<style scoped>\n",
       "    .dataframe tbody tr th:only-of-type {\n",
       "        vertical-align: middle;\n",
       "    }\n",
       "\n",
       "    .dataframe tbody tr th {\n",
       "        vertical-align: top;\n",
       "    }\n",
       "\n",
       "    .dataframe thead th {\n",
       "        text-align: right;\n",
       "    }\n",
       "</style>\n",
       "<table border=\"1\" class=\"dataframe\">\n",
       "  <thead>\n",
       "    <tr style=\"text-align: right;\">\n",
       "      <th></th>\n",
       "      <th>year</th>\n",
       "      <th>cites</th>\n",
       "      <th>abstractLength</th>\n",
       "      <th>pubmed</th>\n",
       "      <th>gscholar</th>\n",
       "      <th>crossref</th>\n",
       "      <th>scopus</th>\n",
       "      <th>abstractLanguage</th>\n",
       "    </tr>\n",
       "  </thead>\n",
       "  <tbody>\n",
       "    <tr>\n",
       "      <th>count</th>\n",
       "      <td>2598.000000</td>\n",
       "      <td>2598.000000</td>\n",
       "      <td>2598.000000</td>\n",
       "      <td>2598.000000</td>\n",
       "      <td>2598.000000</td>\n",
       "      <td>2598.000000</td>\n",
       "      <td>2598.000000</td>\n",
       "      <td>0.0</td>\n",
       "    </tr>\n",
       "    <tr>\n",
       "      <th>mean</th>\n",
       "      <td>2015.843341</td>\n",
       "      <td>10.958430</td>\n",
       "      <td>654.788299</td>\n",
       "      <td>0.049654</td>\n",
       "      <td>0.035412</td>\n",
       "      <td>0.738645</td>\n",
       "      <td>0.176289</td>\n",
       "      <td>NaN</td>\n",
       "    </tr>\n",
       "    <tr>\n",
       "      <th>std</th>\n",
       "      <td>3.240177</td>\n",
       "      <td>25.893978</td>\n",
       "      <td>2690.957488</td>\n",
       "      <td>0.217270</td>\n",
       "      <td>0.184854</td>\n",
       "      <td>0.439457</td>\n",
       "      <td>0.381140</td>\n",
       "      <td>NaN</td>\n",
       "    </tr>\n",
       "    <tr>\n",
       "      <th>min</th>\n",
       "      <td>2010.000000</td>\n",
       "      <td>0.000000</td>\n",
       "      <td>0.000000</td>\n",
       "      <td>0.000000</td>\n",
       "      <td>0.000000</td>\n",
       "      <td>0.000000</td>\n",
       "      <td>0.000000</td>\n",
       "      <td>NaN</td>\n",
       "    </tr>\n",
       "    <tr>\n",
       "      <th>25%</th>\n",
       "      <td>2013.000000</td>\n",
       "      <td>0.000000</td>\n",
       "      <td>12.000000</td>\n",
       "      <td>0.000000</td>\n",
       "      <td>0.000000</td>\n",
       "      <td>0.000000</td>\n",
       "      <td>0.000000</td>\n",
       "      <td>NaN</td>\n",
       "    </tr>\n",
       "    <tr>\n",
       "      <th>50%</th>\n",
       "      <td>2016.000000</td>\n",
       "      <td>1.000000</td>\n",
       "      <td>17.000000</td>\n",
       "      <td>0.000000</td>\n",
       "      <td>0.000000</td>\n",
       "      <td>1.000000</td>\n",
       "      <td>0.000000</td>\n",
       "      <td>NaN</td>\n",
       "    </tr>\n",
       "    <tr>\n",
       "      <th>75%</th>\n",
       "      <td>2019.000000</td>\n",
       "      <td>12.000000</td>\n",
       "      <td>985.750000</td>\n",
       "      <td>0.000000</td>\n",
       "      <td>0.000000</td>\n",
       "      <td>1.000000</td>\n",
       "      <td>0.000000</td>\n",
       "      <td>NaN</td>\n",
       "    </tr>\n",
       "    <tr>\n",
       "      <th>max</th>\n",
       "      <td>2021.000000</td>\n",
       "      <td>366.000000</td>\n",
       "      <td>90380.000000</td>\n",
       "      <td>1.000000</td>\n",
       "      <td>1.000000</td>\n",
       "      <td>1.000000</td>\n",
       "      <td>1.000000</td>\n",
       "      <td>NaN</td>\n",
       "    </tr>\n",
       "  </tbody>\n",
       "</table>\n",
       "</div>"
      ],
      "text/plain": [
       "              year        cites  abstractLength       pubmed     gscholar  \\\n",
       "count  2598.000000  2598.000000     2598.000000  2598.000000  2598.000000   \n",
       "mean   2015.843341    10.958430      654.788299     0.049654     0.035412   \n",
       "std       3.240177    25.893978     2690.957488     0.217270     0.184854   \n",
       "min    2010.000000     0.000000        0.000000     0.000000     0.000000   \n",
       "25%    2013.000000     0.000000       12.000000     0.000000     0.000000   \n",
       "50%    2016.000000     1.000000       17.000000     0.000000     0.000000   \n",
       "75%    2019.000000    12.000000      985.750000     0.000000     0.000000   \n",
       "max    2021.000000   366.000000    90380.000000     1.000000     1.000000   \n",
       "\n",
       "          crossref       scopus  abstractLanguage  \n",
       "count  2598.000000  2598.000000               0.0  \n",
       "mean      0.738645     0.176289               NaN  \n",
       "std       0.439457     0.381140               NaN  \n",
       "min       0.000000     0.000000               NaN  \n",
       "25%       0.000000     0.000000               NaN  \n",
       "50%       1.000000     0.000000               NaN  \n",
       "75%       1.000000     0.000000               NaN  \n",
       "max       1.000000     1.000000               NaN  "
      ]
     },
     "execution_count": 139,
     "metadata": {},
     "output_type": "execute_result"
    }
   ],
   "source": [
    "scraped.describe()"
   ]
  },
  {
   "cell_type": "markdown",
   "metadata": {},
   "source": [
    "### Non Unique Counts for Scraped Abstracts"
   ]
  },
  {
   "cell_type": "code",
   "execution_count": 140,
   "metadata": {
    "ExecuteTime": {
     "end_time": "2021-10-31T08:16:41.677072Z",
     "start_time": "2021-10-31T08:16:41.661654Z"
    },
    "scrolled": false
   },
   "outputs": [
    {
     "data": {
      "text/plain": [
       "No abstract found                                                                                                                                                                                                                                                                                                                                                                                                                                                                                                                                                                                                                                                                                                                                                                                                                                                                                                                                                                                                                                                  704\n",
       "                                                                                                                                                                                                                                                                                                                                                                                                                                                                                                                                                                                                                                                                                                                                                                                                                                                                                                                                                                                                                                                                   255\n",
       "403 response                                                                                                                                                                                                                                                                                                                                                                                                                                                                                                                                                                                                                                                                                                                                                                                                                                                                                                                                                                                                                                                       238\n",
       "503 response                                                                                                                                                                                                                                                                                                                                                                                                                                                                                                                                                                                                                                                                                                                                                                                                                                                                                                                                                                                                                                                       183\n",
       "No response                                                                                                                                                                                                                                                                                                                                                                                                                                                                                                                                                                                                                                                                                                                                                                                                                                                                                                                                                                                                                                                         72\n",
       "Error after redirect                                                                                                                                                                                                                                                                                                                                                                                                                                                                                                                                                                                                                                                                                                                                                                                                                                                                                                                                                                                                                                                27\n",
       "404 response                                                                                                                                                                                                                                                                                                                                                                                                                                                                                                                                                                                                                                                                                                                                                                                                                                                                                                                                                                                                                                                        22\n",
       "Previous Abstract Next Abstract                                                                                                                                                                                                                                                                                                                                                                                                                                                                                                                                                                                                                                                                                                                                                                                                                                                                                                                                                                                                                                     20\n",
       "This Journal Full Site                                                                                                                                                                                                                                                                                                                                                                                                                                                                                                                                                                                                                                                                                                                                                                                                                                                                                                                                                                                                                                              19\n",
       "TypeError                                                                                                                                                                                                                                                                                                                                                                                                                                                                                                                                                                                                                                                                                                                                                                                                                                                                                                                                                                                                                                                           16\n",
       "406 response                                                                                                                                                                                                                                                                                                                                                                                                                                                                                                                                                                                                                                                                                                                                                                                                                                                                                                                                                                                                                                                         9\n",
       "Error                                                                                                                                                                                                                                                                                                                                                                                                                                                                                                                                                                                                                                                                                                                                                                                                                                                                                                                                                                                                                                                                8\n",
       "OpenUrl FREE Full Text                                                                                                                                                                                                                                                                                                                                                                                                                                                                                                                                                                                                                                                                                                                                                                                                                                                                                                                                                                                                                                               5\n",
       "This Journal Full site                                                                                                                                                                                                                                                                                                                                                                                                                                                                                                                                                                                                                                                                                                                                                                                                                                                                                                                                                                                                                                               5\n",
       "OpenUrl CrossRef PubMed                                                                                                                                                                                                                                                                                                                                                                                                                                                                                                                                                                                                                                                                                                                                                                                                                                                                                                                                                                                                                                              5\n",
       "Abstract                                                                                                                                                                                                                                                                                                                                                                                                                                                                                                                                                                                                                                                                                                                                                                                                                                                                                                                                                                                                                                                             4\n",
       "Format Abstract PubMed PMID                                                                                                                                                                                                                                                                                                                                                                                                                                                                                                                                                                                                                                                                                                                                                                                                                                                                                                                                                                                                                                          3\n",
       "Home About us My Profile Registration Products Journals Subject Collections Archives UGC-Care/Scopus/WOS Listed Journals Directory Complete Website Article\\r\\n                Submission Usage Statistics Price List\\r\\n                2022 Contact Us Tutorial FAQs Guidelines Login/Register                                                                                                                                                                                                                                                                                                                                                                                                                                                                                                                                                                                                                                                                                                                                                                     3\n",
       "Article preview. Abstract Section snippets Recommended articles (6)                                                                                                                                                                                                                                                                                                                                                                                                                                                                                                                                                                                                                                                                                                                                                                                                                                                                                                                                                                                                  3\n",
       "Abstract References PDF Cited By                                                                                                                                                                                                                                                                                                                                                                                                                                                                                                                                                                                                                                                                                                                                                                                                                                                                                                                                                                                                                                     3\n",
       "OpenUrl Abstract / FREE Full Text                                                                                                                                                                                                                                                                                                                                                                                                                                                                                                                                                                                                                                                                                                                                                                                                                                                                                                                                                                                                                                    2\n",
       "Buy Article Permissions and Reprints Wenn die Tage wieder wärmer werden, beginnt auch die Hochsaison der Zecken. Neben der Frühsommer-Meningoenzephalitis (FSME) ist vor allem die Borreliose ein gefürchtetes Andenken an den Zeckenbiss. Bei Borrelien handelt es sich um Bakterien aus der Gruppe der Spirochäten, die bei Menschen und Säugetieren verschiedene Erkrankungen auslösen können; übertragen werden sie meist durch den Biss von Zecken. Spirochäten sind Gram-negative korkenzieherartige Bakterien, die sich mit Hilfe sogenannter Endoflagellen aktiv fortbewegen können. Entdeckt wurden sie durch den französischen Bakteriologen Amédée Borrel (1867–1936), der an der Universität von Montpellier studierte und dort auch 1890 promovierte. Anschließend ging er ans Pariser Pasteur-Institut, wo er sich vorwiegend mit der Tuberkulose-Forschung sowie gemeinsam mit Albert Calmette (1863–1933) und Alexandre Yersin (1863–1943, nach ihm sind die Yersinien benannt) mit der Suche nach einem Impfstoff gegen die Pest beschäftigte.      2\n",
       "Abstract. With a growing world population and increasingly demanding consumers, the production of sufficient protein from livestock, poultry, and fish represents a serious challenge for the future. Approximately 1,900 insect species are eaten worldwide, mainly in ... Read More Full Text HTML Download PDF                                                                                                                                                                                                                                                                                                                                                                                                                                                                                                                                                                                                                                                                                                                                                    2\n",
       "HTML view is not available for this content. However, as you have access to this content, a full PDF is available via the ‘Save PDF’ action button.                                                                                                                                                                                                                                                                                                                                                                                                                                                                                                                                                                                                                                                                                                                                                                                                                                                                                                                  2\n",
       "abortion pill online. Secure abortion pill tablets. There he could simply order pill for abortion online generic.There we could simply order generic site .                                                                                                                                                                                                                                                                                                                                                                                                                                                                                                                                                                                                                                                                                                                                                                                                                                                                                                          2\n",
       "Article overview                                                                                                                                                                                                                                                                                                                                                                                                                                                                                                                                                                                                                                                                                                                                                                                                                                                                                                                                                                                                                                                     2\n",
       "OpenUrl PubMed                                                                                                                                                                                                                                                                                                                                                                                                                                                                                                                                                                                                                                                                                                                                                                                                                                                                                                                                                                                                                                                       2\n",
       "Name: abstract, dtype: int64"
      ]
     },
     "execution_count": 140,
     "metadata": {},
     "output_type": "execute_result"
    }
   ],
   "source": [
    "#Show all value counts for abstracts where value is more than 1 (i.e. non-unique)\n",
    "#We will drop all of these records as no meainingful abstracts have been found\n",
    "scraped[scraped.groupby(\"abstract\")['abstract'].transform('size') > 1].abstract.value_counts()"
   ]
  },
  {
   "cell_type": "code",
   "execution_count": 145,
   "metadata": {
    "ExecuteTime": {
     "end_time": "2021-10-31T08:21:16.886611Z",
     "start_time": "2021-10-31T08:21:16.876289Z"
    }
   },
   "outputs": [],
   "source": [
    "scraped = scraped[scraped.groupby(\"abstract\")['abstract'].transform('size') == 1]"
   ]
  },
  {
   "cell_type": "code",
   "execution_count": null,
   "metadata": {},
   "outputs": [],
   "source": [
    "oldtotal = total\n",
    "total = len(collated) + len(scraped)\n",
    "toScrape = len(scraped)\n",
    "print('Records left after merging records:', total)\n",
    "print(\"Records with abstracts:\", len(collated))\n",
    "print(\"Abstracts to seek to retrieve via scraping:\", toScrape)\n",
    "print('Records removed:', oldtotal-total)"
   ]
  },
  {
   "cell_type": "code",
   "execution_count": 147,
   "metadata": {
    "ExecuteTime": {
     "end_time": "2021-10-31T08:22:08.790159Z",
     "start_time": "2021-10-31T08:22:08.757943Z"
    }
   },
   "outputs": [
    {
     "data": {
      "text/html": [
       "<div>\n",
       "<style scoped>\n",
       "    .dataframe tbody tr th:only-of-type {\n",
       "        vertical-align: middle;\n",
       "    }\n",
       "\n",
       "    .dataframe tbody tr th {\n",
       "        vertical-align: top;\n",
       "    }\n",
       "\n",
       "    .dataframe thead th {\n",
       "        text-align: right;\n",
       "    }\n",
       "</style>\n",
       "<table border=\"1\" class=\"dataframe\">\n",
       "  <thead>\n",
       "    <tr style=\"text-align: right;\">\n",
       "      <th></th>\n",
       "      <th>year</th>\n",
       "      <th>cites</th>\n",
       "      <th>abstractLength</th>\n",
       "      <th>pubmed</th>\n",
       "      <th>gscholar</th>\n",
       "      <th>crossref</th>\n",
       "      <th>scopus</th>\n",
       "      <th>abstractLanguage</th>\n",
       "    </tr>\n",
       "  </thead>\n",
       "  <tbody>\n",
       "    <tr>\n",
       "      <th>count</th>\n",
       "      <td>980.000000</td>\n",
       "      <td>980.000000</td>\n",
       "      <td>980.000000</td>\n",
       "      <td>980.000000</td>\n",
       "      <td>980.000000</td>\n",
       "      <td>980.000000</td>\n",
       "      <td>980.000000</td>\n",
       "      <td>0.0</td>\n",
       "    </tr>\n",
       "    <tr>\n",
       "      <th>mean</th>\n",
       "      <td>2015.753061</td>\n",
       "      <td>17.533673</td>\n",
       "      <td>1710.419388</td>\n",
       "      <td>0.006122</td>\n",
       "      <td>0.072449</td>\n",
       "      <td>0.611224</td>\n",
       "      <td>0.310204</td>\n",
       "      <td>NaN</td>\n",
       "    </tr>\n",
       "    <tr>\n",
       "      <th>std</th>\n",
       "      <td>3.316200</td>\n",
       "      <td>29.703504</td>\n",
       "      <td>4173.146666</td>\n",
       "      <td>0.078046</td>\n",
       "      <td>0.259362</td>\n",
       "      <td>0.487721</td>\n",
       "      <td>0.462813</td>\n",
       "      <td>NaN</td>\n",
       "    </tr>\n",
       "    <tr>\n",
       "      <th>min</th>\n",
       "      <td>2010.000000</td>\n",
       "      <td>0.000000</td>\n",
       "      <td>7.000000</td>\n",
       "      <td>0.000000</td>\n",
       "      <td>0.000000</td>\n",
       "      <td>0.000000</td>\n",
       "      <td>0.000000</td>\n",
       "      <td>NaN</td>\n",
       "    </tr>\n",
       "    <tr>\n",
       "      <th>25%</th>\n",
       "      <td>2013.000000</td>\n",
       "      <td>1.000000</td>\n",
       "      <td>740.000000</td>\n",
       "      <td>0.000000</td>\n",
       "      <td>0.000000</td>\n",
       "      <td>0.000000</td>\n",
       "      <td>0.000000</td>\n",
       "      <td>NaN</td>\n",
       "    </tr>\n",
       "    <tr>\n",
       "      <th>50%</th>\n",
       "      <td>2016.000000</td>\n",
       "      <td>9.000000</td>\n",
       "      <td>1330.500000</td>\n",
       "      <td>0.000000</td>\n",
       "      <td>0.000000</td>\n",
       "      <td>1.000000</td>\n",
       "      <td>0.000000</td>\n",
       "      <td>NaN</td>\n",
       "    </tr>\n",
       "    <tr>\n",
       "      <th>75%</th>\n",
       "      <td>2019.000000</td>\n",
       "      <td>22.000000</td>\n",
       "      <td>1777.500000</td>\n",
       "      <td>0.000000</td>\n",
       "      <td>0.000000</td>\n",
       "      <td>1.000000</td>\n",
       "      <td>1.000000</td>\n",
       "      <td>NaN</td>\n",
       "    </tr>\n",
       "    <tr>\n",
       "      <th>max</th>\n",
       "      <td>2021.000000</td>\n",
       "      <td>366.000000</td>\n",
       "      <td>90380.000000</td>\n",
       "      <td>1.000000</td>\n",
       "      <td>1.000000</td>\n",
       "      <td>1.000000</td>\n",
       "      <td>1.000000</td>\n",
       "      <td>NaN</td>\n",
       "    </tr>\n",
       "  </tbody>\n",
       "</table>\n",
       "</div>"
      ],
      "text/plain": [
       "              year       cites  abstractLength      pubmed    gscholar  \\\n",
       "count   980.000000  980.000000      980.000000  980.000000  980.000000   \n",
       "mean   2015.753061   17.533673     1710.419388    0.006122    0.072449   \n",
       "std       3.316200   29.703504     4173.146666    0.078046    0.259362   \n",
       "min    2010.000000    0.000000        7.000000    0.000000    0.000000   \n",
       "25%    2013.000000    1.000000      740.000000    0.000000    0.000000   \n",
       "50%    2016.000000    9.000000     1330.500000    0.000000    0.000000   \n",
       "75%    2019.000000   22.000000     1777.500000    0.000000    0.000000   \n",
       "max    2021.000000  366.000000    90380.000000    1.000000    1.000000   \n",
       "\n",
       "         crossref      scopus  abstractLanguage  \n",
       "count  980.000000  980.000000               0.0  \n",
       "mean     0.611224    0.310204               NaN  \n",
       "std      0.487721    0.462813               NaN  \n",
       "min      0.000000    0.000000               NaN  \n",
       "25%      0.000000    0.000000               NaN  \n",
       "50%      1.000000    0.000000               NaN  \n",
       "75%      1.000000    1.000000               NaN  \n",
       "max      1.000000    1.000000               NaN  "
      ]
     },
     "execution_count": 147,
     "metadata": {},
     "output_type": "execute_result"
    }
   ],
   "source": [
    "scraped.describe()"
   ]
  },
  {
   "cell_type": "markdown",
   "metadata": {},
   "source": [
    "### Removing extremely short 'abstracts'"
   ]
  },
  {
   "cell_type": "code",
   "execution_count": 175,
   "metadata": {
    "ExecuteTime": {
     "end_time": "2021-10-31T08:54:58.163334Z",
     "start_time": "2021-10-31T08:54:58.159170Z"
    },
    "scrolled": false
   },
   "outputs": [],
   "source": [
    "# Abstracts shoter than 300 characters include error messages and incomplete scrapings\n",
    "scraped = scraped[scraped.abstractLength>300]"
   ]
  },
  {
   "cell_type": "markdown",
   "metadata": {},
   "source": [
    "### Joining datasets"
   ]
  },
  {
   "cell_type": "code",
   "execution_count": 179,
   "metadata": {
    "ExecuteTime": {
     "end_time": "2021-10-31T08:57:51.453167Z",
     "start_time": "2021-10-31T08:57:51.449868Z"
    }
   },
   "outputs": [],
   "source": [
    "#adding column to track method of collection after records are joined\n",
    "collated['source']='collated'\n",
    "scraped['source']='scraped'"
   ]
  },
  {
   "cell_type": "code",
   "execution_count": 231,
   "metadata": {
    "ExecuteTime": {
     "end_time": "2021-10-31T09:45:52.232395Z",
     "start_time": "2021-10-31T09:45:52.223436Z"
    }
   },
   "outputs": [],
   "source": [
    "abstracts= pd.concat([collated, scraped])\n",
    "abstracts.reset_index(inplace=True, drop=True)"
   ]
  },
  {
   "cell_type": "code",
   "execution_count": 242,
   "metadata": {
    "ExecuteTime": {
     "end_time": "2021-10-31T09:54:10.255593Z",
     "start_time": "2021-10-31T09:54:09.994576Z"
    }
   },
   "outputs": [
    {
     "data": {
      "image/png": "[encoded data removed]",
      "text/plain": [
       "<Figure size 1080x720 with 1 Axes>"
      ]
     },
     "metadata": {
      "needs_background": "light"
     },
     "output_type": "display_data"
    }
   ],
   "source": [
    "sns.boxplot(y='source', x='abstractLength', data=abstracts)\n",
    "plt.title('Comaparing Length of Abstracts - Collated v Scraped');"
   ]
  },
  {
   "cell_type": "code",
   "execution_count": 241,
   "metadata": {
    "ExecuteTime": {
     "end_time": "2021-10-31T09:53:43.610638Z",
     "start_time": "2021-10-31T09:53:43.393190Z"
    }
   },
   "outputs": [
    {
     "data": {
      "image/png": "[encoded data removed]",
      "text/plain": [
       "<Figure size 1080x720 with 1 Axes>"
      ]
     },
     "metadata": {
      "needs_background": "light"
     },
     "output_type": "display_data"
    }
   ],
   "source": [
    "sns.boxplot(x='abstractLength', data=scraped)\n",
    "plt.title('Length of Abstracts in the Scraped Dataset');"
   ]
  },
  {
   "cell_type": "code",
   "execution_count": 240,
   "metadata": {
    "ExecuteTime": {
     "end_time": "2021-10-31T09:53:25.143594Z",
     "start_time": "2021-10-31T09:53:24.942979Z"
    }
   },
   "outputs": [
    {
     "data": {
      "image/png": "[encoded data removed]",
      "text/plain": [
       "<Figure size 1080x720 with 1 Axes>"
      ]
     },
     "metadata": {
      "needs_background": "light"
     },
     "output_type": "display_data"
    }
   ],
   "source": [
    "sns.boxplot(x='abstractLength', data=collated)\n",
    "plt.title('Length of Abstracts in the Collated Dataset');"
   ]
  },
  {
   "cell_type": "code",
   "execution_count": 166,
   "metadata": {
    "ExecuteTime": {
     "end_time": "2021-10-31T08:39:08.980801Z",
     "start_time": "2021-10-31T08:39:08.962368Z"
    }
   },
   "outputs": [
    {
     "data": {
      "text/html": [
       "<div>\n",
       "<style scoped>\n",
       "    .dataframe tbody tr th:only-of-type {\n",
       "        vertical-align: middle;\n",
       "    }\n",
       "\n",
       "    .dataframe tbody tr th {\n",
       "        vertical-align: top;\n",
       "    }\n",
       "\n",
       "    .dataframe thead th {\n",
       "        text-align: right;\n",
       "    }\n",
       "</style>\n",
       "<table border=\"1\" class=\"dataframe\">\n",
       "  <thead>\n",
       "    <tr style=\"text-align: right;\">\n",
       "      <th></th>\n",
       "      <th>publication</th>\n",
       "      <th>title</th>\n",
       "      <th>authors</th>\n",
       "      <th>doi</th>\n",
       "      <th>year</th>\n",
       "      <th>cites</th>\n",
       "      <th>type</th>\n",
       "      <th>abstract</th>\n",
       "      <th>article_url</th>\n",
       "      <th>fulltext_url</th>\n",
       "      <th>abstractLength</th>\n",
       "      <th>pubmed</th>\n",
       "      <th>gscholar</th>\n",
       "      <th>crossref</th>\n",
       "      <th>scopus</th>\n",
       "      <th>publicationLanguage</th>\n",
       "      <th>titleLanguage</th>\n",
       "      <th>abstractLanguage</th>\n",
       "      <th>source</th>\n",
       "    </tr>\n",
       "  </thead>\n",
       "  <tbody>\n",
       "    <tr>\n",
       "      <th>2833</th>\n",
       "      <td>online journal of public health informatics</td>\n",
       "      <td>Surveillance for Lyme disease in Canada: 2009-...</td>\n",
       "      <td>[Jules Koffi, Salima Gasmi]</td>\n",
       "      <td>10.5210/ojphi.v11i1.9892</td>\n",
       "      <td>2019.0</td>\n",
       "      <td>1</td>\n",
       "      <td>journal-article</td>\n",
       "      <td>ObjectiveThis study aims to describe incidence...</td>\n",
       "      <td>http://dx.doi.org/10.5210/ojphi.v11i1.9892</td>\n",
       "      <td>https://journals.uic.edu/ojs/index.php/ojphi/a...</td>\n",
       "      <td>5289.0</td>\n",
       "      <td>0</td>\n",
       "      <td>0</td>\n",
       "      <td>1</td>\n",
       "      <td>0</td>\n",
       "      <td>en</td>\n",
       "      <td>en</td>\n",
       "      <td>en</td>\n",
       "      <td>collated</td>\n",
       "    </tr>\n",
       "    <tr>\n",
       "      <th>2835</th>\n",
       "      <td>online journal of public health informatics</td>\n",
       "      <td>APPLICATION OF INTELLIGENT MULTIAGENT APPROACH...</td>\n",
       "      <td>[Dmytro Chumachenko, Tetyana Chumachenko]</td>\n",
       "      <td>10.5210/ojphi.v11i1.9696</td>\n",
       "      <td>2019.0</td>\n",
       "      <td>0</td>\n",
       "      <td>journal-article</td>\n",
       "      <td>ObjectiveThe objective of this research is to ...</td>\n",
       "      <td>http://dx.doi.org/10.5210/ojphi.v11i1.9696</td>\n",
       "      <td>https://journals.uic.edu/ojs/index.php/ojphi/a...</td>\n",
       "      <td>7788.0</td>\n",
       "      <td>0</td>\n",
       "      <td>0</td>\n",
       "      <td>1</td>\n",
       "      <td>0</td>\n",
       "      <td>en</td>\n",
       "      <td>en</td>\n",
       "      <td>en</td>\n",
       "      <td>collated</td>\n",
       "    </tr>\n",
       "  </tbody>\n",
       "</table>\n",
       "</div>"
      ],
      "text/plain": [
       "                                      publication  \\\n",
       "2833  online journal of public health informatics   \n",
       "2835  online journal of public health informatics   \n",
       "\n",
       "                                                  title  \\\n",
       "2833  Surveillance for Lyme disease in Canada: 2009-...   \n",
       "2835  APPLICATION OF INTELLIGENT MULTIAGENT APPROACH...   \n",
       "\n",
       "                                        authors                       doi  \\\n",
       "2833                [Jules Koffi, Salima Gasmi]  10.5210/ojphi.v11i1.9892   \n",
       "2835  [Dmytro Chumachenko, Tetyana Chumachenko]  10.5210/ojphi.v11i1.9696   \n",
       "\n",
       "        year  cites             type  \\\n",
       "2833  2019.0      1  journal-article   \n",
       "2835  2019.0      0  journal-article   \n",
       "\n",
       "                                               abstract  \\\n",
       "2833  ObjectiveThis study aims to describe incidence...   \n",
       "2835  ObjectiveThe objective of this research is to ...   \n",
       "\n",
       "                                     article_url  \\\n",
       "2833  http://dx.doi.org/10.5210/ojphi.v11i1.9892   \n",
       "2835  http://dx.doi.org/10.5210/ojphi.v11i1.9696   \n",
       "\n",
       "                                           fulltext_url  abstractLength  \\\n",
       "2833  https://journals.uic.edu/ojs/index.php/ojphi/a...          5289.0   \n",
       "2835  https://journals.uic.edu/ojs/index.php/ojphi/a...          7788.0   \n",
       "\n",
       "      pubmed  gscholar  crossref  scopus publicationLanguage titleLanguage  \\\n",
       "2833       0         0         1       0                  en            en   \n",
       "2835       0         0         1       0                  en            en   \n",
       "\n",
       "     abstractLanguage    source  \n",
       "2833               en  collated  \n",
       "2835               en  collated  "
      ]
     },
     "execution_count": 166,
     "metadata": {},
     "output_type": "execute_result"
    }
   ],
   "source": [
    "# Eyeballing these two larger abstracts from the collated dataset \n",
    "# confirmed their legitmacy and sets 8000 as an upper limit of expected length\n",
    "collated[collated.abstractLength>5000]"
   ]
  },
  {
   "cell_type": "code",
   "execution_count": 232,
   "metadata": {
    "ExecuteTime": {
     "end_time": "2021-10-31T09:46:26.489078Z",
     "start_time": "2021-10-31T09:46:26.479090Z"
    }
   },
   "outputs": [],
   "source": [
    "# Looking at some extremely long scraped abstracts confirmed most could be trimmed\n",
    "# to the first appearance of the word 'Introduction'\n",
    "for index, row in abstracts[abstracts.abstractLength>8000].iterrows():\n",
    "    text= row['abstract']\n",
    "    text= text[:text.find('Introduction')]\n",
    "    abstracts.at[index, 'abstract'] = text\n",
    "    abstracts.at[index, 'abstractLength'] = len(text)"
   ]
  },
  {
   "cell_type": "code",
   "execution_count": 233,
   "metadata": {
    "ExecuteTime": {
     "end_time": "2021-10-31T09:46:31.299058Z",
     "start_time": "2021-10-31T09:46:31.276697Z"
    }
   },
   "outputs": [
    {
     "data": {
      "text/html": [
       "<div>\n",
       "<style scoped>\n",
       "    .dataframe tbody tr th:only-of-type {\n",
       "        vertical-align: middle;\n",
       "    }\n",
       "\n",
       "    .dataframe tbody tr th {\n",
       "        vertical-align: top;\n",
       "    }\n",
       "\n",
       "    .dataframe thead th {\n",
       "        text-align: right;\n",
       "    }\n",
       "</style>\n",
       "<table border=\"1\" class=\"dataframe\">\n",
       "  <thead>\n",
       "    <tr style=\"text-align: right;\">\n",
       "      <th></th>\n",
       "      <th>publication</th>\n",
       "      <th>title</th>\n",
       "      <th>authors</th>\n",
       "      <th>doi</th>\n",
       "      <th>year</th>\n",
       "      <th>cites</th>\n",
       "      <th>type</th>\n",
       "      <th>abstract</th>\n",
       "      <th>article_url</th>\n",
       "      <th>fulltext_url</th>\n",
       "      <th>abstractLength</th>\n",
       "      <th>pubmed</th>\n",
       "      <th>gscholar</th>\n",
       "      <th>crossref</th>\n",
       "      <th>scopus</th>\n",
       "      <th>publicationLanguage</th>\n",
       "      <th>titleLanguage</th>\n",
       "      <th>abstractLanguage</th>\n",
       "      <th>source</th>\n",
       "    </tr>\n",
       "  </thead>\n",
       "  <tbody>\n",
       "    <tr>\n",
       "      <th>3413</th>\n",
       "      <td>biomedical journal of scientific &amp; technical r...</td>\n",
       "      <td>Missed Diagnosis and the Development of Acute ...</td>\n",
       "      <td>[James R Palmieri]</td>\n",
       "      <td>10.26717/bjstr.2019.21.003583</td>\n",
       "      <td>2019.0</td>\n",
       "      <td>1</td>\n",
       "      <td>journal-article</td>\n",
       "      <td>Abstract. Background: Lyme Disease (LD) is the...</td>\n",
       "      <td>http://dx.doi.org/10.26717/bjstr.2019.21.003583</td>\n",
       "      <td>NaN</td>\n",
       "      <td>32772.0</td>\n",
       "      <td>0</td>\n",
       "      <td>0</td>\n",
       "      <td>1</td>\n",
       "      <td>0</td>\n",
       "      <td>en</td>\n",
       "      <td>en</td>\n",
       "      <td>NaN</td>\n",
       "      <td>scraped</td>\n",
       "    </tr>\n",
       "    <tr>\n",
       "      <th>3561</th>\n",
       "      <td>case reports in infectious diseases</td>\n",
       "      <td>Early Disseminated Lyme Disease with Carditis ...</td>\n",
       "      <td>[Cheryl Novak, Andrew Harrison, John Aucott]</td>\n",
       "      <td>10.1155/2017/5847156</td>\n",
       "      <td>2017.0</td>\n",
       "      <td>3</td>\n",
       "      <td>journal-article</td>\n",
       "      <td>Abstract. Lyme disease is an infectious diseas...</td>\n",
       "      <td>http://dx.doi.org/10.1155/2017/5847156</td>\n",
       "      <td>http://downloads.hindawi.com/journals/criid/20...</td>\n",
       "      <td>13319.0</td>\n",
       "      <td>0</td>\n",
       "      <td>0</td>\n",
       "      <td>1</td>\n",
       "      <td>0</td>\n",
       "      <td>en</td>\n",
       "      <td>en</td>\n",
       "      <td>NaN</td>\n",
       "      <td>scraped</td>\n",
       "    </tr>\n",
       "    <tr>\n",
       "      <th>3670</th>\n",
       "      <td>pediatría atención primaria</td>\n",
       "      <td>Enfermedad de Lyme: a propósito de dos casos</td>\n",
       "      <td>[A. Pérez Guirado, R. I. Fernández Fernández, ...</td>\n",
       "      <td>10.4321/s1139-76322013000400012</td>\n",
       "      <td>2013.0</td>\n",
       "      <td>3</td>\n",
       "      <td>journal-article</td>\n",
       "      <td>My SciELO Custom services Services on Demand J...</td>\n",
       "      <td>http://dx.doi.org/10.4321/s1139-76322013000400012</td>\n",
       "      <td>NaN</td>\n",
       "      <td>16668.0</td>\n",
       "      <td>0</td>\n",
       "      <td>0</td>\n",
       "      <td>1</td>\n",
       "      <td>0</td>\n",
       "      <td>es</td>\n",
       "      <td>es</td>\n",
       "      <td>NaN</td>\n",
       "      <td>scraped</td>\n",
       "    </tr>\n",
       "    <tr>\n",
       "      <th>3731</th>\n",
       "      <td>revista chilena de infectología</td>\n",
       "      <td>Enfermedad de Lyme: a propósito de un caso clí...</td>\n",
       "      <td>[Mauricio Villagra, M. José Martínez]</td>\n",
       "      <td>10.4067/s0716-10182018000500606</td>\n",
       "      <td>2018.0</td>\n",
       "      <td>0</td>\n",
       "      <td>journal-article</td>\n",
       "      <td>Introducción La enfermedad de Lyme es la infec...</td>\n",
       "      <td>http://dx.doi.org/10.4067/s0716-10182018000500606</td>\n",
       "      <td>NaN</td>\n",
       "      <td>14899.0</td>\n",
       "      <td>0</td>\n",
       "      <td>0</td>\n",
       "      <td>1</td>\n",
       "      <td>0</td>\n",
       "      <td>es</td>\n",
       "      <td>es</td>\n",
       "      <td>NaN</td>\n",
       "      <td>scraped</td>\n",
       "    </tr>\n",
       "    <tr>\n",
       "      <th>3751</th>\n",
       "      <td>coursesource</td>\n",
       "      <td>Mice, Acorns, and Lyme Disease: a Case Study t...</td>\n",
       "      <td>[Laurieann Klockow]</td>\n",
       "      <td>10.24918/cs.2019.11</td>\n",
       "      <td>2019.0</td>\n",
       "      <td>0</td>\n",
       "      <td>journal-article</td>\n",
       "      <td>Abstract Ebola, Zika, the recall of contaminat...</td>\n",
       "      <td>http://dx.doi.org/10.24918/cs.2019.11</td>\n",
       "      <td>NaN</td>\n",
       "      <td>34992.0</td>\n",
       "      <td>0</td>\n",
       "      <td>0</td>\n",
       "      <td>1</td>\n",
       "      <td>0</td>\n",
       "      <td>fr</td>\n",
       "      <td>en</td>\n",
       "      <td>NaN</td>\n",
       "      <td>scraped</td>\n",
       "    </tr>\n",
       "  </tbody>\n",
       "</table>\n",
       "</div>"
      ],
      "text/plain": [
       "                                            publication  \\\n",
       "3413  biomedical journal of scientific & technical r...   \n",
       "3561                case reports in infectious diseases   \n",
       "3670                        pediatría atención primaria   \n",
       "3731                    revista chilena de infectología   \n",
       "3751                                       coursesource   \n",
       "\n",
       "                                                  title  \\\n",
       "3413  Missed Diagnosis and the Development of Acute ...   \n",
       "3561  Early Disseminated Lyme Disease with Carditis ...   \n",
       "3670       Enfermedad de Lyme: a propósito de dos casos   \n",
       "3731  Enfermedad de Lyme: a propósito de un caso clí...   \n",
       "3751  Mice, Acorns, and Lyme Disease: a Case Study t...   \n",
       "\n",
       "                                                authors  \\\n",
       "3413                                 [James R Palmieri]   \n",
       "3561       [Cheryl Novak, Andrew Harrison, John Aucott]   \n",
       "3670  [A. Pérez Guirado, R. I. Fernández Fernández, ...   \n",
       "3731              [Mauricio Villagra, M. José Martínez]   \n",
       "3751                                [Laurieann Klockow]   \n",
       "\n",
       "                                  doi    year  cites             type  \\\n",
       "3413    10.26717/bjstr.2019.21.003583  2019.0      1  journal-article   \n",
       "3561             10.1155/2017/5847156  2017.0      3  journal-article   \n",
       "3670  10.4321/s1139-76322013000400012  2013.0      3  journal-article   \n",
       "3731  10.4067/s0716-10182018000500606  2018.0      0  journal-article   \n",
       "3751              10.24918/cs.2019.11  2019.0      0  journal-article   \n",
       "\n",
       "                                               abstract  \\\n",
       "3413  Abstract. Background: Lyme Disease (LD) is the...   \n",
       "3561  Abstract. Lyme disease is an infectious diseas...   \n",
       "3670  My SciELO Custom services Services on Demand J...   \n",
       "3731  Introducción La enfermedad de Lyme es la infec...   \n",
       "3751  Abstract Ebola, Zika, the recall of contaminat...   \n",
       "\n",
       "                                            article_url  \\\n",
       "3413    http://dx.doi.org/10.26717/bjstr.2019.21.003583   \n",
       "3561             http://dx.doi.org/10.1155/2017/5847156   \n",
       "3670  http://dx.doi.org/10.4321/s1139-76322013000400012   \n",
       "3731  http://dx.doi.org/10.4067/s0716-10182018000500606   \n",
       "3751              http://dx.doi.org/10.24918/cs.2019.11   \n",
       "\n",
       "                                           fulltext_url  abstractLength  \\\n",
       "3413                                                NaN         32772.0   \n",
       "3561  http://downloads.hindawi.com/journals/criid/20...         13319.0   \n",
       "3670                                                NaN         16668.0   \n",
       "3731                                                NaN         14899.0   \n",
       "3751                                                NaN         34992.0   \n",
       "\n",
       "      pubmed  gscholar  crossref  scopus publicationLanguage titleLanguage  \\\n",
       "3413       0         0         1       0                  en            en   \n",
       "3561       0         0         1       0                  en            en   \n",
       "3670       0         0         1       0                  es            es   \n",
       "3731       0         0         1       0                  es            es   \n",
       "3751       0         0         1       0                  fr            en   \n",
       "\n",
       "     abstractLanguage   source  \n",
       "3413              NaN  scraped  \n",
       "3561              NaN  scraped  \n",
       "3670              NaN  scraped  \n",
       "3731              NaN  scraped  \n",
       "3751              NaN  scraped  "
      ]
     },
     "execution_count": 233,
     "metadata": {},
     "output_type": "execute_result"
    }
   ],
   "source": [
    "#Remaining outliers\n",
    "abstracts[abstracts.abstractLength>8000]"
   ]
  },
  {
   "cell_type": "code",
   "execution_count": 234,
   "metadata": {
    "ExecuteTime": {
     "end_time": "2021-10-31T09:46:39.085834Z",
     "start_time": "2021-10-31T09:46:39.069581Z"
    }
   },
   "outputs": [],
   "source": [
    "#These outliers were handled individually\n",
    "abstracts.at[3413, 'abstract'] = abstracts.loc[3413].abstract[abstracts.loc[3413].abstract.find('Background'): abstracts.loc[3413].abstract.find('Lyme Disease Defined')]\n",
    "abstracts.at[3413, 'abstractLength'] =len(abstracts.loc[3413].abstract)\n",
    "\n",
    "abstracts.at[3561, 'abstract'] = abstracts.loc[3561].abstract[abstracts.loc[3561].abstract.find('Lyme'): abstracts.loc[3561].abstract.find('1. Background')]\n",
    "abstracts.at[3561, 'abstractLength'] =len(abstracts.loc[3561].abstract)\n",
    "\n",
    "abstracts.drop(index=3282, inplace=True) #Unrelated to Lyme Disease\n",
    "abstracts.drop(index=3670, inplace=True) #Non English\n",
    "abstracts.drop(index=3731, inplace=True) #Non English\n",
    "abstracts.drop(index=3751, inplace=True) #Course Material"
   ]
  },
  {
   "cell_type": "code",
   "execution_count": 239,
   "metadata": {
    "ExecuteTime": {
     "end_time": "2021-10-31T09:52:51.144401Z",
     "start_time": "2021-10-31T09:52:50.878017Z"
    }
   },
   "outputs": [
    {
     "data": {
      "image/png": "[encoded data removed]",
      "text/plain": [
       "<Figure size 1080x720 with 1 Axes>"
      ]
     },
     "metadata": {
      "needs_background": "light"
     },
     "output_type": "display_data"
    }
   ],
   "source": [
    "sns.boxplot(y='source', x='abstractLength', data=abstracts)\n",
    "plt.title('Length of Abstracts after Culling or Editing Outliers');"
   ]
  },
  {
   "cell_type": "code",
   "execution_count": 243,
   "metadata": {
    "ExecuteTime": {
     "end_time": "2021-10-31T10:02:39.311054Z",
     "start_time": "2021-10-31T10:02:39.307275Z"
    }
   },
   "outputs": [
    {
     "data": {
      "text/plain": [
       "5560"
      ]
     },
     "execution_count": 243,
     "metadata": {},
     "output_type": "execute_result"
    }
   ],
   "source": [
    "total"
   ]
  },
  {
   "cell_type": "code",
   "execution_count": 244,
   "metadata": {
    "ExecuteTime": {
     "end_time": "2021-10-31T10:02:49.284285Z",
     "start_time": "2021-10-31T10:02:49.280391Z"
    }
   },
   "outputs": [
    {
     "data": {
      "text/plain": [
       "2598"
      ]
     },
     "execution_count": 244,
     "metadata": {},
     "output_type": "execute_result"
    }
   ],
   "source": [
    "toScrape"
   ]
  },
  {
   "cell_type": "code",
   "execution_count": 254,
   "metadata": {
    "ExecuteTime": {
     "end_time": "2021-10-31T10:11:25.093808Z",
     "start_time": "2021-10-31T10:11:25.089143Z"
    }
   },
   "outputs": [
    {
     "name": "stdout",
     "output_type": "stream",
     "text": [
      "Records with existing abstracts: 2962\n",
      "Abstracts sought via scraping : 2598\n",
      "Abstracts successfully scraped 870\n",
      "Records not retrieved: 1728\n"
     ]
    }
   ],
   "source": [
    "oldtotal = total\n",
    "total = len(abstracts)\n",
    "\n",
    "print(\"Records with existing abstracts:\", len(collated))\n",
    "print(\"Abstracts sought via scraping :\", toScrape)\n",
    "print(\"Abstracts successfully scraped\", total-len(collated))\n",
    "print('Records not retrieved:', oldtotal-total)"
   ]
  },
  {
   "cell_type": "code",
   "execution_count": null,
   "metadata": {},
   "outputs": [],
   "source": [
    "abstracts['abstractLanguage']=abstracts.apply(detect)"
   ]
  }
 ],
 "metadata": {
  "kernelspec": {
   "display_name": "Python 3",
   "language": "python",
   "name": "python3"
  },
  "language_info": {
   "codemirror_mode": {
    "name": "ipython",
    "version": 3
   },
   "file_extension": ".py",
   "mimetype": "text/x-python",
   "name": "python",
   "nbconvert_exporter": "python",
   "pygments_lexer": "ipython3",
   "version": "3.7.3"
  },
  "toc": {
   "base_numbering": 1,
   "nav_menu": {},
   "number_sections": true,
   "sideBar": true,
   "skip_h1_title": true,
   "title_cell": "Table of Contents",
   "title_sidebar": "Contents",
   "toc_cell": true,
   "toc_position": {},
   "toc_section_display": true,
   "toc_window_display": true
  },
  "varInspector": {
   "cols": {
    "lenName": 16,
    "lenType": 16,
    "lenVar": 40
   },
   "kernels_config": {
    "python": {
     "delete_cmd_postfix": "",
     "delete_cmd_prefix": "del ",
     "library": "var_list.py",
     "varRefreshCmd": "print(var_dic_list())"
    },
    "r": {
     "delete_cmd_postfix": ") ",
     "delete_cmd_prefix": "rm(",
     "library": "var_list.r",
     "varRefreshCmd": "cat(var_dic_list()) "
    }
   },
   "types_to_exclude": [
    "module",
    "function",
    "builtin_function_or_method",
    "instance",
    "_Feature"
   ],
   "window_display": true
  }
 },
 "nbformat": 4,
 "nbformat_minor": 2
}
