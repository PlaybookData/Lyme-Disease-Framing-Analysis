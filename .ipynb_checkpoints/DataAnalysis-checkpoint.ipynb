{
 "cells": [
  {
   "cell_type": "markdown",
   "metadata": {},
   "source": [
    "# Data Analysis"
   ]
  },
  {
   "cell_type": "markdown",
   "metadata": {
    "toc": true
   },
   "source": [
    "<h1>Table of Contents<span class=\"tocSkip\"></span></h1>\n",
    "<div class=\"toc\"><ul class=\"toc-item\"><li><span><a href=\"#Imports-&amp;-Defaults\" data-toc-modified-id=\"Imports-&amp;-Defaults-1\"><span class=\"toc-item-num\">1&nbsp;&nbsp;</span>Imports &amp; Defaults</a></span></li><li><span><a href=\"#Load-Data\" data-toc-modified-id=\"Load-Data-2\"><span class=\"toc-item-num\">2&nbsp;&nbsp;</span>Load Data</a></span></li><li><span><a href=\"#Additional-Cleaning\" data-toc-modified-id=\"Additional-Cleaning-3\"><span class=\"toc-item-num\">3&nbsp;&nbsp;</span>Additional Cleaning</a></span><ul class=\"toc-item\"><li><span><a href=\"#Filter-Duplicates-and-Records-missing-an-Abstract-&amp;-DOI\" data-toc-modified-id=\"Filter-Duplicates-and-Records-missing-an-Abstract-&amp;-DOI-3.1\"><span class=\"toc-item-num\">3.1&nbsp;&nbsp;</span>Filter Duplicates and Records missing an Abstract &amp; DOI</a></span></li><li><span><a href=\"#Clean-Text-(first-pass)\" data-toc-modified-id=\"Clean-Text-(first-pass)-3.2\"><span class=\"toc-item-num\">3.2&nbsp;&nbsp;</span>Clean Text (first pass)</a></span></li><li><span><a href=\"#Normalise-Species-Names\" data-toc-modified-id=\"Normalise-Species-Names-3.3\"><span class=\"toc-item-num\">3.3&nbsp;&nbsp;</span>Normalise Species Names</a></span></li><li><span><a href=\"#Clean-Text-(second-pass)\" data-toc-modified-id=\"Clean-Text-(second-pass)-3.4\"><span class=\"toc-item-num\">3.4&nbsp;&nbsp;</span>Clean Text (second pass)</a></span></li><li><span><a href=\"#Adding-SpaCy-and-NLTK-tokenised-text\" data-toc-modified-id=\"Adding-SpaCy-and-NLTK-tokenised-text-3.5\"><span class=\"toc-item-num\">3.5&nbsp;&nbsp;</span>Adding SpaCy and NLTK tokenised text</a></span></li><li><span><a href=\"#Remove-Stopwords\" data-toc-modified-id=\"Remove-Stopwords-3.6\"><span class=\"toc-item-num\">3.6&nbsp;&nbsp;</span>Remove Stopwords</a></span></li><li><span><a href=\"#Normalisation\" data-toc-modified-id=\"Normalisation-3.7\"><span class=\"toc-item-num\">3.7&nbsp;&nbsp;</span>Normalisation</a></span></li></ul></li><li><span><a href=\"#Sentiment\" data-toc-modified-id=\"Sentiment-4\"><span class=\"toc-item-num\">4&nbsp;&nbsp;</span>Sentiment</a></span></li><li><span><a href=\"#EDA\" data-toc-modified-id=\"EDA-5\"><span class=\"toc-item-num\">5&nbsp;&nbsp;</span>EDA</a></span><ul class=\"toc-item\"><li><span><a href=\"#Basic-Overview\" data-toc-modified-id=\"Basic-Overview-5.1\"><span class=\"toc-item-num\">5.1&nbsp;&nbsp;</span>Basic Overview</a></span></li><li><span><a href=\"#Abstract-Length\" data-toc-modified-id=\"Abstract-Length-5.2\"><span class=\"toc-item-num\">5.2&nbsp;&nbsp;</span>Abstract Length</a></span></li><li><span><a href=\"#Abstract-Sentiment-Score\" data-toc-modified-id=\"Abstract-Sentiment-Score-5.3\"><span class=\"toc-item-num\">5.3&nbsp;&nbsp;</span>Abstract Sentiment Score</a></span></li><li><span><a href=\"#Sentiment-by-Method\" data-toc-modified-id=\"Sentiment-by-Method-5.4\"><span class=\"toc-item-num\">5.4&nbsp;&nbsp;</span>Sentiment by Method</a></span></li><li><span><a href=\"#Sentiment-by-Method-and-Mention-of-'Chronic'\" data-toc-modified-id=\"Sentiment-by-Method-and-Mention-of-'Chronic'-5.5\"><span class=\"toc-item-num\">5.5&nbsp;&nbsp;</span>Sentiment by Method and Mention of 'Chronic'</a></span></li></ul></li><li><span><a href=\"#Sandbox\" data-toc-modified-id=\"Sandbox-6\"><span class=\"toc-item-num\">6&nbsp;&nbsp;</span>Sandbox</a></span><ul class=\"toc-item\"><li><span><a href=\"#Emotions\" data-toc-modified-id=\"Emotions-6.1\"><span class=\"toc-item-num\">6.1&nbsp;&nbsp;</span>Emotions</a></span></li><li><span><a href=\"#Plutchik-Wheel\" data-toc-modified-id=\"Plutchik-Wheel-6.2\"><span class=\"toc-item-num\">6.2&nbsp;&nbsp;</span>Plutchik Wheel</a></span></li></ul></li></ul></div>"
   ]
  },
  {
   "cell_type": "markdown",
   "metadata": {},
   "source": [
    "## Imports & Defaults"
   ]
  },
  {
   "cell_type": "code",
   "execution_count": 1,
   "metadata": {
    "ExecuteTime": {
     "end_time": "2021-10-01T23:50:54.900628Z",
     "start_time": "2021-10-01T23:50:54.898491Z"
    }
   },
   "outputs": [],
   "source": [
    "#pip install pyplutchik\n",
    "#pip install text2emotion\n",
    "#pip install NRCLex"
   ]
  },
  {
   "cell_type": "code",
   "execution_count": 42,
   "metadata": {
    "ExecuteTime": {
     "end_time": "2021-10-02T00:11:34.212025Z",
     "start_time": "2021-10-02T00:11:34.209236Z"
    }
   },
   "outputs": [],
   "source": [
    "# Basics\n",
    "import numpy as np \n",
    "import pandas as pd \n",
    "\n",
    "#String cleaning and processing\n",
    "import re\n",
    "import string"
   ]
  },
  {
   "cell_type": "code",
   "execution_count": 609,
   "metadata": {
    "ExecuteTime": {
     "end_time": "2021-10-03T01:58:20.290939Z",
     "start_time": "2021-10-03T01:58:03.188578Z"
    }
   },
   "outputs": [],
   "source": [
    "# Natural Language Processing\n",
    "\n",
    "#Natural Language Toolkit\n",
    "import nltk\n",
    "from nltk.corpus import stopwords\n",
    "\n",
    "# TextBlob\n",
    "from textblob.sentiments import NaiveBayesAnalyzer, PatternAnalyzer\n",
    "from textblob import Blobber\n",
    "from textblob import TextBlob, Word\n",
    "\n",
    "#Flair\n",
    "from flair.models import TextClassifier\n",
    "from flair.data import Sentence\n",
    "\n",
    "#SpaCy\n",
    "import spacy\n",
    "import en_core_web_sm\n",
    "#using small Spacy model\n",
    "nlp = spacy.load('en_core_web_sm')\n",
    "nlp_md = spacy.load('en_core_web_md')\n",
    "from spacy.matcher import Matcher \n",
    "\n",
    "#Text2Emotion\n",
    "import text2emotion as te\n",
    "\n",
    "#NRCLex - for measuring emotion\n",
    "from nrclex import NRCLex"
   ]
  },
  {
   "cell_type": "code",
   "execution_count": 17,
   "metadata": {
    "ExecuteTime": {
     "end_time": "2021-10-01T23:51:46.722137Z",
     "start_time": "2021-10-01T23:51:46.715025Z"
    }
   },
   "outputs": [],
   "source": [
    "# Visualisation\n",
    "import seaborn as sns\n",
    "import matplotlib.pyplot as plt\n",
    "from pylab import rcParams\n",
    "\n",
    "# import matplotlib.patches as mpatches\n",
    "# import plotly.express as px\n",
    "\n",
    "%matplotlib inline\n",
    "rcParams['figure.figsize'] = 15, 10\n",
    "rcParams['axes.titlesize'] = 20\n",
    "rcParams['axes.labelsize'] = 'large'\n",
    "rcParams['xtick.labelsize'] = 10\n",
    "rcParams['ytick.labelsize'] = 10\n",
    "rcParams['lines.linewidth'] = 2\n",
    "rcParams['font.size'] = 18\n",
    "\n",
    "#Visualising Plutchik Model of Emotions\n",
    "from pyplutchik import plutchik"
   ]
  },
  {
   "cell_type": "code",
   "execution_count": 5,
   "metadata": {
    "ExecuteTime": {
     "end_time": "2021-10-01T23:51:12.471330Z",
     "start_time": "2021-10-01T23:51:12.468153Z"
    }
   },
   "outputs": [],
   "source": [
    "#Unused\n",
    "\n",
    "# import random\n",
    "\n",
    "\n",
    "# from collections import Counter\n",
    "# from PIL import Image\n",
    "# from wordcloud import WordCloud, STOPWORDS, ImageColorGenerator\n",
    "\n",
    "# from tqdm import tqdm\n",
    "# import os\n",
    "# import sys\n",
    "# import xml.etree.ElementTree as et\n",
    "# pd.options.mode.chained_assignment = None"
   ]
  },
  {
   "cell_type": "markdown",
   "metadata": {},
   "source": [
    "## Load Data"
   ]
  },
  {
   "cell_type": "code",
   "execution_count": 6,
   "metadata": {
    "ExecuteTime": {
     "end_time": "2021-10-01T23:51:12.613842Z",
     "start_time": "2021-10-01T23:51:12.496875Z"
    }
   },
   "outputs": [],
   "source": [
    "LymeDisease = pd.read_csv('pubmedFiltered.csv', index_col=0)"
   ]
  },
  {
   "cell_type": "code",
   "execution_count": 7,
   "metadata": {
    "ExecuteTime": {
     "end_time": "2021-10-01T23:51:12.722216Z",
     "start_time": "2021-10-01T23:51:12.691995Z"
    }
   },
   "outputs": [
    {
     "data": {
      "text/html": [
       "<div>\n",
       "<style scoped>\n",
       "    .dataframe tbody tr th:only-of-type {\n",
       "        vertical-align: middle;\n",
       "    }\n",
       "\n",
       "    .dataframe tbody tr th {\n",
       "        vertical-align: top;\n",
       "    }\n",
       "\n",
       "    .dataframe thead th {\n",
       "        text-align: right;\n",
       "    }\n",
       "</style>\n",
       "<table border=\"1\" class=\"dataframe\">\n",
       "  <thead>\n",
       "    <tr style=\"text-align: right;\">\n",
       "      <th></th>\n",
       "      <th>publication</th>\n",
       "      <th>title</th>\n",
       "      <th>authors</th>\n",
       "      <th>doi</th>\n",
       "      <th>year</th>\n",
       "      <th>cites</th>\n",
       "      <th>type</th>\n",
       "      <th>abstract</th>\n",
       "      <th>article_url</th>\n",
       "      <th>fulltext_url</th>\n",
       "      <th>abstractLength</th>\n",
       "      <th>pubmed</th>\n",
       "    </tr>\n",
       "  </thead>\n",
       "  <tbody>\n",
       "    <tr>\n",
       "      <th>0</th>\n",
       "      <td>Ticks and tick-borne diseases</td>\n",
       "      <td>The range of Ixodes ricinus and the risk of co...</td>\n",
       "      <td>[{'name': 'Thomas G T Jaenson', 'affiliation':...</td>\n",
       "      <td>10.1016/j.ttbdis.2010.10.006</td>\n",
       "      <td>2011.0</td>\n",
       "      <td>0</td>\n",
       "      <td>Journal Article</td>\n",
       "      <td>In Sweden, the geographical distribution of Ly...</td>\n",
       "      <td>NaN</td>\n",
       "      <td>NaN</td>\n",
       "      <td>1370.0</td>\n",
       "      <td>1</td>\n",
       "    </tr>\n",
       "    <tr>\n",
       "      <th>1</th>\n",
       "      <td>Ticks and tick-borne diseases</td>\n",
       "      <td>Low-density microarrays for the detection of B...</td>\n",
       "      <td>[{'name': 'Julie A Houck', 'affiliation': 'Dep...</td>\n",
       "      <td>10.1016/j.ttbdis.2010.10.002</td>\n",
       "      <td>2011.0</td>\n",
       "      <td>0</td>\n",
       "      <td>Journal Article</td>\n",
       "      <td>Lyme disease is the most common tick-borne dis...</td>\n",
       "      <td>NaN</td>\n",
       "      <td>NaN</td>\n",
       "      <td>932.0</td>\n",
       "      <td>1</td>\n",
       "    </tr>\n",
       "    <tr>\n",
       "      <th>2</th>\n",
       "      <td>Ticks and tick-borne diseases</td>\n",
       "      <td>Infectivity of Borrelia burgdorferi sensu lato...</td>\n",
       "      <td>[{'name': 'N D van Burgel', 'affiliation': 'De...</td>\n",
       "      <td>10.1016/j.ttbdis.2010.10.003</td>\n",
       "      <td>2011.0</td>\n",
       "      <td>0</td>\n",
       "      <td>Journal Article</td>\n",
       "      <td>B. burgdorferi, B. afzelii, and B. bavariensis...</td>\n",
       "      <td>NaN</td>\n",
       "      <td>NaN</td>\n",
       "      <td>1428.0</td>\n",
       "      <td>1</td>\n",
       "    </tr>\n",
       "    <tr>\n",
       "      <th>4</th>\n",
       "      <td>Ticks and tick-borne diseases</td>\n",
       "      <td>Borrelia species in Ixodes affinis and Ixodes ...</td>\n",
       "      <td>[{'name': 'Ricardo G Maggi', 'affiliation': 'I...</td>\n",
       "      <td>10.1016/j.ttbdis.2010.08.003</td>\n",
       "      <td>2010.0</td>\n",
       "      <td>0</td>\n",
       "      <td>Journal Article</td>\n",
       "      <td>Ixodes affinis and I. scapularis are tick spec...</td>\n",
       "      <td>NaN</td>\n",
       "      <td>NaN</td>\n",
       "      <td>1576.0</td>\n",
       "      <td>1</td>\n",
       "    </tr>\n",
       "    <tr>\n",
       "      <th>5</th>\n",
       "      <td>Ticks and tick-borne diseases</td>\n",
       "      <td>Are birds reservoir hosts for Borrelia afzelii?</td>\n",
       "      <td>[{'name': 'Jan Franke', 'affiliation': 'Instit...</td>\n",
       "      <td>10.1016/j.ttbdis.2010.03.001</td>\n",
       "      <td>2010.0</td>\n",
       "      <td>0</td>\n",
       "      <td>Journal Article</td>\n",
       "      <td>It is known that birds are competent reservoir...</td>\n",
       "      <td>NaN</td>\n",
       "      <td>NaN</td>\n",
       "      <td>783.0</td>\n",
       "      <td>1</td>\n",
       "    </tr>\n",
       "    <tr>\n",
       "      <th>...</th>\n",
       "      <td>...</td>\n",
       "      <td>...</td>\n",
       "      <td>...</td>\n",
       "      <td>...</td>\n",
       "      <td>...</td>\n",
       "      <td>...</td>\n",
       "      <td>...</td>\n",
       "      <td>...</td>\n",
       "      <td>...</td>\n",
       "      <td>...</td>\n",
       "      <td>...</td>\n",
       "      <td>...</td>\n",
       "    </tr>\n",
       "    <tr>\n",
       "      <th>4488</th>\n",
       "      <td>Trends in cardiovascular medicine</td>\n",
       "      <td>Chagas' cardiomyopathy and Lyme carditis: Less...</td>\n",
       "      <td>[{'name': 'Cynthia Yeung', 'affiliation': \"Dep...</td>\n",
       "      <td>10.1016/j.tcm.2020.04.004</td>\n",
       "      <td>2021.0</td>\n",
       "      <td>0</td>\n",
       "      <td>Journal Article</td>\n",
       "      <td>Chagas' disease and Lyme disease are two endem...</td>\n",
       "      <td>NaN</td>\n",
       "      <td>NaN</td>\n",
       "      <td>913.0</td>\n",
       "      <td>1</td>\n",
       "    </tr>\n",
       "    <tr>\n",
       "      <th>4489</th>\n",
       "      <td>Journal of medical entomology</td>\n",
       "      <td>Barriers to Effective Tick Management and Tick...</td>\n",
       "      <td>[{'name': 'Lars Eisen', 'affiliation': 'Divisi...</td>\n",
       "      <td>10.1093/jme/tjaa079</td>\n",
       "      <td>2021.0</td>\n",
       "      <td>0</td>\n",
       "      <td>Journal Article</td>\n",
       "      <td>Lyme and other tick-borne diseases are increas...</td>\n",
       "      <td>NaN</td>\n",
       "      <td>NaN</td>\n",
       "      <td>1750.0</td>\n",
       "      <td>1</td>\n",
       "    </tr>\n",
       "    <tr>\n",
       "      <th>4494</th>\n",
       "      <td>Medicina clinica</td>\n",
       "      <td>Erythema migrans.</td>\n",
       "      <td>[{'name': 'Fernando García-Souto', 'affiliatio...</td>\n",
       "      <td>10.1016/j.medcli.2019.10.001</td>\n",
       "      <td>2021.0</td>\n",
       "      <td>0</td>\n",
       "      <td>Journal Article</td>\n",
       "      <td>NaN</td>\n",
       "      <td>NaN</td>\n",
       "      <td>NaN</td>\n",
       "      <td>NaN</td>\n",
       "      <td>1</td>\n",
       "    </tr>\n",
       "    <tr>\n",
       "      <th>4495</th>\n",
       "      <td>Acta clinica Belgica</td>\n",
       "      <td>Lyme disease in Western Europe: an emerging pr...</td>\n",
       "      <td>[{'name': 'Olivia Vandekerckhove', 'affiliatio...</td>\n",
       "      <td>10.1080/17843286.2019.1694293</td>\n",
       "      <td>2021.0</td>\n",
       "      <td>0</td>\n",
       "      <td>Journal Article</td>\n",
       "      <td>Objectives: Lyme borreliosis is the most commo...</td>\n",
       "      <td>NaN</td>\n",
       "      <td>NaN</td>\n",
       "      <td>1684.0</td>\n",
       "      <td>1</td>\n",
       "    </tr>\n",
       "    <tr>\n",
       "      <th>4496</th>\n",
       "      <td>Clinical journal of sport medicine</td>\n",
       "      <td>Incidence and Prevalence of Borrelia burgdorfe...</td>\n",
       "      <td>[{'name': 'Philipp Breitbart', 'affiliation': ...</td>\n",
       "      <td>10.1097/JSM.0000000000000758</td>\n",
       "      <td>2021.0</td>\n",
       "      <td>0</td>\n",
       "      <td>Journal Article</td>\n",
       "      <td>Infections with Borrelia burgdorferi can cause...</td>\n",
       "      <td>NaN</td>\n",
       "      <td>NaN</td>\n",
       "      <td>1689.0</td>\n",
       "      <td>1</td>\n",
       "    </tr>\n",
       "  </tbody>\n",
       "</table>\n",
       "<p>3300 rows × 12 columns</p>\n",
       "</div>"
      ],
      "text/plain": [
       "                             publication  \\\n",
       "0          Ticks and tick-borne diseases   \n",
       "1          Ticks and tick-borne diseases   \n",
       "2          Ticks and tick-borne diseases   \n",
       "4          Ticks and tick-borne diseases   \n",
       "5          Ticks and tick-borne diseases   \n",
       "...                                  ...   \n",
       "4488   Trends in cardiovascular medicine   \n",
       "4489       Journal of medical entomology   \n",
       "4494                    Medicina clinica   \n",
       "4495                Acta clinica Belgica   \n",
       "4496  Clinical journal of sport medicine   \n",
       "\n",
       "                                                  title  \\\n",
       "0     The range of Ixodes ricinus and the risk of co...   \n",
       "1     Low-density microarrays for the detection of B...   \n",
       "2     Infectivity of Borrelia burgdorferi sensu lato...   \n",
       "4     Borrelia species in Ixodes affinis and Ixodes ...   \n",
       "5       Are birds reservoir hosts for Borrelia afzelii?   \n",
       "...                                                 ...   \n",
       "4488  Chagas' cardiomyopathy and Lyme carditis: Less...   \n",
       "4489  Barriers to Effective Tick Management and Tick...   \n",
       "4494                                  Erythema migrans.   \n",
       "4495  Lyme disease in Western Europe: an emerging pr...   \n",
       "4496  Incidence and Prevalence of Borrelia burgdorfe...   \n",
       "\n",
       "                                                authors  \\\n",
       "0     [{'name': 'Thomas G T Jaenson', 'affiliation':...   \n",
       "1     [{'name': 'Julie A Houck', 'affiliation': 'Dep...   \n",
       "2     [{'name': 'N D van Burgel', 'affiliation': 'De...   \n",
       "4     [{'name': 'Ricardo G Maggi', 'affiliation': 'I...   \n",
       "5     [{'name': 'Jan Franke', 'affiliation': 'Instit...   \n",
       "...                                                 ...   \n",
       "4488  [{'name': 'Cynthia Yeung', 'affiliation': \"Dep...   \n",
       "4489  [{'name': 'Lars Eisen', 'affiliation': 'Divisi...   \n",
       "4494  [{'name': 'Fernando García-Souto', 'affiliatio...   \n",
       "4495  [{'name': 'Olivia Vandekerckhove', 'affiliatio...   \n",
       "4496  [{'name': 'Philipp Breitbart', 'affiliation': ...   \n",
       "\n",
       "                                doi    year  cites             type  \\\n",
       "0      10.1016/j.ttbdis.2010.10.006  2011.0      0  Journal Article   \n",
       "1      10.1016/j.ttbdis.2010.10.002  2011.0      0  Journal Article   \n",
       "2      10.1016/j.ttbdis.2010.10.003  2011.0      0  Journal Article   \n",
       "4      10.1016/j.ttbdis.2010.08.003  2010.0      0  Journal Article   \n",
       "5      10.1016/j.ttbdis.2010.03.001  2010.0      0  Journal Article   \n",
       "...                             ...     ...    ...              ...   \n",
       "4488      10.1016/j.tcm.2020.04.004  2021.0      0  Journal Article   \n",
       "4489            10.1093/jme/tjaa079  2021.0      0  Journal Article   \n",
       "4494   10.1016/j.medcli.2019.10.001  2021.0      0  Journal Article   \n",
       "4495  10.1080/17843286.2019.1694293  2021.0      0  Journal Article   \n",
       "4496   10.1097/JSM.0000000000000758  2021.0      0  Journal Article   \n",
       "\n",
       "                                               abstract  article_url  \\\n",
       "0     In Sweden, the geographical distribution of Ly...          NaN   \n",
       "1     Lyme disease is the most common tick-borne dis...          NaN   \n",
       "2     B. burgdorferi, B. afzelii, and B. bavariensis...          NaN   \n",
       "4     Ixodes affinis and I. scapularis are tick spec...          NaN   \n",
       "5     It is known that birds are competent reservoir...          NaN   \n",
       "...                                                 ...          ...   \n",
       "4488  Chagas' disease and Lyme disease are two endem...          NaN   \n",
       "4489  Lyme and other tick-borne diseases are increas...          NaN   \n",
       "4494                                                NaN          NaN   \n",
       "4495  Objectives: Lyme borreliosis is the most commo...          NaN   \n",
       "4496  Infections with Borrelia burgdorferi can cause...          NaN   \n",
       "\n",
       "      fulltext_url  abstractLength  pubmed  \n",
       "0              NaN          1370.0       1  \n",
       "1              NaN           932.0       1  \n",
       "2              NaN          1428.0       1  \n",
       "4              NaN          1576.0       1  \n",
       "5              NaN           783.0       1  \n",
       "...            ...             ...     ...  \n",
       "4488           NaN           913.0       1  \n",
       "4489           NaN          1750.0       1  \n",
       "4494           NaN             NaN       1  \n",
       "4495           NaN          1684.0       1  \n",
       "4496           NaN          1689.0       1  \n",
       "\n",
       "[3300 rows x 12 columns]"
      ]
     },
     "execution_count": 7,
     "metadata": {},
     "output_type": "execute_result"
    }
   ],
   "source": [
    "LymeDisease"
   ]
  },
  {
   "cell_type": "code",
   "execution_count": 8,
   "metadata": {
    "ExecuteTime": {
     "end_time": "2021-10-01T23:51:12.807715Z",
     "start_time": "2021-10-01T23:51:12.795439Z"
    }
   },
   "outputs": [
    {
     "name": "stdout",
     "output_type": "stream",
     "text": [
      "<class 'pandas.core.frame.DataFrame'>\n",
      "Int64Index: 3300 entries, 0 to 4496\n",
      "Data columns (total 12 columns):\n",
      " #   Column          Non-Null Count  Dtype  \n",
      "---  ------          --------------  -----  \n",
      " 0   publication     3300 non-null   object \n",
      " 1   title           3299 non-null   object \n",
      " 2   authors         3287 non-null   object \n",
      " 3   doi             3159 non-null   object \n",
      " 4   year            3297 non-null   float64\n",
      " 5   cites           3300 non-null   int64  \n",
      " 6   type            3300 non-null   object \n",
      " 7   abstract        3162 non-null   object \n",
      " 8   article_url     0 non-null      float64\n",
      " 9   fulltext_url    0 non-null      float64\n",
      " 10  abstractLength  3162 non-null   float64\n",
      " 11  pubmed          3300 non-null   int64  \n",
      "dtypes: float64(4), int64(2), object(6)\n",
      "memory usage: 335.2+ KB\n"
     ]
    }
   ],
   "source": [
    "LymeDisease.info()"
   ]
  },
  {
   "cell_type": "code",
   "execution_count": 19,
   "metadata": {
    "ExecuteTime": {
     "end_time": "2021-10-01T23:54:39.301973Z",
     "start_time": "2021-10-01T23:54:39.297179Z"
    }
   },
   "outputs": [
    {
     "data": {
      "text/plain": [
       "'Lyme disease is the most common tick-borne disease in Europe and North America. In the hyperendemic Lyme disease regions of the eastern United States, nymphal Ixodes scapularis are the principal ticks transmitting the Lyme disease spirochete, Borrelia burgdorferi sensu stricto (s.s.). Approximately 25% of questing nymphs in endemic regions are infected with spirochetes. High throughput-sensitive and specific methods for testing nymphal I. scapularis for infection with B. burgdorferi are clearly needed. In the current study, we evaluated whether low-density microarrays could be adapted for the rapid and accurate detection and characterization of spirochetes in nymphal I. scapularis. Three different microarray platforms were developed and tested for the detection of spirochetes in ticks. They could both detect and differentiate different Borrelia genospecies, in one case detecting as few as a single copy of Borrelia DNA.'"
      ]
     },
     "execution_count": 19,
     "metadata": {},
     "output_type": "execute_result"
    }
   ],
   "source": [
    "text = LymeDisease.loc[1]['abstract']\n",
    "text"
   ]
  },
  {
   "cell_type": "markdown",
   "metadata": {},
   "source": [
    "## Additional Cleaning"
   ]
  },
  {
   "cell_type": "markdown",
   "metadata": {},
   "source": [
    "### Filter Duplicates and Records missing an Abstract & DOI"
   ]
  },
  {
   "cell_type": "code",
   "execution_count": 9,
   "metadata": {
    "ExecuteTime": {
     "end_time": "2021-10-01T23:51:12.886444Z",
     "start_time": "2021-10-01T23:51:12.879248Z"
    }
   },
   "outputs": [],
   "source": [
    "LymeDisease = LymeDisease[(LymeDisease.abstract.notna() & LymeDisease.doi.notna() )]"
   ]
  },
  {
   "cell_type": "code",
   "execution_count": 10,
   "metadata": {
    "ExecuteTime": {
     "end_time": "2021-10-01T23:51:13.001952Z",
     "start_time": "2021-10-01T23:51:12.973326Z"
    }
   },
   "outputs": [
    {
     "name": "stderr",
     "output_type": "stream",
     "text": [
      "/Users/myfriendscallmej/anaconda3/lib/python3.7/site-packages/ipykernel_launcher.py:1: SettingWithCopyWarning: \n",
      "A value is trying to be set on a copy of a slice from a DataFrame\n",
      "\n",
      "See the caveats in the documentation: https://pandas.pydata.org/pandas-docs/stable/user_guide/indexing.html#returning-a-view-versus-a-copy\n",
      "  \"\"\"Entry point for launching an IPython kernel.\n"
     ]
    }
   ],
   "source": [
    "LymeDisease.drop_duplicates(inplace=True)"
   ]
  },
  {
   "cell_type": "code",
   "execution_count": 32,
   "metadata": {
    "ExecuteTime": {
     "end_time": "2021-10-02T00:04:24.182853Z",
     "start_time": "2021-10-02T00:04:24.179290Z"
    }
   },
   "outputs": [],
   "source": [
    "LymeDisease.reset_index(inplace=True)"
   ]
  },
  {
   "cell_type": "markdown",
   "metadata": {},
   "source": [
    "### Clean Text (first pass)"
   ]
  },
  {
   "cell_type": "code",
   "execution_count": 607,
   "metadata": {
    "ExecuteTime": {
     "end_time": "2021-10-03T01:56:32.524168Z",
     "start_time": "2021-10-03T01:56:32.519250Z"
    }
   },
   "outputs": [],
   "source": [
    "def clean_text(text):\n",
    "#     text = str(text).lower() #make lower\n",
    "#     text = re.sub('https?://\\S+|www\\.\\S+', '', text) #remove links\n",
    "    text = re.sub('<.*?>', '', text) #remove rmaining html tags\n",
    "    text = re.sub('\\u2009', ' ', text) #remove unicde charcter for thin space\n",
    "#     text = re.sub(\"[^-9A-Za-z ]\", '' , text) #remove double quotation and any punctuation\n",
    "#     text = re.sub('\\w*\\d\\w*', '', text) #remove numbers\n",
    "    text = re.sub('-', ' ', text) #replace hyphen with space\n",
    "    text = re.sub(' +', ' ', text) #remove extra whitespace\n",
    "    \n",
    "    #\n",
    "    text = re.sub('spp.', 'spp', text)\n",
    "    text = re.sub('sp.', 'sp', text)\n",
    "    text = re.sub('cf.', 'cf', text)\n",
    "    text = re.sub('aff.', 'aff', text)\n",
    "    text = re.sub('var.', 'var', text)\n",
    "    return text"
   ]
  },
  {
   "cell_type": "code",
   "execution_count": 608,
   "metadata": {
    "ExecuteTime": {
     "end_time": "2021-10-03T01:56:35.820662Z",
     "start_time": "2021-10-03T01:56:35.536949Z"
    }
   },
   "outputs": [
    {
     "name": "stderr",
     "output_type": "stream",
     "text": [
      "/Users/myfriendscallmej/anaconda3/lib/python3.7/site-packages/ipykernel_launcher.py:1: SettingWithCopyWarning: \n",
      "A value is trying to be set on a copy of a slice from a DataFrame.\n",
      "Try using .loc[row_indexer,col_indexer] = value instead\n",
      "\n",
      "See the caveats in the documentation: https://pandas.pydata.org/pandas-docs/stable/user_guide/indexing.html#returning-a-view-versus-a-copy\n",
      "  \"\"\"Entry point for launching an IPython kernel.\n"
     ]
    }
   ],
   "source": [
    "LymeDisease['clean_text'] = LymeDisease['abstract'].apply(clean_text)"
   ]
  },
  {
   "cell_type": "markdown",
   "metadata": {},
   "source": [
    "### Normalise Species Names"
   ]
  },
  {
   "cell_type": "markdown",
   "metadata": {},
   "source": [
    "Species names can appear in an inconsistent formats. *Genus species, G. species, G. species sub species, G. species s. s.* etc so normalising them may give a better picture of common words and n-grams. The function below finds the abbreviated forms of species names (normally a second mention) and then matches with a preceeding full name earlier in the text and then converts both the abbreviated and full mention to camel case GenusSpecies. It so far does not cath all of them but has picked up over 100 variations and can be further refined."
   ]
  },
  {
   "cell_type": "code",
   "execution_count": 594,
   "metadata": {
    "ExecuteTime": {
     "end_time": "2021-10-02T23:32:44.456408Z",
     "start_time": "2021-10-02T23:32:44.438269Z"
    }
   },
   "outputs": [],
   "source": [
    "def normaliseSpeciesNames(text):\n",
    "\n",
    "    speciesShortName =''\n",
    "    speciesShortNamesList = []\n",
    "    speciesShortNameTokens = []\n",
    "    speciesShortNameTokensList = []\n",
    "    speciesFullNameList = []\n",
    "    camelCaseList = []\n",
    "    replaceDict = {}\n",
    "    \n",
    "    doc = nlp(text) #tokenise with SpaCy\n",
    "    \n",
    "    for token in doc[:-1]:\n",
    "        if token.shape_ == 'X.':\n",
    "            speciesShortName = speciesShortName + str(token)\n",
    "            speciesShortNameTokens.append(token)\n",
    "            j=1        \n",
    "            while (doc[token.i+j].shape_ == 'x.' or\n",
    "                   (doc[token.i+j].is_alpha and \n",
    "                    doc[token.i+j].is_stop==False and #not a stopword\n",
    "                    doc[token.i+j].is_oov and #not in SpaCy vocab\n",
    "                    doc[token.i+j].lemma_ == doc[token.i+j].text and #is already in lemmatised form\n",
    "                    doc[token.i+j].text not in nltk.corpus.words.words())): #not in NLTK vocab\n",
    "                speciesShortName += ' ' + str(doc[token.i+j])\n",
    "                speciesShortNameTokens.append(doc[token.i+j])\n",
    "                j+=1\n",
    "                if token.i+j >= len(doc): \n",
    "                    break\n",
    "#                 print(speciesShortName)\n",
    "            if (len(speciesShortNameTokens)>1 and speciesShortName not in speciesShortNamesList):\n",
    "                speciesShortNamesList.append(speciesShortName)\n",
    "                speciesShortNameTokensList.append(speciesShortNameTokens)\n",
    "                \n",
    "                #SpaCy process for pattern matching\n",
    "                matcher = Matcher(nlp.vocab)\n",
    "                letter = \"^\" + speciesShortNameTokens[0].text[0]\n",
    "                pattern = [{\"SHAPE\": \"Xxxxx\", \"TEXT\": {\"REGEX\": letter}}] #find capitalised word beginning with correct letter\n",
    "                for tkn in speciesShortNameTokens[1:]:\n",
    "                    if tkn.shape_ =='x.':\n",
    "                        letter = \"^\" + tkn.text[0]\n",
    "                        pattern.append({\"SHAPE\": \"xxxx\", \"TEXT\": {\"REGEX\": letter}}) #find non-capitalised word beginning with correct letter\n",
    "                    else:\n",
    "                        pattern.append({\"TEXT\": tkn.text})\n",
    "                matcher.add(\"Species_Pattern\", [pattern])\n",
    "                matches = matcher(doc)\n",
    "                if len(matches)>0:\n",
    "                    start = matches[0][1]\n",
    "                    end =  matches[0][2]\n",
    "                    matched_span = doc[start:end]\n",
    "                    speciesFullNameList.append(matched_span.text)\n",
    "            speciesShortName=''\n",
    "            speciesShortNameTokens=[]\n",
    "\n",
    "    for name in speciesFullNameList:\n",
    "        camel = ''.join(word.capitalize() for word in name.split(' '))\n",
    "        camelCaseList.append(camel)\n",
    "    \n",
    "    for short, long, camel in zip(speciesShortNamesList, speciesFullNameList, camelCaseList):\n",
    "        replaceDict[short] = camel\n",
    "        replaceDict[long] = camel\n",
    "        namesDict[long]=camel\n",
    "        \n",
    "#     for short, long in zip(speciesShortNamesList, speciesFullNameList):\n",
    "#         print(short,long)\n",
    "          \n",
    "    #sort dictionary of words to replace by length so longest names are changed first\n",
    "    sortedKeyList = sorted(replaceDict.keys(), key=lambda s: len(replaceDict.get(s)), reverse = True)\n",
    "\n",
    "    for index in range(len(sortedKeyList)):\n",
    "        text = re.sub(sortedKeyList[index], replaceDict[sortedKeyList[index]], text)\n",
    "    \n",
    "    return text"
   ]
  },
  {
   "cell_type": "code",
   "execution_count": 595,
   "metadata": {
    "ExecuteTime": {
     "end_time": "2021-10-02T23:32:45.769497Z",
     "start_time": "2021-10-02T23:32:45.766955Z"
    }
   },
   "outputs": [],
   "source": [
    "#global variable to collect names \n",
    "namesDict = {}"
   ]
  },
  {
   "cell_type": "code",
   "execution_count": 612,
   "metadata": {
    "ExecuteTime": {
     "end_time": "2021-10-03T02:23:22.085403Z",
     "start_time": "2021-10-03T02:11:07.168047Z"
    }
   },
   "outputs": [
    {
     "name": "stderr",
     "output_type": "stream",
     "text": [
      "/Users/myfriendscallmej/anaconda3/lib/python3.7/site-packages/ipykernel_launcher.py:1: SettingWithCopyWarning: \n",
      "A value is trying to be set on a copy of a slice from a DataFrame.\n",
      "Try using .loc[row_indexer,col_indexer] = value instead\n",
      "\n",
      "See the caveats in the documentation: https://pandas.pydata.org/pandas-docs/stable/user_guide/indexing.html#returning-a-view-versus-a-copy\n",
      "  \"\"\"Entry point for launching an IPython kernel.\n"
     ]
    }
   ],
   "source": [
    "LymeDisease['clean_abstract'] = LymeDisease['clean_text'].apply(normaliseSpeciesNames)"
   ]
  },
  {
   "cell_type": "code",
   "execution_count": 631,
   "metadata": {
    "ExecuteTime": {
     "end_time": "2021-10-03T03:42:44.613276Z",
     "start_time": "2021-10-03T03:42:44.601023Z"
    }
   },
   "outputs": [
    {
     "name": "stdout",
     "output_type": "stream",
     "text": [
      "<class 'pandas.core.frame.DataFrame'>\n",
      "RangeIndex: 2720 entries, 0 to 2719\n",
      "Data columns (total 15 columns):\n",
      " #   Column          Non-Null Count  Dtype  \n",
      "---  ------          --------------  -----  \n",
      " 0   index           2720 non-null   int64  \n",
      " 1   publication     2720 non-null   object \n",
      " 2   title           2720 non-null   object \n",
      " 3   authors         2717 non-null   object \n",
      " 4   doi             2720 non-null   object \n",
      " 5   year            2720 non-null   float64\n",
      " 6   cites           2720 non-null   int64  \n",
      " 7   type            2720 non-null   object \n",
      " 8   abstract        2720 non-null   object \n",
      " 9   article_url     0 non-null      float64\n",
      " 10  fulltext_url    0 non-null      float64\n",
      " 11  abstractLength  2720 non-null   float64\n",
      " 12  pubmed          2720 non-null   int64  \n",
      " 13  clean_text      2720 non-null   object \n",
      " 14  clean_abstract  2720 non-null   object \n",
      "dtypes: float64(4), int64(3), object(8)\n",
      "memory usage: 318.9+ KB\n"
     ]
    }
   ],
   "source": [
    "LymeDisease.info()"
   ]
  },
  {
   "cell_type": "code",
   "execution_count": 614,
   "metadata": {
    "ExecuteTime": {
     "end_time": "2021-10-03T02:29:02.460621Z",
     "start_time": "2021-10-03T02:29:02.457162Z"
    }
   },
   "outputs": [
    {
     "data": {
      "text/plain": [
       "185"
      ]
     },
     "execution_count": 614,
     "metadata": {},
     "output_type": "execute_result"
    }
   ],
   "source": [
    "len(namesDict)"
   ]
  },
  {
   "cell_type": "code",
   "execution_count": 615,
   "metadata": {
    "ExecuteTime": {
     "end_time": "2021-10-03T02:29:02.491213Z",
     "start_time": "2021-10-03T02:29:02.483921Z"
    },
    "scrolled": true
   },
   "outputs": [
    {
     "data": {
      "text/plain": [
       "{'Ixodes scapularis': 'IxodesScapularis',\n",
       " 'Borrelia burgdorferi': 'BorreliaBurgdorferi',\n",
       " 'Ixodes affinis': 'IxodesAffinis',\n",
       " 'Borrelia burgdorferi sensu stricto': 'BorreliaBurgdorferiSensuStricto',\n",
       " 'Borrelia afzelii': 'BorreliaAfzelii',\n",
       " 'Borrelia persica': 'BorreliaPersica',\n",
       " 'Ornithodoros tholozani': 'OrnithodorosTholozani',\n",
       " 'Borrelia burgdorferi sensu lato': 'BorreliaBurgdorferiSensuLato',\n",
       " 'Ixodes pacificus': 'IxodesPacificus',\n",
       " 'Peromyscus maniculatus': 'PeromyscusManiculatus',\n",
       " 'Ixodes hexagonus': 'IxodesHexagonus',\n",
       " 'Dermacentor reticulatus': 'DermacentorReticulatus',\n",
       " 'Borrelia garinii': 'BorreliaGarinii',\n",
       " 'Anaplasma phagocytophilum': 'AnaplasmaPhagocytophilum',\n",
       " 'Francisella tularensis': 'FrancisellaTularensis',\n",
       " 'Ixodes auritulus': 'IxodesAuritulus',\n",
       " 'Orientia tsutsugamushi': 'OrientiaTsutsugamushi',\n",
       " 'Coxiella burnetii': 'CoxiellaBurnetii',\n",
       " 'Borrelia lusitaniae': 'BorreliaLusitaniae',\n",
       " 'Borrelia hermsii': 'BorreliaHermsii',\n",
       " 'Sciurus griseus': 'SciurusGriseus',\n",
       " 'Borrelia spielmanii': 'BorreliaSpielmanii',\n",
       " 'Argas persicus': 'ArgasPersicus',\n",
       " 'Erinaceus europaeus': 'ErinaceusEuropaeus',\n",
       " 'Borrelia miyamotoi': 'BorreliaMiyamotoi',\n",
       " 'Amblyomma americanum': 'AmblyommaAmericanum',\n",
       " 'Dermacentor variabilis': 'DermacentorVariabilis',\n",
       " 'Ixodes spinipalpis': 'IxodesSpinipalpis',\n",
       " 'Ehrlichia canis': 'EhrlichiaCanis',\n",
       " 'Dirofilaria immitis': 'DirofilariaImmitis',\n",
       " 'Haemaphysalis concinna': 'HaemaphysalisConcinna',\n",
       " 'Ixodes acuminatus': 'IxodesAcuminatus',\n",
       " 'Anaplasma phagocytophium': 'AnaplasmaPhagocytophium',\n",
       " 'Microtus ochrogaster': 'MicrotusOchrogaster',\n",
       " 'Rhipicephalus sanguineus': 'RhipicephalusSanguineus',\n",
       " 'Dermacentor marginatus': 'DermacentorMarginatus',\n",
       " 'Peromyscus leucopus': 'PeromyscusLeucopus',\n",
       " 'Ixodes persulcatus': 'IxodesPersulcatus',\n",
       " 'Borrelia andersonii': 'BorreliaAndersonii',\n",
       " 'Ixodes dentatus': 'IxodesDentatus',\n",
       " 'Borrelia afzelli': 'BorreliaAfzelli',\n",
       " 'Bartonella henselae': 'BartonellaHenselae',\n",
       " 'Yersinia pestis': 'YersiniaPestis',\n",
       " 'Turdus merula': 'TurdusMerula',\n",
       " 'Rickettsia slovaca': 'RickettsiaSlovaca',\n",
       " 'Borrelia burgdorferii sensu stricto': 'BorreliaBurgdorferiiSensuStricto',\n",
       " 'Borrellia burgdorferi': 'BorrelliaBurgdorferi',\n",
       " 'Capreolus capreolus': 'CapreolusCapreolus',\n",
       " 'Borrelia valaisiana': 'BorreliaValaisiana',\n",
       " 'Borrelia bissettii': 'BorreliaBissettii',\n",
       " 'Treponema pallidum': 'TreponemaPallidum',\n",
       " 'Rickettsia helvetica': 'RickettsiaHelvetica',\n",
       " 'Neoehrlichia mikurensis': 'NeoehrlichiaMikurensis',\n",
       " 'Apodemus sylvaticus': 'ApodemusSylvaticus',\n",
       " 'Myodes glareolus': 'MyodesGlareolus',\n",
       " 'Borrelia bavariensis sp': 'BorreliaBavariensisSp',\n",
       " 'Babesia microti': 'BabesiaMicroti',\n",
       " 'Ixodes holocyclus': 'IxodesHolocyclus',\n",
       " 'Ixodes cornuatus': 'IxodesCornuatus',\n",
       " 'Borreila burgdorferi': 'BorreilaBurgdorferi',\n",
       " 'Theileria equi': 'TheileriaEqui',\n",
       " 'Babesia caballi': 'BabesiaCaballi',\n",
       " 'Ixodes cookei': 'IxodesCookei',\n",
       " 'Borrelia burgdorferi sl': 'BorreliaBurgdorferiSl',\n",
       " 'Ixodes arboricola': 'IxodesArboricola',\n",
       " 'Ixodes pavlovskyi': 'IxodesPavlovskyi',\n",
       " 'Ixodes ovatus': 'IxodesOvatus',\n",
       " 'Ornithodoros sonrai': 'OrnithodorosSonrai',\n",
       " 'Borrelia crocidurae': 'BorreliaCrocidurae',\n",
       " 'Borrelia miyamotoi sensu lato': 'BorreliaMiyamotoiSensuLato',\n",
       " 'Sceloporus undulatus': 'SceloporusUndulatus',\n",
       " 'Amblyomma maculatum': 'AmblyommaMaculatum',\n",
       " 'Ixodes sinensis': 'IxodesSinensis',\n",
       " 'Ehrlichia chaffeensis': 'EhrlichiaChaffeensis',\n",
       " 'Ehrlichia ruminantium': 'EhrlichiaRuminantium',\n",
       " 'Toxoplasma gondii': 'ToxoplasmaGondii',\n",
       " 'Toxocara canis': 'ToxocaraCanis',\n",
       " 'Dermacentor nuttalli': 'DermacentorNuttalli',\n",
       " 'Borrelia americana': 'BorreliaAmericana',\n",
       " 'Sciurus vulgaris': 'SciurusVulgaris',\n",
       " 'Rickettsia monacensis': 'RickettsiaMonacensis',\n",
       " 'Amblyomma triguttatum': 'AmblyommaTriguttatum',\n",
       " 'Sorex araneus': 'SorexAraneus',\n",
       " 'Rickettsia typhi': 'RickettsiaTyphi',\n",
       " 'Dermacentor silvarum': 'DermacentorSilvarum',\n",
       " 'Haemaphysalis leporispalustris': 'HaemaphysalisLeporispalustris',\n",
       " 'Treponema denticola': 'TreponemaDenticola',\n",
       " 'Borrelia hispanica': 'BorreliaHispanica',\n",
       " 'Rhipicephalus turanicus': 'RhipicephalusTuranicus',\n",
       " 'Hyalomma aegyptium': 'HyalommaAegyptium',\n",
       " 'Tamias sibiricus': 'TamiasSibiricus',\n",
       " 'Borrelia bavariensis': 'BorreliaBavariensis',\n",
       " 'Trypanosoma brucei': 'TrypanosomaBrucei',\n",
       " 'Haemaphysalis punctata': 'HaemaphysalisPunctata',\n",
       " 'Borrelia turdi': 'BorreliaTurdi',\n",
       " 'Borrelia mayonii': 'BorreliaMayonii',\n",
       " 'Rattus rattus': 'RattusRattus',\n",
       " 'Ixodes angustus': 'IxodesAngustus',\n",
       " 'Ixodes cf': 'IxodesCf',\n",
       " 'Amblyomma varanense': 'AmblyommaVaranense',\n",
       " 'Python reticulatus': 'PythonReticulatus',\n",
       " 'Ixodes canisuga': 'IxodesCanisuga',\n",
       " 'Angiostrongylus vasorum': 'AngiostrongylusVasorum',\n",
       " 'Leishmania infantum': 'LeishmaniaInfantum',\n",
       " 'Ehrlichia ewingii': 'EhrlichiaEwingii',\n",
       " 'Rickettsia parkeri': 'RickettsiaParkeri',\n",
       " 'Rickettsia rickettsii': 'RickettsiaRickettsii',\n",
       " 'Rickettsia amblyommii': 'RickettsiaAmblyommii',\n",
       " 'Rickettsia aeschlimannii': 'RickettsiaAeschlimannii',\n",
       " 'Anaplasma marginale': 'AnaplasmaMarginale',\n",
       " 'Coleus forskohlii': 'ColeusForskohlii',\n",
       " 'Borrelia turicatae': 'BorreliaTuricatae',\n",
       " 'Metarhizium anisopliae': 'MetarhiziumAnisopliae',\n",
       " 'Haemaphysalis hystricis': 'HaemaphysalisHystricis',\n",
       " 'Borrelia bissettiae': 'BorreliaBissettiae',\n",
       " 'Ixodes uriae': 'IxodesUriae',\n",
       " 'Borreliella burgdorferi': 'BorreliellaBurgdorferi',\n",
       " 'Babesia vogeli': 'BabesiaVogeli',\n",
       " 'Babesia canis': 'BabesiaCanis',\n",
       " 'Trypanosoma cruzi': 'TrypanosomaCruzi',\n",
       " 'Borrelia tachyglossi': 'BorreliaTachyglossi',\n",
       " 'Borellia burgdorferi': 'BorelliaBurgdorferi',\n",
       " 'Babesia venatorum': 'BabesiaVenatorum',\n",
       " 'Ixodes nipponensis': 'IxodesNipponensis',\n",
       " 'Ixodes muris': 'IxodesMuris',\n",
       " 'Babesia odocoilei': 'BabesiaOdocoilei',\n",
       " 'Borrelia turcica': 'BorreliaTurcica',\n",
       " 'Haemaphysalis longicornis': 'HaemaphysalisLongicornis',\n",
       " 'Mycobacterium goodii': 'MycobacteriumGoodii',\n",
       " 'Streptococcus pneumoniae': 'StreptococcusPneumoniae',\n",
       " 'Cistus creticus': 'CistusCreticus',\n",
       " 'Midichloria mitochondrii': 'MidichloriaMitochondrii',\n",
       " 'Sylvia communis': 'SylviaCommunis',\n",
       " 'Erithacus rubecula': 'ErithacusRubecula',\n",
       " 'Borrelia burgdorferi spp': 'BorreliaBurgdorferiSpp',\n",
       " 'Anaplasma phagocytophillum': 'AnaplasmaPhagocytophillum',\n",
       " 'Ehrlihia muris': 'EhrlihiaMuris',\n",
       " 'Borrelia yangtzensis': 'BorreliaYangtzensis',\n",
       " 'Anaplasma platys': 'AnaplasmaPlatys',\n",
       " 'Anaplasma ovis': 'AnaplasmaOvis',\n",
       " 'Heteromys irroratus': 'HeteromysIrroratus',\n",
       " 'Sigmodon hispidus': 'SigmodonHispidus',\n",
       " 'Heteromys gaumeri': 'HeteromysGaumeri',\n",
       " 'Ixodes paranaensis': 'IxodesParanaensis',\n",
       " 'Borrelia ibitipoquensis': 'BorreliaIbitipoquensis',\n",
       " 'Ixodiphagus hookeri': 'IxodiphagusHookeri',\n",
       " 'Ornithodoros parkeri': 'OrnithodorosParkeri',\n",
       " 'Bartonella quintana': 'BartonellaQuintana',\n",
       " 'Rickettsia conorii': 'RickettsiaConorii',\n",
       " 'Rickettsia prowazekii': 'RickettsiaProwazekii',\n",
       " 'Borrelia recurrentis': 'BorreliaRecurrentis',\n",
       " 'Anolis sagrei': 'AnolisSagrei',\n",
       " 'Spinturnix americanus': 'SpinturnixAmericanus',\n",
       " 'Babesia gibsoni': 'BabesiaGibsoni',\n",
       " 'Borrelia burgdorferisensu lato': 'BorreliaBurgdorferisensuLato',\n",
       " 'Rickettsia amblyommatis': 'RickettsiaAmblyommatis',\n",
       " 'Spiroplasma ixodetis': 'SpiroplasmaIxodetis',\n",
       " 'Rhipicephalus annulatus': 'RhipicephalusAnnulatus',\n",
       " 'Hyalomma marginatum': 'HyalommaMarginatum',\n",
       " 'Rhipicephalus kohlsi': 'RhipicephalusKohlsi',\n",
       " 'Hyalomma anatolicum': 'HyalommaAnatolicum',\n",
       " 'Dermacentor niveus': 'DermacentorNiveus',\n",
       " 'Borrelia javanense': 'BorreliaJavanense',\n",
       " 'Amblyomma javanense': 'AmblyommaJavanense',\n",
       " 'Manis javanica': 'ManisJavanica',\n",
       " 'Tamias striatus': 'TamiasStriatus',\n",
       " 'Myrmica rubra': 'MyrmicaRubra',\n",
       " 'Dermacentor andersoni': 'DermacentorAndersoni',\n",
       " 'Haemaphysalis flava': 'HaemaphysalisFlava',\n",
       " 'Hyalomma dromedarii': 'HyalommaDromedarii',\n",
       " 'Ixodes affnis': 'IxodesAffnis',\n",
       " 'Borrelia spelmanii': 'BorreliaSpelmanii',\n",
       " 'Dermacentor varabilis': 'DermacentorVarabilis',\n",
       " 'Ixodes spnipalpis': 'IxodesSpnipalpis',\n",
       " 'Borrelia bavarensis sp nov': 'BorreliaBavarensisSpNov',\n",
       " 'Borrelia burgdorferi osp': 'BorreliaBurgdorferiOsp',\n",
       " 'Ehrlichia chaffensis': 'EhrlichiaChaffensis',\n",
       " 'Dermacentor silvarm': 'DermacentorSilvarm',\n",
       " 'Haemaphysalis leporisplustris': 'HaemaphysalisLeporisplustris',\n",
       " 'Borrelia hispnica': 'BorreliaHispnica',\n",
       " 'Borrelia bavarensis': 'BorreliaBavarensis',\n",
       " 'Ixodes cf neuquenensis': 'IxodesCfNeuquenensis',\n",
       " 'Amblyomma varnense': 'AmblyommaVarnense',\n",
       " 'Borrelia burgdorferi sp': 'BorreliaBurgdorferiSp',\n",
       " 'Sigmodon hispdus': 'SigmodonHispdus'}"
      ]
     },
     "execution_count": 615,
     "metadata": {},
     "output_type": "execute_result"
    }
   ],
   "source": [
    "namesDict"
   ]
  },
  {
   "cell_type": "markdown",
   "metadata": {},
   "source": [
    "### Clean Text (second pass)"
   ]
  },
  {
   "cell_type": "code",
   "execution_count": 978,
   "metadata": {
    "ExecuteTime": {
     "end_time": "2021-10-07T21:33:29.484868Z",
     "start_time": "2021-10-07T21:33:29.450193Z"
    }
   },
   "outputs": [],
   "source": [
    "def clean_text2(text):\n",
    "#     text = str(text).lower() #make lower\n",
    "    text = re.sub('https?://\\S+|www\\.\\S+', '', text) #remove links\n",
    "    text = re.sub(\"[^-9A-Za-z ]\", '' , text) #remove double quotation and any punctuation\n",
    "    text = re.sub('\\w*\\d\\w*', '', text) #remove numbers\n",
    "    text = re.sub('b burgdorferi|borrelia burgdorferi', 'BorreliaBurgdorferi', text, flags=re.IGNORECASE)\n",
    "    text = re.sub('BorreliaBurgdorferi s l|BorreliaBurgdorferi sl|Borreliaburgdorferi sensu lato', \n",
    "                  'BorreliaBurgdorferiSensuLato', text, flags=re.IGNORECASE)\n",
    "    text = re.sub('BorreliaBurgdorferi s s|BorreliaBurgdorferi ss|Borreliaburgdorferi sensu stricto', \n",
    "                  'BorreliaBurgdorferiSensuStricto', text, flags=re.IGNORECASE)\n",
    "    text = re.sub('Ixodes ricinus', 'IxodesRicinus', text, flags=re.IGNORECASE)\n",
    "    \n",
    "#     text = re.sub('Borrelia burgdorferi sensu lato', 'BorreliaBurgdorferiSensuLato', text)\n",
    "#     text = re.sub('Borrelia burgdorferi sensu stricto', 'BorreliaBurgdorferiSensuStricto', text)\n",
    "#     text = re.sub('b burgdorferi sensu lato', 'BorreliaBurgdorferiSensuLato', text)\n",
    "#     text = re.sub('b burgdorferi sensu stricto', 'BorreliaBurgdorferiSensuStricto', text)\n",
    "#     text = re.sub('Borrelia burgdorferi s l', 'BorreliaBurgdorferiSensuLato', text)\n",
    "#     text = re.sub('Borrelia burgdorferi s s', 'BorreliaBurgdorferiSensuStricto', text)\n",
    "#     text = re.sub('BorreliaBurgdorferi sensu lato', 'BorreliaBurgdorferiSensuLato', text)\n",
    "#     text = re.sub('BorreliaBurgdorferi s l', 'BorreliaBurgdorferiSensuLato', text)\n",
    "#     text = re.sub('b burgdorferi', 'BorreliaBurgdorferi', text)\n",
    "#     text = re.sub('Borrelia burgdorferi', 'BorreliaBurgdorferi', text)\n",
    "#     text = re.sub('BorreliaBurgdorferi sl', 'BorreliaBurgdorferiSensuLato', text)\n",
    "    \n",
    "    text = re.sub(' +', ' ', text) #remove extra whitespace\n",
    "     \n",
    "    return text"
   ]
  },
  {
   "cell_type": "code",
   "execution_count": 979,
   "metadata": {
    "ExecuteTime": {
     "end_time": "2021-10-07T21:33:40.414223Z",
     "start_time": "2021-10-07T21:33:39.198211Z"
    }
   },
   "outputs": [
    {
     "name": "stderr",
     "output_type": "stream",
     "text": [
      "/Users/myfriendscallmej/anaconda3/lib/python3.7/site-packages/ipykernel_launcher.py:1: SettingWithCopyWarning: \n",
      "A value is trying to be set on a copy of a slice from a DataFrame.\n",
      "Try using .loc[row_indexer,col_indexer] = value instead\n",
      "\n",
      "See the caveats in the documentation: https://pandas.pydata.org/pandas-docs/stable/user_guide/indexing.html#returning-a-view-versus-a-copy\n",
      "  \"\"\"Entry point for launching an IPython kernel.\n"
     ]
    }
   ],
   "source": [
    "LymeDisease['cleaner_abstract'] = LymeDisease['clean_abstract'].apply(clean_text2)"
   ]
  },
  {
   "cell_type": "markdown",
   "metadata": {},
   "source": [
    "### Adding SpaCy and NLTK tokenised text"
   ]
  },
  {
   "cell_type": "code",
   "execution_count": 980,
   "metadata": {
    "ExecuteTime": {
     "end_time": "2021-10-07T21:33:52.725323Z",
     "start_time": "2021-10-07T21:33:52.721269Z"
    }
   },
   "outputs": [],
   "source": [
    "from nltk.tokenize import RegexpTokenizer\n",
    "\n",
    "#w means tokens are made of only alphanumeric characters where + indicates that they comprise of one or more of such characters\n",
    "tokenizer = RegexpTokenizer('\\w+')"
   ]
  },
  {
   "cell_type": "code",
   "execution_count": 981,
   "metadata": {
    "ExecuteTime": {
     "end_time": "2021-10-07T21:35:32.397878Z",
     "start_time": "2021-10-07T21:33:53.520242Z"
    }
   },
   "outputs": [
    {
     "name": "stderr",
     "output_type": "stream",
     "text": [
      "/Users/myfriendscallmej/anaconda3/lib/python3.7/site-packages/ipykernel_launcher.py:1: SettingWithCopyWarning: \n",
      "A value is trying to be set on a copy of a slice from a DataFrame.\n",
      "Try using .loc[row_indexer,col_indexer] = value instead\n",
      "\n",
      "See the caveats in the documentation: https://pandas.pydata.org/pandas-docs/stable/user_guide/indexing.html#returning-a-view-versus-a-copy\n",
      "  \"\"\"Entry point for launching an IPython kernel.\n",
      "/Users/myfriendscallmej/anaconda3/lib/python3.7/site-packages/ipykernel_launcher.py:2: SettingWithCopyWarning: \n",
      "A value is trying to be set on a copy of a slice from a DataFrame.\n",
      "Try using .loc[row_indexer,col_indexer] = value instead\n",
      "\n",
      "See the caveats in the documentation: https://pandas.pydata.org/pandas-docs/stable/user_guide/indexing.html#returning-a-view-versus-a-copy\n",
      "  \n"
     ]
    }
   ],
   "source": [
    "LymeDisease['tokenisedAbstractSpacy'] = LymeDisease['cleaner_abstract'].apply(nlp)\n",
    "LymeDisease['tokenisedAbstractNLTK'] = LymeDisease['cleaner_abstract'].apply(tokenizer.tokenize)"
   ]
  },
  {
   "cell_type": "code",
   "execution_count": 982,
   "metadata": {
    "ExecuteTime": {
     "end_time": "2021-10-07T21:35:32.476749Z",
     "start_time": "2021-10-07T21:35:32.447246Z"
    }
   },
   "outputs": [
    {
     "name": "stdout",
     "output_type": "stream",
     "text": [
      "<class 'pandas.core.frame.DataFrame'>\n",
      "RangeIndex: 2720 entries, 0 to 2719\n",
      "Data columns (total 27 columns):\n",
      " #   Column                     Non-Null Count  Dtype  \n",
      "---  ------                     --------------  -----  \n",
      " 0   index                      2720 non-null   int64  \n",
      " 1   publication                2720 non-null   object \n",
      " 2   title                      2720 non-null   object \n",
      " 3   authors                    2717 non-null   object \n",
      " 4   doi                        2720 non-null   object \n",
      " 5   year                       2720 non-null   float64\n",
      " 6   cites                      2720 non-null   int64  \n",
      " 7   type                       2720 non-null   object \n",
      " 8   abstract                   2720 non-null   object \n",
      " 9   article_url                0 non-null      float64\n",
      " 10  fulltext_url               0 non-null      float64\n",
      " 11  abstractLength             2720 non-null   float64\n",
      " 12  pubmed                     2720 non-null   int64  \n",
      " 13  clean_text                 2720 non-null   object \n",
      " 14  clean_abstract             2720 non-null   object \n",
      " 15  cleaner_abstract           2720 non-null   object \n",
      " 16  tokenisedAbstractSpacy     2720 non-null   object \n",
      " 17  tokenisedAbstractNLTK      2720 non-null   object \n",
      " 18  abstractNoStopSpacy        2720 non-null   object \n",
      " 19  abstractNoStopNLTK         2720 non-null   object \n",
      " 20  abstractLemmaSpacy         2720 non-null   object \n",
      " 21  abstractLemmaNLTK          2720 non-null   object \n",
      " 22  abstractLemmaNoStopSpacy   2720 non-null   object \n",
      " 23  abstractLemmaNoStopNLTK    2720 non-null   object \n",
      " 24  abstractSentimentScore_TB  2720 non-null   float64\n",
      " 25  abstractSentiment_TB       2720 non-null   object \n",
      " 26  abstractSentiment_TB_NB    2720 non-null   object \n",
      "dtypes: float64(5), int64(3), object(19)\n",
      "memory usage: 573.9+ KB\n"
     ]
    }
   ],
   "source": [
    "LymeDisease.info()"
   ]
  },
  {
   "cell_type": "code",
   "execution_count": 983,
   "metadata": {
    "ExecuteTime": {
     "end_time": "2021-10-07T21:35:32.555430Z",
     "start_time": "2021-10-07T21:35:32.516700Z"
    }
   },
   "outputs": [
    {
     "data": {
      "text/html": [
       "<div>\n",
       "<style scoped>\n",
       "    .dataframe tbody tr th:only-of-type {\n",
       "        vertical-align: middle;\n",
       "    }\n",
       "\n",
       "    .dataframe tbody tr th {\n",
       "        vertical-align: top;\n",
       "    }\n",
       "\n",
       "    .dataframe thead th {\n",
       "        text-align: right;\n",
       "    }\n",
       "</style>\n",
       "<table border=\"1\" class=\"dataframe\">\n",
       "  <thead>\n",
       "    <tr style=\"text-align: right;\">\n",
       "      <th></th>\n",
       "      <th>index</th>\n",
       "      <th>publication</th>\n",
       "      <th>title</th>\n",
       "      <th>authors</th>\n",
       "      <th>doi</th>\n",
       "      <th>year</th>\n",
       "      <th>cites</th>\n",
       "      <th>type</th>\n",
       "      <th>abstract</th>\n",
       "      <th>article_url</th>\n",
       "      <th>...</th>\n",
       "      <th>tokenisedAbstractNLTK</th>\n",
       "      <th>abstractNoStopSpacy</th>\n",
       "      <th>abstractNoStopNLTK</th>\n",
       "      <th>abstractLemmaSpacy</th>\n",
       "      <th>abstractLemmaNLTK</th>\n",
       "      <th>abstractLemmaNoStopSpacy</th>\n",
       "      <th>abstractLemmaNoStopNLTK</th>\n",
       "      <th>abstractSentimentScore_TB</th>\n",
       "      <th>abstractSentiment_TB</th>\n",
       "      <th>abstractSentiment_TB_NB</th>\n",
       "    </tr>\n",
       "  </thead>\n",
       "  <tbody>\n",
       "    <tr>\n",
       "      <th>0</th>\n",
       "      <td>0</td>\n",
       "      <td>Ticks and tick-borne diseases</td>\n",
       "      <td>The range of Ixodes ricinus and the risk of co...</td>\n",
       "      <td>[{'name': 'Thomas G T Jaenson', 'affiliation':...</td>\n",
       "      <td>10.1016/j.ttbdis.2010.10.006</td>\n",
       "      <td>2011.0</td>\n",
       "      <td>0</td>\n",
       "      <td>Journal Article</td>\n",
       "      <td>In Sweden, the geographical distribution of Ly...</td>\n",
       "      <td>NaN</td>\n",
       "      <td>...</td>\n",
       "      <td>[In, Sweden, the, geographical, distribution, ...</td>\n",
       "      <td>Sweden geographical distribution Lyme borrelio...</td>\n",
       "      <td>Sweden geographical distribution Lyme borrelio...</td>\n",
       "      <td>in Sweden the geographical distribution of Lym...</td>\n",
       "      <td>In Sweden the geographical distribution of Lym...</td>\n",
       "      <td>Sweden geographical distribution Lyme borrelio...</td>\n",
       "      <td>Sweden geographical distribution Lyme borrelio...</td>\n",
       "      <td>0.045985</td>\n",
       "      <td>pos</td>\n",
       "      <td>pos</td>\n",
       "    </tr>\n",
       "    <tr>\n",
       "      <th>1</th>\n",
       "      <td>1</td>\n",
       "      <td>Ticks and tick-borne diseases</td>\n",
       "      <td>Low-density microarrays for the detection of B...</td>\n",
       "      <td>[{'name': 'Julie A Houck', 'affiliation': 'Dep...</td>\n",
       "      <td>10.1016/j.ttbdis.2010.10.002</td>\n",
       "      <td>2011.0</td>\n",
       "      <td>0</td>\n",
       "      <td>Journal Article</td>\n",
       "      <td>Lyme disease is the most common tick-borne dis...</td>\n",
       "      <td>NaN</td>\n",
       "      <td>...</td>\n",
       "      <td>[Lyme, disease, is, the, most, common, tick, b...</td>\n",
       "      <td>Lyme disease common tick borne disease Europe ...</td>\n",
       "      <td>Lyme disease common tick borne disease Europe ...</td>\n",
       "      <td>Lyme disease be the most common tick borne dis...</td>\n",
       "      <td>Lyme disease is the most common tick borne dis...</td>\n",
       "      <td>Lyme disease common tick borne disease Europe ...</td>\n",
       "      <td>Lyme disease common tick borne disease Europe ...</td>\n",
       "      <td>0.022198</td>\n",
       "      <td>pos</td>\n",
       "      <td>pos</td>\n",
       "    </tr>\n",
       "    <tr>\n",
       "      <th>2</th>\n",
       "      <td>2</td>\n",
       "      <td>Ticks and tick-borne diseases</td>\n",
       "      <td>Infectivity of Borrelia burgdorferi sensu lato...</td>\n",
       "      <td>[{'name': 'N D van Burgel', 'affiliation': 'De...</td>\n",
       "      <td>10.1016/j.ttbdis.2010.10.003</td>\n",
       "      <td>2011.0</td>\n",
       "      <td>0</td>\n",
       "      <td>Journal Article</td>\n",
       "      <td>B. burgdorferi, B. afzelii, and B. bavariensis...</td>\n",
       "      <td>NaN</td>\n",
       "      <td>...</td>\n",
       "      <td>[BorreliaBurgdorferi, B, afzelii, and, B, bava...</td>\n",
       "      <td>BorreliaBurgdorferi B afzelii B bavarensis res...</td>\n",
       "      <td>BorreliaBurgdorferi B afzelii B bavarensis sho...</td>\n",
       "      <td>BorreliaBurgdorferi B afzelii and b bavarensis...</td>\n",
       "      <td>BorreliaBurgdorferi B afzelii and B bavarensis...</td>\n",
       "      <td>BorreliaBurgdorferi B afzelii b bavarensis res...</td>\n",
       "      <td>BorreliaBurgdorferi B afzelii B bavarensis sho...</td>\n",
       "      <td>0.046591</td>\n",
       "      <td>pos</td>\n",
       "      <td>pos</td>\n",
       "    </tr>\n",
       "    <tr>\n",
       "      <th>3</th>\n",
       "      <td>4</td>\n",
       "      <td>Ticks and tick-borne diseases</td>\n",
       "      <td>Borrelia species in Ixodes affinis and Ixodes ...</td>\n",
       "      <td>[{'name': 'Ricardo G Maggi', 'affiliation': 'I...</td>\n",
       "      <td>10.1016/j.ttbdis.2010.08.003</td>\n",
       "      <td>2010.0</td>\n",
       "      <td>0</td>\n",
       "      <td>Journal Article</td>\n",
       "      <td>Ixodes affinis and I. scapularis are tick spec...</td>\n",
       "      <td>NaN</td>\n",
       "      <td>...</td>\n",
       "      <td>[IxodesAffnis, and, IxodesAffnis, are, tick, s...</td>\n",
       "      <td>IxodesAffnis IxodesAffnis tick spcies widely d...</td>\n",
       "      <td>IxodesAffnis IxodesAffnis tick spcies widely d...</td>\n",
       "      <td>IxodesAffnis and IxodesAffnis be tick spcie th...</td>\n",
       "      <td>IxodesAffnis and IxodesAffnis are tick spcies ...</td>\n",
       "      <td>IxodesAffnis IxodesAffnis tick spcie widely di...</td>\n",
       "      <td>IxodesAffnis IxodesAffnis tick spcies widely d...</td>\n",
       "      <td>0.089603</td>\n",
       "      <td>pos</td>\n",
       "      <td>pos</td>\n",
       "    </tr>\n",
       "    <tr>\n",
       "      <th>4</th>\n",
       "      <td>5</td>\n",
       "      <td>Ticks and tick-borne diseases</td>\n",
       "      <td>Are birds reservoir hosts for Borrelia afzelii?</td>\n",
       "      <td>[{'name': 'Jan Franke', 'affiliation': 'Instit...</td>\n",
       "      <td>10.1016/j.ttbdis.2010.03.001</td>\n",
       "      <td>2010.0</td>\n",
       "      <td>0</td>\n",
       "      <td>Journal Article</td>\n",
       "      <td>It is known that birds are competent reservoir...</td>\n",
       "      <td>NaN</td>\n",
       "      <td>...</td>\n",
       "      <td>[It, is, known, that, birds, are, competent, r...</td>\n",
       "      <td>known birds competent reservoir hosts particul...</td>\n",
       "      <td>known birds competent reservoir hosts particul...</td>\n",
       "      <td>it be know that bird be competent reservoir ho...</td>\n",
       "      <td>It is known that bird are competent reservoir ...</td>\n",
       "      <td>know bird competent reservoir host particular ...</td>\n",
       "      <td>known bird competent reservoir host particular...</td>\n",
       "      <td>0.157995</td>\n",
       "      <td>pos</td>\n",
       "      <td>pos</td>\n",
       "    </tr>\n",
       "  </tbody>\n",
       "</table>\n",
       "<p>5 rows × 27 columns</p>\n",
       "</div>"
      ],
      "text/plain": [
       "   index                    publication  \\\n",
       "0      0  Ticks and tick-borne diseases   \n",
       "1      1  Ticks and tick-borne diseases   \n",
       "2      2  Ticks and tick-borne diseases   \n",
       "3      4  Ticks and tick-borne diseases   \n",
       "4      5  Ticks and tick-borne diseases   \n",
       "\n",
       "                                               title  \\\n",
       "0  The range of Ixodes ricinus and the risk of co...   \n",
       "1  Low-density microarrays for the detection of B...   \n",
       "2  Infectivity of Borrelia burgdorferi sensu lato...   \n",
       "3  Borrelia species in Ixodes affinis and Ixodes ...   \n",
       "4    Are birds reservoir hosts for Borrelia afzelii?   \n",
       "\n",
       "                                             authors  \\\n",
       "0  [{'name': 'Thomas G T Jaenson', 'affiliation':...   \n",
       "1  [{'name': 'Julie A Houck', 'affiliation': 'Dep...   \n",
       "2  [{'name': 'N D van Burgel', 'affiliation': 'De...   \n",
       "3  [{'name': 'Ricardo G Maggi', 'affiliation': 'I...   \n",
       "4  [{'name': 'Jan Franke', 'affiliation': 'Instit...   \n",
       "\n",
       "                            doi    year  cites             type  \\\n",
       "0  10.1016/j.ttbdis.2010.10.006  2011.0      0  Journal Article   \n",
       "1  10.1016/j.ttbdis.2010.10.002  2011.0      0  Journal Article   \n",
       "2  10.1016/j.ttbdis.2010.10.003  2011.0      0  Journal Article   \n",
       "3  10.1016/j.ttbdis.2010.08.003  2010.0      0  Journal Article   \n",
       "4  10.1016/j.ttbdis.2010.03.001  2010.0      0  Journal Article   \n",
       "\n",
       "                                            abstract  article_url  ...  \\\n",
       "0  In Sweden, the geographical distribution of Ly...          NaN  ...   \n",
       "1  Lyme disease is the most common tick-borne dis...          NaN  ...   \n",
       "2  B. burgdorferi, B. afzelii, and B. bavariensis...          NaN  ...   \n",
       "3  Ixodes affinis and I. scapularis are tick spec...          NaN  ...   \n",
       "4  It is known that birds are competent reservoir...          NaN  ...   \n",
       "\n",
       "                               tokenisedAbstractNLTK  \\\n",
       "0  [In, Sweden, the, geographical, distribution, ...   \n",
       "1  [Lyme, disease, is, the, most, common, tick, b...   \n",
       "2  [BorreliaBurgdorferi, B, afzelii, and, B, bava...   \n",
       "3  [IxodesAffnis, and, IxodesAffnis, are, tick, s...   \n",
       "4  [It, is, known, that, birds, are, competent, r...   \n",
       "\n",
       "                                 abstractNoStopSpacy  \\\n",
       "0  Sweden geographical distribution Lyme borrelio...   \n",
       "1  Lyme disease common tick borne disease Europe ...   \n",
       "2  BorreliaBurgdorferi B afzelii B bavarensis res...   \n",
       "3  IxodesAffnis IxodesAffnis tick spcies widely d...   \n",
       "4  known birds competent reservoir hosts particul...   \n",
       "\n",
       "                                  abstractNoStopNLTK  \\\n",
       "0  Sweden geographical distribution Lyme borrelio...   \n",
       "1  Lyme disease common tick borne disease Europe ...   \n",
       "2  BorreliaBurgdorferi B afzelii B bavarensis sho...   \n",
       "3  IxodesAffnis IxodesAffnis tick spcies widely d...   \n",
       "4  known birds competent reservoir hosts particul...   \n",
       "\n",
       "                                  abstractLemmaSpacy  \\\n",
       "0  in Sweden the geographical distribution of Lym...   \n",
       "1  Lyme disease be the most common tick borne dis...   \n",
       "2  BorreliaBurgdorferi B afzelii and b bavarensis...   \n",
       "3  IxodesAffnis and IxodesAffnis be tick spcie th...   \n",
       "4  it be know that bird be competent reservoir ho...   \n",
       "\n",
       "                                   abstractLemmaNLTK  \\\n",
       "0  In Sweden the geographical distribution of Lym...   \n",
       "1  Lyme disease is the most common tick borne dis...   \n",
       "2  BorreliaBurgdorferi B afzelii and B bavarensis...   \n",
       "3  IxodesAffnis and IxodesAffnis are tick spcies ...   \n",
       "4  It is known that bird are competent reservoir ...   \n",
       "\n",
       "                            abstractLemmaNoStopSpacy  \\\n",
       "0  Sweden geographical distribution Lyme borrelio...   \n",
       "1  Lyme disease common tick borne disease Europe ...   \n",
       "2  BorreliaBurgdorferi B afzelii b bavarensis res...   \n",
       "3  IxodesAffnis IxodesAffnis tick spcie widely di...   \n",
       "4  know bird competent reservoir host particular ...   \n",
       "\n",
       "                             abstractLemmaNoStopNLTK  \\\n",
       "0  Sweden geographical distribution Lyme borrelio...   \n",
       "1  Lyme disease common tick borne disease Europe ...   \n",
       "2  BorreliaBurgdorferi B afzelii B bavarensis sho...   \n",
       "3  IxodesAffnis IxodesAffnis tick spcies widely d...   \n",
       "4  known bird competent reservoir host particular...   \n",
       "\n",
       "  abstractSentimentScore_TB abstractSentiment_TB abstractSentiment_TB_NB  \n",
       "0                  0.045985                  pos                     pos  \n",
       "1                  0.022198                  pos                     pos  \n",
       "2                  0.046591                  pos                     pos  \n",
       "3                  0.089603                  pos                     pos  \n",
       "4                  0.157995                  pos                     pos  \n",
       "\n",
       "[5 rows x 27 columns]"
      ]
     },
     "execution_count": 983,
     "metadata": {},
     "output_type": "execute_result"
    }
   ],
   "source": [
    "LymeDisease.head()"
   ]
  },
  {
   "cell_type": "markdown",
   "metadata": {},
   "source": [
    "### Remove Stopwords"
   ]
  },
  {
   "cell_type": "code",
   "execution_count": 984,
   "metadata": {
    "ExecuteTime": {
     "end_time": "2021-10-07T21:35:32.606313Z",
     "start_time": "2021-10-07T21:35:32.599269Z"
    }
   },
   "outputs": [],
   "source": [
    "from nltk.corpus import stopwords\n",
    "stoplist = set(stopwords.words(\"english\"))"
   ]
  },
  {
   "cell_type": "code",
   "execution_count": 985,
   "metadata": {
    "ExecuteTime": {
     "end_time": "2021-10-07T21:35:32.649422Z",
     "start_time": "2021-10-07T21:35:32.646289Z"
    }
   },
   "outputs": [],
   "source": [
    "def removeStopwordsSpaCy(spacy_doc):\n",
    "    text = \" \".join([token.text for token in spacy_doc if token.is_stop == False and token.is_alpha])\n",
    "    return text"
   ]
  },
  {
   "cell_type": "code",
   "execution_count": 986,
   "metadata": {
    "ExecuteTime": {
     "end_time": "2021-10-07T21:35:32.690415Z",
     "start_time": "2021-10-07T21:35:32.686218Z"
    }
   },
   "outputs": [],
   "source": [
    "def removeStopwordsNLTK(nltk_tokens):\n",
    "    text = \" \".join(nltk.Text([word for word in nltk_tokens if word.lower() not in stoplist]))\n",
    "    return text"
   ]
  },
  {
   "cell_type": "code",
   "execution_count": 987,
   "metadata": {
    "ExecuteTime": {
     "end_time": "2021-10-07T21:35:33.202017Z",
     "start_time": "2021-10-07T21:35:32.726859Z"
    }
   },
   "outputs": [
    {
     "name": "stderr",
     "output_type": "stream",
     "text": [
      "/Users/myfriendscallmej/anaconda3/lib/python3.7/site-packages/ipykernel_launcher.py:1: SettingWithCopyWarning: \n",
      "A value is trying to be set on a copy of a slice from a DataFrame.\n",
      "Try using .loc[row_indexer,col_indexer] = value instead\n",
      "\n",
      "See the caveats in the documentation: https://pandas.pydata.org/pandas-docs/stable/user_guide/indexing.html#returning-a-view-versus-a-copy\n",
      "  \"\"\"Entry point for launching an IPython kernel.\n",
      "/Users/myfriendscallmej/anaconda3/lib/python3.7/site-packages/ipykernel_launcher.py:2: SettingWithCopyWarning: \n",
      "A value is trying to be set on a copy of a slice from a DataFrame.\n",
      "Try using .loc[row_indexer,col_indexer] = value instead\n",
      "\n",
      "See the caveats in the documentation: https://pandas.pydata.org/pandas-docs/stable/user_guide/indexing.html#returning-a-view-versus-a-copy\n",
      "  \n"
     ]
    }
   ],
   "source": [
    "LymeDisease['abstractNoStopSpacy'] = LymeDisease['tokenisedAbstractSpacy'].apply(removeStopwordsSpaCy)\n",
    "LymeDisease['abstractNoStopNLTK'] = LymeDisease['tokenisedAbstractNLTK'].apply(removeStopwordsNLTK)"
   ]
  },
  {
   "cell_type": "code",
   "execution_count": 988,
   "metadata": {
    "ExecuteTime": {
     "end_time": "2021-10-07T21:35:33.243171Z",
     "start_time": "2021-10-07T21:35:33.238885Z"
    }
   },
   "outputs": [
    {
     "data": {
      "text/plain": [
       "'Ticks Acari Ixodida vectors andor reservoirs pathogens ie BorreliaBurgdorferiSensuLato AnaplasmaPhagocytophilum BabesiaMicroti pathogens ethiological agents diseases Lyme borreliosis human granulocytic anaplasmosis human babesiosis aim study evaluate role IxodesRicinus transmission BorreliaBurgdorferiSensuLato BorreliaAfzelii Borrelia garinii BorreliaBurgdorferiSensuStricto AnaplasmaPhagocytophilum BabesiaMicroti Opolskie Province Poland DNA ticks isolated ammonia method pair primers spcific flagelline gene detect BorreliaBurgdorferiSensuLato detect genospcies sprochete pairs internal primers turn pairs primers spcific S rDNA gene S rRNA respctively detection AnaplasmaPhagocytophilum BabesiaMicroti BorreliaBurgdorferiSensuLato AnaplasmaPhagocytophilum BabesiaMicroti detected examined ticks respctively ticks infected BorreliaBurgdorferiSensuLato BorreliaAfzelii found seven undefinied genospcies mixed infection BorreliaAfzelii BorreliaBurgdorferiSensuStricto study demonstrated potential risk exposure humans animals infections BorreliaBurgdorferiSensuLato AnaplasmaPhagocytophilum BabesiaMicroti examined area Poland'"
      ]
     },
     "execution_count": 988,
     "metadata": {},
     "output_type": "execute_result"
    }
   ],
   "source": [
    "LymeDisease.loc[2000].abstractNoStopSpacy"
   ]
  },
  {
   "cell_type": "code",
   "execution_count": 989,
   "metadata": {
    "ExecuteTime": {
     "end_time": "2021-10-07T21:35:33.303624Z",
     "start_time": "2021-10-07T21:35:33.299161Z"
    }
   },
   "outputs": [
    {
     "data": {
      "text/plain": [
       "'Ticks Acari Ixodida vectors andor reservoirs many pathogens ie BorreliaBurgdorferiSensuLato AnaplasmaPhagocytophilum BabesiaMicroti pathogens ethiological agents diseases Lyme borreliosis human granulocytic anaplasmosis human babesiosis aim study evaluate role IxodesRicinus transmission BorreliaBurgdorferiSensuLato BorreliaAfzelii Borrelia garinii BorreliaBurgdorferiSensuStricto AnaplasmaPhagocytophilum BabesiaMicroti Opolskie Province Poland DNA ticks isolated ammonia method pair primers spcific flagelline gene used detect BorreliaBurgdorferiSensuLato detect genospcies sprochete three pairs internal primers used turn two pairs primers spcific rDNA gene rRNA used respctively detection AnaplasmaPhagocytophilum BabesiaMicroti BorreliaBurgdorferiSensuLato AnaplasmaPhagocytophilum BabesiaMicroti detected examined ticks respctively ten ticks infected BorreliaBurgdorferiSensuLato BorreliaAfzelii found seven undefinied genospcies two mixed infection BorreliaAfzelii BorreliaBurgdorferiSensuStricto one study demonstrated potential risk exposure humans animals infections BorreliaBurgdorferiSensuLato AnaplasmaPhagocytophilum BabesiaMicroti examined area Poland'"
      ]
     },
     "execution_count": 989,
     "metadata": {},
     "output_type": "execute_result"
    }
   ],
   "source": [
    "LymeDisease.loc[2000].abstractNoStopNLTK"
   ]
  },
  {
   "cell_type": "markdown",
   "metadata": {},
   "source": [
    "### Normalisation"
   ]
  },
  {
   "cell_type": "code",
   "execution_count": 990,
   "metadata": {
    "ExecuteTime": {
     "end_time": "2021-10-07T21:35:33.349623Z",
     "start_time": "2021-10-07T21:35:33.346697Z"
    }
   },
   "outputs": [],
   "source": [
    "lemmatizer = nltk.WordNetLemmatizer()"
   ]
  },
  {
   "cell_type": "code",
   "execution_count": 991,
   "metadata": {
    "ExecuteTime": {
     "end_time": "2021-10-07T21:35:33.393000Z",
     "start_time": "2021-10-07T21:35:33.390073Z"
    }
   },
   "outputs": [],
   "source": [
    "def lemmatiseSpaCy(spacy_doc):\n",
    "    text = \" \".join([token.lemma_ for token in spacy_doc])\n",
    "    return text"
   ]
  },
  {
   "cell_type": "code",
   "execution_count": 992,
   "metadata": {
    "ExecuteTime": {
     "end_time": "2021-10-07T21:35:33.442153Z",
     "start_time": "2021-10-07T21:35:33.439151Z"
    }
   },
   "outputs": [],
   "source": [
    "def lemmatiseNLTK(nltk_tokens):\n",
    "    text = \" \".join([lemmatizer.lemmatize(token) for token in nltk_tokens])\n",
    "    return text"
   ]
  },
  {
   "cell_type": "code",
   "execution_count": 993,
   "metadata": {
    "ExecuteTime": {
     "end_time": "2021-10-07T21:35:33.487708Z",
     "start_time": "2021-10-07T21:35:33.484301Z"
    }
   },
   "outputs": [],
   "source": [
    "def removeStopwordsLemmatiseSpaCy(spacy_doc):\n",
    "    text = \" \".join([token.lemma_ for token in spacy_doc if token.is_stop == False and token.is_alpha])\n",
    "    return text"
   ]
  },
  {
   "cell_type": "code",
   "execution_count": 994,
   "metadata": {
    "ExecuteTime": {
     "end_time": "2021-10-07T21:35:33.530430Z",
     "start_time": "2021-10-07T21:35:33.526704Z"
    }
   },
   "outputs": [],
   "source": [
    "def removeStopwordsNLTK(nltk_tokens):\n",
    "    text = \" \".join([lemmatizer.lemmatize(token) for token in nltk_tokens if token.lower() not in stoplist])\n",
    "    return text"
   ]
  },
  {
   "cell_type": "code",
   "execution_count": 995,
   "metadata": {
    "ExecuteTime": {
     "end_time": "2021-10-07T21:35:35.994624Z",
     "start_time": "2021-10-07T21:35:33.569359Z"
    }
   },
   "outputs": [
    {
     "name": "stderr",
     "output_type": "stream",
     "text": [
      "/Users/myfriendscallmej/anaconda3/lib/python3.7/site-packages/ipykernel_launcher.py:1: SettingWithCopyWarning: \n",
      "A value is trying to be set on a copy of a slice from a DataFrame.\n",
      "Try using .loc[row_indexer,col_indexer] = value instead\n",
      "\n",
      "See the caveats in the documentation: https://pandas.pydata.org/pandas-docs/stable/user_guide/indexing.html#returning-a-view-versus-a-copy\n",
      "  \"\"\"Entry point for launching an IPython kernel.\n",
      "/Users/myfriendscallmej/anaconda3/lib/python3.7/site-packages/ipykernel_launcher.py:2: SettingWithCopyWarning: \n",
      "A value is trying to be set on a copy of a slice from a DataFrame.\n",
      "Try using .loc[row_indexer,col_indexer] = value instead\n",
      "\n",
      "See the caveats in the documentation: https://pandas.pydata.org/pandas-docs/stable/user_guide/indexing.html#returning-a-view-versus-a-copy\n",
      "  \n"
     ]
    }
   ],
   "source": [
    "LymeDisease['abstractLemmaSpacy'] = LymeDisease['tokenisedAbstractSpacy'].apply(lemmatiseSpaCy)\n",
    "LymeDisease['abstractLemmaNLTK'] = LymeDisease['tokenisedAbstractNLTK'].apply(lemmatiseNLTK)"
   ]
  },
  {
   "cell_type": "code",
   "execution_count": 996,
   "metadata": {
    "ExecuteTime": {
     "end_time": "2021-10-07T21:35:37.961995Z",
     "start_time": "2021-10-07T21:35:36.041055Z"
    }
   },
   "outputs": [
    {
     "name": "stderr",
     "output_type": "stream",
     "text": [
      "/Users/myfriendscallmej/anaconda3/lib/python3.7/site-packages/ipykernel_launcher.py:1: SettingWithCopyWarning: \n",
      "A value is trying to be set on a copy of a slice from a DataFrame.\n",
      "Try using .loc[row_indexer,col_indexer] = value instead\n",
      "\n",
      "See the caveats in the documentation: https://pandas.pydata.org/pandas-docs/stable/user_guide/indexing.html#returning-a-view-versus-a-copy\n",
      "  \"\"\"Entry point for launching an IPython kernel.\n",
      "/Users/myfriendscallmej/anaconda3/lib/python3.7/site-packages/ipykernel_launcher.py:2: SettingWithCopyWarning: \n",
      "A value is trying to be set on a copy of a slice from a DataFrame.\n",
      "Try using .loc[row_indexer,col_indexer] = value instead\n",
      "\n",
      "See the caveats in the documentation: https://pandas.pydata.org/pandas-docs/stable/user_guide/indexing.html#returning-a-view-versus-a-copy\n",
      "  \n"
     ]
    }
   ],
   "source": [
    "LymeDisease['abstractLemmaNoStopSpacy'] = LymeDisease['tokenisedAbstractSpacy'].apply(removeStopwordsLemmatiseSpaCy)\n",
    "LymeDisease['abstractLemmaNoStopNLTK'] = LymeDisease['tokenisedAbstractNLTK'].apply(removeStopwordsNLTK)"
   ]
  },
  {
   "cell_type": "code",
   "execution_count": 997,
   "metadata": {
    "ExecuteTime": {
     "end_time": "2021-10-07T21:35:38.002159Z",
     "start_time": "2021-10-07T21:35:37.998099Z"
    }
   },
   "outputs": [
    {
     "data": {
      "text/plain": [
       "'Ticks Acari Ixodida be vector andor reservoir of many pathogen ie BorreliaBurgdorferiSensuLato AnaplasmaPhagocytophilum and BabesiaMicroti these pathogen be ethiological agent of such disease as Lyme borreliosis human granulocytic anaplasmosis and human babesiosis the aim of the study be to evaluate the role of the IxodesRicinus in the transmission of BorreliaBurgdorferiSensuLato BorreliaAfzelii Borrelia garinii BorreliaBurgdorferiSensuStricto AnaplasmaPhagocytophilum and BabesiaMicroti in Opolskie Province in Poland DNA from tick be isolate by the ammonia method the pair of primer spcific to the flagelline gene be use to detect of BorreliaBurgdorferiSensuLato to detect of genospcie of this sprochete three pair of internal primer be use in turn two pair of primer spcific to the S rDNA gene and the S rRNA be use respctively for the detection of AnaplasmaPhagocytophilum and BabesiaMicroti BorreliaBurgdorferiSensuLato AnaplasmaPhagocytophilum and BabesiaMicroti be detect in and of examine tick respctively of the ten tick infect with BorreliaBurgdorferiSensuLato BorreliaAfzelii be find in seven undefinied genospcie in two and mixed infection with BorreliaAfzelii and BorreliaBurgdorferiSensuStricto in one the study demonstrate the potential risk of exposure of human and animal to infection of BorreliaBurgdorferiSensuLato AnaplasmaPhagocytophilum and BabesiaMicroti in the examined area of Poland'"
      ]
     },
     "execution_count": 997,
     "metadata": {},
     "output_type": "execute_result"
    }
   ],
   "source": [
    "LymeDisease.loc[2000].abstractLemmaSpacy"
   ]
  },
  {
   "cell_type": "code",
   "execution_count": 998,
   "metadata": {
    "ExecuteTime": {
     "end_time": "2021-10-07T21:35:38.052335Z",
     "start_time": "2021-10-07T21:35:38.048529Z"
    }
   },
   "outputs": [
    {
     "data": {
      "text/plain": [
       "'Ticks Acari Ixodida are vector andor reservoir of many pathogen ie BorreliaBurgdorferiSensuLato AnaplasmaPhagocytophilum and BabesiaMicroti These pathogen are ethiological agent of such disease a Lyme borreliosis human granulocytic anaplasmosis and human babesiosis The aim of the study wa to evaluate the role of the IxodesRicinus in the transmission of BorreliaBurgdorferiSensuLato BorreliaAfzelii Borrelia garinii BorreliaBurgdorferiSensuStricto AnaplasmaPhagocytophilum and BabesiaMicroti in Opolskie Province in Poland DNA from tick wa isolated by the ammonia method The pair of primer spcific to the flagelline gene wa used to detect of BorreliaBurgdorferiSensuLato To detect of genospcies of this sprochete three pair of internal primer were used In turn two pair of primer spcific to the S rDNA gene and the S rRNA were used respctively for the detection of AnaplasmaPhagocytophilum and BabesiaMicroti BorreliaBurgdorferiSensuLato AnaplasmaPhagocytophilum and BabesiaMicroti were detected in and of examined tick respctively Of the ten tick infected with BorreliaBurgdorferiSensuLato BorreliaAfzelii wa found in seven undefinied genospcies in two and mixed infection with BorreliaAfzelii and BorreliaBurgdorferiSensuStricto in one The study demonstrated the potential risk of exposure of human and animal to infection of BorreliaBurgdorferiSensuLato AnaplasmaPhagocytophilum and BabesiaMicroti in the examined area of Poland'"
      ]
     },
     "execution_count": 998,
     "metadata": {},
     "output_type": "execute_result"
    }
   ],
   "source": [
    "LymeDisease.loc[2000].abstractLemmaNLTK"
   ]
  },
  {
   "cell_type": "code",
   "execution_count": 999,
   "metadata": {
    "ExecuteTime": {
     "end_time": "2021-10-07T21:35:38.094102Z",
     "start_time": "2021-10-07T21:35:38.088657Z"
    }
   },
   "outputs": [
    {
     "data": {
      "text/plain": [
       "'Ticks Acari Ixodida vector andor reservoir pathogen ie BorreliaBurgdorferiSensuLato AnaplasmaPhagocytophilum BabesiaMicroti pathogen ethiological agent disease Lyme borreliosis human granulocytic anaplasmosis human babesiosis aim study evaluate role IxodesRicinus transmission BorreliaBurgdorferiSensuLato BorreliaAfzelii Borrelia garinii BorreliaBurgdorferiSensuStricto AnaplasmaPhagocytophilum BabesiaMicroti Opolskie Province Poland DNA tick isolate ammonia method pair primer spcific flagelline gene detect BorreliaBurgdorferiSensuLato detect genospcie sprochete pair internal primer turn pair primer spcific S rDNA gene S rRNA respctively detection AnaplasmaPhagocytophilum BabesiaMicroti BorreliaBurgdorferiSensuLato AnaplasmaPhagocytophilum BabesiaMicroti detect examine tick respctively tick infect BorreliaBurgdorferiSensuLato BorreliaAfzelii find seven undefinied genospcie mixed infection BorreliaAfzelii BorreliaBurgdorferiSensuStricto study demonstrate potential risk exposure human animal infection BorreliaBurgdorferiSensuLato AnaplasmaPhagocytophilum BabesiaMicroti examined area Poland'"
      ]
     },
     "execution_count": 999,
     "metadata": {},
     "output_type": "execute_result"
    }
   ],
   "source": [
    "LymeDisease.loc[2000].abstractLemmaNoStopSpacy"
   ]
  },
  {
   "cell_type": "code",
   "execution_count": 1000,
   "metadata": {
    "ExecuteTime": {
     "end_time": "2021-10-07T21:35:38.150910Z",
     "start_time": "2021-10-07T21:35:38.139761Z"
    }
   },
   "outputs": [
    {
     "data": {
      "text/plain": [
       "'Ticks Acari Ixodida vector andor reservoir many pathogen ie BorreliaBurgdorferiSensuLato AnaplasmaPhagocytophilum BabesiaMicroti pathogen ethiological agent disease Lyme borreliosis human granulocytic anaplasmosis human babesiosis aim study evaluate role IxodesRicinus transmission BorreliaBurgdorferiSensuLato BorreliaAfzelii Borrelia garinii BorreliaBurgdorferiSensuStricto AnaplasmaPhagocytophilum BabesiaMicroti Opolskie Province Poland DNA tick isolated ammonia method pair primer spcific flagelline gene used detect BorreliaBurgdorferiSensuLato detect genospcies sprochete three pair internal primer used turn two pair primer spcific rDNA gene rRNA used respctively detection AnaplasmaPhagocytophilum BabesiaMicroti BorreliaBurgdorferiSensuLato AnaplasmaPhagocytophilum BabesiaMicroti detected examined tick respctively ten tick infected BorreliaBurgdorferiSensuLato BorreliaAfzelii found seven undefinied genospcies two mixed infection BorreliaAfzelii BorreliaBurgdorferiSensuStricto one study demonstrated potential risk exposure human animal infection BorreliaBurgdorferiSensuLato AnaplasmaPhagocytophilum BabesiaMicroti examined area Poland'"
      ]
     },
     "execution_count": 1000,
     "metadata": {},
     "output_type": "execute_result"
    }
   ],
   "source": [
    "LymeDisease.loc[2000].abstractLemmaNoStopNLTK"
   ]
  },
  {
   "cell_type": "code",
   "execution_count": 1001,
   "metadata": {
    "ExecuteTime": {
     "end_time": "2021-10-07T21:35:38.205240Z",
     "start_time": "2021-10-07T21:35:38.198676Z"
    }
   },
   "outputs": [
    {
     "data": {
      "text/plain": [
       "'Ticks Acari Ixodida be vector andor reservoir of many pathogen ie BorreliaBurgdorferiSensuLato AnaplasmaPhagocytophilum and BabesiaMicroti these pathogen be ethiological agent of such disease as Lyme borreliosis human granulocytic anaplasmosis and human babesiosis the aim of the study be to evaluate the role of the Ixodes ricinus in the transmission of BorreliaBurgdorferiSensuLato BorreliaAfzelii Borrelia garinii BorreliaBurgdorferiSensuStricto AnaplasmaPhagocytophilum and BabesiaMicroti in Opolskie Province in Poland DNA from   tick be isolate by the ammonia method the pair of primer spcific to the flagelline gene be use to detect of BorreliaBurgdorferiSensuLato to detect of genospcie of this sprochete three pair of internal primer be use in turn two pair of primer spcific to the S rDNA gene and the S rRNA be use respctively for the detection of AnaplasmaPhagocytophilum and BabesiaMicroti Borrelia burgdorferi s l AnaplasmaPhagocytophilum and BabesiaMicroti be detect in    and   of examine tick respctively of the ten tick infect with BorreliaBurgdorferiSensuLato BorreliaAfzelii be find in seven undefinied genospcie in two and mixed infection with BorreliaAfzelii and BorreliaBurgdorferiSensuStricto in one the study demonstrate the potential risk of exposure of human and animal to infection of BorreliaBurgdorferiSensuLato AnaplasmaPhagocytophilum and BabesiaMicroti in the examined area of Poland'"
      ]
     },
     "execution_count": 1001,
     "metadata": {},
     "output_type": "execute_result"
    }
   ],
   "source": [
    "\" \".join([token.lemma_ for token in tokenisedTextSpacy])"
   ]
  },
  {
   "cell_type": "code",
   "execution_count": 1002,
   "metadata": {
    "ExecuteTime": {
     "end_time": "2021-10-07T21:35:38.263808Z",
     "start_time": "2021-10-07T21:35:38.256557Z"
    }
   },
   "outputs": [
    {
     "data": {
      "text/plain": [
       "'Ticks Acari Ixodida vector andor reservoir many pathogen ie BorreliaBurgdorferiSensuLato AnaplasmaPhagocytophilum BabesiaMicroti pathogen ethiological agent disease Lyme borreliosis human granulocytic anaplasmosis human babesiosis aim study evaluate role Ixodes ricinus transmission BorreliaBurgdorferiSensuLato BorreliaAfzelii Borrelia garinii BorreliaBurgdorferiSensuStricto AnaplasmaPhagocytophilum BabesiaMicroti Opolskie Province Poland DNA tick isolated ammonia method pair primer spcific flagelline gene used detect BorreliaBurgdorferiSensuLato detect genospcies sprochete three pair internal primer used turn two pair primer spcific rDNA gene rRNA used respctively detection AnaplasmaPhagocytophilum BabesiaMicroti Borrelia burgdorferi l AnaplasmaPhagocytophilum BabesiaMicroti detected examined tick respctively ten tick infected BorreliaBurgdorferiSensuLato BorreliaAfzelii found seven undefinied genospcies two mixed infection BorreliaAfzelii BorreliaBurgdorferiSensuStricto one study demonstrated potential risk exposure human animal infection BorreliaBurgdorferiSensuLato AnaplasmaPhagocytophilum BabesiaMicroti examined area Poland'"
      ]
     },
     "execution_count": 1002,
     "metadata": {},
     "output_type": "execute_result"
    }
   ],
   "source": [
    "\" \".join([lemmatizer.lemmatize(t) for t in tokenisedTextNLTK if t.lower() not in stoplist])"
   ]
  },
  {
   "cell_type": "markdown",
   "metadata": {
    "ExecuteTime": {
     "end_time": "2021-10-01T23:54:39.301973Z",
     "start_time": "2021-10-01T23:54:39.297179Z"
    }
   },
   "source": [
    "## Sentiment"
   ]
  },
  {
   "cell_type": "code",
   "execution_count": 1003,
   "metadata": {
    "ExecuteTime": {
     "end_time": "2021-10-07T21:35:42.632528Z",
     "start_time": "2021-10-07T21:35:38.310208Z"
    }
   },
   "outputs": [
    {
     "name": "stdout",
     "output_type": "stream",
     "text": [
      "2021-10-08 10:35:38,315 loading file /Users/myfriendscallmej/.flair/models/sentiment-en-mix-distillbert_4.pt\n"
     ]
    }
   ],
   "source": [
    "flairClassifier = TextClassifier.load('en-sentiment')"
   ]
  },
  {
   "cell_type": "code",
   "execution_count": 1004,
   "metadata": {
    "ExecuteTime": {
     "end_time": "2021-10-07T21:35:42.671653Z",
     "start_time": "2021-10-07T21:35:42.669108Z"
    }
   },
   "outputs": [],
   "source": [
    "#pip install spacytextblob"
   ]
  },
  {
   "cell_type": "code",
   "execution_count": 1005,
   "metadata": {
    "ExecuteTime": {
     "end_time": "2021-10-07T21:35:42.714807Z",
     "start_time": "2021-10-07T21:35:42.711572Z"
    }
   },
   "outputs": [],
   "source": [
    "from spacytextblob.spacytextblob import SpacyTextBlob"
   ]
  },
  {
   "cell_type": "code",
   "execution_count": 859,
   "metadata": {
    "ExecuteTime": {
     "end_time": "2021-10-06T08:41:28.804052Z",
     "start_time": "2021-10-06T08:41:28.801679Z"
    }
   },
   "outputs": [],
   "source": [
    "nlp.add_pipe('spacytextblob')"
   ]
  },
  {
   "cell_type": "code",
   "execution_count": 1006,
   "metadata": {
    "ExecuteTime": {
     "end_time": "2021-10-07T21:35:42.757688Z",
     "start_time": "2021-10-07T21:35:42.753890Z"
    }
   },
   "outputs": [],
   "source": [
    "def flair_prediction(x):\n",
    "    sentence = Sentence(x)\n",
    "    flairClassifier.predict(sentence)\n",
    "    score = sentence.labels[0]\n",
    "    if \"POSITIVE\" in str(score):\n",
    "        return \"pos\"\n",
    "    elif \"NEGATIVE\" in str(score):\n",
    "        return \"neg\"\n",
    "    else:\n",
    "        return \"neu\""
   ]
  },
  {
   "cell_type": "code",
   "execution_count": 1007,
   "metadata": {
    "ExecuteTime": {
     "end_time": "2021-10-07T21:35:42.856803Z",
     "start_time": "2021-10-07T21:35:42.795412Z"
    }
   },
   "outputs": [],
   "source": [
    "tba = Blobber(analyzer=NaiveBayesAnalyzer())"
   ]
  },
  {
   "cell_type": "code",
   "execution_count": 1008,
   "metadata": {
    "ExecuteTime": {
     "end_time": "2021-10-07T21:35:42.937106Z",
     "start_time": "2021-10-07T21:35:42.894061Z"
    }
   },
   "outputs": [],
   "source": [
    "doc = nlp(text)"
   ]
  },
  {
   "cell_type": "code",
   "execution_count": 1009,
   "metadata": {
    "ExecuteTime": {
     "end_time": "2021-10-07T21:35:42.977965Z",
     "start_time": "2021-10-07T21:35:42.973494Z"
    }
   },
   "outputs": [
    {
     "data": {
      "text/plain": [
       "0.041666666666666664"
      ]
     },
     "execution_count": 1009,
     "metadata": {},
     "output_type": "execute_result"
    }
   ],
   "source": [
    "doc._.polarity"
   ]
  },
  {
   "cell_type": "code",
   "execution_count": 1010,
   "metadata": {
    "ExecuteTime": {
     "end_time": "2021-10-07T21:35:43.017935Z",
     "start_time": "2021-10-07T21:35:43.013676Z"
    }
   },
   "outputs": [
    {
     "data": {
      "text/plain": [
       "0.2416666666666667"
      ]
     },
     "execution_count": 1010,
     "metadata": {},
     "output_type": "execute_result"
    }
   ],
   "source": [
    "doc._.subjectivity"
   ]
  },
  {
   "cell_type": "code",
   "execution_count": 1038,
   "metadata": {
    "ExecuteTime": {
     "end_time": "2021-10-07T21:51:45.627705Z",
     "start_time": "2021-10-07T21:51:45.622224Z"
    }
   },
   "outputs": [
    {
     "data": {
      "text/plain": [
       "Sentiment(polarity=0.0625, subjectivity=0.30625)"
      ]
     },
     "execution_count": 1038,
     "metadata": {},
     "output_type": "execute_result"
    }
   ],
   "source": [
    "TextBlob(text).sentiment"
   ]
  },
  {
   "cell_type": "code",
   "execution_count": 1012,
   "metadata": {
    "ExecuteTime": {
     "end_time": "2021-10-07T21:35:43.131163Z",
     "start_time": "2021-10-07T21:35:43.110812Z"
    }
   },
   "outputs": [
    {
     "name": "stdout",
     "output_type": "stream",
     "text": [
      "<class 'pandas.core.frame.DataFrame'>\n",
      "RangeIndex: 2720 entries, 0 to 2719\n",
      "Data columns (total 27 columns):\n",
      " #   Column                     Non-Null Count  Dtype  \n",
      "---  ------                     --------------  -----  \n",
      " 0   index                      2720 non-null   int64  \n",
      " 1   publication                2720 non-null   object \n",
      " 2   title                      2720 non-null   object \n",
      " 3   authors                    2717 non-null   object \n",
      " 4   doi                        2720 non-null   object \n",
      " 5   year                       2720 non-null   float64\n",
      " 6   cites                      2720 non-null   int64  \n",
      " 7   type                       2720 non-null   object \n",
      " 8   abstract                   2720 non-null   object \n",
      " 9   article_url                0 non-null      float64\n",
      " 10  fulltext_url               0 non-null      float64\n",
      " 11  abstractLength             2720 non-null   float64\n",
      " 12  pubmed                     2720 non-null   int64  \n",
      " 13  clean_text                 2720 non-null   object \n",
      " 14  clean_abstract             2720 non-null   object \n",
      " 15  cleaner_abstract           2720 non-null   object \n",
      " 16  tokenisedAbstractSpacy     2720 non-null   object \n",
      " 17  tokenisedAbstractNLTK      2720 non-null   object \n",
      " 18  abstractNoStopSpacy        2720 non-null   object \n",
      " 19  abstractNoStopNLTK         2720 non-null   object \n",
      " 20  abstractLemmaSpacy         2720 non-null   object \n",
      " 21  abstractLemmaNLTK          2720 non-null   object \n",
      " 22  abstractLemmaNoStopSpacy   2720 non-null   object \n",
      " 23  abstractLemmaNoStopNLTK    2720 non-null   object \n",
      " 24  abstractSentimentScore_TB  2720 non-null   float64\n",
      " 25  abstractSentiment_TB       2720 non-null   object \n",
      " 26  abstractSentiment_TB_NB    2720 non-null   object \n",
      "dtypes: float64(5), int64(3), object(19)\n",
      "memory usage: 573.9+ KB\n"
     ]
    }
   ],
   "source": [
    "LymeDisease.info()"
   ]
  },
  {
   "cell_type": "code",
   "execution_count": 1013,
   "metadata": {
    "ExecuteTime": {
     "end_time": "2021-10-07T21:35:43.246868Z",
     "start_time": "2021-10-07T21:35:43.171771Z"
    }
   },
   "outputs": [
    {
     "name": "stdout",
     "output_type": "stream",
     "text": [
      "Tokenised Docs\n",
      "--------------\n",
      "\n",
      "Spacy\n",
      "polarity 0.0625\n",
      "subjectivity 0.30625\n",
      "\n",
      "NLTK\n",
      "Sentiment(polarity=0.0625, subjectivity=0.30625)\n"
     ]
    }
   ],
   "source": [
    "print('Tokenised Docs')\n",
    "print('--------------')\n",
    "print('\\nSpacy')\n",
    "print('polarity', nlp(LymeDisease.loc[2000].tokenisedAbstractSpacy.text)._.polarity)\n",
    "print('subjectivity', nlp(LymeDisease.loc[2000].tokenisedAbstractSpacy.text)._.subjectivity)\n",
    "print('\\nNLTK')\n",
    "print(TextBlob(\" \".join([word for word in LymeDisease.loc[2000].tokenisedAbstractNLTK])).sentiment)"
   ]
  },
  {
   "cell_type": "code",
   "execution_count": 1014,
   "metadata": {
    "ExecuteTime": {
     "end_time": "2021-10-07T21:35:43.340584Z",
     "start_time": "2021-10-07T21:35:43.287742Z"
    }
   },
   "outputs": [
    {
     "name": "stdout",
     "output_type": "stream",
     "text": [
      "No stopwords Docs\n",
      "--------------\n",
      "\n",
      "Spacy\n",
      "polarity 0.0\n",
      "subjectivity 0.29\n",
      "\n",
      "NLTK\n",
      "Sentiment(polarity=0.0, subjectivity=0.0)\n"
     ]
    }
   ],
   "source": [
    "print('No stopwords Docs')\n",
    "print('--------------')\n",
    "print('\\nSpacy')\n",
    "print('polarity', nlp(LymeDisease.loc[2000].abstractNoStopSpacy)._.polarity)\n",
    "print('subjectivity', nlp(LymeDisease.loc[2000].abstractNoStopSpacy)._.subjectivity)\n",
    "print('\\nNLTK')\n",
    "print(TextBlob(\" \".join([word for word in LymeDisease.loc[2000].abstractNoStopNLTK])).sentiment)"
   ]
  },
  {
   "cell_type": "code",
   "execution_count": 1015,
   "metadata": {
    "ExecuteTime": {
     "end_time": "2021-10-07T21:35:43.492863Z",
     "start_time": "2021-10-07T21:35:43.381905Z"
    }
   },
   "outputs": [
    {
     "name": "stdout",
     "output_type": "stream",
     "text": [
      "Lemmatised Docs\n",
      "--------------\n",
      "\n",
      "Spacy\n",
      "polarity 0.05555555555555555\n",
      "subjectivity 0.2833333333333334\n",
      "\n",
      "NLTK\n",
      "Sentiment(polarity=0.0, subjectivity=0.0)\n",
      "polarity 0.05555555555555555\n"
     ]
    }
   ],
   "source": [
    "print('Lemmatised Docs')\n",
    "print('--------------')\n",
    "print('\\nSpacy')\n",
    "print('polarity', nlp(LymeDisease.loc[2000].abstractLemmaSpacy)._.polarity)\n",
    "print('subjectivity', nlp(LymeDisease.loc[2000].abstractLemmaSpacy)._.subjectivity)\n",
    "print('\\nNLTK')\n",
    "print(TextBlob(\" \".join([word for word in LymeDisease.loc[2000].abstractLemmaNLTK])).sentiment)\n",
    "\n",
    "print('polarity', nlp(LymeDisease.loc[2000].abstractLemmaNLTK)._.polarity)\n",
    "\n"
   ]
  },
  {
   "cell_type": "code",
   "execution_count": 1016,
   "metadata": {
    "ExecuteTime": {
     "end_time": "2021-10-07T21:35:43.608015Z",
     "start_time": "2021-10-07T21:35:43.533320Z"
    }
   },
   "outputs": [
    {
     "name": "stdout",
     "output_type": "stream",
     "text": [
      "Lemmatised Docs, no stopwords\n",
      "--------------\n",
      "\n",
      "Spacy\n",
      "polarity -0.07\n",
      "subjectivity 0.4525\n",
      "\n",
      "NLTK\n",
      "Sentiment(polarity=0.0, subjectivity=0.0)\n",
      "polarity 0.1\n",
      "subjectivity 0.28055555555555556\n"
     ]
    }
   ],
   "source": [
    "print('Lemmatised Docs, no stopwords')\n",
    "print('--------------')\n",
    "print('\\nSpacy')\n",
    "print('polarity', nlp(LymeDisease.loc[100].abstractLemmaNoStopSpacy)._.polarity)\n",
    "print('subjectivity', nlp(LymeDisease.loc[100].abstractLemmaNoStopSpacy)._.subjectivity)\n",
    "print('\\nNLTK')\n",
    "print(TextBlob(\" \".join([word for word in LymeDisease.loc[100].abstractLemmaNoStopNLTK])).sentiment)\n",
    "\n",
    "print('polarity', nlp(LymeDisease.loc[100].abstractLemmaNoStopNLTK)._.polarity)\n",
    "print('subjectivity', nlp(LymeDisease.loc[100].abstractLemmaNoStopNLTK)._.subjectivity)"
   ]
  },
  {
   "cell_type": "code",
   "execution_count": 872,
   "metadata": {
    "ExecuteTime": {
     "end_time": "2021-10-06T08:42:15.432768Z",
     "start_time": "2021-10-06T08:41:57.725328Z"
    }
   },
   "outputs": [
    {
     "name": "stderr",
     "output_type": "stream",
     "text": [
      "/Users/myfriendscallmej/anaconda3/lib/python3.7/site-packages/ipykernel_launcher.py:1: SettingWithCopyWarning: \n",
      "A value is trying to be set on a copy of a slice from a DataFrame.\n",
      "Try using .loc[row_indexer,col_indexer] = value instead\n",
      "\n",
      "See the caveats in the documentation: https://pandas.pydata.org/pandas-docs/stable/user_guide/indexing.html#returning-a-view-versus-a-copy\n",
      "  \"\"\"Entry point for launching an IPython kernel.\n",
      "/Users/myfriendscallmej/anaconda3/lib/python3.7/site-packages/ipykernel_launcher.py:3: SettingWithCopyWarning: \n",
      "A value is trying to be set on a copy of a slice from a DataFrame.\n",
      "Try using .loc[row_indexer,col_indexer] = value instead\n",
      "\n",
      "See the caveats in the documentation: https://pandas.pydata.org/pandas-docs/stable/user_guide/indexing.html#returning-a-view-versus-a-copy\n",
      "  This is separate from the ipykernel package so we can avoid doing imports until\n",
      "/Users/myfriendscallmej/anaconda3/lib/python3.7/site-packages/ipykernel_launcher.py:4: SettingWithCopyWarning: \n",
      "A value is trying to be set on a copy of a slice from a DataFrame.\n",
      "Try using .loc[row_indexer,col_indexer] = value instead\n",
      "\n",
      "See the caveats in the documentation: https://pandas.pydata.org/pandas-docs/stable/user_guide/indexing.html#returning-a-view-versus-a-copy\n",
      "  after removing the cwd from sys.path.\n"
     ]
    }
   ],
   "source": [
    "LymeDisease['abstractSentimentScore_TB'] = LymeDisease['abstract'].apply(lambda text: TextBlob(text).sentiment[0])\n",
    "LymeDisease['abstractSentiment_TB'] = np.select([LymeDisease[\"abstractSentimentScore_TB\"] < 0, LymeDisease[\"abstractSentimentScore_TB\"] == 0, LymeDisease[\"abstractSentimentScore_TB\"] > 0],\n",
    "                           ['neg', 'neu', 'pos'])\n",
    "LymeDisease['abstractSentiment_TB_NB'] = LymeDisease['abstract'].apply(lambda text: tba(text).sentiment[0])"
   ]
  },
  {
   "cell_type": "code",
   "execution_count": 873,
   "metadata": {
    "ExecuteTime": {
     "end_time": "2021-10-06T08:47:20.221073Z",
     "start_time": "2021-10-06T08:42:15.473319Z"
    }
   },
   "outputs": [
    {
     "ename": "KeyboardInterrupt",
     "evalue": "",
     "output_type": "error",
     "traceback": [
      "\u001b[0;31m---------------------------------------------------------------------------\u001b[0m",
      "\u001b[0;31mKeyboardInterrupt\u001b[0m                         Traceback (most recent call last)",
      "\u001b[0;32m<ipython-input-873-41f0a51b4356>\u001b[0m in \u001b[0;36m<module>\u001b[0;34m\u001b[0m\n\u001b[0;32m----> 1\u001b[0;31m \u001b[0mLymeDisease\u001b[0m\u001b[0;34m[\u001b[0m\u001b[0;34m'abstractSentiment_Flair'\u001b[0m\u001b[0;34m]\u001b[0m \u001b[0;34m=\u001b[0m \u001b[0mLymeDisease\u001b[0m\u001b[0;34m[\u001b[0m\u001b[0;34m'abstract'\u001b[0m\u001b[0;34m]\u001b[0m\u001b[0;34m.\u001b[0m\u001b[0mapply\u001b[0m\u001b[0;34m(\u001b[0m\u001b[0mflair_prediction\u001b[0m\u001b[0;34m)\u001b[0m\u001b[0;34m\u001b[0m\u001b[0;34m\u001b[0m\u001b[0m\n\u001b[0m",
      "\u001b[0;32m~/anaconda3/lib/python3.7/site-packages/pandas/core/series.py\u001b[0m in \u001b[0;36mapply\u001b[0;34m(self, func, convert_dtype, args, **kwds)\u001b[0m\n\u001b[1;32m   4136\u001b[0m             \u001b[0;32melse\u001b[0m\u001b[0;34m:\u001b[0m\u001b[0;34m\u001b[0m\u001b[0;34m\u001b[0m\u001b[0m\n\u001b[1;32m   4137\u001b[0m                 \u001b[0mvalues\u001b[0m \u001b[0;34m=\u001b[0m \u001b[0mself\u001b[0m\u001b[0;34m.\u001b[0m\u001b[0mastype\u001b[0m\u001b[0;34m(\u001b[0m\u001b[0mobject\u001b[0m\u001b[0;34m)\u001b[0m\u001b[0;34m.\u001b[0m\u001b[0m_values\u001b[0m\u001b[0;34m\u001b[0m\u001b[0;34m\u001b[0m\u001b[0m\n\u001b[0;32m-> 4138\u001b[0;31m                 \u001b[0mmapped\u001b[0m \u001b[0;34m=\u001b[0m \u001b[0mlib\u001b[0m\u001b[0;34m.\u001b[0m\u001b[0mmap_infer\u001b[0m\u001b[0;34m(\u001b[0m\u001b[0mvalues\u001b[0m\u001b[0;34m,\u001b[0m \u001b[0mf\u001b[0m\u001b[0;34m,\u001b[0m \u001b[0mconvert\u001b[0m\u001b[0;34m=\u001b[0m\u001b[0mconvert_dtype\u001b[0m\u001b[0;34m)\u001b[0m\u001b[0;34m\u001b[0m\u001b[0;34m\u001b[0m\u001b[0m\n\u001b[0m\u001b[1;32m   4139\u001b[0m \u001b[0;34m\u001b[0m\u001b[0m\n\u001b[1;32m   4140\u001b[0m         \u001b[0;32mif\u001b[0m \u001b[0mlen\u001b[0m\u001b[0;34m(\u001b[0m\u001b[0mmapped\u001b[0m\u001b[0;34m)\u001b[0m \u001b[0;32mand\u001b[0m \u001b[0misinstance\u001b[0m\u001b[0;34m(\u001b[0m\u001b[0mmapped\u001b[0m\u001b[0;34m[\u001b[0m\u001b[0;36m0\u001b[0m\u001b[0;34m]\u001b[0m\u001b[0;34m,\u001b[0m \u001b[0mSeries\u001b[0m\u001b[0;34m)\u001b[0m\u001b[0;34m:\u001b[0m\u001b[0;34m\u001b[0m\u001b[0;34m\u001b[0m\u001b[0m\n",
      "\u001b[0;32mpandas/_libs/lib.pyx\u001b[0m in \u001b[0;36mpandas._libs.lib.map_infer\u001b[0;34m()\u001b[0m\n",
      "\u001b[0;32m<ipython-input-860-791c7454ce7c>\u001b[0m in \u001b[0;36mflair_prediction\u001b[0;34m(x)\u001b[0m\n\u001b[1;32m      1\u001b[0m \u001b[0;32mdef\u001b[0m \u001b[0mflair_prediction\u001b[0m\u001b[0;34m(\u001b[0m\u001b[0mx\u001b[0m\u001b[0;34m)\u001b[0m\u001b[0;34m:\u001b[0m\u001b[0;34m\u001b[0m\u001b[0;34m\u001b[0m\u001b[0m\n\u001b[1;32m      2\u001b[0m     \u001b[0msentence\u001b[0m \u001b[0;34m=\u001b[0m \u001b[0mSentence\u001b[0m\u001b[0;34m(\u001b[0m\u001b[0mx\u001b[0m\u001b[0;34m)\u001b[0m\u001b[0;34m\u001b[0m\u001b[0;34m\u001b[0m\u001b[0m\n\u001b[0;32m----> 3\u001b[0;31m     \u001b[0mflairClassifier\u001b[0m\u001b[0;34m.\u001b[0m\u001b[0mpredict\u001b[0m\u001b[0;34m(\u001b[0m\u001b[0msentence\u001b[0m\u001b[0;34m)\u001b[0m\u001b[0;34m\u001b[0m\u001b[0;34m\u001b[0m\u001b[0m\n\u001b[0m\u001b[1;32m      4\u001b[0m     \u001b[0mscore\u001b[0m \u001b[0;34m=\u001b[0m \u001b[0msentence\u001b[0m\u001b[0;34m.\u001b[0m\u001b[0mlabels\u001b[0m\u001b[0;34m[\u001b[0m\u001b[0;36m0\u001b[0m\u001b[0;34m]\u001b[0m\u001b[0;34m\u001b[0m\u001b[0;34m\u001b[0m\u001b[0m\n\u001b[1;32m      5\u001b[0m     \u001b[0;32mif\u001b[0m \u001b[0;34m\"POSITIVE\"\u001b[0m \u001b[0;32min\u001b[0m \u001b[0mstr\u001b[0m\u001b[0;34m(\u001b[0m\u001b[0mscore\u001b[0m\u001b[0;34m)\u001b[0m\u001b[0;34m:\u001b[0m\u001b[0;34m\u001b[0m\u001b[0;34m\u001b[0m\u001b[0m\n",
      "\u001b[0;32m~/anaconda3/lib/python3.7/site-packages/flair/nn/model.py\u001b[0m in \u001b[0;36mpredict\u001b[0;34m(self, sentences, mini_batch_size, return_probabilities_for_all_classes, verbose, label_name, return_loss, embedding_storage_mode)\u001b[0m\n\u001b[1;32m    514\u001b[0m \u001b[0;34m\u001b[0m\u001b[0m\n\u001b[1;32m    515\u001b[0m                 scores, gold_labels, sentences, label_candidates = self.forward_pass(batch,\n\u001b[0;32m--> 516\u001b[0;31m                                                                                      return_label_candidates=True)\n\u001b[0m\u001b[1;32m    517\u001b[0m                 \u001b[0;32mif\u001b[0m \u001b[0mreturn_loss\u001b[0m\u001b[0;34m:\u001b[0m\u001b[0;34m\u001b[0m\u001b[0;34m\u001b[0m\u001b[0m\n\u001b[1;32m    518\u001b[0m                     \u001b[0moverall_loss\u001b[0m \u001b[0;34m+=\u001b[0m \u001b[0mself\u001b[0m\u001b[0;34m.\u001b[0m\u001b[0m_calculate_loss\u001b[0m\u001b[0;34m(\u001b[0m\u001b[0mscores\u001b[0m\u001b[0;34m,\u001b[0m \u001b[0mgold_labels\u001b[0m\u001b[0;34m)\u001b[0m\u001b[0;34m[\u001b[0m\u001b[0;36m0\u001b[0m\u001b[0;34m]\u001b[0m\u001b[0;34m\u001b[0m\u001b[0;34m\u001b[0m\u001b[0m\n",
      "\u001b[0;32m~/anaconda3/lib/python3.7/site-packages/flair/models/text_classification_model.py\u001b[0m in \u001b[0;36mforward_pass\u001b[0;34m(self, sentences, return_label_candidates)\u001b[0m\n\u001b[1;32m     58\u001b[0m \u001b[0;34m\u001b[0m\u001b[0m\n\u001b[1;32m     59\u001b[0m         \u001b[0;31m# embed sentences\u001b[0m\u001b[0;34m\u001b[0m\u001b[0;34m\u001b[0m\u001b[0;34m\u001b[0m\u001b[0m\n\u001b[0;32m---> 60\u001b[0;31m         \u001b[0mself\u001b[0m\u001b[0;34m.\u001b[0m\u001b[0mdocument_embeddings\u001b[0m\u001b[0;34m.\u001b[0m\u001b[0membed\u001b[0m\u001b[0;34m(\u001b[0m\u001b[0msentences\u001b[0m\u001b[0;34m)\u001b[0m\u001b[0;34m\u001b[0m\u001b[0;34m\u001b[0m\u001b[0m\n\u001b[0m\u001b[1;32m     61\u001b[0m \u001b[0;34m\u001b[0m\u001b[0m\n\u001b[1;32m     62\u001b[0m         \u001b[0;31m# make tensor for all embedded sentences in batch\u001b[0m\u001b[0;34m\u001b[0m\u001b[0;34m\u001b[0m\u001b[0;34m\u001b[0m\u001b[0m\n",
      "\u001b[0;32m~/anaconda3/lib/python3.7/site-packages/flair/embeddings/base.py\u001b[0m in \u001b[0;36membed\u001b[0;34m(self, sentences)\u001b[0m\n\u001b[1;32m     58\u001b[0m \u001b[0;34m\u001b[0m\u001b[0m\n\u001b[1;32m     59\u001b[0m         \u001b[0;32mif\u001b[0m \u001b[0;32mnot\u001b[0m \u001b[0meverything_embedded\u001b[0m \u001b[0;32mor\u001b[0m \u001b[0;32mnot\u001b[0m \u001b[0mself\u001b[0m\u001b[0;34m.\u001b[0m\u001b[0mstatic_embeddings\u001b[0m\u001b[0;34m:\u001b[0m\u001b[0;34m\u001b[0m\u001b[0;34m\u001b[0m\u001b[0m\n\u001b[0;32m---> 60\u001b[0;31m             \u001b[0mself\u001b[0m\u001b[0;34m.\u001b[0m\u001b[0m_add_embeddings_internal\u001b[0m\u001b[0;34m(\u001b[0m\u001b[0msentences\u001b[0m\u001b[0;34m)\u001b[0m\u001b[0;34m\u001b[0m\u001b[0;34m\u001b[0m\u001b[0m\n\u001b[0m\u001b[1;32m     61\u001b[0m \u001b[0;34m\u001b[0m\u001b[0m\n\u001b[1;32m     62\u001b[0m         \u001b[0;32mreturn\u001b[0m \u001b[0msentences\u001b[0m\u001b[0;34m\u001b[0m\u001b[0;34m\u001b[0m\u001b[0m\n",
      "\u001b[0;32m~/anaconda3/lib/python3.7/site-packages/flair/embeddings/document.py\u001b[0m in \u001b[0;36m_add_embeddings_internal\u001b[0;34m(self, sentences)\u001b[0m\n\u001b[1;32m    152\u001b[0m             \u001b[0;31m# put encoded batch through transformer model to get all hidden states of all encoder layers\u001b[0m\u001b[0;34m\u001b[0m\u001b[0;34m\u001b[0m\u001b[0;34m\u001b[0m\u001b[0m\n\u001b[1;32m    153\u001b[0m             \u001b[0mhidden_states\u001b[0m \u001b[0;34m=\u001b[0m \u001b[0mself\u001b[0m\u001b[0;34m.\u001b[0m\u001b[0mmodel\u001b[0m\u001b[0;34m(\u001b[0m\u001b[0minput_ids\u001b[0m\u001b[0;34m,\u001b[0m \u001b[0mattention_mask\u001b[0m\u001b[0;34m=\u001b[0m\u001b[0mmask\u001b[0m\u001b[0;34m)\u001b[0m\u001b[0;34m[\u001b[0m\u001b[0;34m-\u001b[0m\u001b[0;36m1\u001b[0m\u001b[0;34m]\u001b[0m \u001b[0;32mif\u001b[0m \u001b[0mlen\u001b[0m\u001b[0;34m(\u001b[0m\u001b[0msentences\u001b[0m\u001b[0;34m)\u001b[0m \u001b[0;34m>\u001b[0m \u001b[0;36m1\u001b[0m\u001b[0;31m \u001b[0m\u001b[0;31m\\\u001b[0m\u001b[0;34m\u001b[0m\u001b[0;34m\u001b[0m\u001b[0m\n\u001b[0;32m--> 154\u001b[0;31m                 \u001b[0;32melse\u001b[0m \u001b[0mself\u001b[0m\u001b[0;34m.\u001b[0m\u001b[0mmodel\u001b[0m\u001b[0;34m(\u001b[0m\u001b[0minput_ids\u001b[0m\u001b[0;34m)\u001b[0m\u001b[0;34m[\u001b[0m\u001b[0;34m-\u001b[0m\u001b[0;36m1\u001b[0m\u001b[0;34m]\u001b[0m\u001b[0;34m\u001b[0m\u001b[0;34m\u001b[0m\u001b[0m\n\u001b[0m\u001b[1;32m    155\u001b[0m \u001b[0;34m\u001b[0m\u001b[0m\n\u001b[1;32m    156\u001b[0m             \u001b[0;31m# iterate over all subtokenized sentences\u001b[0m\u001b[0;34m\u001b[0m\u001b[0;34m\u001b[0m\u001b[0;34m\u001b[0m\u001b[0m\n",
      "\u001b[0;32m~/anaconda3/lib/python3.7/site-packages/torch/nn/modules/module.py\u001b[0m in \u001b[0;36m_call_impl\u001b[0;34m(self, *input, **kwargs)\u001b[0m\n\u001b[1;32m    725\u001b[0m             \u001b[0mresult\u001b[0m \u001b[0;34m=\u001b[0m \u001b[0mself\u001b[0m\u001b[0;34m.\u001b[0m\u001b[0m_slow_forward\u001b[0m\u001b[0;34m(\u001b[0m\u001b[0;34m*\u001b[0m\u001b[0minput\u001b[0m\u001b[0;34m,\u001b[0m \u001b[0;34m**\u001b[0m\u001b[0mkwargs\u001b[0m\u001b[0;34m)\u001b[0m\u001b[0;34m\u001b[0m\u001b[0;34m\u001b[0m\u001b[0m\n\u001b[1;32m    726\u001b[0m         \u001b[0;32melse\u001b[0m\u001b[0;34m:\u001b[0m\u001b[0;34m\u001b[0m\u001b[0;34m\u001b[0m\u001b[0m\n\u001b[0;32m--> 727\u001b[0;31m             \u001b[0mresult\u001b[0m \u001b[0;34m=\u001b[0m \u001b[0mself\u001b[0m\u001b[0;34m.\u001b[0m\u001b[0mforward\u001b[0m\u001b[0;34m(\u001b[0m\u001b[0;34m*\u001b[0m\u001b[0minput\u001b[0m\u001b[0;34m,\u001b[0m \u001b[0;34m**\u001b[0m\u001b[0mkwargs\u001b[0m\u001b[0;34m)\u001b[0m\u001b[0;34m\u001b[0m\u001b[0;34m\u001b[0m\u001b[0m\n\u001b[0m\u001b[1;32m    728\u001b[0m         for hook in itertools.chain(\n\u001b[1;32m    729\u001b[0m                 \u001b[0m_global_forward_hooks\u001b[0m\u001b[0;34m.\u001b[0m\u001b[0mvalues\u001b[0m\u001b[0;34m(\u001b[0m\u001b[0;34m)\u001b[0m\u001b[0;34m,\u001b[0m\u001b[0;34m\u001b[0m\u001b[0;34m\u001b[0m\u001b[0m\n",
      "\u001b[0;32m~/anaconda3/lib/python3.7/site-packages/transformers/models/distilbert/modeling_distilbert.py\u001b[0m in \u001b[0;36mforward\u001b[0;34m(self, input_ids, attention_mask, head_mask, inputs_embeds, output_attentions, output_hidden_states, return_dict)\u001b[0m\n\u001b[1;32m    485\u001b[0m             \u001b[0moutput_attentions\u001b[0m\u001b[0;34m=\u001b[0m\u001b[0moutput_attentions\u001b[0m\u001b[0;34m,\u001b[0m\u001b[0;34m\u001b[0m\u001b[0;34m\u001b[0m\u001b[0m\n\u001b[1;32m    486\u001b[0m             \u001b[0moutput_hidden_states\u001b[0m\u001b[0;34m=\u001b[0m\u001b[0moutput_hidden_states\u001b[0m\u001b[0;34m,\u001b[0m\u001b[0;34m\u001b[0m\u001b[0;34m\u001b[0m\u001b[0m\n\u001b[0;32m--> 487\u001b[0;31m             \u001b[0mreturn_dict\u001b[0m\u001b[0;34m=\u001b[0m\u001b[0mreturn_dict\u001b[0m\u001b[0;34m,\u001b[0m\u001b[0;34m\u001b[0m\u001b[0;34m\u001b[0m\u001b[0m\n\u001b[0m\u001b[1;32m    488\u001b[0m         )\n\u001b[1;32m    489\u001b[0m \u001b[0;34m\u001b[0m\u001b[0m\n",
      "\u001b[0;32m~/anaconda3/lib/python3.7/site-packages/torch/nn/modules/module.py\u001b[0m in \u001b[0;36m_call_impl\u001b[0;34m(self, *input, **kwargs)\u001b[0m\n\u001b[1;32m    725\u001b[0m             \u001b[0mresult\u001b[0m \u001b[0;34m=\u001b[0m \u001b[0mself\u001b[0m\u001b[0;34m.\u001b[0m\u001b[0m_slow_forward\u001b[0m\u001b[0;34m(\u001b[0m\u001b[0;34m*\u001b[0m\u001b[0minput\u001b[0m\u001b[0;34m,\u001b[0m \u001b[0;34m**\u001b[0m\u001b[0mkwargs\u001b[0m\u001b[0;34m)\u001b[0m\u001b[0;34m\u001b[0m\u001b[0;34m\u001b[0m\u001b[0m\n\u001b[1;32m    726\u001b[0m         \u001b[0;32melse\u001b[0m\u001b[0;34m:\u001b[0m\u001b[0;34m\u001b[0m\u001b[0;34m\u001b[0m\u001b[0m\n\u001b[0;32m--> 727\u001b[0;31m             \u001b[0mresult\u001b[0m \u001b[0;34m=\u001b[0m \u001b[0mself\u001b[0m\u001b[0;34m.\u001b[0m\u001b[0mforward\u001b[0m\u001b[0;34m(\u001b[0m\u001b[0;34m*\u001b[0m\u001b[0minput\u001b[0m\u001b[0;34m,\u001b[0m \u001b[0;34m**\u001b[0m\u001b[0mkwargs\u001b[0m\u001b[0;34m)\u001b[0m\u001b[0;34m\u001b[0m\u001b[0;34m\u001b[0m\u001b[0m\n\u001b[0m\u001b[1;32m    728\u001b[0m         for hook in itertools.chain(\n\u001b[1;32m    729\u001b[0m                 \u001b[0m_global_forward_hooks\u001b[0m\u001b[0;34m.\u001b[0m\u001b[0mvalues\u001b[0m\u001b[0;34m(\u001b[0m\u001b[0;34m)\u001b[0m\u001b[0;34m,\u001b[0m\u001b[0;34m\u001b[0m\u001b[0;34m\u001b[0m\u001b[0m\n",
      "\u001b[0;32m~/anaconda3/lib/python3.7/site-packages/transformers/models/distilbert/modeling_distilbert.py\u001b[0m in \u001b[0;36mforward\u001b[0;34m(self, x, attn_mask, head_mask, output_attentions, output_hidden_states, return_dict)\u001b[0m\n\u001b[1;32m    307\u001b[0m \u001b[0;34m\u001b[0m\u001b[0m\n\u001b[1;32m    308\u001b[0m             layer_outputs = layer_module(\n\u001b[0;32m--> 309\u001b[0;31m                 \u001b[0mx\u001b[0m\u001b[0;34m=\u001b[0m\u001b[0mhidden_state\u001b[0m\u001b[0;34m,\u001b[0m \u001b[0mattn_mask\u001b[0m\u001b[0;34m=\u001b[0m\u001b[0mattn_mask\u001b[0m\u001b[0;34m,\u001b[0m \u001b[0mhead_mask\u001b[0m\u001b[0;34m=\u001b[0m\u001b[0mhead_mask\u001b[0m\u001b[0;34m[\u001b[0m\u001b[0mi\u001b[0m\u001b[0;34m]\u001b[0m\u001b[0;34m,\u001b[0m \u001b[0moutput_attentions\u001b[0m\u001b[0;34m=\u001b[0m\u001b[0moutput_attentions\u001b[0m\u001b[0;34m\u001b[0m\u001b[0;34m\u001b[0m\u001b[0m\n\u001b[0m\u001b[1;32m    310\u001b[0m             )\n\u001b[1;32m    311\u001b[0m             \u001b[0mhidden_state\u001b[0m \u001b[0;34m=\u001b[0m \u001b[0mlayer_outputs\u001b[0m\u001b[0;34m[\u001b[0m\u001b[0;34m-\u001b[0m\u001b[0;36m1\u001b[0m\u001b[0;34m]\u001b[0m\u001b[0;34m\u001b[0m\u001b[0;34m\u001b[0m\u001b[0m\n",
      "\u001b[0;32m~/anaconda3/lib/python3.7/site-packages/torch/nn/modules/module.py\u001b[0m in \u001b[0;36m_call_impl\u001b[0;34m(self, *input, **kwargs)\u001b[0m\n\u001b[1;32m    725\u001b[0m             \u001b[0mresult\u001b[0m \u001b[0;34m=\u001b[0m \u001b[0mself\u001b[0m\u001b[0;34m.\u001b[0m\u001b[0m_slow_forward\u001b[0m\u001b[0;34m(\u001b[0m\u001b[0;34m*\u001b[0m\u001b[0minput\u001b[0m\u001b[0;34m,\u001b[0m \u001b[0;34m**\u001b[0m\u001b[0mkwargs\u001b[0m\u001b[0;34m)\u001b[0m\u001b[0;34m\u001b[0m\u001b[0;34m\u001b[0m\u001b[0m\n\u001b[1;32m    726\u001b[0m         \u001b[0;32melse\u001b[0m\u001b[0;34m:\u001b[0m\u001b[0;34m\u001b[0m\u001b[0;34m\u001b[0m\u001b[0m\n\u001b[0;32m--> 727\u001b[0;31m             \u001b[0mresult\u001b[0m \u001b[0;34m=\u001b[0m \u001b[0mself\u001b[0m\u001b[0;34m.\u001b[0m\u001b[0mforward\u001b[0m\u001b[0;34m(\u001b[0m\u001b[0;34m*\u001b[0m\u001b[0minput\u001b[0m\u001b[0;34m,\u001b[0m \u001b[0;34m**\u001b[0m\u001b[0mkwargs\u001b[0m\u001b[0;34m)\u001b[0m\u001b[0;34m\u001b[0m\u001b[0;34m\u001b[0m\u001b[0m\n\u001b[0m\u001b[1;32m    728\u001b[0m         for hook in itertools.chain(\n\u001b[1;32m    729\u001b[0m                 \u001b[0m_global_forward_hooks\u001b[0m\u001b[0;34m.\u001b[0m\u001b[0mvalues\u001b[0m\u001b[0;34m(\u001b[0m\u001b[0;34m)\u001b[0m\u001b[0;34m,\u001b[0m\u001b[0;34m\u001b[0m\u001b[0;34m\u001b[0m\u001b[0m\n",
      "\u001b[0;32m~/anaconda3/lib/python3.7/site-packages/transformers/models/distilbert/modeling_distilbert.py\u001b[0m in \u001b[0;36mforward\u001b[0;34m(self, x, attn_mask, head_mask, output_attentions)\u001b[0m\n\u001b[1;32m    254\u001b[0m             \u001b[0mmask\u001b[0m\u001b[0;34m=\u001b[0m\u001b[0mattn_mask\u001b[0m\u001b[0;34m,\u001b[0m\u001b[0;34m\u001b[0m\u001b[0;34m\u001b[0m\u001b[0m\n\u001b[1;32m    255\u001b[0m             \u001b[0mhead_mask\u001b[0m\u001b[0;34m=\u001b[0m\u001b[0mhead_mask\u001b[0m\u001b[0;34m,\u001b[0m\u001b[0;34m\u001b[0m\u001b[0;34m\u001b[0m\u001b[0m\n\u001b[0;32m--> 256\u001b[0;31m             \u001b[0moutput_attentions\u001b[0m\u001b[0;34m=\u001b[0m\u001b[0moutput_attentions\u001b[0m\u001b[0;34m,\u001b[0m\u001b[0;34m\u001b[0m\u001b[0;34m\u001b[0m\u001b[0m\n\u001b[0m\u001b[1;32m    257\u001b[0m         )\n\u001b[1;32m    258\u001b[0m         \u001b[0;32mif\u001b[0m \u001b[0moutput_attentions\u001b[0m\u001b[0;34m:\u001b[0m\u001b[0;34m\u001b[0m\u001b[0;34m\u001b[0m\u001b[0m\n",
      "\u001b[0;32m~/anaconda3/lib/python3.7/site-packages/torch/nn/modules/module.py\u001b[0m in \u001b[0;36m_call_impl\u001b[0;34m(self, *input, **kwargs)\u001b[0m\n\u001b[1;32m    725\u001b[0m             \u001b[0mresult\u001b[0m \u001b[0;34m=\u001b[0m \u001b[0mself\u001b[0m\u001b[0;34m.\u001b[0m\u001b[0m_slow_forward\u001b[0m\u001b[0;34m(\u001b[0m\u001b[0;34m*\u001b[0m\u001b[0minput\u001b[0m\u001b[0;34m,\u001b[0m \u001b[0;34m**\u001b[0m\u001b[0mkwargs\u001b[0m\u001b[0;34m)\u001b[0m\u001b[0;34m\u001b[0m\u001b[0;34m\u001b[0m\u001b[0m\n\u001b[1;32m    726\u001b[0m         \u001b[0;32melse\u001b[0m\u001b[0;34m:\u001b[0m\u001b[0;34m\u001b[0m\u001b[0;34m\u001b[0m\u001b[0m\n\u001b[0;32m--> 727\u001b[0;31m             \u001b[0mresult\u001b[0m \u001b[0;34m=\u001b[0m \u001b[0mself\u001b[0m\u001b[0;34m.\u001b[0m\u001b[0mforward\u001b[0m\u001b[0;34m(\u001b[0m\u001b[0;34m*\u001b[0m\u001b[0minput\u001b[0m\u001b[0;34m,\u001b[0m \u001b[0;34m**\u001b[0m\u001b[0mkwargs\u001b[0m\u001b[0;34m)\u001b[0m\u001b[0;34m\u001b[0m\u001b[0;34m\u001b[0m\u001b[0m\n\u001b[0m\u001b[1;32m    728\u001b[0m         for hook in itertools.chain(\n\u001b[1;32m    729\u001b[0m                 \u001b[0m_global_forward_hooks\u001b[0m\u001b[0;34m.\u001b[0m\u001b[0mvalues\u001b[0m\u001b[0;34m(\u001b[0m\u001b[0;34m)\u001b[0m\u001b[0;34m,\u001b[0m\u001b[0;34m\u001b[0m\u001b[0;34m\u001b[0m\u001b[0m\n",
      "\u001b[0;32m~/anaconda3/lib/python3.7/site-packages/transformers/models/distilbert/modeling_distilbert.py\u001b[0m in \u001b[0;36mforward\u001b[0;34m(self, query, key, value, mask, head_mask, output_attentions)\u001b[0m\n\u001b[1;32m    175\u001b[0m             \u001b[0;32mreturn\u001b[0m \u001b[0mx\u001b[0m\u001b[0;34m.\u001b[0m\u001b[0mtranspose\u001b[0m\u001b[0;34m(\u001b[0m\u001b[0;36m1\u001b[0m\u001b[0;34m,\u001b[0m \u001b[0;36m2\u001b[0m\u001b[0;34m)\u001b[0m\u001b[0;34m.\u001b[0m\u001b[0mcontiguous\u001b[0m\u001b[0;34m(\u001b[0m\u001b[0;34m)\u001b[0m\u001b[0;34m.\u001b[0m\u001b[0mview\u001b[0m\u001b[0;34m(\u001b[0m\u001b[0mbs\u001b[0m\u001b[0;34m,\u001b[0m \u001b[0;34m-\u001b[0m\u001b[0;36m1\u001b[0m\u001b[0;34m,\u001b[0m \u001b[0mself\u001b[0m\u001b[0;34m.\u001b[0m\u001b[0mn_heads\u001b[0m \u001b[0;34m*\u001b[0m \u001b[0mdim_per_head\u001b[0m\u001b[0;34m)\u001b[0m\u001b[0;34m\u001b[0m\u001b[0;34m\u001b[0m\u001b[0m\n\u001b[1;32m    176\u001b[0m \u001b[0;34m\u001b[0m\u001b[0m\n\u001b[0;32m--> 177\u001b[0;31m         \u001b[0mq\u001b[0m \u001b[0;34m=\u001b[0m \u001b[0mshape\u001b[0m\u001b[0;34m(\u001b[0m\u001b[0mself\u001b[0m\u001b[0;34m.\u001b[0m\u001b[0mq_lin\u001b[0m\u001b[0;34m(\u001b[0m\u001b[0mquery\u001b[0m\u001b[0;34m)\u001b[0m\u001b[0;34m)\u001b[0m  \u001b[0;31m# (bs, n_heads, q_length, dim_per_head)\u001b[0m\u001b[0;34m\u001b[0m\u001b[0;34m\u001b[0m\u001b[0m\n\u001b[0m\u001b[1;32m    178\u001b[0m         \u001b[0mk\u001b[0m \u001b[0;34m=\u001b[0m \u001b[0mshape\u001b[0m\u001b[0;34m(\u001b[0m\u001b[0mself\u001b[0m\u001b[0;34m.\u001b[0m\u001b[0mk_lin\u001b[0m\u001b[0;34m(\u001b[0m\u001b[0mkey\u001b[0m\u001b[0;34m)\u001b[0m\u001b[0;34m)\u001b[0m  \u001b[0;31m# (bs, n_heads, k_length, dim_per_head)\u001b[0m\u001b[0;34m\u001b[0m\u001b[0;34m\u001b[0m\u001b[0m\n\u001b[1;32m    179\u001b[0m         \u001b[0mv\u001b[0m \u001b[0;34m=\u001b[0m \u001b[0mshape\u001b[0m\u001b[0;34m(\u001b[0m\u001b[0mself\u001b[0m\u001b[0;34m.\u001b[0m\u001b[0mv_lin\u001b[0m\u001b[0;34m(\u001b[0m\u001b[0mvalue\u001b[0m\u001b[0;34m)\u001b[0m\u001b[0;34m)\u001b[0m  \u001b[0;31m# (bs, n_heads, k_length, dim_per_head)\u001b[0m\u001b[0;34m\u001b[0m\u001b[0;34m\u001b[0m\u001b[0m\n",
      "\u001b[0;32m~/anaconda3/lib/python3.7/site-packages/torch/nn/modules/module.py\u001b[0m in \u001b[0;36m_call_impl\u001b[0;34m(self, *input, **kwargs)\u001b[0m\n\u001b[1;32m    725\u001b[0m             \u001b[0mresult\u001b[0m \u001b[0;34m=\u001b[0m \u001b[0mself\u001b[0m\u001b[0;34m.\u001b[0m\u001b[0m_slow_forward\u001b[0m\u001b[0;34m(\u001b[0m\u001b[0;34m*\u001b[0m\u001b[0minput\u001b[0m\u001b[0;34m,\u001b[0m \u001b[0;34m**\u001b[0m\u001b[0mkwargs\u001b[0m\u001b[0;34m)\u001b[0m\u001b[0;34m\u001b[0m\u001b[0;34m\u001b[0m\u001b[0m\n\u001b[1;32m    726\u001b[0m         \u001b[0;32melse\u001b[0m\u001b[0;34m:\u001b[0m\u001b[0;34m\u001b[0m\u001b[0;34m\u001b[0m\u001b[0m\n\u001b[0;32m--> 727\u001b[0;31m             \u001b[0mresult\u001b[0m \u001b[0;34m=\u001b[0m \u001b[0mself\u001b[0m\u001b[0;34m.\u001b[0m\u001b[0mforward\u001b[0m\u001b[0;34m(\u001b[0m\u001b[0;34m*\u001b[0m\u001b[0minput\u001b[0m\u001b[0;34m,\u001b[0m \u001b[0;34m**\u001b[0m\u001b[0mkwargs\u001b[0m\u001b[0;34m)\u001b[0m\u001b[0;34m\u001b[0m\u001b[0;34m\u001b[0m\u001b[0m\n\u001b[0m\u001b[1;32m    728\u001b[0m         for hook in itertools.chain(\n\u001b[1;32m    729\u001b[0m                 \u001b[0m_global_forward_hooks\u001b[0m\u001b[0;34m.\u001b[0m\u001b[0mvalues\u001b[0m\u001b[0;34m(\u001b[0m\u001b[0;34m)\u001b[0m\u001b[0;34m,\u001b[0m\u001b[0;34m\u001b[0m\u001b[0;34m\u001b[0m\u001b[0m\n",
      "\u001b[0;32m~/anaconda3/lib/python3.7/site-packages/torch/nn/modules/linear.py\u001b[0m in \u001b[0;36mforward\u001b[0;34m(self, input)\u001b[0m\n\u001b[1;32m     91\u001b[0m \u001b[0;34m\u001b[0m\u001b[0m\n\u001b[1;32m     92\u001b[0m     \u001b[0;32mdef\u001b[0m \u001b[0mforward\u001b[0m\u001b[0;34m(\u001b[0m\u001b[0mself\u001b[0m\u001b[0;34m,\u001b[0m \u001b[0minput\u001b[0m\u001b[0;34m:\u001b[0m \u001b[0mTensor\u001b[0m\u001b[0;34m)\u001b[0m \u001b[0;34m->\u001b[0m \u001b[0mTensor\u001b[0m\u001b[0;34m:\u001b[0m\u001b[0;34m\u001b[0m\u001b[0;34m\u001b[0m\u001b[0m\n\u001b[0;32m---> 93\u001b[0;31m         \u001b[0;32mreturn\u001b[0m \u001b[0mF\u001b[0m\u001b[0;34m.\u001b[0m\u001b[0mlinear\u001b[0m\u001b[0;34m(\u001b[0m\u001b[0minput\u001b[0m\u001b[0;34m,\u001b[0m \u001b[0mself\u001b[0m\u001b[0;34m.\u001b[0m\u001b[0mweight\u001b[0m\u001b[0;34m,\u001b[0m \u001b[0mself\u001b[0m\u001b[0;34m.\u001b[0m\u001b[0mbias\u001b[0m\u001b[0;34m)\u001b[0m\u001b[0;34m\u001b[0m\u001b[0;34m\u001b[0m\u001b[0m\n\u001b[0m\u001b[1;32m     94\u001b[0m \u001b[0;34m\u001b[0m\u001b[0m\n\u001b[1;32m     95\u001b[0m     \u001b[0;32mdef\u001b[0m \u001b[0mextra_repr\u001b[0m\u001b[0;34m(\u001b[0m\u001b[0mself\u001b[0m\u001b[0;34m)\u001b[0m \u001b[0;34m->\u001b[0m \u001b[0mstr\u001b[0m\u001b[0;34m:\u001b[0m\u001b[0;34m\u001b[0m\u001b[0;34m\u001b[0m\u001b[0m\n",
      "\u001b[0;32m~/anaconda3/lib/python3.7/site-packages/torch/nn/functional.py\u001b[0m in \u001b[0;36mlinear\u001b[0;34m(input, weight, bias)\u001b[0m\n\u001b[1;32m   1690\u001b[0m         \u001b[0mret\u001b[0m \u001b[0;34m=\u001b[0m \u001b[0mtorch\u001b[0m\u001b[0;34m.\u001b[0m\u001b[0maddmm\u001b[0m\u001b[0;34m(\u001b[0m\u001b[0mbias\u001b[0m\u001b[0;34m,\u001b[0m \u001b[0minput\u001b[0m\u001b[0;34m,\u001b[0m \u001b[0mweight\u001b[0m\u001b[0;34m.\u001b[0m\u001b[0mt\u001b[0m\u001b[0;34m(\u001b[0m\u001b[0;34m)\u001b[0m\u001b[0;34m)\u001b[0m\u001b[0;34m\u001b[0m\u001b[0;34m\u001b[0m\u001b[0m\n\u001b[1;32m   1691\u001b[0m     \u001b[0;32melse\u001b[0m\u001b[0;34m:\u001b[0m\u001b[0;34m\u001b[0m\u001b[0;34m\u001b[0m\u001b[0m\n\u001b[0;32m-> 1692\u001b[0;31m         \u001b[0moutput\u001b[0m \u001b[0;34m=\u001b[0m \u001b[0minput\u001b[0m\u001b[0;34m.\u001b[0m\u001b[0mmatmul\u001b[0m\u001b[0;34m(\u001b[0m\u001b[0mweight\u001b[0m\u001b[0;34m.\u001b[0m\u001b[0mt\u001b[0m\u001b[0;34m(\u001b[0m\u001b[0;34m)\u001b[0m\u001b[0;34m)\u001b[0m\u001b[0;34m\u001b[0m\u001b[0;34m\u001b[0m\u001b[0m\n\u001b[0m\u001b[1;32m   1693\u001b[0m         \u001b[0;32mif\u001b[0m \u001b[0mbias\u001b[0m \u001b[0;32mis\u001b[0m \u001b[0;32mnot\u001b[0m \u001b[0;32mNone\u001b[0m\u001b[0;34m:\u001b[0m\u001b[0;34m\u001b[0m\u001b[0;34m\u001b[0m\u001b[0m\n\u001b[1;32m   1694\u001b[0m             \u001b[0moutput\u001b[0m \u001b[0;34m+=\u001b[0m \u001b[0mbias\u001b[0m\u001b[0;34m\u001b[0m\u001b[0;34m\u001b[0m\u001b[0m\n",
      "\u001b[0;31mKeyboardInterrupt\u001b[0m: "
     ]
    }
   ],
   "source": [
    "LymeDisease['abstractSentiment_Flair'] = LymeDisease['abstract'].apply(flair_prediction)       "
   ]
  },
  {
   "cell_type": "code",
   "execution_count": 1044,
   "metadata": {
    "ExecuteTime": {
     "end_time": "2021-10-07T21:53:58.279342Z",
     "start_time": "2021-10-07T21:53:58.275404Z"
    }
   },
   "outputs": [
    {
     "data": {
      "text/plain": [
       "'Ticks Acari Ixodida vector andor reservoir many pathogen ie BorreliaBurgdorferiSensuLato AnaplasmaPhagocytophilum BabesiaMicroti pathogen ethiological agent disease Lyme borreliosis human granulocytic anaplasmosis human babesiosis aim study evaluate role IxodesRicinus transmission BorreliaBurgdorferiSensuLato BorreliaAfzelii Borrelia garinii BorreliaBurgdorferiSensuStricto AnaplasmaPhagocytophilum BabesiaMicroti Opolskie Province Poland DNA tick isolated ammonia method pair primer spcific flagelline gene used detect BorreliaBurgdorferiSensuLato detect genospcies sprochete three pair internal primer used turn two pair primer spcific rDNA gene rRNA used respctively detection AnaplasmaPhagocytophilum BabesiaMicroti BorreliaBurgdorferiSensuLato AnaplasmaPhagocytophilum BabesiaMicroti detected examined tick respctively ten tick infected BorreliaBurgdorferiSensuLato BorreliaAfzelii found seven undefinied genospcies two mixed infection BorreliaAfzelii BorreliaBurgdorferiSensuStricto one study demonstrated potential risk exposure human animal infection BorreliaBurgdorferiSensuLato AnaplasmaPhagocytophilum BabesiaMicroti examined area Poland'"
      ]
     },
     "execution_count": 1044,
     "metadata": {},
     "output_type": "execute_result"
    }
   ],
   "source": [
    "text = LymeDisease.loc[2000].abstractLemmaNoStopNLTK\n",
    "text"
   ]
  },
  {
   "cell_type": "code",
   "execution_count": null,
   "metadata": {},
   "outputs": [],
   "source": []
  },
  {
   "cell_type": "code",
   "execution_count": 1045,
   "metadata": {
    "ExecuteTime": {
     "end_time": "2021-10-07T21:54:00.265209Z",
     "start_time": "2021-10-07T21:54:00.260860Z"
    }
   },
   "outputs": [],
   "source": [
    "text_object = NRCLex(text)"
   ]
  },
  {
   "cell_type": "code",
   "execution_count": 1046,
   "metadata": {
    "ExecuteTime": {
     "end_time": "2021-10-07T21:54:01.071375Z",
     "start_time": "2021-10-07T21:54:01.067076Z"
    }
   },
   "outputs": [
    {
     "data": {
      "text/plain": [
       "{'fear': 0.16666666666666666,\n",
       " 'anger': 0.03333333333333333,\n",
       " 'anticip': 0.0,\n",
       " 'trust': 0.13333333333333333,\n",
       " 'surprise': 0.0,\n",
       " 'positive': 0.3,\n",
       " 'negative': 0.16666666666666666,\n",
       " 'sadness': 0.06666666666666667,\n",
       " 'disgust': 0.06666666666666667,\n",
       " 'joy': 0.03333333333333333,\n",
       " 'anticipation': 0.03333333333333333}"
      ]
     },
     "execution_count": 1046,
     "metadata": {},
     "output_type": "execute_result"
    }
   ],
   "source": [
    "emotions = text_object.affect_frequencies\n",
    "emotions"
   ]
  },
  {
   "cell_type": "code",
   "execution_count": 1047,
   "metadata": {
    "ExecuteTime": {
     "end_time": "2021-10-07T21:54:09.353069Z",
     "start_time": "2021-10-07T21:54:09.348183Z"
    }
   },
   "outputs": [
    {
     "data": {
      "text/plain": [
       "{'fear': 0.16666666666666666,\n",
       " 'anger': 0.03333333333333333,\n",
       " 'trust': 0.13333333333333333,\n",
       " 'surprise': 0.0,\n",
       " 'sadness': 0.06666666666666667,\n",
       " 'disgust': 0.06666666666666667,\n",
       " 'joy': 0.03333333333333333,\n",
       " 'anticipation': 0.0}"
      ]
     },
     "execution_count": 1047,
     "metadata": {},
     "output_type": "execute_result"
    }
   ],
   "source": [
    "emotions.pop('positive')\n",
    "emotions.pop('negative')\n",
    "emotions['anticipation']=emotions.pop('anticip')\n",
    "emotions"
   ]
  },
  {
   "cell_type": "code",
   "execution_count": 1048,
   "metadata": {
    "ExecuteTime": {
     "end_time": "2021-10-07T21:54:11.227271Z",
     "start_time": "2021-10-07T21:54:10.990738Z"
    }
   },
   "outputs": [
    {
     "data": {
      "text/plain": [
       "<matplotlib.axes._subplots.AxesSubplot at 0x7f7e91168940>"
      ]
     },
     "execution_count": 1048,
     "metadata": {},
     "output_type": "execute_result"
    },
    {
     "data": {
      "image/png": "[encoded data removed]",
      "text/plain": [
       "<Figure size 576x576 with 1 Axes>"
      ]
     },
     "metadata": {
      "needs_background": "light"
     },
     "output_type": "display_data"
    }
   ],
   "source": [
    "plutchik(emotions)"
   ]
  },
  {
   "cell_type": "markdown",
   "metadata": {
    "ExecuteTime": {
     "end_time": "2021-10-01T23:54:39.301973Z",
     "start_time": "2021-10-01T23:54:39.297179Z"
    }
   },
   "source": [
    "## EDA"
   ]
  },
  {
   "cell_type": "markdown",
   "metadata": {},
   "source": [
    "### Basic Overview"
   ]
  },
  {
   "cell_type": "code",
   "execution_count": 1017,
   "metadata": {
    "ExecuteTime": {
     "end_time": "2021-10-07T21:36:24.595084Z",
     "start_time": "2021-10-07T21:36:24.579611Z"
    }
   },
   "outputs": [
    {
     "name": "stdout",
     "output_type": "stream",
     "text": [
      "<class 'pandas.core.frame.DataFrame'>\n",
      "RangeIndex: 2720 entries, 0 to 2719\n",
      "Data columns (total 27 columns):\n",
      " #   Column                     Non-Null Count  Dtype  \n",
      "---  ------                     --------------  -----  \n",
      " 0   index                      2720 non-null   int64  \n",
      " 1   publication                2720 non-null   object \n",
      " 2   title                      2720 non-null   object \n",
      " 3   authors                    2717 non-null   object \n",
      " 4   doi                        2720 non-null   object \n",
      " 5   year                       2720 non-null   float64\n",
      " 6   cites                      2720 non-null   int64  \n",
      " 7   type                       2720 non-null   object \n",
      " 8   abstract                   2720 non-null   object \n",
      " 9   article_url                0 non-null      float64\n",
      " 10  fulltext_url               0 non-null      float64\n",
      " 11  abstractLength             2720 non-null   float64\n",
      " 12  pubmed                     2720 non-null   int64  \n",
      " 13  clean_text                 2720 non-null   object \n",
      " 14  clean_abstract             2720 non-null   object \n",
      " 15  cleaner_abstract           2720 non-null   object \n",
      " 16  tokenisedAbstractSpacy     2720 non-null   object \n",
      " 17  tokenisedAbstractNLTK      2720 non-null   object \n",
      " 18  abstractNoStopSpacy        2720 non-null   object \n",
      " 19  abstractNoStopNLTK         2720 non-null   object \n",
      " 20  abstractLemmaSpacy         2720 non-null   object \n",
      " 21  abstractLemmaNLTK          2720 non-null   object \n",
      " 22  abstractLemmaNoStopSpacy   2720 non-null   object \n",
      " 23  abstractLemmaNoStopNLTK    2720 non-null   object \n",
      " 24  abstractSentimentScore_TB  2720 non-null   float64\n",
      " 25  abstractSentiment_TB       2720 non-null   object \n",
      " 26  abstractSentiment_TB_NB    2720 non-null   object \n",
      "dtypes: float64(5), int64(3), object(19)\n",
      "memory usage: 573.9+ KB\n"
     ]
    }
   ],
   "source": [
    "LymeDisease.info()"
   ]
  },
  {
   "cell_type": "code",
   "execution_count": 1018,
   "metadata": {
    "ExecuteTime": {
     "end_time": "2021-10-07T21:36:25.873023Z",
     "start_time": "2021-10-07T21:36:25.828817Z"
    }
   },
   "outputs": [
    {
     "data": {
      "text/html": [
       "<div>\n",
       "<style scoped>\n",
       "    .dataframe tbody tr th:only-of-type {\n",
       "        vertical-align: middle;\n",
       "    }\n",
       "\n",
       "    .dataframe tbody tr th {\n",
       "        vertical-align: top;\n",
       "    }\n",
       "\n",
       "    .dataframe thead th {\n",
       "        text-align: right;\n",
       "    }\n",
       "</style>\n",
       "<table border=\"1\" class=\"dataframe\">\n",
       "  <thead>\n",
       "    <tr style=\"text-align: right;\">\n",
       "      <th></th>\n",
       "      <th>index</th>\n",
       "      <th>year</th>\n",
       "      <th>cites</th>\n",
       "      <th>article_url</th>\n",
       "      <th>fulltext_url</th>\n",
       "      <th>abstractLength</th>\n",
       "      <th>pubmed</th>\n",
       "      <th>abstractSentimentScore_TB</th>\n",
       "    </tr>\n",
       "  </thead>\n",
       "  <tbody>\n",
       "    <tr>\n",
       "      <th>count</th>\n",
       "      <td>2720.000000</td>\n",
       "      <td>2720.000000</td>\n",
       "      <td>2720.0</td>\n",
       "      <td>0.0</td>\n",
       "      <td>0.0</td>\n",
       "      <td>2720.000000</td>\n",
       "      <td>2720.0</td>\n",
       "      <td>2720.000000</td>\n",
       "    </tr>\n",
       "    <tr>\n",
       "      <th>mean</th>\n",
       "      <td>2307.337132</td>\n",
       "      <td>2016.055147</td>\n",
       "      <td>0.0</td>\n",
       "      <td>NaN</td>\n",
       "      <td>NaN</td>\n",
       "      <td>1477.532353</td>\n",
       "      <td>1.0</td>\n",
       "      <td>0.085509</td>\n",
       "    </tr>\n",
       "    <tr>\n",
       "      <th>std</th>\n",
       "      <td>1300.447544</td>\n",
       "      <td>3.327957</td>\n",
       "      <td>0.0</td>\n",
       "      <td>NaN</td>\n",
       "      <td>NaN</td>\n",
       "      <td>498.685677</td>\n",
       "      <td>0.0</td>\n",
       "      <td>0.080119</td>\n",
       "    </tr>\n",
       "    <tr>\n",
       "      <th>min</th>\n",
       "      <td>0.000000</td>\n",
       "      <td>2010.000000</td>\n",
       "      <td>0.0</td>\n",
       "      <td>NaN</td>\n",
       "      <td>NaN</td>\n",
       "      <td>131.000000</td>\n",
       "      <td>1.0</td>\n",
       "      <td>-0.275000</td>\n",
       "    </tr>\n",
       "    <tr>\n",
       "      <th>25%</th>\n",
       "      <td>1197.750000</td>\n",
       "      <td>2014.000000</td>\n",
       "      <td>0.0</td>\n",
       "      <td>NaN</td>\n",
       "      <td>NaN</td>\n",
       "      <td>1154.000000</td>\n",
       "      <td>1.0</td>\n",
       "      <td>0.033890</td>\n",
       "    </tr>\n",
       "    <tr>\n",
       "      <th>50%</th>\n",
       "      <td>2330.500000</td>\n",
       "      <td>2016.000000</td>\n",
       "      <td>0.0</td>\n",
       "      <td>NaN</td>\n",
       "      <td>NaN</td>\n",
       "      <td>1479.000000</td>\n",
       "      <td>1.0</td>\n",
       "      <td>0.082183</td>\n",
       "    </tr>\n",
       "    <tr>\n",
       "      <th>75%</th>\n",
       "      <td>3479.250000</td>\n",
       "      <td>2019.000000</td>\n",
       "      <td>0.0</td>\n",
       "      <td>NaN</td>\n",
       "      <td>NaN</td>\n",
       "      <td>1768.500000</td>\n",
       "      <td>1.0</td>\n",
       "      <td>0.132380</td>\n",
       "    </tr>\n",
       "    <tr>\n",
       "      <th>max</th>\n",
       "      <td>4496.000000</td>\n",
       "      <td>2021.000000</td>\n",
       "      <td>0.0</td>\n",
       "      <td>NaN</td>\n",
       "      <td>NaN</td>\n",
       "      <td>3980.000000</td>\n",
       "      <td>1.0</td>\n",
       "      <td>0.525000</td>\n",
       "    </tr>\n",
       "  </tbody>\n",
       "</table>\n",
       "</div>"
      ],
      "text/plain": [
       "             index         year   cites  article_url  fulltext_url  \\\n",
       "count  2720.000000  2720.000000  2720.0          0.0           0.0   \n",
       "mean   2307.337132  2016.055147     0.0          NaN           NaN   \n",
       "std    1300.447544     3.327957     0.0          NaN           NaN   \n",
       "min       0.000000  2010.000000     0.0          NaN           NaN   \n",
       "25%    1197.750000  2014.000000     0.0          NaN           NaN   \n",
       "50%    2330.500000  2016.000000     0.0          NaN           NaN   \n",
       "75%    3479.250000  2019.000000     0.0          NaN           NaN   \n",
       "max    4496.000000  2021.000000     0.0          NaN           NaN   \n",
       "\n",
       "       abstractLength  pubmed  abstractSentimentScore_TB  \n",
       "count     2720.000000  2720.0                2720.000000  \n",
       "mean      1477.532353     1.0                   0.085509  \n",
       "std        498.685677     0.0                   0.080119  \n",
       "min        131.000000     1.0                  -0.275000  \n",
       "25%       1154.000000     1.0                   0.033890  \n",
       "50%       1479.000000     1.0                   0.082183  \n",
       "75%       1768.500000     1.0                   0.132380  \n",
       "max       3980.000000     1.0                   0.525000  "
      ]
     },
     "execution_count": 1018,
     "metadata": {},
     "output_type": "execute_result"
    }
   ],
   "source": [
    "LymeDisease.describe()"
   ]
  },
  {
   "cell_type": "code",
   "execution_count": 1019,
   "metadata": {
    "ExecuteTime": {
     "end_time": "2021-10-07T21:36:27.243563Z",
     "start_time": "2021-10-07T21:36:27.211633Z"
    }
   },
   "outputs": [
    {
     "data": {
      "text/html": [
       "<div>\n",
       "<style scoped>\n",
       "    .dataframe tbody tr th:only-of-type {\n",
       "        vertical-align: middle;\n",
       "    }\n",
       "\n",
       "    .dataframe tbody tr th {\n",
       "        vertical-align: top;\n",
       "    }\n",
       "\n",
       "    .dataframe thead th {\n",
       "        text-align: right;\n",
       "    }\n",
       "</style>\n",
       "<table border=\"1\" class=\"dataframe\">\n",
       "  <thead>\n",
       "    <tr style=\"text-align: right;\">\n",
       "      <th></th>\n",
       "      <th>index</th>\n",
       "      <th>publication</th>\n",
       "      <th>title</th>\n",
       "      <th>authors</th>\n",
       "      <th>doi</th>\n",
       "      <th>year</th>\n",
       "      <th>cites</th>\n",
       "      <th>type</th>\n",
       "      <th>abstract</th>\n",
       "      <th>article_url</th>\n",
       "      <th>...</th>\n",
       "      <th>tokenisedAbstractNLTK</th>\n",
       "      <th>abstractNoStopSpacy</th>\n",
       "      <th>abstractNoStopNLTK</th>\n",
       "      <th>abstractLemmaSpacy</th>\n",
       "      <th>abstractLemmaNLTK</th>\n",
       "      <th>abstractLemmaNoStopSpacy</th>\n",
       "      <th>abstractLemmaNoStopNLTK</th>\n",
       "      <th>abstractSentimentScore_TB</th>\n",
       "      <th>abstractSentiment_TB</th>\n",
       "      <th>abstractSentiment_TB_NB</th>\n",
       "    </tr>\n",
       "  </thead>\n",
       "  <tbody>\n",
       "    <tr>\n",
       "      <th>982</th>\n",
       "      <td>1729</td>\n",
       "      <td>Workplace health &amp; safety</td>\n",
       "      <td>Lyme Disease.</td>\n",
       "      <td>[{'name': 'Susan A Randolph', 'affiliation': '...</td>\n",
       "      <td>10.1177/2165079915616398</td>\n",
       "      <td>2016.0</td>\n",
       "      <td>0</td>\n",
       "      <td>Journal Article</td>\n",
       "      <td>Occupational and environmental health nurses s...</td>\n",
       "      <td>NaN</td>\n",
       "      <td>...</td>\n",
       "      <td>[Occupational, and, environmental, health, nur...</td>\n",
       "      <td>Occupational environmental health nurses educa...</td>\n",
       "      <td>Occupational environmental health nurses educa...</td>\n",
       "      <td>occupational and environmental health nurse sh...</td>\n",
       "      <td>Occupational and environmental health nurse sh...</td>\n",
       "      <td>occupational environmental health nurse educat...</td>\n",
       "      <td>Occupational environmental health nurse educat...</td>\n",
       "      <td>0.0</td>\n",
       "      <td>neu</td>\n",
       "      <td>neg</td>\n",
       "    </tr>\n",
       "  </tbody>\n",
       "</table>\n",
       "<p>1 rows × 27 columns</p>\n",
       "</div>"
      ],
      "text/plain": [
       "     index                publication          title  \\\n",
       "982   1729  Workplace health & safety  Lyme Disease.   \n",
       "\n",
       "                                               authors  \\\n",
       "982  [{'name': 'Susan A Randolph', 'affiliation': '...   \n",
       "\n",
       "                          doi    year  cites             type  \\\n",
       "982  10.1177/2165079915616398  2016.0      0  Journal Article   \n",
       "\n",
       "                                              abstract  article_url  ...  \\\n",
       "982  Occupational and environmental health nurses s...          NaN  ...   \n",
       "\n",
       "                                 tokenisedAbstractNLTK  \\\n",
       "982  [Occupational, and, environmental, health, nur...   \n",
       "\n",
       "                                   abstractNoStopSpacy  \\\n",
       "982  Occupational environmental health nurses educa...   \n",
       "\n",
       "                                    abstractNoStopNLTK  \\\n",
       "982  Occupational environmental health nurses educa...   \n",
       "\n",
       "                                    abstractLemmaSpacy  \\\n",
       "982  occupational and environmental health nurse sh...   \n",
       "\n",
       "                                     abstractLemmaNLTK  \\\n",
       "982  Occupational and environmental health nurse sh...   \n",
       "\n",
       "                              abstractLemmaNoStopSpacy  \\\n",
       "982  occupational environmental health nurse educat...   \n",
       "\n",
       "                               abstractLemmaNoStopNLTK  \\\n",
       "982  Occupational environmental health nurse educat...   \n",
       "\n",
       "    abstractSentimentScore_TB abstractSentiment_TB abstractSentiment_TB_NB  \n",
       "982                       0.0                  neu                     neg  \n",
       "\n",
       "[1 rows x 27 columns]"
      ]
     },
     "execution_count": 1019,
     "metadata": {},
     "output_type": "execute_result"
    }
   ],
   "source": [
    "LymeDisease[LymeDisease.abstractLength==131]"
   ]
  },
  {
   "cell_type": "code",
   "execution_count": 1020,
   "metadata": {
    "ExecuteTime": {
     "end_time": "2021-10-07T21:36:28.570670Z",
     "start_time": "2021-10-07T21:36:28.561535Z"
    }
   },
   "outputs": [
    {
     "data": {
      "text/plain": [
       "['Occupational and environmental health nurses should educate workers about ways to prevent tick bites, which can cause Lyme disease.']"
      ]
     },
     "execution_count": 1020,
     "metadata": {},
     "output_type": "execute_result"
    }
   ],
   "source": [
    "list(LymeDisease[LymeDisease.abstractLength==131].abstract)"
   ]
  },
  {
   "cell_type": "code",
   "execution_count": 1021,
   "metadata": {
    "ExecuteTime": {
     "end_time": "2021-10-07T21:36:31.798672Z",
     "start_time": "2021-10-07T21:36:31.790873Z"
    }
   },
   "outputs": [],
   "source": [
    "from nltk import bigrams\n",
    "from nltk import trigrams\n",
    "from nltk.util import ngrams\n",
    "from collections import Counter\n",
    "# from nltk.collocations import *"
   ]
  },
  {
   "cell_type": "code",
   "execution_count": 1022,
   "metadata": {
    "ExecuteTime": {
     "end_time": "2021-10-07T21:36:31.798672Z",
     "start_time": "2021-10-07T21:36:31.790873Z"
    }
   },
   "outputs": [],
   "source": [
    "def documentNgrams(documents, size):\n",
    "    ngrams_all = []\n",
    "    for document in documents:\n",
    "        tokens = document.split()\n",
    "        if len(tokens) <= size:\n",
    "            continue\n",
    "        else:\n",
    "            output = list(ngrams(tokens, size))\n",
    "        for ngram in output:\n",
    "            ngrams_all.append(\" \".join(ngram))\n",
    "    cnt_ngram = Counter()\n",
    "    for word in ngrams_all:\n",
    "        cnt_ngram[word] += 1\n",
    "    df = pd.DataFrame.from_dict(cnt_ngram, orient='index').reset_index()\n",
    "    df = df.rename(columns={'index':'words', 0:'count'})\n",
    "    df = df.sort_values(by='count', ascending=False)\n",
    "    df = df.reset_index(drop=True)\n",
    "    df = df.head(15)\n",
    "    #df = df.sort_values(by='count')\n",
    "    return(df)"
   ]
  },
  {
   "cell_type": "markdown",
   "metadata": {},
   "source": [
    "Running ngrams helped find some combinations of the most common species terms which had been missed first time around and will need to be added to the text cleaning process or the species normalisation process.\n",
    "* Borrelia burgdorferi sensu lato\n",
    "* Borrelia burgdorferi sensu stricto\n",
    "* b burgdorferi\n",
    "* b burgdorferi\n",
    "* b burgdorferi sensu stricto\n",
    "* BorreliaBurgdorferi sl\n",
    "* BorreliaBurgdorferi sensu lato\n",
    "* b burgdorferi sensu stricto\n",
    "* Ixodes ricinus"
   ]
  },
  {
   "cell_type": "code",
   "execution_count": 1023,
   "metadata": {
    "ExecuteTime": {
     "end_time": "2021-10-07T21:36:51.032223Z",
     "start_time": "2021-10-07T21:36:50.421471Z"
    }
   },
   "outputs": [
    {
     "data": {
      "text/html": [
       "<div>\n",
       "<style scoped>\n",
       "    .dataframe tbody tr th:only-of-type {\n",
       "        vertical-align: middle;\n",
       "    }\n",
       "\n",
       "    .dataframe tbody tr th {\n",
       "        vertical-align: top;\n",
       "    }\n",
       "\n",
       "    .dataframe thead th {\n",
       "        text-align: right;\n",
       "    }\n",
       "</style>\n",
       "<table border=\"1\" class=\"dataframe\">\n",
       "  <thead>\n",
       "    <tr style=\"text-align: right;\">\n",
       "      <th></th>\n",
       "      <th>words</th>\n",
       "      <th>count</th>\n",
       "    </tr>\n",
       "  </thead>\n",
       "  <tbody>\n",
       "    <tr>\n",
       "      <th>0</th>\n",
       "      <td>Lyme disease</td>\n",
       "      <td>3833</td>\n",
       "    </tr>\n",
       "    <tr>\n",
       "      <th>1</th>\n",
       "      <td>tick borne</td>\n",
       "      <td>1053</td>\n",
       "    </tr>\n",
       "    <tr>\n",
       "      <th>2</th>\n",
       "      <td>Lyme borreliosis</td>\n",
       "      <td>766</td>\n",
       "    </tr>\n",
       "    <tr>\n",
       "      <th>3</th>\n",
       "      <td>borne disease</td>\n",
       "      <td>634</td>\n",
       "    </tr>\n",
       "    <tr>\n",
       "      <th>4</th>\n",
       "      <td>tick bite</td>\n",
       "      <td>514</td>\n",
       "    </tr>\n",
       "    <tr>\n",
       "      <th>5</th>\n",
       "      <td>United States</td>\n",
       "      <td>454</td>\n",
       "    </tr>\n",
       "    <tr>\n",
       "      <th>6</th>\n",
       "      <td>vector borne</td>\n",
       "      <td>326</td>\n",
       "    </tr>\n",
       "    <tr>\n",
       "      <th>7</th>\n",
       "      <td>borne pathogen</td>\n",
       "      <td>324</td>\n",
       "    </tr>\n",
       "    <tr>\n",
       "      <th>8</th>\n",
       "      <td>agent Lyme</td>\n",
       "      <td>323</td>\n",
       "    </tr>\n",
       "    <tr>\n",
       "      <th>9</th>\n",
       "      <td>erythema migrans</td>\n",
       "      <td>308</td>\n",
       "    </tr>\n",
       "    <tr>\n",
       "      <th>10</th>\n",
       "      <td>public health</td>\n",
       "      <td>286</td>\n",
       "    </tr>\n",
       "    <tr>\n",
       "      <th>11</th>\n",
       "      <td>tick vector</td>\n",
       "      <td>257</td>\n",
       "    </tr>\n",
       "    <tr>\n",
       "      <th>12</th>\n",
       "      <td>North America</td>\n",
       "      <td>249</td>\n",
       "    </tr>\n",
       "    <tr>\n",
       "      <th>13</th>\n",
       "      <td>Lyme arthritis</td>\n",
       "      <td>246</td>\n",
       "    </tr>\n",
       "    <tr>\n",
       "      <th>14</th>\n",
       "      <td>causative agent</td>\n",
       "      <td>242</td>\n",
       "    </tr>\n",
       "  </tbody>\n",
       "</table>\n",
       "</div>"
      ],
      "text/plain": [
       "               words  count\n",
       "0       Lyme disease   3833\n",
       "1         tick borne   1053\n",
       "2   Lyme borreliosis    766\n",
       "3      borne disease    634\n",
       "4          tick bite    514\n",
       "5      United States    454\n",
       "6       vector borne    326\n",
       "7     borne pathogen    324\n",
       "8         agent Lyme    323\n",
       "9   erythema migrans    308\n",
       "10     public health    286\n",
       "11       tick vector    257\n",
       "12     North America    249\n",
       "13    Lyme arthritis    246\n",
       "14   causative agent    242"
      ]
     },
     "execution_count": 1023,
     "metadata": {},
     "output_type": "execute_result"
    }
   ],
   "source": [
    "documentNgrams(LymeDisease.abstractLemmaNoStopNLTK, 2)"
   ]
  },
  {
   "cell_type": "code",
   "execution_count": 1024,
   "metadata": {
    "ExecuteTime": {
     "end_time": "2021-10-07T21:37:17.088251Z",
     "start_time": "2021-10-07T21:37:16.543341Z"
    }
   },
   "outputs": [
    {
     "data": {
      "text/html": [
       "<div>\n",
       "<style scoped>\n",
       "    .dataframe tbody tr th:only-of-type {\n",
       "        vertical-align: middle;\n",
       "    }\n",
       "\n",
       "    .dataframe tbody tr th {\n",
       "        vertical-align: top;\n",
       "    }\n",
       "\n",
       "    .dataframe thead th {\n",
       "        text-align: right;\n",
       "    }\n",
       "</style>\n",
       "<table border=\"1\" class=\"dataframe\">\n",
       "  <thead>\n",
       "    <tr style=\"text-align: right;\">\n",
       "      <th></th>\n",
       "      <th>words</th>\n",
       "      <th>count</th>\n",
       "    </tr>\n",
       "  </thead>\n",
       "  <tbody>\n",
       "    <tr>\n",
       "      <th>0</th>\n",
       "      <td>Lyme disease</td>\n",
       "      <td>3831</td>\n",
       "    </tr>\n",
       "    <tr>\n",
       "      <th>1</th>\n",
       "      <td>Lyme borreliosis</td>\n",
       "      <td>706</td>\n",
       "    </tr>\n",
       "    <tr>\n",
       "      <th>2</th>\n",
       "      <td>tick borne</td>\n",
       "      <td>590</td>\n",
       "    </tr>\n",
       "    <tr>\n",
       "      <th>3</th>\n",
       "      <td>borne disease</td>\n",
       "      <td>544</td>\n",
       "    </tr>\n",
       "    <tr>\n",
       "      <th>4</th>\n",
       "      <td>tick bite</td>\n",
       "      <td>528</td>\n",
       "    </tr>\n",
       "    <tr>\n",
       "      <th>5</th>\n",
       "      <td>tick bear</td>\n",
       "      <td>466</td>\n",
       "    </tr>\n",
       "    <tr>\n",
       "      <th>6</th>\n",
       "      <td>United States</td>\n",
       "      <td>454</td>\n",
       "    </tr>\n",
       "    <tr>\n",
       "      <th>7</th>\n",
       "      <td>agent Lyme</td>\n",
       "      <td>323</td>\n",
       "    </tr>\n",
       "    <tr>\n",
       "      <th>8</th>\n",
       "      <td>erythema migran</td>\n",
       "      <td>311</td>\n",
       "    </tr>\n",
       "    <tr>\n",
       "      <th>9</th>\n",
       "      <td>public health</td>\n",
       "      <td>298</td>\n",
       "    </tr>\n",
       "    <tr>\n",
       "      <th>10</th>\n",
       "      <td>vector borne</td>\n",
       "      <td>270</td>\n",
       "    </tr>\n",
       "    <tr>\n",
       "      <th>11</th>\n",
       "      <td>tick vector</td>\n",
       "      <td>262</td>\n",
       "    </tr>\n",
       "    <tr>\n",
       "      <th>12</th>\n",
       "      <td>North America</td>\n",
       "      <td>249</td>\n",
       "    </tr>\n",
       "    <tr>\n",
       "      <th>13</th>\n",
       "      <td>Lyme arthritis</td>\n",
       "      <td>246</td>\n",
       "    </tr>\n",
       "    <tr>\n",
       "      <th>14</th>\n",
       "      <td>causative agent</td>\n",
       "      <td>242</td>\n",
       "    </tr>\n",
       "  </tbody>\n",
       "</table>\n",
       "</div>"
      ],
      "text/plain": [
       "               words  count\n",
       "0       Lyme disease   3831\n",
       "1   Lyme borreliosis    706\n",
       "2         tick borne    590\n",
       "3      borne disease    544\n",
       "4          tick bite    528\n",
       "5          tick bear    466\n",
       "6      United States    454\n",
       "7         agent Lyme    323\n",
       "8    erythema migran    311\n",
       "9      public health    298\n",
       "10      vector borne    270\n",
       "11       tick vector    262\n",
       "12     North America    249\n",
       "13    Lyme arthritis    246\n",
       "14   causative agent    242"
      ]
     },
     "execution_count": 1024,
     "metadata": {},
     "output_type": "execute_result"
    }
   ],
   "source": [
    "documentNgrams(LymeDisease.abstractLemmaNoStopSpacy, 2)"
   ]
  },
  {
   "cell_type": "code",
   "execution_count": 1025,
   "metadata": {
    "ExecuteTime": {
     "end_time": "2021-10-07T21:37:27.295438Z",
     "start_time": "2021-10-07T21:37:26.679918Z"
    }
   },
   "outputs": [
    {
     "data": {
      "text/html": [
       "<div>\n",
       "<style scoped>\n",
       "    .dataframe tbody tr th:only-of-type {\n",
       "        vertical-align: middle;\n",
       "    }\n",
       "\n",
       "    .dataframe tbody tr th {\n",
       "        vertical-align: top;\n",
       "    }\n",
       "\n",
       "    .dataframe thead th {\n",
       "        text-align: right;\n",
       "    }\n",
       "</style>\n",
       "<table border=\"1\" class=\"dataframe\">\n",
       "  <thead>\n",
       "    <tr style=\"text-align: right;\">\n",
       "      <th></th>\n",
       "      <th>words</th>\n",
       "      <th>count</th>\n",
       "    </tr>\n",
       "  </thead>\n",
       "  <tbody>\n",
       "    <tr>\n",
       "      <th>0</th>\n",
       "      <td>tick borne disease</td>\n",
       "      <td>317</td>\n",
       "    </tr>\n",
       "    <tr>\n",
       "      <th>1</th>\n",
       "      <td>agent Lyme disease</td>\n",
       "      <td>264</td>\n",
       "    </tr>\n",
       "    <tr>\n",
       "      <th>2</th>\n",
       "      <td>causative agent Lyme</td>\n",
       "      <td>192</td>\n",
       "    </tr>\n",
       "    <tr>\n",
       "      <th>3</th>\n",
       "      <td>vector borne disease</td>\n",
       "      <td>185</td>\n",
       "    </tr>\n",
       "    <tr>\n",
       "      <th>4</th>\n",
       "      <td>Lyme disease sprochete</td>\n",
       "      <td>169</td>\n",
       "    </tr>\n",
       "    <tr>\n",
       "      <th>5</th>\n",
       "      <td>Lyme disease LD</td>\n",
       "      <td>160</td>\n",
       "    </tr>\n",
       "    <tr>\n",
       "      <th>6</th>\n",
       "      <td>tick bear pathogen</td>\n",
       "      <td>155</td>\n",
       "    </tr>\n",
       "    <tr>\n",
       "      <th>7</th>\n",
       "      <td>Lyme disease patient</td>\n",
       "      <td>136</td>\n",
       "    </tr>\n",
       "    <tr>\n",
       "      <th>8</th>\n",
       "      <td>treatment Lyme disease</td>\n",
       "      <td>121</td>\n",
       "    </tr>\n",
       "    <tr>\n",
       "      <th>9</th>\n",
       "      <td>outer surface protein</td>\n",
       "      <td>118</td>\n",
       "    </tr>\n",
       "    <tr>\n",
       "      <th>10</th>\n",
       "      <td>Lyme borreliosis LB</td>\n",
       "      <td>114</td>\n",
       "    </tr>\n",
       "    <tr>\n",
       "      <th>11</th>\n",
       "      <td>BorreliaBurgdorferi causative agent</td>\n",
       "      <td>113</td>\n",
       "    </tr>\n",
       "    <tr>\n",
       "      <th>12</th>\n",
       "      <td>cause Lyme disease</td>\n",
       "      <td>107</td>\n",
       "    </tr>\n",
       "    <tr>\n",
       "      <th>13</th>\n",
       "      <td>early Lyme disease</td>\n",
       "      <td>102</td>\n",
       "    </tr>\n",
       "    <tr>\n",
       "      <th>14</th>\n",
       "      <td>tick borne pathogen</td>\n",
       "      <td>91</td>\n",
       "    </tr>\n",
       "  </tbody>\n",
       "</table>\n",
       "</div>"
      ],
      "text/plain": [
       "                                  words  count\n",
       "0                    tick borne disease    317\n",
       "1                    agent Lyme disease    264\n",
       "2                  causative agent Lyme    192\n",
       "3                  vector borne disease    185\n",
       "4                Lyme disease sprochete    169\n",
       "5                       Lyme disease LD    160\n",
       "6                    tick bear pathogen    155\n",
       "7                  Lyme disease patient    136\n",
       "8                treatment Lyme disease    121\n",
       "9                 outer surface protein    118\n",
       "10                  Lyme borreliosis LB    114\n",
       "11  BorreliaBurgdorferi causative agent    113\n",
       "12                   cause Lyme disease    107\n",
       "13                   early Lyme disease    102\n",
       "14                  tick borne pathogen     91"
      ]
     },
     "execution_count": 1025,
     "metadata": {},
     "output_type": "execute_result"
    }
   ],
   "source": [
    "documentNgrams(LymeDisease.abstractLemmaNoStopSpacy, 3)"
   ]
  },
  {
   "cell_type": "code",
   "execution_count": 1026,
   "metadata": {
    "ExecuteTime": {
     "end_time": "2021-10-07T21:37:34.528255Z",
     "start_time": "2021-10-07T21:37:33.972830Z"
    }
   },
   "outputs": [
    {
     "data": {
      "text/html": [
       "<div>\n",
       "<style scoped>\n",
       "    .dataframe tbody tr th:only-of-type {\n",
       "        vertical-align: middle;\n",
       "    }\n",
       "\n",
       "    .dataframe tbody tr th {\n",
       "        vertical-align: top;\n",
       "    }\n",
       "\n",
       "    .dataframe thead th {\n",
       "        text-align: right;\n",
       "    }\n",
       "</style>\n",
       "<table border=\"1\" class=\"dataframe\">\n",
       "  <thead>\n",
       "    <tr style=\"text-align: right;\">\n",
       "      <th></th>\n",
       "      <th>words</th>\n",
       "      <th>count</th>\n",
       "    </tr>\n",
       "  </thead>\n",
       "  <tbody>\n",
       "    <tr>\n",
       "      <th>0</th>\n",
       "      <td>causative agent Lyme disease</td>\n",
       "      <td>159</td>\n",
       "    </tr>\n",
       "    <tr>\n",
       "      <th>1</th>\n",
       "      <td>BorreliaBurgdorferi causative agent Lyme</td>\n",
       "      <td>107</td>\n",
       "    </tr>\n",
       "    <tr>\n",
       "      <th>2</th>\n",
       "      <td>Lyme disease sprochete BorreliaBurgdorferi</td>\n",
       "      <td>67</td>\n",
       "    </tr>\n",
       "    <tr>\n",
       "      <th>3</th>\n",
       "      <td>enzyme link immunosorbent assay</td>\n",
       "      <td>57</td>\n",
       "    </tr>\n",
       "    <tr>\n",
       "      <th>4</th>\n",
       "      <td>common vector borne disease</td>\n",
       "      <td>51</td>\n",
       "    </tr>\n",
       "    <tr>\n",
       "      <th>5</th>\n",
       "      <td>post treatment Lyme disease</td>\n",
       "      <td>50</td>\n",
       "    </tr>\n",
       "    <tr>\n",
       "      <th>6</th>\n",
       "      <td>borne disease United States</td>\n",
       "      <td>43</td>\n",
       "    </tr>\n",
       "    <tr>\n",
       "      <th>7</th>\n",
       "      <td>Centers Disease Control Prevention</td>\n",
       "      <td>42</td>\n",
       "    </tr>\n",
       "    <tr>\n",
       "      <th>8</th>\n",
       "      <td>treatment Lyme disease syndrome</td>\n",
       "      <td>41</td>\n",
       "    </tr>\n",
       "    <tr>\n",
       "      <th>9</th>\n",
       "      <td>Lyme disease tick bear</td>\n",
       "      <td>39</td>\n",
       "    </tr>\n",
       "    <tr>\n",
       "      <th>10</th>\n",
       "      <td>polymerase chain reaction PCR</td>\n",
       "      <td>38</td>\n",
       "    </tr>\n",
       "    <tr>\n",
       "      <th>11</th>\n",
       "      <td>outer surface protein C</td>\n",
       "      <td>35</td>\n",
       "    </tr>\n",
       "    <tr>\n",
       "      <th>12</th>\n",
       "      <td>Lyme disease common vector</td>\n",
       "      <td>34</td>\n",
       "    </tr>\n",
       "    <tr>\n",
       "      <th>13</th>\n",
       "      <td>outer surface protein Osp</td>\n",
       "      <td>33</td>\n",
       "    </tr>\n",
       "    <tr>\n",
       "      <th>14</th>\n",
       "      <td>disease common vector borne</td>\n",
       "      <td>33</td>\n",
       "    </tr>\n",
       "  </tbody>\n",
       "</table>\n",
       "</div>"
      ],
      "text/plain": [
       "                                         words  count\n",
       "0                 causative agent Lyme disease    159\n",
       "1     BorreliaBurgdorferi causative agent Lyme    107\n",
       "2   Lyme disease sprochete BorreliaBurgdorferi     67\n",
       "3              enzyme link immunosorbent assay     57\n",
       "4                  common vector borne disease     51\n",
       "5                  post treatment Lyme disease     50\n",
       "6                  borne disease United States     43\n",
       "7           Centers Disease Control Prevention     42\n",
       "8              treatment Lyme disease syndrome     41\n",
       "9                       Lyme disease tick bear     39\n",
       "10               polymerase chain reaction PCR     38\n",
       "11                     outer surface protein C     35\n",
       "12                  Lyme disease common vector     34\n",
       "13                   outer surface protein Osp     33\n",
       "14                 disease common vector borne     33"
      ]
     },
     "execution_count": 1026,
     "metadata": {},
     "output_type": "execute_result"
    }
   ],
   "source": [
    "documentNgrams(LymeDisease.abstractLemmaNoStopSpacy, 4)"
   ]
  },
  {
   "cell_type": "code",
   "execution_count": 1027,
   "metadata": {
    "ExecuteTime": {
     "end_time": "2021-10-07T21:37:41.786212Z",
     "start_time": "2021-10-07T21:37:41.137381Z"
    }
   },
   "outputs": [
    {
     "data": {
      "text/html": [
       "<div>\n",
       "<style scoped>\n",
       "    .dataframe tbody tr th:only-of-type {\n",
       "        vertical-align: middle;\n",
       "    }\n",
       "\n",
       "    .dataframe tbody tr th {\n",
       "        vertical-align: top;\n",
       "    }\n",
       "\n",
       "    .dataframe thead th {\n",
       "        text-align: right;\n",
       "    }\n",
       "</style>\n",
       "<table border=\"1\" class=\"dataframe\">\n",
       "  <thead>\n",
       "    <tr style=\"text-align: right;\">\n",
       "      <th></th>\n",
       "      <th>words</th>\n",
       "      <th>count</th>\n",
       "    </tr>\n",
       "  </thead>\n",
       "  <tbody>\n",
       "    <tr>\n",
       "      <th>0</th>\n",
       "      <td>BorreliaBurgdorferi causative agent Lyme disease</td>\n",
       "      <td>98</td>\n",
       "    </tr>\n",
       "    <tr>\n",
       "      <th>1</th>\n",
       "      <td>post treatment Lyme disease syndrome</td>\n",
       "      <td>40</td>\n",
       "    </tr>\n",
       "    <tr>\n",
       "      <th>2</th>\n",
       "      <td>Lyme disease common vector borne</td>\n",
       "      <td>33</td>\n",
       "    </tr>\n",
       "    <tr>\n",
       "      <th>3</th>\n",
       "      <td>vector borne disease United States</td>\n",
       "      <td>31</td>\n",
       "    </tr>\n",
       "    <tr>\n",
       "      <th>4</th>\n",
       "      <td>enzyme link immunosorbent assay ELISA</td>\n",
       "      <td>30</td>\n",
       "    </tr>\n",
       "    <tr>\n",
       "      <th>5</th>\n",
       "      <td>disease common vector borne disease</td>\n",
       "      <td>23</td>\n",
       "    </tr>\n",
       "    <tr>\n",
       "      <th>6</th>\n",
       "      <td>outer surface protein C Osp</td>\n",
       "      <td>22</td>\n",
       "    </tr>\n",
       "    <tr>\n",
       "      <th>7</th>\n",
       "      <td>common vector borne disease United</td>\n",
       "      <td>20</td>\n",
       "    </tr>\n",
       "    <tr>\n",
       "      <th>8</th>\n",
       "      <td>white footed mouse Peromyscus leucopus</td>\n",
       "      <td>15</td>\n",
       "    </tr>\n",
       "    <tr>\n",
       "      <th>9</th>\n",
       "      <td>vector borne disease northern hemispere</td>\n",
       "      <td>13</td>\n",
       "    </tr>\n",
       "    <tr>\n",
       "      <th>10</th>\n",
       "      <td>Centers Disease Control Prevention CDC</td>\n",
       "      <td>12</td>\n",
       "    </tr>\n",
       "    <tr>\n",
       "      <th>11</th>\n",
       "      <td>white tail deer Odocoileus virginianus</td>\n",
       "      <td>12</td>\n",
       "    </tr>\n",
       "    <tr>\n",
       "      <th>12</th>\n",
       "      <td>disease common tick borne disease</td>\n",
       "      <td>11</td>\n",
       "    </tr>\n",
       "    <tr>\n",
       "      <th>13</th>\n",
       "      <td>vector borne disease North America</td>\n",
       "      <td>11</td>\n",
       "    </tr>\n",
       "    <tr>\n",
       "      <th>14</th>\n",
       "      <td>agent Lyme disease North America</td>\n",
       "      <td>11</td>\n",
       "    </tr>\n",
       "  </tbody>\n",
       "</table>\n",
       "</div>"
      ],
      "text/plain": [
       "                                               words  count\n",
       "0   BorreliaBurgdorferi causative agent Lyme disease     98\n",
       "1               post treatment Lyme disease syndrome     40\n",
       "2                   Lyme disease common vector borne     33\n",
       "3                 vector borne disease United States     31\n",
       "4              enzyme link immunosorbent assay ELISA     30\n",
       "5                disease common vector borne disease     23\n",
       "6                        outer surface protein C Osp     22\n",
       "7                 common vector borne disease United     20\n",
       "8             white footed mouse Peromyscus leucopus     15\n",
       "9            vector borne disease northern hemispere     13\n",
       "10            Centers Disease Control Prevention CDC     12\n",
       "11            white tail deer Odocoileus virginianus     12\n",
       "12                 disease common tick borne disease     11\n",
       "13                vector borne disease North America     11\n",
       "14                  agent Lyme disease North America     11"
      ]
     },
     "execution_count": 1027,
     "metadata": {},
     "output_type": "execute_result"
    }
   ],
   "source": [
    "documentNgrams(LymeDisease.abstractLemmaNoStopSpacy, 5)"
   ]
  },
  {
   "cell_type": "markdown",
   "metadata": {},
   "source": [
    "### Abstract Length"
   ]
  },
  {
   "cell_type": "code",
   "execution_count": 748,
   "metadata": {
    "ExecuteTime": {
     "end_time": "2021-10-03T10:10:18.309884Z",
     "start_time": "2021-10-03T10:10:18.038230Z"
    }
   },
   "outputs": [
    {
     "data": {
      "image/png": "[encoded data removed]",
      "text/plain": [
       "<Figure size 1080x720 with 1 Axes>"
      ]
     },
     "metadata": {
      "needs_background": "light"
     },
     "output_type": "display_data"
    }
   ],
   "source": [
    "LymeDisease.abstractLength.hist()\n",
    "plt.xlabel('Abstract Length')\n",
    "plt.xlabel('Count')\n",
    "plt.title('Length of Abstracts in PubMed Results');"
   ]
  },
  {
   "cell_type": "code",
   "execution_count": 749,
   "metadata": {
    "ExecuteTime": {
     "end_time": "2021-10-03T10:10:21.868758Z",
     "start_time": "2021-10-03T10:10:21.818227Z"
    }
   },
   "outputs": [
    {
     "name": "stderr",
     "output_type": "stream",
     "text": [
      "/Users/myfriendscallmej/anaconda3/lib/python3.7/site-packages/pandas/core/strings/accessor.py:101: UserWarning: This pattern has match groups. To actually get the groups, use str.extract.\n",
      "  return func(self, *args, **kwargs)\n"
     ]
    },
    {
     "data": {
      "text/plain": [
       "1407"
      ]
     },
     "execution_count": 749,
     "metadata": {},
     "output_type": "execute_result"
    }
   ],
   "source": [
    "len(LymeDisease[LymeDisease.abstract.str.contains('© | (C)')])"
   ]
  },
  {
   "cell_type": "code",
   "execution_count": 750,
   "metadata": {
    "ExecuteTime": {
     "end_time": "2021-10-03T10:10:33.577923Z",
     "start_time": "2021-10-03T10:10:33.541463Z"
    }
   },
   "outputs": [
    {
     "data": {
      "text/html": [
       "<div>\n",
       "<style scoped>\n",
       "    .dataframe tbody tr th:only-of-type {\n",
       "        vertical-align: middle;\n",
       "    }\n",
       "\n",
       "    .dataframe tbody tr th {\n",
       "        vertical-align: top;\n",
       "    }\n",
       "\n",
       "    .dataframe thead th {\n",
       "        text-align: right;\n",
       "    }\n",
       "</style>\n",
       "<table border=\"1\" class=\"dataframe\">\n",
       "  <thead>\n",
       "    <tr style=\"text-align: right;\">\n",
       "      <th></th>\n",
       "      <th>index</th>\n",
       "      <th>publication</th>\n",
       "      <th>title</th>\n",
       "      <th>authors</th>\n",
       "      <th>doi</th>\n",
       "      <th>year</th>\n",
       "      <th>cites</th>\n",
       "      <th>type</th>\n",
       "      <th>abstract</th>\n",
       "      <th>article_url</th>\n",
       "      <th>...</th>\n",
       "      <th>clean_abstract</th>\n",
       "      <th>cleaner_abstract</th>\n",
       "      <th>tokenisedAbstractSpacy</th>\n",
       "      <th>tokenisedAbstractNLTK</th>\n",
       "      <th>abstractNoStopSpacy</th>\n",
       "      <th>abstractNoStopNLTK</th>\n",
       "      <th>abstractLemmaSpacy</th>\n",
       "      <th>abstractLemmaNLTK</th>\n",
       "      <th>abstractLemmaNoStopSpacy</th>\n",
       "      <th>abstractLemmaNoStopNLTK</th>\n",
       "    </tr>\n",
       "  </thead>\n",
       "  <tbody>\n",
       "    <tr>\n",
       "      <th>1368</th>\n",
       "      <td>2342</td>\n",
       "      <td>Radiographics</td>\n",
       "      <td>White Matter Diseases with Radiologic-Patholog...</td>\n",
       "      <td>[{'name': 'Nicolae Sarbu', 'affiliation': 'Fro...</td>\n",
       "      <td>10.1148/rg.2016160031</td>\n",
       "      <td>2016.0</td>\n",
       "      <td>0</td>\n",
       "      <td>Journal Article</td>\n",
       "      <td>White matter diseases include a wide spectrum ...</td>\n",
       "      <td>NaN</td>\n",
       "      <td>...</td>\n",
       "      <td>White matter diseases include a wide spctrum o...</td>\n",
       "      <td>White matter diseases include a wide spctrum o...</td>\n",
       "      <td>(White, matter, diseases, include, a, wide, sp...</td>\n",
       "      <td>[White, matter, diseases, include, a, wide, sp...</td>\n",
       "      <td>White matter diseases include wide spctrum dis...</td>\n",
       "      <td>White matter diseases include wide spctrum dis...</td>\n",
       "      <td>white matter disease include a wide spctrum of...</td>\n",
       "      <td>Ticks Acari Ixodida are vector andor reservoir...</td>\n",
       "      <td>white matter disease include wide spctrum diso...</td>\n",
       "      <td>White matter disease include wide spctrum diso...</td>\n",
       "    </tr>\n",
       "    <tr>\n",
       "      <th>2071</th>\n",
       "      <td>3527</td>\n",
       "      <td>Radiographics</td>\n",
       "      <td>Neuroimaging of Emergent and Reemergent Infect...</td>\n",
       "      <td>[{'name': 'Rafael Lourenço do Carmo', 'affilia...</td>\n",
       "      <td>10.1148/rg.2019190020</td>\n",
       "      <td>2019.0</td>\n",
       "      <td>0</td>\n",
       "      <td>Journal Article</td>\n",
       "      <td>Infectious diseases emerge and reemerge over t...</td>\n",
       "      <td>NaN</td>\n",
       "      <td>...</td>\n",
       "      <td>Infectious diseases emerge and reemerge over t...</td>\n",
       "      <td>Infectious diseases emerge and reemerge over t...</td>\n",
       "      <td>(Infectious, diseases, emerge, and, reemerge, ...</td>\n",
       "      <td>[Infectious, diseases, emerge, and, reemerge, ...</td>\n",
       "      <td>Infectious diseases emerge reemerge years caus...</td>\n",
       "      <td>Infectious diseases emerge reemerge years many...</td>\n",
       "      <td>infectious disease emerge and reemerge over th...</td>\n",
       "      <td>Ticks Acari Ixodida are vector andor reservoir...</td>\n",
       "      <td>infectious disease emerge reemerge year cause ...</td>\n",
       "      <td>Infectious disease emerge reemerge year many c...</td>\n",
       "    </tr>\n",
       "    <tr>\n",
       "      <th>2652</th>\n",
       "      <td>4350</td>\n",
       "      <td>Current protocols</td>\n",
       "      <td>Transformation of Borrelia burgdorferi.</td>\n",
       "      <td>[{'name': 'J Seshu', 'affiliation': 'Departmen...</td>\n",
       "      <td>10.1002/cpz1.61</td>\n",
       "      <td>2021.0</td>\n",
       "      <td>0</td>\n",
       "      <td>Journal Article</td>\n",
       "      <td>Transformation techniques used to genetically ...</td>\n",
       "      <td>NaN</td>\n",
       "      <td>...</td>\n",
       "      <td>Transformation techniques used to genetically ...</td>\n",
       "      <td>Transformation techniques used to genetically ...</td>\n",
       "      <td>(Transformation, techniques, used, to, genetic...</td>\n",
       "      <td>[Transformation, techniques, used, to, genetic...</td>\n",
       "      <td>Transformation techniques genetically manipula...</td>\n",
       "      <td>Transformation techniques used genetically man...</td>\n",
       "      <td>transformation technique use to genetically ma...</td>\n",
       "      <td>Ticks Acari Ixodida are vector andor reservoir...</td>\n",
       "      <td>transformation technique genetically manipulat...</td>\n",
       "      <td>Transformation technique used genetically mani...</td>\n",
       "    </tr>\n",
       "  </tbody>\n",
       "</table>\n",
       "<p>3 rows × 24 columns</p>\n",
       "</div>"
      ],
      "text/plain": [
       "      index        publication  \\\n",
       "1368   2342      Radiographics   \n",
       "2071   3527      Radiographics   \n",
       "2652   4350  Current protocols   \n",
       "\n",
       "                                                  title  \\\n",
       "1368  White Matter Diseases with Radiologic-Patholog...   \n",
       "2071  Neuroimaging of Emergent and Reemergent Infect...   \n",
       "2652            Transformation of Borrelia burgdorferi.   \n",
       "\n",
       "                                                authors  \\\n",
       "1368  [{'name': 'Nicolae Sarbu', 'affiliation': 'Fro...   \n",
       "2071  [{'name': 'Rafael Lourenço do Carmo', 'affilia...   \n",
       "2652  [{'name': 'J Seshu', 'affiliation': 'Departmen...   \n",
       "\n",
       "                        doi    year  cites             type  \\\n",
       "1368  10.1148/rg.2016160031  2016.0      0  Journal Article   \n",
       "2071  10.1148/rg.2019190020  2019.0      0  Journal Article   \n",
       "2652        10.1002/cpz1.61  2021.0      0  Journal Article   \n",
       "\n",
       "                                               abstract  article_url  ...  \\\n",
       "1368  White matter diseases include a wide spectrum ...          NaN  ...   \n",
       "2071  Infectious diseases emerge and reemerge over t...          NaN  ...   \n",
       "2652  Transformation techniques used to genetically ...          NaN  ...   \n",
       "\n",
       "                                         clean_abstract  \\\n",
       "1368  White matter diseases include a wide spctrum o...   \n",
       "2071  Infectious diseases emerge and reemerge over t...   \n",
       "2652  Transformation techniques used to genetically ...   \n",
       "\n",
       "                                       cleaner_abstract  \\\n",
       "1368  White matter diseases include a wide spctrum o...   \n",
       "2071  Infectious diseases emerge and reemerge over t...   \n",
       "2652  Transformation techniques used to genetically ...   \n",
       "\n",
       "                                 tokenisedAbstractSpacy  \\\n",
       "1368  (White, matter, diseases, include, a, wide, sp...   \n",
       "2071  (Infectious, diseases, emerge, and, reemerge, ...   \n",
       "2652  (Transformation, techniques, used, to, genetic...   \n",
       "\n",
       "                                  tokenisedAbstractNLTK  \\\n",
       "1368  [White, matter, diseases, include, a, wide, sp...   \n",
       "2071  [Infectious, diseases, emerge, and, reemerge, ...   \n",
       "2652  [Transformation, techniques, used, to, genetic...   \n",
       "\n",
       "                                    abstractNoStopSpacy  \\\n",
       "1368  White matter diseases include wide spctrum dis...   \n",
       "2071  Infectious diseases emerge reemerge years caus...   \n",
       "2652  Transformation techniques genetically manipula...   \n",
       "\n",
       "                                     abstractNoStopNLTK  \\\n",
       "1368  White matter diseases include wide spctrum dis...   \n",
       "2071  Infectious diseases emerge reemerge years many...   \n",
       "2652  Transformation techniques used genetically man...   \n",
       "\n",
       "                                     abstractLemmaSpacy  \\\n",
       "1368  white matter disease include a wide spctrum of...   \n",
       "2071  infectious disease emerge and reemerge over th...   \n",
       "2652  transformation technique use to genetically ma...   \n",
       "\n",
       "                                      abstractLemmaNLTK  \\\n",
       "1368  Ticks Acari Ixodida are vector andor reservoir...   \n",
       "2071  Ticks Acari Ixodida are vector andor reservoir...   \n",
       "2652  Ticks Acari Ixodida are vector andor reservoir...   \n",
       "\n",
       "                               abstractLemmaNoStopSpacy  \\\n",
       "1368  white matter disease include wide spctrum diso...   \n",
       "2071  infectious disease emerge reemerge year cause ...   \n",
       "2652  transformation technique genetically manipulat...   \n",
       "\n",
       "                                abstractLemmaNoStopNLTK  \n",
       "1368  White matter disease include wide spctrum diso...  \n",
       "2071  Infectious disease emerge reemerge year many c...  \n",
       "2652  Transformation technique used genetically mani...  \n",
       "\n",
       "[3 rows x 24 columns]"
      ]
     },
     "execution_count": 750,
     "metadata": {},
     "output_type": "execute_result"
    }
   ],
   "source": [
    "LymeDisease[LymeDisease.abstract.str.contains('©')]"
   ]
  },
  {
   "cell_type": "markdown",
   "metadata": {},
   "source": [
    "### Abstract Sentiment Score"
   ]
  },
  {
   "cell_type": "code",
   "execution_count": 112,
   "metadata": {
    "ExecuteTime": {
     "end_time": "2021-09-17T23:39:34.514604Z",
     "start_time": "2021-09-17T23:39:34.181220Z"
    }
   },
   "outputs": [
    {
     "data": {
      "text/plain": [
       "<matplotlib.axes._subplots.AxesSubplot at 0x7fdb0ec17a58>"
      ]
     },
     "execution_count": 112,
     "metadata": {},
     "output_type": "execute_result"
    },
    {
     "data": {
      "image/png": "[encoded data removed]",
      "text/plain": [
       "<Figure size 1080x720 with 1 Axes>"
      ]
     },
     "metadata": {
      "needs_background": "light"
     },
     "output_type": "display_data"
    }
   ],
   "source": [
    "LymeDisease.abstractSentimentScore_TB.hist()"
   ]
  },
  {
   "cell_type": "code",
   "execution_count": 129,
   "metadata": {
    "ExecuteTime": {
     "end_time": "2021-09-17T23:52:44.536507Z",
     "start_time": "2021-09-17T23:52:44.531385Z"
    }
   },
   "outputs": [],
   "source": [
    "flairCounts = LymeDisease.abstractSentiment_Flair.value_counts()\n",
    "TBcounts = LymeDisease.abstractSentiment_TB.value_counts()\n",
    "TBNBcounts = LymeDisease.abstractSentiment_TB_NB.value_counts()"
   ]
  },
  {
   "cell_type": "code",
   "execution_count": 136,
   "metadata": {
    "ExecuteTime": {
     "end_time": "2021-09-17T23:56:26.495533Z",
     "start_time": "2021-09-17T23:56:26.491287Z"
    }
   },
   "outputs": [],
   "source": [
    "flairCountsDF = pd.DataFrame(flairCounts)\n",
    "TBcountsDF = pd.DataFrame(TBcounts)\n",
    "TBNBcountsDF = pd.DataFrame(TBNBcounts)"
   ]
  },
  {
   "cell_type": "code",
   "execution_count": 151,
   "metadata": {
    "ExecuteTime": {
     "end_time": "2021-09-18T00:02:41.554797Z",
     "start_time": "2021-09-18T00:02:41.542600Z"
    }
   },
   "outputs": [
    {
     "data": {
      "text/html": [
       "<div>\n",
       "<style scoped>\n",
       "    .dataframe tbody tr th:only-of-type {\n",
       "        vertical-align: middle;\n",
       "    }\n",
       "\n",
       "    .dataframe tbody tr th {\n",
       "        vertical-align: top;\n",
       "    }\n",
       "\n",
       "    .dataframe thead th {\n",
       "        text-align: right;\n",
       "    }\n",
       "</style>\n",
       "<table border=\"1\" class=\"dataframe\">\n",
       "  <thead>\n",
       "    <tr style=\"text-align: right;\">\n",
       "      <th></th>\n",
       "      <th>TextBlobber</th>\n",
       "      <th>TextBlobber - Naive Bayes</th>\n",
       "      <th>Flair</th>\n",
       "    </tr>\n",
       "  </thead>\n",
       "  <tbody>\n",
       "    <tr>\n",
       "      <th>pos</th>\n",
       "      <td>2382</td>\n",
       "      <td>2671.0</td>\n",
       "      <td>792.0</td>\n",
       "    </tr>\n",
       "    <tr>\n",
       "      <th>neg</th>\n",
       "      <td>315</td>\n",
       "      <td>49.0</td>\n",
       "      <td>1928.0</td>\n",
       "    </tr>\n",
       "    <tr>\n",
       "      <th>neu</th>\n",
       "      <td>23</td>\n",
       "      <td>0.0</td>\n",
       "      <td>0.0</td>\n",
       "    </tr>\n",
       "  </tbody>\n",
       "</table>\n",
       "</div>"
      ],
      "text/plain": [
       "     TextBlobber  TextBlobber - Naive Bayes   Flair\n",
       "pos         2382                     2671.0   792.0\n",
       "neg          315                       49.0  1928.0\n",
       "neu           23                        0.0     0.0"
      ]
     },
     "execution_count": 151,
     "metadata": {},
     "output_type": "execute_result"
    }
   ],
   "source": [
    "sentimentValueCounts = TBcountsDF.merge(TBNBcountsDF, how='left', left_index=True, right_index=True).merge(flairCountsDF, how='left', left_index=True, right_index=True)\n",
    "sentimentValueCounts.fillna(0, inplace=True)\n",
    "sentimentValueCounts.columns = ['TextBlobber', 'TextBlobber - Naive Bayes', 'Flair']\n",
    "sentimentValueCounts"
   ]
  },
  {
   "cell_type": "code",
   "execution_count": 154,
   "metadata": {
    "ExecuteTime": {
     "end_time": "2021-09-18T00:03:38.451423Z",
     "start_time": "2021-09-18T00:03:38.445559Z"
    }
   },
   "outputs": [
    {
     "data": {
      "text/plain": [
       "TextBlobber                  2720.0\n",
       "TextBlobber - Naive Bayes    2720.0\n",
       "Flair                        2720.0\n",
       "dtype: float64"
      ]
     },
     "execution_count": 154,
     "metadata": {},
     "output_type": "execute_result"
    }
   ],
   "source": [
    "sentimentValueCounts.sum()"
   ]
  },
  {
   "cell_type": "markdown",
   "metadata": {},
   "source": [
    "### Sentiment by Method"
   ]
  },
  {
   "cell_type": "code",
   "execution_count": 152,
   "metadata": {
    "ExecuteTime": {
     "end_time": "2021-09-18T00:02:44.915727Z",
     "start_time": "2021-09-18T00:02:44.669643Z"
    }
   },
   "outputs": [
    {
     "data": {
      "text/plain": [
       "<matplotlib.axes._subplots.AxesSubplot at 0x7fdab27a9a58>"
      ]
     },
     "execution_count": 152,
     "metadata": {},
     "output_type": "execute_result"
    },
    {
     "data": {
      "image/png": "[encoded data removed]",
      "text/plain": [
       "<Figure size 1080x720 with 1 Axes>"
      ]
     },
     "metadata": {
      "needs_background": "light"
     },
     "output_type": "display_data"
    }
   ],
   "source": [
    "sentimentValueCounts.plot(kind='bar')"
   ]
  },
  {
   "cell_type": "code",
   "execution_count": 159,
   "metadata": {
    "ExecuteTime": {
     "end_time": "2021-09-18T00:06:52.526677Z",
     "start_time": "2021-09-18T00:06:52.515241Z"
    }
   },
   "outputs": [
    {
     "name": "stderr",
     "output_type": "stream",
     "text": [
      "/Users/myfriendscallmej/anaconda3/lib/python3.7/site-packages/ipykernel_launcher.py:1: SettingWithCopyWarning: \n",
      "A value is trying to be set on a copy of a slice from a DataFrame.\n",
      "Try using .loc[row_indexer,col_indexer] = value instead\n",
      "\n",
      "See the caveats in the documentation: https://pandas.pydata.org/pandas-docs/stable/user_guide/indexing.html#returning-a-view-versus-a-copy\n",
      "  \"\"\"Entry point for launching an IPython kernel.\n"
     ]
    }
   ],
   "source": [
    "LymeDisease['containsChronic'] = LymeDisease.abstract.str.contains('chronic')"
   ]
  },
  {
   "cell_type": "code",
   "execution_count": 1029,
   "metadata": {
    "ExecuteTime": {
     "end_time": "2021-10-07T21:41:08.899176Z",
     "start_time": "2021-10-07T21:41:08.887854Z"
    }
   },
   "outputs": [
    {
     "data": {
      "text/plain": [
       "'chronic'"
      ]
     },
     "execution_count": 1029,
     "metadata": {},
     "output_type": "execute_result"
    }
   ],
   "source": []
  },
  {
   "cell_type": "code",
   "execution_count": 161,
   "metadata": {
    "ExecuteTime": {
     "end_time": "2021-09-18T00:07:10.936752Z",
     "start_time": "2021-09-18T00:07:10.928858Z"
    }
   },
   "outputs": [
    {
     "data": {
      "text/plain": [
       "False    2515\n",
       "True      205\n",
       "Name: containsChronic, dtype: int64"
      ]
     },
     "execution_count": 161,
     "metadata": {},
     "output_type": "execute_result"
    }
   ],
   "source": [
    "LymeDisease.containsChronic.value_counts()"
   ]
  },
  {
   "cell_type": "code",
   "execution_count": 171,
   "metadata": {
    "ExecuteTime": {
     "end_time": "2021-09-18T00:25:20.547030Z",
     "start_time": "2021-09-18T00:25:20.544425Z"
    }
   },
   "outputs": [],
   "source": [
    "from  matplotlib.ticker import PercentFormatter"
   ]
  },
  {
   "cell_type": "markdown",
   "metadata": {
    "ExecuteTime": {
     "end_time": "2021-09-23T23:27:03.930579Z",
     "start_time": "2021-09-23T23:27:03.866204Z"
    }
   },
   "source": [
    "### Sentiment by Method and Mention of 'Chronic'"
   ]
  },
  {
   "cell_type": "code",
   "execution_count": 259,
   "metadata": {
    "ExecuteTime": {
     "end_time": "2021-09-18T02:42:21.842537Z",
     "start_time": "2021-09-18T02:42:21.132015Z"
    }
   },
   "outputs": [
    {
     "data": {
      "image/png": "[encoded data removed]",
      "text/plain": [
       "<Figure size 1080x720 with 3 Axes>"
      ]
     },
     "metadata": {
      "needs_background": "light"
     },
     "output_type": "display_data"
    }
   ],
   "source": [
    "fig, axes =plt.subplots(1,3, sharey=True)\n",
    "sns.countplot(x=\"abstractSentiment_TB\", hue=\"containsChronic\", \n",
    "            data=LymeDisease, ax=axes[0])\n",
    "sns.countplot(x=\"abstractSentiment_TB_NB\", hue=\"containsChronic\", \n",
    "            data=LymeDisease, ax=axes[1])\n",
    "sns.countplot(x=\"abstractSentiment_Flair\", hue=\"containsChronic\", \n",
    "            data=LymeDisease, ax=axes[2])\n",
    "axes[0].set_title('TextBlob')\n",
    "axes[1].set_title('TextBlob - Naive Bayes')\n",
    "axes[2].set_title('Flair')\n",
    "axes[0].set_xlabel('Sentiment')\n",
    "axes[1].set_xlabel('Sentiment')\n",
    "axes[2].set_xlabel('Sentiment')\n",
    "axes[0].legend(title='Mentions \"Chronic\"')\n",
    "axes[1].legend(title='Mentions \"Chronic\"')\n",
    "axes[2].legend(title='Mentions \"Chronic\"')\n",
    "fig.suptitle(\"Sentiment by Algorithm and Mention of 'Chronic'\", y=1.03)\n",
    "fig.tight_layout();\n",
    "# plt.tight_layout()"
   ]
  },
  {
   "cell_type": "code",
   "execution_count": 254,
   "metadata": {
    "ExecuteTime": {
     "end_time": "2021-09-18T02:26:02.442286Z",
     "start_time": "2021-09-18T02:26:02.400990Z"
    }
   },
   "outputs": [
    {
     "data": {
      "text/html": [
       "<div>\n",
       "<style scoped>\n",
       "    .dataframe tbody tr th:only-of-type {\n",
       "        vertical-align: middle;\n",
       "    }\n",
       "\n",
       "    .dataframe tbody tr th {\n",
       "        vertical-align: top;\n",
       "    }\n",
       "\n",
       "    .dataframe thead th {\n",
       "        text-align: right;\n",
       "    }\n",
       "</style>\n",
       "<table border=\"1\" class=\"dataframe\">\n",
       "  <thead>\n",
       "    <tr style=\"text-align: right;\">\n",
       "      <th>containsChronic</th>\n",
       "      <th>False</th>\n",
       "      <th>True</th>\n",
       "      <th>Total</th>\n",
       "    </tr>\n",
       "    <tr>\n",
       "      <th>abstractSentiment_TB</th>\n",
       "      <th></th>\n",
       "      <th></th>\n",
       "      <th></th>\n",
       "    </tr>\n",
       "  </thead>\n",
       "  <tbody>\n",
       "    <tr>\n",
       "      <th>neg</th>\n",
       "      <td>288</td>\n",
       "      <td>27</td>\n",
       "      <td>315</td>\n",
       "    </tr>\n",
       "    <tr>\n",
       "      <th>neu</th>\n",
       "      <td>22</td>\n",
       "      <td>1</td>\n",
       "      <td>23</td>\n",
       "    </tr>\n",
       "    <tr>\n",
       "      <th>pos</th>\n",
       "      <td>2205</td>\n",
       "      <td>177</td>\n",
       "      <td>2382</td>\n",
       "    </tr>\n",
       "    <tr>\n",
       "      <th>Total</th>\n",
       "      <td>2515</td>\n",
       "      <td>205</td>\n",
       "      <td>2720</td>\n",
       "    </tr>\n",
       "  </tbody>\n",
       "</table>\n",
       "</div>"
      ],
      "text/plain": [
       "containsChronic       False  True  Total\n",
       "abstractSentiment_TB                    \n",
       "neg                     288    27    315\n",
       "neu                      22     1     23\n",
       "pos                    2205   177   2382\n",
       "Total                  2515   205   2720"
      ]
     },
     "execution_count": 254,
     "metadata": {},
     "output_type": "execute_result"
    }
   ],
   "source": [
    "TB_crosstab = pd.crosstab(LymeDisease.abstractSentiment_TB,\n",
    "                            LymeDisease.containsChronic,\n",
    "                           margins=True, margins_name=\"Total\")\n",
    "TB_crosstab"
   ]
  },
  {
   "cell_type": "code",
   "execution_count": 255,
   "metadata": {
    "ExecuteTime": {
     "end_time": "2021-09-18T02:26:02.442286Z",
     "start_time": "2021-09-18T02:26:02.400990Z"
    }
   },
   "outputs": [
    {
     "data": {
      "text/html": [
       "<div>\n",
       "<style scoped>\n",
       "    .dataframe tbody tr th:only-of-type {\n",
       "        vertical-align: middle;\n",
       "    }\n",
       "\n",
       "    .dataframe tbody tr th {\n",
       "        vertical-align: top;\n",
       "    }\n",
       "\n",
       "    .dataframe thead th {\n",
       "        text-align: right;\n",
       "    }\n",
       "</style>\n",
       "<table border=\"1\" class=\"dataframe\">\n",
       "  <thead>\n",
       "    <tr style=\"text-align: right;\">\n",
       "      <th>containsChronic</th>\n",
       "      <th>False</th>\n",
       "      <th>True</th>\n",
       "      <th>Total</th>\n",
       "    </tr>\n",
       "    <tr>\n",
       "      <th>abstractSentiment_TB_NB</th>\n",
       "      <th></th>\n",
       "      <th></th>\n",
       "      <th></th>\n",
       "    </tr>\n",
       "  </thead>\n",
       "  <tbody>\n",
       "    <tr>\n",
       "      <th>neg</th>\n",
       "      <td>44</td>\n",
       "      <td>5</td>\n",
       "      <td>49</td>\n",
       "    </tr>\n",
       "    <tr>\n",
       "      <th>pos</th>\n",
       "      <td>2471</td>\n",
       "      <td>200</td>\n",
       "      <td>2671</td>\n",
       "    </tr>\n",
       "    <tr>\n",
       "      <th>Total</th>\n",
       "      <td>2515</td>\n",
       "      <td>205</td>\n",
       "      <td>2720</td>\n",
       "    </tr>\n",
       "  </tbody>\n",
       "</table>\n",
       "</div>"
      ],
      "text/plain": [
       "containsChronic          False  True  Total\n",
       "abstractSentiment_TB_NB                    \n",
       "neg                         44     5     49\n",
       "pos                       2471   200   2671\n",
       "Total                     2515   205   2720"
      ]
     },
     "execution_count": 255,
     "metadata": {},
     "output_type": "execute_result"
    }
   ],
   "source": [
    "TBNB_crosstab = pd.crosstab(LymeDisease.abstractSentiment_TB_NB,\n",
    "                            LymeDisease.containsChronic,\n",
    "                           margins=True, margins_name=\"Total\")\n",
    "TBNB_crosstab"
   ]
  },
  {
   "cell_type": "code",
   "execution_count": 248,
   "metadata": {
    "ExecuteTime": {
     "end_time": "2021-09-18T02:20:21.327575Z",
     "start_time": "2021-09-18T02:20:21.324354Z"
    }
   },
   "outputs": [],
   "source": [
    "from scipy.stats import chi2_contingency"
   ]
  },
  {
   "cell_type": "code",
   "execution_count": 258,
   "metadata": {
    "ExecuteTime": {
     "end_time": "2021-09-18T02:40:53.991142Z",
     "start_time": "2021-09-18T02:40:53.982782Z"
    }
   },
   "outputs": [
    {
     "name": "stdout",
     "output_type": "stream",
     "text": [
      "Independent (H0 holds true)\n",
      "Independent (H0 holds true)\n",
      "Independent (H0 holds true)\n"
     ]
    }
   ],
   "source": [
    "alpha = 0.05\n",
    "c, p, dof, expected = chi2_contingency(flair_crosstab)\n",
    "if p <= alpha:\n",
    "    print('Dependent (reject H0)')\n",
    "else:\n",
    "    print('Independent (H0 holds true)')\n",
    "c, p, dof, expected = chi2_contingency(TB_crosstab)\n",
    "if p <= alpha:\n",
    "    print('Dependent (reject H0)')\n",
    "else:\n",
    "    print('Independent (H0 holds true)')\n",
    "c, p, dof, expected = chi2_contingency(TBNB_crosstab)\n",
    "if p <= alpha:\n",
    "    print('Dependent (reject H0)')\n",
    "else:\n",
    "    print('Independent (H0 holds true)')"
   ]
  },
  {
   "cell_type": "code",
   "execution_count": 245,
   "metadata": {
    "ExecuteTime": {
     "end_time": "2021-09-18T02:13:49.043739Z",
     "start_time": "2021-09-18T02:13:48.770104Z"
    }
   },
   "outputs": [
    {
     "data": {
      "text/plain": [
       "<matplotlib.axes._subplots.AxesSubplot at 0x7fdabfa4be10>"
      ]
     },
     "execution_count": 245,
     "metadata": {},
     "output_type": "execute_result"
    },
    {
     "data": {
      "image/png": "[encoded data removed]",
      "text/plain": [
       "<Figure size 1080x720 with 1 Axes>"
      ]
     },
     "metadata": {
      "needs_background": "light"
     },
     "output_type": "display_data"
    }
   ],
   "source": [
    "sns.boxplot(y='abstractSentimentScore_TB', x='containsChronic', data=LymeDisease)"
   ]
  },
  {
   "cell_type": "code",
   "execution_count": 260,
   "metadata": {
    "ExecuteTime": {
     "end_time": "2021-09-18T02:50:00.306513Z",
     "start_time": "2021-09-18T02:50:00.301108Z"
    }
   },
   "outputs": [
    {
     "data": {
      "text/plain": [
       "'Lyme disease is the most common tick-borne disease in Europe and North America. In the hyperendemic Lyme disease regions of the eastern United States, nymphal Ixodes scapularis are the principal ticks transmitting the Lyme disease spirochete, Borrelia burgdorferi sensu stricto (s.s.). Approximately 25% of questing nymphs in endemic regions are infected with spirochetes. High throughput-sensitive and specific methods for testing nymphal I. scapularis for infection with B. burgdorferi are clearly needed. In the current study, we evaluated whether low-density microarrays could be adapted for the rapid and accurate detection and characterization of spirochetes in nymphal I. scapularis. Three different microarray platforms were developed and tested for the detection of spirochetes in ticks. They could both detect and differentiate different Borrelia genospecies, in one case detecting as few as a single copy of Borrelia DNA.'"
      ]
     },
     "execution_count": 260,
     "metadata": {},
     "output_type": "execute_result"
    }
   ],
   "source": [
    "text"
   ]
  },
  {
   "cell_type": "markdown",
   "metadata": {},
   "source": [
    "## Sandbox"
   ]
  },
  {
   "cell_type": "code",
   "execution_count": 282,
   "metadata": {
    "ExecuteTime": {
     "end_time": "2021-09-23T23:28:45.526785Z",
     "start_time": "2021-09-23T23:28:45.521670Z"
    }
   },
   "outputs": [],
   "source": [
    "text_noStopwords = nltk.Text([word for word in tokenised_text if word.lower() not in stopwords])\n",
    "# text_noStopwords.contents()"
   ]
  },
  {
   "cell_type": "code",
   "execution_count": 283,
   "metadata": {
    "ExecuteTime": {
     "end_time": "2021-09-23T23:28:47.377465Z",
     "start_time": "2021-09-23T23:28:46.937519Z"
    }
   },
   "outputs": [
    {
     "data": {
      "image/png": "[encoded data removed]",
      "text/plain": [
       "<Figure size 1080x720 with 1 Axes>"
      ]
     },
     "metadata": {
      "needs_background": "light"
     },
     "output_type": "display_data"
    }
   ],
   "source": [
    "text_noStopwords.plot(30)"
   ]
  },
  {
   "cell_type": "code",
   "execution_count": 293,
   "metadata": {
    "ExecuteTime": {
     "end_time": "2021-09-23T23:30:07.910853Z",
     "start_time": "2021-09-23T23:30:07.906541Z"
    }
   },
   "outputs": [
    {
     "data": {
      "text/plain": [
       "3"
      ]
     },
     "execution_count": 293,
     "metadata": {},
     "output_type": "execute_result"
    }
   ],
   "source": [
    "text_noStopwords.count('Lyme')"
   ]
  },
  {
   "cell_type": "code",
   "execution_count": 348,
   "metadata": {
    "ExecuteTime": {
     "end_time": "2021-09-30T04:38:40.916501Z",
     "start_time": "2021-09-30T04:38:40.139057Z"
    }
   },
   "outputs": [
    {
     "data": {
      "text/plain": [
       "{'Happy': 0.0, 'Angry': 0.0, 'Surprise': 0.0, 'Sad': 0.2, 'Fear': 0.8}"
      ]
     },
     "execution_count": 348,
     "metadata": {},
     "output_type": "execute_result"
    }
   ],
   "source": [
    "te.get_emotion(text)"
   ]
  },
  {
   "cell_type": "code",
   "execution_count": 349,
   "metadata": {
    "ExecuteTime": {
     "end_time": "2021-09-30T04:38:57.586631Z",
     "start_time": "2021-09-30T04:38:57.576468Z"
    }
   },
   "outputs": [
    {
     "data": {
      "text/plain": [
       "'Lyme disease is the most common tick-borne disease in Europe and North America. In the hyperendemic Lyme disease regions of the eastern United States, nymphal Ixodes scapularis are the principal ticks transmitting the Lyme disease spirochete, Borrelia burgdorferi sensu stricto (s.s.). Approximately 25% of questing nymphs in endemic regions are infected with spirochetes. High throughput-sensitive and specific methods for testing nymphal I. scapularis for infection with B. burgdorferi are clearly needed. In the current study, we evaluated whether low-density microarrays could be adapted for the rapid and accurate detection and characterization of spirochetes in nymphal I. scapularis. Three different microarray platforms were developed and tested for the detection of spirochetes in ticks. They could both detect and differentiate different Borrelia genospecies, in one case detecting as few as a single copy of Borrelia DNA.'"
      ]
     },
     "execution_count": 349,
     "metadata": {},
     "output_type": "execute_result"
    }
   ],
   "source": [
    "text"
   ]
  },
  {
   "cell_type": "markdown",
   "metadata": {},
   "source": [
    "### Emotions"
   ]
  },
  {
   "cell_type": "code",
   "execution_count": 350,
   "metadata": {
    "ExecuteTime": {
     "end_time": "2021-09-30T04:39:09.120268Z",
     "start_time": "2021-09-30T04:39:09.099997Z"
    }
   },
   "outputs": [],
   "source": [
    "text_object = NRCLex(text)"
   ]
  },
  {
   "cell_type": "code",
   "execution_count": 351,
   "metadata": {
    "ExecuteTime": {
     "end_time": "2021-09-30T04:39:22.657735Z",
     "start_time": "2021-09-30T04:39:22.652879Z"
    }
   },
   "outputs": [
    {
     "data": {
      "text/plain": [
       "{'fear': 0.1794871794871795,\n",
       " 'anger': 0.10256410256410256,\n",
       " 'anticip': 0.0,\n",
       " 'trust': 0.05128205128205128,\n",
       " 'surprise': 0.02564102564102564,\n",
       " 'positive': 0.15384615384615385,\n",
       " 'negative': 0.20512820512820512,\n",
       " 'sadness': 0.15384615384615385,\n",
       " 'disgust': 0.1282051282051282,\n",
       " 'joy': 0.0}"
      ]
     },
     "execution_count": 351,
     "metadata": {},
     "output_type": "execute_result"
    }
   ],
   "source": [
    "emotions = text_object.affect_frequencies\n",
    "emotions"
   ]
  },
  {
   "cell_type": "code",
   "execution_count": 352,
   "metadata": {
    "ExecuteTime": {
     "end_time": "2021-09-30T04:39:36.261368Z",
     "start_time": "2021-09-30T04:39:36.254753Z"
    }
   },
   "outputs": [
    {
     "data": {
      "text/plain": [
       "{'fear': 0.1794871794871795,\n",
       " 'anger': 0.10256410256410256,\n",
       " 'trust': 0.05128205128205128,\n",
       " 'surprise': 0.02564102564102564,\n",
       " 'sadness': 0.15384615384615385,\n",
       " 'disgust': 0.1282051282051282,\n",
       " 'joy': 0.0,\n",
       " 'anticipation': 0.0}"
      ]
     },
     "execution_count": 352,
     "metadata": {},
     "output_type": "execute_result"
    }
   ],
   "source": [
    "emotions.pop('positive')\n",
    "emotions.pop('negative')\n",
    "emotions['anticipation']=emotions.pop('anticip')\n",
    "emotions"
   ]
  },
  {
   "cell_type": "markdown",
   "metadata": {},
   "source": [
    "### Plutchik Wheel"
   ]
  },
  {
   "cell_type": "code",
   "execution_count": 353,
   "metadata": {
    "ExecuteTime": {
     "end_time": "2021-09-30T04:39:52.947296Z",
     "start_time": "2021-09-30T04:39:52.475886Z"
    }
   },
   "outputs": [
    {
     "data": {
      "text/plain": [
       "<matplotlib.axes._subplots.AxesSubplot at 0x7fdabb3e3ef0>"
      ]
     },
     "execution_count": 353,
     "metadata": {},
     "output_type": "execute_result"
    },
    {
     "data": {
      "image/png": "[encoded data removed]",
      "text/plain": [
       "<Figure size 576x576 with 1 Axes>"
      ]
     },
     "metadata": {
      "needs_background": "light"
     },
     "output_type": "display_data"
    }
   ],
   "source": [
    "plutchik(emotions)"
   ]
  },
  {
   "cell_type": "code",
   "execution_count": null,
   "metadata": {},
   "outputs": [],
   "source": []
  }
 ],
 "metadata": {
  "kernelspec": {
   "display_name": "Python 3",
   "language": "python",
   "name": "python3"
  },
  "language_info": {
   "codemirror_mode": {
    "name": "ipython",
    "version": 3
   },
   "file_extension": ".py",
   "mimetype": "text/x-python",
   "name": "python",
   "nbconvert_exporter": "python",
   "pygments_lexer": "ipython3",
   "version": "3.7.3"
  },
  "toc": {
   "base_numbering": 1,
   "nav_menu": {},
   "number_sections": true,
   "sideBar": true,
   "skip_h1_title": true,
   "title_cell": "Table of Contents",
   "title_sidebar": "Contents",
   "toc_cell": true,
   "toc_position": {
    "height": "calc(100% - 180px)",
    "left": "10px",
    "top": "150px",
    "width": "344px"
   },
   "toc_section_display": true,
   "toc_window_display": true
  },
  "varInspector": {
   "cols": {
    "lenName": 16,
    "lenType": 16,
    "lenVar": 40
   },
   "kernels_config": {
    "python": {
     "delete_cmd_postfix": "",
     "delete_cmd_prefix": "del ",
     "library": "var_list.py",
     "varRefreshCmd": "print(var_dic_list())"
    },
    "r": {
     "delete_cmd_postfix": ") ",
     "delete_cmd_prefix": "rm(",
     "library": "var_list.r",
     "varRefreshCmd": "cat(var_dic_list()) "
    }
   },
   "types_to_exclude": [
    "module",
    "function",
    "builtin_function_or_method",
    "instance",
    "_Feature"
   ],
   "window_display": false
  }
 },
 "nbformat": 4,
 "nbformat_minor": 2
}
