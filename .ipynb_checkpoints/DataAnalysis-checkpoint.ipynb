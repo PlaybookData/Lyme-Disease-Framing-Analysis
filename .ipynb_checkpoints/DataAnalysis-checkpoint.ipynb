{
 "cells": [
  {
   "cell_type": "markdown",
   "metadata": {},
   "source": [
    "# Data Analysis"
   ]
  },
  {
   "cell_type": "markdown",
   "metadata": {
    "toc": true
   },
   "source": [
    "<h1>Table of Contents<span class=\"tocSkip\"></span></h1>\n",
    "<div class=\"toc\"><ul class=\"toc-item\"><li><span><a href=\"#Imports-&amp;-Defaults\" data-toc-modified-id=\"Imports-&amp;-Defaults-1\"><span class=\"toc-item-num\">1&nbsp;&nbsp;</span>Imports &amp; Defaults</a></span></li><li><span><a href=\"#Load-Data\" data-toc-modified-id=\"Load-Data-2\"><span class=\"toc-item-num\">2&nbsp;&nbsp;</span>Load Data</a></span></li><li><span><a href=\"#Additional-Cleaning\" data-toc-modified-id=\"Additional-Cleaning-3\"><span class=\"toc-item-num\">3&nbsp;&nbsp;</span>Additional Cleaning</a></span><ul class=\"toc-item\"><li><span><a href=\"#Filter-Duplicates-and-Records-missing-an-Abstract-&amp;-DOI\" data-toc-modified-id=\"Filter-Duplicates-and-Records-missing-an-Abstract-&amp;-DOI-3.1\"><span class=\"toc-item-num\">3.1&nbsp;&nbsp;</span>Filter Duplicates and Records missing an Abstract &amp; DOI</a></span></li><li><span><a href=\"#Clean-Text-(first-pass)\" data-toc-modified-id=\"Clean-Text-(first-pass)-3.2\"><span class=\"toc-item-num\">3.2&nbsp;&nbsp;</span>Clean Text (first pass)</a></span></li><li><span><a href=\"#Normalise-Species-Names\" data-toc-modified-id=\"Normalise-Species-Names-3.3\"><span class=\"toc-item-num\">3.3&nbsp;&nbsp;</span>Normalise Species Names</a></span></li><li><span><a href=\"#Clean-Text-(second-pass)\" data-toc-modified-id=\"Clean-Text-(second-pass)-3.4\"><span class=\"toc-item-num\">3.4&nbsp;&nbsp;</span>Clean Text (second pass)</a></span></li><li><span><a href=\"#Adding-SpaCy-and-NLTK-tokenised-text\" data-toc-modified-id=\"Adding-SpaCy-and-NLTK-tokenised-text-3.5\"><span class=\"toc-item-num\">3.5&nbsp;&nbsp;</span>Adding SpaCy and NLTK tokenised text</a></span></li><li><span><a href=\"#Remove-Stopwords\" data-toc-modified-id=\"Remove-Stopwords-3.6\"><span class=\"toc-item-num\">3.6&nbsp;&nbsp;</span>Remove Stopwords</a></span></li><li><span><a href=\"#Normalisation\" data-toc-modified-id=\"Normalisation-3.7\"><span class=\"toc-item-num\">3.7&nbsp;&nbsp;</span>Normalisation</a></span></li></ul></li><li><span><a href=\"#Sentiment\" data-toc-modified-id=\"Sentiment-4\"><span class=\"toc-item-num\">4&nbsp;&nbsp;</span>Sentiment</a></span><ul class=\"toc-item\"><li><span><a href=\"#Comparing-sentiment-results-by-pre-processing-tool-(SpaCy-v-NLTK)\" data-toc-modified-id=\"Comparing-sentiment-results-by-pre-processing-tool-(SpaCy-v-NLTK)-4.1\"><span class=\"toc-item-num\">4.1&nbsp;&nbsp;</span>Comparing sentiment results by pre-processing tool (SpaCy v NLTK)</a></span></li><li><span><a href=\"#Adding-Sentiment-Measures-to-Dataframe\" data-toc-modified-id=\"Adding-Sentiment-Measures-to-Dataframe-4.2\"><span class=\"toc-item-num\">4.2&nbsp;&nbsp;</span>Adding Sentiment Measures to Dataframe</a></span></li></ul></li><li><span><a href=\"#Adding-Emotions\" data-toc-modified-id=\"Adding-Emotions-5\"><span class=\"toc-item-num\">5&nbsp;&nbsp;</span>Adding Emotions</a></span></li><li><span><a href=\"#Saving-Dataframe\" data-toc-modified-id=\"Saving-Dataframe-6\"><span class=\"toc-item-num\">6&nbsp;&nbsp;</span>Saving Dataframe</a></span></li><li><span><a href=\"#EDA\" data-toc-modified-id=\"EDA-7\"><span class=\"toc-item-num\">7&nbsp;&nbsp;</span>EDA</a></span><ul class=\"toc-item\"><li><span><a href=\"#Basic-Overview\" data-toc-modified-id=\"Basic-Overview-7.1\"><span class=\"toc-item-num\">7.1&nbsp;&nbsp;</span>Basic Overview</a></span></li><li><span><a href=\"#N-Grams\" data-toc-modified-id=\"N-Grams-7.2\"><span class=\"toc-item-num\">7.2&nbsp;&nbsp;</span>N-Grams</a></span><ul class=\"toc-item\"><li><span><a href=\"#N-Gram-Plots\" data-toc-modified-id=\"N-Gram-Plots-7.2.1\"><span class=\"toc-item-num\">7.2.1&nbsp;&nbsp;</span>N-Gram Plots</a></span></li></ul></li><li><span><a href=\"#Abstract-Length\" data-toc-modified-id=\"Abstract-Length-7.3\"><span class=\"toc-item-num\">7.3&nbsp;&nbsp;</span>Abstract Length</a></span></li><li><span><a href=\"#Abstract-Sentiment-Score\" data-toc-modified-id=\"Abstract-Sentiment-Score-7.4\"><span class=\"toc-item-num\">7.4&nbsp;&nbsp;</span>Abstract Sentiment Score</a></span></li><li><span><a href=\"#Sentiment-by-Method\" data-toc-modified-id=\"Sentiment-by-Method-7.5\"><span class=\"toc-item-num\">7.5&nbsp;&nbsp;</span>Sentiment by Method</a></span></li><li><span><a href=\"#Sentiment-by-Method-and-Mention-of-'Chronic'\" data-toc-modified-id=\"Sentiment-by-Method-and-Mention-of-'Chronic'-7.6\"><span class=\"toc-item-num\">7.6&nbsp;&nbsp;</span>Sentiment by Method and Mention of 'Chronic'</a></span></li></ul></li><li><span><a href=\"#Sandbox\" data-toc-modified-id=\"Sandbox-8\"><span class=\"toc-item-num\">8&nbsp;&nbsp;</span>Sandbox</a></span><ul class=\"toc-item\"><li><span><a href=\"#Emotions\" data-toc-modified-id=\"Emotions-8.1\"><span class=\"toc-item-num\">8.1&nbsp;&nbsp;</span>Emotions</a></span></li><li><span><a href=\"#Plutchik-Wheel\" data-toc-modified-id=\"Plutchik-Wheel-8.2\"><span class=\"toc-item-num\">8.2&nbsp;&nbsp;</span>Plutchik Wheel</a></span></li></ul></li></ul></div>"
   ]
  },
  {
   "cell_type": "markdown",
   "metadata": {},
   "source": [
    "## Imports & Defaults"
   ]
  },
  {
   "cell_type": "code",
   "execution_count": 1,
   "metadata": {
    "ExecuteTime": {
     "end_time": "2021-10-01T23:50:54.900628Z",
     "start_time": "2021-10-01T23:50:54.898491Z"
    }
   },
   "outputs": [],
   "source": [
    "#pip install pyplutchik\n",
    "#pip install text2emotion\n",
    "#pip install NRCLex"
   ]
  },
  {
   "cell_type": "code",
   "execution_count": 42,
   "metadata": {
    "ExecuteTime": {
     "end_time": "2021-10-02T00:11:34.212025Z",
     "start_time": "2021-10-02T00:11:34.209236Z"
    }
   },
   "outputs": [],
   "source": [
    "# Basics\n",
    "import numpy as np \n",
    "import pandas as pd \n",
    "\n",
    "#String cleaning and processing\n",
    "import re\n",
    "import string"
   ]
  },
  {
   "cell_type": "code",
   "execution_count": 609,
   "metadata": {
    "ExecuteTime": {
     "end_time": "2021-10-03T01:58:20.290939Z",
     "start_time": "2021-10-03T01:58:03.188578Z"
    }
   },
   "outputs": [],
   "source": [
    "# Natural Language Processing\n",
    "\n",
    "#Natural Language Toolkit\n",
    "import nltk\n",
    "from nltk.corpus import stopwords\n",
    "\n",
    "# TextBlob\n",
    "from textblob.sentiments import NaiveBayesAnalyzer, PatternAnalyzer\n",
    "from textblob import Blobber\n",
    "from textblob import TextBlob, Word\n",
    "\n",
    "#Flair\n",
    "from flair.models import TextClassifier\n",
    "from flair.data import Sentence\n",
    "\n",
    "#SpaCy\n",
    "import spacy\n",
    "import en_core_web_sm\n",
    "#using small Spacy model\n",
    "nlp = spacy.load('en_core_web_sm')\n",
    "nlp_md = spacy.load('en_core_web_md')\n",
    "from spacy.matcher import Matcher \n",
    "\n",
    "#Text2Emotion\n",
    "import text2emotion as te\n",
    "\n",
    "#NRCLex - for measuring emotion\n",
    "from nrclex import NRCLex"
   ]
  },
  {
   "cell_type": "code",
   "execution_count": 17,
   "metadata": {
    "ExecuteTime": {
     "end_time": "2021-10-01T23:51:46.722137Z",
     "start_time": "2021-10-01T23:51:46.715025Z"
    }
   },
   "outputs": [],
   "source": [
    "# Visualisation\n",
    "import seaborn as sns\n",
    "import matplotlib.pyplot as plt\n",
    "from pylab import rcParams\n",
    "\n",
    "# import matplotlib.patches as mpatches\n",
    "# import plotly.express as px\n",
    "\n",
    "%matplotlib inline\n",
    "rcParams['figure.figsize'] = 15, 10\n",
    "rcParams['axes.titlesize'] = 20\n",
    "rcParams['axes.labelsize'] = 'large'\n",
    "rcParams['xtick.labelsize'] = 10\n",
    "rcParams['ytick.labelsize'] = 10\n",
    "rcParams['lines.linewidth'] = 2\n",
    "rcParams['font.size'] = 18\n",
    "\n",
    "#Visualising Plutchik Model of Emotions\n",
    "from pyplutchik import plutchik"
   ]
  },
  {
   "cell_type": "code",
   "execution_count": 5,
   "metadata": {
    "ExecuteTime": {
     "end_time": "2021-10-01T23:51:12.471330Z",
     "start_time": "2021-10-01T23:51:12.468153Z"
    }
   },
   "outputs": [],
   "source": [
    "#Unused\n",
    "\n",
    "# import random\n",
    "\n",
    "\n",
    "# from collections import Counter\n",
    "# from PIL import Image\n",
    "# from wordcloud import WordCloud, STOPWORDS, ImageColorGenerator\n",
    "\n",
    "# from tqdm import tqdm\n",
    "# import os\n",
    "# import sys\n",
    "# import xml.etree.ElementTree as et\n",
    "# pd.options.mode.chained_assignment = None"
   ]
  },
  {
   "cell_type": "markdown",
   "metadata": {},
   "source": [
    "## Load Data"
   ]
  },
  {
   "cell_type": "code",
   "execution_count": 6,
   "metadata": {
    "ExecuteTime": {
     "end_time": "2021-10-01T23:51:12.613842Z",
     "start_time": "2021-10-01T23:51:12.496875Z"
    }
   },
   "outputs": [],
   "source": [
    "LymeDisease = pd.read_csv('pubmedFiltered.csv', index_col=0)"
   ]
  },
  {
   "cell_type": "code",
   "execution_count": 7,
   "metadata": {
    "ExecuteTime": {
     "end_time": "2021-10-01T23:51:12.722216Z",
     "start_time": "2021-10-01T23:51:12.691995Z"
    }
   },
   "outputs": [
    {
     "data": {
      "text/html": [
       "<div>\n",
       "<style scoped>\n",
       "    .dataframe tbody tr th:only-of-type {\n",
       "        vertical-align: middle;\n",
       "    }\n",
       "\n",
       "    .dataframe tbody tr th {\n",
       "        vertical-align: top;\n",
       "    }\n",
       "\n",
       "    .dataframe thead th {\n",
       "        text-align: right;\n",
       "    }\n",
       "</style>\n",
       "<table border=\"1\" class=\"dataframe\">\n",
       "  <thead>\n",
       "    <tr style=\"text-align: right;\">\n",
       "      <th></th>\n",
       "      <th>publication</th>\n",
       "      <th>title</th>\n",
       "      <th>authors</th>\n",
       "      <th>doi</th>\n",
       "      <th>year</th>\n",
       "      <th>cites</th>\n",
       "      <th>type</th>\n",
       "      <th>abstract</th>\n",
       "      <th>article_url</th>\n",
       "      <th>fulltext_url</th>\n",
       "      <th>abstractLength</th>\n",
       "      <th>pubmed</th>\n",
       "    </tr>\n",
       "  </thead>\n",
       "  <tbody>\n",
       "    <tr>\n",
       "      <th>0</th>\n",
       "      <td>Ticks and tick-borne diseases</td>\n",
       "      <td>The range of Ixodes ricinus and the risk of co...</td>\n",
       "      <td>[{'name': 'Thomas G T Jaenson', 'affiliation':...</td>\n",
       "      <td>10.1016/j.ttbdis.2010.10.006</td>\n",
       "      <td>2011.0</td>\n",
       "      <td>0</td>\n",
       "      <td>Journal Article</td>\n",
       "      <td>In Sweden, the geographical distribution of Ly...</td>\n",
       "      <td>NaN</td>\n",
       "      <td>NaN</td>\n",
       "      <td>1370.0</td>\n",
       "      <td>1</td>\n",
       "    </tr>\n",
       "    <tr>\n",
       "      <th>1</th>\n",
       "      <td>Ticks and tick-borne diseases</td>\n",
       "      <td>Low-density microarrays for the detection of B...</td>\n",
       "      <td>[{'name': 'Julie A Houck', 'affiliation': 'Dep...</td>\n",
       "      <td>10.1016/j.ttbdis.2010.10.002</td>\n",
       "      <td>2011.0</td>\n",
       "      <td>0</td>\n",
       "      <td>Journal Article</td>\n",
       "      <td>Lyme disease is the most common tick-borne dis...</td>\n",
       "      <td>NaN</td>\n",
       "      <td>NaN</td>\n",
       "      <td>932.0</td>\n",
       "      <td>1</td>\n",
       "    </tr>\n",
       "    <tr>\n",
       "      <th>2</th>\n",
       "      <td>Ticks and tick-borne diseases</td>\n",
       "      <td>Infectivity of Borrelia burgdorferi sensu lato...</td>\n",
       "      <td>[{'name': 'N D van Burgel', 'affiliation': 'De...</td>\n",
       "      <td>10.1016/j.ttbdis.2010.10.003</td>\n",
       "      <td>2011.0</td>\n",
       "      <td>0</td>\n",
       "      <td>Journal Article</td>\n",
       "      <td>B. burgdorferi, B. afzelii, and B. bavariensis...</td>\n",
       "      <td>NaN</td>\n",
       "      <td>NaN</td>\n",
       "      <td>1428.0</td>\n",
       "      <td>1</td>\n",
       "    </tr>\n",
       "    <tr>\n",
       "      <th>4</th>\n",
       "      <td>Ticks and tick-borne diseases</td>\n",
       "      <td>Borrelia species in Ixodes affinis and Ixodes ...</td>\n",
       "      <td>[{'name': 'Ricardo G Maggi', 'affiliation': 'I...</td>\n",
       "      <td>10.1016/j.ttbdis.2010.08.003</td>\n",
       "      <td>2010.0</td>\n",
       "      <td>0</td>\n",
       "      <td>Journal Article</td>\n",
       "      <td>Ixodes affinis and I. scapularis are tick spec...</td>\n",
       "      <td>NaN</td>\n",
       "      <td>NaN</td>\n",
       "      <td>1576.0</td>\n",
       "      <td>1</td>\n",
       "    </tr>\n",
       "    <tr>\n",
       "      <th>5</th>\n",
       "      <td>Ticks and tick-borne diseases</td>\n",
       "      <td>Are birds reservoir hosts for Borrelia afzelii?</td>\n",
       "      <td>[{'name': 'Jan Franke', 'affiliation': 'Instit...</td>\n",
       "      <td>10.1016/j.ttbdis.2010.03.001</td>\n",
       "      <td>2010.0</td>\n",
       "      <td>0</td>\n",
       "      <td>Journal Article</td>\n",
       "      <td>It is known that birds are competent reservoir...</td>\n",
       "      <td>NaN</td>\n",
       "      <td>NaN</td>\n",
       "      <td>783.0</td>\n",
       "      <td>1</td>\n",
       "    </tr>\n",
       "    <tr>\n",
       "      <th>...</th>\n",
       "      <td>...</td>\n",
       "      <td>...</td>\n",
       "      <td>...</td>\n",
       "      <td>...</td>\n",
       "      <td>...</td>\n",
       "      <td>...</td>\n",
       "      <td>...</td>\n",
       "      <td>...</td>\n",
       "      <td>...</td>\n",
       "      <td>...</td>\n",
       "      <td>...</td>\n",
       "      <td>...</td>\n",
       "    </tr>\n",
       "    <tr>\n",
       "      <th>4488</th>\n",
       "      <td>Trends in cardiovascular medicine</td>\n",
       "      <td>Chagas' cardiomyopathy and Lyme carditis: Less...</td>\n",
       "      <td>[{'name': 'Cynthia Yeung', 'affiliation': \"Dep...</td>\n",
       "      <td>10.1016/j.tcm.2020.04.004</td>\n",
       "      <td>2021.0</td>\n",
       "      <td>0</td>\n",
       "      <td>Journal Article</td>\n",
       "      <td>Chagas' disease and Lyme disease are two endem...</td>\n",
       "      <td>NaN</td>\n",
       "      <td>NaN</td>\n",
       "      <td>913.0</td>\n",
       "      <td>1</td>\n",
       "    </tr>\n",
       "    <tr>\n",
       "      <th>4489</th>\n",
       "      <td>Journal of medical entomology</td>\n",
       "      <td>Barriers to Effective Tick Management and Tick...</td>\n",
       "      <td>[{'name': 'Lars Eisen', 'affiliation': 'Divisi...</td>\n",
       "      <td>10.1093/jme/tjaa079</td>\n",
       "      <td>2021.0</td>\n",
       "      <td>0</td>\n",
       "      <td>Journal Article</td>\n",
       "      <td>Lyme and other tick-borne diseases are increas...</td>\n",
       "      <td>NaN</td>\n",
       "      <td>NaN</td>\n",
       "      <td>1750.0</td>\n",
       "      <td>1</td>\n",
       "    </tr>\n",
       "    <tr>\n",
       "      <th>4494</th>\n",
       "      <td>Medicina clinica</td>\n",
       "      <td>Erythema migrans.</td>\n",
       "      <td>[{'name': 'Fernando García-Souto', 'affiliatio...</td>\n",
       "      <td>10.1016/j.medcli.2019.10.001</td>\n",
       "      <td>2021.0</td>\n",
       "      <td>0</td>\n",
       "      <td>Journal Article</td>\n",
       "      <td>NaN</td>\n",
       "      <td>NaN</td>\n",
       "      <td>NaN</td>\n",
       "      <td>NaN</td>\n",
       "      <td>1</td>\n",
       "    </tr>\n",
       "    <tr>\n",
       "      <th>4495</th>\n",
       "      <td>Acta clinica Belgica</td>\n",
       "      <td>Lyme disease in Western Europe: an emerging pr...</td>\n",
       "      <td>[{'name': 'Olivia Vandekerckhove', 'affiliatio...</td>\n",
       "      <td>10.1080/17843286.2019.1694293</td>\n",
       "      <td>2021.0</td>\n",
       "      <td>0</td>\n",
       "      <td>Journal Article</td>\n",
       "      <td>Objectives: Lyme borreliosis is the most commo...</td>\n",
       "      <td>NaN</td>\n",
       "      <td>NaN</td>\n",
       "      <td>1684.0</td>\n",
       "      <td>1</td>\n",
       "    </tr>\n",
       "    <tr>\n",
       "      <th>4496</th>\n",
       "      <td>Clinical journal of sport medicine</td>\n",
       "      <td>Incidence and Prevalence of Borrelia burgdorfe...</td>\n",
       "      <td>[{'name': 'Philipp Breitbart', 'affiliation': ...</td>\n",
       "      <td>10.1097/JSM.0000000000000758</td>\n",
       "      <td>2021.0</td>\n",
       "      <td>0</td>\n",
       "      <td>Journal Article</td>\n",
       "      <td>Infections with Borrelia burgdorferi can cause...</td>\n",
       "      <td>NaN</td>\n",
       "      <td>NaN</td>\n",
       "      <td>1689.0</td>\n",
       "      <td>1</td>\n",
       "    </tr>\n",
       "  </tbody>\n",
       "</table>\n",
       "<p>3300 rows × 12 columns</p>\n",
       "</div>"
      ],
      "text/plain": [
       "                             publication  \\\n",
       "0          Ticks and tick-borne diseases   \n",
       "1          Ticks and tick-borne diseases   \n",
       "2          Ticks and tick-borne diseases   \n",
       "4          Ticks and tick-borne diseases   \n",
       "5          Ticks and tick-borne diseases   \n",
       "...                                  ...   \n",
       "4488   Trends in cardiovascular medicine   \n",
       "4489       Journal of medical entomology   \n",
       "4494                    Medicina clinica   \n",
       "4495                Acta clinica Belgica   \n",
       "4496  Clinical journal of sport medicine   \n",
       "\n",
       "                                                  title  \\\n",
       "0     The range of Ixodes ricinus and the risk of co...   \n",
       "1     Low-density microarrays for the detection of B...   \n",
       "2     Infectivity of Borrelia burgdorferi sensu lato...   \n",
       "4     Borrelia species in Ixodes affinis and Ixodes ...   \n",
       "5       Are birds reservoir hosts for Borrelia afzelii?   \n",
       "...                                                 ...   \n",
       "4488  Chagas' cardiomyopathy and Lyme carditis: Less...   \n",
       "4489  Barriers to Effective Tick Management and Tick...   \n",
       "4494                                  Erythema migrans.   \n",
       "4495  Lyme disease in Western Europe: an emerging pr...   \n",
       "4496  Incidence and Prevalence of Borrelia burgdorfe...   \n",
       "\n",
       "                                                authors  \\\n",
       "0     [{'name': 'Thomas G T Jaenson', 'affiliation':...   \n",
       "1     [{'name': 'Julie A Houck', 'affiliation': 'Dep...   \n",
       "2     [{'name': 'N D van Burgel', 'affiliation': 'De...   \n",
       "4     [{'name': 'Ricardo G Maggi', 'affiliation': 'I...   \n",
       "5     [{'name': 'Jan Franke', 'affiliation': 'Instit...   \n",
       "...                                                 ...   \n",
       "4488  [{'name': 'Cynthia Yeung', 'affiliation': \"Dep...   \n",
       "4489  [{'name': 'Lars Eisen', 'affiliation': 'Divisi...   \n",
       "4494  [{'name': 'Fernando García-Souto', 'affiliatio...   \n",
       "4495  [{'name': 'Olivia Vandekerckhove', 'affiliatio...   \n",
       "4496  [{'name': 'Philipp Breitbart', 'affiliation': ...   \n",
       "\n",
       "                                doi    year  cites             type  \\\n",
       "0      10.1016/j.ttbdis.2010.10.006  2011.0      0  Journal Article   \n",
       "1      10.1016/j.ttbdis.2010.10.002  2011.0      0  Journal Article   \n",
       "2      10.1016/j.ttbdis.2010.10.003  2011.0      0  Journal Article   \n",
       "4      10.1016/j.ttbdis.2010.08.003  2010.0      0  Journal Article   \n",
       "5      10.1016/j.ttbdis.2010.03.001  2010.0      0  Journal Article   \n",
       "...                             ...     ...    ...              ...   \n",
       "4488      10.1016/j.tcm.2020.04.004  2021.0      0  Journal Article   \n",
       "4489            10.1093/jme/tjaa079  2021.0      0  Journal Article   \n",
       "4494   10.1016/j.medcli.2019.10.001  2021.0      0  Journal Article   \n",
       "4495  10.1080/17843286.2019.1694293  2021.0      0  Journal Article   \n",
       "4496   10.1097/JSM.0000000000000758  2021.0      0  Journal Article   \n",
       "\n",
       "                                               abstract  article_url  \\\n",
       "0     In Sweden, the geographical distribution of Ly...          NaN   \n",
       "1     Lyme disease is the most common tick-borne dis...          NaN   \n",
       "2     B. burgdorferi, B. afzelii, and B. bavariensis...          NaN   \n",
       "4     Ixodes affinis and I. scapularis are tick spec...          NaN   \n",
       "5     It is known that birds are competent reservoir...          NaN   \n",
       "...                                                 ...          ...   \n",
       "4488  Chagas' disease and Lyme disease are two endem...          NaN   \n",
       "4489  Lyme and other tick-borne diseases are increas...          NaN   \n",
       "4494                                                NaN          NaN   \n",
       "4495  Objectives: Lyme borreliosis is the most commo...          NaN   \n",
       "4496  Infections with Borrelia burgdorferi can cause...          NaN   \n",
       "\n",
       "      fulltext_url  abstractLength  pubmed  \n",
       "0              NaN          1370.0       1  \n",
       "1              NaN           932.0       1  \n",
       "2              NaN          1428.0       1  \n",
       "4              NaN          1576.0       1  \n",
       "5              NaN           783.0       1  \n",
       "...            ...             ...     ...  \n",
       "4488           NaN           913.0       1  \n",
       "4489           NaN          1750.0       1  \n",
       "4494           NaN             NaN       1  \n",
       "4495           NaN          1684.0       1  \n",
       "4496           NaN          1689.0       1  \n",
       "\n",
       "[3300 rows x 12 columns]"
      ]
     },
     "execution_count": 7,
     "metadata": {},
     "output_type": "execute_result"
    }
   ],
   "source": [
    "LymeDisease"
   ]
  },
  {
   "cell_type": "code",
   "execution_count": 8,
   "metadata": {
    "ExecuteTime": {
     "end_time": "2021-10-01T23:51:12.807715Z",
     "start_time": "2021-10-01T23:51:12.795439Z"
    }
   },
   "outputs": [
    {
     "name": "stdout",
     "output_type": "stream",
     "text": [
      "<class 'pandas.core.frame.DataFrame'>\n",
      "Int64Index: 3300 entries, 0 to 4496\n",
      "Data columns (total 12 columns):\n",
      " #   Column          Non-Null Count  Dtype  \n",
      "---  ------          --------------  -----  \n",
      " 0   publication     3300 non-null   object \n",
      " 1   title           3299 non-null   object \n",
      " 2   authors         3287 non-null   object \n",
      " 3   doi             3159 non-null   object \n",
      " 4   year            3297 non-null   float64\n",
      " 5   cites           3300 non-null   int64  \n",
      " 6   type            3300 non-null   object \n",
      " 7   abstract        3162 non-null   object \n",
      " 8   article_url     0 non-null      float64\n",
      " 9   fulltext_url    0 non-null      float64\n",
      " 10  abstractLength  3162 non-null   float64\n",
      " 11  pubmed          3300 non-null   int64  \n",
      "dtypes: float64(4), int64(2), object(6)\n",
      "memory usage: 335.2+ KB\n"
     ]
    }
   ],
   "source": [
    "LymeDisease.info()"
   ]
  },
  {
   "cell_type": "code",
   "execution_count": 19,
   "metadata": {
    "ExecuteTime": {
     "end_time": "2021-10-01T23:54:39.301973Z",
     "start_time": "2021-10-01T23:54:39.297179Z"
    }
   },
   "outputs": [
    {
     "data": {
      "text/plain": [
       "'Lyme disease is the most common tick-borne disease in Europe and North America. In the hyperendemic Lyme disease regions of the eastern United States, nymphal Ixodes scapularis are the principal ticks transmitting the Lyme disease spirochete, Borrelia burgdorferi sensu stricto (s.s.). Approximately 25% of questing nymphs in endemic regions are infected with spirochetes. High throughput-sensitive and specific methods for testing nymphal I. scapularis for infection with B. burgdorferi are clearly needed. In the current study, we evaluated whether low-density microarrays could be adapted for the rapid and accurate detection and characterization of spirochetes in nymphal I. scapularis. Three different microarray platforms were developed and tested for the detection of spirochetes in ticks. They could both detect and differentiate different Borrelia genospecies, in one case detecting as few as a single copy of Borrelia DNA.'"
      ]
     },
     "execution_count": 19,
     "metadata": {},
     "output_type": "execute_result"
    }
   ],
   "source": [
    "text = LymeDisease.loc[1]['abstract']\n",
    "text"
   ]
  },
  {
   "cell_type": "markdown",
   "metadata": {},
   "source": [
    "## Additional Cleaning"
   ]
  },
  {
   "cell_type": "markdown",
   "metadata": {},
   "source": [
    "### Filter Duplicates and Records missing an Abstract & DOI"
   ]
  },
  {
   "cell_type": "code",
   "execution_count": 9,
   "metadata": {
    "ExecuteTime": {
     "end_time": "2021-10-01T23:51:12.886444Z",
     "start_time": "2021-10-01T23:51:12.879248Z"
    }
   },
   "outputs": [],
   "source": [
    "LymeDisease = LymeDisease[(LymeDisease.abstract.notna() & LymeDisease.doi.notna() )]"
   ]
  },
  {
   "cell_type": "code",
   "execution_count": 10,
   "metadata": {
    "ExecuteTime": {
     "end_time": "2021-10-01T23:51:13.001952Z",
     "start_time": "2021-10-01T23:51:12.973326Z"
    }
   },
   "outputs": [
    {
     "name": "stderr",
     "output_type": "stream",
     "text": [
      "/Users/myfriendscallmej/anaconda3/lib/python3.7/site-packages/ipykernel_launcher.py:1: SettingWithCopyWarning: \n",
      "A value is trying to be set on a copy of a slice from a DataFrame\n",
      "\n",
      "See the caveats in the documentation: https://pandas.pydata.org/pandas-docs/stable/user_guide/indexing.html#returning-a-view-versus-a-copy\n",
      "  \"\"\"Entry point for launching an IPython kernel.\n"
     ]
    }
   ],
   "source": [
    "LymeDisease.drop_duplicates(inplace=True)"
   ]
  },
  {
   "cell_type": "code",
   "execution_count": 32,
   "metadata": {
    "ExecuteTime": {
     "end_time": "2021-10-02T00:04:24.182853Z",
     "start_time": "2021-10-02T00:04:24.179290Z"
    }
   },
   "outputs": [],
   "source": [
    "LymeDisease.reset_index(inplace=True)"
   ]
  },
  {
   "cell_type": "markdown",
   "metadata": {},
   "source": [
    "### Clean Text (first pass)"
   ]
  },
  {
   "cell_type": "code",
   "execution_count": 607,
   "metadata": {
    "ExecuteTime": {
     "end_time": "2021-10-03T01:56:32.524168Z",
     "start_time": "2021-10-03T01:56:32.519250Z"
    }
   },
   "outputs": [],
   "source": [
    "def clean_text(text):\n",
    "#     text = str(text).lower() #make lower\n",
    "#     text = re.sub('https?://\\S+|www\\.\\S+', '', text) #remove links\n",
    "    text = re.sub('<.*?>', '', text) #remove rmaining html tags\n",
    "    text = re.sub('\\u2009', ' ', text) #remove unicde charcter for thin space\n",
    "#     text = re.sub(\"[^-9A-Za-z ]\", '' , text) #remove double quotation and any punctuation\n",
    "#     text = re.sub('\\w*\\d\\w*', '', text) #remove numbers\n",
    "    text = re.sub('-', ' ', text) #replace hyphen with space\n",
    "    text = re.sub(' +', ' ', text) #remove extra whitespace\n",
    "    \n",
    "    #\n",
    "    text = re.sub('spp.', 'spp', text)\n",
    "    text = re.sub('sp.', 'sp', text)\n",
    "    text = re.sub('cf.', 'cf', text)\n",
    "    text = re.sub('aff.', 'aff', text)\n",
    "    text = re.sub('var.', 'var', text)\n",
    "    return text"
   ]
  },
  {
   "cell_type": "code",
   "execution_count": 608,
   "metadata": {
    "ExecuteTime": {
     "end_time": "2021-10-03T01:56:35.820662Z",
     "start_time": "2021-10-03T01:56:35.536949Z"
    }
   },
   "outputs": [
    {
     "name": "stderr",
     "output_type": "stream",
     "text": [
      "/Users/myfriendscallmej/anaconda3/lib/python3.7/site-packages/ipykernel_launcher.py:1: SettingWithCopyWarning: \n",
      "A value is trying to be set on a copy of a slice from a DataFrame.\n",
      "Try using .loc[row_indexer,col_indexer] = value instead\n",
      "\n",
      "See the caveats in the documentation: https://pandas.pydata.org/pandas-docs/stable/user_guide/indexing.html#returning-a-view-versus-a-copy\n",
      "  \"\"\"Entry point for launching an IPython kernel.\n"
     ]
    }
   ],
   "source": [
    "LymeDisease['clean_text'] = LymeDisease['abstract'].apply(clean_text)"
   ]
  },
  {
   "cell_type": "markdown",
   "metadata": {},
   "source": [
    "### Normalise Species Names"
   ]
  },
  {
   "cell_type": "markdown",
   "metadata": {},
   "source": [
    "Species names can appear in an inconsistent formats. *Genus species, G. species, G. species sub species, G. species s. s.* etc so normalising them may give a better picture of common words and n-grams. The function below finds the abbreviated forms of species names (normally a second mention) and then matches with a preceeding full name earlier in the text and then converts both the abbreviated and full mention to camel case GenusSpecies. It so far does not cath all of them but has picked up over 100 variations and can be further refined."
   ]
  },
  {
   "cell_type": "code",
   "execution_count": 594,
   "metadata": {
    "ExecuteTime": {
     "end_time": "2021-10-02T23:32:44.456408Z",
     "start_time": "2021-10-02T23:32:44.438269Z"
    }
   },
   "outputs": [],
   "source": [
    "def normaliseSpeciesNames(text):\n",
    "\n",
    "    speciesShortName =''\n",
    "    speciesShortNamesList = []\n",
    "    speciesShortNameTokens = []\n",
    "    speciesShortNameTokensList = []\n",
    "    speciesFullNameList = []\n",
    "    camelCaseList = []\n",
    "    replaceDict = {}\n",
    "    \n",
    "    doc = nlp(text) #tokenise with SpaCy\n",
    "    \n",
    "    for token in doc[:-1]:\n",
    "        if token.shape_ == 'X.':\n",
    "            speciesShortName = speciesShortName + str(token)\n",
    "            speciesShortNameTokens.append(token)\n",
    "            j=1        \n",
    "            while (doc[token.i+j].shape_ == 'x.' or\n",
    "                   (doc[token.i+j].is_alpha and \n",
    "                    doc[token.i+j].is_stop==False and #not a stopword\n",
    "                    doc[token.i+j].is_oov and #not in SpaCy vocab\n",
    "                    doc[token.i+j].lemma_ == doc[token.i+j].text and #is already in lemmatised form\n",
    "                    doc[token.i+j].text not in nltk.corpus.words.words())): #not in NLTK vocab\n",
    "                speciesShortName += ' ' + str(doc[token.i+j])\n",
    "                speciesShortNameTokens.append(doc[token.i+j])\n",
    "                j+=1\n",
    "                if token.i+j >= len(doc): \n",
    "                    break\n",
    "#                 print(speciesShortName)\n",
    "            if (len(speciesShortNameTokens)>1 and speciesShortName not in speciesShortNamesList):\n",
    "                speciesShortNamesList.append(speciesShortName)\n",
    "                speciesShortNameTokensList.append(speciesShortNameTokens)\n",
    "                \n",
    "                #SpaCy process for pattern matching\n",
    "                matcher = Matcher(nlp.vocab)\n",
    "                letter = \"^\" + speciesShortNameTokens[0].text[0]\n",
    "                pattern = [{\"SHAPE\": \"Xxxxx\", \"TEXT\": {\"REGEX\": letter}}] #find capitalised word beginning with correct letter\n",
    "                for tkn in speciesShortNameTokens[1:]:\n",
    "                    if tkn.shape_ =='x.':\n",
    "                        letter = \"^\" + tkn.text[0]\n",
    "                        pattern.append({\"SHAPE\": \"xxxx\", \"TEXT\": {\"REGEX\": letter}}) #find non-capitalised word beginning with correct letter\n",
    "                    else:\n",
    "                        pattern.append({\"TEXT\": tkn.text})\n",
    "                matcher.add(\"Species_Pattern\", [pattern])\n",
    "                matches = matcher(doc)\n",
    "                if len(matches)>0:\n",
    "                    start = matches[0][1]\n",
    "                    end =  matches[0][2]\n",
    "                    matched_span = doc[start:end]\n",
    "                    speciesFullNameList.append(matched_span.text)\n",
    "            speciesShortName=''\n",
    "            speciesShortNameTokens=[]\n",
    "\n",
    "    for name in speciesFullNameList:\n",
    "        camel = ''.join(word.capitalize() for word in name.split(' '))\n",
    "        camelCaseList.append(camel)\n",
    "    \n",
    "    for short, long, camel in zip(speciesShortNamesList, speciesFullNameList, camelCaseList):\n",
    "        replaceDict[short] = camel\n",
    "        replaceDict[long] = camel\n",
    "        namesDict[long]=camel\n",
    "        \n",
    "#     for short, long in zip(speciesShortNamesList, speciesFullNameList):\n",
    "#         print(short,long)\n",
    "          \n",
    "    #sort dictionary of words to replace by length so longest names are changed first\n",
    "    sortedKeyList = sorted(replaceDict.keys(), key=lambda s: len(replaceDict.get(s)), reverse = True)\n",
    "\n",
    "    for index in range(len(sortedKeyList)):\n",
    "        text = re.sub(sortedKeyList[index], replaceDict[sortedKeyList[index]], text)\n",
    "    \n",
    "    return text"
   ]
  },
  {
   "cell_type": "code",
   "execution_count": 595,
   "metadata": {
    "ExecuteTime": {
     "end_time": "2021-10-02T23:32:45.769497Z",
     "start_time": "2021-10-02T23:32:45.766955Z"
    }
   },
   "outputs": [],
   "source": [
    "#global variable to collect names \n",
    "namesDict = {}"
   ]
  },
  {
   "cell_type": "code",
   "execution_count": 612,
   "metadata": {
    "ExecuteTime": {
     "end_time": "2021-10-03T02:23:22.085403Z",
     "start_time": "2021-10-03T02:11:07.168047Z"
    }
   },
   "outputs": [
    {
     "name": "stderr",
     "output_type": "stream",
     "text": [
      "/Users/myfriendscallmej/anaconda3/lib/python3.7/site-packages/ipykernel_launcher.py:1: SettingWithCopyWarning: \n",
      "A value is trying to be set on a copy of a slice from a DataFrame.\n",
      "Try using .loc[row_indexer,col_indexer] = value instead\n",
      "\n",
      "See the caveats in the documentation: https://pandas.pydata.org/pandas-docs/stable/user_guide/indexing.html#returning-a-view-versus-a-copy\n",
      "  \"\"\"Entry point for launching an IPython kernel.\n"
     ]
    }
   ],
   "source": [
    "LymeDisease['clean_abstract'] = LymeDisease['clean_text'].apply(normaliseSpeciesNames)"
   ]
  },
  {
   "cell_type": "code",
   "execution_count": 631,
   "metadata": {
    "ExecuteTime": {
     "end_time": "2021-10-03T03:42:44.613276Z",
     "start_time": "2021-10-03T03:42:44.601023Z"
    }
   },
   "outputs": [
    {
     "name": "stdout",
     "output_type": "stream",
     "text": [
      "<class 'pandas.core.frame.DataFrame'>\n",
      "RangeIndex: 2720 entries, 0 to 2719\n",
      "Data columns (total 15 columns):\n",
      " #   Column          Non-Null Count  Dtype  \n",
      "---  ------          --------------  -----  \n",
      " 0   index           2720 non-null   int64  \n",
      " 1   publication     2720 non-null   object \n",
      " 2   title           2720 non-null   object \n",
      " 3   authors         2717 non-null   object \n",
      " 4   doi             2720 non-null   object \n",
      " 5   year            2720 non-null   float64\n",
      " 6   cites           2720 non-null   int64  \n",
      " 7   type            2720 non-null   object \n",
      " 8   abstract        2720 non-null   object \n",
      " 9   article_url     0 non-null      float64\n",
      " 10  fulltext_url    0 non-null      float64\n",
      " 11  abstractLength  2720 non-null   float64\n",
      " 12  pubmed          2720 non-null   int64  \n",
      " 13  clean_text      2720 non-null   object \n",
      " 14  clean_abstract  2720 non-null   object \n",
      "dtypes: float64(4), int64(3), object(8)\n",
      "memory usage: 318.9+ KB\n"
     ]
    }
   ],
   "source": [
    "LymeDisease.info()"
   ]
  },
  {
   "cell_type": "code",
   "execution_count": 614,
   "metadata": {
    "ExecuteTime": {
     "end_time": "2021-10-03T02:29:02.460621Z",
     "start_time": "2021-10-03T02:29:02.457162Z"
    }
   },
   "outputs": [
    {
     "data": {
      "text/plain": [
       "185"
      ]
     },
     "execution_count": 614,
     "metadata": {},
     "output_type": "execute_result"
    }
   ],
   "source": [
    "len(namesDict)"
   ]
  },
  {
   "cell_type": "code",
   "execution_count": 615,
   "metadata": {
    "ExecuteTime": {
     "end_time": "2021-10-03T02:29:02.491213Z",
     "start_time": "2021-10-03T02:29:02.483921Z"
    },
    "scrolled": true
   },
   "outputs": [
    {
     "data": {
      "text/plain": [
       "{'Ixodes scapularis': 'IxodesScapularis',\n",
       " 'Borrelia burgdorferi': 'BorreliaBurgdorferi',\n",
       " 'Ixodes affinis': 'IxodesAffinis',\n",
       " 'Borrelia burgdorferi sensu stricto': 'BorreliaBurgdorferiSensuStricto',\n",
       " 'Borrelia afzelii': 'BorreliaAfzelii',\n",
       " 'Borrelia persica': 'BorreliaPersica',\n",
       " 'Ornithodoros tholozani': 'OrnithodorosTholozani',\n",
       " 'Borrelia burgdorferi sensu lato': 'BorreliaBurgdorferiSensuLato',\n",
       " 'Ixodes pacificus': 'IxodesPacificus',\n",
       " 'Peromyscus maniculatus': 'PeromyscusManiculatus',\n",
       " 'Ixodes hexagonus': 'IxodesHexagonus',\n",
       " 'Dermacentor reticulatus': 'DermacentorReticulatus',\n",
       " 'Borrelia garinii': 'BorreliaGarinii',\n",
       " 'Anaplasma phagocytophilum': 'AnaplasmaPhagocytophilum',\n",
       " 'Francisella tularensis': 'FrancisellaTularensis',\n",
       " 'Ixodes auritulus': 'IxodesAuritulus',\n",
       " 'Orientia tsutsugamushi': 'OrientiaTsutsugamushi',\n",
       " 'Coxiella burnetii': 'CoxiellaBurnetii',\n",
       " 'Borrelia lusitaniae': 'BorreliaLusitaniae',\n",
       " 'Borrelia hermsii': 'BorreliaHermsii',\n",
       " 'Sciurus griseus': 'SciurusGriseus',\n",
       " 'Borrelia spielmanii': 'BorreliaSpielmanii',\n",
       " 'Argas persicus': 'ArgasPersicus',\n",
       " 'Erinaceus europaeus': 'ErinaceusEuropaeus',\n",
       " 'Borrelia miyamotoi': 'BorreliaMiyamotoi',\n",
       " 'Amblyomma americanum': 'AmblyommaAmericanum',\n",
       " 'Dermacentor variabilis': 'DermacentorVariabilis',\n",
       " 'Ixodes spinipalpis': 'IxodesSpinipalpis',\n",
       " 'Ehrlichia canis': 'EhrlichiaCanis',\n",
       " 'Dirofilaria immitis': 'DirofilariaImmitis',\n",
       " 'Haemaphysalis concinna': 'HaemaphysalisConcinna',\n",
       " 'Ixodes acuminatus': 'IxodesAcuminatus',\n",
       " 'Anaplasma phagocytophium': 'AnaplasmaPhagocytophium',\n",
       " 'Microtus ochrogaster': 'MicrotusOchrogaster',\n",
       " 'Rhipicephalus sanguineus': 'RhipicephalusSanguineus',\n",
       " 'Dermacentor marginatus': 'DermacentorMarginatus',\n",
       " 'Peromyscus leucopus': 'PeromyscusLeucopus',\n",
       " 'Ixodes persulcatus': 'IxodesPersulcatus',\n",
       " 'Borrelia andersonii': 'BorreliaAndersonii',\n",
       " 'Ixodes dentatus': 'IxodesDentatus',\n",
       " 'Borrelia afzelli': 'BorreliaAfzelli',\n",
       " 'Bartonella henselae': 'BartonellaHenselae',\n",
       " 'Yersinia pestis': 'YersiniaPestis',\n",
       " 'Turdus merula': 'TurdusMerula',\n",
       " 'Rickettsia slovaca': 'RickettsiaSlovaca',\n",
       " 'Borrelia burgdorferii sensu stricto': 'BorreliaBurgdorferiiSensuStricto',\n",
       " 'Borrellia burgdorferi': 'BorrelliaBurgdorferi',\n",
       " 'Capreolus capreolus': 'CapreolusCapreolus',\n",
       " 'Borrelia valaisiana': 'BorreliaValaisiana',\n",
       " 'Borrelia bissettii': 'BorreliaBissettii',\n",
       " 'Treponema pallidum': 'TreponemaPallidum',\n",
       " 'Rickettsia helvetica': 'RickettsiaHelvetica',\n",
       " 'Neoehrlichia mikurensis': 'NeoehrlichiaMikurensis',\n",
       " 'Apodemus sylvaticus': 'ApodemusSylvaticus',\n",
       " 'Myodes glareolus': 'MyodesGlareolus',\n",
       " 'Borrelia bavariensis sp': 'BorreliaBavariensisSp',\n",
       " 'Babesia microti': 'BabesiaMicroti',\n",
       " 'Ixodes holocyclus': 'IxodesHolocyclus',\n",
       " 'Ixodes cornuatus': 'IxodesCornuatus',\n",
       " 'Borreila burgdorferi': 'BorreilaBurgdorferi',\n",
       " 'Theileria equi': 'TheileriaEqui',\n",
       " 'Babesia caballi': 'BabesiaCaballi',\n",
       " 'Ixodes cookei': 'IxodesCookei',\n",
       " 'Borrelia burgdorferi sl': 'BorreliaBurgdorferiSl',\n",
       " 'Ixodes arboricola': 'IxodesArboricola',\n",
       " 'Ixodes pavlovskyi': 'IxodesPavlovskyi',\n",
       " 'Ixodes ovatus': 'IxodesOvatus',\n",
       " 'Ornithodoros sonrai': 'OrnithodorosSonrai',\n",
       " 'Borrelia crocidurae': 'BorreliaCrocidurae',\n",
       " 'Borrelia miyamotoi sensu lato': 'BorreliaMiyamotoiSensuLato',\n",
       " 'Sceloporus undulatus': 'SceloporusUndulatus',\n",
       " 'Amblyomma maculatum': 'AmblyommaMaculatum',\n",
       " 'Ixodes sinensis': 'IxodesSinensis',\n",
       " 'Ehrlichia chaffeensis': 'EhrlichiaChaffeensis',\n",
       " 'Ehrlichia ruminantium': 'EhrlichiaRuminantium',\n",
       " 'Toxoplasma gondii': 'ToxoplasmaGondii',\n",
       " 'Toxocara canis': 'ToxocaraCanis',\n",
       " 'Dermacentor nuttalli': 'DermacentorNuttalli',\n",
       " 'Borrelia americana': 'BorreliaAmericana',\n",
       " 'Sciurus vulgaris': 'SciurusVulgaris',\n",
       " 'Rickettsia monacensis': 'RickettsiaMonacensis',\n",
       " 'Amblyomma triguttatum': 'AmblyommaTriguttatum',\n",
       " 'Sorex araneus': 'SorexAraneus',\n",
       " 'Rickettsia typhi': 'RickettsiaTyphi',\n",
       " 'Dermacentor silvarum': 'DermacentorSilvarum',\n",
       " 'Haemaphysalis leporispalustris': 'HaemaphysalisLeporispalustris',\n",
       " 'Treponema denticola': 'TreponemaDenticola',\n",
       " 'Borrelia hispanica': 'BorreliaHispanica',\n",
       " 'Rhipicephalus turanicus': 'RhipicephalusTuranicus',\n",
       " 'Hyalomma aegyptium': 'HyalommaAegyptium',\n",
       " 'Tamias sibiricus': 'TamiasSibiricus',\n",
       " 'Borrelia bavariensis': 'BorreliaBavariensis',\n",
       " 'Trypanosoma brucei': 'TrypanosomaBrucei',\n",
       " 'Haemaphysalis punctata': 'HaemaphysalisPunctata',\n",
       " 'Borrelia turdi': 'BorreliaTurdi',\n",
       " 'Borrelia mayonii': 'BorreliaMayonii',\n",
       " 'Rattus rattus': 'RattusRattus',\n",
       " 'Ixodes angustus': 'IxodesAngustus',\n",
       " 'Ixodes cf': 'IxodesCf',\n",
       " 'Amblyomma varanense': 'AmblyommaVaranense',\n",
       " 'Python reticulatus': 'PythonReticulatus',\n",
       " 'Ixodes canisuga': 'IxodesCanisuga',\n",
       " 'Angiostrongylus vasorum': 'AngiostrongylusVasorum',\n",
       " 'Leishmania infantum': 'LeishmaniaInfantum',\n",
       " 'Ehrlichia ewingii': 'EhrlichiaEwingii',\n",
       " 'Rickettsia parkeri': 'RickettsiaParkeri',\n",
       " 'Rickettsia rickettsii': 'RickettsiaRickettsii',\n",
       " 'Rickettsia amblyommii': 'RickettsiaAmblyommii',\n",
       " 'Rickettsia aeschlimannii': 'RickettsiaAeschlimannii',\n",
       " 'Anaplasma marginale': 'AnaplasmaMarginale',\n",
       " 'Coleus forskohlii': 'ColeusForskohlii',\n",
       " 'Borrelia turicatae': 'BorreliaTuricatae',\n",
       " 'Metarhizium anisopliae': 'MetarhiziumAnisopliae',\n",
       " 'Haemaphysalis hystricis': 'HaemaphysalisHystricis',\n",
       " 'Borrelia bissettiae': 'BorreliaBissettiae',\n",
       " 'Ixodes uriae': 'IxodesUriae',\n",
       " 'Borreliella burgdorferi': 'BorreliellaBurgdorferi',\n",
       " 'Babesia vogeli': 'BabesiaVogeli',\n",
       " 'Babesia canis': 'BabesiaCanis',\n",
       " 'Trypanosoma cruzi': 'TrypanosomaCruzi',\n",
       " 'Borrelia tachyglossi': 'BorreliaTachyglossi',\n",
       " 'Borellia burgdorferi': 'BorelliaBurgdorferi',\n",
       " 'Babesia venatorum': 'BabesiaVenatorum',\n",
       " 'Ixodes nipponensis': 'IxodesNipponensis',\n",
       " 'Ixodes muris': 'IxodesMuris',\n",
       " 'Babesia odocoilei': 'BabesiaOdocoilei',\n",
       " 'Borrelia turcica': 'BorreliaTurcica',\n",
       " 'Haemaphysalis longicornis': 'HaemaphysalisLongicornis',\n",
       " 'Mycobacterium goodii': 'MycobacteriumGoodii',\n",
       " 'Streptococcus pneumoniae': 'StreptococcusPneumoniae',\n",
       " 'Cistus creticus': 'CistusCreticus',\n",
       " 'Midichloria mitochondrii': 'MidichloriaMitochondrii',\n",
       " 'Sylvia communis': 'SylviaCommunis',\n",
       " 'Erithacus rubecula': 'ErithacusRubecula',\n",
       " 'Borrelia burgdorferi spp': 'BorreliaBurgdorferiSpp',\n",
       " 'Anaplasma phagocytophillum': 'AnaplasmaPhagocytophillum',\n",
       " 'Ehrlihia muris': 'EhrlihiaMuris',\n",
       " 'Borrelia yangtzensis': 'BorreliaYangtzensis',\n",
       " 'Anaplasma platys': 'AnaplasmaPlatys',\n",
       " 'Anaplasma ovis': 'AnaplasmaOvis',\n",
       " 'Heteromys irroratus': 'HeteromysIrroratus',\n",
       " 'Sigmodon hispidus': 'SigmodonHispidus',\n",
       " 'Heteromys gaumeri': 'HeteromysGaumeri',\n",
       " 'Ixodes paranaensis': 'IxodesParanaensis',\n",
       " 'Borrelia ibitipoquensis': 'BorreliaIbitipoquensis',\n",
       " 'Ixodiphagus hookeri': 'IxodiphagusHookeri',\n",
       " 'Ornithodoros parkeri': 'OrnithodorosParkeri',\n",
       " 'Bartonella quintana': 'BartonellaQuintana',\n",
       " 'Rickettsia conorii': 'RickettsiaConorii',\n",
       " 'Rickettsia prowazekii': 'RickettsiaProwazekii',\n",
       " 'Borrelia recurrentis': 'BorreliaRecurrentis',\n",
       " 'Anolis sagrei': 'AnolisSagrei',\n",
       " 'Spinturnix americanus': 'SpinturnixAmericanus',\n",
       " 'Babesia gibsoni': 'BabesiaGibsoni',\n",
       " 'Borrelia burgdorferisensu lato': 'BorreliaBurgdorferisensuLato',\n",
       " 'Rickettsia amblyommatis': 'RickettsiaAmblyommatis',\n",
       " 'Spiroplasma ixodetis': 'SpiroplasmaIxodetis',\n",
       " 'Rhipicephalus annulatus': 'RhipicephalusAnnulatus',\n",
       " 'Hyalomma marginatum': 'HyalommaMarginatum',\n",
       " 'Rhipicephalus kohlsi': 'RhipicephalusKohlsi',\n",
       " 'Hyalomma anatolicum': 'HyalommaAnatolicum',\n",
       " 'Dermacentor niveus': 'DermacentorNiveus',\n",
       " 'Borrelia javanense': 'BorreliaJavanense',\n",
       " 'Amblyomma javanense': 'AmblyommaJavanense',\n",
       " 'Manis javanica': 'ManisJavanica',\n",
       " 'Tamias striatus': 'TamiasStriatus',\n",
       " 'Myrmica rubra': 'MyrmicaRubra',\n",
       " 'Dermacentor andersoni': 'DermacentorAndersoni',\n",
       " 'Haemaphysalis flava': 'HaemaphysalisFlava',\n",
       " 'Hyalomma dromedarii': 'HyalommaDromedarii',\n",
       " 'Ixodes affnis': 'IxodesAffnis',\n",
       " 'Borrelia spelmanii': 'BorreliaSpelmanii',\n",
       " 'Dermacentor varabilis': 'DermacentorVarabilis',\n",
       " 'Ixodes spnipalpis': 'IxodesSpnipalpis',\n",
       " 'Borrelia bavarensis sp nov': 'BorreliaBavarensisSpNov',\n",
       " 'Borrelia burgdorferi osp': 'BorreliaBurgdorferiOsp',\n",
       " 'Ehrlichia chaffensis': 'EhrlichiaChaffensis',\n",
       " 'Dermacentor silvarm': 'DermacentorSilvarm',\n",
       " 'Haemaphysalis leporisplustris': 'HaemaphysalisLeporisplustris',\n",
       " 'Borrelia hispnica': 'BorreliaHispnica',\n",
       " 'Borrelia bavarensis': 'BorreliaBavarensis',\n",
       " 'Ixodes cf neuquenensis': 'IxodesCfNeuquenensis',\n",
       " 'Amblyomma varnense': 'AmblyommaVarnense',\n",
       " 'Borrelia burgdorferi sp': 'BorreliaBurgdorferiSp',\n",
       " 'Sigmodon hispdus': 'SigmodonHispdus'}"
      ]
     },
     "execution_count": 615,
     "metadata": {},
     "output_type": "execute_result"
    }
   ],
   "source": [
    "namesDict"
   ]
  },
  {
   "cell_type": "markdown",
   "metadata": {},
   "source": [
    "### Clean Text (second pass)"
   ]
  },
  {
   "cell_type": "code",
   "execution_count": 978,
   "metadata": {
    "ExecuteTime": {
     "end_time": "2021-10-07T21:33:29.484868Z",
     "start_time": "2021-10-07T21:33:29.450193Z"
    }
   },
   "outputs": [],
   "source": [
    "def clean_text2(text):\n",
    "#     text = str(text).lower() #make lower\n",
    "    text = re.sub('https?://\\S+|www\\.\\S+', '', text) #remove links\n",
    "    text = re.sub(\"[^-9A-Za-z ]\", '' , text) #remove double quotation and any punctuation\n",
    "    text = re.sub('\\w*\\d\\w*', '', text) #remove numbers\n",
    "    text = re.sub('b burgdorferi|borrelia burgdorferi', 'BorreliaBurgdorferi', text, flags=re.IGNORECASE)\n",
    "    text = re.sub('BorreliaBurgdorferi s l|BorreliaBurgdorferi sl|Borreliaburgdorferi sensu lato', \n",
    "                  'BorreliaBurgdorferiSensuLato', text, flags=re.IGNORECASE)\n",
    "    text = re.sub('BorreliaBurgdorferi s s|BorreliaBurgdorferi ss|Borreliaburgdorferi sensu stricto', \n",
    "                  'BorreliaBurgdorferiSensuStricto', text, flags=re.IGNORECASE)\n",
    "    text = re.sub('Ixodes ricinus', 'IxodesRicinus', text, flags=re.IGNORECASE)\n",
    "    text = re.sub('spcies', 'species')\n",
    "    \n",
    "#     text = re.sub('Borrelia burgdorferi sensu lato', 'BorreliaBurgdorferiSensuLato', text)\n",
    "#     text = re.sub('Borrelia burgdorferi sensu stricto', 'BorreliaBurgdorferiSensuStricto', text)\n",
    "#     text = re.sub('b burgdorferi sensu lato', 'BorreliaBurgdorferiSensuLato', text)\n",
    "#     text = re.sub('b burgdorferi sensu stricto', 'BorreliaBurgdorferiSensuStricto', text)\n",
    "#     text = re.sub('Borrelia burgdorferi s l', 'BorreliaBurgdorferiSensuLato', text)\n",
    "#     text = re.sub('Borrelia burgdorferi s s', 'BorreliaBurgdorferiSensuStricto', text)\n",
    "#     text = re.sub('BorreliaBurgdorferi sensu lato', 'BorreliaBurgdorferiSensuLato', text)\n",
    "#     text = re.sub('BorreliaBurgdorferi s l', 'BorreliaBurgdorferiSensuLato', text)\n",
    "#     text = re.sub('b burgdorferi', 'BorreliaBurgdorferi', text)\n",
    "#     text = re.sub('Borrelia burgdorferi', 'BorreliaBurgdorferi', text)\n",
    "#     text = re.sub('BorreliaBurgdorferi sl', 'BorreliaBurgdorferiSensuLato', text)\n",
    "    \n",
    "    text = re.sub(' +', ' ', text) #remove extra whitespace\n",
    "     \n",
    "    return text"
   ]
  },
  {
   "cell_type": "code",
   "execution_count": 979,
   "metadata": {
    "ExecuteTime": {
     "end_time": "2021-10-07T21:33:40.414223Z",
     "start_time": "2021-10-07T21:33:39.198211Z"
    }
   },
   "outputs": [
    {
     "name": "stderr",
     "output_type": "stream",
     "text": [
      "/Users/myfriendscallmej/anaconda3/lib/python3.7/site-packages/ipykernel_launcher.py:1: SettingWithCopyWarning: \n",
      "A value is trying to be set on a copy of a slice from a DataFrame.\n",
      "Try using .loc[row_indexer,col_indexer] = value instead\n",
      "\n",
      "See the caveats in the documentation: https://pandas.pydata.org/pandas-docs/stable/user_guide/indexing.html#returning-a-view-versus-a-copy\n",
      "  \"\"\"Entry point for launching an IPython kernel.\n"
     ]
    }
   ],
   "source": [
    "LymeDisease['cleaner_abstract'] = LymeDisease['clean_abstract'].apply(clean_text2)"
   ]
  },
  {
   "cell_type": "markdown",
   "metadata": {},
   "source": [
    "### Adding SpaCy and NLTK tokenised text"
   ]
  },
  {
   "cell_type": "code",
   "execution_count": 980,
   "metadata": {
    "ExecuteTime": {
     "end_time": "2021-10-07T21:33:52.725323Z",
     "start_time": "2021-10-07T21:33:52.721269Z"
    }
   },
   "outputs": [],
   "source": [
    "from nltk.tokenize import RegexpTokenizer\n",
    "\n",
    "#w means tokens are made of only alphanumeric characters where + indicates that they comprise of one or more of such characters\n",
    "tokenizer = RegexpTokenizer('\\w+')"
   ]
  },
  {
   "cell_type": "code",
   "execution_count": 981,
   "metadata": {
    "ExecuteTime": {
     "end_time": "2021-10-07T21:35:32.397878Z",
     "start_time": "2021-10-07T21:33:53.520242Z"
    }
   },
   "outputs": [
    {
     "name": "stderr",
     "output_type": "stream",
     "text": [
      "/Users/myfriendscallmej/anaconda3/lib/python3.7/site-packages/ipykernel_launcher.py:1: SettingWithCopyWarning: \n",
      "A value is trying to be set on a copy of a slice from a DataFrame.\n",
      "Try using .loc[row_indexer,col_indexer] = value instead\n",
      "\n",
      "See the caveats in the documentation: https://pandas.pydata.org/pandas-docs/stable/user_guide/indexing.html#returning-a-view-versus-a-copy\n",
      "  \"\"\"Entry point for launching an IPython kernel.\n",
      "/Users/myfriendscallmej/anaconda3/lib/python3.7/site-packages/ipykernel_launcher.py:2: SettingWithCopyWarning: \n",
      "A value is trying to be set on a copy of a slice from a DataFrame.\n",
      "Try using .loc[row_indexer,col_indexer] = value instead\n",
      "\n",
      "See the caveats in the documentation: https://pandas.pydata.org/pandas-docs/stable/user_guide/indexing.html#returning-a-view-versus-a-copy\n",
      "  \n"
     ]
    }
   ],
   "source": [
    "LymeDisease['tokenisedAbstractSpacy'] = LymeDisease['cleaner_abstract'].apply(nlp)\n",
    "LymeDisease['tokenisedAbstractNLTK'] = LymeDisease['cleaner_abstract'].apply(tokenizer.tokenize)"
   ]
  },
  {
   "cell_type": "code",
   "execution_count": 982,
   "metadata": {
    "ExecuteTime": {
     "end_time": "2021-10-07T21:35:32.476749Z",
     "start_time": "2021-10-07T21:35:32.447246Z"
    }
   },
   "outputs": [
    {
     "name": "stdout",
     "output_type": "stream",
     "text": [
      "<class 'pandas.core.frame.DataFrame'>\n",
      "RangeIndex: 2720 entries, 0 to 2719\n",
      "Data columns (total 27 columns):\n",
      " #   Column                     Non-Null Count  Dtype  \n",
      "---  ------                     --------------  -----  \n",
      " 0   index                      2720 non-null   int64  \n",
      " 1   publication                2720 non-null   object \n",
      " 2   title                      2720 non-null   object \n",
      " 3   authors                    2717 non-null   object \n",
      " 4   doi                        2720 non-null   object \n",
      " 5   year                       2720 non-null   float64\n",
      " 6   cites                      2720 non-null   int64  \n",
      " 7   type                       2720 non-null   object \n",
      " 8   abstract                   2720 non-null   object \n",
      " 9   article_url                0 non-null      float64\n",
      " 10  fulltext_url               0 non-null      float64\n",
      " 11  abstractLength             2720 non-null   float64\n",
      " 12  pubmed                     2720 non-null   int64  \n",
      " 13  clean_text                 2720 non-null   object \n",
      " 14  clean_abstract             2720 non-null   object \n",
      " 15  cleaner_abstract           2720 non-null   object \n",
      " 16  tokenisedAbstractSpacy     2720 non-null   object \n",
      " 17  tokenisedAbstractNLTK      2720 non-null   object \n",
      " 18  abstractNoStopSpacy        2720 non-null   object \n",
      " 19  abstractNoStopNLTK         2720 non-null   object \n",
      " 20  abstractLemmaSpacy         2720 non-null   object \n",
      " 21  abstractLemmaNLTK          2720 non-null   object \n",
      " 22  abstractLemmaNoStopSpacy   2720 non-null   object \n",
      " 23  abstractLemmaNoStopNLTK    2720 non-null   object \n",
      " 24  abstractSentimentScore_TB  2720 non-null   float64\n",
      " 25  abstractSentiment_TB       2720 non-null   object \n",
      " 26  abstractSentiment_TB_NB    2720 non-null   object \n",
      "dtypes: float64(5), int64(3), object(19)\n",
      "memory usage: 573.9+ KB\n"
     ]
    }
   ],
   "source": [
    "LymeDisease.info()"
   ]
  },
  {
   "cell_type": "code",
   "execution_count": 983,
   "metadata": {
    "ExecuteTime": {
     "end_time": "2021-10-07T21:35:32.555430Z",
     "start_time": "2021-10-07T21:35:32.516700Z"
    }
   },
   "outputs": [
    {
     "data": {
      "text/html": [
       "<div>\n",
       "<style scoped>\n",
       "    .dataframe tbody tr th:only-of-type {\n",
       "        vertical-align: middle;\n",
       "    }\n",
       "\n",
       "    .dataframe tbody tr th {\n",
       "        vertical-align: top;\n",
       "    }\n",
       "\n",
       "    .dataframe thead th {\n",
       "        text-align: right;\n",
       "    }\n",
       "</style>\n",
       "<table border=\"1\" class=\"dataframe\">\n",
       "  <thead>\n",
       "    <tr style=\"text-align: right;\">\n",
       "      <th></th>\n",
       "      <th>index</th>\n",
       "      <th>publication</th>\n",
       "      <th>title</th>\n",
       "      <th>authors</th>\n",
       "      <th>doi</th>\n",
       "      <th>year</th>\n",
       "      <th>cites</th>\n",
       "      <th>type</th>\n",
       "      <th>abstract</th>\n",
       "      <th>article_url</th>\n",
       "      <th>...</th>\n",
       "      <th>tokenisedAbstractNLTK</th>\n",
       "      <th>abstractNoStopSpacy</th>\n",
       "      <th>abstractNoStopNLTK</th>\n",
       "      <th>abstractLemmaSpacy</th>\n",
       "      <th>abstractLemmaNLTK</th>\n",
       "      <th>abstractLemmaNoStopSpacy</th>\n",
       "      <th>abstractLemmaNoStopNLTK</th>\n",
       "      <th>abstractSentimentScore_TB</th>\n",
       "      <th>abstractSentiment_TB</th>\n",
       "      <th>abstractSentiment_TB_NB</th>\n",
       "    </tr>\n",
       "  </thead>\n",
       "  <tbody>\n",
       "    <tr>\n",
       "      <th>0</th>\n",
       "      <td>0</td>\n",
       "      <td>Ticks and tick-borne diseases</td>\n",
       "      <td>The range of Ixodes ricinus and the risk of co...</td>\n",
       "      <td>[{'name': 'Thomas G T Jaenson', 'affiliation':...</td>\n",
       "      <td>10.1016/j.ttbdis.2010.10.006</td>\n",
       "      <td>2011.0</td>\n",
       "      <td>0</td>\n",
       "      <td>Journal Article</td>\n",
       "      <td>In Sweden, the geographical distribution of Ly...</td>\n",
       "      <td>NaN</td>\n",
       "      <td>...</td>\n",
       "      <td>[In, Sweden, the, geographical, distribution, ...</td>\n",
       "      <td>Sweden geographical distribution Lyme borrelio...</td>\n",
       "      <td>Sweden geographical distribution Lyme borrelio...</td>\n",
       "      <td>in Sweden the geographical distribution of Lym...</td>\n",
       "      <td>In Sweden the geographical distribution of Lym...</td>\n",
       "      <td>Sweden geographical distribution Lyme borrelio...</td>\n",
       "      <td>Sweden geographical distribution Lyme borrelio...</td>\n",
       "      <td>0.045985</td>\n",
       "      <td>pos</td>\n",
       "      <td>pos</td>\n",
       "    </tr>\n",
       "    <tr>\n",
       "      <th>1</th>\n",
       "      <td>1</td>\n",
       "      <td>Ticks and tick-borne diseases</td>\n",
       "      <td>Low-density microarrays for the detection of B...</td>\n",
       "      <td>[{'name': 'Julie A Houck', 'affiliation': 'Dep...</td>\n",
       "      <td>10.1016/j.ttbdis.2010.10.002</td>\n",
       "      <td>2011.0</td>\n",
       "      <td>0</td>\n",
       "      <td>Journal Article</td>\n",
       "      <td>Lyme disease is the most common tick-borne dis...</td>\n",
       "      <td>NaN</td>\n",
       "      <td>...</td>\n",
       "      <td>[Lyme, disease, is, the, most, common, tick, b...</td>\n",
       "      <td>Lyme disease common tick borne disease Europe ...</td>\n",
       "      <td>Lyme disease common tick borne disease Europe ...</td>\n",
       "      <td>Lyme disease be the most common tick borne dis...</td>\n",
       "      <td>Lyme disease is the most common tick borne dis...</td>\n",
       "      <td>Lyme disease common tick borne disease Europe ...</td>\n",
       "      <td>Lyme disease common tick borne disease Europe ...</td>\n",
       "      <td>0.022198</td>\n",
       "      <td>pos</td>\n",
       "      <td>pos</td>\n",
       "    </tr>\n",
       "    <tr>\n",
       "      <th>2</th>\n",
       "      <td>2</td>\n",
       "      <td>Ticks and tick-borne diseases</td>\n",
       "      <td>Infectivity of Borrelia burgdorferi sensu lato...</td>\n",
       "      <td>[{'name': 'N D van Burgel', 'affiliation': 'De...</td>\n",
       "      <td>10.1016/j.ttbdis.2010.10.003</td>\n",
       "      <td>2011.0</td>\n",
       "      <td>0</td>\n",
       "      <td>Journal Article</td>\n",
       "      <td>B. burgdorferi, B. afzelii, and B. bavariensis...</td>\n",
       "      <td>NaN</td>\n",
       "      <td>...</td>\n",
       "      <td>[BorreliaBurgdorferi, B, afzelii, and, B, bava...</td>\n",
       "      <td>BorreliaBurgdorferi B afzelii B bavarensis res...</td>\n",
       "      <td>BorreliaBurgdorferi B afzelii B bavarensis sho...</td>\n",
       "      <td>BorreliaBurgdorferi B afzelii and b bavarensis...</td>\n",
       "      <td>BorreliaBurgdorferi B afzelii and B bavarensis...</td>\n",
       "      <td>BorreliaBurgdorferi B afzelii b bavarensis res...</td>\n",
       "      <td>BorreliaBurgdorferi B afzelii B bavarensis sho...</td>\n",
       "      <td>0.046591</td>\n",
       "      <td>pos</td>\n",
       "      <td>pos</td>\n",
       "    </tr>\n",
       "    <tr>\n",
       "      <th>3</th>\n",
       "      <td>4</td>\n",
       "      <td>Ticks and tick-borne diseases</td>\n",
       "      <td>Borrelia species in Ixodes affinis and Ixodes ...</td>\n",
       "      <td>[{'name': 'Ricardo G Maggi', 'affiliation': 'I...</td>\n",
       "      <td>10.1016/j.ttbdis.2010.08.003</td>\n",
       "      <td>2010.0</td>\n",
       "      <td>0</td>\n",
       "      <td>Journal Article</td>\n",
       "      <td>Ixodes affinis and I. scapularis are tick spec...</td>\n",
       "      <td>NaN</td>\n",
       "      <td>...</td>\n",
       "      <td>[IxodesAffnis, and, IxodesAffnis, are, tick, s...</td>\n",
       "      <td>IxodesAffnis IxodesAffnis tick spcies widely d...</td>\n",
       "      <td>IxodesAffnis IxodesAffnis tick spcies widely d...</td>\n",
       "      <td>IxodesAffnis and IxodesAffnis be tick spcie th...</td>\n",
       "      <td>IxodesAffnis and IxodesAffnis are tick spcies ...</td>\n",
       "      <td>IxodesAffnis IxodesAffnis tick spcie widely di...</td>\n",
       "      <td>IxodesAffnis IxodesAffnis tick spcies widely d...</td>\n",
       "      <td>0.089603</td>\n",
       "      <td>pos</td>\n",
       "      <td>pos</td>\n",
       "    </tr>\n",
       "    <tr>\n",
       "      <th>4</th>\n",
       "      <td>5</td>\n",
       "      <td>Ticks and tick-borne diseases</td>\n",
       "      <td>Are birds reservoir hosts for Borrelia afzelii?</td>\n",
       "      <td>[{'name': 'Jan Franke', 'affiliation': 'Instit...</td>\n",
       "      <td>10.1016/j.ttbdis.2010.03.001</td>\n",
       "      <td>2010.0</td>\n",
       "      <td>0</td>\n",
       "      <td>Journal Article</td>\n",
       "      <td>It is known that birds are competent reservoir...</td>\n",
       "      <td>NaN</td>\n",
       "      <td>...</td>\n",
       "      <td>[It, is, known, that, birds, are, competent, r...</td>\n",
       "      <td>known birds competent reservoir hosts particul...</td>\n",
       "      <td>known birds competent reservoir hosts particul...</td>\n",
       "      <td>it be know that bird be competent reservoir ho...</td>\n",
       "      <td>It is known that bird are competent reservoir ...</td>\n",
       "      <td>know bird competent reservoir host particular ...</td>\n",
       "      <td>known bird competent reservoir host particular...</td>\n",
       "      <td>0.157995</td>\n",
       "      <td>pos</td>\n",
       "      <td>pos</td>\n",
       "    </tr>\n",
       "  </tbody>\n",
       "</table>\n",
       "<p>5 rows × 27 columns</p>\n",
       "</div>"
      ],
      "text/plain": [
       "   index                    publication  \\\n",
       "0      0  Ticks and tick-borne diseases   \n",
       "1      1  Ticks and tick-borne diseases   \n",
       "2      2  Ticks and tick-borne diseases   \n",
       "3      4  Ticks and tick-borne diseases   \n",
       "4      5  Ticks and tick-borne diseases   \n",
       "\n",
       "                                               title  \\\n",
       "0  The range of Ixodes ricinus and the risk of co...   \n",
       "1  Low-density microarrays for the detection of B...   \n",
       "2  Infectivity of Borrelia burgdorferi sensu lato...   \n",
       "3  Borrelia species in Ixodes affinis and Ixodes ...   \n",
       "4    Are birds reservoir hosts for Borrelia afzelii?   \n",
       "\n",
       "                                             authors  \\\n",
       "0  [{'name': 'Thomas G T Jaenson', 'affiliation':...   \n",
       "1  [{'name': 'Julie A Houck', 'affiliation': 'Dep...   \n",
       "2  [{'name': 'N D van Burgel', 'affiliation': 'De...   \n",
       "3  [{'name': 'Ricardo G Maggi', 'affiliation': 'I...   \n",
       "4  [{'name': 'Jan Franke', 'affiliation': 'Instit...   \n",
       "\n",
       "                            doi    year  cites             type  \\\n",
       "0  10.1016/j.ttbdis.2010.10.006  2011.0      0  Journal Article   \n",
       "1  10.1016/j.ttbdis.2010.10.002  2011.0      0  Journal Article   \n",
       "2  10.1016/j.ttbdis.2010.10.003  2011.0      0  Journal Article   \n",
       "3  10.1016/j.ttbdis.2010.08.003  2010.0      0  Journal Article   \n",
       "4  10.1016/j.ttbdis.2010.03.001  2010.0      0  Journal Article   \n",
       "\n",
       "                                            abstract  article_url  ...  \\\n",
       "0  In Sweden, the geographical distribution of Ly...          NaN  ...   \n",
       "1  Lyme disease is the most common tick-borne dis...          NaN  ...   \n",
       "2  B. burgdorferi, B. afzelii, and B. bavariensis...          NaN  ...   \n",
       "3  Ixodes affinis and I. scapularis are tick spec...          NaN  ...   \n",
       "4  It is known that birds are competent reservoir...          NaN  ...   \n",
       "\n",
       "                               tokenisedAbstractNLTK  \\\n",
       "0  [In, Sweden, the, geographical, distribution, ...   \n",
       "1  [Lyme, disease, is, the, most, common, tick, b...   \n",
       "2  [BorreliaBurgdorferi, B, afzelii, and, B, bava...   \n",
       "3  [IxodesAffnis, and, IxodesAffnis, are, tick, s...   \n",
       "4  [It, is, known, that, birds, are, competent, r...   \n",
       "\n",
       "                                 abstractNoStopSpacy  \\\n",
       "0  Sweden geographical distribution Lyme borrelio...   \n",
       "1  Lyme disease common tick borne disease Europe ...   \n",
       "2  BorreliaBurgdorferi B afzelii B bavarensis res...   \n",
       "3  IxodesAffnis IxodesAffnis tick spcies widely d...   \n",
       "4  known birds competent reservoir hosts particul...   \n",
       "\n",
       "                                  abstractNoStopNLTK  \\\n",
       "0  Sweden geographical distribution Lyme borrelio...   \n",
       "1  Lyme disease common tick borne disease Europe ...   \n",
       "2  BorreliaBurgdorferi B afzelii B bavarensis sho...   \n",
       "3  IxodesAffnis IxodesAffnis tick spcies widely d...   \n",
       "4  known birds competent reservoir hosts particul...   \n",
       "\n",
       "                                  abstractLemmaSpacy  \\\n",
       "0  in Sweden the geographical distribution of Lym...   \n",
       "1  Lyme disease be the most common tick borne dis...   \n",
       "2  BorreliaBurgdorferi B afzelii and b bavarensis...   \n",
       "3  IxodesAffnis and IxodesAffnis be tick spcie th...   \n",
       "4  it be know that bird be competent reservoir ho...   \n",
       "\n",
       "                                   abstractLemmaNLTK  \\\n",
       "0  In Sweden the geographical distribution of Lym...   \n",
       "1  Lyme disease is the most common tick borne dis...   \n",
       "2  BorreliaBurgdorferi B afzelii and B bavarensis...   \n",
       "3  IxodesAffnis and IxodesAffnis are tick spcies ...   \n",
       "4  It is known that bird are competent reservoir ...   \n",
       "\n",
       "                            abstractLemmaNoStopSpacy  \\\n",
       "0  Sweden geographical distribution Lyme borrelio...   \n",
       "1  Lyme disease common tick borne disease Europe ...   \n",
       "2  BorreliaBurgdorferi B afzelii b bavarensis res...   \n",
       "3  IxodesAffnis IxodesAffnis tick spcie widely di...   \n",
       "4  know bird competent reservoir host particular ...   \n",
       "\n",
       "                             abstractLemmaNoStopNLTK  \\\n",
       "0  Sweden geographical distribution Lyme borrelio...   \n",
       "1  Lyme disease common tick borne disease Europe ...   \n",
       "2  BorreliaBurgdorferi B afzelii B bavarensis sho...   \n",
       "3  IxodesAffnis IxodesAffnis tick spcies widely d...   \n",
       "4  known bird competent reservoir host particular...   \n",
       "\n",
       "  abstractSentimentScore_TB abstractSentiment_TB abstractSentiment_TB_NB  \n",
       "0                  0.045985                  pos                     pos  \n",
       "1                  0.022198                  pos                     pos  \n",
       "2                  0.046591                  pos                     pos  \n",
       "3                  0.089603                  pos                     pos  \n",
       "4                  0.157995                  pos                     pos  \n",
       "\n",
       "[5 rows x 27 columns]"
      ]
     },
     "execution_count": 983,
     "metadata": {},
     "output_type": "execute_result"
    }
   ],
   "source": [
    "LymeDisease.head()"
   ]
  },
  {
   "cell_type": "code",
   "execution_count": 1216,
   "metadata": {
    "ExecuteTime": {
     "end_time": "2021-10-08T03:40:30.432612Z",
     "start_time": "2021-10-08T03:40:30.423983Z"
    }
   },
   "outputs": [
    {
     "data": {
      "text/plain": [
       "'Ixodes affinis and I. scapularis are tick species that are widely distributed in the coastal plain region of North Carolina. Both tick species are considered enzootic vectors for spirochetal bacteria of the genus Borrelia and specifically for B. burgdorferi s.s., the pathogen most often attributed as the cause of Lyme disease in the USA. Laboratory testing of individual I. affinis and I. scapularis ticks for the presence of Borrelia DNA was accomplished by PCR, targeting 2 regions of the 16S-23S intergenic spacer. In I. affinis, Borrelia DNA was detected in 63.2% of 155 individual ticks. B. burgdorferi s.s. and B. bissettii were identified by DNA sequencing in 33.5% and 27.9% I. affinis, respectively. Statistical differences were found for sex distribution of Borrelia DNA between I. affinis females (76.8%) and I. affinis males (55.6%) where B. burgdorferi s.s. was more prevalent in females (44.6%) than in males (27.3%). In I. scapularis, 298 individually tested ticks yielded no Borrelia PCR-positive results. This study found a higher incidence of Borrelia spp. in I. affinis collected in coastal North Carolina as compared to previous reports for this tick species in other Southern states, highlighting the potential importance of I. affinis in the maintenance of the enzootic transmission cycle of B. burgdorferi s.l. in North Carolina. The lack of Borrelia DNA in I. scapularis highlights the need for additional studies to better define the transmission cycle for B. burgdorferi s.s. in the southeastern USA and specifically in the state of North Carolina.'"
      ]
     },
     "execution_count": 1216,
     "metadata": {},
     "output_type": "execute_result"
    }
   ],
   "source": [
    "LymeDisease.loc[3].abstract"
   ]
  },
  {
   "cell_type": "markdown",
   "metadata": {},
   "source": [
    "### Remove Stopwords"
   ]
  },
  {
   "cell_type": "code",
   "execution_count": 984,
   "metadata": {
    "ExecuteTime": {
     "end_time": "2021-10-07T21:35:32.606313Z",
     "start_time": "2021-10-07T21:35:32.599269Z"
    }
   },
   "outputs": [],
   "source": [
    "from nltk.corpus import stopwords\n",
    "stoplist = set(stopwords.words(\"english\"))"
   ]
  },
  {
   "cell_type": "code",
   "execution_count": 985,
   "metadata": {
    "ExecuteTime": {
     "end_time": "2021-10-07T21:35:32.649422Z",
     "start_time": "2021-10-07T21:35:32.646289Z"
    }
   },
   "outputs": [],
   "source": [
    "def removeStopwordsSpaCy(spacy_doc):\n",
    "    text = \" \".join([token.text for token in spacy_doc if token.is_stop == False and token.is_alpha])\n",
    "    return text"
   ]
  },
  {
   "cell_type": "code",
   "execution_count": 986,
   "metadata": {
    "ExecuteTime": {
     "end_time": "2021-10-07T21:35:32.690415Z",
     "start_time": "2021-10-07T21:35:32.686218Z"
    }
   },
   "outputs": [],
   "source": [
    "def removeStopwordsNLTK(nltk_tokens):\n",
    "    text = \" \".join(nltk.Text([word for word in nltk_tokens if word.lower() not in stoplist]))\n",
    "    return text"
   ]
  },
  {
   "cell_type": "code",
   "execution_count": 987,
   "metadata": {
    "ExecuteTime": {
     "end_time": "2021-10-07T21:35:33.202017Z",
     "start_time": "2021-10-07T21:35:32.726859Z"
    }
   },
   "outputs": [
    {
     "name": "stderr",
     "output_type": "stream",
     "text": [
      "/Users/myfriendscallmej/anaconda3/lib/python3.7/site-packages/ipykernel_launcher.py:1: SettingWithCopyWarning: \n",
      "A value is trying to be set on a copy of a slice from a DataFrame.\n",
      "Try using .loc[row_indexer,col_indexer] = value instead\n",
      "\n",
      "See the caveats in the documentation: https://pandas.pydata.org/pandas-docs/stable/user_guide/indexing.html#returning-a-view-versus-a-copy\n",
      "  \"\"\"Entry point for launching an IPython kernel.\n",
      "/Users/myfriendscallmej/anaconda3/lib/python3.7/site-packages/ipykernel_launcher.py:2: SettingWithCopyWarning: \n",
      "A value is trying to be set on a copy of a slice from a DataFrame.\n",
      "Try using .loc[row_indexer,col_indexer] = value instead\n",
      "\n",
      "See the caveats in the documentation: https://pandas.pydata.org/pandas-docs/stable/user_guide/indexing.html#returning-a-view-versus-a-copy\n",
      "  \n"
     ]
    }
   ],
   "source": [
    "LymeDisease['abstractNoStopSpacy'] = LymeDisease['tokenisedAbstractSpacy'].apply(removeStopwordsSpaCy)\n",
    "LymeDisease['abstractNoStopNLTK'] = LymeDisease['tokenisedAbstractNLTK'].apply(removeStopwordsNLTK)"
   ]
  },
  {
   "cell_type": "code",
   "execution_count": 988,
   "metadata": {
    "ExecuteTime": {
     "end_time": "2021-10-07T21:35:33.243171Z",
     "start_time": "2021-10-07T21:35:33.238885Z"
    }
   },
   "outputs": [
    {
     "data": {
      "text/plain": [
       "'Ticks Acari Ixodida vectors andor reservoirs pathogens ie BorreliaBurgdorferiSensuLato AnaplasmaPhagocytophilum BabesiaMicroti pathogens ethiological agents diseases Lyme borreliosis human granulocytic anaplasmosis human babesiosis aim study evaluate role IxodesRicinus transmission BorreliaBurgdorferiSensuLato BorreliaAfzelii Borrelia garinii BorreliaBurgdorferiSensuStricto AnaplasmaPhagocytophilum BabesiaMicroti Opolskie Province Poland DNA ticks isolated ammonia method pair primers spcific flagelline gene detect BorreliaBurgdorferiSensuLato detect genospcies sprochete pairs internal primers turn pairs primers spcific S rDNA gene S rRNA respctively detection AnaplasmaPhagocytophilum BabesiaMicroti BorreliaBurgdorferiSensuLato AnaplasmaPhagocytophilum BabesiaMicroti detected examined ticks respctively ticks infected BorreliaBurgdorferiSensuLato BorreliaAfzelii found seven undefinied genospcies mixed infection BorreliaAfzelii BorreliaBurgdorferiSensuStricto study demonstrated potential risk exposure humans animals infections BorreliaBurgdorferiSensuLato AnaplasmaPhagocytophilum BabesiaMicroti examined area Poland'"
      ]
     },
     "execution_count": 988,
     "metadata": {},
     "output_type": "execute_result"
    }
   ],
   "source": [
    "LymeDisease.loc[2000].abstractNoStopSpacy"
   ]
  },
  {
   "cell_type": "code",
   "execution_count": 989,
   "metadata": {
    "ExecuteTime": {
     "end_time": "2021-10-07T21:35:33.303624Z",
     "start_time": "2021-10-07T21:35:33.299161Z"
    }
   },
   "outputs": [
    {
     "data": {
      "text/plain": [
       "'Ticks Acari Ixodida vectors andor reservoirs many pathogens ie BorreliaBurgdorferiSensuLato AnaplasmaPhagocytophilum BabesiaMicroti pathogens ethiological agents diseases Lyme borreliosis human granulocytic anaplasmosis human babesiosis aim study evaluate role IxodesRicinus transmission BorreliaBurgdorferiSensuLato BorreliaAfzelii Borrelia garinii BorreliaBurgdorferiSensuStricto AnaplasmaPhagocytophilum BabesiaMicroti Opolskie Province Poland DNA ticks isolated ammonia method pair primers spcific flagelline gene used detect BorreliaBurgdorferiSensuLato detect genospcies sprochete three pairs internal primers used turn two pairs primers spcific rDNA gene rRNA used respctively detection AnaplasmaPhagocytophilum BabesiaMicroti BorreliaBurgdorferiSensuLato AnaplasmaPhagocytophilum BabesiaMicroti detected examined ticks respctively ten ticks infected BorreliaBurgdorferiSensuLato BorreliaAfzelii found seven undefinied genospcies two mixed infection BorreliaAfzelii BorreliaBurgdorferiSensuStricto one study demonstrated potential risk exposure humans animals infections BorreliaBurgdorferiSensuLato AnaplasmaPhagocytophilum BabesiaMicroti examined area Poland'"
      ]
     },
     "execution_count": 989,
     "metadata": {},
     "output_type": "execute_result"
    }
   ],
   "source": [
    "LymeDisease.loc[2000].abstractNoStopNLTK"
   ]
  },
  {
   "cell_type": "markdown",
   "metadata": {},
   "source": [
    "### Normalisation"
   ]
  },
  {
   "cell_type": "code",
   "execution_count": 990,
   "metadata": {
    "ExecuteTime": {
     "end_time": "2021-10-07T21:35:33.349623Z",
     "start_time": "2021-10-07T21:35:33.346697Z"
    }
   },
   "outputs": [],
   "source": [
    "lemmatizer = nltk.WordNetLemmatizer()"
   ]
  },
  {
   "cell_type": "code",
   "execution_count": 991,
   "metadata": {
    "ExecuteTime": {
     "end_time": "2021-10-07T21:35:33.393000Z",
     "start_time": "2021-10-07T21:35:33.390073Z"
    }
   },
   "outputs": [],
   "source": [
    "def lemmatiseSpaCy(spacy_doc):\n",
    "    text = \" \".join([token.lemma_ for token in spacy_doc])\n",
    "    return text"
   ]
  },
  {
   "cell_type": "code",
   "execution_count": 992,
   "metadata": {
    "ExecuteTime": {
     "end_time": "2021-10-07T21:35:33.442153Z",
     "start_time": "2021-10-07T21:35:33.439151Z"
    }
   },
   "outputs": [],
   "source": [
    "def lemmatiseNLTK(nltk_tokens):\n",
    "    text = \" \".join([lemmatizer.lemmatize(token) for token in nltk_tokens])\n",
    "    return text"
   ]
  },
  {
   "cell_type": "code",
   "execution_count": 993,
   "metadata": {
    "ExecuteTime": {
     "end_time": "2021-10-07T21:35:33.487708Z",
     "start_time": "2021-10-07T21:35:33.484301Z"
    }
   },
   "outputs": [],
   "source": [
    "def removeStopwordsLemmatiseSpaCy(spacy_doc):\n",
    "    text = \" \".join([token.lemma_ for token in spacy_doc if token.is_stop == False and token.is_alpha])\n",
    "    return text"
   ]
  },
  {
   "cell_type": "code",
   "execution_count": 994,
   "metadata": {
    "ExecuteTime": {
     "end_time": "2021-10-07T21:35:33.530430Z",
     "start_time": "2021-10-07T21:35:33.526704Z"
    }
   },
   "outputs": [],
   "source": [
    "def removeStopwordsNLTK(nltk_tokens):\n",
    "    text = \" \".join([lemmatizer.lemmatize(token) for token in nltk_tokens if token.lower() not in stoplist])\n",
    "    return text"
   ]
  },
  {
   "cell_type": "code",
   "execution_count": 995,
   "metadata": {
    "ExecuteTime": {
     "end_time": "2021-10-07T21:35:35.994624Z",
     "start_time": "2021-10-07T21:35:33.569359Z"
    }
   },
   "outputs": [
    {
     "name": "stderr",
     "output_type": "stream",
     "text": [
      "/Users/myfriendscallmej/anaconda3/lib/python3.7/site-packages/ipykernel_launcher.py:1: SettingWithCopyWarning: \n",
      "A value is trying to be set on a copy of a slice from a DataFrame.\n",
      "Try using .loc[row_indexer,col_indexer] = value instead\n",
      "\n",
      "See the caveats in the documentation: https://pandas.pydata.org/pandas-docs/stable/user_guide/indexing.html#returning-a-view-versus-a-copy\n",
      "  \"\"\"Entry point for launching an IPython kernel.\n",
      "/Users/myfriendscallmej/anaconda3/lib/python3.7/site-packages/ipykernel_launcher.py:2: SettingWithCopyWarning: \n",
      "A value is trying to be set on a copy of a slice from a DataFrame.\n",
      "Try using .loc[row_indexer,col_indexer] = value instead\n",
      "\n",
      "See the caveats in the documentation: https://pandas.pydata.org/pandas-docs/stable/user_guide/indexing.html#returning-a-view-versus-a-copy\n",
      "  \n"
     ]
    }
   ],
   "source": [
    "LymeDisease['abstractLemmaSpacy'] = LymeDisease['tokenisedAbstractSpacy'].apply(lemmatiseSpaCy)\n",
    "LymeDisease['abstractLemmaNLTK'] = LymeDisease['tokenisedAbstractNLTK'].apply(lemmatiseNLTK)"
   ]
  },
  {
   "cell_type": "code",
   "execution_count": 996,
   "metadata": {
    "ExecuteTime": {
     "end_time": "2021-10-07T21:35:37.961995Z",
     "start_time": "2021-10-07T21:35:36.041055Z"
    }
   },
   "outputs": [
    {
     "name": "stderr",
     "output_type": "stream",
     "text": [
      "/Users/myfriendscallmej/anaconda3/lib/python3.7/site-packages/ipykernel_launcher.py:1: SettingWithCopyWarning: \n",
      "A value is trying to be set on a copy of a slice from a DataFrame.\n",
      "Try using .loc[row_indexer,col_indexer] = value instead\n",
      "\n",
      "See the caveats in the documentation: https://pandas.pydata.org/pandas-docs/stable/user_guide/indexing.html#returning-a-view-versus-a-copy\n",
      "  \"\"\"Entry point for launching an IPython kernel.\n",
      "/Users/myfriendscallmej/anaconda3/lib/python3.7/site-packages/ipykernel_launcher.py:2: SettingWithCopyWarning: \n",
      "A value is trying to be set on a copy of a slice from a DataFrame.\n",
      "Try using .loc[row_indexer,col_indexer] = value instead\n",
      "\n",
      "See the caveats in the documentation: https://pandas.pydata.org/pandas-docs/stable/user_guide/indexing.html#returning-a-view-versus-a-copy\n",
      "  \n"
     ]
    }
   ],
   "source": [
    "LymeDisease['abstractLemmaNoStopSpacy'] = LymeDisease['tokenisedAbstractSpacy'].apply(removeStopwordsLemmatiseSpaCy)\n",
    "LymeDisease['abstractLemmaNoStopNLTK'] = LymeDisease['tokenisedAbstractNLTK'].apply(removeStopwordsNLTK)"
   ]
  },
  {
   "cell_type": "code",
   "execution_count": 997,
   "metadata": {
    "ExecuteTime": {
     "end_time": "2021-10-07T21:35:38.002159Z",
     "start_time": "2021-10-07T21:35:37.998099Z"
    }
   },
   "outputs": [
    {
     "data": {
      "text/plain": [
       "'Ticks Acari Ixodida be vector andor reservoir of many pathogen ie BorreliaBurgdorferiSensuLato AnaplasmaPhagocytophilum and BabesiaMicroti these pathogen be ethiological agent of such disease as Lyme borreliosis human granulocytic anaplasmosis and human babesiosis the aim of the study be to evaluate the role of the IxodesRicinus in the transmission of BorreliaBurgdorferiSensuLato BorreliaAfzelii Borrelia garinii BorreliaBurgdorferiSensuStricto AnaplasmaPhagocytophilum and BabesiaMicroti in Opolskie Province in Poland DNA from tick be isolate by the ammonia method the pair of primer spcific to the flagelline gene be use to detect of BorreliaBurgdorferiSensuLato to detect of genospcie of this sprochete three pair of internal primer be use in turn two pair of primer spcific to the S rDNA gene and the S rRNA be use respctively for the detection of AnaplasmaPhagocytophilum and BabesiaMicroti BorreliaBurgdorferiSensuLato AnaplasmaPhagocytophilum and BabesiaMicroti be detect in and of examine tick respctively of the ten tick infect with BorreliaBurgdorferiSensuLato BorreliaAfzelii be find in seven undefinied genospcie in two and mixed infection with BorreliaAfzelii and BorreliaBurgdorferiSensuStricto in one the study demonstrate the potential risk of exposure of human and animal to infection of BorreliaBurgdorferiSensuLato AnaplasmaPhagocytophilum and BabesiaMicroti in the examined area of Poland'"
      ]
     },
     "execution_count": 997,
     "metadata": {},
     "output_type": "execute_result"
    }
   ],
   "source": [
    "LymeDisease.loc[2000].abstractLemmaSpacy"
   ]
  },
  {
   "cell_type": "code",
   "execution_count": 998,
   "metadata": {
    "ExecuteTime": {
     "end_time": "2021-10-07T21:35:38.052335Z",
     "start_time": "2021-10-07T21:35:38.048529Z"
    }
   },
   "outputs": [
    {
     "data": {
      "text/plain": [
       "'Ticks Acari Ixodida are vector andor reservoir of many pathogen ie BorreliaBurgdorferiSensuLato AnaplasmaPhagocytophilum and BabesiaMicroti These pathogen are ethiological agent of such disease a Lyme borreliosis human granulocytic anaplasmosis and human babesiosis The aim of the study wa to evaluate the role of the IxodesRicinus in the transmission of BorreliaBurgdorferiSensuLato BorreliaAfzelii Borrelia garinii BorreliaBurgdorferiSensuStricto AnaplasmaPhagocytophilum and BabesiaMicroti in Opolskie Province in Poland DNA from tick wa isolated by the ammonia method The pair of primer spcific to the flagelline gene wa used to detect of BorreliaBurgdorferiSensuLato To detect of genospcies of this sprochete three pair of internal primer were used In turn two pair of primer spcific to the S rDNA gene and the S rRNA were used respctively for the detection of AnaplasmaPhagocytophilum and BabesiaMicroti BorreliaBurgdorferiSensuLato AnaplasmaPhagocytophilum and BabesiaMicroti were detected in and of examined tick respctively Of the ten tick infected with BorreliaBurgdorferiSensuLato BorreliaAfzelii wa found in seven undefinied genospcies in two and mixed infection with BorreliaAfzelii and BorreliaBurgdorferiSensuStricto in one The study demonstrated the potential risk of exposure of human and animal to infection of BorreliaBurgdorferiSensuLato AnaplasmaPhagocytophilum and BabesiaMicroti in the examined area of Poland'"
      ]
     },
     "execution_count": 998,
     "metadata": {},
     "output_type": "execute_result"
    }
   ],
   "source": [
    "LymeDisease.loc[2000].abstractLemmaNLTK"
   ]
  },
  {
   "cell_type": "code",
   "execution_count": 999,
   "metadata": {
    "ExecuteTime": {
     "end_time": "2021-10-07T21:35:38.094102Z",
     "start_time": "2021-10-07T21:35:38.088657Z"
    }
   },
   "outputs": [
    {
     "data": {
      "text/plain": [
       "'Ticks Acari Ixodida vector andor reservoir pathogen ie BorreliaBurgdorferiSensuLato AnaplasmaPhagocytophilum BabesiaMicroti pathogen ethiological agent disease Lyme borreliosis human granulocytic anaplasmosis human babesiosis aim study evaluate role IxodesRicinus transmission BorreliaBurgdorferiSensuLato BorreliaAfzelii Borrelia garinii BorreliaBurgdorferiSensuStricto AnaplasmaPhagocytophilum BabesiaMicroti Opolskie Province Poland DNA tick isolate ammonia method pair primer spcific flagelline gene detect BorreliaBurgdorferiSensuLato detect genospcie sprochete pair internal primer turn pair primer spcific S rDNA gene S rRNA respctively detection AnaplasmaPhagocytophilum BabesiaMicroti BorreliaBurgdorferiSensuLato AnaplasmaPhagocytophilum BabesiaMicroti detect examine tick respctively tick infect BorreliaBurgdorferiSensuLato BorreliaAfzelii find seven undefinied genospcie mixed infection BorreliaAfzelii BorreliaBurgdorferiSensuStricto study demonstrate potential risk exposure human animal infection BorreliaBurgdorferiSensuLato AnaplasmaPhagocytophilum BabesiaMicroti examined area Poland'"
      ]
     },
     "execution_count": 999,
     "metadata": {},
     "output_type": "execute_result"
    }
   ],
   "source": [
    "LymeDisease.loc[2000].abstractLemmaNoStopSpacy"
   ]
  },
  {
   "cell_type": "code",
   "execution_count": 1000,
   "metadata": {
    "ExecuteTime": {
     "end_time": "2021-10-07T21:35:38.150910Z",
     "start_time": "2021-10-07T21:35:38.139761Z"
    }
   },
   "outputs": [
    {
     "data": {
      "text/plain": [
       "'Ticks Acari Ixodida vector andor reservoir many pathogen ie BorreliaBurgdorferiSensuLato AnaplasmaPhagocytophilum BabesiaMicroti pathogen ethiological agent disease Lyme borreliosis human granulocytic anaplasmosis human babesiosis aim study evaluate role IxodesRicinus transmission BorreliaBurgdorferiSensuLato BorreliaAfzelii Borrelia garinii BorreliaBurgdorferiSensuStricto AnaplasmaPhagocytophilum BabesiaMicroti Opolskie Province Poland DNA tick isolated ammonia method pair primer spcific flagelline gene used detect BorreliaBurgdorferiSensuLato detect genospcies sprochete three pair internal primer used turn two pair primer spcific rDNA gene rRNA used respctively detection AnaplasmaPhagocytophilum BabesiaMicroti BorreliaBurgdorferiSensuLato AnaplasmaPhagocytophilum BabesiaMicroti detected examined tick respctively ten tick infected BorreliaBurgdorferiSensuLato BorreliaAfzelii found seven undefinied genospcies two mixed infection BorreliaAfzelii BorreliaBurgdorferiSensuStricto one study demonstrated potential risk exposure human animal infection BorreliaBurgdorferiSensuLato AnaplasmaPhagocytophilum BabesiaMicroti examined area Poland'"
      ]
     },
     "execution_count": 1000,
     "metadata": {},
     "output_type": "execute_result"
    }
   ],
   "source": [
    "LymeDisease.loc[2000].abstractLemmaNoStopNLTK"
   ]
  },
  {
   "cell_type": "code",
   "execution_count": 1001,
   "metadata": {
    "ExecuteTime": {
     "end_time": "2021-10-07T21:35:38.205240Z",
     "start_time": "2021-10-07T21:35:38.198676Z"
    }
   },
   "outputs": [
    {
     "data": {
      "text/plain": [
       "'Ticks Acari Ixodida be vector andor reservoir of many pathogen ie BorreliaBurgdorferiSensuLato AnaplasmaPhagocytophilum and BabesiaMicroti these pathogen be ethiological agent of such disease as Lyme borreliosis human granulocytic anaplasmosis and human babesiosis the aim of the study be to evaluate the role of the Ixodes ricinus in the transmission of BorreliaBurgdorferiSensuLato BorreliaAfzelii Borrelia garinii BorreliaBurgdorferiSensuStricto AnaplasmaPhagocytophilum and BabesiaMicroti in Opolskie Province in Poland DNA from   tick be isolate by the ammonia method the pair of primer spcific to the flagelline gene be use to detect of BorreliaBurgdorferiSensuLato to detect of genospcie of this sprochete three pair of internal primer be use in turn two pair of primer spcific to the S rDNA gene and the S rRNA be use respctively for the detection of AnaplasmaPhagocytophilum and BabesiaMicroti Borrelia burgdorferi s l AnaplasmaPhagocytophilum and BabesiaMicroti be detect in    and   of examine tick respctively of the ten tick infect with BorreliaBurgdorferiSensuLato BorreliaAfzelii be find in seven undefinied genospcie in two and mixed infection with BorreliaAfzelii and BorreliaBurgdorferiSensuStricto in one the study demonstrate the potential risk of exposure of human and animal to infection of BorreliaBurgdorferiSensuLato AnaplasmaPhagocytophilum and BabesiaMicroti in the examined area of Poland'"
      ]
     },
     "execution_count": 1001,
     "metadata": {},
     "output_type": "execute_result"
    }
   ],
   "source": [
    "\" \".join([token.lemma_ for token in tokenisedTextSpacy])"
   ]
  },
  {
   "cell_type": "code",
   "execution_count": 1002,
   "metadata": {
    "ExecuteTime": {
     "end_time": "2021-10-07T21:35:38.263808Z",
     "start_time": "2021-10-07T21:35:38.256557Z"
    }
   },
   "outputs": [
    {
     "data": {
      "text/plain": [
       "'Ticks Acari Ixodida vector andor reservoir many pathogen ie BorreliaBurgdorferiSensuLato AnaplasmaPhagocytophilum BabesiaMicroti pathogen ethiological agent disease Lyme borreliosis human granulocytic anaplasmosis human babesiosis aim study evaluate role Ixodes ricinus transmission BorreliaBurgdorferiSensuLato BorreliaAfzelii Borrelia garinii BorreliaBurgdorferiSensuStricto AnaplasmaPhagocytophilum BabesiaMicroti Opolskie Province Poland DNA tick isolated ammonia method pair primer spcific flagelline gene used detect BorreliaBurgdorferiSensuLato detect genospcies sprochete three pair internal primer used turn two pair primer spcific rDNA gene rRNA used respctively detection AnaplasmaPhagocytophilum BabesiaMicroti Borrelia burgdorferi l AnaplasmaPhagocytophilum BabesiaMicroti detected examined tick respctively ten tick infected BorreliaBurgdorferiSensuLato BorreliaAfzelii found seven undefinied genospcies two mixed infection BorreliaAfzelii BorreliaBurgdorferiSensuStricto one study demonstrated potential risk exposure human animal infection BorreliaBurgdorferiSensuLato AnaplasmaPhagocytophilum BabesiaMicroti examined area Poland'"
      ]
     },
     "execution_count": 1002,
     "metadata": {},
     "output_type": "execute_result"
    }
   ],
   "source": [
    "\" \".join([lemmatizer.lemmatize(t) for t in tokenisedTextNLTK if t.lower() not in stoplist])"
   ]
  },
  {
   "cell_type": "markdown",
   "metadata": {
    "ExecuteTime": {
     "end_time": "2021-10-01T23:54:39.301973Z",
     "start_time": "2021-10-01T23:54:39.297179Z"
    }
   },
   "source": [
    "## Sentiment"
   ]
  },
  {
   "cell_type": "code",
   "execution_count": 1003,
   "metadata": {
    "ExecuteTime": {
     "end_time": "2021-10-07T21:35:42.632528Z",
     "start_time": "2021-10-07T21:35:38.310208Z"
    }
   },
   "outputs": [
    {
     "name": "stdout",
     "output_type": "stream",
     "text": [
      "2021-10-08 10:35:38,315 loading file /Users/myfriendscallmej/.flair/models/sentiment-en-mix-distillbert_4.pt\n"
     ]
    }
   ],
   "source": [
    "flairClassifier = TextClassifier.load('en-sentiment')"
   ]
  },
  {
   "cell_type": "code",
   "execution_count": 1004,
   "metadata": {
    "ExecuteTime": {
     "end_time": "2021-10-07T21:35:42.671653Z",
     "start_time": "2021-10-07T21:35:42.669108Z"
    }
   },
   "outputs": [],
   "source": [
    "#pip install spacytextblob"
   ]
  },
  {
   "cell_type": "code",
   "execution_count": 1005,
   "metadata": {
    "ExecuteTime": {
     "end_time": "2021-10-07T21:35:42.714807Z",
     "start_time": "2021-10-07T21:35:42.711572Z"
    }
   },
   "outputs": [],
   "source": [
    "from spacytextblob.spacytextblob import SpacyTextBlob"
   ]
  },
  {
   "cell_type": "code",
   "execution_count": 859,
   "metadata": {
    "ExecuteTime": {
     "end_time": "2021-10-06T08:41:28.804052Z",
     "start_time": "2021-10-06T08:41:28.801679Z"
    }
   },
   "outputs": [],
   "source": [
    "nlp.add_pipe('spacytextblob')"
   ]
  },
  {
   "cell_type": "code",
   "execution_count": 1006,
   "metadata": {
    "ExecuteTime": {
     "end_time": "2021-10-07T21:35:42.757688Z",
     "start_time": "2021-10-07T21:35:42.753890Z"
    }
   },
   "outputs": [],
   "source": [
    "def flair_prediction(x):\n",
    "    sentence = Sentence(x)\n",
    "    flairClassifier.predict(sentence)\n",
    "    score = sentence.labels[0]\n",
    "    if \"POSITIVE\" in str(score):\n",
    "        return \"pos\"\n",
    "    elif \"NEGATIVE\" in str(score):\n",
    "        return \"neg\"\n",
    "    else:\n",
    "        return \"neu\""
   ]
  },
  {
   "cell_type": "code",
   "execution_count": null,
   "metadata": {},
   "outputs": [],
   "source": []
  },
  {
   "cell_type": "code",
   "execution_count": 1007,
   "metadata": {
    "ExecuteTime": {
     "end_time": "2021-10-07T21:35:42.856803Z",
     "start_time": "2021-10-07T21:35:42.795412Z"
    }
   },
   "outputs": [],
   "source": [
    "tba = Blobber(analyzer=NaiveBayesAnalyzer())"
   ]
  },
  {
   "cell_type": "markdown",
   "metadata": {},
   "source": [
    "### Comparing sentiment results by pre-processing tool (SpaCy v NLTK)"
   ]
  },
  {
   "cell_type": "markdown",
   "metadata": {},
   "source": [
    "SpaCY also used TextBlob under the hood for it's sentiment analysis and the following tests (albeit on one abstract) suggest the SpaCy implementation and the TextBllober package give the same result when passed the same text.\n",
    "There is also seemingly little to no differece in the scores on text pre-processed and nomalised with SpaCy compare to NLTK with exception of text that has been lemmatised AND had stopwords removed.  "
   ]
  },
  {
   "cell_type": "code",
   "execution_count": 1061,
   "metadata": {
    "ExecuteTime": {
     "end_time": "2021-10-07T22:16:16.878877Z",
     "start_time": "2021-10-07T22:16:16.721518Z"
    }
   },
   "outputs": [
    {
     "name": "stdout",
     "output_type": "stream",
     "text": [
      "Comparing Spacy and NLTK for tokenised abstracts\n",
      "--------------\n",
      "\n",
      "Spacy tokens\n",
      "Spacy polarity 0.0625\n",
      "Spacy subjectivity 0.30625\n",
      "TextBlob: Sentiment(polarity=0.0625, subjectivity=0.30625)\n",
      "\n",
      "NLTK\n",
      "TextBlob: Sentiment(polarity=0.0625, subjectivity=0.30625)\n",
      "Spacy polarity 0.0625\n",
      "Spacy subjectivity 0.30625\n"
     ]
    }
   ],
   "source": [
    "print('Comparing Spacy and NLTK for tokenised abstracts')\n",
    "print('--------------')\n",
    "print('\\nSpacy tokens')\n",
    "print('Spacy polarity', nlp(LymeDisease.loc[2000].tokenisedAbstractSpacy.text)._.polarity)\n",
    "print('Spacy subjectivity', nlp(LymeDisease.loc[2000].tokenisedAbstractSpacy.text)._.subjectivity)\n",
    "print('TextBlob:',TextBlob(LymeDisease.loc[2000].tokenisedAbstractSpacy.text).sentiment)\n",
    "\n",
    "print('\\nNLTK')\n",
    "print('TextBlob:', TextBlob(\" \".join([word for word in LymeDisease.loc[2000].tokenisedAbstractNLTK])).sentiment)\n",
    "print('Spacy polarity', nlp(\" \".join([word for word in LymeDisease.loc[2000].tokenisedAbstractNLTK]))._.polarity)\n",
    "print('Spacy subjectivity', nlp(\" \".join([word for word in LymeDisease.loc[2000].tokenisedAbstractNLTK]))._.subjectivity)"
   ]
  },
  {
   "cell_type": "code",
   "execution_count": 1071,
   "metadata": {
    "ExecuteTime": {
     "end_time": "2021-10-07T22:24:58.860800Z",
     "start_time": "2021-10-07T22:24:58.760390Z"
    }
   },
   "outputs": [
    {
     "name": "stdout",
     "output_type": "stream",
     "text": [
      "Comparing Spacy and NLTK for abstracts without stopwords\n",
      "--------------\n",
      "\n",
      "Spacy tokens\n",
      "Spacy polarity 0.0\n",
      "Spacy subjectivity 0.29\n",
      "TextBlob: Sentiment(polarity=0.0, subjectivity=0.29)\n",
      "\n",
      "NLTK tokens\n",
      "TextBlob: Sentiment(polarity=0.07142857142857142, subjectivity=0.2785714285714286)\n",
      "Spacy polarity 0.07142857142857142\n",
      "Spacy subjectivity 0.2785714285714286\n"
     ]
    }
   ],
   "source": [
    "print('Comparing Spacy and NLTK for abstracts without stopwords')\n",
    "print('--------------')\n",
    "print('\\nSpacy tokens')\n",
    "print('Spacy polarity', nlp(LymeDisease.loc[2000].abstractNoStopSpacy)._.polarity)\n",
    "print('Spacy subjectivity', nlp(LymeDisease.loc[2000].abstractNoStopSpacy)._.subjectivity)\n",
    "print('TextBlob:',TextBlob(LymeDisease.loc[2000].abstractNoStopSpacy).sentiment)\n",
    "\n",
    "print('\\nNLTK tokens')\n",
    "print('TextBlob:', TextBlob(LymeDisease.loc[2000].abstractNoStopNLTK).sentiment)\n",
    "print('Spacy polarity', nlp(LymeDisease.loc[2000].abstractNoStopNLTK)._.polarity)\n",
    "print('Spacy subjectivity', nlp(LymeDisease.loc[2000].abstractNoStopNLTK)._.subjectivity)"
   ]
  },
  {
   "cell_type": "code",
   "execution_count": 1069,
   "metadata": {
    "ExecuteTime": {
     "end_time": "2021-10-07T22:24:08.429591Z",
     "start_time": "2021-10-07T22:24:08.274512Z"
    }
   },
   "outputs": [
    {
     "name": "stdout",
     "output_type": "stream",
     "text": [
      "Lemmatised Docs\n",
      "--------------\n",
      "\n",
      "Processed with Spacy\n",
      "Spacy polarity 0.05555555555555555\n",
      "SPacy subjectivity 0.2833333333333334\n",
      "TextBlob: Sentiment(polarity=0.05555555555555555, subjectivity=0.2833333333333334)\n",
      "\n",
      "Processed with NLTK\n",
      "TextBlob: Sentiment(polarity=0.05555555555555555, subjectivity=0.2833333333333334)\n",
      "Spacy polarity 0.05555555555555555\n",
      "Spacy subjectivity 0.2833333333333334\n"
     ]
    }
   ],
   "source": [
    "print('Lemmatised Docs')\n",
    "print('--------------')\n",
    "print('\\nProcessed with Spacy')\n",
    "print('Spacy polarity', nlp(LymeDisease.loc[2000].abstractLemmaSpacy)._.polarity)\n",
    "print('SPacy subjectivity', nlp(LymeDisease.loc[2000].abstractLemmaSpacy)._.subjectivity)\n",
    "print('TextBlob:',TextBlob(LymeDisease.loc[2000].abstractLemmaSpacy).sentiment)\n",
    "\n",
    "print('\\nProcessed with NLTK')\n",
    "print('TextBlob:', TextBlob(LymeDisease.loc[2000].abstractLemmaNLTK).sentiment)\n",
    "print('Spacy polarity', nlp(LymeDisease.loc[2000].abstractLemmaNLTK)._.polarity)\n",
    "print('Spacy subjectivity', nlp(LymeDisease.loc[2000].abstractLemmaNLTK)._.subjectivity)\n"
   ]
  },
  {
   "cell_type": "code",
   "execution_count": 1074,
   "metadata": {
    "ExecuteTime": {
     "end_time": "2021-10-07T22:27:32.923075Z",
     "start_time": "2021-10-07T22:27:32.838177Z"
    }
   },
   "outputs": [
    {
     "name": "stdout",
     "output_type": "stream",
     "text": [
      "Lemmatised Docs, no stopwords\n",
      "--------------\n",
      "\n",
      "Processed with Spacy\n",
      "Spacy polarity 0.0\n",
      "Spacy subjectivity 0.25833333333333336\n",
      "TextBlob: Sentiment(polarity=0.0, subjectivity=0.25833333333333336)\n",
      "\n",
      "Processed with NLTK\n",
      "TextBlob: Sentiment(polarity=0.0625, subjectivity=0.25625)\n",
      "Spacy polarity 0.0625\n",
      "Spacy subjectivity 0.25625\n"
     ]
    }
   ],
   "source": [
    "print('Lemmatised Docs, no stopwords')\n",
    "print('--------------')\n",
    "print('\\nProcessed with Spacy')\n",
    "print('Spacy polarity', nlp(LymeDisease.loc[2000].abstractLemmaNoStopSpacy)._.polarity)\n",
    "print('Spacy subjectivity', nlp(LymeDisease.loc[2000].abstractLemmaNoStopSpacy)._.subjectivity)\n",
    "print('TextBlob:',TextBlob(LymeDisease.loc[2000].abstractLemmaNoStopSpacy).sentiment)\n",
    "\n",
    "print('\\nProcessed with NLTK')\n",
    "print('TextBlob:', TextBlob(LymeDisease.loc[2000].abstractLemmaNoStopNLTK).sentiment)\n",
    "print('Spacy polarity', nlp(LymeDisease.loc[2000].abstractLemmaNoStopNLTK)._.polarity)\n",
    "print('Spacy subjectivity', nlp(LymeDisease.loc[2000].abstractLemmaNoStopNLTK)._.subjectivity)"
   ]
  },
  {
   "cell_type": "markdown",
   "metadata": {},
   "source": [
    "### Adding Sentiment Measures to Dataframe"
   ]
  },
  {
   "cell_type": "markdown",
   "metadata": {},
   "source": [
    "At this point we continue with the text processed with NLTK."
   ]
  },
  {
   "cell_type": "code",
   "execution_count": 1078,
   "metadata": {
    "ExecuteTime": {
     "end_time": "2021-10-07T22:33:57.447928Z",
     "start_time": "2021-10-07T22:33:49.709613Z"
    }
   },
   "outputs": [
    {
     "name": "stderr",
     "output_type": "stream",
     "text": [
      "/Users/myfriendscallmej/anaconda3/lib/python3.7/site-packages/ipykernel_launcher.py:1: SettingWithCopyWarning: \n",
      "A value is trying to be set on a copy of a slice from a DataFrame.\n",
      "Try using .loc[row_indexer,col_indexer] = value instead\n",
      "\n",
      "See the caveats in the documentation: https://pandas.pydata.org/pandas-docs/stable/user_guide/indexing.html#returning-a-view-versus-a-copy\n",
      "  \"\"\"Entry point for launching an IPython kernel.\n",
      "/Users/myfriendscallmej/anaconda3/lib/python3.7/site-packages/ipykernel_launcher.py:5: SettingWithCopyWarning: \n",
      "A value is trying to be set on a copy of a slice from a DataFrame.\n",
      "Try using .loc[row_indexer,col_indexer] = value instead\n",
      "\n",
      "See the caveats in the documentation: https://pandas.pydata.org/pandas-docs/stable/user_guide/indexing.html#returning-a-view-versus-a-copy\n",
      "  \"\"\"\n",
      "/Users/myfriendscallmej/anaconda3/lib/python3.7/site-packages/ipykernel_launcher.py:6: SettingWithCopyWarning: \n",
      "A value is trying to be set on a copy of a slice from a DataFrame.\n",
      "Try using .loc[row_indexer,col_indexer] = value instead\n",
      "\n",
      "See the caveats in the documentation: https://pandas.pydata.org/pandas-docs/stable/user_guide/indexing.html#returning-a-view-versus-a-copy\n",
      "  \n"
     ]
    }
   ],
   "source": [
    "LymeDisease['abstractSentimentScore_TB'] = LymeDisease['cleaner_abstract'].apply(lambda text: TextBlob(text).sentiment[0])\n",
    "LymeDisease['abstractSentiment_TB'] = np.select([LymeDisease[\"abstractSentimentScore_TB\"] < 0, \n",
    "                                                 LymeDisease[\"abstractSentimentScore_TB\"] == 0, \n",
    "                                                 LymeDisease[\"abstractSentimentScore_TB\"] > 0],\n",
    "                           ['neg', 'neu', 'pos'])\n",
    "LymeDisease['abstractSentiment_TB_NB'] = LymeDisease['cleaner_abstract'].apply(lambda text: tba(text).sentiment[0])"
   ]
  },
  {
   "cell_type": "code",
   "execution_count": 1079,
   "metadata": {
    "ExecuteTime": {
     "end_time": "2021-10-07T22:49:13.638098Z",
     "start_time": "2021-10-07T22:34:08.786910Z"
    }
   },
   "outputs": [
    {
     "name": "stderr",
     "output_type": "stream",
     "text": [
      "/Users/myfriendscallmej/anaconda3/lib/python3.7/site-packages/ipykernel_launcher.py:1: SettingWithCopyWarning: \n",
      "A value is trying to be set on a copy of a slice from a DataFrame.\n",
      "Try using .loc[row_indexer,col_indexer] = value instead\n",
      "\n",
      "See the caveats in the documentation: https://pandas.pydata.org/pandas-docs/stable/user_guide/indexing.html#returning-a-view-versus-a-copy\n",
      "  \"\"\"Entry point for launching an IPython kernel.\n"
     ]
    }
   ],
   "source": [
    "LymeDisease['abstractSentiment_Flair'] = LymeDisease['cleaner_abstract'].apply(flair_prediction)       "
   ]
  },
  {
   "cell_type": "code",
   "execution_count": 1080,
   "metadata": {
    "ExecuteTime": {
     "end_time": "2021-10-07T22:49:19.856329Z",
     "start_time": "2021-10-07T22:49:13.676265Z"
    }
   },
   "outputs": [
    {
     "name": "stderr",
     "output_type": "stream",
     "text": [
      "/Users/myfriendscallmej/anaconda3/lib/python3.7/site-packages/ipykernel_launcher.py:1: SettingWithCopyWarning: \n",
      "A value is trying to be set on a copy of a slice from a DataFrame.\n",
      "Try using .loc[row_indexer,col_indexer] = value instead\n",
      "\n",
      "See the caveats in the documentation: https://pandas.pydata.org/pandas-docs/stable/user_guide/indexing.html#returning-a-view-versus-a-copy\n",
      "  \"\"\"Entry point for launching an IPython kernel.\n",
      "/Users/myfriendscallmej/anaconda3/lib/python3.7/site-packages/ipykernel_launcher.py:5: SettingWithCopyWarning: \n",
      "A value is trying to be set on a copy of a slice from a DataFrame.\n",
      "Try using .loc[row_indexer,col_indexer] = value instead\n",
      "\n",
      "See the caveats in the documentation: https://pandas.pydata.org/pandas-docs/stable/user_guide/indexing.html#returning-a-view-versus-a-copy\n",
      "  \"\"\"\n",
      "/Users/myfriendscallmej/anaconda3/lib/python3.7/site-packages/ipykernel_launcher.py:6: SettingWithCopyWarning: \n",
      "A value is trying to be set on a copy of a slice from a DataFrame.\n",
      "Try using .loc[row_indexer,col_indexer] = value instead\n",
      "\n",
      "See the caveats in the documentation: https://pandas.pydata.org/pandas-docs/stable/user_guide/indexing.html#returning-a-view-versus-a-copy\n",
      "  \n"
     ]
    }
   ],
   "source": [
    "LymeDisease['processedAbstractNLTKSentimentScore_TB'] = LymeDisease['abstractLemmaNoStopNLTK'].apply(lambda text: TextBlob(text).sentiment[0])\n",
    "LymeDisease['processedAbstractNLTKSentiment_TB'] = np.select([LymeDisease[\"processedAbstractNLTKSentimentScore_TB\"] < 0, \n",
    "                                                 LymeDisease[\"processedAbstractNLTKSentimentScore_TB\"] == 0, \n",
    "                                                 LymeDisease[\"processedAbstractNLTKSentimentScore_TB\"] > 0],\n",
    "                                                ['neg', 'neu', 'pos'])\n",
    "LymeDisease['processedAbstractNLTKSentiment_TB_NB'] = LymeDisease['abstractLemmaNoStopNLTK'].apply(lambda text: tba(text).sentiment[0])"
   ]
  },
  {
   "cell_type": "code",
   "execution_count": 1081,
   "metadata": {
    "ExecuteTime": {
     "end_time": "2021-10-07T23:00:03.667537Z",
     "start_time": "2021-10-07T22:49:19.891104Z"
    }
   },
   "outputs": [
    {
     "name": "stderr",
     "output_type": "stream",
     "text": [
      "/Users/myfriendscallmej/anaconda3/lib/python3.7/site-packages/ipykernel_launcher.py:1: SettingWithCopyWarning: \n",
      "A value is trying to be set on a copy of a slice from a DataFrame.\n",
      "Try using .loc[row_indexer,col_indexer] = value instead\n",
      "\n",
      "See the caveats in the documentation: https://pandas.pydata.org/pandas-docs/stable/user_guide/indexing.html#returning-a-view-versus-a-copy\n",
      "  \"\"\"Entry point for launching an IPython kernel.\n"
     ]
    }
   ],
   "source": [
    "LymeDisease['processedAbstractNLTKSentiment_Flair'] = LymeDisease['abstractLemmaNoStopNLTK'].apply(flair_prediction)       "
   ]
  },
  {
   "cell_type": "markdown",
   "metadata": {},
   "source": [
    "## Adding Emotions"
   ]
  },
  {
   "cell_type": "code",
   "execution_count": 1199,
   "metadata": {
    "ExecuteTime": {
     "end_time": "2021-10-08T03:22:45.695775Z",
     "start_time": "2021-10-08T03:22:45.691729Z"
    }
   },
   "outputs": [],
   "source": [
    "def measurePlutchikEmotions(text):\n",
    "    text_object = NRCLex(text)\n",
    "    emotions = text_object.affect_frequencies\n",
    "    emotions.pop('positive')\n",
    "    emotions.pop('negative')\n",
    "    emotions['anticipation']=emotions.pop('anticip')\n",
    "    return emotions"
   ]
  },
  {
   "cell_type": "code",
   "execution_count": 1209,
   "metadata": {
    "ExecuteTime": {
     "end_time": "2021-10-08T03:32:18.663819Z",
     "start_time": "2021-10-08T03:32:14.626119Z"
    }
   },
   "outputs": [],
   "source": [
    "emotionsDF = LymeDisease.apply(lambda row: measurePlutchikEmotions(row.abstractLemmaNoStopNLTK), axis='columns', result_type='expand')\n",
    "LymeDisease = pd.concat([LymeDisease, emotionsDF], axis='columns')\n",
    "del emotionsDF"
   ]
  },
  {
   "cell_type": "markdown",
   "metadata": {},
   "source": [
    "## Saving Dataframe"
   ]
  },
  {
   "cell_type": "code",
   "execution_count": 1214,
   "metadata": {
    "ExecuteTime": {
     "end_time": "2021-10-08T03:35:36.570060Z",
     "start_time": "2021-10-08T03:35:35.051942Z"
    }
   },
   "outputs": [],
   "source": [
    "LymeDisease.to_csv('LymeDiseaseWithSentiment.csv')"
   ]
  },
  {
   "cell_type": "markdown",
   "metadata": {
    "ExecuteTime": {
     "end_time": "2021-10-01T23:54:39.301973Z",
     "start_time": "2021-10-01T23:54:39.297179Z"
    }
   },
   "source": [
    "## EDA"
   ]
  },
  {
   "cell_type": "markdown",
   "metadata": {},
   "source": [
    "### Basic Overview"
   ]
  },
  {
   "cell_type": "code",
   "execution_count": 1017,
   "metadata": {
    "ExecuteTime": {
     "end_time": "2021-10-07T21:36:24.595084Z",
     "start_time": "2021-10-07T21:36:24.579611Z"
    }
   },
   "outputs": [
    {
     "name": "stdout",
     "output_type": "stream",
     "text": [
      "<class 'pandas.core.frame.DataFrame'>\n",
      "RangeIndex: 2720 entries, 0 to 2719\n",
      "Data columns (total 27 columns):\n",
      " #   Column                     Non-Null Count  Dtype  \n",
      "---  ------                     --------------  -----  \n",
      " 0   index                      2720 non-null   int64  \n",
      " 1   publication                2720 non-null   object \n",
      " 2   title                      2720 non-null   object \n",
      " 3   authors                    2717 non-null   object \n",
      " 4   doi                        2720 non-null   object \n",
      " 5   year                       2720 non-null   float64\n",
      " 6   cites                      2720 non-null   int64  \n",
      " 7   type                       2720 non-null   object \n",
      " 8   abstract                   2720 non-null   object \n",
      " 9   article_url                0 non-null      float64\n",
      " 10  fulltext_url               0 non-null      float64\n",
      " 11  abstractLength             2720 non-null   float64\n",
      " 12  pubmed                     2720 non-null   int64  \n",
      " 13  clean_text                 2720 non-null   object \n",
      " 14  clean_abstract             2720 non-null   object \n",
      " 15  cleaner_abstract           2720 non-null   object \n",
      " 16  tokenisedAbstractSpacy     2720 non-null   object \n",
      " 17  tokenisedAbstractNLTK      2720 non-null   object \n",
      " 18  abstractNoStopSpacy        2720 non-null   object \n",
      " 19  abstractNoStopNLTK         2720 non-null   object \n",
      " 20  abstractLemmaSpacy         2720 non-null   object \n",
      " 21  abstractLemmaNLTK          2720 non-null   object \n",
      " 22  abstractLemmaNoStopSpacy   2720 non-null   object \n",
      " 23  abstractLemmaNoStopNLTK    2720 non-null   object \n",
      " 24  abstractSentimentScore_TB  2720 non-null   float64\n",
      " 25  abstractSentiment_TB       2720 non-null   object \n",
      " 26  abstractSentiment_TB_NB    2720 non-null   object \n",
      "dtypes: float64(5), int64(3), object(19)\n",
      "memory usage: 573.9+ KB\n"
     ]
    }
   ],
   "source": [
    "LymeDisease.info()"
   ]
  },
  {
   "cell_type": "code",
   "execution_count": 1018,
   "metadata": {
    "ExecuteTime": {
     "end_time": "2021-10-07T21:36:25.873023Z",
     "start_time": "2021-10-07T21:36:25.828817Z"
    }
   },
   "outputs": [
    {
     "data": {
      "text/html": [
       "<div>\n",
       "<style scoped>\n",
       "    .dataframe tbody tr th:only-of-type {\n",
       "        vertical-align: middle;\n",
       "    }\n",
       "\n",
       "    .dataframe tbody tr th {\n",
       "        vertical-align: top;\n",
       "    }\n",
       "\n",
       "    .dataframe thead th {\n",
       "        text-align: right;\n",
       "    }\n",
       "</style>\n",
       "<table border=\"1\" class=\"dataframe\">\n",
       "  <thead>\n",
       "    <tr style=\"text-align: right;\">\n",
       "      <th></th>\n",
       "      <th>index</th>\n",
       "      <th>year</th>\n",
       "      <th>cites</th>\n",
       "      <th>article_url</th>\n",
       "      <th>fulltext_url</th>\n",
       "      <th>abstractLength</th>\n",
       "      <th>pubmed</th>\n",
       "      <th>abstractSentimentScore_TB</th>\n",
       "    </tr>\n",
       "  </thead>\n",
       "  <tbody>\n",
       "    <tr>\n",
       "      <th>count</th>\n",
       "      <td>2720.000000</td>\n",
       "      <td>2720.000000</td>\n",
       "      <td>2720.0</td>\n",
       "      <td>0.0</td>\n",
       "      <td>0.0</td>\n",
       "      <td>2720.000000</td>\n",
       "      <td>2720.0</td>\n",
       "      <td>2720.000000</td>\n",
       "    </tr>\n",
       "    <tr>\n",
       "      <th>mean</th>\n",
       "      <td>2307.337132</td>\n",
       "      <td>2016.055147</td>\n",
       "      <td>0.0</td>\n",
       "      <td>NaN</td>\n",
       "      <td>NaN</td>\n",
       "      <td>1477.532353</td>\n",
       "      <td>1.0</td>\n",
       "      <td>0.085509</td>\n",
       "    </tr>\n",
       "    <tr>\n",
       "      <th>std</th>\n",
       "      <td>1300.447544</td>\n",
       "      <td>3.327957</td>\n",
       "      <td>0.0</td>\n",
       "      <td>NaN</td>\n",
       "      <td>NaN</td>\n",
       "      <td>498.685677</td>\n",
       "      <td>0.0</td>\n",
       "      <td>0.080119</td>\n",
       "    </tr>\n",
       "    <tr>\n",
       "      <th>min</th>\n",
       "      <td>0.000000</td>\n",
       "      <td>2010.000000</td>\n",
       "      <td>0.0</td>\n",
       "      <td>NaN</td>\n",
       "      <td>NaN</td>\n",
       "      <td>131.000000</td>\n",
       "      <td>1.0</td>\n",
       "      <td>-0.275000</td>\n",
       "    </tr>\n",
       "    <tr>\n",
       "      <th>25%</th>\n",
       "      <td>1197.750000</td>\n",
       "      <td>2014.000000</td>\n",
       "      <td>0.0</td>\n",
       "      <td>NaN</td>\n",
       "      <td>NaN</td>\n",
       "      <td>1154.000000</td>\n",
       "      <td>1.0</td>\n",
       "      <td>0.033890</td>\n",
       "    </tr>\n",
       "    <tr>\n",
       "      <th>50%</th>\n",
       "      <td>2330.500000</td>\n",
       "      <td>2016.000000</td>\n",
       "      <td>0.0</td>\n",
       "      <td>NaN</td>\n",
       "      <td>NaN</td>\n",
       "      <td>1479.000000</td>\n",
       "      <td>1.0</td>\n",
       "      <td>0.082183</td>\n",
       "    </tr>\n",
       "    <tr>\n",
       "      <th>75%</th>\n",
       "      <td>3479.250000</td>\n",
       "      <td>2019.000000</td>\n",
       "      <td>0.0</td>\n",
       "      <td>NaN</td>\n",
       "      <td>NaN</td>\n",
       "      <td>1768.500000</td>\n",
       "      <td>1.0</td>\n",
       "      <td>0.132380</td>\n",
       "    </tr>\n",
       "    <tr>\n",
       "      <th>max</th>\n",
       "      <td>4496.000000</td>\n",
       "      <td>2021.000000</td>\n",
       "      <td>0.0</td>\n",
       "      <td>NaN</td>\n",
       "      <td>NaN</td>\n",
       "      <td>3980.000000</td>\n",
       "      <td>1.0</td>\n",
       "      <td>0.525000</td>\n",
       "    </tr>\n",
       "  </tbody>\n",
       "</table>\n",
       "</div>"
      ],
      "text/plain": [
       "             index         year   cites  article_url  fulltext_url  \\\n",
       "count  2720.000000  2720.000000  2720.0          0.0           0.0   \n",
       "mean   2307.337132  2016.055147     0.0          NaN           NaN   \n",
       "std    1300.447544     3.327957     0.0          NaN           NaN   \n",
       "min       0.000000  2010.000000     0.0          NaN           NaN   \n",
       "25%    1197.750000  2014.000000     0.0          NaN           NaN   \n",
       "50%    2330.500000  2016.000000     0.0          NaN           NaN   \n",
       "75%    3479.250000  2019.000000     0.0          NaN           NaN   \n",
       "max    4496.000000  2021.000000     0.0          NaN           NaN   \n",
       "\n",
       "       abstractLength  pubmed  abstractSentimentScore_TB  \n",
       "count     2720.000000  2720.0                2720.000000  \n",
       "mean      1477.532353     1.0                   0.085509  \n",
       "std        498.685677     0.0                   0.080119  \n",
       "min        131.000000     1.0                  -0.275000  \n",
       "25%       1154.000000     1.0                   0.033890  \n",
       "50%       1479.000000     1.0                   0.082183  \n",
       "75%       1768.500000     1.0                   0.132380  \n",
       "max       3980.000000     1.0                   0.525000  "
      ]
     },
     "execution_count": 1018,
     "metadata": {},
     "output_type": "execute_result"
    }
   ],
   "source": [
    "LymeDisease.describe()"
   ]
  },
  {
   "cell_type": "markdown",
   "metadata": {
    "ExecuteTime": {
     "end_time": "2021-10-08T01:33:36.444043Z",
     "start_time": "2021-10-08T01:33:36.441508Z"
    }
   },
   "source": [
    "### N-Grams"
   ]
  },
  {
   "cell_type": "code",
   "execution_count": 1084,
   "metadata": {
    "ExecuteTime": {
     "end_time": "2021-10-08T23:14:04.509047Z",
     "start_time": "2021-10-08T23:14:04.498997Z"
    }
   },
   "outputs": [],
   "source": [
    "from nltk import bigrams\n",
    "from nltk import trigrams\n",
    "from nltk.util import ngrams\n",
    "from collections import Counter\n",
    "# from nltk.collocations import *"
   ]
  },
  {
   "cell_type": "code",
   "execution_count": 1239,
   "metadata": {
    "ExecuteTime": {
     "end_time": "2021-10-08T23:14:04.509047Z",
     "start_time": "2021-10-08T23:14:04.498997Z"
    }
   },
   "outputs": [],
   "source": [
    "def documentNgrams(documents, ngramsize, numReturned):\n",
    "    ngrams_all = []\n",
    "    for document in documents:\n",
    "        tokens = document.split()\n",
    "        if len(tokens) <= ngramsize:\n",
    "            continue\n",
    "        else:\n",
    "            output = list(ngrams(tokens, ngramsize))\n",
    "        for ngram in output:\n",
    "            ngrams_all.append(\" \".join(ngram))\n",
    "    cnt_ngram = Counter()\n",
    "    for word in ngrams_all:\n",
    "        cnt_ngram[word] += 1\n",
    "    df = pd.DataFrame.from_dict(cnt_ngram, orient='index').reset_index()\n",
    "    df = df.rename(columns={'index':'words', 0:'count'})\n",
    "    df = df.sort_values(by='count', ascending=False)\n",
    "    df = df.reset_index(drop=True)\n",
    "    df = df.head(numReturned)\n",
    "    #df = df.sort_values(by='count')\n",
    "    return(df)"
   ]
  },
  {
   "cell_type": "markdown",
   "metadata": {},
   "source": [
    "Running ngrams helped find some combinations of the most common species terms which had been missed first time around in the cleaning process and will need to be added manually to the text cleaning or species normalisation processes.\n",
    "* Borrelia burgdorferi sensu lato\n",
    "* Borrelia burgdorferi sensu stricto\n",
    "* b burgdorferi\n",
    "* b burgdorferi\n",
    "* b burgdorferi sensu stricto\n",
    "* BorreliaBurgdorferi sl\n",
    "* BorreliaBurgdorferi sensu lato\n",
    "* b burgdorferi sensu stricto\n",
    "* Ixodes ricinus"
   ]
  },
  {
   "cell_type": "code",
   "execution_count": 1240,
   "metadata": {
    "ExecuteTime": {
     "end_time": "2021-10-08T23:14:10.567476Z",
     "start_time": "2021-10-08T23:14:10.238838Z"
    }
   },
   "outputs": [
    {
     "data": {
      "text/html": [
       "<div>\n",
       "<style scoped>\n",
       "    .dataframe tbody tr th:only-of-type {\n",
       "        vertical-align: middle;\n",
       "    }\n",
       "\n",
       "    .dataframe tbody tr th {\n",
       "        vertical-align: top;\n",
       "    }\n",
       "\n",
       "    .dataframe thead th {\n",
       "        text-align: right;\n",
       "    }\n",
       "</style>\n",
       "<table border=\"1\" class=\"dataframe\">\n",
       "  <thead>\n",
       "    <tr style=\"text-align: right;\">\n",
       "      <th></th>\n",
       "      <th>words</th>\n",
       "      <th>count</th>\n",
       "    </tr>\n",
       "  </thead>\n",
       "  <tbody>\n",
       "    <tr>\n",
       "      <th>0</th>\n",
       "      <td>tick</td>\n",
       "      <td>6639</td>\n",
       "    </tr>\n",
       "    <tr>\n",
       "      <th>1</th>\n",
       "      <td>disease</td>\n",
       "      <td>6385</td>\n",
       "    </tr>\n",
       "    <tr>\n",
       "      <th>2</th>\n",
       "      <td>Lyme</td>\n",
       "      <td>5669</td>\n",
       "    </tr>\n",
       "    <tr>\n",
       "      <th>3</th>\n",
       "      <td>BorreliaBurgdorferi</td>\n",
       "      <td>3288</td>\n",
       "    </tr>\n",
       "    <tr>\n",
       "      <th>4</th>\n",
       "      <td>patient</td>\n",
       "      <td>2841</td>\n",
       "    </tr>\n",
       "    <tr>\n",
       "      <th>5</th>\n",
       "      <td>infection</td>\n",
       "      <td>2605</td>\n",
       "    </tr>\n",
       "    <tr>\n",
       "      <th>6</th>\n",
       "      <td>study</td>\n",
       "      <td>2411</td>\n",
       "    </tr>\n",
       "    <tr>\n",
       "      <th>7</th>\n",
       "      <td>host</td>\n",
       "      <td>1799</td>\n",
       "    </tr>\n",
       "    <tr>\n",
       "      <th>8</th>\n",
       "      <td>Borrelia</td>\n",
       "      <td>1608</td>\n",
       "    </tr>\n",
       "    <tr>\n",
       "      <th>9</th>\n",
       "      <td>pathogen</td>\n",
       "      <td>1607</td>\n",
       "    </tr>\n",
       "    <tr>\n",
       "      <th>10</th>\n",
       "      <td>borne</td>\n",
       "      <td>1532</td>\n",
       "    </tr>\n",
       "    <tr>\n",
       "      <th>11</th>\n",
       "      <td>human</td>\n",
       "      <td>1486</td>\n",
       "    </tr>\n",
       "    <tr>\n",
       "      <th>12</th>\n",
       "      <td>protein</td>\n",
       "      <td>1361</td>\n",
       "    </tr>\n",
       "    <tr>\n",
       "      <th>13</th>\n",
       "      <td>vector</td>\n",
       "      <td>1304</td>\n",
       "    </tr>\n",
       "    <tr>\n",
       "      <th>14</th>\n",
       "      <td>spcies</td>\n",
       "      <td>1240</td>\n",
       "    </tr>\n",
       "    <tr>\n",
       "      <th>15</th>\n",
       "      <td>treatment</td>\n",
       "      <td>1174</td>\n",
       "    </tr>\n",
       "    <tr>\n",
       "      <th>16</th>\n",
       "      <td>case</td>\n",
       "      <td>1162</td>\n",
       "    </tr>\n",
       "    <tr>\n",
       "      <th>17</th>\n",
       "      <td>risk</td>\n",
       "      <td>1084</td>\n",
       "    </tr>\n",
       "    <tr>\n",
       "      <th>18</th>\n",
       "      <td>result</td>\n",
       "      <td>1073</td>\n",
       "    </tr>\n",
       "    <tr>\n",
       "      <th>19</th>\n",
       "      <td>cell</td>\n",
       "      <td>1046</td>\n",
       "    </tr>\n",
       "  </tbody>\n",
       "</table>\n",
       "</div>"
      ],
      "text/plain": [
       "                  words  count\n",
       "0                  tick   6639\n",
       "1               disease   6385\n",
       "2                  Lyme   5669\n",
       "3   BorreliaBurgdorferi   3288\n",
       "4               patient   2841\n",
       "5             infection   2605\n",
       "6                 study   2411\n",
       "7                  host   1799\n",
       "8              Borrelia   1608\n",
       "9              pathogen   1607\n",
       "10                borne   1532\n",
       "11                human   1486\n",
       "12              protein   1361\n",
       "13               vector   1304\n",
       "14               spcies   1240\n",
       "15            treatment   1174\n",
       "16                 case   1162\n",
       "17                 risk   1084\n",
       "18               result   1073\n",
       "19                 cell   1046"
      ]
     },
     "execution_count": 1240,
     "metadata": {},
     "output_type": "execute_result"
    }
   ],
   "source": [
    "mostCommonWords = documentNgrams(LymeDisease.abstractLemmaNoStopNLTK, 1, 20)\n",
    "mostCommonWords"
   ]
  },
  {
   "cell_type": "code",
   "execution_count": 1235,
   "metadata": {
    "ExecuteTime": {
     "end_time": "2021-10-08T23:08:38.663374Z",
     "start_time": "2021-10-08T23:08:38.055866Z"
    }
   },
   "outputs": [
    {
     "data": {
      "text/html": [
       "<div>\n",
       "<style scoped>\n",
       "    .dataframe tbody tr th:only-of-type {\n",
       "        vertical-align: middle;\n",
       "    }\n",
       "\n",
       "    .dataframe tbody tr th {\n",
       "        vertical-align: top;\n",
       "    }\n",
       "\n",
       "    .dataframe thead th {\n",
       "        text-align: right;\n",
       "    }\n",
       "</style>\n",
       "<table border=\"1\" class=\"dataframe\">\n",
       "  <thead>\n",
       "    <tr style=\"text-align: right;\">\n",
       "      <th></th>\n",
       "      <th>words</th>\n",
       "      <th>count</th>\n",
       "    </tr>\n",
       "  </thead>\n",
       "  <tbody>\n",
       "    <tr>\n",
       "      <th>0</th>\n",
       "      <td>Lyme disease</td>\n",
       "      <td>3833</td>\n",
       "    </tr>\n",
       "    <tr>\n",
       "      <th>1</th>\n",
       "      <td>tick borne</td>\n",
       "      <td>1053</td>\n",
       "    </tr>\n",
       "    <tr>\n",
       "      <th>2</th>\n",
       "      <td>Lyme borreliosis</td>\n",
       "      <td>766</td>\n",
       "    </tr>\n",
       "    <tr>\n",
       "      <th>3</th>\n",
       "      <td>borne disease</td>\n",
       "      <td>634</td>\n",
       "    </tr>\n",
       "    <tr>\n",
       "      <th>4</th>\n",
       "      <td>tick bite</td>\n",
       "      <td>514</td>\n",
       "    </tr>\n",
       "    <tr>\n",
       "      <th>5</th>\n",
       "      <td>United States</td>\n",
       "      <td>454</td>\n",
       "    </tr>\n",
       "    <tr>\n",
       "      <th>6</th>\n",
       "      <td>vector borne</td>\n",
       "      <td>326</td>\n",
       "    </tr>\n",
       "    <tr>\n",
       "      <th>7</th>\n",
       "      <td>borne pathogen</td>\n",
       "      <td>324</td>\n",
       "    </tr>\n",
       "    <tr>\n",
       "      <th>8</th>\n",
       "      <td>agent Lyme</td>\n",
       "      <td>323</td>\n",
       "    </tr>\n",
       "    <tr>\n",
       "      <th>9</th>\n",
       "      <td>erythema migrans</td>\n",
       "      <td>308</td>\n",
       "    </tr>\n",
       "    <tr>\n",
       "      <th>10</th>\n",
       "      <td>public health</td>\n",
       "      <td>286</td>\n",
       "    </tr>\n",
       "    <tr>\n",
       "      <th>11</th>\n",
       "      <td>tick vector</td>\n",
       "      <td>257</td>\n",
       "    </tr>\n",
       "    <tr>\n",
       "      <th>12</th>\n",
       "      <td>North America</td>\n",
       "      <td>249</td>\n",
       "    </tr>\n",
       "    <tr>\n",
       "      <th>13</th>\n",
       "      <td>Lyme arthritis</td>\n",
       "      <td>246</td>\n",
       "    </tr>\n",
       "    <tr>\n",
       "      <th>14</th>\n",
       "      <td>causative agent</td>\n",
       "      <td>242</td>\n",
       "    </tr>\n",
       "    <tr>\n",
       "      <th>15</th>\n",
       "      <td>Borrelia sp</td>\n",
       "      <td>198</td>\n",
       "    </tr>\n",
       "    <tr>\n",
       "      <th>16</th>\n",
       "      <td>BorreliaBurgdorferi infection</td>\n",
       "      <td>191</td>\n",
       "    </tr>\n",
       "    <tr>\n",
       "      <th>17</th>\n",
       "      <td>Ixodes scapularis</td>\n",
       "      <td>185</td>\n",
       "    </tr>\n",
       "    <tr>\n",
       "      <th>18</th>\n",
       "      <td>Lyme neuroborreliosis</td>\n",
       "      <td>184</td>\n",
       "    </tr>\n",
       "    <tr>\n",
       "      <th>19</th>\n",
       "      <td>relapsing fever</td>\n",
       "      <td>184</td>\n",
       "    </tr>\n",
       "  </tbody>\n",
       "</table>\n",
       "</div>"
      ],
      "text/plain": [
       "                            words  count\n",
       "0                    Lyme disease   3833\n",
       "1                      tick borne   1053\n",
       "2                Lyme borreliosis    766\n",
       "3                   borne disease    634\n",
       "4                       tick bite    514\n",
       "5                   United States    454\n",
       "6                    vector borne    326\n",
       "7                  borne pathogen    324\n",
       "8                      agent Lyme    323\n",
       "9                erythema migrans    308\n",
       "10                  public health    286\n",
       "11                    tick vector    257\n",
       "12                  North America    249\n",
       "13                 Lyme arthritis    246\n",
       "14                causative agent    242\n",
       "15                    Borrelia sp    198\n",
       "16  BorreliaBurgdorferi infection    191\n",
       "17              Ixodes scapularis    185\n",
       "18          Lyme neuroborreliosis    184\n",
       "19                relapsing fever    184"
      ]
     },
     "execution_count": 1235,
     "metadata": {},
     "output_type": "execute_result"
    }
   ],
   "source": [
    "mostCommonBigrams = documentNgrams(LymeDisease.abstractLemmaNoStopNLTK, 2, 20)\n",
    "mostCommonBigrams"
   ]
  },
  {
   "cell_type": "code",
   "execution_count": 1236,
   "metadata": {
    "ExecuteTime": {
     "end_time": "2021-10-08T23:08:58.719683Z",
     "start_time": "2021-10-08T23:08:58.058032Z"
    }
   },
   "outputs": [
    {
     "data": {
      "text/html": [
       "<div>\n",
       "<style scoped>\n",
       "    .dataframe tbody tr th:only-of-type {\n",
       "        vertical-align: middle;\n",
       "    }\n",
       "\n",
       "    .dataframe tbody tr th {\n",
       "        vertical-align: top;\n",
       "    }\n",
       "\n",
       "    .dataframe thead th {\n",
       "        text-align: right;\n",
       "    }\n",
       "</style>\n",
       "<table border=\"1\" class=\"dataframe\">\n",
       "  <thead>\n",
       "    <tr style=\"text-align: right;\">\n",
       "      <th></th>\n",
       "      <th>words</th>\n",
       "      <th>count</th>\n",
       "    </tr>\n",
       "  </thead>\n",
       "  <tbody>\n",
       "    <tr>\n",
       "      <th>0</th>\n",
       "      <td>tick borne disease</td>\n",
       "      <td>389</td>\n",
       "    </tr>\n",
       "    <tr>\n",
       "      <th>1</th>\n",
       "      <td>agent Lyme disease</td>\n",
       "      <td>264</td>\n",
       "    </tr>\n",
       "    <tr>\n",
       "      <th>2</th>\n",
       "      <td>tick borne pathogen</td>\n",
       "      <td>246</td>\n",
       "    </tr>\n",
       "    <tr>\n",
       "      <th>3</th>\n",
       "      <td>causative agent Lyme</td>\n",
       "      <td>192</td>\n",
       "    </tr>\n",
       "    <tr>\n",
       "      <th>4</th>\n",
       "      <td>vector borne disease</td>\n",
       "      <td>182</td>\n",
       "    </tr>\n",
       "    <tr>\n",
       "      <th>5</th>\n",
       "      <td>Lyme disease LD</td>\n",
       "      <td>162</td>\n",
       "    </tr>\n",
       "    <tr>\n",
       "      <th>6</th>\n",
       "      <td>Lyme disease patient</td>\n",
       "      <td>124</td>\n",
       "    </tr>\n",
       "    <tr>\n",
       "      <th>7</th>\n",
       "      <td>Lyme borreliosis LB</td>\n",
       "      <td>124</td>\n",
       "    </tr>\n",
       "    <tr>\n",
       "      <th>8</th>\n",
       "      <td>treatment Lyme disease</td>\n",
       "      <td>120</td>\n",
       "    </tr>\n",
       "    <tr>\n",
       "      <th>9</th>\n",
       "      <td>Lyme disease sprochete</td>\n",
       "      <td>118</td>\n",
       "    </tr>\n",
       "    <tr>\n",
       "      <th>10</th>\n",
       "      <td>BorreliaBurgdorferi causative agent</td>\n",
       "      <td>111</td>\n",
       "    </tr>\n",
       "    <tr>\n",
       "      <th>11</th>\n",
       "      <td>outer surface protein</td>\n",
       "      <td>107</td>\n",
       "    </tr>\n",
       "    <tr>\n",
       "      <th>12</th>\n",
       "      <td>tick borne encephalitis</td>\n",
       "      <td>104</td>\n",
       "    </tr>\n",
       "    <tr>\n",
       "      <th>13</th>\n",
       "      <td>early Lyme disease</td>\n",
       "      <td>97</td>\n",
       "    </tr>\n",
       "    <tr>\n",
       "      <th>14</th>\n",
       "      <td>polymerase chain reaction</td>\n",
       "      <td>88</td>\n",
       "    </tr>\n",
       "    <tr>\n",
       "      <th>15</th>\n",
       "      <td>diagnosis Lyme disease</td>\n",
       "      <td>82</td>\n",
       "    </tr>\n",
       "    <tr>\n",
       "      <th>16</th>\n",
       "      <td>cause Lyme disease</td>\n",
       "      <td>79</td>\n",
       "    </tr>\n",
       "    <tr>\n",
       "      <th>17</th>\n",
       "      <td>tick borne infection</td>\n",
       "      <td>77</td>\n",
       "    </tr>\n",
       "    <tr>\n",
       "      <th>18</th>\n",
       "      <td>Lyme disease case</td>\n",
       "      <td>76</td>\n",
       "    </tr>\n",
       "    <tr>\n",
       "      <th>19</th>\n",
       "      <td>disease United States</td>\n",
       "      <td>76</td>\n",
       "    </tr>\n",
       "  </tbody>\n",
       "</table>\n",
       "</div>"
      ],
      "text/plain": [
       "                                  words  count\n",
       "0                    tick borne disease    389\n",
       "1                    agent Lyme disease    264\n",
       "2                   tick borne pathogen    246\n",
       "3                  causative agent Lyme    192\n",
       "4                  vector borne disease    182\n",
       "5                       Lyme disease LD    162\n",
       "6                  Lyme disease patient    124\n",
       "7                   Lyme borreliosis LB    124\n",
       "8                treatment Lyme disease    120\n",
       "9                Lyme disease sprochete    118\n",
       "10  BorreliaBurgdorferi causative agent    111\n",
       "11                outer surface protein    107\n",
       "12              tick borne encephalitis    104\n",
       "13                   early Lyme disease     97\n",
       "14            polymerase chain reaction     88\n",
       "15               diagnosis Lyme disease     82\n",
       "16                   cause Lyme disease     79\n",
       "17                 tick borne infection     77\n",
       "18                    Lyme disease case     76\n",
       "19                disease United States     76"
      ]
     },
     "execution_count": 1236,
     "metadata": {},
     "output_type": "execute_result"
    }
   ],
   "source": [
    "mostCommonTrigrams = documentNgrams(LymeDisease.abstractLemmaNoStopNLTK, 3, 20)\n",
    "mostCommonTrigrams"
   ]
  },
  {
   "cell_type": "code",
   "execution_count": 1237,
   "metadata": {
    "ExecuteTime": {
     "end_time": "2021-10-08T23:10:32.031654Z",
     "start_time": "2021-10-08T23:10:31.422047Z"
    }
   },
   "outputs": [
    {
     "data": {
      "text/html": [
       "<div>\n",
       "<style scoped>\n",
       "    .dataframe tbody tr th:only-of-type {\n",
       "        vertical-align: middle;\n",
       "    }\n",
       "\n",
       "    .dataframe tbody tr th {\n",
       "        vertical-align: top;\n",
       "    }\n",
       "\n",
       "    .dataframe thead th {\n",
       "        text-align: right;\n",
       "    }\n",
       "</style>\n",
       "<table border=\"1\" class=\"dataframe\">\n",
       "  <thead>\n",
       "    <tr style=\"text-align: right;\">\n",
       "      <th></th>\n",
       "      <th>words</th>\n",
       "      <th>count</th>\n",
       "    </tr>\n",
       "  </thead>\n",
       "  <tbody>\n",
       "    <tr>\n",
       "      <th>0</th>\n",
       "      <td>causative agent Lyme disease</td>\n",
       "      <td>159</td>\n",
       "    </tr>\n",
       "    <tr>\n",
       "      <th>1</th>\n",
       "      <td>BorreliaBurgdorferi causative agent Lyme</td>\n",
       "      <td>106</td>\n",
       "    </tr>\n",
       "    <tr>\n",
       "      <th>2</th>\n",
       "      <td>Lyme disease sprochete BorreliaBurgdorferi</td>\n",
       "      <td>65</td>\n",
       "    </tr>\n",
       "    <tr>\n",
       "      <th>3</th>\n",
       "      <td>enzyme linked immunosorbent assay</td>\n",
       "      <td>57</td>\n",
       "    </tr>\n",
       "    <tr>\n",
       "      <th>4</th>\n",
       "      <td>Lyme disease tick borne</td>\n",
       "      <td>51</td>\n",
       "    </tr>\n",
       "    <tr>\n",
       "      <th>5</th>\n",
       "      <td>common vector borne disease</td>\n",
       "      <td>50</td>\n",
       "    </tr>\n",
       "    <tr>\n",
       "      <th>6</th>\n",
       "      <td>post treatment Lyme disease</td>\n",
       "      <td>49</td>\n",
       "    </tr>\n",
       "    <tr>\n",
       "      <th>7</th>\n",
       "      <td>borne disease United States</td>\n",
       "      <td>45</td>\n",
       "    </tr>\n",
       "    <tr>\n",
       "      <th>8</th>\n",
       "      <td>Centers Disease Control Prevention</td>\n",
       "      <td>42</td>\n",
       "    </tr>\n",
       "    <tr>\n",
       "      <th>9</th>\n",
       "      <td>B afzelii B garinii</td>\n",
       "      <td>41</td>\n",
       "    </tr>\n",
       "    <tr>\n",
       "      <th>10</th>\n",
       "      <td>treatment Lyme disease syndrome</td>\n",
       "      <td>41</td>\n",
       "    </tr>\n",
       "    <tr>\n",
       "      <th>11</th>\n",
       "      <td>polymerase chain reaction PCR</td>\n",
       "      <td>38</td>\n",
       "    </tr>\n",
       "    <tr>\n",
       "      <th>12</th>\n",
       "      <td>outer surface protein C</td>\n",
       "      <td>37</td>\n",
       "    </tr>\n",
       "    <tr>\n",
       "      <th>13</th>\n",
       "      <td>tick borne encephalitis virus</td>\n",
       "      <td>35</td>\n",
       "    </tr>\n",
       "    <tr>\n",
       "      <th>14</th>\n",
       "      <td>common tick borne disease</td>\n",
       "      <td>34</td>\n",
       "    </tr>\n",
       "    <tr>\n",
       "      <th>15</th>\n",
       "      <td>vector borne disease United</td>\n",
       "      <td>33</td>\n",
       "    </tr>\n",
       "    <tr>\n",
       "      <th>16</th>\n",
       "      <td>disease common vector borne</td>\n",
       "      <td>31</td>\n",
       "    </tr>\n",
       "    <tr>\n",
       "      <th>17</th>\n",
       "      <td>Lyme disease common vector</td>\n",
       "      <td>31</td>\n",
       "    </tr>\n",
       "    <tr>\n",
       "      <th>18</th>\n",
       "      <td>linked immunosorbent assay ELISA</td>\n",
       "      <td>30</td>\n",
       "    </tr>\n",
       "    <tr>\n",
       "      <th>19</th>\n",
       "      <td>causative agent Lyme borreliosis</td>\n",
       "      <td>28</td>\n",
       "    </tr>\n",
       "  </tbody>\n",
       "</table>\n",
       "</div>"
      ],
      "text/plain": [
       "                                         words  count\n",
       "0                 causative agent Lyme disease    159\n",
       "1     BorreliaBurgdorferi causative agent Lyme    106\n",
       "2   Lyme disease sprochete BorreliaBurgdorferi     65\n",
       "3            enzyme linked immunosorbent assay     57\n",
       "4                      Lyme disease tick borne     51\n",
       "5                  common vector borne disease     50\n",
       "6                  post treatment Lyme disease     49\n",
       "7                  borne disease United States     45\n",
       "8           Centers Disease Control Prevention     42\n",
       "9                          B afzelii B garinii     41\n",
       "10             treatment Lyme disease syndrome     41\n",
       "11               polymerase chain reaction PCR     38\n",
       "12                     outer surface protein C     37\n",
       "13               tick borne encephalitis virus     35\n",
       "14                   common tick borne disease     34\n",
       "15                 vector borne disease United     33\n",
       "16                 disease common vector borne     31\n",
       "17                  Lyme disease common vector     31\n",
       "18            linked immunosorbent assay ELISA     30\n",
       "19            causative agent Lyme borreliosis     28"
      ]
     },
     "execution_count": 1237,
     "metadata": {},
     "output_type": "execute_result"
    }
   ],
   "source": [
    "mostCommon4grams = documentNgrams(LymeDisease.abstractLemmaNoStopNLTK, 4, 20)\n",
    "mostCommon4grams"
   ]
  },
  {
   "cell_type": "code",
   "execution_count": 1238,
   "metadata": {
    "ExecuteTime": {
     "end_time": "2021-10-08T23:10:48.036062Z",
     "start_time": "2021-10-08T23:10:47.363697Z"
    }
   },
   "outputs": [
    {
     "data": {
      "text/html": [
       "<div>\n",
       "<style scoped>\n",
       "    .dataframe tbody tr th:only-of-type {\n",
       "        vertical-align: middle;\n",
       "    }\n",
       "\n",
       "    .dataframe tbody tr th {\n",
       "        vertical-align: top;\n",
       "    }\n",
       "\n",
       "    .dataframe thead th {\n",
       "        text-align: right;\n",
       "    }\n",
       "</style>\n",
       "<table border=\"1\" class=\"dataframe\">\n",
       "  <thead>\n",
       "    <tr style=\"text-align: right;\">\n",
       "      <th></th>\n",
       "      <th>words</th>\n",
       "      <th>count</th>\n",
       "    </tr>\n",
       "  </thead>\n",
       "  <tbody>\n",
       "    <tr>\n",
       "      <th>0</th>\n",
       "      <td>BorreliaBurgdorferi causative agent Lyme disease</td>\n",
       "      <td>97</td>\n",
       "    </tr>\n",
       "    <tr>\n",
       "      <th>1</th>\n",
       "      <td>post treatment Lyme disease syndrome</td>\n",
       "      <td>40</td>\n",
       "    </tr>\n",
       "    <tr>\n",
       "      <th>2</th>\n",
       "      <td>vector borne disease United States</td>\n",
       "      <td>32</td>\n",
       "    </tr>\n",
       "    <tr>\n",
       "      <th>3</th>\n",
       "      <td>Lyme disease common vector borne</td>\n",
       "      <td>31</td>\n",
       "    </tr>\n",
       "    <tr>\n",
       "      <th>4</th>\n",
       "      <td>enzyme linked immunosorbent assay ELISA</td>\n",
       "      <td>30</td>\n",
       "    </tr>\n",
       "    <tr>\n",
       "      <th>5</th>\n",
       "      <td>disease common vector borne disease</td>\n",
       "      <td>22</td>\n",
       "    </tr>\n",
       "    <tr>\n",
       "      <th>6</th>\n",
       "      <td>common vector borne disease United</td>\n",
       "      <td>20</td>\n",
       "    </tr>\n",
       "    <tr>\n",
       "      <th>7</th>\n",
       "      <td>outer surface protein C Osp</td>\n",
       "      <td>18</td>\n",
       "    </tr>\n",
       "    <tr>\n",
       "      <th>8</th>\n",
       "      <td>Lyme disease common tick borne</td>\n",
       "      <td>17</td>\n",
       "    </tr>\n",
       "    <tr>\n",
       "      <th>9</th>\n",
       "      <td>Lyme disease tick borne disease</td>\n",
       "      <td>15</td>\n",
       "    </tr>\n",
       "    <tr>\n",
       "      <th>10</th>\n",
       "      <td>white footed mouse Peromyscus leucopus</td>\n",
       "      <td>15</td>\n",
       "    </tr>\n",
       "    <tr>\n",
       "      <th>11</th>\n",
       "      <td>treatment Lyme disease syndrome PTLDS</td>\n",
       "      <td>14</td>\n",
       "    </tr>\n",
       "    <tr>\n",
       "      <th>12</th>\n",
       "      <td>Lyme disease tick borne encephalitis</td>\n",
       "      <td>13</td>\n",
       "    </tr>\n",
       "    <tr>\n",
       "      <th>13</th>\n",
       "      <td>Centers Disease Control Prevention CDC</td>\n",
       "      <td>12</td>\n",
       "    </tr>\n",
       "    <tr>\n",
       "      <th>14</th>\n",
       "      <td>tick borne encephalitis virus TBEV</td>\n",
       "      <td>12</td>\n",
       "    </tr>\n",
       "    <tr>\n",
       "      <th>15</th>\n",
       "      <td>odds ratio confidence interval CI</td>\n",
       "      <td>11</td>\n",
       "    </tr>\n",
       "    <tr>\n",
       "      <th>16</th>\n",
       "      <td>vector borne disease North America</td>\n",
       "      <td>11</td>\n",
       "    </tr>\n",
       "    <tr>\n",
       "      <th>17</th>\n",
       "      <td>white tailed deer Odocoileus virginianus</td>\n",
       "      <td>11</td>\n",
       "    </tr>\n",
       "    <tr>\n",
       "      <th>18</th>\n",
       "      <td>disease common tick borne disease</td>\n",
       "      <td>11</td>\n",
       "    </tr>\n",
       "    <tr>\n",
       "      <th>19</th>\n",
       "      <td>causative agent Lyme disease BorreliaBurgdorferi</td>\n",
       "      <td>11</td>\n",
       "    </tr>\n",
       "  </tbody>\n",
       "</table>\n",
       "</div>"
      ],
      "text/plain": [
       "                                               words  count\n",
       "0   BorreliaBurgdorferi causative agent Lyme disease     97\n",
       "1               post treatment Lyme disease syndrome     40\n",
       "2                 vector borne disease United States     32\n",
       "3                   Lyme disease common vector borne     31\n",
       "4            enzyme linked immunosorbent assay ELISA     30\n",
       "5                disease common vector borne disease     22\n",
       "6                 common vector borne disease United     20\n",
       "7                        outer surface protein C Osp     18\n",
       "8                     Lyme disease common tick borne     17\n",
       "9                    Lyme disease tick borne disease     15\n",
       "10            white footed mouse Peromyscus leucopus     15\n",
       "11             treatment Lyme disease syndrome PTLDS     14\n",
       "12              Lyme disease tick borne encephalitis     13\n",
       "13            Centers Disease Control Prevention CDC     12\n",
       "14                tick borne encephalitis virus TBEV     12\n",
       "15                 odds ratio confidence interval CI     11\n",
       "16                vector borne disease North America     11\n",
       "17          white tailed deer Odocoileus virginianus     11\n",
       "18                 disease common tick borne disease     11\n",
       "19  causative agent Lyme disease BorreliaBurgdorferi     11"
      ]
     },
     "execution_count": 1238,
     "metadata": {},
     "output_type": "execute_result"
    }
   ],
   "source": [
    "mostCommon5grams = documentNgrams(LymeDisease.abstractLemmaNoStopNLTK, 5, 20)\n",
    "mostCommon5grams"
   ]
  },
  {
   "cell_type": "markdown",
   "metadata": {},
   "source": [
    "#### N-Gram Plots"
   ]
  },
  {
   "cell_type": "code",
   "execution_count": 1234,
   "metadata": {
    "ExecuteTime": {
     "end_time": "2021-10-08T23:07:41.121780Z",
     "start_time": "2021-10-08T23:07:40.803035Z"
    }
   },
   "outputs": [
    {
     "data": {
      "text/plain": [
       "''"
      ]
     },
     "execution_count": 1234,
     "metadata": {},
     "output_type": "execute_result"
    },
    {
     "data": {
      "image/png": "[encoded data removed]",
      "text/plain": [
       "<Figure size 1080x720 with 1 Axes>"
      ]
     },
     "metadata": {
      "needs_background": "light"
     },
     "output_type": "display_data"
    }
   ],
   "source": [
    "mostCommonWords.plot(x='words', y='count')\n",
    "plt.xlabel('Word')\n",
    "plt.ylabel('Count')\n",
    "plt.title('Most Common Words in Abstracts')\n",
    "plt.xticks(mostCommonWords.index, list(mostCommonWords.words), rotation=45, ha='right')\n",
    ";"
   ]
  },
  {
   "cell_type": "code",
   "execution_count": 1241,
   "metadata": {
    "ExecuteTime": {
     "end_time": "2021-10-08T23:16:41.687597Z",
     "start_time": "2021-10-08T23:16:41.286955Z"
    }
   },
   "outputs": [
    {
     "data": {
      "text/plain": [
       "''"
      ]
     },
     "execution_count": 1241,
     "metadata": {},
     "output_type": "execute_result"
    },
    {
     "data": {
      "image/png": "[encoded data removed]",
      "text/plain": [
       "<Figure size 1080x720 with 1 Axes>"
      ]
     },
     "metadata": {
      "needs_background": "light"
     },
     "output_type": "display_data"
    }
   ],
   "source": [
    "mostCommonBigrams.plot(x='words', y='count')\n",
    "plt.xlabel('Word')\n",
    "plt.ylabel('Count')\n",
    "plt.title('Most Common Bi-Grams in Abstracts')\n",
    "plt.xticks(mostCommonBigrams.index, list(mostCommonBigrams.words), rotation=45, ha='right')\n",
    ";"
   ]
  },
  {
   "cell_type": "code",
   "execution_count": 1242,
   "metadata": {
    "ExecuteTime": {
     "end_time": "2021-10-08T23:16:41.687597Z",
     "start_time": "2021-10-08T23:16:41.286955Z"
    }
   },
   "outputs": [
    {
     "data": {
      "text/plain": [
       "''"
      ]
     },
     "execution_count": 1242,
     "metadata": {},
     "output_type": "execute_result"
    },
    {
     "data": {
      "image/png": "[encoded data removed]",
      "text/plain": [
       "<Figure size 1080x720 with 1 Axes>"
      ]
     },
     "metadata": {
      "needs_background": "light"
     },
     "output_type": "display_data"
    }
   ],
   "source": [
    "mostCommonTrigrams.plot(x='words', y='count')\n",
    "plt.xlabel('Word')\n",
    "plt.ylabel('Count')\n",
    "plt.title('Most Common Trigrams in Abstracts')\n",
    "plt.xticks(mostCommonTrigrams.index, list(mostCommonTrigrams.words), rotation=45, ha='right')\n",
    ";"
   ]
  },
  {
   "cell_type": "code",
   "execution_count": 1244,
   "metadata": {
    "ExecuteTime": {
     "end_time": "2021-10-08T23:16:41.687597Z",
     "start_time": "2021-10-08T23:16:41.286955Z"
    }
   },
   "outputs": [
    {
     "data": {
      "text/plain": [
       "''"
      ]
     },
     "execution_count": 1244,
     "metadata": {},
     "output_type": "execute_result"
    },
    {
     "data": {
      "image/png": "[encoded data removed]",
      "text/plain": [
       "<Figure size 1080x720 with 1 Axes>"
      ]
     },
     "metadata": {
      "needs_background": "light"
     },
     "output_type": "display_data"
    }
   ],
   "source": [
    "mostCommon4grams.plot(x='words', y='count')\n",
    "plt.xlabel('Word')\n",
    "plt.ylabel('Count')\n",
    "plt.title('Most Common 4-grams in Abstracts')\n",
    "plt.xticks(mostCommon4grams.index, list(mostCommon4grams.words), rotation=45, ha='right')\n",
    ";"
   ]
  },
  {
   "cell_type": "code",
   "execution_count": 1245,
   "metadata": {
    "ExecuteTime": {
     "end_time": "2021-10-08T23:16:41.687597Z",
     "start_time": "2021-10-08T23:16:41.286955Z"
    }
   },
   "outputs": [
    {
     "data": {
      "text/plain": [
       "''"
      ]
     },
     "execution_count": 1245,
     "metadata": {},
     "output_type": "execute_result"
    },
    {
     "data": {
      "image/png": "[encoded data removed]",
      "text/plain": [
       "<Figure size 1080x720 with 1 Axes>"
      ]
     },
     "metadata": {
      "needs_background": "light"
     },
     "output_type": "display_data"
    }
   ],
   "source": [
    "mostCommon5grams.plot(x='words', y='count')\n",
    "plt.xlabel('Word')\n",
    "plt.ylabel('Count')\n",
    "plt.title('Most Common 5-grams in Abstracts')\n",
    "plt.xticks(mostCommon5grams.index, list(mostCommon5grams.words), rotation=45, ha='right')\n",
    ";"
   ]
  },
  {
   "cell_type": "markdown",
   "metadata": {},
   "source": [
    "### Abstract Length"
   ]
  },
  {
   "cell_type": "code",
   "execution_count": 1121,
   "metadata": {
    "ExecuteTime": {
     "end_time": "2021-10-08T02:00:47.974828Z",
     "start_time": "2021-10-08T02:00:47.707667Z"
    }
   },
   "outputs": [
    {
     "data": {
      "image/png": "[encoded data removed]",
      "text/plain": [
       "<Figure size 1080x720 with 1 Axes>"
      ]
     },
     "metadata": {
      "needs_background": "light"
     },
     "output_type": "display_data"
    }
   ],
   "source": [
    "LymeDisease.abstractLength.hist()\n",
    "plt.xlabel('Abstract Length')\n",
    "plt.xlabel('Length')\n",
    "plt.ylabel('Count')\n",
    "plt.title('Length of Raw Abstracts in PubMed Results');"
   ]
  },
  {
   "cell_type": "markdown",
   "metadata": {},
   "source": [
    "### Abstract Sentiment Score"
   ]
  },
  {
   "cell_type": "code",
   "execution_count": 1123,
   "metadata": {
    "ExecuteTime": {
     "end_time": "2021-10-08T02:01:15.377065Z",
     "start_time": "2021-10-08T02:01:15.104602Z"
    }
   },
   "outputs": [
    {
     "data": {
      "image/png": "[encoded data removed]",
      "text/plain": [
       "<Figure size 1080x720 with 1 Axes>"
      ]
     },
     "metadata": {
      "needs_background": "light"
     },
     "output_type": "display_data"
    }
   ],
   "source": [
    "LymeDisease.abstractSentimentScore_TB.hist()\n",
    "plt.title('Sentiment Score of Raw Abstract')\n",
    "plt.xlabel('Sentiment')\n",
    "plt.ylabel('Count');"
   ]
  },
  {
   "cell_type": "code",
   "execution_count": 1124,
   "metadata": {
    "ExecuteTime": {
     "end_time": "2021-10-08T02:01:52.192667Z",
     "start_time": "2021-10-08T02:01:51.961232Z"
    }
   },
   "outputs": [
    {
     "data": {
      "image/png": "[encoded data removed]",
      "text/plain": [
       "<Figure size 1080x720 with 1 Axes>"
      ]
     },
     "metadata": {
      "needs_background": "light"
     },
     "output_type": "display_data"
    }
   ],
   "source": [
    "LymeDisease.processedAbstractNLTKSentimentScore_TB.hist()\n",
    "plt.title('Sentiment Score of Processed Abstract')\n",
    "plt.xlabel('Sentiment')\n",
    "plt.ylabel('Count');"
   ]
  },
  {
   "cell_type": "code",
   "execution_count": 1179,
   "metadata": {
    "ExecuteTime": {
     "end_time": "2021-10-08T02:21:22.088822Z",
     "start_time": "2021-10-08T02:21:21.819425Z"
    }
   },
   "outputs": [
    {
     "data": {
      "image/png": "[encoded data removed]",
      "text/plain": [
       "<Figure size 1080x720 with 1 Axes>"
      ]
     },
     "metadata": {
      "needs_background": "light"
     },
     "output_type": "display_data"
    }
   ],
   "source": [
    "plt.hist([LymeDisease.abstractSentimentScore_TB,\n",
    "          LymeDisease.processedAbstractNLTKSentimentScore_TB], \n",
    "         alpha=0.5, \n",
    "         label=['Raw Abstract', 'Processed Abstract'])\n",
    "plt.legend(loc='upper right')\n",
    "plt.xlabel('Sentiment Score')\n",
    "plt.ylabel('Count')\n",
    "plt.title('Distribution of Sentiment Scores - Raw vs Processed')\n",
    "plt.show();"
   ]
  },
  {
   "cell_type": "markdown",
   "metadata": {},
   "source": [
    "### Sentiment by Method"
   ]
  },
  {
   "cell_type": "code",
   "execution_count": 1175,
   "metadata": {
    "ExecuteTime": {
     "end_time": "2021-10-08T02:17:50.573069Z",
     "start_time": "2021-10-08T02:17:50.565497Z"
    }
   },
   "outputs": [],
   "source": [
    "flairCounts = LymeDisease.abstractSentiment_Flair.value_counts()\n",
    "TBcounts = LymeDisease.abstractSentiment_TB.value_counts()\n",
    "TBNBcounts = LymeDisease.abstractSentiment_TB_NB.value_counts()\n",
    "flairCountsProcessed = LymeDisease.processedAbstractNLTKSentiment_Flair.value_counts()\n",
    "TBcountsProcessed = LymeDisease.processedAbstractNLTKSentiment_TB.value_counts()\n",
    "TBNBcountsProcessed = LymeDisease.processedAbstractNLTKSentiment_TB_NB.value_counts()"
   ]
  },
  {
   "cell_type": "code",
   "execution_count": 1176,
   "metadata": {
    "ExecuteTime": {
     "end_time": "2021-10-08T02:18:35.493469Z",
     "start_time": "2021-10-08T02:18:35.487642Z"
    }
   },
   "outputs": [],
   "source": [
    "flairCountsDF = pd.DataFrame(flairCounts)\n",
    "TBcountsDF = pd.DataFrame(TBcounts)\n",
    "TBNBcountsDF = pd.DataFrame(TBNBcounts)\n",
    "flairCountsProcessedDF = pd.DataFrame(flairCountsProcessed)\n",
    "TBcountsProcessedDF = pd.DataFrame(TBcountsProcessed)\n",
    "TBNBcountsProcessedDF = pd.DataFrame(TBNBcountsProcessed)"
   ]
  },
  {
   "cell_type": "code",
   "execution_count": 1103,
   "metadata": {
    "ExecuteTime": {
     "end_time": "2021-10-08T01:45:55.067041Z",
     "start_time": "2021-10-08T01:45:55.051009Z"
    }
   },
   "outputs": [
    {
     "data": {
      "text/html": [
       "<div>\n",
       "<style scoped>\n",
       "    .dataframe tbody tr th:only-of-type {\n",
       "        vertical-align: middle;\n",
       "    }\n",
       "\n",
       "    .dataframe tbody tr th {\n",
       "        vertical-align: top;\n",
       "    }\n",
       "\n",
       "    .dataframe thead th {\n",
       "        text-align: right;\n",
       "    }\n",
       "</style>\n",
       "<table border=\"1\" class=\"dataframe\">\n",
       "  <thead>\n",
       "    <tr style=\"text-align: right;\">\n",
       "      <th></th>\n",
       "      <th>TextBlobber</th>\n",
       "      <th>TextBlobber - Naive Bayes</th>\n",
       "      <th>Flair</th>\n",
       "    </tr>\n",
       "  </thead>\n",
       "  <tbody>\n",
       "    <tr>\n",
       "      <th>pos</th>\n",
       "      <td>2389</td>\n",
       "      <td>2674.0</td>\n",
       "      <td>1011.0</td>\n",
       "    </tr>\n",
       "    <tr>\n",
       "      <th>neg</th>\n",
       "      <td>317</td>\n",
       "      <td>46.0</td>\n",
       "      <td>1709.0</td>\n",
       "    </tr>\n",
       "    <tr>\n",
       "      <th>neu</th>\n",
       "      <td>14</td>\n",
       "      <td>0.0</td>\n",
       "      <td>0.0</td>\n",
       "    </tr>\n",
       "  </tbody>\n",
       "</table>\n",
       "</div>"
      ],
      "text/plain": [
       "     TextBlobber  TextBlobber - Naive Bayes   Flair\n",
       "pos         2389                     2674.0  1011.0\n",
       "neg          317                       46.0  1709.0\n",
       "neu           14                        0.0     0.0"
      ]
     },
     "execution_count": 1103,
     "metadata": {},
     "output_type": "execute_result"
    }
   ],
   "source": [
    "sentimentValueCounts = TBcountsDF.merge(TBNBcountsDF, how='left', left_index=True, right_index=True).merge(flairCountsDF, how='left', left_index=True, right_index=True)\n",
    "sentimentValueCounts.fillna(0, inplace=True)\n",
    "sentimentValueCounts.columns = ['TextBlobber', 'TextBlobber - Naive Bayes', 'Flair']\n",
    "sentimentValueCounts"
   ]
  },
  {
   "cell_type": "code",
   "execution_count": 1177,
   "metadata": {
    "ExecuteTime": {
     "end_time": "2021-10-08T02:19:30.089453Z",
     "start_time": "2021-10-08T02:19:30.077005Z"
    }
   },
   "outputs": [
    {
     "data": {
      "text/html": [
       "<div>\n",
       "<style scoped>\n",
       "    .dataframe tbody tr th:only-of-type {\n",
       "        vertical-align: middle;\n",
       "    }\n",
       "\n",
       "    .dataframe tbody tr th {\n",
       "        vertical-align: top;\n",
       "    }\n",
       "\n",
       "    .dataframe thead th {\n",
       "        text-align: right;\n",
       "    }\n",
       "</style>\n",
       "<table border=\"1\" class=\"dataframe\">\n",
       "  <thead>\n",
       "    <tr style=\"text-align: right;\">\n",
       "      <th></th>\n",
       "      <th>TextBlobber</th>\n",
       "      <th>TextBlobber - Naive Bayes</th>\n",
       "      <th>Flair</th>\n",
       "    </tr>\n",
       "  </thead>\n",
       "  <tbody>\n",
       "    <tr>\n",
       "      <th>pos</th>\n",
       "      <td>2259</td>\n",
       "      <td>2666.0</td>\n",
       "      <td>1399.0</td>\n",
       "    </tr>\n",
       "    <tr>\n",
       "      <th>neg</th>\n",
       "      <td>445</td>\n",
       "      <td>54.0</td>\n",
       "      <td>1321.0</td>\n",
       "    </tr>\n",
       "    <tr>\n",
       "      <th>neu</th>\n",
       "      <td>16</td>\n",
       "      <td>0.0</td>\n",
       "      <td>0.0</td>\n",
       "    </tr>\n",
       "  </tbody>\n",
       "</table>\n",
       "</div>"
      ],
      "text/plain": [
       "     TextBlobber  TextBlobber - Naive Bayes   Flair\n",
       "pos         2259                     2666.0  1399.0\n",
       "neg          445                       54.0  1321.0\n",
       "neu           16                        0.0     0.0"
      ]
     },
     "execution_count": 1177,
     "metadata": {},
     "output_type": "execute_result"
    }
   ],
   "source": [
    "sentimentValueCountsProcessed = TBcountsProcessedDF.merge(\n",
    "    TBNBcountsProcessedDF, how='left', left_index=True, right_index=True).merge(\n",
    "    flairCountsProcessedDF, how='left', left_index=True, right_index=True)\n",
    "sentimentValueCountsProcessed.fillna(0, inplace=True)\n",
    "sentimentValueCountsProcessed.columns = ['TextBlobber', 'TextBlobber - Naive Bayes', 'Flair']\n",
    "sentimentValueCountsProcessed"
   ]
  },
  {
   "cell_type": "code",
   "execution_count": 1180,
   "metadata": {
    "ExecuteTime": {
     "end_time": "2021-10-08T02:23:03.701220Z",
     "start_time": "2021-10-08T02:23:03.466485Z"
    }
   },
   "outputs": [
    {
     "data": {
      "image/png": "[encoded data removed]",
      "text/plain": [
       "<Figure size 1080x720 with 1 Axes>"
      ]
     },
     "metadata": {
      "needs_background": "light"
     },
     "output_type": "display_data"
    }
   ],
   "source": [
    "sentimentValueCountsProcessed.plot(kind='bar')\n",
    "plt.xlabel('Sentiment')\n",
    "plt.ylabel('Count')\n",
    "plt.title('Abstract Sentiment by Tool Used');"
   ]
  },
  {
   "cell_type": "code",
   "execution_count": 1181,
   "metadata": {
    "ExecuteTime": {
     "end_time": "2021-10-08T02:23:16.606286Z",
     "start_time": "2021-10-08T02:23:16.595951Z"
    }
   },
   "outputs": [
    {
     "name": "stderr",
     "output_type": "stream",
     "text": [
      "/Users/myfriendscallmej/anaconda3/lib/python3.7/site-packages/ipykernel_launcher.py:1: SettingWithCopyWarning: \n",
      "A value is trying to be set on a copy of a slice from a DataFrame.\n",
      "Try using .loc[row_indexer,col_indexer] = value instead\n",
      "\n",
      "See the caveats in the documentation: https://pandas.pydata.org/pandas-docs/stable/user_guide/indexing.html#returning-a-view-versus-a-copy\n",
      "  \"\"\"Entry point for launching an IPython kernel.\n"
     ]
    }
   ],
   "source": [
    "LymeDisease['containsChronic'] = LymeDisease.abstract.str.contains('chronic')"
   ]
  },
  {
   "cell_type": "code",
   "execution_count": 1182,
   "metadata": {
    "ExecuteTime": {
     "end_time": "2021-10-08T02:23:18.400367Z",
     "start_time": "2021-10-08T02:23:18.394311Z"
    }
   },
   "outputs": [
    {
     "data": {
      "text/plain": [
       "False    2515\n",
       "True      205\n",
       "Name: containsChronic, dtype: int64"
      ]
     },
     "execution_count": 1182,
     "metadata": {},
     "output_type": "execute_result"
    }
   ],
   "source": [
    "LymeDisease.containsChronic.value_counts()"
   ]
  },
  {
   "cell_type": "code",
   "execution_count": 1108,
   "metadata": {
    "ExecuteTime": {
     "end_time": "2021-10-08T01:46:49.335661Z",
     "start_time": "2021-10-08T01:46:49.333315Z"
    }
   },
   "outputs": [],
   "source": [
    "# from  matplotlib.ticker import PercentFormatter"
   ]
  },
  {
   "cell_type": "markdown",
   "metadata": {
    "ExecuteTime": {
     "end_time": "2021-09-23T23:27:03.930579Z",
     "start_time": "2021-09-23T23:27:03.866204Z"
    }
   },
   "source": [
    "### Sentiment by Method and Mention of 'Chronic'"
   ]
  },
  {
   "cell_type": "code",
   "execution_count": 1185,
   "metadata": {
    "ExecuteTime": {
     "end_time": "2021-10-08T02:24:35.046847Z",
     "start_time": "2021-10-08T02:24:34.525749Z"
    }
   },
   "outputs": [
    {
     "data": {
      "image/png": "[encoded data removed]",
      "text/plain": [
       "<Figure size 1080x720 with 3 Axes>"
      ]
     },
     "metadata": {
      "needs_background": "light"
     },
     "output_type": "display_data"
    }
   ],
   "source": [
    "fig, axes =plt.subplots(1,3, sharey=True)\n",
    "sns.countplot(x=\"abstractSentiment_TB\", hue=\"containsChronic\", \n",
    "            data=LymeDisease, ax=axes[0])\n",
    "sns.countplot(x=\"abstractSentiment_TB_NB\", hue=\"containsChronic\", \n",
    "            data=LymeDisease, ax=axes[1])\n",
    "sns.countplot(x=\"abstractSentiment_Flair\", hue=\"containsChronic\", \n",
    "            data=LymeDisease, ax=axes[2])\n",
    "axes[0].set_title('TextBlob')\n",
    "axes[1].set_title('TextBlob - Naive Bayes')\n",
    "axes[2].set_title('Flair')\n",
    "axes[0].set_xlabel('Sentiment')\n",
    "axes[1].set_xlabel('Sentiment')\n",
    "axes[2].set_xlabel('Sentiment')\n",
    "axes[0].legend(title='Mentions \"Chronic\"')\n",
    "axes[1].legend(title='Mentions \"Chronic\"')\n",
    "axes[2].legend(title='Mentions \"Chronic\"')\n",
    "fig.suptitle(\"Abstract Sentiment by Algorithm and Mention of 'Chronic'\", y=1.03)\n",
    "fig.tight_layout();\n",
    "# plt.tight_layout()"
   ]
  },
  {
   "cell_type": "code",
   "execution_count": 1186,
   "metadata": {
    "ExecuteTime": {
     "end_time": "2021-10-08T02:25:22.180806Z",
     "start_time": "2021-10-08T02:25:21.664997Z"
    }
   },
   "outputs": [
    {
     "data": {
      "image/png": "[encoded data removed]",
      "text/plain": [
       "<Figure size 1080x720 with 3 Axes>"
      ]
     },
     "metadata": {
      "needs_background": "light"
     },
     "output_type": "display_data"
    }
   ],
   "source": [
    "fig, axes =plt.subplots(1,3, sharey=True)\n",
    "sns.countplot(x=\"processedAbstractNLTKSentiment_TB\", hue=\"containsChronic\", \n",
    "            data=LymeDisease, ax=axes[0])\n",
    "sns.countplot(x=\"processedAbstractNLTKSentiment_TB_NB\", hue=\"containsChronic\", \n",
    "            data=LymeDisease, ax=axes[1])\n",
    "sns.countplot(x=\"processedAbstractNLTKSentiment_Flair\", hue=\"containsChronic\", \n",
    "            data=LymeDisease, ax=axes[2])\n",
    "axes[0].set_title('TextBlob')\n",
    "axes[1].set_title('TextBlob - Naive Bayes')\n",
    "axes[2].set_title('Flair')\n",
    "axes[0].set_xlabel('Sentiment')\n",
    "axes[1].set_xlabel('Sentiment')\n",
    "axes[2].set_xlabel('Sentiment')\n",
    "axes[0].legend(title='Mentions \"Chronic\"')\n",
    "axes[1].legend(title='Mentions \"Chronic\"')\n",
    "axes[2].legend(title='Mentions \"Chronic\"')\n",
    "fig.suptitle(\"Abstract (processed) Sentiment by Algorithm and Mention of 'Chronic'\", y=1.03)\n",
    "fig.tight_layout();\n",
    "# plt.tight_layout()"
   ]
  },
  {
   "cell_type": "code",
   "execution_count": 1189,
   "metadata": {
    "ExecuteTime": {
     "end_time": "2021-10-08T02:25:39.686860Z",
     "start_time": "2021-10-08T02:25:39.652797Z"
    }
   },
   "outputs": [
    {
     "data": {
      "text/html": [
       "<div>\n",
       "<style scoped>\n",
       "    .dataframe tbody tr th:only-of-type {\n",
       "        vertical-align: middle;\n",
       "    }\n",
       "\n",
       "    .dataframe tbody tr th {\n",
       "        vertical-align: top;\n",
       "    }\n",
       "\n",
       "    .dataframe thead th {\n",
       "        text-align: right;\n",
       "    }\n",
       "</style>\n",
       "<table border=\"1\" class=\"dataframe\">\n",
       "  <thead>\n",
       "    <tr style=\"text-align: right;\">\n",
       "      <th>containsChronic</th>\n",
       "      <th>False</th>\n",
       "      <th>True</th>\n",
       "      <th>Total</th>\n",
       "    </tr>\n",
       "    <tr>\n",
       "      <th>abstractSentiment_Flair</th>\n",
       "      <th></th>\n",
       "      <th></th>\n",
       "      <th></th>\n",
       "    </tr>\n",
       "  </thead>\n",
       "  <tbody>\n",
       "    <tr>\n",
       "      <th>neg</th>\n",
       "      <td>1565</td>\n",
       "      <td>144</td>\n",
       "      <td>1709</td>\n",
       "    </tr>\n",
       "    <tr>\n",
       "      <th>pos</th>\n",
       "      <td>950</td>\n",
       "      <td>61</td>\n",
       "      <td>1011</td>\n",
       "    </tr>\n",
       "    <tr>\n",
       "      <th>Total</th>\n",
       "      <td>2515</td>\n",
       "      <td>205</td>\n",
       "      <td>2720</td>\n",
       "    </tr>\n",
       "  </tbody>\n",
       "</table>\n",
       "</div>"
      ],
      "text/plain": [
       "containsChronic          False  True  Total\n",
       "abstractSentiment_Flair                    \n",
       "neg                       1565   144   1709\n",
       "pos                        950    61   1011\n",
       "Total                     2515   205   2720"
      ]
     },
     "execution_count": 1189,
     "metadata": {},
     "output_type": "execute_result"
    }
   ],
   "source": [
    "flair_crosstab = pd.crosstab(LymeDisease.abstractSentiment_Flair,\n",
    "                            LymeDisease.containsChronic,\n",
    "                           margins=True, margins_name=\"Total\")\n",
    "flair_crosstab"
   ]
  },
  {
   "cell_type": "code",
   "execution_count": 1187,
   "metadata": {
    "ExecuteTime": {
     "end_time": "2021-10-08T02:25:36.415270Z",
     "start_time": "2021-10-08T02:25:36.377507Z"
    }
   },
   "outputs": [
    {
     "data": {
      "text/html": [
       "<div>\n",
       "<style scoped>\n",
       "    .dataframe tbody tr th:only-of-type {\n",
       "        vertical-align: middle;\n",
       "    }\n",
       "\n",
       "    .dataframe tbody tr th {\n",
       "        vertical-align: top;\n",
       "    }\n",
       "\n",
       "    .dataframe thead th {\n",
       "        text-align: right;\n",
       "    }\n",
       "</style>\n",
       "<table border=\"1\" class=\"dataframe\">\n",
       "  <thead>\n",
       "    <tr style=\"text-align: right;\">\n",
       "      <th>containsChronic</th>\n",
       "      <th>False</th>\n",
       "      <th>True</th>\n",
       "      <th>Total</th>\n",
       "    </tr>\n",
       "    <tr>\n",
       "      <th>abstractSentiment_TB</th>\n",
       "      <th></th>\n",
       "      <th></th>\n",
       "      <th></th>\n",
       "    </tr>\n",
       "  </thead>\n",
       "  <tbody>\n",
       "    <tr>\n",
       "      <th>neg</th>\n",
       "      <td>288</td>\n",
       "      <td>29</td>\n",
       "      <td>317</td>\n",
       "    </tr>\n",
       "    <tr>\n",
       "      <th>neu</th>\n",
       "      <td>14</td>\n",
       "      <td>0</td>\n",
       "      <td>14</td>\n",
       "    </tr>\n",
       "    <tr>\n",
       "      <th>pos</th>\n",
       "      <td>2213</td>\n",
       "      <td>176</td>\n",
       "      <td>2389</td>\n",
       "    </tr>\n",
       "    <tr>\n",
       "      <th>Total</th>\n",
       "      <td>2515</td>\n",
       "      <td>205</td>\n",
       "      <td>2720</td>\n",
       "    </tr>\n",
       "  </tbody>\n",
       "</table>\n",
       "</div>"
      ],
      "text/plain": [
       "containsChronic       False  True  Total\n",
       "abstractSentiment_TB                    \n",
       "neg                     288    29    317\n",
       "neu                      14     0     14\n",
       "pos                    2213   176   2389\n",
       "Total                  2515   205   2720"
      ]
     },
     "execution_count": 1187,
     "metadata": {},
     "output_type": "execute_result"
    }
   ],
   "source": [
    "TB_crosstab = pd.crosstab(LymeDisease.abstractSentiment_TB,\n",
    "                            LymeDisease.containsChronic,\n",
    "                           margins=True, margins_name=\"Total\")\n",
    "TB_crosstab"
   ]
  },
  {
   "cell_type": "code",
   "execution_count": 1188,
   "metadata": {
    "ExecuteTime": {
     "end_time": "2021-10-08T02:25:38.204877Z",
     "start_time": "2021-10-08T02:25:38.168379Z"
    }
   },
   "outputs": [
    {
     "data": {
      "text/html": [
       "<div>\n",
       "<style scoped>\n",
       "    .dataframe tbody tr th:only-of-type {\n",
       "        vertical-align: middle;\n",
       "    }\n",
       "\n",
       "    .dataframe tbody tr th {\n",
       "        vertical-align: top;\n",
       "    }\n",
       "\n",
       "    .dataframe thead th {\n",
       "        text-align: right;\n",
       "    }\n",
       "</style>\n",
       "<table border=\"1\" class=\"dataframe\">\n",
       "  <thead>\n",
       "    <tr style=\"text-align: right;\">\n",
       "      <th>containsChronic</th>\n",
       "      <th>False</th>\n",
       "      <th>True</th>\n",
       "      <th>Total</th>\n",
       "    </tr>\n",
       "    <tr>\n",
       "      <th>abstractSentiment_TB_NB</th>\n",
       "      <th></th>\n",
       "      <th></th>\n",
       "      <th></th>\n",
       "    </tr>\n",
       "  </thead>\n",
       "  <tbody>\n",
       "    <tr>\n",
       "      <th>neg</th>\n",
       "      <td>40</td>\n",
       "      <td>6</td>\n",
       "      <td>46</td>\n",
       "    </tr>\n",
       "    <tr>\n",
       "      <th>pos</th>\n",
       "      <td>2475</td>\n",
       "      <td>199</td>\n",
       "      <td>2674</td>\n",
       "    </tr>\n",
       "    <tr>\n",
       "      <th>Total</th>\n",
       "      <td>2515</td>\n",
       "      <td>205</td>\n",
       "      <td>2720</td>\n",
       "    </tr>\n",
       "  </tbody>\n",
       "</table>\n",
       "</div>"
      ],
      "text/plain": [
       "containsChronic          False  True  Total\n",
       "abstractSentiment_TB_NB                    \n",
       "neg                         40     6     46\n",
       "pos                       2475   199   2674\n",
       "Total                     2515   205   2720"
      ]
     },
     "execution_count": 1188,
     "metadata": {},
     "output_type": "execute_result"
    }
   ],
   "source": [
    "TBNB_crosstab = pd.crosstab(LymeDisease.abstractSentiment_TB_NB,\n",
    "                            LymeDisease.containsChronic,\n",
    "                           margins=True, margins_name=\"Total\")\n",
    "TBNB_crosstab"
   ]
  },
  {
   "cell_type": "code",
   "execution_count": 1190,
   "metadata": {
    "ExecuteTime": {
     "end_time": "2021-10-08T02:27:24.761888Z",
     "start_time": "2021-10-08T02:27:24.719719Z"
    }
   },
   "outputs": [
    {
     "data": {
      "text/html": [
       "<div>\n",
       "<style scoped>\n",
       "    .dataframe tbody tr th:only-of-type {\n",
       "        vertical-align: middle;\n",
       "    }\n",
       "\n",
       "    .dataframe tbody tr th {\n",
       "        vertical-align: top;\n",
       "    }\n",
       "\n",
       "    .dataframe thead th {\n",
       "        text-align: right;\n",
       "    }\n",
       "</style>\n",
       "<table border=\"1\" class=\"dataframe\">\n",
       "  <thead>\n",
       "    <tr style=\"text-align: right;\">\n",
       "      <th>containsChronic</th>\n",
       "      <th>False</th>\n",
       "      <th>True</th>\n",
       "      <th>Total</th>\n",
       "    </tr>\n",
       "    <tr>\n",
       "      <th>processedAbstractNLTKSentiment_Flair</th>\n",
       "      <th></th>\n",
       "      <th></th>\n",
       "      <th></th>\n",
       "    </tr>\n",
       "  </thead>\n",
       "  <tbody>\n",
       "    <tr>\n",
       "      <th>neg</th>\n",
       "      <td>1213</td>\n",
       "      <td>108</td>\n",
       "      <td>1321</td>\n",
       "    </tr>\n",
       "    <tr>\n",
       "      <th>pos</th>\n",
       "      <td>1302</td>\n",
       "      <td>97</td>\n",
       "      <td>1399</td>\n",
       "    </tr>\n",
       "    <tr>\n",
       "      <th>Total</th>\n",
       "      <td>2515</td>\n",
       "      <td>205</td>\n",
       "      <td>2720</td>\n",
       "    </tr>\n",
       "  </tbody>\n",
       "</table>\n",
       "</div>"
      ],
      "text/plain": [
       "containsChronic                       False  True  Total\n",
       "processedAbstractNLTKSentiment_Flair                    \n",
       "neg                                    1213   108   1321\n",
       "pos                                    1302    97   1399\n",
       "Total                                  2515   205   2720"
      ]
     },
     "execution_count": 1190,
     "metadata": {},
     "output_type": "execute_result"
    }
   ],
   "source": [
    "flairPro_crosstab = pd.crosstab(LymeDisease.processedAbstractNLTKSentiment_Flair,\n",
    "                            LymeDisease.containsChronic,\n",
    "                           margins=True, margins_name=\"Total\")\n",
    "flairPro_crosstab"
   ]
  },
  {
   "cell_type": "code",
   "execution_count": 1191,
   "metadata": {
    "ExecuteTime": {
     "end_time": "2021-10-08T02:27:26.314901Z",
     "start_time": "2021-10-08T02:27:26.272030Z"
    }
   },
   "outputs": [
    {
     "data": {
      "text/html": [
       "<div>\n",
       "<style scoped>\n",
       "    .dataframe tbody tr th:only-of-type {\n",
       "        vertical-align: middle;\n",
       "    }\n",
       "\n",
       "    .dataframe tbody tr th {\n",
       "        vertical-align: top;\n",
       "    }\n",
       "\n",
       "    .dataframe thead th {\n",
       "        text-align: right;\n",
       "    }\n",
       "</style>\n",
       "<table border=\"1\" class=\"dataframe\">\n",
       "  <thead>\n",
       "    <tr style=\"text-align: right;\">\n",
       "      <th>containsChronic</th>\n",
       "      <th>False</th>\n",
       "      <th>True</th>\n",
       "      <th>Total</th>\n",
       "    </tr>\n",
       "    <tr>\n",
       "      <th>processedAbstractNLTKSentiment_TB</th>\n",
       "      <th></th>\n",
       "      <th></th>\n",
       "      <th></th>\n",
       "    </tr>\n",
       "  </thead>\n",
       "  <tbody>\n",
       "    <tr>\n",
       "      <th>neg</th>\n",
       "      <td>405</td>\n",
       "      <td>40</td>\n",
       "      <td>445</td>\n",
       "    </tr>\n",
       "    <tr>\n",
       "      <th>neu</th>\n",
       "      <td>16</td>\n",
       "      <td>0</td>\n",
       "      <td>16</td>\n",
       "    </tr>\n",
       "    <tr>\n",
       "      <th>pos</th>\n",
       "      <td>2094</td>\n",
       "      <td>165</td>\n",
       "      <td>2259</td>\n",
       "    </tr>\n",
       "    <tr>\n",
       "      <th>Total</th>\n",
       "      <td>2515</td>\n",
       "      <td>205</td>\n",
       "      <td>2720</td>\n",
       "    </tr>\n",
       "  </tbody>\n",
       "</table>\n",
       "</div>"
      ],
      "text/plain": [
       "containsChronic                    False  True  Total\n",
       "processedAbstractNLTKSentiment_TB                    \n",
       "neg                                  405    40    445\n",
       "neu                                   16     0     16\n",
       "pos                                 2094   165   2259\n",
       "Total                               2515   205   2720"
      ]
     },
     "execution_count": 1191,
     "metadata": {},
     "output_type": "execute_result"
    }
   ],
   "source": [
    "TBpro_crosstab = pd.crosstab(LymeDisease.processedAbstractNLTKSentiment_TB,\n",
    "                            LymeDisease.containsChronic,\n",
    "                           margins=True, margins_name=\"Total\")\n",
    "TBpro_crosstab"
   ]
  },
  {
   "cell_type": "code",
   "execution_count": 1192,
   "metadata": {
    "ExecuteTime": {
     "end_time": "2021-10-08T02:27:27.709541Z",
     "start_time": "2021-10-08T02:27:27.666669Z"
    }
   },
   "outputs": [
    {
     "data": {
      "text/html": [
       "<div>\n",
       "<style scoped>\n",
       "    .dataframe tbody tr th:only-of-type {\n",
       "        vertical-align: middle;\n",
       "    }\n",
       "\n",
       "    .dataframe tbody tr th {\n",
       "        vertical-align: top;\n",
       "    }\n",
       "\n",
       "    .dataframe thead th {\n",
       "        text-align: right;\n",
       "    }\n",
       "</style>\n",
       "<table border=\"1\" class=\"dataframe\">\n",
       "  <thead>\n",
       "    <tr style=\"text-align: right;\">\n",
       "      <th>containsChronic</th>\n",
       "      <th>False</th>\n",
       "      <th>True</th>\n",
       "      <th>Total</th>\n",
       "    </tr>\n",
       "    <tr>\n",
       "      <th>processedAbstractNLTKSentiment_TB_NB</th>\n",
       "      <th></th>\n",
       "      <th></th>\n",
       "      <th></th>\n",
       "    </tr>\n",
       "  </thead>\n",
       "  <tbody>\n",
       "    <tr>\n",
       "      <th>neg</th>\n",
       "      <td>51</td>\n",
       "      <td>3</td>\n",
       "      <td>54</td>\n",
       "    </tr>\n",
       "    <tr>\n",
       "      <th>pos</th>\n",
       "      <td>2464</td>\n",
       "      <td>202</td>\n",
       "      <td>2666</td>\n",
       "    </tr>\n",
       "    <tr>\n",
       "      <th>Total</th>\n",
       "      <td>2515</td>\n",
       "      <td>205</td>\n",
       "      <td>2720</td>\n",
       "    </tr>\n",
       "  </tbody>\n",
       "</table>\n",
       "</div>"
      ],
      "text/plain": [
       "containsChronic                       False  True  Total\n",
       "processedAbstractNLTKSentiment_TB_NB                    \n",
       "neg                                      51     3     54\n",
       "pos                                    2464   202   2666\n",
       "Total                                  2515   205   2720"
      ]
     },
     "execution_count": 1192,
     "metadata": {},
     "output_type": "execute_result"
    }
   ],
   "source": [
    "TBNBpro_crosstab = pd.crosstab(LymeDisease.processedAbstractNLTKSentiment_TB_NB,\n",
    "                            LymeDisease.containsChronic,\n",
    "                           margins=True, margins_name=\"Total\")\n",
    "TBNBpro_crosstab"
   ]
  },
  {
   "cell_type": "code",
   "execution_count": 1115,
   "metadata": {
    "ExecuteTime": {
     "end_time": "2021-10-08T01:48:24.499910Z",
     "start_time": "2021-10-08T01:48:24.497282Z"
    }
   },
   "outputs": [],
   "source": [
    "from scipy.stats import chi2_contingency"
   ]
  },
  {
   "cell_type": "code",
   "execution_count": 1193,
   "metadata": {
    "ExecuteTime": {
     "end_time": "2021-10-08T02:28:51.297304Z",
     "start_time": "2021-10-08T02:28:51.290116Z"
    }
   },
   "outputs": [
    {
     "name": "stdout",
     "output_type": "stream",
     "text": [
      "Testing independence of Chronic mention and sentiment - Raw abstracts\n",
      "Independent (H0 holds true)\n",
      "Independent (H0 holds true)\n",
      "Independent (H0 holds true)\n"
     ]
    }
   ],
   "source": [
    "print('Testing independence of Chronic mention and sentiment - Raw abstracts')\n",
    "alpha = 0.05\n",
    "c, p, dof, expected = chi2_contingency(flair_crosstab)\n",
    "if p <= alpha:\n",
    "    print('Dependent (reject H0)')\n",
    "else:\n",
    "    print('Independent (H0 holds true)')\n",
    "c, p, dof, expected = chi2_contingency(TB_crosstab)\n",
    "if p <= alpha:\n",
    "    print('Dependent (reject H0)')\n",
    "else:\n",
    "    print('Independent (H0 holds true)')\n",
    "c, p, dof, expected = chi2_contingency(TBNB_crosstab)\n",
    "if p <= alpha:\n",
    "    print('Dependent (reject H0)')\n",
    "else:\n",
    "    print('Independent (H0 holds true)')"
   ]
  },
  {
   "cell_type": "code",
   "execution_count": 1194,
   "metadata": {
    "ExecuteTime": {
     "end_time": "2021-10-08T02:29:07.924235Z",
     "start_time": "2021-10-08T02:29:07.917100Z"
    }
   },
   "outputs": [
    {
     "name": "stdout",
     "output_type": "stream",
     "text": [
      "Testing independence of Chronic mention and sentiment - Raw abstracts\n",
      "Independent (H0 holds true)\n",
      "Independent (H0 holds true)\n",
      "Independent (H0 holds true)\n"
     ]
    }
   ],
   "source": [
    "print('Testing independence of Chronic mention and sentiment - Raw abstracts')\n",
    "alpha = 0.05\n",
    "c, p, dof, expected = chi2_contingency(flairPro_crosstab)\n",
    "if p <= alpha:\n",
    "    print('Dependent (reject H0)')\n",
    "else:\n",
    "    print('Independent (H0 holds true)')\n",
    "c, p, dof, expected = chi2_contingency(TBpro_crosstab)\n",
    "if p <= alpha:\n",
    "    print('Dependent (reject H0)')\n",
    "else:\n",
    "    print('Independent (H0 holds true)')\n",
    "c, p, dof, expected = chi2_contingency(TBNBpro_crosstab)\n",
    "if p <= alpha:\n",
    "    print('Dependent (reject H0)')\n",
    "else:\n",
    "    print('Independent (H0 holds true)')"
   ]
  },
  {
   "cell_type": "code",
   "execution_count": 1196,
   "metadata": {
    "ExecuteTime": {
     "end_time": "2021-10-08T03:14:50.926772Z",
     "start_time": "2021-10-08T03:14:50.924498Z"
    }
   },
   "outputs": [],
   "source": [
    "# sns.boxplot(y='processedAbstractNLTKSentimentScore_TB', x='containsChronic', data=LymeDisease)"
   ]
  },
  {
   "cell_type": "markdown",
   "metadata": {},
   "source": [
    "## Sandbox"
   ]
  },
  {
   "cell_type": "code",
   "execution_count": 1247,
   "metadata": {
    "ExecuteTime": {
     "end_time": "2021-10-08T23:29:28.295524Z",
     "start_time": "2021-10-08T23:29:27.776023Z"
    }
   },
   "outputs": [
    {
     "data": {
      "text/plain": [
       "'neg'"
      ]
     },
     "execution_count": 1247,
     "metadata": {},
     "output_type": "execute_result"
    }
   ],
   "source": [
    "flair_prediction(text)"
   ]
  },
  {
   "cell_type": "code",
   "execution_count": 282,
   "metadata": {
    "ExecuteTime": {
     "end_time": "2021-09-23T23:28:45.526785Z",
     "start_time": "2021-09-23T23:28:45.521670Z"
    }
   },
   "outputs": [],
   "source": [
    "text_noStopwords = nltk.Text([word for word in tokenised_text if word.lower() not in stopwords])\n",
    "# text_noStopwords.contents()"
   ]
  },
  {
   "cell_type": "code",
   "execution_count": 283,
   "metadata": {
    "ExecuteTime": {
     "end_time": "2021-09-23T23:28:47.377465Z",
     "start_time": "2021-09-23T23:28:46.937519Z"
    }
   },
   "outputs": [
    {
     "data": {
      "image/png": "[encoded data removed]",
      "text/plain": [
       "<Figure size 1080x720 with 1 Axes>"
      ]
     },
     "metadata": {
      "needs_background": "light"
     },
     "output_type": "display_data"
    }
   ],
   "source": [
    "text_noStopwords.plot(30)"
   ]
  },
  {
   "cell_type": "code",
   "execution_count": 293,
   "metadata": {
    "ExecuteTime": {
     "end_time": "2021-09-23T23:30:07.910853Z",
     "start_time": "2021-09-23T23:30:07.906541Z"
    }
   },
   "outputs": [
    {
     "data": {
      "text/plain": [
       "3"
      ]
     },
     "execution_count": 293,
     "metadata": {},
     "output_type": "execute_result"
    }
   ],
   "source": [
    "text_noStopwords.count('Lyme')"
   ]
  },
  {
   "cell_type": "code",
   "execution_count": 348,
   "metadata": {
    "ExecuteTime": {
     "end_time": "2021-09-30T04:38:40.916501Z",
     "start_time": "2021-09-30T04:38:40.139057Z"
    }
   },
   "outputs": [
    {
     "data": {
      "text/plain": [
       "{'Happy': 0.0, 'Angry': 0.0, 'Surprise': 0.0, 'Sad': 0.2, 'Fear': 0.8}"
      ]
     },
     "execution_count": 348,
     "metadata": {},
     "output_type": "execute_result"
    }
   ],
   "source": [
    "te.get_emotion(text)"
   ]
  },
  {
   "cell_type": "code",
   "execution_count": 349,
   "metadata": {
    "ExecuteTime": {
     "end_time": "2021-09-30T04:38:57.586631Z",
     "start_time": "2021-09-30T04:38:57.576468Z"
    }
   },
   "outputs": [
    {
     "data": {
      "text/plain": [
       "'Lyme disease is the most common tick-borne disease in Europe and North America. In the hyperendemic Lyme disease regions of the eastern United States, nymphal Ixodes scapularis are the principal ticks transmitting the Lyme disease spirochete, Borrelia burgdorferi sensu stricto (s.s.). Approximately 25% of questing nymphs in endemic regions are infected with spirochetes. High throughput-sensitive and specific methods for testing nymphal I. scapularis for infection with B. burgdorferi are clearly needed. In the current study, we evaluated whether low-density microarrays could be adapted for the rapid and accurate detection and characterization of spirochetes in nymphal I. scapularis. Three different microarray platforms were developed and tested for the detection of spirochetes in ticks. They could both detect and differentiate different Borrelia genospecies, in one case detecting as few as a single copy of Borrelia DNA.'"
      ]
     },
     "execution_count": 349,
     "metadata": {},
     "output_type": "execute_result"
    }
   ],
   "source": [
    "text"
   ]
  },
  {
   "cell_type": "markdown",
   "metadata": {},
   "source": [
    "### Emotions"
   ]
  },
  {
   "cell_type": "code",
   "execution_count": 350,
   "metadata": {
    "ExecuteTime": {
     "end_time": "2021-09-30T04:39:09.120268Z",
     "start_time": "2021-09-30T04:39:09.099997Z"
    }
   },
   "outputs": [],
   "source": [
    "text_object = NRCLex(text)"
   ]
  },
  {
   "cell_type": "code",
   "execution_count": 351,
   "metadata": {
    "ExecuteTime": {
     "end_time": "2021-09-30T04:39:22.657735Z",
     "start_time": "2021-09-30T04:39:22.652879Z"
    }
   },
   "outputs": [
    {
     "data": {
      "text/plain": [
       "{'fear': 0.1794871794871795,\n",
       " 'anger': 0.10256410256410256,\n",
       " 'anticip': 0.0,\n",
       " 'trust': 0.05128205128205128,\n",
       " 'surprise': 0.02564102564102564,\n",
       " 'positive': 0.15384615384615385,\n",
       " 'negative': 0.20512820512820512,\n",
       " 'sadness': 0.15384615384615385,\n",
       " 'disgust': 0.1282051282051282,\n",
       " 'joy': 0.0}"
      ]
     },
     "execution_count": 351,
     "metadata": {},
     "output_type": "execute_result"
    }
   ],
   "source": [
    "emotions = text_object.affect_frequencies\n",
    "emotions"
   ]
  },
  {
   "cell_type": "code",
   "execution_count": 352,
   "metadata": {
    "ExecuteTime": {
     "end_time": "2021-09-30T04:39:36.261368Z",
     "start_time": "2021-09-30T04:39:36.254753Z"
    }
   },
   "outputs": [
    {
     "data": {
      "text/plain": [
       "{'fear': 0.1794871794871795,\n",
       " 'anger': 0.10256410256410256,\n",
       " 'trust': 0.05128205128205128,\n",
       " 'surprise': 0.02564102564102564,\n",
       " 'sadness': 0.15384615384615385,\n",
       " 'disgust': 0.1282051282051282,\n",
       " 'joy': 0.0,\n",
       " 'anticipation': 0.0}"
      ]
     },
     "execution_count": 352,
     "metadata": {},
     "output_type": "execute_result"
    }
   ],
   "source": [
    "emotions.pop('positive')\n",
    "emotions.pop('negative')\n",
    "emotions['anticipation']=emotions.pop('anticip')\n",
    "emotions"
   ]
  },
  {
   "cell_type": "markdown",
   "metadata": {},
   "source": [
    "### Plutchik Wheel"
   ]
  },
  {
   "cell_type": "code",
   "execution_count": 353,
   "metadata": {
    "ExecuteTime": {
     "end_time": "2021-09-30T04:39:52.947296Z",
     "start_time": "2021-09-30T04:39:52.475886Z"
    }
   },
   "outputs": [
    {
     "data": {
      "text/plain": [
       "<matplotlib.axes._subplots.AxesSubplot at 0x7fdabb3e3ef0>"
      ]
     },
     "execution_count": 353,
     "metadata": {},
     "output_type": "execute_result"
    },
    {
     "data": {
      "image/png": "[encoded data removed]",
      "text/plain": [
       "<Figure size 576x576 with 1 Axes>"
      ]
     },
     "metadata": {
      "needs_background": "light"
     },
     "output_type": "display_data"
    }
   ],
   "source": [
    "plutchik(emotions)"
   ]
  },
  {
   "cell_type": "code",
   "execution_count": null,
   "metadata": {},
   "outputs": [],
   "source": []
  },
  {
   "cell_type": "code",
   "execution_count": 749,
   "metadata": {
    "ExecuteTime": {
     "end_time": "2021-10-03T10:10:21.868758Z",
     "start_time": "2021-10-03T10:10:21.818227Z"
    },
    "scrolled": true
   },
   "outputs": [
    {
     "name": "stderr",
     "output_type": "stream",
     "text": [
      "/Users/myfriendscallmej/anaconda3/lib/python3.7/site-packages/pandas/core/strings/accessor.py:101: UserWarning: This pattern has match groups. To actually get the groups, use str.extract.\n",
      "  return func(self, *args, **kwargs)\n"
     ]
    },
    {
     "data": {
      "text/plain": [
       "1407"
      ]
     },
     "execution_count": 749,
     "metadata": {},
     "output_type": "execute_result"
    }
   ],
   "source": [
    "len(LymeDisease[LymeDisease.abstract.str.contains('© | (C)')])"
   ]
  },
  {
   "cell_type": "code",
   "execution_count": 750,
   "metadata": {
    "ExecuteTime": {
     "end_time": "2021-10-03T10:10:33.577923Z",
     "start_time": "2021-10-03T10:10:33.541463Z"
    }
   },
   "outputs": [
    {
     "data": {
      "text/html": [
       "<div>\n",
       "<style scoped>\n",
       "    .dataframe tbody tr th:only-of-type {\n",
       "        vertical-align: middle;\n",
       "    }\n",
       "\n",
       "    .dataframe tbody tr th {\n",
       "        vertical-align: top;\n",
       "    }\n",
       "\n",
       "    .dataframe thead th {\n",
       "        text-align: right;\n",
       "    }\n",
       "</style>\n",
       "<table border=\"1\" class=\"dataframe\">\n",
       "  <thead>\n",
       "    <tr style=\"text-align: right;\">\n",
       "      <th></th>\n",
       "      <th>index</th>\n",
       "      <th>publication</th>\n",
       "      <th>title</th>\n",
       "      <th>authors</th>\n",
       "      <th>doi</th>\n",
       "      <th>year</th>\n",
       "      <th>cites</th>\n",
       "      <th>type</th>\n",
       "      <th>abstract</th>\n",
       "      <th>article_url</th>\n",
       "      <th>...</th>\n",
       "      <th>clean_abstract</th>\n",
       "      <th>cleaner_abstract</th>\n",
       "      <th>tokenisedAbstractSpacy</th>\n",
       "      <th>tokenisedAbstractNLTK</th>\n",
       "      <th>abstractNoStopSpacy</th>\n",
       "      <th>abstractNoStopNLTK</th>\n",
       "      <th>abstractLemmaSpacy</th>\n",
       "      <th>abstractLemmaNLTK</th>\n",
       "      <th>abstractLemmaNoStopSpacy</th>\n",
       "      <th>abstractLemmaNoStopNLTK</th>\n",
       "    </tr>\n",
       "  </thead>\n",
       "  <tbody>\n",
       "    <tr>\n",
       "      <th>1368</th>\n",
       "      <td>2342</td>\n",
       "      <td>Radiographics</td>\n",
       "      <td>White Matter Diseases with Radiologic-Patholog...</td>\n",
       "      <td>[{'name': 'Nicolae Sarbu', 'affiliation': 'Fro...</td>\n",
       "      <td>10.1148/rg.2016160031</td>\n",
       "      <td>2016.0</td>\n",
       "      <td>0</td>\n",
       "      <td>Journal Article</td>\n",
       "      <td>White matter diseases include a wide spectrum ...</td>\n",
       "      <td>NaN</td>\n",
       "      <td>...</td>\n",
       "      <td>White matter diseases include a wide spctrum o...</td>\n",
       "      <td>White matter diseases include a wide spctrum o...</td>\n",
       "      <td>(White, matter, diseases, include, a, wide, sp...</td>\n",
       "      <td>[White, matter, diseases, include, a, wide, sp...</td>\n",
       "      <td>White matter diseases include wide spctrum dis...</td>\n",
       "      <td>White matter diseases include wide spctrum dis...</td>\n",
       "      <td>white matter disease include a wide spctrum of...</td>\n",
       "      <td>Ticks Acari Ixodida are vector andor reservoir...</td>\n",
       "      <td>white matter disease include wide spctrum diso...</td>\n",
       "      <td>White matter disease include wide spctrum diso...</td>\n",
       "    </tr>\n",
       "    <tr>\n",
       "      <th>2071</th>\n",
       "      <td>3527</td>\n",
       "      <td>Radiographics</td>\n",
       "      <td>Neuroimaging of Emergent and Reemergent Infect...</td>\n",
       "      <td>[{'name': 'Rafael Lourenço do Carmo', 'affilia...</td>\n",
       "      <td>10.1148/rg.2019190020</td>\n",
       "      <td>2019.0</td>\n",
       "      <td>0</td>\n",
       "      <td>Journal Article</td>\n",
       "      <td>Infectious diseases emerge and reemerge over t...</td>\n",
       "      <td>NaN</td>\n",
       "      <td>...</td>\n",
       "      <td>Infectious diseases emerge and reemerge over t...</td>\n",
       "      <td>Infectious diseases emerge and reemerge over t...</td>\n",
       "      <td>(Infectious, diseases, emerge, and, reemerge, ...</td>\n",
       "      <td>[Infectious, diseases, emerge, and, reemerge, ...</td>\n",
       "      <td>Infectious diseases emerge reemerge years caus...</td>\n",
       "      <td>Infectious diseases emerge reemerge years many...</td>\n",
       "      <td>infectious disease emerge and reemerge over th...</td>\n",
       "      <td>Ticks Acari Ixodida are vector andor reservoir...</td>\n",
       "      <td>infectious disease emerge reemerge year cause ...</td>\n",
       "      <td>Infectious disease emerge reemerge year many c...</td>\n",
       "    </tr>\n",
       "    <tr>\n",
       "      <th>2652</th>\n",
       "      <td>4350</td>\n",
       "      <td>Current protocols</td>\n",
       "      <td>Transformation of Borrelia burgdorferi.</td>\n",
       "      <td>[{'name': 'J Seshu', 'affiliation': 'Departmen...</td>\n",
       "      <td>10.1002/cpz1.61</td>\n",
       "      <td>2021.0</td>\n",
       "      <td>0</td>\n",
       "      <td>Journal Article</td>\n",
       "      <td>Transformation techniques used to genetically ...</td>\n",
       "      <td>NaN</td>\n",
       "      <td>...</td>\n",
       "      <td>Transformation techniques used to genetically ...</td>\n",
       "      <td>Transformation techniques used to genetically ...</td>\n",
       "      <td>(Transformation, techniques, used, to, genetic...</td>\n",
       "      <td>[Transformation, techniques, used, to, genetic...</td>\n",
       "      <td>Transformation techniques genetically manipula...</td>\n",
       "      <td>Transformation techniques used genetically man...</td>\n",
       "      <td>transformation technique use to genetically ma...</td>\n",
       "      <td>Ticks Acari Ixodida are vector andor reservoir...</td>\n",
       "      <td>transformation technique genetically manipulat...</td>\n",
       "      <td>Transformation technique used genetically mani...</td>\n",
       "    </tr>\n",
       "  </tbody>\n",
       "</table>\n",
       "<p>3 rows × 24 columns</p>\n",
       "</div>"
      ],
      "text/plain": [
       "      index        publication  \\\n",
       "1368   2342      Radiographics   \n",
       "2071   3527      Radiographics   \n",
       "2652   4350  Current protocols   \n",
       "\n",
       "                                                  title  \\\n",
       "1368  White Matter Diseases with Radiologic-Patholog...   \n",
       "2071  Neuroimaging of Emergent and Reemergent Infect...   \n",
       "2652            Transformation of Borrelia burgdorferi.   \n",
       "\n",
       "                                                authors  \\\n",
       "1368  [{'name': 'Nicolae Sarbu', 'affiliation': 'Fro...   \n",
       "2071  [{'name': 'Rafael Lourenço do Carmo', 'affilia...   \n",
       "2652  [{'name': 'J Seshu', 'affiliation': 'Departmen...   \n",
       "\n",
       "                        doi    year  cites             type  \\\n",
       "1368  10.1148/rg.2016160031  2016.0      0  Journal Article   \n",
       "2071  10.1148/rg.2019190020  2019.0      0  Journal Article   \n",
       "2652        10.1002/cpz1.61  2021.0      0  Journal Article   \n",
       "\n",
       "                                               abstract  article_url  ...  \\\n",
       "1368  White matter diseases include a wide spectrum ...          NaN  ...   \n",
       "2071  Infectious diseases emerge and reemerge over t...          NaN  ...   \n",
       "2652  Transformation techniques used to genetically ...          NaN  ...   \n",
       "\n",
       "                                         clean_abstract  \\\n",
       "1368  White matter diseases include a wide spctrum o...   \n",
       "2071  Infectious diseases emerge and reemerge over t...   \n",
       "2652  Transformation techniques used to genetically ...   \n",
       "\n",
       "                                       cleaner_abstract  \\\n",
       "1368  White matter diseases include a wide spctrum o...   \n",
       "2071  Infectious diseases emerge and reemerge over t...   \n",
       "2652  Transformation techniques used to genetically ...   \n",
       "\n",
       "                                 tokenisedAbstractSpacy  \\\n",
       "1368  (White, matter, diseases, include, a, wide, sp...   \n",
       "2071  (Infectious, diseases, emerge, and, reemerge, ...   \n",
       "2652  (Transformation, techniques, used, to, genetic...   \n",
       "\n",
       "                                  tokenisedAbstractNLTK  \\\n",
       "1368  [White, matter, diseases, include, a, wide, sp...   \n",
       "2071  [Infectious, diseases, emerge, and, reemerge, ...   \n",
       "2652  [Transformation, techniques, used, to, genetic...   \n",
       "\n",
       "                                    abstractNoStopSpacy  \\\n",
       "1368  White matter diseases include wide spctrum dis...   \n",
       "2071  Infectious diseases emerge reemerge years caus...   \n",
       "2652  Transformation techniques genetically manipula...   \n",
       "\n",
       "                                     abstractNoStopNLTK  \\\n",
       "1368  White matter diseases include wide spctrum dis...   \n",
       "2071  Infectious diseases emerge reemerge years many...   \n",
       "2652  Transformation techniques used genetically man...   \n",
       "\n",
       "                                     abstractLemmaSpacy  \\\n",
       "1368  white matter disease include a wide spctrum of...   \n",
       "2071  infectious disease emerge and reemerge over th...   \n",
       "2652  transformation technique use to genetically ma...   \n",
       "\n",
       "                                      abstractLemmaNLTK  \\\n",
       "1368  Ticks Acari Ixodida are vector andor reservoir...   \n",
       "2071  Ticks Acari Ixodida are vector andor reservoir...   \n",
       "2652  Ticks Acari Ixodida are vector andor reservoir...   \n",
       "\n",
       "                               abstractLemmaNoStopSpacy  \\\n",
       "1368  white matter disease include wide spctrum diso...   \n",
       "2071  infectious disease emerge reemerge year cause ...   \n",
       "2652  transformation technique genetically manipulat...   \n",
       "\n",
       "                                abstractLemmaNoStopNLTK  \n",
       "1368  White matter disease include wide spctrum diso...  \n",
       "2071  Infectious disease emerge reemerge year many c...  \n",
       "2652  Transformation technique used genetically mani...  \n",
       "\n",
       "[3 rows x 24 columns]"
      ]
     },
     "execution_count": 750,
     "metadata": {},
     "output_type": "execute_result"
    }
   ],
   "source": [
    "LymeDisease[LymeDisease.abstract.str.contains('©')]"
   ]
  }
 ],
 "metadata": {
  "kernelspec": {
   "display_name": "Python 3",
   "language": "python",
   "name": "python3"
  },
  "language_info": {
   "codemirror_mode": {
    "name": "ipython",
    "version": 3
   },
   "file_extension": ".py",
   "mimetype": "text/x-python",
   "name": "python",
   "nbconvert_exporter": "python",
   "pygments_lexer": "ipython3",
   "version": "3.7.3"
  },
  "toc": {
   "base_numbering": 1,
   "nav_menu": {},
   "number_sections": true,
   "sideBar": true,
   "skip_h1_title": true,
   "title_cell": "Table of Contents",
   "title_sidebar": "Contents",
   "toc_cell": true,
   "toc_position": {
    "height": "calc(100% - 180px)",
    "left": "10px",
    "top": "150px",
    "width": "344px"
   },
   "toc_section_display": true,
   "toc_window_display": true
  },
  "varInspector": {
   "cols": {
    "lenName": 16,
    "lenType": 16,
    "lenVar": 40
   },
   "kernels_config": {
    "python": {
     "delete_cmd_postfix": "",
     "delete_cmd_prefix": "del ",
     "library": "var_list.py",
     "varRefreshCmd": "print(var_dic_list())"
    },
    "r": {
     "delete_cmd_postfix": ") ",
     "delete_cmd_prefix": "rm(",
     "library": "var_list.r",
     "varRefreshCmd": "cat(var_dic_list()) "
    }
   },
   "types_to_exclude": [
    "module",
    "function",
    "builtin_function_or_method",
    "instance",
    "_Feature"
   ],
   "window_display": false
  }
 },
 "nbformat": 4,
 "nbformat_minor": 2
}
